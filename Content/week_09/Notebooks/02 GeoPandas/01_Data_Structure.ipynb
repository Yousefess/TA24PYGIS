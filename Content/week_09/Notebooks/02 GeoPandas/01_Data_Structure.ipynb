{
 "cells": [
  {
   "cell_type": "markdown",
   "metadata": {},
   "source": [
    "## Data structures\n",
    "\n",
    "GeoPandas implements two main data structures, a [`GeoSeries`](https://geopandas.org/en/stable/docs/reference/api/geopandas.GeoSeries.html#geopandas.GeoSeries) and a [`GeoDataFrame`](https://geopandas.org/en/stable/docs/reference/api/geopandas.GeoDataFrame.html#geopandas.GeoDataFrame). These are subclasses of [`pandas.Series`](https://pandas.pydata.org/pandas-docs/stable/reference/api/pandas.Series.html#pandas.Series) and [`pandas.DataFrame`](https://pandas.pydata.org/pandas-docs/stable/reference/api/pandas.DataFrame.html#pandas.DataFrame), respectively.\n",
    "\n",
    "### GeoSeries\n",
    "\n",
    "A [`GeoSeries`](https://geopandas.org/en/stable/docs/reference/api/geopandas.GeoSeries.html#geopandas.GeoSeries) is essentially a vector where each entry in the vector is a set of shapes corresponding to one observation. An entry may consist of only one shape (like a single polygon) or multiple shapes that are meant to be thought of as one observation (like the many polygons that make up the State of Hawaii or a country like Indonesia).\n",
    "\n",
    "GeoPandas has three basic classes of geometric objects (which are actually shapely objects):\n",
    "\n",
    "- Points / Multi-Points\n",
    "- Lines / Multi-Lines\n",
    "- Polygons / Multi-Polygons\n",
    "\n",
    "Note that all entries in a [`GeoSeries`](https://geopandas.org/en/stable/docs/reference/api/geopandas.GeoSeries.html#geopandas.GeoSeries) need not be of the same geometric type, although certain export operations will fail if this is not the case.\n",
    "\n",
    "\n",
    "### GeoDataFrame\n",
    "\n",
    "A [`GeoDataFrame`](https://geopandas.org/en/stable/docs/reference/api/geopandas.GeoDataFrame.html#geopandas.GeoDataFrame) is a tabular data structure that contains a [`GeoSeries`](https://geopandas.org/en/stable/docs/reference/api/geopandas.GeoSeries.html#geopandas.GeoSeries).\n",
    "\n",
    "The most important property of a [`GeoDataFrame`](https://geopandas.org/en/stable/docs/reference/api/geopandas.GeoDataFrame.html#geopandas.GeoDataFrame) is that it always has one [`GeoSeries`](https://geopandas.org/en/stable/docs/reference/api/geopandas.GeoSeries.html#geopandas.GeoSeries) column that holds a special status. This [`GeoSeries`](https://geopandas.org/en/stable/docs/reference/api/geopandas.GeoSeries.html#geopandas.GeoSeries) is referred to as the [`GeoDataFrame`](https://geopandas.org/en/stable/docs/reference/api/geopandas.GeoDataFrame.html#geopandas.GeoDataFrame)’s “geometry”. When a spatial method is applied to a [`GeoDataFrame`](https://geopandas.org/en/stable/docs/reference/api/geopandas.GeoDataFrame.html#geopandas.GeoDataFrame) (or a spatial attribute like *`area`* is called), this commands will always act on the “geometry” column.\n",
    "\n",
    "The “geometry” column – no matter its name – can be accessed through the *`geometry`* attribute (*`gdf.geometry`*), and the name of the *`geometry`* column can be found by typing *`gdf.geometry.name`*.\n",
    "\n",
    "A [`GeoDataFrame`](https://geopandas.org/en/stable/docs/reference/api/geopandas.GeoDataFrame.html#geopandas.GeoDataFrame) may also contain other columns with geometrical (shapely) objects, but only one column can be the active geometry at a time. To change which column is the active geometry column, use the [`GeoDataFrame.set_geometry()`](https://geopandas.org/en/stable/docs/reference/api/geopandas.GeoDataFrame.set_geometry.html#geopandas.GeoDataFrame.set_geometry) method.\n",
    "\n",
    "An example using the *`geoda.malaria`* dataset from *`geodatasets`* containing the counties of Colombia:"
   ]
  },
  {
   "cell_type": "code",
   "execution_count": 2,
   "metadata": {},
   "outputs": [],
   "source": [
    "import geopandas\n",
    "import geodatasets\n",
    "import matplotlib.pyplot as plt"
   ]
  },
  {
   "cell_type": "code",
   "execution_count": null,
   "metadata": {},
   "outputs": [],
   "source": [
    "geodatasets.get_path('geoda.malaria')"
   ]
  },
  {
   "cell_type": "code",
   "execution_count": 4,
   "metadata": {},
   "outputs": [
    {
     "data": {
      "text/plain": [
       "'https://geodacenter.github.io/data-and-lab//data/malariacolomb.zip'"
      ]
     },
     "execution_count": 4,
     "metadata": {},
     "output_type": "execute_result"
    }
   ],
   "source": [
    "geodatasets.get_url('geoda.malaria')"
   ]
  },
  {
   "cell_type": "code",
   "execution_count": 5,
   "metadata": {},
   "outputs": [
    {
     "data": {
      "text/html": [
       "<div>\n",
       "<style scoped>\n",
       "    .dataframe tbody tr th:only-of-type {\n",
       "        vertical-align: middle;\n",
       "    }\n",
       "\n",
       "    .dataframe tbody tr th {\n",
       "        vertical-align: top;\n",
       "    }\n",
       "\n",
       "    .dataframe thead th {\n",
       "        text-align: right;\n",
       "    }\n",
       "</style>\n",
       "<table border=\"1\" class=\"dataframe\">\n",
       "  <thead>\n",
       "    <tr style=\"text-align: right;\">\n",
       "      <th></th>\n",
       "      <th>ID</th>\n",
       "      <th>ADM0</th>\n",
       "      <th>ADM1</th>\n",
       "      <th>ADM2</th>\n",
       "      <th>CODDEPT</th>\n",
       "      <th>IDDANE</th>\n",
       "      <th>DANECODE</th>\n",
       "      <th>TP1973</th>\n",
       "      <th>UP1973</th>\n",
       "      <th>RP1973</th>\n",
       "      <th>...</th>\n",
       "      <th>TP2003</th>\n",
       "      <th>UP2003</th>\n",
       "      <th>RP2003</th>\n",
       "      <th>TP2004</th>\n",
       "      <th>UP2004</th>\n",
       "      <th>RP2004</th>\n",
       "      <th>TP2005</th>\n",
       "      <th>UP2005</th>\n",
       "      <th>RP2005</th>\n",
       "      <th>geometry</th>\n",
       "    </tr>\n",
       "  </thead>\n",
       "  <tbody>\n",
       "    <tr>\n",
       "      <th>0</th>\n",
       "      <td>1</td>\n",
       "      <td>COLOMBIA</td>\n",
       "      <td>Guajira</td>\n",
       "      <td>URIBIA</td>\n",
       "      <td>44</td>\n",
       "      <td>44847</td>\n",
       "      <td>44847</td>\n",
       "      <td>57815</td>\n",
       "      <td>2881</td>\n",
       "      <td>54934</td>\n",
       "      <td>...</td>\n",
       "      <td>67709</td>\n",
       "      <td>6682</td>\n",
       "      <td>61027</td>\n",
       "      <td>68458</td>\n",
       "      <td>7053</td>\n",
       "      <td>61405</td>\n",
       "      <td>69203</td>\n",
       "      <td>7430</td>\n",
       "      <td>61773</td>\n",
       "      <td>POLYGON ((-71.32639 11.84789, -71.33579 11.855...</td>\n",
       "    </tr>\n",
       "    <tr>\n",
       "      <th>1</th>\n",
       "      <td>2</td>\n",
       "      <td>COLOMBIA</td>\n",
       "      <td>Guajira</td>\n",
       "      <td>MANAURE</td>\n",
       "      <td>44</td>\n",
       "      <td>44560</td>\n",
       "      <td>44560</td>\n",
       "      <td>5661</td>\n",
       "      <td>4074</td>\n",
       "      <td>1587</td>\n",
       "      <td>...</td>\n",
       "      <td>42371</td>\n",
       "      <td>8548</td>\n",
       "      <td>33823</td>\n",
       "      <td>44229</td>\n",
       "      <td>9096</td>\n",
       "      <td>35133</td>\n",
       "      <td>46134</td>\n",
       "      <td>9669</td>\n",
       "      <td>36465</td>\n",
       "      <td>POLYGON ((-72.42191 11.79824, -72.41980 11.795...</td>\n",
       "    </tr>\n",
       "    <tr>\n",
       "      <th>2</th>\n",
       "      <td>3</td>\n",
       "      <td>COLOMBIA</td>\n",
       "      <td>Guajira</td>\n",
       "      <td>MAICAO</td>\n",
       "      <td>44</td>\n",
       "      <td>44430</td>\n",
       "      <td>44430</td>\n",
       "      <td>36771</td>\n",
       "      <td>25161</td>\n",
       "      <td>11610</td>\n",
       "      <td>...</td>\n",
       "      <td>140121</td>\n",
       "      <td>122435</td>\n",
       "      <td>17686</td>\n",
       "      <td>144277</td>\n",
       "      <td>126249</td>\n",
       "      <td>18028</td>\n",
       "      <td>148517</td>\n",
       "      <td>130149</td>\n",
       "      <td>18368</td>\n",
       "      <td>POLYGON ((-72.18910 11.52420, -72.18330 11.532...</td>\n",
       "    </tr>\n",
       "    <tr>\n",
       "      <th>3</th>\n",
       "      <td>4</td>\n",
       "      <td>COLOMBIA</td>\n",
       "      <td>Guajira</td>\n",
       "      <td>RIOHACHA</td>\n",
       "      <td>44</td>\n",
       "      <td>44001</td>\n",
       "      <td>44001</td>\n",
       "      <td>46024</td>\n",
       "      <td>22545</td>\n",
       "      <td>23479</td>\n",
       "      <td>...</td>\n",
       "      <td>98318</td>\n",
       "      <td>90883</td>\n",
       "      <td>7435</td>\n",
       "      <td>98909</td>\n",
       "      <td>91408</td>\n",
       "      <td>7501</td>\n",
       "      <td>99472</td>\n",
       "      <td>91906</td>\n",
       "      <td>7566</td>\n",
       "      <td>POLYGON ((-72.63800 11.36790, -72.62590 11.349...</td>\n",
       "    </tr>\n",
       "    <tr>\n",
       "      <th>4</th>\n",
       "      <td>5</td>\n",
       "      <td>COLOMBIA</td>\n",
       "      <td>Magdalena</td>\n",
       "      <td>SITIONUEVO</td>\n",
       "      <td>47</td>\n",
       "      <td>47745</td>\n",
       "      <td>47745</td>\n",
       "      <td>16493</td>\n",
       "      <td>6289</td>\n",
       "      <td>10204</td>\n",
       "      <td>...</td>\n",
       "      <td>21058</td>\n",
       "      <td>11646</td>\n",
       "      <td>9412</td>\n",
       "      <td>21101</td>\n",
       "      <td>11723</td>\n",
       "      <td>9378</td>\n",
       "      <td>21143</td>\n",
       "      <td>11800</td>\n",
       "      <td>9343</td>\n",
       "      <td>POLYGON ((-74.77489 10.93158, -74.77530 10.933...</td>\n",
       "    </tr>\n",
       "  </tbody>\n",
       "</table>\n",
       "<p>5 rows × 51 columns</p>\n",
       "</div>"
      ],
      "text/plain": [
       "   ID      ADM0       ADM1        ADM2 CODDEPT  IDDANE DANECODE  TP1973  \\\n",
       "0   1  COLOMBIA    Guajira      URIBIA      44   44847    44847   57815   \n",
       "1   2  COLOMBIA    Guajira     MANAURE      44   44560    44560    5661   \n",
       "2   3  COLOMBIA    Guajira      MAICAO      44   44430    44430   36771   \n",
       "3   4  COLOMBIA    Guajira    RIOHACHA      44   44001    44001   46024   \n",
       "4   5  COLOMBIA  Magdalena  SITIONUEVO      47   47745    47745   16493   \n",
       "\n",
       "   UP1973  RP1973  ...  TP2003  UP2003  RP2003  TP2004  UP2004  RP2004  \\\n",
       "0    2881   54934  ...   67709    6682   61027   68458    7053   61405   \n",
       "1    4074    1587  ...   42371    8548   33823   44229    9096   35133   \n",
       "2   25161   11610  ...  140121  122435   17686  144277  126249   18028   \n",
       "3   22545   23479  ...   98318   90883    7435   98909   91408    7501   \n",
       "4    6289   10204  ...   21058   11646    9412   21101   11723    9378   \n",
       "\n",
       "   TP2005  UP2005  RP2005                                           geometry  \n",
       "0   69203    7430   61773  POLYGON ((-71.32639 11.84789, -71.33579 11.855...  \n",
       "1   46134    9669   36465  POLYGON ((-72.42191 11.79824, -72.41980 11.795...  \n",
       "2  148517  130149   18368  POLYGON ((-72.18910 11.52420, -72.18330 11.532...  \n",
       "3   99472   91906    7566  POLYGON ((-72.63800 11.36790, -72.62590 11.349...  \n",
       "4   21143   11800    9343  POLYGON ((-74.77489 10.93158, -74.77530 10.933...  \n",
       "\n",
       "[5 rows x 51 columns]"
      ]
     },
     "execution_count": 5,
     "metadata": {},
     "output_type": "execute_result"
    }
   ],
   "source": [
    "colombia = geopandas.read_file(geodatasets.get_path('geoda.malaria'))\n",
    "colombia.head()"
   ]
  },
  {
   "cell_type": "code",
   "execution_count": 10,
   "metadata": {},
   "outputs": [
    {
     "data": {
      "text/plain": [
       "<Axes: >"
      ]
     },
     "execution_count": 10,
     "metadata": {},
     "output_type": "execute_result"
    },
    {
     "data": {
      "image/png": "[encoded data removed]",
      "text/plain": [
       "<Figure size 640x480 with 1 Axes>"
      ]
     },
     "metadata": {},
     "output_type": "display_data"
    }
   ],
   "source": [
    "# Plot countries\n",
    "colombia.plot(markersize=0.5)"
   ]
  },
  {
   "cell_type": "code",
   "execution_count": 11,
   "metadata": {},
   "outputs": [
    {
     "data": {
      "text/plain": [
       "0       POLYGON ((-71.32639 11.84789, -71.33579 11.855...\n",
       "1       POLYGON ((-72.42191 11.79824, -72.41980 11.795...\n",
       "2       POLYGON ((-72.18910 11.52420, -72.18330 11.532...\n",
       "3       POLYGON ((-72.63800 11.36790, -72.62590 11.349...\n",
       "4       POLYGON ((-74.77489 10.93158, -74.77530 10.933...\n",
       "                              ...                        \n",
       "1063    POLYGON ((-77.11370 0.41700, -77.06590 0.48780...\n",
       "1064    MULTIPOLYGON (((-75.33747 10.69339, -75.31290 ...\n",
       "1065    MULTIPOLYGON (((-78.26750 12.06320, -78.25940 ...\n",
       "1066    MULTIPOLYGON (((-75.93092 9.42257, -75.93809 9...\n",
       "1067    MULTIPOLYGON (((-77.24330 12.39450, -77.24390 ...\n",
       "Name: geometry, Length: 1068, dtype: geometry"
      ]
     },
     "execution_count": 11,
     "metadata": {},
     "output_type": "execute_result"
    }
   ],
   "source": [
    "colombia.geometry"
   ]
  },
  {
   "cell_type": "code",
   "execution_count": 12,
   "metadata": {},
   "outputs": [
    {
     "data": {
      "text/plain": [
       "'geometry'"
      ]
     },
     "execution_count": 12,
     "metadata": {},
     "output_type": "execute_result"
    }
   ],
   "source": [
    "colombia.geometry.name"
   ]
  },
  {
   "cell_type": "code",
   "execution_count": 14,
   "metadata": {},
   "outputs": [
    {
     "data": {
      "text/html": [
       "<div>\n",
       "<style scoped>\n",
       "    .dataframe tbody tr th:only-of-type {\n",
       "        vertical-align: middle;\n",
       "    }\n",
       "\n",
       "    .dataframe tbody tr th {\n",
       "        vertical-align: top;\n",
       "    }\n",
       "\n",
       "    .dataframe thead th {\n",
       "        text-align: right;\n",
       "    }\n",
       "</style>\n",
       "<table border=\"1\" class=\"dataframe\">\n",
       "  <thead>\n",
       "    <tr style=\"text-align: right;\">\n",
       "      <th></th>\n",
       "      <th>ID</th>\n",
       "      <th>ADM0</th>\n",
       "      <th>ADM1</th>\n",
       "      <th>ADM2</th>\n",
       "      <th>CODDEPT</th>\n",
       "      <th>IDDANE</th>\n",
       "      <th>DANECODE</th>\n",
       "      <th>TP1973</th>\n",
       "      <th>UP1973</th>\n",
       "      <th>RP1973</th>\n",
       "      <th>...</th>\n",
       "      <th>TP2003</th>\n",
       "      <th>UP2003</th>\n",
       "      <th>RP2003</th>\n",
       "      <th>TP2004</th>\n",
       "      <th>UP2004</th>\n",
       "      <th>RP2004</th>\n",
       "      <th>TP2005</th>\n",
       "      <th>UP2005</th>\n",
       "      <th>RP2005</th>\n",
       "      <th>borders</th>\n",
       "    </tr>\n",
       "  </thead>\n",
       "  <tbody>\n",
       "    <tr>\n",
       "      <th>0</th>\n",
       "      <td>1</td>\n",
       "      <td>COLOMBIA</td>\n",
       "      <td>Guajira</td>\n",
       "      <td>URIBIA</td>\n",
       "      <td>44</td>\n",
       "      <td>44847</td>\n",
       "      <td>44847</td>\n",
       "      <td>57815</td>\n",
       "      <td>2881</td>\n",
       "      <td>54934</td>\n",
       "      <td>...</td>\n",
       "      <td>67709</td>\n",
       "      <td>6682</td>\n",
       "      <td>61027</td>\n",
       "      <td>68458</td>\n",
       "      <td>7053</td>\n",
       "      <td>61405</td>\n",
       "      <td>69203</td>\n",
       "      <td>7430</td>\n",
       "      <td>61773</td>\n",
       "      <td>POLYGON ((-71.32639 11.84789, -71.33579 11.855...</td>\n",
       "    </tr>\n",
       "    <tr>\n",
       "      <th>1</th>\n",
       "      <td>2</td>\n",
       "      <td>COLOMBIA</td>\n",
       "      <td>Guajira</td>\n",
       "      <td>MANAURE</td>\n",
       "      <td>44</td>\n",
       "      <td>44560</td>\n",
       "      <td>44560</td>\n",
       "      <td>5661</td>\n",
       "      <td>4074</td>\n",
       "      <td>1587</td>\n",
       "      <td>...</td>\n",
       "      <td>42371</td>\n",
       "      <td>8548</td>\n",
       "      <td>33823</td>\n",
       "      <td>44229</td>\n",
       "      <td>9096</td>\n",
       "      <td>35133</td>\n",
       "      <td>46134</td>\n",
       "      <td>9669</td>\n",
       "      <td>36465</td>\n",
       "      <td>POLYGON ((-72.42191 11.79824, -72.41980 11.795...</td>\n",
       "    </tr>\n",
       "    <tr>\n",
       "      <th>2</th>\n",
       "      <td>3</td>\n",
       "      <td>COLOMBIA</td>\n",
       "      <td>Guajira</td>\n",
       "      <td>MAICAO</td>\n",
       "      <td>44</td>\n",
       "      <td>44430</td>\n",
       "      <td>44430</td>\n",
       "      <td>36771</td>\n",
       "      <td>25161</td>\n",
       "      <td>11610</td>\n",
       "      <td>...</td>\n",
       "      <td>140121</td>\n",
       "      <td>122435</td>\n",
       "      <td>17686</td>\n",
       "      <td>144277</td>\n",
       "      <td>126249</td>\n",
       "      <td>18028</td>\n",
       "      <td>148517</td>\n",
       "      <td>130149</td>\n",
       "      <td>18368</td>\n",
       "      <td>POLYGON ((-72.18910 11.52420, -72.18330 11.532...</td>\n",
       "    </tr>\n",
       "    <tr>\n",
       "      <th>3</th>\n",
       "      <td>4</td>\n",
       "      <td>COLOMBIA</td>\n",
       "      <td>Guajira</td>\n",
       "      <td>RIOHACHA</td>\n",
       "      <td>44</td>\n",
       "      <td>44001</td>\n",
       "      <td>44001</td>\n",
       "      <td>46024</td>\n",
       "      <td>22545</td>\n",
       "      <td>23479</td>\n",
       "      <td>...</td>\n",
       "      <td>98318</td>\n",
       "      <td>90883</td>\n",
       "      <td>7435</td>\n",
       "      <td>98909</td>\n",
       "      <td>91408</td>\n",
       "      <td>7501</td>\n",
       "      <td>99472</td>\n",
       "      <td>91906</td>\n",
       "      <td>7566</td>\n",
       "      <td>POLYGON ((-72.63800 11.36790, -72.62590 11.349...</td>\n",
       "    </tr>\n",
       "    <tr>\n",
       "      <th>4</th>\n",
       "      <td>5</td>\n",
       "      <td>COLOMBIA</td>\n",
       "      <td>Magdalena</td>\n",
       "      <td>SITIONUEVO</td>\n",
       "      <td>47</td>\n",
       "      <td>47745</td>\n",
       "      <td>47745</td>\n",
       "      <td>16493</td>\n",
       "      <td>6289</td>\n",
       "      <td>10204</td>\n",
       "      <td>...</td>\n",
       "      <td>21058</td>\n",
       "      <td>11646</td>\n",
       "      <td>9412</td>\n",
       "      <td>21101</td>\n",
       "      <td>11723</td>\n",
       "      <td>9378</td>\n",
       "      <td>21143</td>\n",
       "      <td>11800</td>\n",
       "      <td>9343</td>\n",
       "      <td>POLYGON ((-74.77489 10.93158, -74.77530 10.933...</td>\n",
       "    </tr>\n",
       "  </tbody>\n",
       "</table>\n",
       "<p>5 rows × 51 columns</p>\n",
       "</div>"
      ],
      "text/plain": [
       "   ID      ADM0       ADM1        ADM2 CODDEPT  IDDANE DANECODE  TP1973  \\\n",
       "0   1  COLOMBIA    Guajira      URIBIA      44   44847    44847   57815   \n",
       "1   2  COLOMBIA    Guajira     MANAURE      44   44560    44560    5661   \n",
       "2   3  COLOMBIA    Guajira      MAICAO      44   44430    44430   36771   \n",
       "3   4  COLOMBIA    Guajira    RIOHACHA      44   44001    44001   46024   \n",
       "4   5  COLOMBIA  Magdalena  SITIONUEVO      47   47745    47745   16493   \n",
       "\n",
       "   UP1973  RP1973  ...  TP2003  UP2003  RP2003  TP2004  UP2004  RP2004  \\\n",
       "0    2881   54934  ...   67709    6682   61027   68458    7053   61405   \n",
       "1    4074    1587  ...   42371    8548   33823   44229    9096   35133   \n",
       "2   25161   11610  ...  140121  122435   17686  144277  126249   18028   \n",
       "3   22545   23479  ...   98318   90883    7435   98909   91408    7501   \n",
       "4    6289   10204  ...   21058   11646    9412   21101   11723    9378   \n",
       "\n",
       "   TP2005  UP2005  RP2005                                            borders  \n",
       "0   69203    7430   61773  POLYGON ((-71.32639 11.84789, -71.33579 11.855...  \n",
       "1   46134    9669   36465  POLYGON ((-72.42191 11.79824, -72.41980 11.795...  \n",
       "2  148517  130149   18368  POLYGON ((-72.18910 11.52420, -72.18330 11.532...  \n",
       "3   99472   91906    7566  POLYGON ((-72.63800 11.36790, -72.62590 11.349...  \n",
       "4   21143   11800    9343  POLYGON ((-74.77489 10.93158, -74.77530 10.933...  \n",
       "\n",
       "[5 rows x 51 columns]"
      ]
     },
     "execution_count": 14,
     "metadata": {},
     "output_type": "execute_result"
    }
   ],
   "source": [
    "colombia = colombia.rename_geometry('borders')\n",
    "colombia.head()"
   ]
  },
  {
   "cell_type": "code",
   "execution_count": 15,
   "metadata": {},
   "outputs": [
    {
     "data": {
      "text/plain": [
       "'borders'"
      ]
     },
     "execution_count": 15,
     "metadata": {},
     "output_type": "execute_result"
    }
   ],
   "source": [
    "colombia.geometry.name"
   ]
  },
  {
   "cell_type": "code",
   "execution_count": null,
   "metadata": {},
   "outputs": [],
   "source": [
    "colombia['centroid_column'] = colombia.centroid"
   ]
  },
  {
   "cell_type": "code",
   "execution_count": 24,
   "metadata": {},
   "outputs": [
    {
     "data": {
      "text/plain": [
       "<Axes: >"
      ]
     },
     "execution_count": 24,
     "metadata": {},
     "output_type": "execute_result"
    },
    {
     "data": {
      "image/png": "[encoded data removed]",
      "text/plain": [
       "<Figure size 640x480 with 1 Axes>"
      ]
     },
     "metadata": {},
     "output_type": "display_data"
    }
   ],
   "source": [
    "colombia = colombia.set_geometry('centroid_column')\n",
    "colombia.plot()"
   ]
  },
  {
   "cell_type": "markdown",
   "metadata": {},
   "source": [
    "Note: A [`GeoDataFrame`](https://geopandas.org/en/stable/docs/reference/api/geopandas.GeoDataFrame.html#geopandas.GeoDataFrame) keeps track of the active column by name, so if you rename the active geometry column, you must also reset the geometry:\n",
    "\n",
    "```python\n",
    "gdf = gdf.rename(columns={'old_name': 'new_name'}).set_geometry('new_name')\n",
    "```\n",
    "\n",
    "Note 2: Somewhat confusingly, by default when you use the [`read_file()`](https://geopandas.org/en/stable/docs/reference/api/geopandas.read_file.html#geopandas.read_file) command, the column containing spatial objects from the file is named “geometry” by default, and will be set as the active geometry column. However, despite using the same term for the name of the column and the name of the special attribute that keeps track of the active column, they are distinct. You can easily shift the active geometry column to a different [`GeoSeries`](https://geopandas.org/en/stable/docs/reference/api/geopandas.GeoSeries.html#geopandas.GeoSeries) with the [`set_geometry()`](https://geopandas.org/en/stable/docs/reference/api/geopandas.GeoDataFrame.set_geometry.html#geopandas.GeoDataFrame.set_geometry) command. Further, *`gdf.geometry`* will always return the active geometry column, not the column named *`geometry`*. If you wish to call a column named “geometry”, and a different column is the active geometry column, use *`gdf['geometry']`*, not *`gdf.geometry`*.\n",
    "\n",
    "### Attributes and methods\n",
    "\n",
    "Any of the attributes calls or methods described for a [`GeoSeries`](https://geopandas.org/en/stable/docs/reference/api/geopandas.GeoSeries.html#geopandas.GeoSeries) will work on a [`GeoDataFrame`](https://geopandas.org/en/stable/docs/reference/api/geopandas.GeoDataFrame.html#geopandas.GeoDataFrame) – effectively, they are just applied to the “geometry” [`GeoSeries`](https://geopandas.org/en/stable/docs/reference/api/geopandas.GeoSeries.html#geopandas.GeoSeries).\n",
    "\n",
    "However, [`GeoDataFrames`](https://geopandas.org/en/stable/docs/reference/api/geopandas.GeoDataFrame.html#geopandas.GeoDataFrame) also have a few extra methods for input and output which are described on the [Reading and writing files](https://geopandas.org/en/stable/docs/user_guide/io.html) page and for geocoding with are described in [Geocoding](https://geopandas.org/en/stable/docs/user_guide/geocoding.html).\n",
    "\n",
    "### Display options\n",
    "\n",
    "GeoPandas has an *`options`* attribute with currently a single configuration option to control:"
   ]
  },
  {
   "cell_type": "code",
   "execution_count": 26,
   "metadata": {},
   "outputs": [
    {
     "data": {
      "text/plain": [
       "Options(\n",
       "  display_precision: None [default: None]\n",
       "      The precision (maximum number of decimals) of the coordinates in the\n",
       "      WKT representation in the Series/DataFrame display. By default (None),\n",
       "      it tries to infer and use 3 decimals for projected coordinates and 5\n",
       "      decimals for geographic coordinates.\n",
       "  use_pygeos: False [default: False]\n",
       "      Whether to use PyGEOS to speed up spatial operations. The default is\n",
       "      True if PyGEOS is installed, and follows the USE_PYGEOS environment\n",
       "      variable if set.\n",
       "  io_engine: None [default: None]\n",
       "      The default engine for ``read_file`` and ``to_file``. Options are\n",
       "      'pyogrio' and 'fiona'.\n",
       "  )"
      ]
     },
     "execution_count": 26,
     "metadata": {},
     "output_type": "execute_result"
    }
   ],
   "source": [
    "geopandas.options"
   ]
  },
  {
   "cell_type": "markdown",
   "metadata": {},
   "source": [
    "The *`geopandas.options.display_precision`* option can control the number of decimals to show in the display of coordinates in the geometry column. In the *`colombia`* example of above, the default is to show 5 decimals for geographic coordinates:"
   ]
  },
  {
   "cell_type": "code",
   "execution_count": 27,
   "metadata": {},
   "outputs": [
    {
     "data": {
      "text/plain": [
       "0    POINT (-71.74594 12.00885)\n",
       "1    POINT (-72.56514 11.58174)\n",
       "2    POINT (-72.35203 11.32204)\n",
       "3    POINT (-73.14121 11.15251)\n",
       "4    POINT (-74.64555 10.88454)\n",
       "Name: centroid_column, dtype: geometry"
      ]
     },
     "execution_count": 27,
     "metadata": {},
     "output_type": "execute_result"
    }
   ],
   "source": [
    "colombia['centroid_column'].head()"
   ]
  },
  {
   "cell_type": "markdown",
   "metadata": {},
   "source": [
    "If you want to change this, for example to see more decimals, you can do:"
   ]
  },
  {
   "cell_type": "code",
   "execution_count": 30,
   "metadata": {},
   "outputs": [
    {
     "data": {
      "text/plain": [
       "0    POINT (-71.745940217 12.008854228)\n",
       "1    POINT (-72.565144214 11.581744777)\n",
       "2    POINT (-72.352030378 11.322036612)\n",
       "3    POINT (-73.141207300 11.152507044)\n",
       "4    POINT (-74.645551117 10.884543716)\n",
       "Name: centroid_column, dtype: geometry"
      ]
     },
     "execution_count": 30,
     "metadata": {},
     "output_type": "execute_result"
    }
   ],
   "source": [
    "geopandas.options.display_precision = 9\n",
    "\n",
    "colombia['centroid_column'].head()"
   ]
  },
  {
   "cell_type": "code",
   "execution_count": null,
   "metadata": {},
   "outputs": [],
   "source": []
  }
 ],
 "metadata": {
  "kernelspec": {
   "display_name": "geospatial",
   "language": "python",
   "name": "python3"
  },
  "language_info": {
   "codemirror_mode": {
    "name": "ipython",
    "version": 3
   },
   "file_extension": ".py",
   "mimetype": "text/x-python",
   "name": "python",
   "nbconvert_exporter": "python",
   "pygments_lexer": "ipython3",
   "version": "3.12.7"
  }
 },
 "nbformat": 4,
 "nbformat_minor": 2
}
