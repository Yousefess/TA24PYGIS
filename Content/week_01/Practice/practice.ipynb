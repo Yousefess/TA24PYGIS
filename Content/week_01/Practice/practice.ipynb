{
 "cells": [
  {
   "cell_type": "markdown",
   "metadata": {},
   "source": [
    "## [Practice Exercises - Python Basic Data Types](#)"
   ]
  },
  {
   "cell_type": "markdown",
   "metadata": {},
   "source": [
    "Here are some exercises to help you practice what you've learned about variables, constants, and reserved keywords in Python:"
   ]
  },
  {
   "cell_type": "markdown",
   "metadata": {},
   "source": [
    "1. **Simple Assignment**\n",
    "   - Create a variable named `fruit` and assign it the value \"apple\".\n",
    "   - Print the value of `fruit`.\n",
    "   - Change the value of `fruit` to \"banana\" and print it again."
   ]
  },
  {
   "cell_type": "code",
   "execution_count": null,
   "metadata": {},
   "outputs": [],
   "source": []
  },
  {
   "cell_type": "markdown",
   "metadata": {},
   "source": [
    "2. **Using Constants**\n",
    "   - Make a constant named `MAX_SCORE` and set its value to 100.\n",
    "   - Try to change the value of `MAX_SCORE` to 90 and see what happens. Can you change it? Why?"
   ]
  },
  {
   "cell_type": "code",
   "execution_count": null,
   "metadata": {},
   "outputs": [],
   "source": []
  },
  {
   "cell_type": "markdown",
   "metadata": {},
   "source": [
    "3. **Variable Names**\n",
    "   - Create three variables: `myAge`, `my_name`, and `MyHeight`.\n",
    "   - Assign any values to these variables and print them."
   ]
  },
  {
   "cell_type": "code",
   "execution_count": null,
   "metadata": {},
   "outputs": [],
   "source": []
  },
  {
   "cell_type": "markdown",
   "metadata": {},
   "source": [
    "4. **Reserved Keywords**\n",
    "   - Try to create a variable with the name `while`. What happens?\n",
    "   - Rename the variable to something that's not a reserved keyword and print its value."
   ]
  },
  {
   "cell_type": "code",
   "execution_count": null,
   "metadata": {},
   "outputs": [],
   "source": []
  },
  {
   "cell_type": "markdown",
   "metadata": {},
   "source": [
    "5. **Multiple Assignments**\n",
    "   - Assign values to three variables `x`, `y`, and `z` in a single line.\n",
    "   - Print the values of `x`, `y`, and `z`."
   ]
  },
  {
   "cell_type": "code",
   "execution_count": null,
   "metadata": {},
   "outputs": [],
   "source": []
  },
  {
   "cell_type": "markdown",
   "metadata": {},
   "source": [
    "## [Practice Exercises - List](#)"
   ]
  },
  {
   "cell_type": "markdown",
   "metadata": {},
   "source": [
    "Now that we've covered the basics of lists and some fundamental operations, let's reinforce our understanding with a few exercises."
   ]
  },
  {
   "cell_type": "markdown",
   "metadata": {},
   "source": [
    "1. **Create and Modify List**\n",
    "    - Create a list named `colors` containing 'red', 'green', 'blue', and 'yellow'. Then, change 'blue' to 'aqua' and append a new color, 'purple', to the list.\n"
   ]
  },
  {
   "cell_type": "code",
   "execution_count": null,
   "metadata": {},
   "outputs": [],
   "source": []
  },
  {
   "cell_type": "markdown",
   "metadata": {},
   "source": [
    "2. **Access and Slice**\n",
    "    - Given the list `nums = [0, 1, 2, 3, 4, 5, 6, 7, 8, 9]`, access and print the fifth element in `nums`, and create a slice of `nums` that contains only the even numbers."
   ]
  },
  {
   "cell_type": "code",
   "execution_count": null,
   "metadata": {},
   "outputs": [],
   "source": []
  },
  {
   "cell_type": "markdown",
   "metadata": {},
   "source": [
    "3. **List Membership Testing**\n",
    "    - Create a list containing your five favorite food items, then write a small script that checks if 'pizza' is among your favorites and prints an appropriate message whether it is found or not."
   ]
  },
  {
   "cell_type": "code",
   "execution_count": null,
   "metadata": {},
   "outputs": [],
   "source": []
  },
  {
   "cell_type": "markdown",
   "metadata": {},
   "source": [
    "4. **Concatenation and Repetition**\n",
    "    - Concatenate the following two lists `list_a = [1, 2, 3]` and `list_b = [4, 5, 6]` and create a third list that contains three repetitions of the concatenated list."
   ]
  },
  {
   "cell_type": "code",
   "execution_count": null,
   "metadata": {},
   "outputs": [],
   "source": []
  },
  {
   "cell_type": "markdown",
   "metadata": {},
   "source": [
    "5. **Iterating and Counting**\n",
    "    - Given a list `char_list = ['a', 'b', 'c', 'a', 'b', 'a']`, write code to count how many times 'a' appears in the list and print each unique character using a loop."
   ]
  },
  {
   "cell_type": "code",
   "execution_count": null,
   "metadata": {},
   "outputs": [],
   "source": []
  },
  {
   "cell_type": "markdown",
   "metadata": {},
   "source": [
    "## [Practice Exercise - Dictionary](#)"
   ]
  },
  {
   "cell_type": "markdown",
   "metadata": {},
   "source": [
    "After exploring the Python dictionaries, it's time to apply what we've learned."
   ]
  },
  {
   "cell_type": "markdown",
   "metadata": {},
   "source": [
    "1. **Membership Test**:\n",
    "   - Given a dictionary `city_presence = {'New York': True, 'Berlin': True, 'Tokyo': True, 'Sydney': True}`.\n",
    "   - Determine if 'London' and 'Tokyo' are keys in `city_presence` by using membership tests."
   ]
  },
  {
   "cell_type": "code",
   "execution_count": null,
   "metadata": {},
   "outputs": [],
   "source": []
  },
  {
   "cell_type": "markdown",
   "metadata": {},
   "source": [
    "2. **Default Values with `setdefault`**:\n",
    "   - Create a dictionary `student_score = {'Alice': 88, 'Bob': 95}`.\n",
    "   - Use the `setdefault` method to return 'Bob's score and insert 'Charlie' with a score of 0 if he doesn't exist in the dictionary. Display the dictionary after this operation."
   ]
  },
  {
   "cell_type": "code",
   "execution_count": null,
   "metadata": {},
   "outputs": [],
   "source": []
  },
  {
   "cell_type": "markdown",
   "metadata": {},
   "source": [
    "3. **Updating a Single Item**:\n",
    "   - Starting with the dictionary `preferences = {'color': 'blue', 'food': 'pizza', 'drink': 'water'}`.\n",
    "   - Update the value associated with the key 'drink' to 'orange juice'."
   ]
  },
  {
   "cell_type": "code",
   "execution_count": null,
   "metadata": {},
   "outputs": [],
   "source": []
  },
  {
   "cell_type": "markdown",
   "metadata": {},
   "source": [
    "4. **Dictionary Merging and Updating**:\n",
    "   - Create two dictionaries: `stock_A = {'apples': 5, 'oranges': 7}` and `stock_B = {'oranges': 12, 'bananas': 3}`.\n",
    "   - Update `stock_A` with the contents of `stock_B` and observe how the value for 'oranges' changes."
   ]
  },
  {
   "cell_type": "code",
   "execution_count": null,
   "metadata": {},
   "outputs": [],
   "source": []
  },
  {
   "cell_type": "markdown",
   "metadata": {},
   "source": [
    "5. **Nested Dictionary Access**:\n",
    "   - With a nested dictionary `account_info = {'user1': {'name': 'Alice', 'password': 'alice123'}, 'user2': {'name': 'Bob', 'password': 'bobsecure'}}`, access and display the password for 'user1'."
   ]
  },
  {
   "cell_type": "code",
   "execution_count": null,
   "metadata": {},
   "outputs": [],
   "source": []
  },
  {
   "cell_type": "markdown",
   "metadata": {},
   "source": [
    "## [Practice Exercises - Set](#)"
   ]
  },
  {
   "cell_type": "markdown",
   "metadata": {},
   "source": [
    "Now it's time to apply what you've learned about set operations. Here’s an exercise that will help reinforce the differences between set methods and operators:"
   ]
  },
  {
   "cell_type": "markdown",
   "metadata": {},
   "source": [
    "Given the following sets:\n",
    "- set_x = {10, 20, 30, 40, 50}\n",
    "- set_y = {30, 40, 50, 60, 70}\n",
    "- set_z = {5, 15, 25, 35}"
   ]
  },
  {
   "cell_type": "markdown",
   "metadata": {},
   "source": [
    "1. Find the union of `set_x` and `set_y` using both the `.union()` method and the `|` operator. Verify that the result is the same."
   ]
  },
  {
   "cell_type": "code",
   "execution_count": null,
   "metadata": {},
   "outputs": [],
   "source": []
  },
  {
   "cell_type": "markdown",
   "metadata": {},
   "source": [
    "2. Compute the intersection of `set_x`, `set_y`, and `set_z` using the `.intersection()` method."
   ]
  },
  {
   "cell_type": "code",
   "execution_count": null,
   "metadata": {},
   "outputs": [],
   "source": []
  },
  {
   "cell_type": "markdown",
   "metadata": {},
   "source": [
    "3. Determine the symmetric difference between `set_y` and `set_z` using both the `.symmetric_difference()` method and the `^` operator. Check if the outcomes match."
   ]
  },
  {
   "cell_type": "code",
   "execution_count": null,
   "metadata": {},
   "outputs": [],
   "source": []
  },
  {
   "cell_type": "markdown",
   "metadata": {},
   "source": [
    "4. Use the difference operator `-` to find elements in `set_x` that are not in `set_y`."
   ]
  },
  {
   "cell_type": "code",
   "execution_count": null,
   "metadata": {},
   "outputs": [],
   "source": []
  }
 ],
 "metadata": {
  "kernelspec": {
   "display_name": "ml",
   "language": "python",
   "name": "python3"
  },
  "language_info": {
   "codemirror_mode": {
    "name": "ipython",
    "version": 3
   },
   "file_extension": ".py",
   "mimetype": "text/x-python",
   "name": "python",
   "nbconvert_exporter": "python",
   "pygments_lexer": "ipython3",
   "version": "3.10.13"
  }
 },
 "nbformat": 4,
 "nbformat_minor": 2
}
