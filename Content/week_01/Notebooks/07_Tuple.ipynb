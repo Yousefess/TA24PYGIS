{
 "cells": [
  {
   "cell_type": "markdown",
   "metadata": {},
   "source": [
    "# <h1 style=\"color:red\">Tuple</h1>\n",
    "\n",
    "\n",
    "Tuples are often likened to immutable lists. What does that mean for us? While lists are dynamic, allowing elements to be modified, added, or removed, tuples are static and remain unchanged once they are created. This immutability is a superpower in certain contexts, making tuples a preferable choice for fixed collections of items.\n",
    "\n",
    "<img src=\"../Images/tuple.png\" width=\"600\">\n",
    "\n",
    "\n",
    "But why do we need another container if we already have lists? Tuples are not only about immutability. They are also faster than lists due to their static nature, making them optimal for constant sets of values. Moreover, their immutability allows them to be used as keys in dictionaries (will be covered in a future session) which is something lists cannot do. This makes them instrumental in scenarios where a fixed association between values is vital.\n",
    "\n",
    "\n",
    "Throughout today's lecture, you'll learn how to create and access tuple elements, while appreciating the depth and implications of their innate immutability. We'll cover essential operations that can be performed on tuples, drawing distinctions and parallels with our familiar friends, the lists.\n"
   ]
  },
  {
   "cell_type": "markdown",
   "metadata": {},
   "source": [
    "## [Creating and Accessing Tuples](#)\n",
    "\n",
    "As we transition from the flexibility of lists to the constancy of tuples, let's begin by understanding how to create and interact with these immutable sequences."
   ]
  },
  {
   "cell_type": "markdown",
   "metadata": {},
   "source": [
    "### [Creating Tuples](#)\n",
    "\n",
    "Creating a tuple is a straightforward process; it's quite similar to creating a list but with a key difference: instead of square brackets, we use parentheses.\n",
    "\n",
    "To define a simple tuple, you would do the following:\n"
   ]
  },
  {
   "cell_type": "code",
   "execution_count": 1,
   "metadata": {},
   "outputs": [],
   "source": [
    "my_tuple = (1, 2, 3)"
   ]
  },
  {
   "cell_type": "code",
   "execution_count": 2,
   "metadata": {},
   "outputs": [
    {
     "data": {
      "text/plain": [
       "(1, 2, 3)"
      ]
     },
     "execution_count": 2,
     "metadata": {},
     "output_type": "execute_result"
    }
   ],
   "source": [
    "my_tuple"
   ]
  },
  {
   "cell_type": "markdown",
   "metadata": {},
   "source": [
    "If you have no elements or just a single element, you'll write:"
   ]
  },
  {
   "cell_type": "code",
   "execution_count": 3,
   "metadata": {},
   "outputs": [
    {
     "data": {
      "text/plain": [
       "()"
      ]
     },
     "execution_count": 3,
     "metadata": {},
     "output_type": "execute_result"
    }
   ],
   "source": [
    "empty_tuple = ()\n",
    "empty_tuple"
   ]
  },
  {
   "cell_type": "code",
   "execution_count": 4,
   "metadata": {},
   "outputs": [
    {
     "data": {
      "text/plain": [
       "(4,)"
      ]
     },
     "execution_count": 4,
     "metadata": {},
     "output_type": "execute_result"
    }
   ],
   "source": [
    "single_element_tuple = (4, )\n",
    "single_element_tuple"
   ]
  },
  {
   "cell_type": "markdown",
   "metadata": {},
   "source": [
    "Now, why the comma for a single item? Without the comma, Python won’t recognize the expression as a tuple. Let's also briefly touch upon nested tuples – tuples that contain other tuples:"
   ]
  },
  {
   "cell_type": "code",
   "execution_count": 5,
   "metadata": {},
   "outputs": [],
   "source": [
    "nested_tuple = (1, (2, 3), 4)"
   ]
  },
  {
   "cell_type": "code",
   "execution_count": 6,
   "metadata": {},
   "outputs": [
    {
     "data": {
      "text/plain": [
       "(1, (2, 3), 4)"
      ]
     },
     "execution_count": 6,
     "metadata": {},
     "output_type": "execute_result"
    }
   ],
   "source": [
    "nested_tuple"
   ]
  },
  {
   "cell_type": "markdown",
   "metadata": {},
   "source": [
    "In the above example, the second element of `nested_tuple` is another tuple. Such structures can be very useful for representing complex data relationships while maintaining immutability."
   ]
  },
  {
   "cell_type": "markdown",
   "metadata": {},
   "source": [
    "### [Accessing Tuple Elements](#)\n",
    "\n",
    "Accessing the elements in a tuple is identical to accessing list elements—using indexing and slicing."
   ]
  },
  {
   "cell_type": "code",
   "execution_count": 7,
   "metadata": {},
   "outputs": [],
   "source": [
    "my_tuple = ('a', 'b', 'c', 'd', 'e')"
   ]
  },
  {
   "cell_type": "markdown",
   "metadata": {},
   "source": [
    "#### [Indexing](#)"
   ]
  },
  {
   "cell_type": "code",
   "execution_count": 8,
   "metadata": {},
   "outputs": [
    {
     "data": {
      "text/plain": [
       "'b'"
      ]
     },
     "execution_count": 8,
     "metadata": {},
     "output_type": "execute_result"
    }
   ],
   "source": [
    "my_tuple[1]"
   ]
  },
  {
   "cell_type": "markdown",
   "metadata": {},
   "source": [
    "#### [Slicing](#)"
   ]
  },
  {
   "cell_type": "code",
   "execution_count": 9,
   "metadata": {},
   "outputs": [
    {
     "data": {
      "text/plain": [
       "('b', 'c', 'd')"
      ]
     },
     "execution_count": 9,
     "metadata": {},
     "output_type": "execute_result"
    }
   ],
   "source": [
    "my_tuple[1:4]"
   ]
  },
  {
   "cell_type": "markdown",
   "metadata": {},
   "source": [
    "Even though tuples are immutable, accessing their elements follows the same zero-based index system we've seen with lists. Slices work the same way too, returning a new tuple with the requested elements.\n",
    "\n",
    "One significant distinction to remember is, unlike lists, you cannot change the elements of a tuple after it is defined. Attempting to do so will result in a `TypeError`."
   ]
  },
  {
   "cell_type": "code",
   "execution_count": 10,
   "metadata": {},
   "outputs": [
    {
     "ename": "TypeError",
     "evalue": "'tuple' object does not support item assignment",
     "output_type": "error",
     "traceback": [
      "\u001b[0;31m---------------------------------------------------------------------------\u001b[0m",
      "\u001b[0;31mTypeError\u001b[0m                                 Traceback (most recent call last)",
      "Cell \u001b[0;32mIn[10], line 1\u001b[0m\n\u001b[0;32m----> 1\u001b[0m \u001b[43mmy_tuple\u001b[49m\u001b[43m[\u001b[49m\u001b[38;5;241;43m1\u001b[39;49m\u001b[43m]\u001b[49m \u001b[38;5;241m=\u001b[39m \u001b[38;5;124m'\u001b[39m\u001b[38;5;124mx\u001b[39m\u001b[38;5;124m'\u001b[39m  \u001b[38;5;66;03m# Attempting to modify a tuple's element - raises a TypeError\u001b[39;00m\n",
      "\u001b[0;31mTypeError\u001b[0m: 'tuple' object does not support item assignment"
     ]
    }
   ],
   "source": [
    "my_tuple[1] = 'x'  # Attempting to modify a tuple's element - raises a TypeError"
   ]
  },
  {
   "cell_type": "markdown",
   "metadata": {},
   "source": [
    "This error reaffirms the tuple's commitment to immutability. Once you've created a tuple, you can count on it to remain the same throughout your program, which can be very useful for ensuring data doesn't get changed accidentally.\n",
    "\n",
    "By understanding how to create and access tuples, you now have a foundation upon which we can build more complex operations and leverage the power of immutable sequences within your programs. Just like with lists, practice is key: try creating and accessing elements in tuples to get a feel for their immutable nature."
   ]
  },
  {
   "cell_type": "markdown",
   "metadata": {},
   "source": [
    "## [Immutability of Tuples](#)\n",
    "\n",
    "In Python, tuples are synonymous with immutability. This means that once you create a tuple, its contents cannot be changed, added to, or removed. This feature distinguishes tuples from lists and adds a level of data protection and integrity to your programs."
   ]
  },
  {
   "cell_type": "markdown",
   "metadata": {},
   "source": [
    "### [Understanding Immutability](#)\n",
    "\n",
    "Immutability comes with several practical benefits:\n",
    "\n",
    "1. **Consistency**: The inability to change tuples ensures the data they contain is consistent wherever they're used.\n",
    "2. **Security**: Tuples prevent accidental data modification, protecting against certain types of bugs and maintaining data integrity.\n",
    "3. **Efficiency**: Tuples can be more memory-efficient and faster in certain contexts due to their immutable nature.\n",
    "4. **Usability as Dictionary Keys**: A tuple's immutability makes it hashable, allowing it to be used as a key in Python dictionaries, as long as all its contents are also immutable. You will learn more about dictionaries in a future session. We will also cover hashable objects in detail in a advanced topics."
   ]
  },
  {
   "cell_type": "markdown",
   "metadata": {},
   "source": [
    "### [Putting Immutability to Work](#)\n",
    "Given a tuple like `my_info`, once it's assigned, its contents are fixed:"
   ]
  },
  {
   "cell_type": "code",
   "execution_count": 11,
   "metadata": {},
   "outputs": [],
   "source": [
    "my_info = (\"Jane Doe\", \"123 Elm Street\", 28)"
   ]
  },
  {
   "cell_type": "markdown",
   "metadata": {},
   "source": [
    "If you attempt to change one of its values, you'll encounter an error:"
   ]
  },
  {
   "cell_type": "code",
   "execution_count": 12,
   "metadata": {},
   "outputs": [
    {
     "ename": "TypeError",
     "evalue": "'tuple' object does not support item assignment",
     "output_type": "error",
     "traceback": [
      "\u001b[0;31m---------------------------------------------------------------------------\u001b[0m",
      "\u001b[0;31mTypeError\u001b[0m                                 Traceback (most recent call last)",
      "Cell \u001b[0;32mIn[12], line 1\u001b[0m\n\u001b[0;32m----> 1\u001b[0m \u001b[43mmy_info\u001b[49m\u001b[43m[\u001b[49m\u001b[38;5;241;43m2\u001b[39;49m\u001b[43m]\u001b[49m \u001b[38;5;241m=\u001b[39m \u001b[38;5;241m29\u001b[39m  \u001b[38;5;66;03m# Raises a TypeError\u001b[39;00m\n",
      "\u001b[0;31mTypeError\u001b[0m: 'tuple' object does not support item assignment"
     ]
    }
   ],
   "source": [
    "my_info[2] = 29  # Raises a TypeError"
   ]
  },
  {
   "cell_type": "markdown",
   "metadata": {},
   "source": [
    "If you need to 'update' a piece of information, you have to create an entirely new tuple:"
   ]
  },
  {
   "cell_type": "code",
   "execution_count": 13,
   "metadata": {},
   "outputs": [],
   "source": [
    "my_info = my_info[:2] + (29,)"
   ]
  },
  {
   "cell_type": "markdown",
   "metadata": {},
   "source": [
    "This approach ensures the integrity of `my_info` throughout your code. Changes are intentional and explicit, reducing the chance of accidental data corruption.\n",
    "\n",
    "**Embracing the Immutable**\n",
    "\n",
    "While mutable data structures like lists allow for direct modification, tuples encourage you to create new tuples from existing ones, leading to a more functional programming style. As you write more Python code, this distinction influences your approach to structuring data and can guide you toward purposeful usage of your data containers.\n",
    "\n",
    "Remember, any attempt to change a tuple reflects a change in state or information, which should result in the creation of a new tuple instance. This concept will be reinforced as you experiment with operations on tuples in the following sections. Tuples aren't about changing; they're about enduring."
   ]
  },
  {
   "cell_type": "markdown",
   "metadata": {},
   "source": [
    "## [Operations on Tuples](#)\n",
    "Despite their immutability, tuples support a variety of operations which allow you to work with them effectively in your Python code. Most of these operations result in the creation of new tuples since the original tuples cannot be changed. Let us explore a few such operations that are compatible with tuples:"
   ]
  },
  {
   "cell_type": "markdown",
   "metadata": {},
   "source": [
    "### [Concatenation](#)\n",
    "Tuples can be joined using the `+` operator, which merges them into a new tuple:"
   ]
  },
  {
   "cell_type": "code",
   "execution_count": 14,
   "metadata": {},
   "outputs": [],
   "source": [
    "tuple1 = (1, 2, 3)\n",
    "tuple2 = (4, 5, 6)\n",
    "combined_tuple = tuple1 + tuple2"
   ]
  },
  {
   "cell_type": "code",
   "execution_count": 15,
   "metadata": {},
   "outputs": [
    {
     "data": {
      "text/plain": [
       "(1, 2, 3, 4, 5, 6)"
      ]
     },
     "execution_count": 15,
     "metadata": {},
     "output_type": "execute_result"
    }
   ],
   "source": [
    "combined_tuple"
   ]
  },
  {
   "cell_type": "markdown",
   "metadata": {},
   "source": [
    "This operation does not modify `tuple1` or `tuple2`; it produces a new tuple that is the concatenation of the two."
   ]
  },
  {
   "cell_type": "markdown",
   "metadata": {},
   "source": [
    "### [Repetition](#)\n",
    "Tuples can be repeated using the `*` operator, creating another tuple that repeats the original tuple's content a specified number of times:"
   ]
  },
  {
   "cell_type": "code",
   "execution_count": 16,
   "metadata": {},
   "outputs": [
    {
     "data": {
      "text/plain": [
       "(1, 2, 3, 1, 2, 3)"
      ]
     },
     "execution_count": 16,
     "metadata": {},
     "output_type": "execute_result"
    }
   ],
   "source": [
    "repeated_tuple = tuple1 * 2\n",
    "repeated_tuple"
   ]
  },
  {
   "cell_type": "markdown",
   "metadata": {},
   "source": [
    "Again, this creates a brand-new tuple, and `tuple1` remains unaltered."
   ]
  },
  {
   "cell_type": "markdown",
   "metadata": {},
   "source": [
    "### [Membership Testing](#)\n",
    "You can check if an element exists within a tuple with the `in` keyword:"
   ]
  },
  {
   "cell_type": "code",
   "execution_count": 17,
   "metadata": {},
   "outputs": [
    {
     "data": {
      "text/plain": [
       "True"
      ]
     },
     "execution_count": 17,
     "metadata": {},
     "output_type": "execute_result"
    }
   ],
   "source": [
    "5 in tuple2  # Evaluates to True"
   ]
  },
  {
   "cell_type": "code",
   "execution_count": 18,
   "metadata": {},
   "outputs": [
    {
     "data": {
      "text/plain": [
       "False"
      ]
     },
     "execution_count": 18,
     "metadata": {},
     "output_type": "execute_result"
    }
   ],
   "source": [
    "7 in tuple2  # Evaluates to False"
   ]
  },
  {
   "cell_type": "markdown",
   "metadata": {},
   "source": [
    "This operation is quite handy in conditional statements and loops."
   ]
  },
  {
   "cell_type": "markdown",
   "metadata": {},
   "source": [
    "### [Count and Index Methods](#)\n",
    "Tuples have two built-in methods: `.count()` and `.index()`, allowing the counting of occurrences of a value and finding the index of the first occurrence of a value, respectively:"
   ]
  },
  {
   "cell_type": "code",
   "execution_count": 19,
   "metadata": {},
   "outputs": [],
   "source": [
    "tuple3 = (1, 2, 3, 2, 4, 2)"
   ]
  },
  {
   "cell_type": "code",
   "execution_count": 20,
   "metadata": {},
   "outputs": [
    {
     "data": {
      "text/plain": [
       "3"
      ]
     },
     "execution_count": 20,
     "metadata": {},
     "output_type": "execute_result"
    }
   ],
   "source": [
    "# Count\n",
    "count_of_twos = tuple3.count(2)\n",
    "count_of_twos"
   ]
  },
  {
   "cell_type": "code",
   "execution_count": 21,
   "metadata": {},
   "outputs": [
    {
     "data": {
      "text/plain": [
       "1"
      ]
     },
     "execution_count": 21,
     "metadata": {},
     "output_type": "execute_result"
    }
   ],
   "source": [
    "# Index\n",
    "index_of_first_two = tuple3.index(2)\n",
    "index_of_first_two"
   ]
  },
  {
   "cell_type": "markdown",
   "metadata": {},
   "source": [
    "Both `.count()` and `.index()` methods do not alter the tuple but provide information about its content."
   ]
  },
  {
   "cell_type": "markdown",
   "metadata": {},
   "source": [
    "### [Sorting and Reversing](#)"
   ]
  },
  {
   "cell_type": "markdown",
   "metadata": {},
   "source": [
    "Tuples do not have a `.sort()` method like lists do since they are immutable. However, you can use the built-in `sorted()` function to sort a tuple and return a new tuple with the sorted elements:"
   ]
  },
  {
   "cell_type": "code",
   "execution_count": 22,
   "metadata": {},
   "outputs": [],
   "source": [
    "tuple4 = (1, 5, 3, 2, 4)"
   ]
  },
  {
   "cell_type": "code",
   "execution_count": 23,
   "metadata": {},
   "outputs": [
    {
     "data": {
      "text/plain": [
       "[1, 2, 3, 4, 5]"
      ]
     },
     "execution_count": 23,
     "metadata": {},
     "output_type": "execute_result"
    }
   ],
   "source": [
    "sorted(tuple4)"
   ]
  },
  {
   "cell_type": "markdown",
   "metadata": {},
   "source": [
    "Tuples also do not have a `.reverse()` method and you can use the built-in `reversed()` function to reverse a tuple and return a new tuple with the reversed elements:"
   ]
  },
  {
   "cell_type": "code",
   "execution_count": 24,
   "metadata": {},
   "outputs": [
    {
     "data": {
      "text/plain": [
       "(4, 2, 3, 5, 1)"
      ]
     },
     "execution_count": 24,
     "metadata": {},
     "output_type": "execute_result"
    }
   ],
   "source": [
    "tuple(reversed(tuple4))"
   ]
  },
  {
   "cell_type": "code",
   "execution_count": null,
   "metadata": {},
   "outputs": [],
   "source": []
  }
 ],
 "metadata": {
  "kernelspec": {
   "display_name": "base",
   "language": "python",
   "name": "python3"
  },
  "language_info": {
   "codemirror_mode": {
    "name": "ipython",
    "version": 3
   },
   "file_extension": ".py",
   "mimetype": "text/x-python",
   "name": "python",
   "nbconvert_exporter": "python",
   "pygments_lexer": "ipython3",
   "version": "3.10.13"
  }
 },
 "nbformat": 4,
 "nbformat_minor": 2
}
