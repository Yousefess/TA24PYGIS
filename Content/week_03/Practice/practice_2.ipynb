{
 "cells": [
  {
   "cell_type": "markdown",
   "metadata": {},
   "source": [
    "## <a id='toc6_'></a>[Practice Exercise: Organizing a Coding Workshop](#toc0_)"
   ]
  },
  {
   "cell_type": "markdown",
   "metadata": {},
   "source": [
    "You are organizing a coding workshop that covers various programming languages and tools. The workshop will have multiple sessions, and each session can cover different topics and have various numbers of speakers. You want to create a Python program to help organize the sessions more effectively, leveraging functions that can handle variable numbers of arguments.\n"
   ]
  },
  {
   "cell_type": "markdown",
   "metadata": {},
   "source": [
    "**Tasks:**\n",
    "\n",
    "1. Write a function named `plan_session` that uses tuple packing to accept a variable number of topics for a single session. The function should print out a list of topics planned for that session.\n",
    "\n",
    "2. Write a function named `session_details` that uses dictionary packing to accept various details about the session like the session's name, number of attendees, and room number. The function should print out all the details provided.\n",
    "\n",
    "3. Use argument tuple unpacking to call `plan_session` with a list of topics stored in a tuple for the session \"Web Development Basics\".\n",
    "\n",
    "4. Use argument dictionary unpacking to call `session_details` with details stored in a dictionary for the session \"Web Development Basics\".\n",
    "\n",
    "5. Combine both packing and unpacking techniques to organize a session named \"Advanced Python\", which includes unpacking a list of topics and unpacking session details from a dictionary.\n"
   ]
  },
  {
   "cell_type": "markdown",
   "metadata": {},
   "source": [
    "**Expected Output:**\n",
    "\n",
    "```sh\n",
    "Topics planned for this session: ['Python Basics', 'Data Types Fundamentals', 'Functions']\n",
    "Session Details:\n",
    "Name: Python Development Basics\n",
    "Attendees: 40\n",
    "Room: 105\n",
    "\n",
    "Topics planned for this session: ['Object Oriented Programming', 'Modules']\n",
    "Session Details:\n",
    "Name: Advanced Python\n",
    "Attendees: 25\n",
    "Room: 203\n",
    "```\n"
   ]
  },
  {
   "cell_type": "markdown",
   "metadata": {},
   "source": [
    "This exercise will help you practice the use of variable-length argument handling in Python, including both packing and unpacking techniques, in the context of a practical scenario. By completing these tasks, you will gain a deeper understanding of how to utilize these features to make your functions more flexible and adaptable to various inputs."
   ]
  },
  {
   "cell_type": "code",
   "execution_count": null,
   "metadata": {},
   "outputs": [],
   "source": []
  },
  {
   "cell_type": "markdown",
   "metadata": {},
   "source": [
    "**Explanation:**\n",
    "\n",
    "- In `plan_session`, the `*topics` parameter uses tuple packing to accept any number of topics. These are printed as a list to show what's planned for the session.\n",
    "- In `session_details`, the `**details` parameter uses dictionary packing to accept various named details about the session. These details are iterated over and printed.\n",
    "- When calling `plan_session` for \"Web Development Basics\", the `*` operator is used to unpack `web_dev_topics` tuple as individual arguments to the function.\n",
    "- Similarly, `session_details` is called with `**web_dev_details` to unpack the dictionary into keyword arguments for the function.\n",
    "- Finally, for \"Advanced Python\", both techniques are combined to demonstrate the flexibility of using packing and unpacking for organizing sessions with variable input types and lengths.\n"
   ]
  },
  {
   "cell_type": "markdown",
   "metadata": {},
   "source": [
    "## <a id='toc7_'></a>[Practice Exercise](#toc0_)"
   ]
  },
  {
   "cell_type": "markdown",
   "metadata": {},
   "source": [
    "For this exercise, you will practice writing a well-documented function in Python. This includes creating a comprehensive docstring and using type hints to enhance the clarity and usability of your code. By doing so, you will help future developers—or your future self—understand the purpose and use of your function quickly and easily.\n"
   ]
  },
  {
   "cell_type": "markdown",
   "metadata": {},
   "source": [
    "**Scenario:**\n",
    "Imagine you have written a function that calculates the area of a rectangle. Your task is to document this function properly using a docstring that includes a description of the function, its parameters, return value, and any additional information you think is relevant. You will also use type hints to indicate the expected data types for the function's parameters and return value.\n"
   ]
  },
  {
   "cell_type": "markdown",
   "metadata": {},
   "source": [
    "**Tasks:**\n",
    "\n",
    "1. **Write the Function**:\n",
    "   Define a function named `calculate_rectangle_area` that takes two parameters, `width` and `height`, which represent the dimensions of a rectangle.\n",
    "\n",
    "2. **Add a Docstring**:\n",
    "   Write a docstring for the `calculate_rectangle_area` function. Make sure to include:\n",
    "   - A brief description of what the function does.\n",
    "   - Descriptions of the parameters `width` and `height`.\n",
    "   - The expected return value description.\n",
    "\n",
    "3. **Include Type Hints**:\n",
    "   Add type hints to the function's parameters and return value. Assume the dimensions will be passed as floating-point numbers and the function will return the area as a floating-point number.\n",
    "\n",
    "4. **Access the Docstring**:\n",
    "   Write code that prints the docstring of the `calculate_rectangle_area` function using both the `help()` function and the `.__doc__` attribute.\n",
    "\n",
    "5. **Bonus: Explore Docstring Styles**:\n",
    "   Choose one of the docstring styles mentioned in the lecture (Google, NumPy/SciPy, reStructuredText, Epytext) and rewrite the docstring of your function to match that style.\n"
   ]
  },
  {
   "cell_type": "markdown",
   "metadata": {},
   "source": [
    "Complete these tasks to ensure that your `calculate_rectangle_area` function is well-documented and that anyone reading the code can understand how to use it. Remember, good documentation is as important as writing good code!"
   ]
  },
  {
   "cell_type": "code",
   "execution_count": null,
   "metadata": {},
   "outputs": [],
   "source": []
  },
  {
   "cell_type": "markdown",
   "metadata": {},
   "source": [
    "Executing the code will define the `calculate_rectangle_area` function with an appropriate docstring and type hints. It also includes code to print the docstring using the `.__doc__` attribute and display detailed help information with the `help()` function. The bonus task demonstrates how to write the docstring following the Google style guide for Python docstrings.\n"
   ]
  },
  {
   "cell_type": "markdown",
   "metadata": {},
   "source": [
    "## <a id='toc6_'></a>[Practice Exercise](#toc0_)"
   ]
  },
  {
   "cell_type": "markdown",
   "metadata": {},
   "source": [
    "Lambda functions, also known as anonymous functions, are a key feature of Python that allows for creating small, one-time-use functions without the need for a formal function definition. In this exercise, you will get to practice writing and using lambda functions in different scenarios, which will help you understand when and how to use them effectively.\n"
   ]
  },
  {
   "cell_type": "markdown",
   "metadata": {},
   "source": [
    "**Tasks:**\n",
    "\n",
    "1. **Create a Simple Lambda Function**:\n",
    "   Write a lambda function that takes a single argument `x` and returns the square of `x`. Demonstrate its use by passing a number and printing the result.\n",
    "\n",
    "2. **Lambda with Multiple Arguments**:\n",
    "   Define a lambda function that takes two arguments, `a` and `b`, and returns their product. Use the function to calculate the product of two numbers and print the result.\n",
    "\n",
    "3. **Combining Lambda with `filter()`**:\n",
    "   Given the list of ages, use a lambda function with the `filter()` function to create a list of all ages that are 18 or above (legal adulthood). Print the filtered list.\n",
    "\n",
    "   ```python\n",
    "   ages = [14, 18, 21, 16, 30, 45, 17, 22, 61]\n",
    "   ```\n",
    "\n",
    "4. **Using Lambda with `map()`**:\n",
    "   You have a list of prices in dollars. Use a lambda function with `map()` to apply a 10% discount to each price. Print the list of discounted prices.\n",
    "\n",
    "   ```python\n",
    "   prices = [19.99, 35.50, 89.99, 43.75]\n",
    "   ```\n",
    "\n",
    "5. **Lambda with Built-in Functions - Sorting**:\n",
    "   You have a list of tuples where each tuple contains the name of a product and its corresponding price. Use a lambda function as a key argument to the `sorted()` function to sort these products by price in ascending order. Print the sorted list.\n",
    "\n",
    "   ```python\n",
    "   products = [('apple', 1.0), ('banana', 0.5), ('cherry', 1.5), ('date', 0.75)]\n",
    "   ```\n",
    "\n",
    "6. **Bonus: Lambda for Custom Sorting**:\n",
    "   Imagine you have a list of dictionaries where each dictionary contains information about a book, specifically its title and the year it was published. Write a lambda function to sort the list of books by year of publication, from the oldest to the newest. Print the sorted list.\n",
    "\n",
    "   ```python\n",
    "   books = [\n",
    "       {'title': 'Book A', 'year': 2001},\n",
    "       {'title': 'Book B', 'year': 1999},\n",
    "       {'title': 'Book C', 'year': 2010},\n",
    "       {'title': 'Book D', 'year': 1985}\n",
    "   ]\n",
    "   ```\n"
   ]
  },
  {
   "cell_type": "markdown",
   "metadata": {},
   "source": [
    "**Sample Output:**\n",
    "```bash\n",
    "Square of 5 is 25\n",
    "Product of 4 and 6 is 24\n",
    "Adult ages: [18, 21, 30, 45, 22, 61]\n",
    "Discounted prices: [17.991, 31.95, 80.991, 39.375]\n",
    "Sorted products by price: [('banana', 0.5), ('date', 0.75), ('apple', 1.0), ('cherry', 1.5)]\n",
    "Sorted books by year: [{'title': 'Book D', 'year': 1985}, {'title': 'Book B', 'year': 1999}, {'title': 'Book A', 'year': 2001}, {'title': 'Book C', 'year': 2010}]\n",
    "```\n"
   ]
  },
  {
   "cell_type": "markdown",
   "metadata": {},
   "source": [
    "Use this exercise to practice the syntax and applications of lambda functions. Remember that while lambda functions can be powerful and convenient for short, simple operations, readability and maintainability should always be considered when deciding whether to use them in your code."
   ]
  },
  {
   "cell_type": "code",
   "execution_count": null,
   "metadata": {},
   "outputs": [],
   "source": []
  },
  {
   "cell_type": "markdown",
   "metadata": {},
   "source": [
    "This code provides the expected output for each task, demonstrating how to use lambda functions in combination with `filter()`, `map()`, and `sorted()` functions, as well as how to use them with different numbers of arguments. The bonus task shows a custom sorting application using a lambda function to sort a list of dictionaries by a specific key."
   ]
  },
  {
   "cell_type": "markdown",
   "metadata": {},
   "source": [
    "## <a id='toc3_'></a>[Practice Exercise](#toc0_)"
   ]
  },
  {
   "cell_type": "markdown",
   "metadata": {},
   "source": [
    "In this exercise, you will apply the knowledge you've gained about Python's built-in functions. Python provides a variety of built-in functions that can perform common tasks on various data types, such as strings, numbers, and lists. These functions are always available and do not require any additional imports, making them highly convenient for everyday coding tasks.\n"
   ]
  },
  {
   "cell_type": "markdown",
   "metadata": {},
   "source": [
    "Your challenge is to use the appropriate built-in functions to handle different data types and achieve specific outcomes. Below are the tasks that will test your understanding and ability to apply built-in functions effectively.\n"
   ]
  },
  {
   "cell_type": "markdown",
   "metadata": {},
   "source": [
    "**Given Data:**\n"
   ]
  },
  {
   "cell_type": "code",
   "execution_count": null,
   "metadata": {},
   "outputs": [],
   "source": [
    "text = \"The quick brown fox jumps over the lazy dog\"\n",
    "numbers_list = [8, 23, 45, 12, 78]\n",
    "mixed_list = [\"hello\", 10, \"world\", 42]"
   ]
  },
  {
   "cell_type": "markdown",
   "metadata": {},
   "source": [
    "**Tasks:**\n",
    "\n",
    "1. **String Analysis**:\n",
    "   - Find and print the number of characters in the `text` string using a built-in function.\n",
    "   - Convert the `text` string to uppercase and print the result.\n",
    "\n",
    "2. **Numeric Calculations**:\n",
    "   - Calculate and print the sum of all the numbers in `numbers_list`.\n",
    "   - Find and print the maximum and minimum numbers in `numbers_list`.\n",
    "\n",
    "3. **List Manipulation**:\n",
    "   - Use a built-in function to count the number of times the number `10` appears in `mixed_list`.\n",
    "   - Print a sorted version of `numbers_list` in descending order without modifying the original list.\n",
    "\n",
    "4. **Iterating with Built-in Functions**:\n",
    "   - Use a built-in function to iterate over `text` and print each word, but only if the word is not \"the\".\n",
    "   - Apply a built-in function to `numbers_list` to create a new list where each number is squared (i.e., number^2). Print the new list.\n"
   ]
  },
  {
   "cell_type": "markdown",
   "metadata": {},
   "source": [
    "**Expected Output:**\n",
    "```bash\n",
    "Number of characters: 43\n",
    "Uppercase text: THE QUICK BROWN FOX JUMPS OVER THE LAZY DOG\n",
    "Sum of numbers: 166\n",
    "Maximum number: 78\n",
    "Minimum number: 8\n",
    "Occurrences of 10: 1\n",
    "Sorted numbers (descending): [78, 45, 23, 12, 8]\n",
    "Iterated words (excluding 'the'): quick, brown, fox, jumps, over, lazy, dog\n",
    "Squared numbers: [64, 529, 2025, 144, 6084]\n",
    "```\n"
   ]
  },
  {
   "cell_type": "markdown",
   "metadata": {},
   "source": [
    "Use this exercise to strengthen your understanding of when and how to use built-in functions in Python. Remember, built-in functions are designed to make your code more readable and efficient. Make sure to test your code after you write it to ensure it produces the correct output."
   ]
  },
  {
   "cell_type": "code",
   "execution_count": null,
   "metadata": {},
   "outputs": [],
   "source": []
  },
  {
   "cell_type": "markdown",
   "metadata": {},
   "source": [
    "When you run this code, it will use built-in functions such as `len`, `sum`, `max`, `min`, `count`, `sorted`, `filter`, and `map` to perform the operations specified in the tasks. Test each task to verify that the output matches the expected results in the exercise prompt."
   ]
  }
 ],
 "metadata": {
  "language_info": {
   "name": "python"
  }
 },
 "nbformat": 4,
 "nbformat_minor": 2
}
