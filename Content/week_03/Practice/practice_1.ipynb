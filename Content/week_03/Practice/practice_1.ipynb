{
 "cells": [
  {
   "cell_type": "markdown",
   "metadata": {},
   "source": [
    "## [Practice Exercise](#)"
   ]
  },
  {
   "cell_type": "markdown",
   "metadata": {},
   "source": [
    "In this exercise, you will apply what you've learned about Python functions from this lecture. By defining and calling your own functions, you will practice creating modular and reusable code blocks. Functions are a fundamental aspect of Python programming, helping you adhere to the DRY (Don't Repeat Yourself) principle.\n"
   ]
  },
  {
   "cell_type": "markdown",
   "metadata": {},
   "source": [
    "**Tasks:**\n",
    "\n",
    "1. **Defining and Calling a Simple Function**:\n",
    "   Define a function named `greet` that prints \"Hello, World!\" to the console. Then, call this function to see the greeting printed out.\n",
    "\n",
    "2. **Creating a Function with Parameters**:\n",
    "   Define a function called `personalize_greeting` that takes a name as a parameter and prints a personalized greeting, \"Hello, [name]!\". Replace `[name]` with the actual name provided. Call this function with your name as an argument.\n",
    "\n",
    "3. **Calculating the Area of a Circle**:\n",
    "   Define a function named `circle_area` that takes the radius of a circle as a parameter and returns the area of the circle. Use the formula `area = π * radius^2` for the calculation (`π` can be approximated as `3.14159`). Call this function with a radius of `5` and print the result.\n",
    "\n",
    "4. **Using Multiple Parameters**:\n",
    "   Define a function called `add_numbers` that takes two parameters and returns their sum. Call this function with two numbers of your choice and print the result.\n",
    "\n",
    "5. **No Return Statement**:\n",
    "   Define a function called `print_menu` that prints a list of food items to the console but does not return anything. Call this function to display the menu.\n",
    "\n",
    "6. **Bonus: A Function that Returns Multiple Values**:\n",
    "   Define a function called `min_max` that takes a list of numbers as a parameter and returns both the minimum and maximum numbers in the list. Call this function with a list of numbers and unpack the results into two variables, then print those variables.\n"
   ]
  },
  {
   "cell_type": "markdown",
   "metadata": {},
   "source": [
    "**Expected Output:**\n",
    "```bash\n",
    "Hello, World!\n",
    "Hello, Alice!\n",
    "The area of the circle with radius 5 is 78.53975.\n",
    "The sum of 3 and 7 is 10.\n",
    "Menu: Pizza, Salad, Soup\n",
    "Minimum: 2, Maximum: 10\n",
    "```\n"
   ]
  },
  {
   "cell_type": "markdown",
   "metadata": {},
   "source": [
    "These tasks will reinforce the concepts covered in the lecture and help you become more familiar with defining and using functions in Python. Remember to use descriptive names for your functions and follow Python's naming conventions. Good luck, and enjoy writing your functions!"
   ]
  },
  {
   "cell_type": "code",
   "execution_count": null,
   "metadata": {},
   "outputs": [],
   "source": []
  },
  {
   "cell_type": "markdown",
   "metadata": {},
   "source": [
    "## [Practice Exercise: A Day at the Zoo](#)"
   ]
  },
  {
   "cell_type": "markdown",
   "metadata": {},
   "source": [
    "You are planning a visit to the local zoo with a group of students. The zoo has several sections for different kinds of animals, and each section has feeding times, special shows, and educational talks. To maximize the visit, you decide to write a Python program that helps organize the day's activities based on the group's preferences.\n"
   ]
  },
  {
   "cell_type": "markdown",
   "metadata": {},
   "source": [
    "**Tasks:**\n",
    "\n",
    "1. Write a function named `schedule_visit` that takes three parameters: `section` (the section of the zoo to visit, e.g., \"Reptiles\", \"Birds\"), `time` (the time you plan to visit that section), and `activity` with a default value of \"Feeding\". The function should print a message summarizing the visit plan for that section.\n",
    "\n",
    "2. Call the `schedule_visit` function for the \"Reptiles\" section at \"10:00 AM\" without specifying an activity to use the default value.\n",
    "\n",
    "3. Call the `schedule_visit` function for the \"Birds\" section at \"1:00 PM\" with the activity \"Educational Talk\".\n",
    "\n",
    "4. Write a function named `add_special_request` that takes two parameters: `section` and `request` with a default value of \"None\". This function should print a message indicating any special requests for the visit to that section. If no special request is made, the function should print that no special requests have been made for this section.\n",
    "\n",
    "5. Call the `add_special_request` function for the \"Reptiles\" section without specifying a request.\n",
    "\n",
    "6. Call the `add_special_request` function for the \"Mammals\" section with a special request of \"Wheelchair Access\".\n"
   ]
  },
  {
   "cell_type": "markdown",
   "metadata": {},
   "source": [
    "**Expected Output:**\n",
    "\n",
    "```sh\n",
    "Planning to visit Reptiles section at 10:00 AM for a Feeding activity.\n",
    "Planning to visit Birds section at 1:00 PM for an Educational Talk activity.\n",
    "No special requests have been made for the Reptiles section.\n",
    "Special request for the Mammals section: Wheelchair Access.\n",
    "```"
   ]
  },
  {
   "cell_type": "markdown",
   "metadata": {},
   "source": [
    "This exercise engages you in applying the concepts of default parameters and function calls with both positional and keyword arguments. It is designed to reflect a practical scenario where such programming techniques can organize information efficiently and flexibly."
   ]
  },
  {
   "cell_type": "code",
   "execution_count": null,
   "metadata": {},
   "outputs": [],
   "source": []
  },
  {
   "cell_type": "markdown",
   "metadata": {},
   "source": [
    "**Explanation:**\n",
    "\n",
    "- The `schedule_visit` function accepts three parameters. The `section` and `time` need to be provided, while `activity` defaults to \"Feeding\" if not specified. This design allows for flexibility in planning activities without the need to specify common activities every time.\n",
    "  \n",
    "- The `add_special_request` function is designed to handle special requests for each zoo section visit. If no specific request is made (using the default parameter value \"None\"), it informs that no special requests have been made for that section. This approach makes it convenient to handle situations where additional accommodations are not necessary.\n"
   ]
  },
  {
   "cell_type": "markdown",
   "metadata": {},
   "source": [
    "## <a id='toc4_'></a>[Practice Exercise: Temperature Conversion Tool with Data Validation](#toc0_)"
   ]
  },
  {
   "cell_type": "markdown",
   "metadata": {},
   "source": [
    "You're tasked with improving your temperature conversion tool. Your objective is to add input validation to each function, ensuring that they handle incorrect or unexpected input gracefully by printing an error message and returning `None`. This added robustness will make your tool more user-friendly and reliable.\n"
   ]
  },
  {
   "cell_type": "markdown",
   "metadata": {},
   "source": [
    "**Tasks:**\n",
    "\n",
    "1. Update the function `celsius_to_fahrenheit` to check if the input is either an integer or a float. If the input is not a number, print an error message and return `None`. Otherwise, calculate and return the equivalent temperature in Fahrenheit using the formula: Fahrenheit = (Celsius * 9/5) + 32.\n",
    "\n",
    "2. Revise the function `fahrenheit_to_celsius` in the same manner to validate the input. If the input is valid, use the formula: Celsius = (Fahrenheit - 32) * 5/9 to calculate and return the equivalent temperature in Celsius.\n",
    "\n",
    "3. Modify the function `water_state` to ensure the input is a number (either an integer or a float). The function should return \"Solid\" if the temperature is below 0, \"Liquid\" if the temperature is between 0 and 100 inclusive, and \"Gas\" if the temperature is above 100. For non-numeric inputs, print an error message and return `None`.\n",
    "\n",
    "4. Call `celsius_to_fahrenheit` with a valid value (e.g., 100) and an invalid value (e.g., \"hot\") and print the results.\n",
    "\n",
    "5. Call `fahrenheit_to_celsius` with a valid value (e.g., 32) and an invalid value (e.g., \"cold\") and print the results.\n",
    "\n",
    "6. Call `water_state` with a valid value (e.g., 25) and an invalid value (e.g., \"warm\") and print the results.\n"
   ]
  },
  {
   "cell_type": "markdown",
   "metadata": {},
   "source": [
    "**Expected Output:**\n",
    "\n",
    "```sh\n",
    "100 Celsius is 212.0 Fahrenheit.\n",
    "Error: Invalid input. Please enter a numeric value.\n",
    "32 Fahrenheit is 0.0 Celsius.\n",
    "Error: Invalid input. Please enter a numeric value.\n",
    "At 25 Celsius, water is in a Liquid state.\n",
    "Error: Invalid input. Please enter a numeric value.\n",
    "```\n"
   ]
  },
  {
   "cell_type": "markdown",
   "metadata": {},
   "source": [
    "**Hint:**\n",
    "- To check if a value is a number, you can use the condition `(type(value) == int) or (type(value) == float)`.\n",
    "- Ensure to display a user-friendly error message whenever you encounter invalid input, and then return `None`.\n"
   ]
  },
  {
   "cell_type": "markdown",
   "metadata": {},
   "source": [
    "This exercise encourages you to practice implementing functions with return values while also focusing on input validation, making your functions more robust and enhancing the user experience by preventing and handling errors gracefully."
   ]
  },
  {
   "cell_type": "code",
   "execution_count": null,
   "metadata": {},
   "outputs": [],
   "source": []
  }
 ],
 "metadata": {
  "language_info": {
   "name": "python"
  }
 },
 "nbformat": 4,
 "nbformat_minor": 2
}
