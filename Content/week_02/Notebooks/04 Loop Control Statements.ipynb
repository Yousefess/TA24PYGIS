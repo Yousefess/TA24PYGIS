{
 "cells": [
  {
   "cell_type": "markdown",
   "metadata": {},
   "source": [
    "# <h1 style=\"color:red\">Loop Control Statements</h1>"
   ]
  },
  {
   "cell_type": "markdown",
   "metadata": {},
   "source": [
    "In this section of our Python course, we introduce loop control statements: `break`, `continue`, and `pass`. These statements are used to alter the behavior of Python's loop constructs (`for` and `while` loops) during their execution. Understanding how to control the flow of loops is crucial for writing efficient and effective code.\n"
   ]
  },
  {
   "cell_type": "markdown",
   "metadata": {},
   "source": [
    "- The `break` statement provides a way to exit a loop prematurely when a certain condition is met.\n",
    "- The `continue` statement allows you to skip the rest of the current loop iteration and move on to the next one.\n",
    "- The `pass` statement acts as a placeholder and does nothing; it is used syntactically where a statement is required but no action is needed.\n"
   ]
  },
  {
   "cell_type": "markdown",
   "metadata": {},
   "source": [
    "By mastering these loop control statements, you will gain finer control over your loops' execution paths, enabling you to handle complex scenarios with ease. Let's explore each of these statements in more detail in the following sections."
   ]
  },
  {
   "cell_type": "markdown",
   "metadata": {},
   "source": [
    "## [Loop Control Statements](#)"
   ]
  },
  {
   "cell_type": "markdown",
   "metadata": {},
   "source": [
    "Loops are used in programming to repeat a block of code multiple times. Python provides several loop control statements that change the execution from its normal sequence. When execution leaves a scope, all automatic objects that were created in that scope are destroyed. Python supports the following control statements.\n"
   ]
  },
  {
   "cell_type": "markdown",
   "metadata": {},
   "source": [
    "### [The `break` Statement](#)\n"
   ]
  },
  {
   "cell_type": "markdown",
   "metadata": {},
   "source": [
    "The `break` statement is used to terminate the loop entirely. When a `break` statement is encountered inside a loop, the loop is immediately terminated and the program control resumes at the next statement following the loop.\n"
   ]
  },
  {
   "cell_type": "markdown",
   "metadata": {},
   "source": [
    "Example of `break`:\n"
   ]
  },
  {
   "cell_type": "code",
   "execution_count": 1,
   "metadata": {},
   "outputs": [
    {
     "name": "stdout",
     "output_type": "stream",
     "text": [
      "1\n",
      "2\n",
      "3\n",
      "4\n",
      "Loop ended.\n"
     ]
    }
   ],
   "source": [
    "# Using 'break' to exit a loop\n",
    "for i in range(1, 10):\n",
    "    if i == 5:\n",
    "        break\n",
    "    print(i)\n",
    "print(\"Loop ended.\")"
   ]
  },
  {
   "cell_type": "markdown",
   "metadata": {},
   "source": [
    "In this example, the loop will terminate when `i` equals 5, and \"Loop ended.\" will be printed to the console.\n"
   ]
  },
  {
   "cell_type": "markdown",
   "metadata": {},
   "source": [
    "### [The `continue` Statement](#)\n"
   ]
  },
  {
   "cell_type": "markdown",
   "metadata": {},
   "source": [
    "The `continue` statement is used to skip the rest of the code inside a loop for the current iteration only. The loop does not terminate but continues on with the next iteration.\n"
   ]
  },
  {
   "cell_type": "markdown",
   "metadata": {},
   "source": [
    "Example of `continue`:\n"
   ]
  },
  {
   "cell_type": "code",
   "execution_count": 2,
   "metadata": {},
   "outputs": [
    {
     "name": "stdout",
     "output_type": "stream",
     "text": [
      "1\n",
      "2\n",
      "3\n",
      "4\n",
      "6\n",
      "7\n",
      "8\n",
      "9\n",
      "Loop ended.\n"
     ]
    }
   ],
   "source": [
    "# Using 'continue' to skip an iteration\n",
    "for i in range(1, 10):\n",
    "    if i == 5:\n",
    "        continue\n",
    "    print(i)\n",
    "print(\"Loop ended.\")"
   ]
  },
  {
   "cell_type": "markdown",
   "metadata": {},
   "source": [
    "Here, the number 5 is not printed because when `i` is equal to 5, the `continue` statement causes the loop to skip the rest of its body for that iteration.\n"
   ]
  },
  {
   "cell_type": "markdown",
   "metadata": {},
   "source": [
    "### [The `pass` Statement](#)\n"
   ]
  },
  {
   "cell_type": "markdown",
   "metadata": {},
   "source": [
    "The `pass` statement is a null operation; nothing happens when it executes. It is used as a placeholder in a code block where a statement is syntactically required, but you do not want any command or code to execute.\n"
   ]
  },
  {
   "cell_type": "markdown",
   "metadata": {},
   "source": [
    "Example of `pass`:\n"
   ]
  },
  {
   "cell_type": "code",
   "execution_count": 3,
   "metadata": {},
   "outputs": [
    {
     "name": "stdout",
     "output_type": "stream",
     "text": [
      "1\n",
      "2\n",
      "3\n",
      "4\n",
      "5\n",
      "6\n",
      "7\n",
      "8\n",
      "9\n",
      "Loop ended.\n"
     ]
    }
   ],
   "source": [
    "# Using 'pass' as a placeholder\n",
    "for i in range(1, 10):\n",
    "    if i == 5:\n",
    "        pass  # TODO: Add logic for when i is 5\n",
    "    print(i)\n",
    "print(\"Loop ended.\")"
   ]
  },
  {
   "cell_type": "markdown",
   "metadata": {},
   "source": [
    "In this example, the `pass` statement does nothing when `i` equals 5, but it allows the loop to continue running and print all numbers from 1 to 9.\n"
   ]
  },
  {
   "cell_type": "markdown",
   "metadata": {},
   "source": [
    "## [Best Practices](#)\n"
   ]
  },
  {
   "cell_type": "markdown",
   "metadata": {},
   "source": [
    "When using loop control statements, keep the following in mind:\n",
    "\n",
    "- Use the `break` statement sparingly. It can make loops less predictable and harder to understand.\n",
    "- Use the `continue` statement when you need to skip over part of a loop for a certain condition.\n",
    "- Use the `pass` statement as a placeholder for future code. It reminds you or indicates to others that a piece of code is intentionally left blank at the moment.\n"
   ]
  }
 ],
 "metadata": {
  "kernelspec": {
   "display_name": "py310",
   "language": "python",
   "name": "python3"
  },
  "language_info": {
   "codemirror_mode": {
    "name": "ipython",
    "version": 3
   },
   "file_extension": ".py",
   "mimetype": "text/x-python",
   "name": "python",
   "nbconvert_exporter": "python",
   "pygments_lexer": "ipython3",
   "version": "3.10.13"
  }
 },
 "nbformat": 4,
 "nbformat_minor": 2
}
