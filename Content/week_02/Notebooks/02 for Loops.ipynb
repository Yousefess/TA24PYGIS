{
 "cells": [
  {
   "cell_type": "markdown",
   "metadata": {},
   "source": [
    "# <h1 style=\"color:red\">Looping Constructs in Python: `for` Loops</h1>"
   ]
  },
  {
   "cell_type": "markdown",
   "metadata": {},
   "source": [
    "In this section, we will explore the two primary types of loops available in Python:\n",
    "\n",
    "1. **The `for` Loop**: A `for` loop is used for iterating over a sequence, such as lists, tuples, dictionaries, sets, or strings. It is the go-to loop for a known number of iterations and is often employed in data processing and repetitive task execution.\n",
    "\n",
    "2. **The `while` Loop**: A `while` loop repeatedly executes a target statement as long as a given condition remains true. It is useful for scenarios where the number of iterations is not known in advance and for maintaining a loop under certain conditions."
   ]
  },
  {
   "cell_type": "markdown",
   "metadata": {},
   "source": [
    "Understanding these looping constructs will provide you with the tools to manipulate data, automate tasks, and implement solutions to a wide array of programming problems."
   ]
  },
  {
   "cell_type": "markdown",
   "metadata": {},
   "source": [
    "In this section, we will focus exclusively on the for loop, exploring its syntax, usages, and various forms, including iterating over different types of sequences, using the `range()` function, and employing nested loops."
   ]
  },
  {
   "cell_type": "markdown",
   "metadata": {},
   "source": [
    "## [Definite Iteration in Programming](#)"
   ]
  },
  {
   "cell_type": "markdown",
   "metadata": {},
   "source": [
    "Before we delve into the Python-specific for loop, let's take a moment to recognize the different types of for loops that exist across programming languages.\n"
   ]
  },
  {
   "cell_type": "markdown",
   "metadata": {},
   "source": [
    "Definite iteration, commonly known as a `for` loop, is a mechanism in programming where a block of code is repeatedly executed for a specified number of times. The keyword `for` is used to introduce this type of loop in most programming languages, including Python.\n"
   ]
  },
  {
   "cell_type": "markdown",
   "metadata": {},
   "source": [
    "Historically, there have been various forms of `for` loops provided by different languages. Below are brief descriptions of some of these styles:\n"
   ]
  },
  {
   "cell_type": "markdown",
   "metadata": {},
   "source": [
    "### [Numeric Range Loop](#)"
   ]
  },
  {
   "cell_type": "markdown",
   "metadata": {},
   "source": [
    "One of the simplest forms of the `for` loop is the numeric range loop, where the loop iterates over a sequence of numbers between a start and end value. It typically looks like this in languages such as BASIC, Algol, and Pascal:\n"
   ]
  },
  {
   "cell_type": "markdown",
   "metadata": {},
   "source": [
    "```pascal\n",
    "for i := 1 to 10 do\n",
    "    <loop body>\n",
    "```\n"
   ]
  },
  {
   "cell_type": "markdown",
   "metadata": {},
   "source": [
    "In this structure, the loop body is executed ten times, with the variable `i` taking on values from 1 to 10, incrementing by 1 with each iteration.\n"
   ]
  },
  {
   "cell_type": "markdown",
   "metadata": {},
   "source": [
    "### [Three-Expression Loop](#)"
   ]
  },
  {
   "cell_type": "markdown",
   "metadata": {},
   "source": [
    "Made popular by the C programming language, this form of `for` loop consists of three components:\n",
    "\n",
    "- An initialization statement.\n",
    "- A test expression that determines when the loop should terminate.\n",
    "- An iteration expression that updates the loop variable.\n"
   ]
  },
  {
   "cell_type": "markdown",
   "metadata": {},
   "source": [
    "```c\n",
    "for (i = 0; i < 10; i++) {\n",
    "    <loop body>\n",
    "}\n",
    "```\n"
   ]
  },
  {
   "cell_type": "markdown",
   "metadata": {},
   "source": [
    "Here's how this loop works:\n",
    "\n",
    "1. Initialize `i` to 0.\n",
    "2. Continue looping as long as `i < 10`.\n",
    "3. Increment `i` by 1 after each loop iteration.\n"
   ]
  },
  {
   "cell_type": "markdown",
   "metadata": {},
   "source": [
    "The flexibility of the expressions in the three-expression `for` loop makes it powerful. Similar constructs are found in C++, Java, PHP, and Perl.\n"
   ]
  },
  {
   "cell_type": "markdown",
   "metadata": {},
   "source": [
    "### [Collection-Based or Iterator-Based Loop](#)"
   ]
  },
  {
   "cell_type": "markdown",
   "metadata": {},
   "source": [
    "This variant of the `for` loop iterates over a collection of objects or an iterator, rather than working with numerical ranges or conditions directly:\n"
   ]
  },
  {
   "cell_type": "markdown",
   "metadata": {},
   "source": [
    "```python\n",
    "for item in collection:\n",
    "    <loop body>\n",
    "```\n"
   ]
  },
  {
   "cell_type": "markdown",
   "metadata": {},
   "source": [
    "In each iteration, the variable `item` is assigned the next value from the collection. This abstract form of looping is highly versatile and is used in various languages. Perl and PHP use a similar construct called `foreach`.\n"
   ]
  },
  {
   "cell_type": "markdown",
   "metadata": {},
   "source": [
    "For more information on the various implementations and history of the `for` loop across programming languages, you may visit the [For loop Wikipedia page](https://en.wikipedia.org/wiki/For_loop).\n"
   ]
  },
  {
   "cell_type": "markdown",
   "metadata": {},
   "source": [
    "In our exploration of the `for` loop in Python, we will see how Python's approach allows for clear and concise iteration over collections and ranges, making it a powerful tool in a programmer's arsenal."
   ]
  },
  {
   "cell_type": "markdown",
   "metadata": {},
   "source": [
    "## [The `for` Loop in Python](#)"
   ]
  },
  {
   "cell_type": "markdown",
   "metadata": {},
   "source": [
    "The `for` loop in Python is a versatile and powerful tool for iterating over the elements of a sequence or any iterable object. This includes built-in data types like lists, tuples, dictionaries, sets, and strings. Let's explore how to use the `for` loop with these different data types and other useful constructs such as `range()` and nested loops.\n"
   ]
  },
  {
   "cell_type": "markdown",
   "metadata": {},
   "source": [
    "### [Iterating Over Sequences](#)\n"
   ]
  },
  {
   "cell_type": "markdown",
   "metadata": {},
   "source": [
    "#### [Lists](#)\n",
    "A list in Python is an ordered collection of items. You can iterate over each item in a list using a `for` loop.\n"
   ]
  },
  {
   "cell_type": "code",
   "execution_count": 1,
   "metadata": {},
   "outputs": [
    {
     "name": "stdout",
     "output_type": "stream",
     "text": [
      "apple\n",
      "banana\n",
      "cherry\n"
     ]
    }
   ],
   "source": [
    "fruits = [\"apple\", \"banana\", \"cherry\"]\n",
    "for fruit in fruits:\n",
    "    print(fruit)"
   ]
  },
  {
   "cell_type": "markdown",
   "metadata": {},
   "source": [
    "#### [Tuples](#)"
   ]
  },
  {
   "cell_type": "markdown",
   "metadata": {},
   "source": [
    "Tuples are similar to lists but are immutable. Iteration over a tuple is done in the same way as with a list.\n"
   ]
  },
  {
   "cell_type": "code",
   "execution_count": 2,
   "metadata": {},
   "outputs": [
    {
     "name": "stdout",
     "output_type": "stream",
     "text": [
      "1\n",
      "2\n",
      "3\n"
     ]
    }
   ],
   "source": [
    "coordinates = (1, 2, 3)\n",
    "for coordinate in coordinates:\n",
    "    print(coordinate)"
   ]
  },
  {
   "cell_type": "markdown",
   "metadata": {},
   "source": [
    "#### [Dictionaries](#)\n",
    "Dictionaries store key-value pairs. You can iterate over the keys, values, or key-value pairs in a dictionary.\n"
   ]
  },
  {
   "cell_type": "code",
   "execution_count": 3,
   "metadata": {},
   "outputs": [
    {
     "name": "stdout",
     "output_type": "stream",
     "text": [
      "name\n",
      "age\n",
      "gender\n",
      "Alice\n",
      "25\n",
      "Female\n",
      "name: Alice\n",
      "age: 25\n",
      "gender: Female\n"
     ]
    }
   ],
   "source": [
    "person = {\"name\": \"Alice\", \"age\": 25, \"gender\": \"Female\"}\n",
    "# Iterating over keys\n",
    "for key in person:\n",
    "    print(key)\n",
    "\n",
    "# Iterating over values\n",
    "for value in person.values():\n",
    "    print(value)\n",
    "\n",
    "# Iterating over key-value pairs\n",
    "for key, value in person.items():\n",
    "    print(f\"{key}: {value}\")"
   ]
  },
  {
   "cell_type": "markdown",
   "metadata": {},
   "source": [
    "#### [Sets](#)"
   ]
  },
  {
   "cell_type": "markdown",
   "metadata": {},
   "source": [
    "Sets are unordered collections of unique elements. Iterating over a set is similar to iterating over a list.\n"
   ]
  },
  {
   "cell_type": "code",
   "execution_count": 4,
   "metadata": {},
   "outputs": [
    {
     "name": "stdout",
     "output_type": "stream",
     "text": [
      "1\n",
      "2\n",
      "3\n",
      "4\n",
      "5\n"
     ]
    }
   ],
   "source": [
    "numbers_set = {1, 2, 3, 4, 5}\n",
    "for number in numbers_set:\n",
    "    print(number)"
   ]
  },
  {
   "cell_type": "markdown",
   "metadata": {},
   "source": [
    "#### [Strings](#)\n",
    "Strings are sequences of characters, and you can iterate over each character using a `for` loop.\n"
   ]
  },
  {
   "cell_type": "code",
   "execution_count": 5,
   "metadata": {},
   "outputs": [
    {
     "name": "stdout",
     "output_type": "stream",
     "text": [
      "H\n",
      "e\n",
      "l\n",
      "l\n",
      "o\n"
     ]
    }
   ],
   "source": [
    "greeting = \"Hello\"\n",
    "for letter in greeting:\n",
    "    print(letter)"
   ]
  },
  {
   "cell_type": "markdown",
   "metadata": {},
   "source": [
    "## [Using `range()`](#)\n",
    "The `range()` function generates a sequence of numbers, which is often used for looping a specific number of times in `for` loops.\n"
   ]
  },
  {
   "cell_type": "code",
   "execution_count": 6,
   "metadata": {},
   "outputs": [
    {
     "name": "stdout",
     "output_type": "stream",
     "text": [
      "0\n",
      "1\n",
      "2\n",
      "3\n",
      "4\n"
     ]
    }
   ],
   "source": [
    "# Using range to iterate over a sequence of numbers\n",
    "for i in range(5):  # Will iterate over 0, 1, 2, 3, 4\n",
    "    print(i)"
   ]
  },
  {
   "cell_type": "code",
   "execution_count": 7,
   "metadata": {},
   "outputs": [
    {
     "name": "stdout",
     "output_type": "stream",
     "text": [
      "2\n",
      "4\n",
      "6\n",
      "8\n"
     ]
    }
   ],
   "source": [
    "# Using range with start, stop, and step arguments\n",
    "for i in range(2, 10, 2):  # Will iterate over 2, 4, 6, 8\n",
    "    print(i)"
   ]
  },
  {
   "cell_type": "markdown",
   "metadata": {},
   "source": [
    "## [Additional Functions in For Loops](#)"
   ]
  },
  {
   "cell_type": "markdown",
   "metadata": {},
   "source": [
    "In addition to iterating over simple sequences, Python provides several built-in functions that can be used to extend the functionality of `for` loops. These functions can help you write more concise and readable code. We will explore some of these functions, including `enumerate()` and `sorted()`. You will learn more functions later in the course.\n"
   ]
  },
  {
   "cell_type": "markdown",
   "metadata": {},
   "source": [
    "### [The `enumerate()` Function](#)"
   ]
  },
  {
   "cell_type": "markdown",
   "metadata": {},
   "source": [
    "The `enumerate()` function is commonly used when you need a counter along with the value from the iterable. It adds a counter to an iterable and returns it as an `enumerate` object, which can be easily converted into a list of tuples. The `enumerate()` function takes two arguments: the iterable and the starting index of the counter.\n",
    "\n",
    "```python\n",
    "enumerate(iterable, start=0)\n",
    "```\n"
   ]
  },
  {
   "cell_type": "markdown",
   "metadata": {},
   "source": [
    "For example, let's say you have a list of colors and you want to print the index of each color along with the color name. You can do this using the `enumerate()` function as follows:"
   ]
  },
  {
   "cell_type": "code",
   "execution_count": 8,
   "metadata": {},
   "outputs": [
    {
     "name": "stdout",
     "output_type": "stream",
     "text": [
      "0 red\n",
      "1 green\n",
      "2 blue\n",
      "3 yellow\n"
     ]
    }
   ],
   "source": [
    "colors = ['red', 'green', 'blue', 'yellow']\n",
    "for index, color in enumerate(colors):\n",
    "    print(index, color)"
   ]
  },
  {
   "cell_type": "markdown",
   "metadata": {},
   "source": [
    "### [The `sorted()` Function](#)"
   ]
  },
  {
   "cell_type": "markdown",
   "metadata": {},
   "source": [
    "The `sorted()` function returns a new sorted list from the elements of any iterable. It also takes a `reverse` argument that can be set to `True` to sort the iterable in reverse order.\n",
    "\n",
    "```python\n",
    "sorted(iterable, reverse=False)\n",
    "```"
   ]
  },
  {
   "cell_type": "markdown",
   "metadata": {},
   "source": [
    "For example, let's say you have a list of numbers and you want to print them in ascending order. You can do this using the `sorted()` function as follows:"
   ]
  },
  {
   "cell_type": "code",
   "execution_count": 9,
   "metadata": {},
   "outputs": [
    {
     "name": "stdout",
     "output_type": "stream",
     "text": [
      "1\n",
      "1\n",
      "2\n",
      "3\n",
      "4\n",
      "5\n",
      "5\n",
      "6\n",
      "9\n"
     ]
    }
   ],
   "source": [
    "numbers = [3, 1, 4, 1, 5, 9, 2, 6, 5]\n",
    "for number in sorted(numbers):\n",
    "    print(number)"
   ]
  },
  {
   "cell_type": "markdown",
   "metadata": {},
   "source": [
    "## [Nested Loops](#)"
   ]
  },
  {
   "cell_type": "markdown",
   "metadata": {},
   "source": [
    "A nested loop is a loop inside the body of another loop. It's useful when dealing with multi-dimensional data structures.\n"
   ]
  },
  {
   "cell_type": "code",
   "execution_count": 10,
   "metadata": {},
   "outputs": [],
   "source": [
    "# Example of a nested loop\n",
    "matrix = [\n",
    "    [1, 2, 3],\n",
    "    [4, 5, 6],\n",
    "    [7, 8, 9]\n",
    "]"
   ]
  },
  {
   "cell_type": "code",
   "execution_count": 11,
   "metadata": {},
   "outputs": [
    {
     "name": "stdout",
     "output_type": "stream",
     "text": [
      "1\n",
      "2\n",
      "3\n",
      "4\n",
      "5\n",
      "6\n",
      "7\n",
      "8\n",
      "9\n"
     ]
    }
   ],
   "source": [
    "# Iterate over each row in the matrix\n",
    "for row in matrix:\n",
    "    # Iterate over each element in the row\n",
    "    for element in row:\n",
    "        print(element)"
   ]
  },
  {
   "cell_type": "markdown",
   "metadata": {},
   "source": [
    "Nested loops can be used to perform more complex iterations, and the depth of nesting can be as much as the problem requires.\n"
   ]
  },
  {
   "cell_type": "code",
   "execution_count": null,
   "metadata": {},
   "outputs": [],
   "source": []
  }
 ],
 "metadata": {
  "kernelspec": {
   "display_name": "py310",
   "language": "python",
   "name": "python3"
  },
  "language_info": {
   "codemirror_mode": {
    "name": "ipython",
    "version": 3
   },
   "file_extension": ".py",
   "mimetype": "text/x-python",
   "name": "python",
   "nbconvert_exporter": "python",
   "pygments_lexer": "ipython3",
   "version": "3.10.13"
  }
 },
 "nbformat": 4,
 "nbformat_minor": 2
}
