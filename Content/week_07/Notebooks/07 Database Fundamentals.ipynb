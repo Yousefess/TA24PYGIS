{
 "cells": [
  {
   "cell_type": "markdown",
   "metadata": {},
   "source": [
    "# [Database Fundamentals for Data Processing](#)"
   ]
  },
  {
   "cell_type": "markdown",
   "metadata": {},
   "source": [
    "Databases are fundamental to modern data processing and management. They provide a structured way to store, retrieve, and manipulate large amounts of data efficiently. Understanding database concepts will help you better grasp how Pandas operates and why certain operations are structured the way they are.\n"
   ]
  },
  {
   "cell_type": "markdown",
   "metadata": {},
   "source": [
    "A **database** is an organized collection of data stored and accessed electronically. It's designed to efficiently manage, store, and retrieve information. Databases can range from simple collections stored in a single file to large, complex systems distributed across multiple servers.\n"
   ]
  },
  {
   "cell_type": "markdown",
   "metadata": {},
   "source": [
    "<img src=\"../images/database.png\" width=\"800\">"
   ]
  },
  {
   "cell_type": "markdown",
   "metadata": {},
   "source": [
    "Key characteristics of databases include:\n",
    "\n",
    "- **Data integrity**: Ensuring the accuracy and consistency of data over its lifecycle.\n",
    "- **Data security**: Controlling access to data and protecting it from unauthorized use.\n",
    "- **Data independence**: The ability to modify the database structure without affecting the programs that use it.\n",
    "- **Concurrent access**: Allowing multiple users to access and modify data simultaneously.\n"
   ]
  },
  {
   "cell_type": "markdown",
   "metadata": {},
   "source": [
    "There are several types of databases, but the three main categories are:\n",
    "\n",
    "1. **Relational Databases**:\n",
    "   - Use tables to store data, with rows representing records and columns representing fields.\n",
    "   - Employ Structured Query Language (SQL) for managing and querying data.\n",
    "   - Examples: MySQL, PostgreSQL, Oracle, Microsoft SQL Server.\n",
    "\n",
    "2. **NoSQL Databases**:\n",
    "   - Designed for specific data models with flexible schemas.\n",
    "   - Types include document, key-value, wide-column, and graph databases.\n",
    "   - Examples: MongoDB (document), Redis (key-value), Cassandra (wide-column), Neo4j (graph).\n",
    "\n",
    "3. **Time-Series Databases**:\n",
    "   - Optimized for handling time-series data, such as stock prices, sensor data, and server logs.\n",
    "   - Examples: InfluxDB, Prometheus, TimescaleDB."
   ]
  },
  {
   "cell_type": "markdown",
   "metadata": {},
   "source": [
    "<img src=\"../images/types-of-databases.png\" width=\"800\">"
   ]
  },
  {
   "cell_type": "markdown",
   "metadata": {},
   "source": [
    "For this lecture, we'll focus primarily on concepts related to relational databases, as they align closely with Pandas' DataFrame structure.\n"
   ]
  },
  {
   "cell_type": "markdown",
   "metadata": {},
   "source": [
    "Databases play a crucial role in data processing for several reasons:\n",
    "\n",
    "1. **Efficient data storage and retrieval**: Databases are optimized for handling large volumes of data quickly.\n",
    "\n",
    "2. **Data integrity and consistency**: They enforce rules and constraints to maintain data quality.\n",
    "\n",
    "3. **Concurrent access**: Multiple users or applications can work with the same data simultaneously.\n",
    "\n",
    "4. **Scalability**: Databases can grow to accommodate increasing amounts of data and users.\n",
    "\n",
    "5. **Security**: They provide mechanisms to control access to sensitive information.\n",
    "\n",
    "6. **Data relationships**: Relational databases can represent complex relationships between different data entities.\n"
   ]
  },
  {
   "cell_type": "markdown",
   "metadata": {},
   "source": [
    "Understanding database concepts will help you:\n",
    "- Organize your data more effectively in Pandas\n",
    "- Perform complex data manipulations and analyses\n",
    "- Understand the logic behind operations like merging, joining, and aggregating in Pandas\n",
    "- Work more efficiently with large datasets\n"
   ]
  },
  {
   "cell_type": "markdown",
   "metadata": {},
   "source": [
    "Let's create a simple example to illustrate how data might be structured in a database-like format using Pandas:\n"
   ]
  },
  {
   "cell_type": "code",
   "execution_count": 1,
   "metadata": {},
   "outputs": [],
   "source": [
    "import pandas as pd"
   ]
  },
  {
   "cell_type": "code",
   "execution_count": 2,
   "metadata": {},
   "outputs": [],
   "source": [
    "# Creating DataFrames to represent database tables\n",
    "customers = pd.DataFrame({\n",
    "    'customer_id': [1, 2, 3, 4],\n",
    "    'name': ['John Doe', 'Jane Smith', 'Bob Johnson', 'Alice Brown'],\n",
    "    'email': ['john@example.com', 'jane@example.com', 'bob@example.com', 'alice@example.com']\n",
    "})"
   ]
  },
  {
   "cell_type": "code",
   "execution_count": 3,
   "metadata": {},
   "outputs": [],
   "source": [
    "orders = pd.DataFrame({\n",
    "    'order_id': [101, 102, 103, 104, 105],\n",
    "    'customer_id': [1, 2, 1, 3, 4],\n",
    "    'product': ['Widget A', 'Widget B', 'Widget C', 'Widget A', 'Widget B'],\n",
    "    'quantity': [2, 1, 3, 1, 2],\n",
    "    'order_date': ['2023-05-01', '2023-05-02', '2023-05-03', '2023-05-04', '2023-05-05']\n",
    "})"
   ]
  },
  {
   "cell_type": "code",
   "execution_count": 4,
   "metadata": {},
   "outputs": [
    {
     "name": "stdout",
     "output_type": "stream",
     "text": [
      "Customers table:\n"
     ]
    },
    {
     "data": {
      "text/html": [
       "<div>\n",
       "<style scoped>\n",
       "    .dataframe tbody tr th:only-of-type {\n",
       "        vertical-align: middle;\n",
       "    }\n",
       "\n",
       "    .dataframe tbody tr th {\n",
       "        vertical-align: top;\n",
       "    }\n",
       "\n",
       "    .dataframe thead th {\n",
       "        text-align: right;\n",
       "    }\n",
       "</style>\n",
       "<table border=\"1\" class=\"dataframe\">\n",
       "  <thead>\n",
       "    <tr style=\"text-align: right;\">\n",
       "      <th></th>\n",
       "      <th>customer_id</th>\n",
       "      <th>name</th>\n",
       "      <th>email</th>\n",
       "    </tr>\n",
       "  </thead>\n",
       "  <tbody>\n",
       "    <tr>\n",
       "      <th>0</th>\n",
       "      <td>1</td>\n",
       "      <td>John Doe</td>\n",
       "      <td>john@example.com</td>\n",
       "    </tr>\n",
       "    <tr>\n",
       "      <th>1</th>\n",
       "      <td>2</td>\n",
       "      <td>Jane Smith</td>\n",
       "      <td>jane@example.com</td>\n",
       "    </tr>\n",
       "    <tr>\n",
       "      <th>2</th>\n",
       "      <td>3</td>\n",
       "      <td>Bob Johnson</td>\n",
       "      <td>bob@example.com</td>\n",
       "    </tr>\n",
       "    <tr>\n",
       "      <th>3</th>\n",
       "      <td>4</td>\n",
       "      <td>Alice Brown</td>\n",
       "      <td>alice@example.com</td>\n",
       "    </tr>\n",
       "  </tbody>\n",
       "</table>\n",
       "</div>"
      ],
      "text/plain": [
       "   customer_id         name              email\n",
       "0            1     John Doe   john@example.com\n",
       "1            2   Jane Smith   jane@example.com\n",
       "2            3  Bob Johnson    bob@example.com\n",
       "3            4  Alice Brown  alice@example.com"
      ]
     },
     "execution_count": 4,
     "metadata": {},
     "output_type": "execute_result"
    }
   ],
   "source": [
    "print(\"Customers table:\")\n",
    "customers"
   ]
  },
  {
   "cell_type": "code",
   "execution_count": 5,
   "metadata": {},
   "outputs": [
    {
     "name": "stdout",
     "output_type": "stream",
     "text": [
      "\n",
      "Orders table:\n"
     ]
    },
    {
     "data": {
      "text/html": [
       "<div>\n",
       "<style scoped>\n",
       "    .dataframe tbody tr th:only-of-type {\n",
       "        vertical-align: middle;\n",
       "    }\n",
       "\n",
       "    .dataframe tbody tr th {\n",
       "        vertical-align: top;\n",
       "    }\n",
       "\n",
       "    .dataframe thead th {\n",
       "        text-align: right;\n",
       "    }\n",
       "</style>\n",
       "<table border=\"1\" class=\"dataframe\">\n",
       "  <thead>\n",
       "    <tr style=\"text-align: right;\">\n",
       "      <th></th>\n",
       "      <th>order_id</th>\n",
       "      <th>customer_id</th>\n",
       "      <th>product</th>\n",
       "      <th>quantity</th>\n",
       "      <th>order_date</th>\n",
       "    </tr>\n",
       "  </thead>\n",
       "  <tbody>\n",
       "    <tr>\n",
       "      <th>0</th>\n",
       "      <td>101</td>\n",
       "      <td>1</td>\n",
       "      <td>Widget A</td>\n",
       "      <td>2</td>\n",
       "      <td>2023-05-01</td>\n",
       "    </tr>\n",
       "    <tr>\n",
       "      <th>1</th>\n",
       "      <td>102</td>\n",
       "      <td>2</td>\n",
       "      <td>Widget B</td>\n",
       "      <td>1</td>\n",
       "      <td>2023-05-02</td>\n",
       "    </tr>\n",
       "    <tr>\n",
       "      <th>2</th>\n",
       "      <td>103</td>\n",
       "      <td>1</td>\n",
       "      <td>Widget C</td>\n",
       "      <td>3</td>\n",
       "      <td>2023-05-03</td>\n",
       "    </tr>\n",
       "    <tr>\n",
       "      <th>3</th>\n",
       "      <td>104</td>\n",
       "      <td>3</td>\n",
       "      <td>Widget A</td>\n",
       "      <td>1</td>\n",
       "      <td>2023-05-04</td>\n",
       "    </tr>\n",
       "    <tr>\n",
       "      <th>4</th>\n",
       "      <td>105</td>\n",
       "      <td>4</td>\n",
       "      <td>Widget B</td>\n",
       "      <td>2</td>\n",
       "      <td>2023-05-05</td>\n",
       "    </tr>\n",
       "  </tbody>\n",
       "</table>\n",
       "</div>"
      ],
      "text/plain": [
       "   order_id  customer_id   product  quantity  order_date\n",
       "0       101            1  Widget A         2  2023-05-01\n",
       "1       102            2  Widget B         1  2023-05-02\n",
       "2       103            1  Widget C         3  2023-05-03\n",
       "3       104            3  Widget A         1  2023-05-04\n",
       "4       105            4  Widget B         2  2023-05-05"
      ]
     },
     "execution_count": 5,
     "metadata": {},
     "output_type": "execute_result"
    }
   ],
   "source": [
    "print(\"\\nOrders table:\")\n",
    "orders"
   ]
  },
  {
   "cell_type": "markdown",
   "metadata": {},
   "source": [
    "In this example, we've created two DataFrames that represent tables you might find in a simple e-commerce database. The `customers` table contains information about customers, while the `orders` table contains information about orders placed by these customers.\n"
   ]
  },
  {
   "cell_type": "markdown",
   "metadata": {},
   "source": [
    "As we progress through this lecture, we'll explore how to work with this data in ways that mimic database operations, setting the stage for more advanced Pandas operations in subsequent lectures."
   ]
  },
  {
   "cell_type": "markdown",
   "metadata": {},
   "source": [
    "## <a id='toc1_'></a>[Relational Database Concepts](#toc0_)"
   ]
  },
  {
   "cell_type": "markdown",
   "metadata": {},
   "source": [
    "Relational databases are the most common type of database used in data processing. They organize data into tables with predefined relationships between them. Understanding these concepts will help you work more effectively with structured data in Pandas.\n"
   ]
  },
  {
   "cell_type": "markdown",
   "metadata": {},
   "source": [
    "### <a id='toc1_1_'></a>[Tables, Rows, and Columns](#toc0_)\n"
   ]
  },
  {
   "cell_type": "markdown",
   "metadata": {},
   "source": [
    "In a relational database:\n",
    "\n",
    "- **Tables** (also called relations) represent entities or concepts (e.g., customers, orders).\n",
    "- **Rows** (or records) represent individual instances of that entity.\n",
    "- **Columns** (or fields) represent attributes of the entity.\n"
   ]
  },
  {
   "cell_type": "markdown",
   "metadata": {},
   "source": [
    "<img src=\"../images/table-row-column.png\" width=\"800\">"
   ]
  },
  {
   "cell_type": "markdown",
   "metadata": {},
   "source": [
    "Let's visualize this with our previous example:\n"
   ]
  },
  {
   "cell_type": "code",
   "execution_count": 6,
   "metadata": {},
   "outputs": [
    {
     "name": "stdout",
     "output_type": "stream",
     "text": [
      "Customers table:\n"
     ]
    },
    {
     "data": {
      "text/html": [
       "<div>\n",
       "<style scoped>\n",
       "    .dataframe tbody tr th:only-of-type {\n",
       "        vertical-align: middle;\n",
       "    }\n",
       "\n",
       "    .dataframe tbody tr th {\n",
       "        vertical-align: top;\n",
       "    }\n",
       "\n",
       "    .dataframe thead th {\n",
       "        text-align: right;\n",
       "    }\n",
       "</style>\n",
       "<table border=\"1\" class=\"dataframe\">\n",
       "  <thead>\n",
       "    <tr style=\"text-align: right;\">\n",
       "      <th></th>\n",
       "      <th>customer_id</th>\n",
       "      <th>name</th>\n",
       "      <th>email</th>\n",
       "    </tr>\n",
       "  </thead>\n",
       "  <tbody>\n",
       "    <tr>\n",
       "      <th>0</th>\n",
       "      <td>1</td>\n",
       "      <td>John Doe</td>\n",
       "      <td>john@example.com</td>\n",
       "    </tr>\n",
       "    <tr>\n",
       "      <th>1</th>\n",
       "      <td>2</td>\n",
       "      <td>Jane Smith</td>\n",
       "      <td>jane@example.com</td>\n",
       "    </tr>\n",
       "    <tr>\n",
       "      <th>2</th>\n",
       "      <td>3</td>\n",
       "      <td>Bob Johnson</td>\n",
       "      <td>bob@example.com</td>\n",
       "    </tr>\n",
       "    <tr>\n",
       "      <th>3</th>\n",
       "      <td>4</td>\n",
       "      <td>Alice Brown</td>\n",
       "      <td>alice@example.com</td>\n",
       "    </tr>\n",
       "  </tbody>\n",
       "</table>\n",
       "</div>"
      ],
      "text/plain": [
       "   customer_id         name              email\n",
       "0            1     John Doe   john@example.com\n",
       "1            2   Jane Smith   jane@example.com\n",
       "2            3  Bob Johnson    bob@example.com\n",
       "3            4  Alice Brown  alice@example.com"
      ]
     },
     "execution_count": 6,
     "metadata": {},
     "output_type": "execute_result"
    }
   ],
   "source": [
    "print(\"Customers table:\")\n",
    "customers"
   ]
  },
  {
   "cell_type": "code",
   "execution_count": 7,
   "metadata": {},
   "outputs": [
    {
     "name": "stdout",
     "output_type": "stream",
     "text": [
      "\n",
      "Orders table:\n"
     ]
    },
    {
     "data": {
      "text/html": [
       "<div>\n",
       "<style scoped>\n",
       "    .dataframe tbody tr th:only-of-type {\n",
       "        vertical-align: middle;\n",
       "    }\n",
       "\n",
       "    .dataframe tbody tr th {\n",
       "        vertical-align: top;\n",
       "    }\n",
       "\n",
       "    .dataframe thead th {\n",
       "        text-align: right;\n",
       "    }\n",
       "</style>\n",
       "<table border=\"1\" class=\"dataframe\">\n",
       "  <thead>\n",
       "    <tr style=\"text-align: right;\">\n",
       "      <th></th>\n",
       "      <th>order_id</th>\n",
       "      <th>customer_id</th>\n",
       "      <th>product</th>\n",
       "      <th>quantity</th>\n",
       "      <th>order_date</th>\n",
       "    </tr>\n",
       "  </thead>\n",
       "  <tbody>\n",
       "    <tr>\n",
       "      <th>0</th>\n",
       "      <td>101</td>\n",
       "      <td>1</td>\n",
       "      <td>Widget A</td>\n",
       "      <td>2</td>\n",
       "      <td>2023-05-01</td>\n",
       "    </tr>\n",
       "    <tr>\n",
       "      <th>1</th>\n",
       "      <td>102</td>\n",
       "      <td>2</td>\n",
       "      <td>Widget B</td>\n",
       "      <td>1</td>\n",
       "      <td>2023-05-02</td>\n",
       "    </tr>\n",
       "    <tr>\n",
       "      <th>2</th>\n",
       "      <td>103</td>\n",
       "      <td>1</td>\n",
       "      <td>Widget C</td>\n",
       "      <td>3</td>\n",
       "      <td>2023-05-03</td>\n",
       "    </tr>\n",
       "    <tr>\n",
       "      <th>3</th>\n",
       "      <td>104</td>\n",
       "      <td>3</td>\n",
       "      <td>Widget A</td>\n",
       "      <td>1</td>\n",
       "      <td>2023-05-04</td>\n",
       "    </tr>\n",
       "    <tr>\n",
       "      <th>4</th>\n",
       "      <td>105</td>\n",
       "      <td>4</td>\n",
       "      <td>Widget B</td>\n",
       "      <td>2</td>\n",
       "      <td>2023-05-05</td>\n",
       "    </tr>\n",
       "  </tbody>\n",
       "</table>\n",
       "</div>"
      ],
      "text/plain": [
       "   order_id  customer_id   product  quantity  order_date\n",
       "0       101            1  Widget A         2  2023-05-01\n",
       "1       102            2  Widget B         1  2023-05-02\n",
       "2       103            1  Widget C         3  2023-05-03\n",
       "3       104            3  Widget A         1  2023-05-04\n",
       "4       105            4  Widget B         2  2023-05-05"
      ]
     },
     "execution_count": 7,
     "metadata": {},
     "output_type": "execute_result"
    }
   ],
   "source": [
    "print(\"\\nOrders table:\")\n",
    "orders"
   ]
  },
  {
   "cell_type": "markdown",
   "metadata": {},
   "source": [
    "Here, `customers` and `orders` are tables. Each row in `customers` represents a unique customer, and each row in `orders` represents a unique order. The columns represent attributes like name, email, product, etc.\n"
   ]
  },
  {
   "cell_type": "markdown",
   "metadata": {},
   "source": [
    "### <a id='toc1_2_'></a>[Primary Keys and Foreign Keys](#toc0_)\n"
   ]
  },
  {
   "cell_type": "markdown",
   "metadata": {},
   "source": [
    "- **Primary Key**: A column (or set of columns) that uniquely identifies each row in a table.\n",
    "- **Foreign Key**: A column that refers to the primary key in another table, establishing a relationship between the tables.\n"
   ]
  },
  {
   "cell_type": "markdown",
   "metadata": {},
   "source": [
    "<img src=\"../images/primary-key.png\" width=\"800\">"
   ]
  },
  {
   "cell_type": "markdown",
   "metadata": {},
   "source": [
    "<img src=\"../images/foreign-key.png\" width=\"800\">"
   ]
  },
  {
   "cell_type": "markdown",
   "metadata": {},
   "source": [
    "In our example:\n",
    "- `customer_id` is the primary key in the `customers` table.\n",
    "- In the `orders` table, `order_id` is the primary key, and `customer_id` is a foreign key referencing the `customers` table.\n"
   ]
  },
  {
   "cell_type": "markdown",
   "metadata": {},
   "source": [
    "### <a id='toc1_3_'></a>[Relationships Between Tables](#toc0_)\n"
   ]
  },
  {
   "cell_type": "markdown",
   "metadata": {},
   "source": [
    "There are three main types of relationships between tables:\n",
    "\n",
    "1. **One-to-One (1:1)**: Each record in Table A is related to exactly one record in Table B, and vice versa.\n",
    "\n",
    "2. **One-to-Many (1:N)**: Each record in Table A can be related to multiple records in Table B, but each record in Table B is related to only one record in Table A.\n",
    "\n",
    "3. **Many-to-Many (M:N)**: Multiple records in Table A can be related to multiple records in Table B, and vice versa.\n"
   ]
  },
  {
   "cell_type": "markdown",
   "metadata": {},
   "source": [
    "<img src=\"../images/many-to-many.png\" width=\"800\">"
   ]
  },
  {
   "cell_type": "markdown",
   "metadata": {},
   "source": [
    "<img src=\"../images/one-to-many.png\" width=\"800\">"
   ]
  },
  {
   "cell_type": "markdown",
   "metadata": {},
   "source": [
    "<img src=\"../images/one-to-one.png\" width=\"800\">"
   ]
  },
  {
   "cell_type": "markdown",
   "metadata": {},
   "source": [
    "In our example, we have a One-to-Many relationship between `customers` and `orders`. One customer can have many orders, but each order belongs to only one customer.\n"
   ]
  },
  {
   "cell_type": "markdown",
   "metadata": {},
   "source": [
    "Let's demonstrate these concepts with some Pandas operations:\n"
   ]
  },
  {
   "cell_type": "code",
   "execution_count": 8,
   "metadata": {},
   "outputs": [
    {
     "name": "stdout",
     "output_type": "stream",
     "text": [
      "Primary Key of customers table:\n"
     ]
    },
    {
     "data": {
      "text/plain": [
       "0    1\n",
       "1    2\n",
       "2    3\n",
       "3    4\n",
       "Name: customer_id, dtype: int64"
      ]
     },
     "execution_count": 8,
     "metadata": {},
     "output_type": "execute_result"
    }
   ],
   "source": [
    "# Displaying the primary key (customer_id) of the customers table\n",
    "print(\"Primary Key of customers table:\")\n",
    "customers['customer_id']"
   ]
  },
  {
   "cell_type": "code",
   "execution_count": 9,
   "metadata": {},
   "outputs": [
    {
     "name": "stdout",
     "output_type": "stream",
     "text": [
      "\n",
      "Foreign Key in orders table:\n"
     ]
    },
    {
     "data": {
      "text/plain": [
       "0    1\n",
       "1    2\n",
       "2    1\n",
       "3    3\n",
       "4    4\n",
       "Name: customer_id, dtype: int64"
      ]
     },
     "execution_count": 9,
     "metadata": {},
     "output_type": "execute_result"
    }
   ],
   "source": [
    "# Showing the foreign key (customer_id) in the orders table\n",
    "print(\"\\nForeign Key in orders table:\")\n",
    "orders['customer_id']"
   ]
  },
  {
   "cell_type": "code",
   "execution_count": 10,
   "metadata": {},
   "outputs": [
    {
     "name": "stdout",
     "output_type": "stream",
     "text": [
      "\n",
      "Number of orders per customer:\n"
     ]
    },
    {
     "data": {
      "text/plain": [
       "customer_id\n",
       "1    2\n",
       "2    1\n",
       "3    1\n",
       "4    1\n",
       "Name: count, dtype: int64"
      ]
     },
     "execution_count": 10,
     "metadata": {},
     "output_type": "execute_result"
    }
   ],
   "source": [
    "# Demonstrating the One-to-Many relationship\n",
    "# Count of orders per customer\n",
    "order_counts = orders['customer_id'].value_counts().sort_index()\n",
    "print(\"\\nNumber of orders per customer:\")\n",
    "order_counts"
   ]
  },
  {
   "cell_type": "code",
   "execution_count": 11,
   "metadata": {},
   "outputs": [
    {
     "name": "stdout",
     "output_type": "stream",
     "text": [
      "\n",
      "Merged data (customers and their orders):\n"
     ]
    },
    {
     "data": {
      "text/html": [
       "<div>\n",
       "<style scoped>\n",
       "    .dataframe tbody tr th:only-of-type {\n",
       "        vertical-align: middle;\n",
       "    }\n",
       "\n",
       "    .dataframe tbody tr th {\n",
       "        vertical-align: top;\n",
       "    }\n",
       "\n",
       "    .dataframe thead th {\n",
       "        text-align: right;\n",
       "    }\n",
       "</style>\n",
       "<table border=\"1\" class=\"dataframe\">\n",
       "  <thead>\n",
       "    <tr style=\"text-align: right;\">\n",
       "      <th></th>\n",
       "      <th>customer_id</th>\n",
       "      <th>name</th>\n",
       "      <th>email</th>\n",
       "      <th>order_id</th>\n",
       "      <th>product</th>\n",
       "      <th>quantity</th>\n",
       "      <th>order_date</th>\n",
       "    </tr>\n",
       "  </thead>\n",
       "  <tbody>\n",
       "    <tr>\n",
       "      <th>0</th>\n",
       "      <td>1</td>\n",
       "      <td>John Doe</td>\n",
       "      <td>john@example.com</td>\n",
       "      <td>101</td>\n",
       "      <td>Widget A</td>\n",
       "      <td>2</td>\n",
       "      <td>2023-05-01</td>\n",
       "    </tr>\n",
       "    <tr>\n",
       "      <th>1</th>\n",
       "      <td>1</td>\n",
       "      <td>John Doe</td>\n",
       "      <td>john@example.com</td>\n",
       "      <td>103</td>\n",
       "      <td>Widget C</td>\n",
       "      <td>3</td>\n",
       "      <td>2023-05-03</td>\n",
       "    </tr>\n",
       "    <tr>\n",
       "      <th>2</th>\n",
       "      <td>2</td>\n",
       "      <td>Jane Smith</td>\n",
       "      <td>jane@example.com</td>\n",
       "      <td>102</td>\n",
       "      <td>Widget B</td>\n",
       "      <td>1</td>\n",
       "      <td>2023-05-02</td>\n",
       "    </tr>\n",
       "    <tr>\n",
       "      <th>3</th>\n",
       "      <td>3</td>\n",
       "      <td>Bob Johnson</td>\n",
       "      <td>bob@example.com</td>\n",
       "      <td>104</td>\n",
       "      <td>Widget A</td>\n",
       "      <td>1</td>\n",
       "      <td>2023-05-04</td>\n",
       "    </tr>\n",
       "    <tr>\n",
       "      <th>4</th>\n",
       "      <td>4</td>\n",
       "      <td>Alice Brown</td>\n",
       "      <td>alice@example.com</td>\n",
       "      <td>105</td>\n",
       "      <td>Widget B</td>\n",
       "      <td>2</td>\n",
       "      <td>2023-05-05</td>\n",
       "    </tr>\n",
       "  </tbody>\n",
       "</table>\n",
       "</div>"
      ],
      "text/plain": [
       "   customer_id         name              email  order_id   product  quantity  \\\n",
       "0            1     John Doe   john@example.com       101  Widget A         2   \n",
       "1            1     John Doe   john@example.com       103  Widget C         3   \n",
       "2            2   Jane Smith   jane@example.com       102  Widget B         1   \n",
       "3            3  Bob Johnson    bob@example.com       104  Widget A         1   \n",
       "4            4  Alice Brown  alice@example.com       105  Widget B         2   \n",
       "\n",
       "   order_date  \n",
       "0  2023-05-01  \n",
       "1  2023-05-03  \n",
       "2  2023-05-02  \n",
       "3  2023-05-04  \n",
       "4  2023-05-05  "
      ]
     },
     "execution_count": 11,
     "metadata": {},
     "output_type": "execute_result"
    }
   ],
   "source": [
    "# Joining tables based on the relationship\n",
    "merged_data = pd.merge(customers, orders, on='customer_id')\n",
    "print(\"\\nMerged data (customers and their orders):\")\n",
    "merged_data"
   ]
  },
  {
   "cell_type": "markdown",
   "metadata": {},
   "source": [
    "In this example:\n",
    "- We show the primary key of the `customers` table and the corresponding foreign key in the `orders` table.\n",
    "- We demonstrate the One-to-Many relationship by counting orders per customer.\n",
    "- We perform a merge operation, which is similar to a JOIN in SQL, to combine data from both tables based on their relationship.\n"
   ]
  },
  {
   "cell_type": "markdown",
   "metadata": {},
   "source": [
    "Understanding these relational database concepts is crucial because:\n",
    "\n",
    "1. It helps in organizing data efficiently in Pandas DataFrames.\n",
    "2. Many Pandas operations (like merging, grouping, and reshaping) are based on these database concepts.\n",
    "3. When working with real databases, you'll be able to translate SQL operations to Pandas operations more easily.\n"
   ]
  },
  {
   "cell_type": "markdown",
   "metadata": {},
   "source": [
    "As we progress through more advanced Pandas operations in future lectures, you'll see how these database concepts underpin many of the data manipulation techniques we'll explore."
   ]
  },
  {
   "cell_type": "markdown",
   "metadata": {},
   "source": [
    "## <a id='toc2_'></a>[Basic SQL Operations](#toc0_)"
   ]
  },
  {
   "cell_type": "markdown",
   "metadata": {},
   "source": [
    "While we're focusing on Pandas, understanding basic SQL operations is valuable because many Pandas functions have direct parallels in SQL. This knowledge will help you translate database operations to Pandas and vice versa.\n"
   ]
  },
  {
   "cell_type": "markdown",
   "metadata": {},
   "source": [
    "When we have a query, the engine executes it in the following order:\n",
    "\n",
    "1. **FROM**: Specifies the table(s) from which to retrieve data.\n",
    "2. **JOIN**: Combines data from multiple tables based on a related column.\n",
    "3. **WHERE**: Filters rows based on a condition.\n",
    "4. **GROUP BY**: Groups rows that have the same values into summary rows.\n",
    "5. **HAVING**: Filters groups based on a condition.\n",
    "6. **SELECT**: Specifies the columns to retrieve.\n",
    "7. **ORDER BY**: Sorts the result set by one or more columns.\n",
    "8. **LIMIT**: Limits the number of rows returned.\n",
    "\n",
    "It's important to note that before executing the query, the SQL engine creates an execution plan to determine the most efficient way to retrieve the data. This plan is based on the query structure, table indexes, and other factors. The engine then executes the query and returns the result set."
   ]
  },
  {
   "cell_type": "markdown",
   "metadata": {},
   "source": [
    "<img src=\"../images/sql-query-execution.png\" width=\"500\">"
   ]
  },
  {
   "cell_type": "markdown",
   "metadata": {},
   "source": [
    "Let's explore some fundamental SQL operations and their Pandas equivalents using our sample data.\n"
   ]
  },
  {
   "cell_type": "markdown",
   "metadata": {},
   "source": [
    "### <a id='toc2_1_'></a>[SELECT Statements](#toc0_)\n"
   ]
  },
  {
   "cell_type": "markdown",
   "metadata": {},
   "source": [
    "In SQL, the SELECT statement is used to retrieve data from one or more tables.\n"
   ]
  },
  {
   "cell_type": "markdown",
   "metadata": {},
   "source": [
    "SQL:\n",
    "```sql\n",
    "SELECT * FROM customers;\n",
    "```\n"
   ]
  },
  {
   "cell_type": "markdown",
   "metadata": {},
   "source": [
    "Pandas equivalent:"
   ]
  },
  {
   "cell_type": "code",
   "execution_count": 12,
   "metadata": {},
   "outputs": [
    {
     "data": {
      "text/html": [
       "<div>\n",
       "<style scoped>\n",
       "    .dataframe tbody tr th:only-of-type {\n",
       "        vertical-align: middle;\n",
       "    }\n",
       "\n",
       "    .dataframe tbody tr th {\n",
       "        vertical-align: top;\n",
       "    }\n",
       "\n",
       "    .dataframe thead th {\n",
       "        text-align: right;\n",
       "    }\n",
       "</style>\n",
       "<table border=\"1\" class=\"dataframe\">\n",
       "  <thead>\n",
       "    <tr style=\"text-align: right;\">\n",
       "      <th></th>\n",
       "      <th>customer_id</th>\n",
       "      <th>name</th>\n",
       "      <th>email</th>\n",
       "    </tr>\n",
       "  </thead>\n",
       "  <tbody>\n",
       "    <tr>\n",
       "      <th>0</th>\n",
       "      <td>1</td>\n",
       "      <td>John Doe</td>\n",
       "      <td>john@example.com</td>\n",
       "    </tr>\n",
       "    <tr>\n",
       "      <th>1</th>\n",
       "      <td>2</td>\n",
       "      <td>Jane Smith</td>\n",
       "      <td>jane@example.com</td>\n",
       "    </tr>\n",
       "    <tr>\n",
       "      <th>2</th>\n",
       "      <td>3</td>\n",
       "      <td>Bob Johnson</td>\n",
       "      <td>bob@example.com</td>\n",
       "    </tr>\n",
       "    <tr>\n",
       "      <th>3</th>\n",
       "      <td>4</td>\n",
       "      <td>Alice Brown</td>\n",
       "      <td>alice@example.com</td>\n",
       "    </tr>\n",
       "  </tbody>\n",
       "</table>\n",
       "</div>"
      ],
      "text/plain": [
       "   customer_id         name              email\n",
       "0            1     John Doe   john@example.com\n",
       "1            2   Jane Smith   jane@example.com\n",
       "2            3  Bob Johnson    bob@example.com\n",
       "3            4  Alice Brown  alice@example.com"
      ]
     },
     "execution_count": 12,
     "metadata": {},
     "output_type": "execute_result"
    }
   ],
   "source": [
    "# Selecting all columns from customers\n",
    "customers"
   ]
  },
  {
   "cell_type": "code",
   "execution_count": 13,
   "metadata": {},
   "outputs": [
    {
     "data": {
      "text/html": [
       "<div>\n",
       "<style scoped>\n",
       "    .dataframe tbody tr th:only-of-type {\n",
       "        vertical-align: middle;\n",
       "    }\n",
       "\n",
       "    .dataframe tbody tr th {\n",
       "        vertical-align: top;\n",
       "    }\n",
       "\n",
       "    .dataframe thead th {\n",
       "        text-align: right;\n",
       "    }\n",
       "</style>\n",
       "<table border=\"1\" class=\"dataframe\">\n",
       "  <thead>\n",
       "    <tr style=\"text-align: right;\">\n",
       "      <th></th>\n",
       "      <th>name</th>\n",
       "      <th>email</th>\n",
       "    </tr>\n",
       "  </thead>\n",
       "  <tbody>\n",
       "    <tr>\n",
       "      <th>0</th>\n",
       "      <td>John Doe</td>\n",
       "      <td>john@example.com</td>\n",
       "    </tr>\n",
       "    <tr>\n",
       "      <th>1</th>\n",
       "      <td>Jane Smith</td>\n",
       "      <td>jane@example.com</td>\n",
       "    </tr>\n",
       "    <tr>\n",
       "      <th>2</th>\n",
       "      <td>Bob Johnson</td>\n",
       "      <td>bob@example.com</td>\n",
       "    </tr>\n",
       "    <tr>\n",
       "      <th>3</th>\n",
       "      <td>Alice Brown</td>\n",
       "      <td>alice@example.com</td>\n",
       "    </tr>\n",
       "  </tbody>\n",
       "</table>\n",
       "</div>"
      ],
      "text/plain": [
       "          name              email\n",
       "0     John Doe   john@example.com\n",
       "1   Jane Smith   jane@example.com\n",
       "2  Bob Johnson    bob@example.com\n",
       "3  Alice Brown  alice@example.com"
      ]
     },
     "execution_count": 13,
     "metadata": {},
     "output_type": "execute_result"
    }
   ],
   "source": [
    "# Selecting specific columns\n",
    "customers[['name', 'email']]"
   ]
  },
  {
   "cell_type": "markdown",
   "metadata": {},
   "source": [
    "### <a id='toc2_2_'></a>[Filtering with WHERE](#toc0_)\n"
   ]
  },
  {
   "cell_type": "markdown",
   "metadata": {},
   "source": [
    "The WHERE clause in SQL is used to filter rows based on specified conditions.\n"
   ]
  },
  {
   "cell_type": "markdown",
   "metadata": {},
   "source": [
    "SQL:"
   ]
  },
  {
   "cell_type": "markdown",
   "metadata": {},
   "source": [
    "```sql\n",
    "SELECT * FROM orders WHERE quantity > 1;\n",
    "```\n"
   ]
  },
  {
   "cell_type": "markdown",
   "metadata": {},
   "source": [
    "Pandas equivalent:"
   ]
  },
  {
   "cell_type": "code",
   "execution_count": 14,
   "metadata": {},
   "outputs": [
    {
     "data": {
      "text/html": [
       "<div>\n",
       "<style scoped>\n",
       "    .dataframe tbody tr th:only-of-type {\n",
       "        vertical-align: middle;\n",
       "    }\n",
       "\n",
       "    .dataframe tbody tr th {\n",
       "        vertical-align: top;\n",
       "    }\n",
       "\n",
       "    .dataframe thead th {\n",
       "        text-align: right;\n",
       "    }\n",
       "</style>\n",
       "<table border=\"1\" class=\"dataframe\">\n",
       "  <thead>\n",
       "    <tr style=\"text-align: right;\">\n",
       "      <th></th>\n",
       "      <th>order_id</th>\n",
       "      <th>customer_id</th>\n",
       "      <th>product</th>\n",
       "      <th>quantity</th>\n",
       "      <th>order_date</th>\n",
       "    </tr>\n",
       "  </thead>\n",
       "  <tbody>\n",
       "    <tr>\n",
       "      <th>0</th>\n",
       "      <td>101</td>\n",
       "      <td>1</td>\n",
       "      <td>Widget A</td>\n",
       "      <td>2</td>\n",
       "      <td>2023-05-01</td>\n",
       "    </tr>\n",
       "    <tr>\n",
       "      <th>2</th>\n",
       "      <td>103</td>\n",
       "      <td>1</td>\n",
       "      <td>Widget C</td>\n",
       "      <td>3</td>\n",
       "      <td>2023-05-03</td>\n",
       "    </tr>\n",
       "    <tr>\n",
       "      <th>4</th>\n",
       "      <td>105</td>\n",
       "      <td>4</td>\n",
       "      <td>Widget B</td>\n",
       "      <td>2</td>\n",
       "      <td>2023-05-05</td>\n",
       "    </tr>\n",
       "  </tbody>\n",
       "</table>\n",
       "</div>"
      ],
      "text/plain": [
       "   order_id  customer_id   product  quantity  order_date\n",
       "0       101            1  Widget A         2  2023-05-01\n",
       "2       103            1  Widget C         3  2023-05-03\n",
       "4       105            4  Widget B         2  2023-05-05"
      ]
     },
     "execution_count": 14,
     "metadata": {},
     "output_type": "execute_result"
    }
   ],
   "source": [
    "# Filtering orders with quantity greater than 1\n",
    "orders[orders['quantity'] > 1]"
   ]
  },
  {
   "cell_type": "markdown",
   "metadata": {},
   "source": [
    "### <a id='toc2_3_'></a>[Sorting with ORDER BY](#toc0_)\n"
   ]
  },
  {
   "cell_type": "markdown",
   "metadata": {},
   "source": [
    "ORDER BY is used to sort the result set in ascending or descending order.\n"
   ]
  },
  {
   "cell_type": "markdown",
   "metadata": {},
   "source": [
    "SQL:"
   ]
  },
  {
   "cell_type": "markdown",
   "metadata": {},
   "source": [
    "```sql\n",
    "SELECT * FROM orders ORDER BY quantity DESC;\n",
    "```\n"
   ]
  },
  {
   "cell_type": "markdown",
   "metadata": {},
   "source": [
    "Pandas equivalent:"
   ]
  },
  {
   "cell_type": "code",
   "execution_count": 15,
   "metadata": {},
   "outputs": [
    {
     "data": {
      "text/html": [
       "<div>\n",
       "<style scoped>\n",
       "    .dataframe tbody tr th:only-of-type {\n",
       "        vertical-align: middle;\n",
       "    }\n",
       "\n",
       "    .dataframe tbody tr th {\n",
       "        vertical-align: top;\n",
       "    }\n",
       "\n",
       "    .dataframe thead th {\n",
       "        text-align: right;\n",
       "    }\n",
       "</style>\n",
       "<table border=\"1\" class=\"dataframe\">\n",
       "  <thead>\n",
       "    <tr style=\"text-align: right;\">\n",
       "      <th></th>\n",
       "      <th>order_id</th>\n",
       "      <th>customer_id</th>\n",
       "      <th>product</th>\n",
       "      <th>quantity</th>\n",
       "      <th>order_date</th>\n",
       "    </tr>\n",
       "  </thead>\n",
       "  <tbody>\n",
       "    <tr>\n",
       "      <th>2</th>\n",
       "      <td>103</td>\n",
       "      <td>1</td>\n",
       "      <td>Widget C</td>\n",
       "      <td>3</td>\n",
       "      <td>2023-05-03</td>\n",
       "    </tr>\n",
       "    <tr>\n",
       "      <th>0</th>\n",
       "      <td>101</td>\n",
       "      <td>1</td>\n",
       "      <td>Widget A</td>\n",
       "      <td>2</td>\n",
       "      <td>2023-05-01</td>\n",
       "    </tr>\n",
       "    <tr>\n",
       "      <th>4</th>\n",
       "      <td>105</td>\n",
       "      <td>4</td>\n",
       "      <td>Widget B</td>\n",
       "      <td>2</td>\n",
       "      <td>2023-05-05</td>\n",
       "    </tr>\n",
       "    <tr>\n",
       "      <th>1</th>\n",
       "      <td>102</td>\n",
       "      <td>2</td>\n",
       "      <td>Widget B</td>\n",
       "      <td>1</td>\n",
       "      <td>2023-05-02</td>\n",
       "    </tr>\n",
       "    <tr>\n",
       "      <th>3</th>\n",
       "      <td>104</td>\n",
       "      <td>3</td>\n",
       "      <td>Widget A</td>\n",
       "      <td>1</td>\n",
       "      <td>2023-05-04</td>\n",
       "    </tr>\n",
       "  </tbody>\n",
       "</table>\n",
       "</div>"
      ],
      "text/plain": [
       "   order_id  customer_id   product  quantity  order_date\n",
       "2       103            1  Widget C         3  2023-05-03\n",
       "0       101            1  Widget A         2  2023-05-01\n",
       "4       105            4  Widget B         2  2023-05-05\n",
       "1       102            2  Widget B         1  2023-05-02\n",
       "3       104            3  Widget A         1  2023-05-04"
      ]
     },
     "execution_count": 15,
     "metadata": {},
     "output_type": "execute_result"
    }
   ],
   "source": [
    "# Sorting orders by quantity in descending order\n",
    "orders.sort_values('quantity', ascending=False)"
   ]
  },
  {
   "cell_type": "markdown",
   "metadata": {},
   "source": [
    "### <a id='toc2_4_'></a>[Limiting Results with LIMIT](#toc0_)\n"
   ]
  },
  {
   "cell_type": "markdown",
   "metadata": {},
   "source": [
    "The LIMIT clause is used to specify the maximum number of rows to return.\n"
   ]
  },
  {
   "cell_type": "markdown",
   "metadata": {},
   "source": [
    "SQL:"
   ]
  },
  {
   "cell_type": "markdown",
   "metadata": {},
   "source": [
    "```sql\n",
    "SELECT * FROM orders LIMIT 3;\n",
    "```\n"
   ]
  },
  {
   "cell_type": "markdown",
   "metadata": {},
   "source": [
    "Pandas equivalent:"
   ]
  },
  {
   "cell_type": "code",
   "execution_count": 16,
   "metadata": {},
   "outputs": [
    {
     "data": {
      "text/html": [
       "<div>\n",
       "<style scoped>\n",
       "    .dataframe tbody tr th:only-of-type {\n",
       "        vertical-align: middle;\n",
       "    }\n",
       "\n",
       "    .dataframe tbody tr th {\n",
       "        vertical-align: top;\n",
       "    }\n",
       "\n",
       "    .dataframe thead th {\n",
       "        text-align: right;\n",
       "    }\n",
       "</style>\n",
       "<table border=\"1\" class=\"dataframe\">\n",
       "  <thead>\n",
       "    <tr style=\"text-align: right;\">\n",
       "      <th></th>\n",
       "      <th>order_id</th>\n",
       "      <th>customer_id</th>\n",
       "      <th>product</th>\n",
       "      <th>quantity</th>\n",
       "      <th>order_date</th>\n",
       "    </tr>\n",
       "  </thead>\n",
       "  <tbody>\n",
       "    <tr>\n",
       "      <th>0</th>\n",
       "      <td>101</td>\n",
       "      <td>1</td>\n",
       "      <td>Widget A</td>\n",
       "      <td>2</td>\n",
       "      <td>2023-05-01</td>\n",
       "    </tr>\n",
       "    <tr>\n",
       "      <th>1</th>\n",
       "      <td>102</td>\n",
       "      <td>2</td>\n",
       "      <td>Widget B</td>\n",
       "      <td>1</td>\n",
       "      <td>2023-05-02</td>\n",
       "    </tr>\n",
       "    <tr>\n",
       "      <th>2</th>\n",
       "      <td>103</td>\n",
       "      <td>1</td>\n",
       "      <td>Widget C</td>\n",
       "      <td>3</td>\n",
       "      <td>2023-05-03</td>\n",
       "    </tr>\n",
       "  </tbody>\n",
       "</table>\n",
       "</div>"
      ],
      "text/plain": [
       "   order_id  customer_id   product  quantity  order_date\n",
       "0       101            1  Widget A         2  2023-05-01\n",
       "1       102            2  Widget B         1  2023-05-02\n",
       "2       103            1  Widget C         3  2023-05-03"
      ]
     },
     "execution_count": 16,
     "metadata": {},
     "output_type": "execute_result"
    }
   ],
   "source": [
    "# Selecting the first 3 rows from orders\n",
    "orders.head(3)"
   ]
  },
  {
   "cell_type": "markdown",
   "metadata": {},
   "source": [
    "### <a id='toc2_5_'></a>[Combining Operations](#toc0_)\n"
   ]
  },
  {
   "cell_type": "markdown",
   "metadata": {},
   "source": [
    "In practice, these operations are often combined. Let's look at a more complex example:\n"
   ]
  },
  {
   "cell_type": "markdown",
   "metadata": {},
   "source": [
    "SQL:"
   ]
  },
  {
   "cell_type": "markdown",
   "metadata": {},
   "source": [
    "```sql\n",
    "SELECT customer_id, product, quantity\n",
    "FROM orders\n",
    "WHERE quantity > 1\n",
    "ORDER BY quantity DESC\n",
    "LIMIT 2;\n",
    "```\n"
   ]
  },
  {
   "cell_type": "markdown",
   "metadata": {},
   "source": [
    "Pandas equivalent:"
   ]
  },
  {
   "cell_type": "code",
   "execution_count": 17,
   "metadata": {},
   "outputs": [
    {
     "data": {
      "text/html": [
       "<div>\n",
       "<style scoped>\n",
       "    .dataframe tbody tr th:only-of-type {\n",
       "        vertical-align: middle;\n",
       "    }\n",
       "\n",
       "    .dataframe tbody tr th {\n",
       "        vertical-align: top;\n",
       "    }\n",
       "\n",
       "    .dataframe thead th {\n",
       "        text-align: right;\n",
       "    }\n",
       "</style>\n",
       "<table border=\"1\" class=\"dataframe\">\n",
       "  <thead>\n",
       "    <tr style=\"text-align: right;\">\n",
       "      <th></th>\n",
       "      <th>customer_id</th>\n",
       "      <th>product</th>\n",
       "      <th>quantity</th>\n",
       "    </tr>\n",
       "  </thead>\n",
       "  <tbody>\n",
       "    <tr>\n",
       "      <th>2</th>\n",
       "      <td>1</td>\n",
       "      <td>Widget C</td>\n",
       "      <td>3</td>\n",
       "    </tr>\n",
       "    <tr>\n",
       "      <th>0</th>\n",
       "      <td>1</td>\n",
       "      <td>Widget A</td>\n",
       "      <td>2</td>\n",
       "    </tr>\n",
       "  </tbody>\n",
       "</table>\n",
       "</div>"
      ],
      "text/plain": [
       "   customer_id   product  quantity\n",
       "2            1  Widget C         3\n",
       "0            1  Widget A         2"
      ]
     },
     "execution_count": 17,
     "metadata": {},
     "output_type": "execute_result"
    }
   ],
   "source": [
    "# Combining filtering, sorting, and limiting\n",
    "orders[orders['quantity'] > 1]\\\n",
    ".sort_values('quantity', ascending=False)\\\n",
    "[['customer_id', 'product', 'quantity']]\\\n",
    ".head(2)"
   ]
  },
  {
   "cell_type": "markdown",
   "metadata": {},
   "source": [
    "### <a id='toc2_6_'></a>[Aggregate Functions](#toc0_)\n"
   ]
  },
  {
   "cell_type": "markdown",
   "metadata": {},
   "source": [
    "SQL provides several aggregate functions like COUNT, SUM, AVG, MAX, and MIN.\n"
   ]
  },
  {
   "cell_type": "markdown",
   "metadata": {},
   "source": [
    "SQL:"
   ]
  },
  {
   "cell_type": "markdown",
   "metadata": {},
   "source": [
    "```sql\n",
    "SELECT COUNT(*) as order_count, SUM(quantity) as total_quantity\n",
    "FROM orders;\n",
    "```\n"
   ]
  },
  {
   "cell_type": "markdown",
   "metadata": {},
   "source": [
    "Pandas equivalent:"
   ]
  },
  {
   "cell_type": "code",
   "execution_count": 18,
   "metadata": {},
   "outputs": [
    {
     "data": {
      "text/plain": [
       "{'order_count': 5, 'total_quantity': 9}"
      ]
     },
     "execution_count": 18,
     "metadata": {},
     "output_type": "execute_result"
    }
   ],
   "source": [
    "# Calculating count of orders and sum of quantities\n",
    "{\n",
    "    'order_count': len(orders),\n",
    "    'total_quantity': orders['quantity'].sum()\n",
    "}"
   ]
  },
  {
   "cell_type": "markdown",
   "metadata": {},
   "source": [
    "### <a id='toc2_7_'></a>[GROUP BY](#toc0_)\n"
   ]
  },
  {
   "cell_type": "markdown",
   "metadata": {},
   "source": [
    "The GROUP BY clause is used with aggregate functions to group the result set by one or more columns.\n"
   ]
  },
  {
   "cell_type": "markdown",
   "metadata": {},
   "source": [
    "SQL:"
   ]
  },
  {
   "cell_type": "markdown",
   "metadata": {},
   "source": [
    "```sql\n",
    "SELECT customer_id, COUNT(*) as order_count\n",
    "FROM orders\n",
    "GROUP BY customer_id;\n",
    "```\n"
   ]
  },
  {
   "cell_type": "markdown",
   "metadata": {},
   "source": [
    "Pandas equivalent:"
   ]
  },
  {
   "cell_type": "code",
   "execution_count": 19,
   "metadata": {},
   "outputs": [
    {
     "data": {
      "text/html": [
       "<div>\n",
       "<style scoped>\n",
       "    .dataframe tbody tr th:only-of-type {\n",
       "        vertical-align: middle;\n",
       "    }\n",
       "\n",
       "    .dataframe tbody tr th {\n",
       "        vertical-align: top;\n",
       "    }\n",
       "\n",
       "    .dataframe thead th {\n",
       "        text-align: right;\n",
       "    }\n",
       "</style>\n",
       "<table border=\"1\" class=\"dataframe\">\n",
       "  <thead>\n",
       "    <tr style=\"text-align: right;\">\n",
       "      <th></th>\n",
       "      <th>customer_id</th>\n",
       "      <th>order_count</th>\n",
       "    </tr>\n",
       "  </thead>\n",
       "  <tbody>\n",
       "    <tr>\n",
       "      <th>0</th>\n",
       "      <td>1</td>\n",
       "      <td>2</td>\n",
       "    </tr>\n",
       "    <tr>\n",
       "      <th>1</th>\n",
       "      <td>2</td>\n",
       "      <td>1</td>\n",
       "    </tr>\n",
       "    <tr>\n",
       "      <th>2</th>\n",
       "      <td>3</td>\n",
       "      <td>1</td>\n",
       "    </tr>\n",
       "    <tr>\n",
       "      <th>3</th>\n",
       "      <td>4</td>\n",
       "      <td>1</td>\n",
       "    </tr>\n",
       "  </tbody>\n",
       "</table>\n",
       "</div>"
      ],
      "text/plain": [
       "   customer_id  order_count\n",
       "0            1            2\n",
       "1            2            1\n",
       "2            3            1\n",
       "3            4            1"
      ]
     },
     "execution_count": 19,
     "metadata": {},
     "output_type": "execute_result"
    }
   ],
   "source": [
    "# Grouping orders by customer and counting\n",
    "orders.groupby('customer_id').size().reset_index(name='order_count')"
   ]
  },
  {
   "cell_type": "markdown",
   "metadata": {},
   "source": [
    "### <a id='toc2_8_'></a>[HAVING](#toc0_)\n"
   ]
  },
  {
   "cell_type": "markdown",
   "metadata": {},
   "source": [
    "The HAVING clause is used to filter the results of GROUP BY based on a specified condition.\n"
   ]
  },
  {
   "cell_type": "markdown",
   "metadata": {},
   "source": [
    "SQL:"
   ]
  },
  {
   "cell_type": "markdown",
   "metadata": {},
   "source": [
    "```sql\n",
    "SELECT customer_id, COUNT(*) as order_count\n",
    "FROM orders\n",
    "GROUP BY customer_id\n",
    "HAVING COUNT(*) > 1;\n",
    "```\n"
   ]
  },
  {
   "cell_type": "markdown",
   "metadata": {},
   "source": [
    "Pandas equivalent:"
   ]
  },
  {
   "cell_type": "code",
   "execution_count": 20,
   "metadata": {},
   "outputs": [
    {
     "data": {
      "text/html": [
       "<div>\n",
       "<style scoped>\n",
       "    .dataframe tbody tr th:only-of-type {\n",
       "        vertical-align: middle;\n",
       "    }\n",
       "\n",
       "    .dataframe tbody tr th {\n",
       "        vertical-align: top;\n",
       "    }\n",
       "\n",
       "    .dataframe thead th {\n",
       "        text-align: right;\n",
       "    }\n",
       "</style>\n",
       "<table border=\"1\" class=\"dataframe\">\n",
       "  <thead>\n",
       "    <tr style=\"text-align: right;\">\n",
       "      <th></th>\n",
       "      <th>customer_id</th>\n",
       "      <th>order_count</th>\n",
       "    </tr>\n",
       "  </thead>\n",
       "  <tbody>\n",
       "    <tr>\n",
       "      <th>0</th>\n",
       "      <td>1</td>\n",
       "      <td>2</td>\n",
       "    </tr>\n",
       "  </tbody>\n",
       "</table>\n",
       "</div>"
      ],
      "text/plain": [
       "   customer_id  order_count\n",
       "0            1            2"
      ]
     },
     "execution_count": 20,
     "metadata": {},
     "output_type": "execute_result"
    }
   ],
   "source": [
    "# Grouping by customer, counting orders, and filtering groups with more than 1 order\n",
    "orders.groupby('customer_id')\\\n",
    ".size()\\\n",
    ".reset_index(name='order_count')\\\n",
    ".query('order_count > 1')"
   ]
  },
  {
   "cell_type": "markdown",
   "metadata": {},
   "source": [
    "Understanding these SQL operations and their Pandas equivalents will help you:\n",
    "\n",
    "1. Translate SQL queries to Pandas operations when working with data.\n",
    "2. Understand the logic behind many Pandas functions and methods.\n",
    "3. Efficiently manipulate and analyze data in Pandas DataFrames.\n"
   ]
  },
  {
   "cell_type": "markdown",
   "metadata": {},
   "source": [
    "As we progress to more advanced Pandas operations in the upcoming lectures, you'll see how these basic SQL concepts form the foundation for complex data manipulations in Pandas."
   ]
  },
  {
   "cell_type": "markdown",
   "metadata": {},
   "source": [
    "## <a id='toc3_'></a>[Joining Tables](#toc0_)"
   ]
  },
  {
   "cell_type": "markdown",
   "metadata": {},
   "source": [
    "Joining tables is a fundamental operation in relational databases and data processing. It allows you to combine data from multiple tables based on related columns. Understanding joins is crucial for working with complex datasets in Pandas.\n"
   ]
  },
  {
   "cell_type": "markdown",
   "metadata": {},
   "source": [
    "### <a id='toc3_1_'></a>[Types of Joins](#toc0_)\n"
   ]
  },
  {
   "cell_type": "markdown",
   "metadata": {},
   "source": [
    "There are four main types of joins:\n",
    "\n",
    "1. **INNER JOIN**: Returns only the rows that have matching values in both tables.\n",
    "2. **LEFT JOIN**: Returns all rows from the left table and the matched rows from the right table.\n",
    "3. **RIGHT JOIN**: Returns all rows from the right table and the matched rows from the left table.\n",
    "4. **FULL OUTER JOIN**: Returns all rows when there's a match in either the left or right table.\n"
   ]
  },
  {
   "cell_type": "markdown",
   "metadata": {},
   "source": [
    "<img src=\"../images/sql-joins.png\" width=\"800\">"
   ]
  },
  {
   "cell_type": "markdown",
   "metadata": {},
   "source": [
    "Let's demonstrate these joins using our `customers` and `orders` DataFrames:\n"
   ]
  },
  {
   "cell_type": "code",
   "execution_count": 21,
   "metadata": {},
   "outputs": [
    {
     "name": "stdout",
     "output_type": "stream",
     "text": [
      "Customers:\n"
     ]
    },
    {
     "data": {
      "text/html": [
       "<div>\n",
       "<style scoped>\n",
       "    .dataframe tbody tr th:only-of-type {\n",
       "        vertical-align: middle;\n",
       "    }\n",
       "\n",
       "    .dataframe tbody tr th {\n",
       "        vertical-align: top;\n",
       "    }\n",
       "\n",
       "    .dataframe thead th {\n",
       "        text-align: right;\n",
       "    }\n",
       "</style>\n",
       "<table border=\"1\" class=\"dataframe\">\n",
       "  <thead>\n",
       "    <tr style=\"text-align: right;\">\n",
       "      <th></th>\n",
       "      <th>customer_id</th>\n",
       "      <th>name</th>\n",
       "      <th>email</th>\n",
       "    </tr>\n",
       "  </thead>\n",
       "  <tbody>\n",
       "    <tr>\n",
       "      <th>0</th>\n",
       "      <td>1</td>\n",
       "      <td>John Doe</td>\n",
       "      <td>john@example.com</td>\n",
       "    </tr>\n",
       "    <tr>\n",
       "      <th>1</th>\n",
       "      <td>2</td>\n",
       "      <td>Jane Smith</td>\n",
       "      <td>jane@example.com</td>\n",
       "    </tr>\n",
       "    <tr>\n",
       "      <th>2</th>\n",
       "      <td>3</td>\n",
       "      <td>Bob Johnson</td>\n",
       "      <td>bob@example.com</td>\n",
       "    </tr>\n",
       "    <tr>\n",
       "      <th>3</th>\n",
       "      <td>4</td>\n",
       "      <td>Alice Brown</td>\n",
       "      <td>alice@example.com</td>\n",
       "    </tr>\n",
       "  </tbody>\n",
       "</table>\n",
       "</div>"
      ],
      "text/plain": [
       "   customer_id         name              email\n",
       "0            1     John Doe   john@example.com\n",
       "1            2   Jane Smith   jane@example.com\n",
       "2            3  Bob Johnson    bob@example.com\n",
       "3            4  Alice Brown  alice@example.com"
      ]
     },
     "execution_count": 21,
     "metadata": {},
     "output_type": "execute_result"
    }
   ],
   "source": [
    "# Reminder of our data\n",
    "print(\"Customers:\")\n",
    "customers"
   ]
  },
  {
   "cell_type": "code",
   "execution_count": 22,
   "metadata": {},
   "outputs": [
    {
     "name": "stdout",
     "output_type": "stream",
     "text": [
      "\n",
      "Orders:\n"
     ]
    },
    {
     "data": {
      "text/html": [
       "<div>\n",
       "<style scoped>\n",
       "    .dataframe tbody tr th:only-of-type {\n",
       "        vertical-align: middle;\n",
       "    }\n",
       "\n",
       "    .dataframe tbody tr th {\n",
       "        vertical-align: top;\n",
       "    }\n",
       "\n",
       "    .dataframe thead th {\n",
       "        text-align: right;\n",
       "    }\n",
       "</style>\n",
       "<table border=\"1\" class=\"dataframe\">\n",
       "  <thead>\n",
       "    <tr style=\"text-align: right;\">\n",
       "      <th></th>\n",
       "      <th>order_id</th>\n",
       "      <th>customer_id</th>\n",
       "      <th>product</th>\n",
       "      <th>quantity</th>\n",
       "      <th>order_date</th>\n",
       "    </tr>\n",
       "  </thead>\n",
       "  <tbody>\n",
       "    <tr>\n",
       "      <th>0</th>\n",
       "      <td>101</td>\n",
       "      <td>1</td>\n",
       "      <td>Widget A</td>\n",
       "      <td>2</td>\n",
       "      <td>2023-05-01</td>\n",
       "    </tr>\n",
       "    <tr>\n",
       "      <th>1</th>\n",
       "      <td>102</td>\n",
       "      <td>2</td>\n",
       "      <td>Widget B</td>\n",
       "      <td>1</td>\n",
       "      <td>2023-05-02</td>\n",
       "    </tr>\n",
       "    <tr>\n",
       "      <th>2</th>\n",
       "      <td>103</td>\n",
       "      <td>1</td>\n",
       "      <td>Widget C</td>\n",
       "      <td>3</td>\n",
       "      <td>2023-05-03</td>\n",
       "    </tr>\n",
       "    <tr>\n",
       "      <th>3</th>\n",
       "      <td>104</td>\n",
       "      <td>3</td>\n",
       "      <td>Widget A</td>\n",
       "      <td>1</td>\n",
       "      <td>2023-05-04</td>\n",
       "    </tr>\n",
       "    <tr>\n",
       "      <th>4</th>\n",
       "      <td>105</td>\n",
       "      <td>4</td>\n",
       "      <td>Widget B</td>\n",
       "      <td>2</td>\n",
       "      <td>2023-05-05</td>\n",
       "    </tr>\n",
       "  </tbody>\n",
       "</table>\n",
       "</div>"
      ],
      "text/plain": [
       "   order_id  customer_id   product  quantity  order_date\n",
       "0       101            1  Widget A         2  2023-05-01\n",
       "1       102            2  Widget B         1  2023-05-02\n",
       "2       103            1  Widget C         3  2023-05-03\n",
       "3       104            3  Widget A         1  2023-05-04\n",
       "4       105            4  Widget B         2  2023-05-05"
      ]
     },
     "execution_count": 22,
     "metadata": {},
     "output_type": "execute_result"
    }
   ],
   "source": [
    "print(\"\\nOrders:\")\n",
    "orders"
   ]
  },
  {
   "cell_type": "code",
   "execution_count": 23,
   "metadata": {},
   "outputs": [],
   "source": [
    "# Adding a customer with no orders and an order with no matching customer\n",
    "customers.loc[len(customers)] = {'customer_id': 5, 'name': 'Eva Green', 'email': 'eva@example.com'}\n",
    "orders.loc[len(orders)] = {'order_id': 106, 'customer_id': 6, 'product': 'Widget D', 'quantity': 1, 'order_date': '2023-05-06'}"
   ]
  },
  {
   "cell_type": "markdown",
   "metadata": {},
   "source": [
    "### <a id='toc3_2_'></a>[INNER JOIN](#toc0_)\n"
   ]
  },
  {
   "cell_type": "markdown",
   "metadata": {},
   "source": [
    "SQL:"
   ]
  },
  {
   "cell_type": "markdown",
   "metadata": {},
   "source": [
    "```sql\n",
    "SELECT *\n",
    "FROM customers\n",
    "INNER JOIN orders ON customers.customer_id = orders.customer_id;\n",
    "```\n"
   ]
  },
  {
   "cell_type": "markdown",
   "metadata": {},
   "source": [
    "Pandas equivalent:"
   ]
  },
  {
   "cell_type": "code",
   "execution_count": 25,
   "metadata": {},
   "outputs": [
    {
     "name": "stdout",
     "output_type": "stream",
     "text": [
      "Inner Join Result:\n"
     ]
    },
    {
     "data": {
      "text/html": [
       "<div>\n",
       "<style scoped>\n",
       "    .dataframe tbody tr th:only-of-type {\n",
       "        vertical-align: middle;\n",
       "    }\n",
       "\n",
       "    .dataframe tbody tr th {\n",
       "        vertical-align: top;\n",
       "    }\n",
       "\n",
       "    .dataframe thead th {\n",
       "        text-align: right;\n",
       "    }\n",
       "</style>\n",
       "<table border=\"1\" class=\"dataframe\">\n",
       "  <thead>\n",
       "    <tr style=\"text-align: right;\">\n",
       "      <th></th>\n",
       "      <th>customer_id</th>\n",
       "      <th>name</th>\n",
       "      <th>email</th>\n",
       "      <th>order_id</th>\n",
       "      <th>product</th>\n",
       "      <th>quantity</th>\n",
       "      <th>order_date</th>\n",
       "    </tr>\n",
       "  </thead>\n",
       "  <tbody>\n",
       "    <tr>\n",
       "      <th>0</th>\n",
       "      <td>1</td>\n",
       "      <td>John Doe</td>\n",
       "      <td>john@example.com</td>\n",
       "      <td>101</td>\n",
       "      <td>Widget A</td>\n",
       "      <td>2</td>\n",
       "      <td>2023-05-01</td>\n",
       "    </tr>\n",
       "    <tr>\n",
       "      <th>1</th>\n",
       "      <td>1</td>\n",
       "      <td>John Doe</td>\n",
       "      <td>john@example.com</td>\n",
       "      <td>103</td>\n",
       "      <td>Widget C</td>\n",
       "      <td>3</td>\n",
       "      <td>2023-05-03</td>\n",
       "    </tr>\n",
       "    <tr>\n",
       "      <th>2</th>\n",
       "      <td>2</td>\n",
       "      <td>Jane Smith</td>\n",
       "      <td>jane@example.com</td>\n",
       "      <td>102</td>\n",
       "      <td>Widget B</td>\n",
       "      <td>1</td>\n",
       "      <td>2023-05-02</td>\n",
       "    </tr>\n",
       "    <tr>\n",
       "      <th>3</th>\n",
       "      <td>3</td>\n",
       "      <td>Bob Johnson</td>\n",
       "      <td>bob@example.com</td>\n",
       "      <td>104</td>\n",
       "      <td>Widget A</td>\n",
       "      <td>1</td>\n",
       "      <td>2023-05-04</td>\n",
       "    </tr>\n",
       "    <tr>\n",
       "      <th>4</th>\n",
       "      <td>4</td>\n",
       "      <td>Alice Brown</td>\n",
       "      <td>alice@example.com</td>\n",
       "      <td>105</td>\n",
       "      <td>Widget B</td>\n",
       "      <td>2</td>\n",
       "      <td>2023-05-05</td>\n",
       "    </tr>\n",
       "  </tbody>\n",
       "</table>\n",
       "</div>"
      ],
      "text/plain": [
       "   customer_id         name              email  order_id   product  quantity  \\\n",
       "0            1     John Doe   john@example.com       101  Widget A         2   \n",
       "1            1     John Doe   john@example.com       103  Widget C         3   \n",
       "2            2   Jane Smith   jane@example.com       102  Widget B         1   \n",
       "3            3  Bob Johnson    bob@example.com       104  Widget A         1   \n",
       "4            4  Alice Brown  alice@example.com       105  Widget B         2   \n",
       "\n",
       "   order_date  \n",
       "0  2023-05-01  \n",
       "1  2023-05-03  \n",
       "2  2023-05-02  \n",
       "3  2023-05-04  \n",
       "4  2023-05-05  "
      ]
     },
     "execution_count": 25,
     "metadata": {},
     "output_type": "execute_result"
    }
   ],
   "source": [
    "# Inner join\n",
    "print(\"Inner Join Result:\")\n",
    "pd.merge(customers, orders, on='customer_id', how='inner')"
   ]
  },
  {
   "cell_type": "markdown",
   "metadata": {},
   "source": [
    "The inner join returns only the rows where there's a match in both tables. Customers without orders and orders without matching customers are excluded.\n"
   ]
  },
  {
   "cell_type": "markdown",
   "metadata": {},
   "source": [
    "### <a id='toc3_3_'></a>[LEFT JOIN](#toc0_)\n"
   ]
  },
  {
   "cell_type": "markdown",
   "metadata": {},
   "source": [
    "SQL:"
   ]
  },
  {
   "cell_type": "markdown",
   "metadata": {},
   "source": [
    "```sql\n",
    "SELECT *\n",
    "FROM customers\n",
    "LEFT JOIN orders ON customers.customer_id = orders.customer_id;\n",
    "```\n"
   ]
  },
  {
   "cell_type": "markdown",
   "metadata": {},
   "source": [
    "Pandas equivalent:"
   ]
  },
  {
   "cell_type": "code",
   "execution_count": 26,
   "metadata": {},
   "outputs": [
    {
     "name": "stdout",
     "output_type": "stream",
     "text": [
      "Left Join Result:\n"
     ]
    },
    {
     "data": {
      "text/html": [
       "<div>\n",
       "<style scoped>\n",
       "    .dataframe tbody tr th:only-of-type {\n",
       "        vertical-align: middle;\n",
       "    }\n",
       "\n",
       "    .dataframe tbody tr th {\n",
       "        vertical-align: top;\n",
       "    }\n",
       "\n",
       "    .dataframe thead th {\n",
       "        text-align: right;\n",
       "    }\n",
       "</style>\n",
       "<table border=\"1\" class=\"dataframe\">\n",
       "  <thead>\n",
       "    <tr style=\"text-align: right;\">\n",
       "      <th></th>\n",
       "      <th>customer_id</th>\n",
       "      <th>name</th>\n",
       "      <th>email</th>\n",
       "      <th>order_id</th>\n",
       "      <th>product</th>\n",
       "      <th>quantity</th>\n",
       "      <th>order_date</th>\n",
       "    </tr>\n",
       "  </thead>\n",
       "  <tbody>\n",
       "    <tr>\n",
       "      <th>0</th>\n",
       "      <td>1</td>\n",
       "      <td>John Doe</td>\n",
       "      <td>john@example.com</td>\n",
       "      <td>101.0</td>\n",
       "      <td>Widget A</td>\n",
       "      <td>2.0</td>\n",
       "      <td>2023-05-01</td>\n",
       "    </tr>\n",
       "    <tr>\n",
       "      <th>1</th>\n",
       "      <td>1</td>\n",
       "      <td>John Doe</td>\n",
       "      <td>john@example.com</td>\n",
       "      <td>103.0</td>\n",
       "      <td>Widget C</td>\n",
       "      <td>3.0</td>\n",
       "      <td>2023-05-03</td>\n",
       "    </tr>\n",
       "    <tr>\n",
       "      <th>2</th>\n",
       "      <td>2</td>\n",
       "      <td>Jane Smith</td>\n",
       "      <td>jane@example.com</td>\n",
       "      <td>102.0</td>\n",
       "      <td>Widget B</td>\n",
       "      <td>1.0</td>\n",
       "      <td>2023-05-02</td>\n",
       "    </tr>\n",
       "    <tr>\n",
       "      <th>3</th>\n",
       "      <td>3</td>\n",
       "      <td>Bob Johnson</td>\n",
       "      <td>bob@example.com</td>\n",
       "      <td>104.0</td>\n",
       "      <td>Widget A</td>\n",
       "      <td>1.0</td>\n",
       "      <td>2023-05-04</td>\n",
       "    </tr>\n",
       "    <tr>\n",
       "      <th>4</th>\n",
       "      <td>4</td>\n",
       "      <td>Alice Brown</td>\n",
       "      <td>alice@example.com</td>\n",
       "      <td>105.0</td>\n",
       "      <td>Widget B</td>\n",
       "      <td>2.0</td>\n",
       "      <td>2023-05-05</td>\n",
       "    </tr>\n",
       "    <tr>\n",
       "      <th>5</th>\n",
       "      <td>5</td>\n",
       "      <td>Eva Green</td>\n",
       "      <td>eva@example.com</td>\n",
       "      <td>NaN</td>\n",
       "      <td>NaN</td>\n",
       "      <td>NaN</td>\n",
       "      <td>NaN</td>\n",
       "    </tr>\n",
       "  </tbody>\n",
       "</table>\n",
       "</div>"
      ],
      "text/plain": [
       "   customer_id         name              email  order_id   product  quantity  \\\n",
       "0            1     John Doe   john@example.com     101.0  Widget A       2.0   \n",
       "1            1     John Doe   john@example.com     103.0  Widget C       3.0   \n",
       "2            2   Jane Smith   jane@example.com     102.0  Widget B       1.0   \n",
       "3            3  Bob Johnson    bob@example.com     104.0  Widget A       1.0   \n",
       "4            4  Alice Brown  alice@example.com     105.0  Widget B       2.0   \n",
       "5            5    Eva Green    eva@example.com       NaN       NaN       NaN   \n",
       "\n",
       "   order_date  \n",
       "0  2023-05-01  \n",
       "1  2023-05-03  \n",
       "2  2023-05-02  \n",
       "3  2023-05-04  \n",
       "4  2023-05-05  \n",
       "5         NaN  "
      ]
     },
     "execution_count": 26,
     "metadata": {},
     "output_type": "execute_result"
    }
   ],
   "source": [
    "# Left join\n",
    "print(\"Left Join Result:\")\n",
    "pd.merge(customers, orders, on='customer_id', how='left')"
   ]
  },
  {
   "cell_type": "markdown",
   "metadata": {},
   "source": [
    "The left join returns all rows from the left table (customers) and the matched rows from the right table (orders). Customers without orders will have NaN values for order columns.\n"
   ]
  },
  {
   "cell_type": "markdown",
   "metadata": {},
   "source": [
    "### <a id='toc3_4_'></a>[RIGHT JOIN](#toc0_)\n"
   ]
  },
  {
   "cell_type": "markdown",
   "metadata": {},
   "source": [
    "SQL:"
   ]
  },
  {
   "cell_type": "markdown",
   "metadata": {},
   "source": [
    "```sql\n",
    "SELECT *\n",
    "FROM customers\n",
    "RIGHT JOIN orders ON customers.customer_id = orders.customer_id;\n",
    "```\n"
   ]
  },
  {
   "cell_type": "markdown",
   "metadata": {},
   "source": [
    "Pandas equivalent:"
   ]
  },
  {
   "cell_type": "code",
   "execution_count": 27,
   "metadata": {},
   "outputs": [
    {
     "name": "stdout",
     "output_type": "stream",
     "text": [
      "Right Join Result:\n"
     ]
    },
    {
     "data": {
      "text/html": [
       "<div>\n",
       "<style scoped>\n",
       "    .dataframe tbody tr th:only-of-type {\n",
       "        vertical-align: middle;\n",
       "    }\n",
       "\n",
       "    .dataframe tbody tr th {\n",
       "        vertical-align: top;\n",
       "    }\n",
       "\n",
       "    .dataframe thead th {\n",
       "        text-align: right;\n",
       "    }\n",
       "</style>\n",
       "<table border=\"1\" class=\"dataframe\">\n",
       "  <thead>\n",
       "    <tr style=\"text-align: right;\">\n",
       "      <th></th>\n",
       "      <th>customer_id</th>\n",
       "      <th>name</th>\n",
       "      <th>email</th>\n",
       "      <th>order_id</th>\n",
       "      <th>product</th>\n",
       "      <th>quantity</th>\n",
       "      <th>order_date</th>\n",
       "    </tr>\n",
       "  </thead>\n",
       "  <tbody>\n",
       "    <tr>\n",
       "      <th>0</th>\n",
       "      <td>1</td>\n",
       "      <td>John Doe</td>\n",
       "      <td>john@example.com</td>\n",
       "      <td>101</td>\n",
       "      <td>Widget A</td>\n",
       "      <td>2</td>\n",
       "      <td>2023-05-01</td>\n",
       "    </tr>\n",
       "    <tr>\n",
       "      <th>1</th>\n",
       "      <td>2</td>\n",
       "      <td>Jane Smith</td>\n",
       "      <td>jane@example.com</td>\n",
       "      <td>102</td>\n",
       "      <td>Widget B</td>\n",
       "      <td>1</td>\n",
       "      <td>2023-05-02</td>\n",
       "    </tr>\n",
       "    <tr>\n",
       "      <th>2</th>\n",
       "      <td>1</td>\n",
       "      <td>John Doe</td>\n",
       "      <td>john@example.com</td>\n",
       "      <td>103</td>\n",
       "      <td>Widget C</td>\n",
       "      <td>3</td>\n",
       "      <td>2023-05-03</td>\n",
       "    </tr>\n",
       "    <tr>\n",
       "      <th>3</th>\n",
       "      <td>3</td>\n",
       "      <td>Bob Johnson</td>\n",
       "      <td>bob@example.com</td>\n",
       "      <td>104</td>\n",
       "      <td>Widget A</td>\n",
       "      <td>1</td>\n",
       "      <td>2023-05-04</td>\n",
       "    </tr>\n",
       "    <tr>\n",
       "      <th>4</th>\n",
       "      <td>4</td>\n",
       "      <td>Alice Brown</td>\n",
       "      <td>alice@example.com</td>\n",
       "      <td>105</td>\n",
       "      <td>Widget B</td>\n",
       "      <td>2</td>\n",
       "      <td>2023-05-05</td>\n",
       "    </tr>\n",
       "    <tr>\n",
       "      <th>5</th>\n",
       "      <td>6</td>\n",
       "      <td>NaN</td>\n",
       "      <td>NaN</td>\n",
       "      <td>106</td>\n",
       "      <td>Widget D</td>\n",
       "      <td>1</td>\n",
       "      <td>2023-05-06</td>\n",
       "    </tr>\n",
       "  </tbody>\n",
       "</table>\n",
       "</div>"
      ],
      "text/plain": [
       "   customer_id         name              email  order_id   product  quantity  \\\n",
       "0            1     John Doe   john@example.com       101  Widget A         2   \n",
       "1            2   Jane Smith   jane@example.com       102  Widget B         1   \n",
       "2            1     John Doe   john@example.com       103  Widget C         3   \n",
       "3            3  Bob Johnson    bob@example.com       104  Widget A         1   \n",
       "4            4  Alice Brown  alice@example.com       105  Widget B         2   \n",
       "5            6          NaN                NaN       106  Widget D         1   \n",
       "\n",
       "   order_date  \n",
       "0  2023-05-01  \n",
       "1  2023-05-02  \n",
       "2  2023-05-03  \n",
       "3  2023-05-04  \n",
       "4  2023-05-05  \n",
       "5  2023-05-06  "
      ]
     },
     "execution_count": 27,
     "metadata": {},
     "output_type": "execute_result"
    }
   ],
   "source": [
    "# Right join\n",
    "print(\"Right Join Result:\")\n",
    "pd.merge(customers, orders, on='customer_id', how='right')"
   ]
  },
  {
   "cell_type": "markdown",
   "metadata": {},
   "source": [
    "The right join returns all rows from the right table (orders) and the matched rows from the left table (customers). Orders without matching customers will have NaN values for customer columns.\n"
   ]
  },
  {
   "cell_type": "markdown",
   "metadata": {},
   "source": [
    "### <a id='toc3_5_'></a>[FULL OUTER JOIN](#toc0_)\n"
   ]
  },
  {
   "cell_type": "markdown",
   "metadata": {},
   "source": [
    "SQL:"
   ]
  },
  {
   "cell_type": "markdown",
   "metadata": {},
   "source": [
    "```sql\n",
    "SELECT *\n",
    "FROM customers\n",
    "FULL OUTER JOIN orders ON customers.customer_id = orders.customer_id;\n",
    "```\n"
   ]
  },
  {
   "cell_type": "markdown",
   "metadata": {},
   "source": [
    "Pandas equivalent:"
   ]
  },
  {
   "cell_type": "code",
   "execution_count": 28,
   "metadata": {},
   "outputs": [
    {
     "name": "stdout",
     "output_type": "stream",
     "text": [
      "Full Outer Join Result:\n"
     ]
    },
    {
     "data": {
      "text/html": [
       "<div>\n",
       "<style scoped>\n",
       "    .dataframe tbody tr th:only-of-type {\n",
       "        vertical-align: middle;\n",
       "    }\n",
       "\n",
       "    .dataframe tbody tr th {\n",
       "        vertical-align: top;\n",
       "    }\n",
       "\n",
       "    .dataframe thead th {\n",
       "        text-align: right;\n",
       "    }\n",
       "</style>\n",
       "<table border=\"1\" class=\"dataframe\">\n",
       "  <thead>\n",
       "    <tr style=\"text-align: right;\">\n",
       "      <th></th>\n",
       "      <th>customer_id</th>\n",
       "      <th>name</th>\n",
       "      <th>email</th>\n",
       "      <th>order_id</th>\n",
       "      <th>product</th>\n",
       "      <th>quantity</th>\n",
       "      <th>order_date</th>\n",
       "    </tr>\n",
       "  </thead>\n",
       "  <tbody>\n",
       "    <tr>\n",
       "      <th>0</th>\n",
       "      <td>1</td>\n",
       "      <td>John Doe</td>\n",
       "      <td>john@example.com</td>\n",
       "      <td>101.0</td>\n",
       "      <td>Widget A</td>\n",
       "      <td>2.0</td>\n",
       "      <td>2023-05-01</td>\n",
       "    </tr>\n",
       "    <tr>\n",
       "      <th>1</th>\n",
       "      <td>1</td>\n",
       "      <td>John Doe</td>\n",
       "      <td>john@example.com</td>\n",
       "      <td>103.0</td>\n",
       "      <td>Widget C</td>\n",
       "      <td>3.0</td>\n",
       "      <td>2023-05-03</td>\n",
       "    </tr>\n",
       "    <tr>\n",
       "      <th>2</th>\n",
       "      <td>2</td>\n",
       "      <td>Jane Smith</td>\n",
       "      <td>jane@example.com</td>\n",
       "      <td>102.0</td>\n",
       "      <td>Widget B</td>\n",
       "      <td>1.0</td>\n",
       "      <td>2023-05-02</td>\n",
       "    </tr>\n",
       "    <tr>\n",
       "      <th>3</th>\n",
       "      <td>3</td>\n",
       "      <td>Bob Johnson</td>\n",
       "      <td>bob@example.com</td>\n",
       "      <td>104.0</td>\n",
       "      <td>Widget A</td>\n",
       "      <td>1.0</td>\n",
       "      <td>2023-05-04</td>\n",
       "    </tr>\n",
       "    <tr>\n",
       "      <th>4</th>\n",
       "      <td>4</td>\n",
       "      <td>Alice Brown</td>\n",
       "      <td>alice@example.com</td>\n",
       "      <td>105.0</td>\n",
       "      <td>Widget B</td>\n",
       "      <td>2.0</td>\n",
       "      <td>2023-05-05</td>\n",
       "    </tr>\n",
       "    <tr>\n",
       "      <th>5</th>\n",
       "      <td>5</td>\n",
       "      <td>Eva Green</td>\n",
       "      <td>eva@example.com</td>\n",
       "      <td>NaN</td>\n",
       "      <td>NaN</td>\n",
       "      <td>NaN</td>\n",
       "      <td>NaN</td>\n",
       "    </tr>\n",
       "    <tr>\n",
       "      <th>6</th>\n",
       "      <td>6</td>\n",
       "      <td>NaN</td>\n",
       "      <td>NaN</td>\n",
       "      <td>106.0</td>\n",
       "      <td>Widget D</td>\n",
       "      <td>1.0</td>\n",
       "      <td>2023-05-06</td>\n",
       "    </tr>\n",
       "  </tbody>\n",
       "</table>\n",
       "</div>"
      ],
      "text/plain": [
       "   customer_id         name              email  order_id   product  quantity  \\\n",
       "0            1     John Doe   john@example.com     101.0  Widget A       2.0   \n",
       "1            1     John Doe   john@example.com     103.0  Widget C       3.0   \n",
       "2            2   Jane Smith   jane@example.com     102.0  Widget B       1.0   \n",
       "3            3  Bob Johnson    bob@example.com     104.0  Widget A       1.0   \n",
       "4            4  Alice Brown  alice@example.com     105.0  Widget B       2.0   \n",
       "5            5    Eva Green    eva@example.com       NaN       NaN       NaN   \n",
       "6            6          NaN                NaN     106.0  Widget D       1.0   \n",
       "\n",
       "   order_date  \n",
       "0  2023-05-01  \n",
       "1  2023-05-03  \n",
       "2  2023-05-02  \n",
       "3  2023-05-04  \n",
       "4  2023-05-05  \n",
       "5         NaN  \n",
       "6  2023-05-06  "
      ]
     },
     "execution_count": 28,
     "metadata": {},
     "output_type": "execute_result"
    }
   ],
   "source": [
    "# Full outer join\n",
    "print(\"Full Outer Join Result:\")\n",
    "pd.merge(customers, orders, on='customer_id', how='outer')"
   ]
  },
  {
   "cell_type": "markdown",
   "metadata": {},
   "source": [
    "The full outer join returns all rows when there's a match in either the customers or orders table. NaN values are filled where there's no match.\n"
   ]
  },
  {
   "cell_type": "markdown",
   "metadata": {},
   "source": [
    "Understanding these join operations is crucial because:\n",
    "\n",
    "1. They allow you to combine data from different sources or tables.\n",
    "2. They're essential for analyzing relationships between different entities in your data.\n",
    "3. Many real-world data analysis tasks require joining data from multiple sources.\n"
   ]
  },
  {
   "cell_type": "markdown",
   "metadata": {},
   "source": [
    "In the upcoming lectures on merging, joining, and concatenating DataFrames, we'll explore these concepts in more depth and learn about additional Pandas functions for combining data. The foundation we've built here with SQL-like joins will make those advanced operations more intuitive and easier to grasp."
   ]
  },
  {
   "cell_type": "markdown",
   "metadata": {},
   "source": [
    "## <a id='toc4_'></a>[Aggregation and Grouping](#toc0_)"
   ]
  },
  {
   "cell_type": "markdown",
   "metadata": {},
   "source": [
    "Aggregation and grouping are powerful techniques in data analysis that allow you to summarize and compute statistics on groups of data. These operations are fundamental in both SQL and Pandas, enabling you to extract meaningful insights from your datasets.\n"
   ]
  },
  {
   "cell_type": "markdown",
   "metadata": {},
   "source": [
    "### <a id='toc4_1_'></a>[Aggregate Functions](#toc0_)\n"
   ]
  },
  {
   "cell_type": "markdown",
   "metadata": {},
   "source": [
    "Common aggregate functions include:\n",
    "\n",
    "- COUNT: Counts the number of rows\n",
    "- SUM: Calculates the sum of values\n",
    "- AVG (MEAN): Calculates the average of values\n",
    "- MAX: Finds the maximum value\n",
    "- MIN: Finds the minimum value\n"
   ]
  },
  {
   "cell_type": "markdown",
   "metadata": {},
   "source": [
    "Let's start with some basic aggregations on our `orders` DataFrame:\n"
   ]
  },
  {
   "cell_type": "code",
   "execution_count": 29,
   "metadata": {},
   "outputs": [
    {
     "name": "stdout",
     "output_type": "stream",
     "text": [
      "Total number of orders: 6\n",
      "Total quantity ordered: 10\n",
      "Average quantity per order: 1.6666666666666667\n",
      "Maximum quantity in an order: 3\n",
      "Minimum quantity in an order: 1\n",
      "\n",
      "Order Statistics:\n"
     ]
    },
    {
     "data": {
      "text/plain": [
       "count     6.000000\n",
       "sum      10.000000\n",
       "mean      1.666667\n",
       "max       3.000000\n",
       "min       1.000000\n",
       "Name: quantity, dtype: float64"
      ]
     },
     "execution_count": 29,
     "metadata": {},
     "output_type": "execute_result"
    }
   ],
   "source": [
    "# Basic aggregations\n",
    "print(\"Total number of orders:\", len(orders))\n",
    "print(\"Total quantity ordered:\", orders['quantity'].sum())\n",
    "print(\"Average quantity per order:\", orders['quantity'].mean())\n",
    "print(\"Maximum quantity in an order:\", orders['quantity'].max())\n",
    "print(\"Minimum quantity in an order:\", orders['quantity'].min())\n",
    "\n",
    "# Multiple aggregations at once\n",
    "order_stats = orders['quantity'].agg(['count', 'sum', 'mean', 'max', 'min'])\n",
    "print(\"\\nOrder Statistics:\")\n",
    "order_stats"
   ]
  },
  {
   "cell_type": "markdown",
   "metadata": {},
   "source": [
    "### <a id='toc4_2_'></a>[GROUP BY Clause](#toc0_)\n"
   ]
  },
  {
   "cell_type": "markdown",
   "metadata": {},
   "source": [
    "The GROUP BY clause is used to group rows that have the same values in specified columns. It's often used with aggregate functions to perform calculations on each group.\n"
   ]
  },
  {
   "cell_type": "markdown",
   "metadata": {},
   "source": [
    "SQL equivalent:"
   ]
  },
  {
   "cell_type": "markdown",
   "metadata": {},
   "source": [
    "```sql\n",
    "SELECT customer_id, COUNT(*) as order_count, SUM(quantity) as total_quantity\n",
    "FROM orders\n",
    "GROUP BY customer_id;\n",
    "```\n"
   ]
  },
  {
   "cell_type": "markdown",
   "metadata": {},
   "source": [
    "Pandas implementation:\n"
   ]
  },
  {
   "cell_type": "code",
   "execution_count": 30,
   "metadata": {},
   "outputs": [
    {
     "name": "stdout",
     "output_type": "stream",
     "text": [
      "Customer Order Summary:\n"
     ]
    },
    {
     "data": {
      "text/html": [
       "<div>\n",
       "<style scoped>\n",
       "    .dataframe tbody tr th:only-of-type {\n",
       "        vertical-align: middle;\n",
       "    }\n",
       "\n",
       "    .dataframe tbody tr th {\n",
       "        vertical-align: top;\n",
       "    }\n",
       "\n",
       "    .dataframe thead th {\n",
       "        text-align: right;\n",
       "    }\n",
       "</style>\n",
       "<table border=\"1\" class=\"dataframe\">\n",
       "  <thead>\n",
       "    <tr style=\"text-align: right;\">\n",
       "      <th></th>\n",
       "      <th>order_count</th>\n",
       "      <th>total_quantity</th>\n",
       "    </tr>\n",
       "    <tr>\n",
       "      <th>customer_id</th>\n",
       "      <th></th>\n",
       "      <th></th>\n",
       "    </tr>\n",
       "  </thead>\n",
       "  <tbody>\n",
       "    <tr>\n",
       "      <th>1</th>\n",
       "      <td>2</td>\n",
       "      <td>5</td>\n",
       "    </tr>\n",
       "    <tr>\n",
       "      <th>2</th>\n",
       "      <td>1</td>\n",
       "      <td>1</td>\n",
       "    </tr>\n",
       "    <tr>\n",
       "      <th>3</th>\n",
       "      <td>1</td>\n",
       "      <td>1</td>\n",
       "    </tr>\n",
       "    <tr>\n",
       "      <th>4</th>\n",
       "      <td>1</td>\n",
       "      <td>2</td>\n",
       "    </tr>\n",
       "    <tr>\n",
       "      <th>6</th>\n",
       "      <td>1</td>\n",
       "      <td>1</td>\n",
       "    </tr>\n",
       "  </tbody>\n",
       "</table>\n",
       "</div>"
      ],
      "text/plain": [
       "             order_count  total_quantity\n",
       "customer_id                             \n",
       "1                      2               5\n",
       "2                      1               1\n",
       "3                      1               1\n",
       "4                      1               2\n",
       "6                      1               1"
      ]
     },
     "execution_count": 30,
     "metadata": {},
     "output_type": "execute_result"
    }
   ],
   "source": [
    "# Group by customer_id and calculate order count and total quantity\n",
    "customer_orders = orders.groupby('customer_id').agg({\n",
    "    'order_id': 'count',\n",
    "    'quantity': 'sum'\n",
    "}).rename(columns={'order_id': 'order_count', 'quantity': 'total_quantity'})\n",
    "\n",
    "print(\"Customer Order Summary:\")\n",
    "customer_orders"
   ]
  },
  {
   "cell_type": "markdown",
   "metadata": {},
   "source": [
    "### <a id='toc4_3_'></a>[Multiple Aggregations](#toc0_)\n"
   ]
  },
  {
   "cell_type": "markdown",
   "metadata": {},
   "source": [
    "You can perform multiple aggregations on different columns:\n"
   ]
  },
  {
   "cell_type": "code",
   "execution_count": 31,
   "metadata": {},
   "outputs": [
    {
     "name": "stdout",
     "output_type": "stream",
     "text": [
      "Detailed Order Analysis:\n"
     ]
    },
    {
     "data": {
      "text/html": [
       "<div>\n",
       "<style scoped>\n",
       "    .dataframe tbody tr th:only-of-type {\n",
       "        vertical-align: middle;\n",
       "    }\n",
       "\n",
       "    .dataframe tbody tr th {\n",
       "        vertical-align: top;\n",
       "    }\n",
       "\n",
       "    .dataframe thead th {\n",
       "        text-align: right;\n",
       "    }\n",
       "</style>\n",
       "<table border=\"1\" class=\"dataframe\">\n",
       "  <thead>\n",
       "    <tr style=\"text-align: right;\">\n",
       "      <th></th>\n",
       "      <th>order_id_count</th>\n",
       "      <th>quantity_sum</th>\n",
       "      <th>quantity_mean</th>\n",
       "      <th>quantity_max</th>\n",
       "      <th>order_date_min</th>\n",
       "      <th>order_date_max</th>\n",
       "    </tr>\n",
       "    <tr>\n",
       "      <th>customer_id</th>\n",
       "      <th></th>\n",
       "      <th></th>\n",
       "      <th></th>\n",
       "      <th></th>\n",
       "      <th></th>\n",
       "      <th></th>\n",
       "    </tr>\n",
       "  </thead>\n",
       "  <tbody>\n",
       "    <tr>\n",
       "      <th>1</th>\n",
       "      <td>2</td>\n",
       "      <td>5</td>\n",
       "      <td>2.5</td>\n",
       "      <td>3</td>\n",
       "      <td>2023-05-01</td>\n",
       "      <td>2023-05-03</td>\n",
       "    </tr>\n",
       "    <tr>\n",
       "      <th>2</th>\n",
       "      <td>1</td>\n",
       "      <td>1</td>\n",
       "      <td>1.0</td>\n",
       "      <td>1</td>\n",
       "      <td>2023-05-02</td>\n",
       "      <td>2023-05-02</td>\n",
       "    </tr>\n",
       "    <tr>\n",
       "      <th>3</th>\n",
       "      <td>1</td>\n",
       "      <td>1</td>\n",
       "      <td>1.0</td>\n",
       "      <td>1</td>\n",
       "      <td>2023-05-04</td>\n",
       "      <td>2023-05-04</td>\n",
       "    </tr>\n",
       "    <tr>\n",
       "      <th>4</th>\n",
       "      <td>1</td>\n",
       "      <td>2</td>\n",
       "      <td>2.0</td>\n",
       "      <td>2</td>\n",
       "      <td>2023-05-05</td>\n",
       "      <td>2023-05-05</td>\n",
       "    </tr>\n",
       "    <tr>\n",
       "      <th>6</th>\n",
       "      <td>1</td>\n",
       "      <td>1</td>\n",
       "      <td>1.0</td>\n",
       "      <td>1</td>\n",
       "      <td>2023-05-06</td>\n",
       "      <td>2023-05-06</td>\n",
       "    </tr>\n",
       "  </tbody>\n",
       "</table>\n",
       "</div>"
      ],
      "text/plain": [
       "             order_id_count  quantity_sum  quantity_mean  quantity_max  \\\n",
       "customer_id                                                              \n",
       "1                         2             5            2.5             3   \n",
       "2                         1             1            1.0             1   \n",
       "3                         1             1            1.0             1   \n",
       "4                         1             2            2.0             2   \n",
       "6                         1             1            1.0             1   \n",
       "\n",
       "            order_date_min order_date_max  \n",
       "customer_id                                \n",
       "1               2023-05-01     2023-05-03  \n",
       "2               2023-05-02     2023-05-02  \n",
       "3               2023-05-04     2023-05-04  \n",
       "4               2023-05-05     2023-05-05  \n",
       "6               2023-05-06     2023-05-06  "
      ]
     },
     "execution_count": 31,
     "metadata": {},
     "output_type": "execute_result"
    }
   ],
   "source": [
    "# Multiple aggregations on different columns\n",
    "order_analysis = orders.groupby('customer_id').agg({\n",
    "    'order_id': 'count',\n",
    "    'quantity': ['sum', 'mean', 'max'],\n",
    "    'order_date': ['min', 'max']\n",
    "})\n",
    "\n",
    "# Flatten column names\n",
    "order_analysis.columns = ['_'.join(col).strip() for col in order_analysis.columns.values]\n",
    "\n",
    "print(\"Detailed Order Analysis:\")\n",
    "order_analysis"
   ]
  },
  {
   "cell_type": "markdown",
   "metadata": {},
   "source": [
    "### <a id='toc4_4_'></a>[Grouping by Multiple Columns](#toc0_)\n"
   ]
  },
  {
   "cell_type": "markdown",
   "metadata": {},
   "source": [
    "You can group by multiple columns to create more detailed summaries:\n"
   ]
  },
  {
   "cell_type": "code",
   "execution_count": 32,
   "metadata": {},
   "outputs": [
    {
     "name": "stdout",
     "output_type": "stream",
     "text": [
      "Product Analysis by Customer:\n"
     ]
    },
    {
     "data": {
      "text/html": [
       "<div>\n",
       "<style scoped>\n",
       "    .dataframe tbody tr th:only-of-type {\n",
       "        vertical-align: middle;\n",
       "    }\n",
       "\n",
       "    .dataframe tbody tr th {\n",
       "        vertical-align: top;\n",
       "    }\n",
       "\n",
       "    .dataframe thead tr th {\n",
       "        text-align: left;\n",
       "    }\n",
       "\n",
       "    .dataframe thead tr:last-of-type th {\n",
       "        text-align: right;\n",
       "    }\n",
       "</style>\n",
       "<table border=\"1\" class=\"dataframe\">\n",
       "  <thead>\n",
       "    <tr>\n",
       "      <th></th>\n",
       "      <th></th>\n",
       "      <th colspan=\"3\" halign=\"left\">quantity</th>\n",
       "    </tr>\n",
       "    <tr>\n",
       "      <th></th>\n",
       "      <th></th>\n",
       "      <th>count</th>\n",
       "      <th>sum</th>\n",
       "      <th>mean</th>\n",
       "    </tr>\n",
       "    <tr>\n",
       "      <th>customer_id</th>\n",
       "      <th>product</th>\n",
       "      <th></th>\n",
       "      <th></th>\n",
       "      <th></th>\n",
       "    </tr>\n",
       "  </thead>\n",
       "  <tbody>\n",
       "    <tr>\n",
       "      <th rowspan=\"2\" valign=\"top\">1</th>\n",
       "      <th>Widget A</th>\n",
       "      <td>1</td>\n",
       "      <td>2</td>\n",
       "      <td>2.0</td>\n",
       "    </tr>\n",
       "    <tr>\n",
       "      <th>Widget C</th>\n",
       "      <td>1</td>\n",
       "      <td>3</td>\n",
       "      <td>3.0</td>\n",
       "    </tr>\n",
       "    <tr>\n",
       "      <th>2</th>\n",
       "      <th>Widget B</th>\n",
       "      <td>1</td>\n",
       "      <td>1</td>\n",
       "      <td>1.0</td>\n",
       "    </tr>\n",
       "    <tr>\n",
       "      <th>3</th>\n",
       "      <th>Widget A</th>\n",
       "      <td>1</td>\n",
       "      <td>1</td>\n",
       "      <td>1.0</td>\n",
       "    </tr>\n",
       "    <tr>\n",
       "      <th>4</th>\n",
       "      <th>Widget B</th>\n",
       "      <td>1</td>\n",
       "      <td>2</td>\n",
       "      <td>2.0</td>\n",
       "    </tr>\n",
       "    <tr>\n",
       "      <th>6</th>\n",
       "      <th>Widget D</th>\n",
       "      <td>1</td>\n",
       "      <td>1</td>\n",
       "      <td>1.0</td>\n",
       "    </tr>\n",
       "  </tbody>\n",
       "</table>\n",
       "</div>"
      ],
      "text/plain": [
       "                     quantity         \n",
       "                        count sum mean\n",
       "customer_id product                   \n",
       "1           Widget A        1   2  2.0\n",
       "            Widget C        1   3  3.0\n",
       "2           Widget B        1   1  1.0\n",
       "3           Widget A        1   1  1.0\n",
       "4           Widget B        1   2  2.0\n",
       "6           Widget D        1   1  1.0"
      ]
     },
     "execution_count": 32,
     "metadata": {},
     "output_type": "execute_result"
    }
   ],
   "source": [
    "# Group by both customer_id and product\n",
    "product_analysis = orders.groupby(['customer_id', 'product']).agg({\n",
    "    'quantity': ['count', 'sum', 'mean']\n",
    "})\n",
    "\n",
    "print(\"Product Analysis by Customer:\")\n",
    "product_analysis"
   ]
  },
  {
   "cell_type": "markdown",
   "metadata": {},
   "source": [
    "### <a id='toc4_5_'></a>[HAVING Clause (Filtering Groups)](#toc0_)\n"
   ]
  },
  {
   "cell_type": "markdown",
   "metadata": {},
   "source": [
    "In SQL, the HAVING clause is used to filter groups based on aggregate results. In Pandas, we can achieve this by applying a filter after grouping:\n"
   ]
  },
  {
   "cell_type": "markdown",
   "metadata": {},
   "source": [
    "SQL equivalent:"
   ]
  },
  {
   "cell_type": "markdown",
   "metadata": {},
   "source": [
    "```sql\n",
    "SELECT customer_id, COUNT(*) as order_count\n",
    "FROM orders\n",
    "GROUP BY customer_id\n",
    "HAVING COUNT(*) > 1;\n",
    "```\n"
   ]
  },
  {
   "cell_type": "markdown",
   "metadata": {},
   "source": [
    "Pandas implementation:\n"
   ]
  },
  {
   "cell_type": "code",
   "execution_count": 33,
   "metadata": {},
   "outputs": [
    {
     "name": "stdout",
     "output_type": "stream",
     "text": [
      "Customers with Multiple Orders:\n"
     ]
    },
    {
     "data": {
      "text/html": [
       "<div>\n",
       "<style scoped>\n",
       "    .dataframe tbody tr th:only-of-type {\n",
       "        vertical-align: middle;\n",
       "    }\n",
       "\n",
       "    .dataframe tbody tr th {\n",
       "        vertical-align: top;\n",
       "    }\n",
       "\n",
       "    .dataframe thead th {\n",
       "        text-align: right;\n",
       "    }\n",
       "</style>\n",
       "<table border=\"1\" class=\"dataframe\">\n",
       "  <thead>\n",
       "    <tr style=\"text-align: right;\">\n",
       "      <th></th>\n",
       "      <th>customer_id</th>\n",
       "      <th>order_count</th>\n",
       "    </tr>\n",
       "  </thead>\n",
       "  <tbody>\n",
       "    <tr>\n",
       "      <th>0</th>\n",
       "      <td>1</td>\n",
       "      <td>2</td>\n",
       "    </tr>\n",
       "  </tbody>\n",
       "</table>\n",
       "</div>"
      ],
      "text/plain": [
       "   customer_id  order_count\n",
       "0            1            2"
      ]
     },
     "execution_count": 33,
     "metadata": {},
     "output_type": "execute_result"
    }
   ],
   "source": [
    "# Filter groups to show only customers with more than one order\n",
    "frequent_customers = orders.groupby('customer_id').size().reset_index(name='order_count')\n",
    "frequent_customers = frequent_customers[frequent_customers['order_count'] > 1]\n",
    "\n",
    "print(\"Customers with Multiple Orders:\")\n",
    "frequent_customers"
   ]
  },
  {
   "cell_type": "markdown",
   "metadata": {},
   "source": [
    "Understanding aggregation and grouping is crucial because:\n",
    "\n",
    "1. They allow you to summarize large datasets into meaningful insights.\n",
    "2. They're essential for performing analyses at different levels of granularity.\n",
    "3. Many data analysis tasks involve understanding patterns and trends within groups of data.\n"
   ]
  },
  {
   "cell_type": "markdown",
   "metadata": {},
   "source": [
    "As we move forward to more advanced Pandas operations, you'll see how these aggregation and grouping concepts form the basis for complex data manipulations and analyses. The ability to efficiently group and summarize data is a key skill in data processing and analysis."
   ]
  },
  {
   "cell_type": "markdown",
   "metadata": {},
   "source": [
    "## <a id='toc5_'></a>[Conclusion](#toc0_)"
   ]
  },
  {
   "cell_type": "markdown",
   "metadata": {},
   "source": [
    "In this lecture on Database Fundamentals for Data Processing, we've covered essential concepts that form the foundation of working with structured data, both in traditional databases and in Pandas. Let's recap the key points:\n",
    "\n",
    "1. **Introduction to Databases**: We learned about the importance of databases in data processing, different types of databases, and their key characteristics.\n",
    "\n",
    "2. **Relational Database Concepts**: We explored tables, rows, columns, primary keys, foreign keys, and relationships between tables. These concepts directly translate to how we structure and work with data in Pandas DataFrames.\n",
    "\n",
    "3. **Basic SQL Operations**: We covered fundamental SQL operations like SELECT, WHERE, ORDER BY, and LIMIT, and saw how they correspond to Pandas operations. This knowledge helps in translating database queries to Pandas code and vice versa.\n",
    "\n",
    "4. **Joining Tables**: We examined different types of joins (INNER, LEFT, RIGHT, FULL OUTER) and their implementations in both SQL and Pandas. Understanding joins is crucial for combining data from multiple sources or tables.\n",
    "\n",
    "5. **Aggregation and Grouping**: We explored aggregate functions, the GROUP BY clause, and advanced grouping operations. These techniques are essential for summarizing data and extracting meaningful insights.\n"
   ]
  },
  {
   "cell_type": "markdown",
   "metadata": {},
   "source": [
    "In the upcoming lectures, we'll build upon these fundamentals to explore more advanced Pandas operations:\n",
    "\n",
    "- Merging, Joining, and Concatenating DataFrames\n",
    "- Advanced Grouping and Aggregating Data\n",
    "- Reshaping DataFrames with Dummies\n",
    "- Pivoting, Melting, Stacking, and Unstacking Data\n"
   ]
  },
  {
   "cell_type": "markdown",
   "metadata": {},
   "source": [
    "The concepts you've learned here will serve as a strong foundation for understanding these more complex operations. You'll see how the principles of relational databases and SQL queries are reflected in Pandas' powerful data manipulation capabilities."
   ]
  }
 ],
 "metadata": {
  "kernelspec": {
   "display_name": "py310",
   "language": "python",
   "name": "python3"
  },
  "language_info": {
   "codemirror_mode": {
    "name": "ipython",
    "version": 3
   },
   "file_extension": ".py",
   "mimetype": "text/x-python",
   "name": "python",
   "nbconvert_exporter": "python",
   "pygments_lexer": "ipython3",
   "version": "3.10.12"
  }
 },
 "nbformat": 4,
 "nbformat_minor": 2
}
