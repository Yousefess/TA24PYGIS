{
 "cells": [
  {
   "cell_type": "markdown",
   "metadata": {},
   "source": [
    "# [String Manipulation](#)"
   ]
  },
  {
   "cell_type": "markdown",
   "metadata": {},
   "source": [
    "String manipulation is a crucial skill in data analysis and preprocessing. Pandas provides a powerful and efficient way to work with text data in Series and DataFrames. In this lecture, we'll explore various techniques for manipulating strings in Pandas, from basic operations to advanced regex-based transformations.\n"
   ]
  },
  {
   "cell_type": "markdown",
   "metadata": {},
   "source": [
    "Pandas leverages Python's string methods and extends them to work with Series and DataFrames, allowing for vectorized string operations. This means you can apply string functions to entire columns of data at once, which is both convenient and performant.\n"
   ]
  },
  {
   "cell_type": "markdown",
   "metadata": {},
   "source": [
    "Some key benefits of using Pandas for string manipulation include:\n",
    "\n",
    "1. **Vectorized operations**: Apply string methods to entire Series or DataFrame columns efficiently.\n",
    "2. **Handling of missing values**: Pandas automatically handles NaN/None values in string operations.\n",
    "3. **Chaining methods**: Combine multiple string operations in a single line of code.\n",
    "4. **Integration with regular expressions**: Powerful pattern matching and extraction capabilities.\n"
   ]
  },
  {
   "cell_type": "markdown",
   "metadata": {},
   "source": [
    "Throughout this lecture, we'll cover:\n",
    "- Accessing string methods in Pandas\n",
    "- Basic string operations like changing case and trimming whitespace\n",
    "- Extracting and replacing substrings\n",
    "- Working with regular expressions\n",
    "- Splitting and joining strings\n",
    "- Advanced string operations and practical use cases\n"
   ]
  },
  {
   "cell_type": "markdown",
   "metadata": {},
   "source": [
    "Let's start by importing Pandas and creating a sample DataFrame to work with:\n"
   ]
  },
  {
   "cell_type": "code",
   "execution_count": 1,
   "metadata": {},
   "outputs": [
    {
     "data": {
      "text/html": [
       "<div>\n",
       "<style scoped>\n",
       "    .dataframe tbody tr th:only-of-type {\n",
       "        vertical-align: middle;\n",
       "    }\n",
       "\n",
       "    .dataframe tbody tr th {\n",
       "        vertical-align: top;\n",
       "    }\n",
       "\n",
       "    .dataframe thead th {\n",
       "        text-align: right;\n",
       "    }\n",
       "</style>\n",
       "<table border=\"1\" class=\"dataframe\">\n",
       "  <thead>\n",
       "    <tr style=\"text-align: right;\">\n",
       "      <th></th>\n",
       "      <th>Name</th>\n",
       "      <th>Email</th>\n",
       "      <th>Address</th>\n",
       "    </tr>\n",
       "  </thead>\n",
       "  <tbody>\n",
       "    <tr>\n",
       "      <th>0</th>\n",
       "      <td>John Smith</td>\n",
       "      <td>john@example.com</td>\n",
       "      <td>123 Main St, NY</td>\n",
       "    </tr>\n",
       "    <tr>\n",
       "      <th>1</th>\n",
       "      <td>Jane Doe</td>\n",
       "      <td>jane@example.com</td>\n",
       "      <td>456 Elm St, CA</td>\n",
       "    </tr>\n",
       "    <tr>\n",
       "      <th>2</th>\n",
       "      <td>Bob Johnson</td>\n",
       "      <td>bob@example.com</td>\n",
       "      <td>789 Oak St, TX</td>\n",
       "    </tr>\n",
       "    <tr>\n",
       "      <th>3</th>\n",
       "      <td>Alice Brown</td>\n",
       "      <td>alice@example.com</td>\n",
       "      <td>321 Pine St, FL</td>\n",
       "    </tr>\n",
       "    <tr>\n",
       "      <th>4</th>\n",
       "      <td>NaN</td>\n",
       "      <td>unknown@example.com</td>\n",
       "      <td>654 Maple St, WA</td>\n",
       "    </tr>\n",
       "  </tbody>\n",
       "</table>\n",
       "</div>"
      ],
      "text/plain": [
       "          Name                Email           Address\n",
       "0   John Smith     john@example.com   123 Main St, NY\n",
       "1     Jane Doe     jane@example.com    456 Elm St, CA\n",
       "2  Bob Johnson      bob@example.com    789 Oak St, TX\n",
       "3  Alice Brown    alice@example.com   321 Pine St, FL\n",
       "4          NaN  unknown@example.com  654 Maple St, WA"
      ]
     },
     "execution_count": 1,
     "metadata": {},
     "output_type": "execute_result"
    }
   ],
   "source": [
    "import pandas as pd\n",
    "import numpy as np\n",
    "\n",
    "# Create a sample DataFrame with text data\n",
    "df = pd.DataFrame({\n",
    "    'Name': ['John Smith', 'Jane Doe', 'Bob Johnson', 'Alice Brown', np.nan],\n",
    "    'Email': ['john@example.com', 'jane@example.com', 'bob@example.com', 'alice@example.com', 'unknown@example.com'],\n",
    "    'Address': ['123 Main St, NY', '456 Elm St, CA', '789 Oak St, TX', '321 Pine St, FL', '654 Maple St, WA']\n",
    "})\n",
    "\n",
    "df"
   ]
  },
  {
   "cell_type": "markdown",
   "metadata": {},
   "source": [
    "This DataFrame contains common types of string data you might encounter in real-world datasets. We'll use this DataFrame to demonstrate various string manipulation techniques throughout the lecture.\n"
   ]
  },
  {
   "cell_type": "markdown",
   "metadata": {},
   "source": [
    "Remember that when working with strings in Pandas, we typically access string methods through the `.str` accessor. This allows Pandas to apply the operations in a vectorized manner, which is much more efficient than iterating over each element individually.\n"
   ]
  },
  {
   "cell_type": "markdown",
   "metadata": {},
   "source": [
    "In the following sections, we'll dive deep into specific string manipulation techniques and see how they can be applied to clean, transform, and extract information from text data in Pandas."
   ]
  },
  {
   "cell_type": "markdown",
   "metadata": {},
   "source": [
    "## <a id='toc1_'></a>[Accessing String Methods in Pandas](#toc0_)"
   ]
  },
  {
   "cell_type": "markdown",
   "metadata": {},
   "source": [
    "In Pandas, string methods are accessed through the `.str` accessor. This accessor provides a convenient way to apply string operations to entire Series or DataFrame columns containing string data. The `.str` accessor allows you to use most of Python's string methods, as well as some additional Pandas-specific string functions.\n"
   ]
  },
  {
   "cell_type": "markdown",
   "metadata": {},
   "source": [
    "Here's how you can access string methods in Pandas:\n"
   ]
  },
  {
   "cell_type": "code",
   "execution_count": 2,
   "metadata": {},
   "outputs": [
    {
     "data": {
      "text/plain": [
       "0     APPLE\n",
       "1    BANANA\n",
       "2    CHERRY\n",
       "3      DATE\n",
       "4       NaN\n",
       "dtype: object"
      ]
     },
     "execution_count": 2,
     "metadata": {},
     "output_type": "execute_result"
    }
   ],
   "source": [
    "# Create a sample Series with string data\n",
    "s = pd.Series(['apple', 'banana', 'cherry', 'date', np.nan])\n",
    "\n",
    "# Access string methods using the .str accessor\n",
    "s.str.upper()"
   ]
  },
  {
   "cell_type": "markdown",
   "metadata": {},
   "source": [
    "Let's explore some key points about using the `.str` accessor:\n"
   ]
  },
  {
   "cell_type": "markdown",
   "metadata": {},
   "source": [
    "### <a id='toc1_1_'></a>[Vectorized Operations](#toc0_)\n"
   ]
  },
  {
   "cell_type": "markdown",
   "metadata": {},
   "source": [
    "The `.str` accessor applies operations to all non-null elements in a Series or DataFrame column. This vectorized approach is much faster than iterating over each element individually.\n"
   ]
  },
  {
   "cell_type": "code",
   "execution_count": 3,
   "metadata": {},
   "outputs": [
    {
     "data": {
      "text/plain": [
       "0     john smith\n",
       "1       jane doe\n",
       "2    bob johnson\n",
       "3    alice brown\n",
       "4            NaN\n",
       "Name: Name, dtype: object"
      ]
     },
     "execution_count": 3,
     "metadata": {},
     "output_type": "execute_result"
    }
   ],
   "source": [
    "# Vectorized operation on the 'Name' column\n",
    "df['Name'].str.lower()"
   ]
  },
  {
   "cell_type": "markdown",
   "metadata": {},
   "source": [
    "### <a id='toc1_2_'></a>[Handling Missing Values](#toc0_)\n"
   ]
  },
  {
   "cell_type": "markdown",
   "metadata": {},
   "source": [
    "Pandas automatically handles missing values (NaN or None) when using string methods. These values are typically preserved or ignored, depending on the operation.\n"
   ]
  },
  {
   "cell_type": "code",
   "execution_count": 4,
   "metadata": {},
   "outputs": [
    {
     "data": {
      "text/plain": [
       "0    10.0\n",
       "1     8.0\n",
       "2    11.0\n",
       "3    11.0\n",
       "4     NaN\n",
       "Name: Name, dtype: float64"
      ]
     },
     "execution_count": 4,
     "metadata": {},
     "output_type": "execute_result"
    }
   ],
   "source": [
    "# Notice how the NaN value is preserved\n",
    "df['Name'].str.len()"
   ]
  },
  {
   "cell_type": "markdown",
   "metadata": {},
   "source": [
    "### <a id='toc1_4_'></a>[Accessing Individual Characters](#toc0_)\n"
   ]
  },
  {
   "cell_type": "markdown",
   "metadata": {},
   "source": [
    "You can access individual characters or slices of strings using indexing:\n"
   ]
  },
  {
   "cell_type": "code",
   "execution_count": null,
   "metadata": {},
   "outputs": [
    {
     "data": {
      "text/plain": [
       "0      J\n",
       "1      J\n",
       "2      B\n",
       "3      A\n",
       "4    NaN\n",
       "Name: Name, dtype: object"
      ]
     },
     "metadata": {},
     "output_type": "display_data"
    }
   ],
   "source": [
    "# Get the first character of each name\n",
    "df['Name'].str[0]"
   ]
  },
  {
   "cell_type": "code",
   "execution_count": null,
   "metadata": {},
   "outputs": [
    {
     "data": {
      "text/plain": [
       "0    Joh\n",
       "1    Jan\n",
       "2    Bob\n",
       "3    Ali\n",
       "4    NaN\n",
       "Name: Name, dtype: object"
      ]
     },
     "metadata": {},
     "output_type": "display_data"
    }
   ],
   "source": [
    "# Get the first three characters of each name\n",
    "df['Name'].str[:3]"
   ]
  },
  {
   "cell_type": "markdown",
   "metadata": {},
   "source": [
    "### <a id='toc1_3_'></a>[Method Chaining](#toc0_)\n"
   ]
  },
  {
   "cell_type": "markdown",
   "metadata": {},
   "source": [
    "You can chain multiple string operations together for more complex transformations:\n"
   ]
  },
  {
   "cell_type": "code",
   "execution_count": 5,
   "metadata": {},
   "outputs": [
    {
     "data": {
      "text/plain": [
       "0       John\n",
       "1       Jane\n",
       "2        Bob\n",
       "3      Alice\n",
       "4    Unknown\n",
       "Name: Email, dtype: object"
      ]
     },
     "execution_count": 5,
     "metadata": {},
     "output_type": "execute_result"
    }
   ],
   "source": [
    "# Chain multiple string operations\n",
    "df['Email'].str.split('@').str[0].str.capitalize()"
   ]
  },
  {
   "cell_type": "markdown",
   "metadata": {},
   "source": [
    "### <a id='toc1_5_'></a>[Boolean Indexing](#toc0_)\n"
   ]
  },
  {
   "cell_type": "markdown",
   "metadata": {},
   "source": [
    "String methods that return boolean values can be used for filtering:\n"
   ]
  },
  {
   "cell_type": "code",
   "execution_count": 8,
   "metadata": {},
   "outputs": [
    {
     "data": {
      "text/plain": [
       "0     True\n",
       "1     True\n",
       "2    False\n",
       "3    False\n",
       "4    False\n",
       "Name: Name, dtype: bool"
      ]
     },
     "execution_count": 8,
     "metadata": {},
     "output_type": "execute_result"
    }
   ],
   "source": [
    "df['Name'].str.startswith('J', na=False)"
   ]
  },
  {
   "cell_type": "code",
   "execution_count": 9,
   "metadata": {},
   "outputs": [
    {
     "data": {
      "text/html": [
       "<div>\n",
       "<style scoped>\n",
       "    .dataframe tbody tr th:only-of-type {\n",
       "        vertical-align: middle;\n",
       "    }\n",
       "\n",
       "    .dataframe tbody tr th {\n",
       "        vertical-align: top;\n",
       "    }\n",
       "\n",
       "    .dataframe thead th {\n",
       "        text-align: right;\n",
       "    }\n",
       "</style>\n",
       "<table border=\"1\" class=\"dataframe\">\n",
       "  <thead>\n",
       "    <tr style=\"text-align: right;\">\n",
       "      <th></th>\n",
       "      <th>Name</th>\n",
       "      <th>Email</th>\n",
       "      <th>Address</th>\n",
       "    </tr>\n",
       "  </thead>\n",
       "  <tbody>\n",
       "    <tr>\n",
       "      <th>0</th>\n",
       "      <td>John Smith</td>\n",
       "      <td>john@example.com</td>\n",
       "      <td>123 Main St, NY</td>\n",
       "    </tr>\n",
       "    <tr>\n",
       "      <th>1</th>\n",
       "      <td>Jane Doe</td>\n",
       "      <td>jane@example.com</td>\n",
       "      <td>456 Elm St, CA</td>\n",
       "    </tr>\n",
       "  </tbody>\n",
       "</table>\n",
       "</div>"
      ],
      "text/plain": [
       "         Name             Email          Address\n",
       "0  John Smith  john@example.com  123 Main St, NY\n",
       "1    Jane Doe  jane@example.com   456 Elm St, CA"
      ]
     },
     "execution_count": 9,
     "metadata": {},
     "output_type": "execute_result"
    }
   ],
   "source": [
    "# Filter names that start with 'J'\n",
    "# df[df['Name'].str.startswith('J')] # will raise an error since there are NaN values\n",
    "df[df['Name'].str.startswith('J', na=False)] # use na=False to handle NaN values"
   ]
  },
  {
   "cell_type": "markdown",
   "metadata": {},
   "source": [
    "### <a id='toc1_6_'></a>[Applying to DataFrame Columns](#toc0_)\n"
   ]
  },
  {
   "cell_type": "markdown",
   "metadata": {},
   "source": [
    "You can apply string methods to specific columns in a DataFrame:\n"
   ]
  },
  {
   "cell_type": "code",
   "execution_count": 10,
   "metadata": {},
   "outputs": [
    {
     "data": {
      "text/html": [
       "<div>\n",
       "<style scoped>\n",
       "    .dataframe tbody tr th:only-of-type {\n",
       "        vertical-align: middle;\n",
       "    }\n",
       "\n",
       "    .dataframe tbody tr th {\n",
       "        vertical-align: top;\n",
       "    }\n",
       "\n",
       "    .dataframe thead th {\n",
       "        text-align: right;\n",
       "    }\n",
       "</style>\n",
       "<table border=\"1\" class=\"dataframe\">\n",
       "  <thead>\n",
       "    <tr style=\"text-align: right;\">\n",
       "      <th></th>\n",
       "      <th>Name</th>\n",
       "      <th>Email</th>\n",
       "    </tr>\n",
       "  </thead>\n",
       "  <tbody>\n",
       "    <tr>\n",
       "      <th>0</th>\n",
       "      <td>JOHN SMITH</td>\n",
       "      <td>JOHN@EXAMPLE.COM</td>\n",
       "    </tr>\n",
       "    <tr>\n",
       "      <th>1</th>\n",
       "      <td>JANE DOE</td>\n",
       "      <td>JANE@EXAMPLE.COM</td>\n",
       "    </tr>\n",
       "    <tr>\n",
       "      <th>2</th>\n",
       "      <td>BOB JOHNSON</td>\n",
       "      <td>BOB@EXAMPLE.COM</td>\n",
       "    </tr>\n",
       "    <tr>\n",
       "      <th>3</th>\n",
       "      <td>ALICE BROWN</td>\n",
       "      <td>ALICE@EXAMPLE.COM</td>\n",
       "    </tr>\n",
       "    <tr>\n",
       "      <th>4</th>\n",
       "      <td>NaN</td>\n",
       "      <td>UNKNOWN@EXAMPLE.COM</td>\n",
       "    </tr>\n",
       "  </tbody>\n",
       "</table>\n",
       "</div>"
      ],
      "text/plain": [
       "          Name                Email\n",
       "0   JOHN SMITH     JOHN@EXAMPLE.COM\n",
       "1     JANE DOE     JANE@EXAMPLE.COM\n",
       "2  BOB JOHNSON      BOB@EXAMPLE.COM\n",
       "3  ALICE BROWN    ALICE@EXAMPLE.COM\n",
       "4          NaN  UNKNOWN@EXAMPLE.COM"
      ]
     },
     "execution_count": 10,
     "metadata": {},
     "output_type": "execute_result"
    }
   ],
   "source": [
    "# Apply string method to multiple columns\n",
    "df[['Name', 'Email']].apply(lambda x: x.str.upper())"
   ]
  },
  {
   "cell_type": "markdown",
   "metadata": {},
   "source": [
    "### <a id='toc1_7_'></a>[Regular Expressions](#toc0_)\n"
   ]
  },
  {
   "cell_type": "markdown",
   "metadata": {},
   "source": [
    "The `.str` accessor also provides methods for working with regular expressions:\n"
   ]
  },
  {
   "cell_type": "code",
   "execution_count": 11,
   "metadata": {},
   "outputs": [
    {
     "data": {
      "text/html": [
       "<div>\n",
       "<style scoped>\n",
       "    .dataframe tbody tr th:only-of-type {\n",
       "        vertical-align: middle;\n",
       "    }\n",
       "\n",
       "    .dataframe tbody tr th {\n",
       "        vertical-align: top;\n",
       "    }\n",
       "\n",
       "    .dataframe thead th {\n",
       "        text-align: right;\n",
       "    }\n",
       "</style>\n",
       "<table border=\"1\" class=\"dataframe\">\n",
       "  <thead>\n",
       "    <tr style=\"text-align: right;\">\n",
       "      <th></th>\n",
       "      <th>0</th>\n",
       "    </tr>\n",
       "  </thead>\n",
       "  <tbody>\n",
       "    <tr>\n",
       "      <th>0</th>\n",
       "      <td>example.com</td>\n",
       "    </tr>\n",
       "    <tr>\n",
       "      <th>1</th>\n",
       "      <td>example.com</td>\n",
       "    </tr>\n",
       "    <tr>\n",
       "      <th>2</th>\n",
       "      <td>example.com</td>\n",
       "    </tr>\n",
       "    <tr>\n",
       "      <th>3</th>\n",
       "      <td>example.com</td>\n",
       "    </tr>\n",
       "    <tr>\n",
       "      <th>4</th>\n",
       "      <td>example.com</td>\n",
       "    </tr>\n",
       "  </tbody>\n",
       "</table>\n",
       "</div>"
      ],
      "text/plain": [
       "             0\n",
       "0  example.com\n",
       "1  example.com\n",
       "2  example.com\n",
       "3  example.com\n",
       "4  example.com"
      ]
     },
     "execution_count": 11,
     "metadata": {},
     "output_type": "execute_result"
    }
   ],
   "source": [
    "# Extract the domain from email addresses\n",
    "df['Email'].str.extract(r'@(.+)$')"
   ]
  },
  {
   "cell_type": "markdown",
   "metadata": {},
   "source": [
    "Remember that when using the `.str` accessor, you're working with Pandas Series or DataFrame columns, not individual Python strings. This means that some Python string methods might behave slightly differently or have additional parameters when used through the `.str` accessor.\n"
   ]
  },
  {
   "cell_type": "markdown",
   "metadata": {},
   "source": [
    "By leveraging the `.str` accessor, you can perform powerful and efficient string manipulations on your Pandas data structures. In the following sections, we'll explore specific string operations in more detail and see how they can be applied to solve common data cleaning and transformation tasks."
   ]
  },
  {
   "cell_type": "markdown",
   "metadata": {},
   "source": [
    "## <a id='toc2_'></a>[Basic String Operations](#toc0_)"
   ]
  },
  {
   "cell_type": "markdown",
   "metadata": {},
   "source": [
    "Pandas provides a variety of basic string operations that are frequently used in data cleaning and preprocessing. Let's explore some of the most common operations.\n"
   ]
  },
  {
   "cell_type": "markdown",
   "metadata": {},
   "source": [
    "### <a id='toc2_1_'></a>[Changing Case (lower, upper, title, swapcase)](#toc0_)\n"
   ]
  },
  {
   "cell_type": "markdown",
   "metadata": {},
   "source": [
    "Changing the case of strings is often necessary for standardization or formatting purposes.\n"
   ]
  },
  {
   "cell_type": "code",
   "execution_count": 12,
   "metadata": {},
   "outputs": [],
   "source": [
    "# Create a sample Series\n",
    "s = pd.Series(['APPLE', 'banana', 'Cherry', 'DATE'])"
   ]
  },
  {
   "cell_type": "code",
   "execution_count": 13,
   "metadata": {},
   "outputs": [
    {
     "data": {
      "text/plain": [
       "0     apple\n",
       "1    banana\n",
       "2    cherry\n",
       "3      date\n",
       "dtype: object"
      ]
     },
     "execution_count": 13,
     "metadata": {},
     "output_type": "execute_result"
    }
   ],
   "source": [
    "# Convert to lowercase\n",
    "s.str.lower()"
   ]
  },
  {
   "cell_type": "code",
   "execution_count": 14,
   "metadata": {},
   "outputs": [
    {
     "data": {
      "text/plain": [
       "0     APPLE\n",
       "1    BANANA\n",
       "2    CHERRY\n",
       "3      DATE\n",
       "dtype: object"
      ]
     },
     "execution_count": 14,
     "metadata": {},
     "output_type": "execute_result"
    }
   ],
   "source": [
    "# Convert to uppercase\n",
    "s.str.upper()"
   ]
  },
  {
   "cell_type": "code",
   "execution_count": 15,
   "metadata": {},
   "outputs": [
    {
     "data": {
      "text/plain": [
       "0     Apple\n",
       "1    Banana\n",
       "2    Cherry\n",
       "3      Date\n",
       "dtype: object"
      ]
     },
     "execution_count": 15,
     "metadata": {},
     "output_type": "execute_result"
    }
   ],
   "source": [
    "# Convert to title case\n",
    "s.str.title()"
   ]
  },
  {
   "cell_type": "code",
   "execution_count": 16,
   "metadata": {},
   "outputs": [
    {
     "data": {
      "text/plain": [
       "0     apple\n",
       "1    BANANA\n",
       "2    cHERRY\n",
       "3      date\n",
       "dtype: object"
      ]
     },
     "execution_count": 16,
     "metadata": {},
     "output_type": "execute_result"
    }
   ],
   "source": [
    "# Swap case\n",
    "s.str.swapcase()"
   ]
  },
  {
   "cell_type": "code",
   "execution_count": 17,
   "metadata": {},
   "outputs": [
    {
     "data": {
      "text/plain": [
       "0     John Smith\n",
       "1       Jane Doe\n",
       "2    Bob Johnson\n",
       "3    Alice Brown\n",
       "4            NaN\n",
       "Name: Name, dtype: object"
      ]
     },
     "execution_count": 17,
     "metadata": {},
     "output_type": "execute_result"
    }
   ],
   "source": [
    "# Applying to our DataFrame\n",
    "df['Name'].str.title()"
   ]
  },
  {
   "cell_type": "markdown",
   "metadata": {},
   "source": [
    "### <a id='toc2_2_'></a>[Trimming Whitespace (strip, lstrip, rstrip)](#toc0_)\n"
   ]
  },
  {
   "cell_type": "markdown",
   "metadata": {},
   "source": [
    "Removing unwanted whitespace is crucial for data cleaning and comparison operations.\n"
   ]
  },
  {
   "cell_type": "code",
   "execution_count": 18,
   "metadata": {},
   "outputs": [],
   "source": [
    "# Create a Series with whitespace\n",
    "s = pd.Series(['  apple  ', ' banana ', 'cherry  ', '  date'])"
   ]
  },
  {
   "cell_type": "code",
   "execution_count": 19,
   "metadata": {},
   "outputs": [
    {
     "data": {
      "text/plain": [
       "0     apple\n",
       "1    banana\n",
       "2    cherry\n",
       "3      date\n",
       "dtype: object"
      ]
     },
     "execution_count": 19,
     "metadata": {},
     "output_type": "execute_result"
    }
   ],
   "source": [
    "# Remove whitespace from both ends\n",
    "s.str.strip()"
   ]
  },
  {
   "cell_type": "code",
   "execution_count": 20,
   "metadata": {},
   "outputs": [
    {
     "data": {
      "text/plain": [
       "0     apple  \n",
       "1     banana \n",
       "2    cherry  \n",
       "3        date\n",
       "dtype: object"
      ]
     },
     "execution_count": 20,
     "metadata": {},
     "output_type": "execute_result"
    }
   ],
   "source": [
    "# Remove whitespace from left side\n",
    "s.str.lstrip()"
   ]
  },
  {
   "cell_type": "code",
   "execution_count": 21,
   "metadata": {},
   "outputs": [
    {
     "data": {
      "text/plain": [
       "0      apple\n",
       "1     banana\n",
       "2     cherry\n",
       "3       date\n",
       "dtype: object"
      ]
     },
     "execution_count": 21,
     "metadata": {},
     "output_type": "execute_result"
    }
   ],
   "source": [
    "# Remove whitespace from right side\n",
    "s.str.rstrip()"
   ]
  },
  {
   "cell_type": "code",
   "execution_count": 22,
   "metadata": {},
   "outputs": [
    {
     "data": {
      "text/plain": [
       "0     123 Main St, NY\n",
       "1      456 Elm St, CA\n",
       "2      789 Oak St, TX\n",
       "3     321 Pine St, FL\n",
       "4    654 Maple St, WA\n",
       "Name: Address, dtype: object"
      ]
     },
     "execution_count": 22,
     "metadata": {},
     "output_type": "execute_result"
    }
   ],
   "source": [
    "# Applying to our DataFrame\n",
    "df['Address'] = df['Address'].str.strip()\n",
    "df['Address']"
   ]
  },
  {
   "cell_type": "markdown",
   "metadata": {},
   "source": [
    "You can also specify characters to remove:\n"
   ]
  },
  {
   "cell_type": "code",
   "execution_count": 23,
   "metadata": {},
   "outputs": [
    {
     "data": {
      "text/plain": [
       "0     apple\n",
       "1    banana\n",
       "2    cherry\n",
       "dtype: object"
      ]
     },
     "execution_count": 23,
     "metadata": {},
     "output_type": "execute_result"
    }
   ],
   "source": [
    "# Remove specific characters\n",
    "pd.Series(['##apple##', '#banana#', 'cherry##']).str.strip('#')"
   ]
  },
  {
   "cell_type": "markdown",
   "metadata": {},
   "source": [
    "### <a id='toc2_3_'></a>[Padding Strings (pad, center, ljust, rjust)](#toc0_)\n"
   ]
  },
  {
   "cell_type": "markdown",
   "metadata": {},
   "source": [
    "Padding strings is useful for formatting output or aligning text.\n"
   ]
  },
  {
   "cell_type": "code",
   "execution_count": 24,
   "metadata": {},
   "outputs": [],
   "source": [
    "# Create a Series of strings\n",
    "s = pd.Series(['apple', 'banana', 'cherry'])"
   ]
  },
  {
   "cell_type": "code",
   "execution_count": 25,
   "metadata": {},
   "outputs": [
    {
     "data": {
      "text/plain": [
       "0    *****apple\n",
       "1    ****banana\n",
       "2    ****cherry\n",
       "dtype: object"
      ]
     },
     "execution_count": 25,
     "metadata": {},
     "output_type": "execute_result"
    }
   ],
   "source": [
    "# Pad strings to a specified length\n",
    "s.str.pad(width=10, side='left', fillchar='*')"
   ]
  },
  {
   "cell_type": "code",
   "execution_count": 26,
   "metadata": {},
   "outputs": [
    {
     "data": {
      "text/plain": [
       "0    --apple---\n",
       "1    --banana--\n",
       "2    --cherry--\n",
       "dtype: object"
      ]
     },
     "execution_count": 26,
     "metadata": {},
     "output_type": "execute_result"
    }
   ],
   "source": [
    "# Center strings\n",
    "s.str.center(10, fillchar='-')"
   ]
  },
  {
   "cell_type": "code",
   "execution_count": 27,
   "metadata": {},
   "outputs": [
    {
     "data": {
      "text/plain": [
       "0    apple>>>>>\n",
       "1    banana>>>>\n",
       "2    cherry>>>>\n",
       "dtype: object"
      ]
     },
     "execution_count": 27,
     "metadata": {},
     "output_type": "execute_result"
    }
   ],
   "source": [
    "# Left justify\n",
    "s.str.ljust(10, fillchar='>')"
   ]
  },
  {
   "cell_type": "code",
   "execution_count": 28,
   "metadata": {},
   "outputs": [
    {
     "data": {
      "text/plain": [
       "0    <<<<<apple\n",
       "1    <<<<banana\n",
       "2    <<<<cherry\n",
       "dtype: object"
      ]
     },
     "execution_count": 28,
     "metadata": {},
     "output_type": "execute_result"
    }
   ],
   "source": [
    "# Right justify\n",
    "s.str.rjust(10, fillchar='<')"
   ]
  },
  {
   "cell_type": "code",
   "execution_count": 29,
   "metadata": {},
   "outputs": [
    {
     "data": {
      "text/plain": [
       "0    John Smith-----\n",
       "1    Jane Doe-------\n",
       "2    Bob Johnson----\n",
       "3    Alice Brown----\n",
       "4                NaN\n",
       "Name: Name, dtype: object"
      ]
     },
     "execution_count": 29,
     "metadata": {},
     "output_type": "execute_result"
    }
   ],
   "source": [
    "# Applying to our DataFrame\n",
    "df['Name'].str.ljust(15, fillchar='-')"
   ]
  },
  {
   "cell_type": "markdown",
   "metadata": {},
   "source": [
    "These methods are particularly useful when you need to format strings for display or when working with fixed-width data formats.\n"
   ]
  },
  {
   "cell_type": "markdown",
   "metadata": {},
   "source": [
    "These basic string operations form the foundation of text data preprocessing in Pandas. They are essential for cleaning and standardizing text data before more complex analyses or transformations are performed. In the next sections, we'll explore more advanced string manipulation techniques."
   ]
  },
  {
   "cell_type": "markdown",
   "metadata": {},
   "source": [
    "## <a id='toc3_'></a>[String Information and Checks](#toc0_)"
   ]
  },
  {
   "cell_type": "markdown",
   "metadata": {},
   "source": [
    "String information and checks are essential operations when working with text data. Pandas provides several methods to extract information from strings and check their contents.\n"
   ]
  },
  {
   "cell_type": "markdown",
   "metadata": {},
   "source": [
    "### <a id='toc3_1_'></a>[Length of Strings](#toc0_)\n"
   ]
  },
  {
   "cell_type": "markdown",
   "metadata": {},
   "source": [
    "To get the length of strings in a Series or DataFrame column, we use the `.str.len()` method:\n"
   ]
  },
  {
   "cell_type": "code",
   "execution_count": 30,
   "metadata": {},
   "outputs": [
    {
     "data": {
      "text/plain": [
       "0    10.0\n",
       "1     8.0\n",
       "2    11.0\n",
       "3    11.0\n",
       "4     NaN\n",
       "Name: Name, dtype: float64"
      ]
     },
     "execution_count": 30,
     "metadata": {},
     "output_type": "execute_result"
    }
   ],
   "source": [
    "# Calculate the length of each name\n",
    "df['Name'].str.len()"
   ]
  },
  {
   "cell_type": "code",
   "execution_count": 31,
   "metadata": {},
   "outputs": [
    {
     "data": {
      "text/plain": [
       "0    16\n",
       "1    16\n",
       "2    15\n",
       "3    17\n",
       "4    19\n",
       "Name: Email, dtype: int64"
      ]
     },
     "execution_count": 31,
     "metadata": {},
     "output_type": "execute_result"
    }
   ],
   "source": [
    "# Calculate the length of each email address\n",
    "df['Email'].str.len()\n"
   ]
  },
  {
   "cell_type": "markdown",
   "metadata": {},
   "source": [
    "This operation returns the number of characters in each string, including spaces and punctuation. It's useful for tasks like:\n",
    "- Identifying unusually long or short entries\n",
    "- Filtering data based on string length\n",
    "- Creating features for machine learning models\n"
   ]
  },
  {
   "cell_type": "markdown",
   "metadata": {},
   "source": [
    "### <a id='toc3_2_'></a>[Checking String Contents (startswith, endswith, contains)](#toc0_)\n"
   ]
  },
  {
   "cell_type": "markdown",
   "metadata": {},
   "source": [
    "Pandas provides several methods to check the contents of strings:\n"
   ]
  },
  {
   "cell_type": "markdown",
   "metadata": {},
   "source": [
    "The `.str.startswith()` method checks if a string starts with a specified substring:\n"
   ]
  },
  {
   "cell_type": "code",
   "execution_count": 32,
   "metadata": {},
   "outputs": [
    {
     "data": {
      "text/plain": [
       "0     True\n",
       "1     True\n",
       "2    False\n",
       "3    False\n",
       "4      NaN\n",
       "Name: Name, dtype: object"
      ]
     },
     "execution_count": 32,
     "metadata": {},
     "output_type": "execute_result"
    }
   ],
   "source": [
    "# Check if names start with 'J'\n",
    "df['Name'].str.startswith('J')"
   ]
  },
  {
   "cell_type": "code",
   "execution_count": 33,
   "metadata": {},
   "outputs": [
    {
     "data": {
      "text/plain": [
       "0     True\n",
       "1    False\n",
       "2    False\n",
       "3    False\n",
       "4    False\n",
       "Name: Email, dtype: bool"
      ]
     },
     "execution_count": 33,
     "metadata": {},
     "output_type": "execute_result"
    }
   ],
   "source": [
    "# Check if email addresses start with 'john'\n",
    "df['Email'].str.startswith('john')"
   ]
  },
  {
   "cell_type": "markdown",
   "metadata": {},
   "source": [
    "Similarly, `.str.endswith()` checks if a string ends with a specified substring:\n"
   ]
  },
  {
   "cell_type": "code",
   "execution_count": 34,
   "metadata": {},
   "outputs": [
    {
     "data": {
      "text/plain": [
       "0    True\n",
       "1    True\n",
       "2    True\n",
       "3    True\n",
       "4    True\n",
       "Name: Email, dtype: bool"
      ]
     },
     "execution_count": 34,
     "metadata": {},
     "output_type": "execute_result"
    }
   ],
   "source": [
    "# Check if email addresses end with '.com'\n",
    "df['Email'].str.endswith('.com')"
   ]
  },
  {
   "cell_type": "code",
   "execution_count": 35,
   "metadata": {},
   "outputs": [
    {
     "data": {
      "text/plain": [
       "0     True\n",
       "1    False\n",
       "2    False\n",
       "3    False\n",
       "4    False\n",
       "Name: Address, dtype: bool"
      ]
     },
     "execution_count": 35,
     "metadata": {},
     "output_type": "execute_result"
    }
   ],
   "source": [
    "# Check if addresses end with 'NY'\n",
    "df['Address'].str.endswith('NY')"
   ]
  },
  {
   "cell_type": "markdown",
   "metadata": {},
   "source": [
    "The `.str.contains()` method checks if a string contains a specified substring:\n"
   ]
  },
  {
   "cell_type": "code",
   "execution_count": 36,
   "metadata": {},
   "outputs": [
    {
     "data": {
      "text/plain": [
       "0     True\n",
       "1    False\n",
       "2    False\n",
       "3    False\n",
       "4      NaN\n",
       "Name: Name, dtype: object"
      ]
     },
     "execution_count": 36,
     "metadata": {},
     "output_type": "execute_result"
    }
   ],
   "source": [
    "# Check if names contain 'Smith'\n",
    "df['Name'].str.contains('Smith')"
   ]
  },
  {
   "cell_type": "code",
   "execution_count": 37,
   "metadata": {},
   "outputs": [
    {
     "data": {
      "text/plain": [
       "0    True\n",
       "1    True\n",
       "2    True\n",
       "3    True\n",
       "4    True\n",
       "Name: Address, dtype: bool"
      ]
     },
     "execution_count": 37,
     "metadata": {},
     "output_type": "execute_result"
    }
   ],
   "source": [
    "# Check if addresses contain 'St'\n",
    "df['Address'].str.contains('St')"
   ]
  },
  {
   "cell_type": "markdown",
   "metadata": {},
   "source": [
    "You can also use regular expressions with `contains()`:\n"
   ]
  },
  {
   "cell_type": "code",
   "execution_count": 38,
   "metadata": {},
   "outputs": [
    {
     "data": {
      "text/plain": [
       "0    False\n",
       "1    False\n",
       "2    False\n",
       "3    False\n",
       "4    False\n",
       "Name: Email, dtype: bool"
      ]
     },
     "execution_count": 38,
     "metadata": {},
     "output_type": "execute_result"
    }
   ],
   "source": [
    "# Check if email contains a digit\n",
    "df['Email'].str.contains(r'\\d')"
   ]
  },
  {
   "cell_type": "markdown",
   "metadata": {},
   "source": [
    "These methods are case-sensitive by default. You can make them case-insensitive by passing the `case=False` argument:\n"
   ]
  },
  {
   "cell_type": "code",
   "execution_count": 39,
   "metadata": {},
   "outputs": [
    {
     "data": {
      "text/plain": [
       "0     True\n",
       "1    False\n",
       "2    False\n",
       "3    False\n",
       "4      NaN\n",
       "Name: Name, dtype: object"
      ]
     },
     "execution_count": 39,
     "metadata": {},
     "output_type": "execute_result"
    }
   ],
   "source": [
    "# Case-insensitive check for 'SMITH' in names\n",
    "df['Name'].str.contains('SMITH', case=False)"
   ]
  },
  {
   "cell_type": "markdown",
   "metadata": {},
   "source": [
    "These string checking methods return boolean Series, which can be useful for:\n",
    "- Filtering data based on string contents\n",
    "- Creating binary features for analysis or modeling\n",
    "- Validating data entries\n"
   ]
  },
  {
   "cell_type": "markdown",
   "metadata": {},
   "source": [
    "Here's an example of using these methods for filtering:\n"
   ]
  },
  {
   "cell_type": "code",
   "execution_count": 40,
   "metadata": {},
   "outputs": [
    {
     "data": {
      "text/html": [
       "<div>\n",
       "<style scoped>\n",
       "    .dataframe tbody tr th:only-of-type {\n",
       "        vertical-align: middle;\n",
       "    }\n",
       "\n",
       "    .dataframe tbody tr th {\n",
       "        vertical-align: top;\n",
       "    }\n",
       "\n",
       "    .dataframe thead th {\n",
       "        text-align: right;\n",
       "    }\n",
       "</style>\n",
       "<table border=\"1\" class=\"dataframe\">\n",
       "  <thead>\n",
       "    <tr style=\"text-align: right;\">\n",
       "      <th></th>\n",
       "      <th>Name</th>\n",
       "      <th>Email</th>\n",
       "      <th>Address</th>\n",
       "    </tr>\n",
       "  </thead>\n",
       "  <tbody>\n",
       "    <tr>\n",
       "      <th>0</th>\n",
       "      <td>John Smith</td>\n",
       "      <td>john@example.com</td>\n",
       "      <td>123 Main St, NY</td>\n",
       "    </tr>\n",
       "    <tr>\n",
       "      <th>1</th>\n",
       "      <td>Jane Doe</td>\n",
       "      <td>jane@example.com</td>\n",
       "      <td>456 Elm St, CA</td>\n",
       "    </tr>\n",
       "  </tbody>\n",
       "</table>\n",
       "</div>"
      ],
      "text/plain": [
       "         Name             Email          Address\n",
       "0  John Smith  john@example.com  123 Main St, NY\n",
       "1    Jane Doe  jane@example.com   456 Elm St, CA"
      ]
     },
     "execution_count": 40,
     "metadata": {},
     "output_type": "execute_result"
    }
   ],
   "source": [
    "# Filter rows where the name starts with 'J' and the address contains 'St'\n",
    "df[(df['Name'].str.startswith('J')) & (df['Address'].str.contains('St'))]"
   ]
  },
  {
   "cell_type": "markdown",
   "metadata": {},
   "source": [
    "Remember that these methods automatically handle missing values (NaN) in the Series, treating them as False in the resulting boolean Series. If you want to preserve NaN values, you can use the `na=np.nan` parameter:\n"
   ]
  },
  {
   "cell_type": "code",
   "execution_count": 41,
   "metadata": {},
   "outputs": [
    {
     "data": {
      "text/plain": [
       "0     True\n",
       "1    False\n",
       "2    False\n",
       "3    False\n",
       "4      NaN\n",
       "Name: Name, dtype: object"
      ]
     },
     "execution_count": 41,
     "metadata": {},
     "output_type": "execute_result"
    }
   ],
   "source": [
    "# Preserve NaN values in the result\n",
    "df['Name'].str.contains('Smith', na=np.nan)"
   ]
  },
  {
   "cell_type": "markdown",
   "metadata": {},
   "source": [
    "These string information and checking methods provide powerful tools for exploring and manipulating text data in Pandas, allowing you to efficiently analyze and filter your data based on string contents."
   ]
  },
  {
   "cell_type": "markdown",
   "metadata": {},
   "source": [
    "## <a id='toc4_'></a>[Extracting and Replacing Substrings](#toc0_)"
   ]
  },
  {
   "cell_type": "markdown",
   "metadata": {},
   "source": [
    "Extracting specific parts of strings and replacing substrings are common operations in data cleaning and text analysis. Pandas provides several methods to perform these tasks efficiently.\n"
   ]
  },
  {
   "cell_type": "markdown",
   "metadata": {},
   "source": [
    "### <a id='toc4_1_'></a>[Substring Extraction (slice, get)](#toc0_)\n"
   ]
  },
  {
   "cell_type": "markdown",
   "metadata": {},
   "source": [
    "Pandas offers multiple ways to extract substrings from Series or DataFrame columns.\n"
   ]
  },
  {
   "cell_type": "markdown",
   "metadata": {},
   "source": [
    "The `str.slice()` method allows you to extract a portion of each string in a Series.\n"
   ]
  },
  {
   "cell_type": "code",
   "execution_count": 42,
   "metadata": {},
   "outputs": [
    {
     "data": {
      "text/plain": [
       "0     apple\n",
       "1    banana\n",
       "2    cherry\n",
       "3      date\n",
       "dtype: object"
      ]
     },
     "execution_count": 42,
     "metadata": {},
     "output_type": "execute_result"
    }
   ],
   "source": [
    "# Create a sample Series\n",
    "s = pd.Series(['apple', 'banana', 'cherry', 'date'])\n",
    "s"
   ]
  },
  {
   "cell_type": "code",
   "execution_count": 43,
   "metadata": {},
   "outputs": [
    {
     "data": {
      "text/plain": [
       "0    app\n",
       "1    ban\n",
       "2    che\n",
       "3    dat\n",
       "dtype: object"
      ]
     },
     "execution_count": 43,
     "metadata": {},
     "output_type": "execute_result"
    }
   ],
   "source": [
    "# Extract the first three characters\n",
    "s.str.slice(0, 3)"
   ]
  },
  {
   "cell_type": "code",
   "execution_count": 44,
   "metadata": {},
   "outputs": [
    {
     "data": {
      "text/plain": [
       "0     pple\n",
       "1    anana\n",
       "2    herry\n",
       "3      ate\n",
       "dtype: object"
      ]
     },
     "execution_count": 44,
     "metadata": {},
     "output_type": "execute_result"
    }
   ],
   "source": [
    "# Extract from the second character to the end\n",
    "s.str.slice(1)"
   ]
  },
  {
   "cell_type": "code",
   "execution_count": 45,
   "metadata": {},
   "outputs": [
    {
     "data": {
      "text/plain": [
       "0    le\n",
       "1    na\n",
       "2    ry\n",
       "3    te\n",
       "dtype: object"
      ]
     },
     "execution_count": 45,
     "metadata": {},
     "output_type": "execute_result"
    }
   ],
   "source": [
    "# Extract the last two characters\n",
    "s.str.slice(-2)"
   ]
  },
  {
   "cell_type": "code",
   "execution_count": 46,
   "metadata": {},
   "outputs": [
    {
     "data": {
      "text/plain": [
       "0    John \n",
       "1    Jane \n",
       "2    Bob J\n",
       "3    Alice\n",
       "4      NaN\n",
       "Name: Name, dtype: object"
      ]
     },
     "execution_count": 46,
     "metadata": {},
     "output_type": "execute_result"
    }
   ],
   "source": [
    "# Applying to our DataFrame\n",
    "df['Name'].str.slice(0, 5)"
   ]
  },
  {
   "cell_type": "markdown",
   "metadata": {},
   "source": [
    "The `str.get()` method is used to extract a single character at a specified position.\n"
   ]
  },
  {
   "cell_type": "code",
   "execution_count": 47,
   "metadata": {},
   "outputs": [
    {
     "data": {
      "text/plain": [
       "0    a\n",
       "1    b\n",
       "2    c\n",
       "3    d\n",
       "dtype: object"
      ]
     },
     "execution_count": 47,
     "metadata": {},
     "output_type": "execute_result"
    }
   ],
   "source": [
    "# Get the first character\n",
    "s.str.get(0)"
   ]
  },
  {
   "cell_type": "code",
   "execution_count": 48,
   "metadata": {},
   "outputs": [
    {
     "data": {
      "text/plain": [
       "0    e\n",
       "1    a\n",
       "2    y\n",
       "3    e\n",
       "dtype: object"
      ]
     },
     "execution_count": 48,
     "metadata": {},
     "output_type": "execute_result"
    }
   ],
   "source": [
    "# Get the last character\n",
    "s.str.get(-1)"
   ]
  },
  {
   "cell_type": "code",
   "execution_count": 49,
   "metadata": {},
   "outputs": [
    {
     "data": {
      "text/plain": [
       "0      J\n",
       "1      J\n",
       "2      B\n",
       "3      A\n",
       "4    NaN\n",
       "Name: Name, dtype: object"
      ]
     },
     "execution_count": 49,
     "metadata": {},
     "output_type": "execute_result"
    }
   ],
   "source": [
    "# Applying to our DataFrame\n",
    "df['Name'].str.get(0)"
   ]
  },
  {
   "cell_type": "markdown",
   "metadata": {},
   "source": [
    "### <a id='toc4_2_'></a>[Finding and Replacing (find, replace)](#toc0_)\n"
   ]
  },
  {
   "cell_type": "markdown",
   "metadata": {},
   "source": [
    "Finding and replacing substrings are crucial operations for data cleaning and transformation.\n"
   ]
  },
  {
   "cell_type": "markdown",
   "metadata": {},
   "source": [
    "The `str.find()` method locates the position of a substring within each string in a Series.\n"
   ]
  },
  {
   "cell_type": "code",
   "execution_count": 50,
   "metadata": {},
   "outputs": [
    {
     "data": {
      "text/plain": [
       "0       apple pie\n",
       "1    banana split\n",
       "2     cherry tart\n",
       "dtype: object"
      ]
     },
     "execution_count": 50,
     "metadata": {},
     "output_type": "execute_result"
    }
   ],
   "source": [
    "# Create a sample Series\n",
    "s = pd.Series(['apple pie', 'banana split', 'cherry tart'])\n",
    "s"
   ]
  },
  {
   "cell_type": "code",
   "execution_count": 51,
   "metadata": {},
   "outputs": [
    {
     "data": {
      "text/plain": [
       "0    0\n",
       "1    1\n",
       "2    8\n",
       "dtype: int64"
      ]
     },
     "execution_count": 51,
     "metadata": {},
     "output_type": "execute_result"
    }
   ],
   "source": [
    "# Find the position of 'a' in each string\n",
    "s.str.find('a')"
   ]
  },
  {
   "cell_type": "code",
   "execution_count": 52,
   "metadata": {},
   "outputs": [
    {
     "data": {
      "text/plain": [
       "0   -1\n",
       "1    1\n",
       "2   -1\n",
       "dtype: int64"
      ]
     },
     "execution_count": 52,
     "metadata": {},
     "output_type": "execute_result"
    }
   ],
   "source": [
    "# Find the position of 'an' in each string\n",
    "s.str.find('an')"
   ]
  },
  {
   "cell_type": "code",
   "execution_count": 53,
   "metadata": {},
   "outputs": [
    {
     "data": {
      "text/plain": [
       "0    4\n",
       "1    4\n",
       "2    3\n",
       "3    5\n",
       "4    7\n",
       "Name: Email, dtype: int64"
      ]
     },
     "execution_count": 53,
     "metadata": {},
     "output_type": "execute_result"
    }
   ],
   "source": [
    "# Applying to our DataFrame\n",
    "df['Email'].str.find('@')"
   ]
  },
  {
   "cell_type": "markdown",
   "metadata": {},
   "source": [
    "The `str.replace()` method substitutes occurrences of a substring with another string.\n"
   ]
  },
  {
   "cell_type": "code",
   "execution_count": 54,
   "metadata": {},
   "outputs": [
    {
     "data": {
      "text/plain": [
       "0       Xpple pie\n",
       "1    bXnXnX split\n",
       "2     cherry tXrt\n",
       "dtype: object"
      ]
     },
     "execution_count": 54,
     "metadata": {},
     "output_type": "execute_result"
    }
   ],
   "source": [
    "# Replace 'a' with 'X'\n",
    "s.str.replace('a', 'X')"
   ]
  },
  {
   "cell_type": "code",
   "execution_count": 55,
   "metadata": {},
   "outputs": [
    {
     "data": {
      "text/plain": [
       "0       Xpple pie\n",
       "1    bXnana split\n",
       "2     cherry tXrt\n",
       "dtype: object"
      ]
     },
     "execution_count": 55,
     "metadata": {},
     "output_type": "execute_result"
    }
   ],
   "source": [
    "# Replace the first occurrence of 'a' with 'X'\n",
    "s.str.replace('a', 'X', n=1)"
   ]
  },
  {
   "cell_type": "code",
   "execution_count": 56,
   "metadata": {},
   "outputs": [
    {
     "data": {
      "text/plain": [
       "0       apple_pie\n",
       "1    banana_split\n",
       "2     cherry_tart\n",
       "dtype: object"
      ]
     },
     "execution_count": 56,
     "metadata": {},
     "output_type": "execute_result"
    }
   ],
   "source": [
    "# Using regex for more complex replacements\n",
    "s.str.replace(r'\\s+', '_', regex=True)"
   ]
  },
  {
   "cell_type": "code",
   "execution_count": 57,
   "metadata": {},
   "outputs": [
    {
     "data": {
      "text/plain": [
       "0       john@newdomain.com\n",
       "1       jane@newdomain.com\n",
       "2        bob@newdomain.com\n",
       "3      alice@newdomain.com\n",
       "4    unknown@newdomain.com\n",
       "Name: Email, dtype: object"
      ]
     },
     "execution_count": 57,
     "metadata": {},
     "output_type": "execute_result"
    }
   ],
   "source": [
    "# Applying to our DataFrame\n",
    "df['Email'].str.replace('example.com', 'newdomain.com')"
   ]
  },
  {
   "cell_type": "markdown",
   "metadata": {},
   "source": [
    "Let's combine these techniques in a practical example:\n"
   ]
  },
  {
   "cell_type": "code",
   "execution_count": 59,
   "metadata": {},
   "outputs": [
    {
     "data": {
      "text/html": [
       "<div>\n",
       "<style scoped>\n",
       "    .dataframe tbody tr th:only-of-type {\n",
       "        vertical-align: middle;\n",
       "    }\n",
       "\n",
       "    .dataframe tbody tr th {\n",
       "        vertical-align: top;\n",
       "    }\n",
       "\n",
       "    .dataframe thead th {\n",
       "        text-align: right;\n",
       "    }\n",
       "</style>\n",
       "<table border=\"1\" class=\"dataframe\">\n",
       "  <thead>\n",
       "    <tr style=\"text-align: right;\">\n",
       "      <th></th>\n",
       "      <th>Name</th>\n",
       "      <th>Email</th>\n",
       "      <th>Address</th>\n",
       "    </tr>\n",
       "  </thead>\n",
       "  <tbody>\n",
       "    <tr>\n",
       "      <th>0</th>\n",
       "      <td>John Smith</td>\n",
       "      <td>john@example.com</td>\n",
       "      <td>123 Main St, NY</td>\n",
       "    </tr>\n",
       "    <tr>\n",
       "      <th>1</th>\n",
       "      <td>Jane Doe</td>\n",
       "      <td>jane@example.com</td>\n",
       "      <td>456 Elm St, CA</td>\n",
       "    </tr>\n",
       "    <tr>\n",
       "      <th>2</th>\n",
       "      <td>Bob Johnson</td>\n",
       "      <td>bob@example.com</td>\n",
       "      <td>789 Oak St, TX</td>\n",
       "    </tr>\n",
       "    <tr>\n",
       "      <th>3</th>\n",
       "      <td>Alice Brown</td>\n",
       "      <td>alice@example.com</td>\n",
       "      <td>321 Pine St, FL</td>\n",
       "    </tr>\n",
       "    <tr>\n",
       "      <th>4</th>\n",
       "      <td>NaN</td>\n",
       "      <td>unknown@example.com</td>\n",
       "      <td>654 Maple St, WA</td>\n",
       "    </tr>\n",
       "  </tbody>\n",
       "</table>\n",
       "</div>"
      ],
      "text/plain": [
       "          Name                Email           Address\n",
       "0   John Smith     john@example.com   123 Main St, NY\n",
       "1     Jane Doe     jane@example.com    456 Elm St, CA\n",
       "2  Bob Johnson      bob@example.com    789 Oak St, TX\n",
       "3  Alice Brown    alice@example.com   321 Pine St, FL\n",
       "4          NaN  unknown@example.com  654 Maple St, WA"
      ]
     },
     "execution_count": 59,
     "metadata": {},
     "output_type": "execute_result"
    }
   ],
   "source": [
    "df"
   ]
  },
  {
   "cell_type": "code",
   "execution_count": 60,
   "metadata": {},
   "outputs": [
    {
     "data": {
      "text/plain": [
       "0    4\n",
       "1    4\n",
       "2    3\n",
       "3    5\n",
       "4    7\n",
       "Name: Email, dtype: int64"
      ]
     },
     "execution_count": 60,
     "metadata": {},
     "output_type": "execute_result"
    }
   ],
   "source": [
    "df['Email'].str.find('@')"
   ]
  },
  {
   "cell_type": "code",
   "execution_count": 61,
   "metadata": {},
   "outputs": [
    {
     "data": {
      "text/plain": [
       "0       john\n",
       "1       jane\n",
       "2        bob\n",
       "3      alice\n",
       "4    unknown\n",
       "Name: Email, dtype: object"
      ]
     },
     "execution_count": 61,
     "metadata": {},
     "output_type": "execute_result"
    }
   ],
   "source": [
    "# Extract username from email\n",
    "df['Email'].str.split('@').str[0]"
   ]
  },
  {
   "cell_type": "code",
   "execution_count": 62,
   "metadata": {},
   "outputs": [
    {
     "data": {
      "text/plain": [
       "0       joh*@example.com\n",
       "1       jan*@example.com\n",
       "2        bob@example.com\n",
       "3      ali**@example.com\n",
       "4    unk****@example.com\n",
       "Name: Email, dtype: object"
      ]
     },
     "execution_count": 62,
     "metadata": {},
     "output_type": "execute_result"
    }
   ],
   "source": [
    "# Mask part of the email for privacy\n",
    "df['Email'].apply(lambda x: x[:3] + '*' * (x.find('@') - 3) + x[x.find('@'):] if isinstance(x, str) else x)"
   ]
  },
  {
   "cell_type": "code",
   "execution_count": 63,
   "metadata": {},
   "outputs": [
    {
     "data": {
      "text/plain": [
       "0       123 Main St, New York\n",
       "1      456 Elm St, California\n",
       "2           789 Oak St, Texas\n",
       "3        321 Pine St, Florida\n",
       "4    654 Maple St, Washington\n",
       "Name: Address, dtype: object"
      ]
     },
     "execution_count": 63,
     "metadata": {},
     "output_type": "execute_result"
    }
   ],
   "source": [
    "# Replace state abbreviations with full names\n",
    "state_mapping = {'NY': 'New York', 'CA': 'California', 'TX': 'Texas', 'FL': 'Florida', 'WA': 'Washington'}\n",
    "df['Address'].replace(state_mapping, regex=True)"
   ]
  },
  {
   "cell_type": "markdown",
   "metadata": {},
   "source": [
    "In this example, we've:\n",
    "1. Extracted usernames from email addresses.\n",
    "2. Created a masked version of email addresses for privacy.\n",
    "3. Replaced state abbreviations with full state names in the address.\n"
   ]
  },
  {
   "cell_type": "markdown",
   "metadata": {},
   "source": [
    "These operations demonstrate how substring extraction and replacement can be used to transform and enrich your data. They're particularly useful for tasks like data anonymization, standardization, and feature engineering.\n"
   ]
  },
  {
   "cell_type": "markdown",
   "metadata": {},
   "source": [
    "Remember that when working with large datasets, vectorized operations using Pandas string methods are generally more efficient than applying Python's built-in string methods to each element individually. However, for very complex string manipulations, you might need to combine Pandas methods with custom Python functions using `apply()`.m\n"
   ]
  },
  {
   "cell_type": "markdown",
   "metadata": {},
   "source": [
    "## <a id='toc5_'></a>[Regular Expressions in Pandas](#toc0_)"
   ]
  },
  {
   "cell_type": "markdown",
   "metadata": {},
   "source": [
    "Regular expressions (regex) are powerful tools for pattern matching and text manipulation. Pandas integrates regex functionality, allowing you to perform complex string operations efficiently on Series and DataFrame columns.\n"
   ]
  },
  {
   "cell_type": "markdown",
   "metadata": {},
   "source": [
    "### <a id='toc5_1_'></a>[Introduction to Regular Expressions](#toc0_)\n"
   ]
  },
  {
   "cell_type": "markdown",
   "metadata": {},
   "source": [
    "Regular expressions are sequences of characters that define a search pattern. They're particularly useful for:\n",
    "- Validating string formats (e.g., email addresses, phone numbers)\n",
    "- Extracting specific parts of strings\n",
    "- Complex find-and-replace operations\n"
   ]
  },
  {
   "cell_type": "markdown",
   "metadata": {},
   "source": [
    "In Pandas, you can use regex with many string methods by setting the `regex=True` parameter.\n"
   ]
  },
  {
   "cell_type": "markdown",
   "metadata": {},
   "source": [
    "### <a id='toc5_2_'></a>[Using `re.match`, `re.search`, and `re.findall`](#toc0_)\n"
   ]
  },
  {
   "cell_type": "markdown",
   "metadata": {},
   "source": [
    "Pandas provides methods that correspond to Python's `re` module functions:\n"
   ]
  },
  {
   "cell_type": "markdown",
   "metadata": {},
   "source": [
    "Checks if the pattern matches at the beginning of the string.\n"
   ]
  },
  {
   "cell_type": "code",
   "execution_count": 64,
   "metadata": {},
   "outputs": [
    {
     "data": {
      "text/plain": [
       "0     True\n",
       "1     True\n",
       "2    False\n",
       "dtype: bool"
      ]
     },
     "execution_count": 64,
     "metadata": {},
     "output_type": "execute_result"
    }
   ],
   "source": [
    "# Create a sample Series\n",
    "s = pd.Series(['foo123', 'bar456', '123baz'])\n",
    "\n",
    "# Check if strings start with letters\n",
    "s.str.match(r'[a-zA-Z]+')"
   ]
  },
  {
   "cell_type": "markdown",
   "metadata": {},
   "source": [
    "Checks if the pattern is contained anywhere in the string (similar to re.search).\n"
   ]
  },
  {
   "cell_type": "code",
   "execution_count": 65,
   "metadata": {},
   "outputs": [
    {
     "data": {
      "text/plain": [
       "0    True\n",
       "1    True\n",
       "2    True\n",
       "dtype: bool"
      ]
     },
     "execution_count": 65,
     "metadata": {},
     "output_type": "execute_result"
    }
   ],
   "source": [
    "# Check if strings contain digits\n",
    "s.str.contains(r'\\d+')"
   ]
  },
  {
   "cell_type": "markdown",
   "metadata": {},
   "source": [
    "Finds all occurrences of the pattern in each string.\n"
   ]
  },
  {
   "cell_type": "code",
   "execution_count": 66,
   "metadata": {},
   "outputs": [
    {
     "data": {
      "text/plain": [
       "0    [123]\n",
       "1    [456]\n",
       "2    [123]\n",
       "dtype: object"
      ]
     },
     "execution_count": 66,
     "metadata": {},
     "output_type": "execute_result"
    }
   ],
   "source": [
    "# Find all digits in each string\n",
    "s.str.findall(r'\\d+')"
   ]
  },
  {
   "cell_type": "code",
   "execution_count": 68,
   "metadata": {},
   "outputs": [
    {
     "data": {
      "text/plain": [
       "0    [123]\n",
       "1    [456]\n",
       "2    [789]\n",
       "3    [321]\n",
       "4    [654]\n",
       "Name: Address, dtype: object"
      ]
     },
     "execution_count": 68,
     "metadata": {},
     "output_type": "execute_result"
    }
   ],
   "source": [
    "# Applying to our DataFrame\n",
    "df['Address'].str.findall(r'\\d+')  # Extract all numbers from addresses"
   ]
  },
  {
   "cell_type": "markdown",
   "metadata": {},
   "source": [
    "### <a id='toc5_3_'></a>[Extracting Information with Regex](#toc0_)\n"
   ]
  },
  {
   "cell_type": "markdown",
   "metadata": {},
   "source": [
    "Regex is particularly powerful for extracting structured information from strings.\n"
   ]
  },
  {
   "cell_type": "markdown",
   "metadata": {},
   "source": [
    "Extracts the first occurrence of a pattern with capture groups.\n"
   ]
  },
  {
   "cell_type": "code",
   "execution_count": 72,
   "metadata": {},
   "outputs": [
    {
     "data": {
      "text/plain": [
       "0    foo123\n",
       "1    bar456\n",
       "2    123baz\n",
       "dtype: object"
      ]
     },
     "execution_count": 72,
     "metadata": {},
     "output_type": "execute_result"
    }
   ],
   "source": [
    "s"
   ]
  },
  {
   "cell_type": "code",
   "execution_count": 70,
   "metadata": {},
   "outputs": [
    {
     "data": {
      "text/html": [
       "<div>\n",
       "<style scoped>\n",
       "    .dataframe tbody tr th:only-of-type {\n",
       "        vertical-align: middle;\n",
       "    }\n",
       "\n",
       "    .dataframe tbody tr th {\n",
       "        vertical-align: top;\n",
       "    }\n",
       "\n",
       "    .dataframe thead th {\n",
       "        text-align: right;\n",
       "    }\n",
       "</style>\n",
       "<table border=\"1\" class=\"dataframe\">\n",
       "  <thead>\n",
       "    <tr style=\"text-align: right;\">\n",
       "      <th></th>\n",
       "      <th>0</th>\n",
       "      <th>1</th>\n",
       "    </tr>\n",
       "  </thead>\n",
       "  <tbody>\n",
       "    <tr>\n",
       "      <th>0</th>\n",
       "      <td>foo</td>\n",
       "      <td>123</td>\n",
       "    </tr>\n",
       "    <tr>\n",
       "      <th>1</th>\n",
       "      <td>bar</td>\n",
       "      <td>456</td>\n",
       "    </tr>\n",
       "    <tr>\n",
       "      <th>2</th>\n",
       "      <td>NaN</td>\n",
       "      <td>NaN</td>\n",
       "    </tr>\n",
       "  </tbody>\n",
       "</table>\n",
       "</div>"
      ],
      "text/plain": [
       "     0    1\n",
       "0  foo  123\n",
       "1  bar  456\n",
       "2  NaN  NaN"
      ]
     },
     "execution_count": 70,
     "metadata": {},
     "output_type": "execute_result"
    }
   ],
   "source": [
    "# Extract the first word and number from each string\n",
    "s.str.extract(r'([a-zA-Z]+)(\\d+)')"
   ]
  },
  {
   "cell_type": "code",
   "execution_count": 71,
   "metadata": {},
   "outputs": [
    {
     "data": {
      "text/html": [
       "<div>\n",
       "<style scoped>\n",
       "    .dataframe tbody tr th:only-of-type {\n",
       "        vertical-align: middle;\n",
       "    }\n",
       "\n",
       "    .dataframe tbody tr th {\n",
       "        vertical-align: top;\n",
       "    }\n",
       "\n",
       "    .dataframe thead th {\n",
       "        text-align: right;\n",
       "    }\n",
       "</style>\n",
       "<table border=\"1\" class=\"dataframe\">\n",
       "  <thead>\n",
       "    <tr style=\"text-align: right;\">\n",
       "      <th></th>\n",
       "      <th>0</th>\n",
       "      <th>1</th>\n",
       "      <th>2</th>\n",
       "    </tr>\n",
       "  </thead>\n",
       "  <tbody>\n",
       "    <tr>\n",
       "      <th>0</th>\n",
       "      <td>123</td>\n",
       "      <td>Main St</td>\n",
       "      <td>NY</td>\n",
       "    </tr>\n",
       "    <tr>\n",
       "      <th>1</th>\n",
       "      <td>456</td>\n",
       "      <td>Elm St</td>\n",
       "      <td>CA</td>\n",
       "    </tr>\n",
       "    <tr>\n",
       "      <th>2</th>\n",
       "      <td>789</td>\n",
       "      <td>Oak St</td>\n",
       "      <td>TX</td>\n",
       "    </tr>\n",
       "    <tr>\n",
       "      <th>3</th>\n",
       "      <td>321</td>\n",
       "      <td>Pine St</td>\n",
       "      <td>FL</td>\n",
       "    </tr>\n",
       "    <tr>\n",
       "      <th>4</th>\n",
       "      <td>654</td>\n",
       "      <td>Maple St</td>\n",
       "      <td>WA</td>\n",
       "    </tr>\n",
       "  </tbody>\n",
       "</table>\n",
       "</div>"
      ],
      "text/plain": [
       "     0         1   2\n",
       "0  123   Main St  NY\n",
       "1  456    Elm St  CA\n",
       "2  789    Oak St  TX\n",
       "3  321   Pine St  FL\n",
       "4  654  Maple St  WA"
      ]
     },
     "execution_count": 71,
     "metadata": {},
     "output_type": "execute_result"
    }
   ],
   "source": [
    "# Applying to our DataFrame\n",
    "df['Address'].str.extract(r'(\\d+)\\s+(.+),\\s+(\\w{2})')  # Extract street number, street name, and state"
   ]
  },
  {
   "cell_type": "markdown",
   "metadata": {},
   "source": [
    "Extracts all occurrences of a pattern with capture groups.\n"
   ]
  },
  {
   "cell_type": "code",
   "execution_count": 73,
   "metadata": {},
   "outputs": [
    {
     "data": {
      "text/html": [
       "<div>\n",
       "<style scoped>\n",
       "    .dataframe tbody tr th:only-of-type {\n",
       "        vertical-align: middle;\n",
       "    }\n",
       "\n",
       "    .dataframe tbody tr th {\n",
       "        vertical-align: top;\n",
       "    }\n",
       "\n",
       "    .dataframe thead th {\n",
       "        text-align: right;\n",
       "    }\n",
       "</style>\n",
       "<table border=\"1\" class=\"dataframe\">\n",
       "  <thead>\n",
       "    <tr style=\"text-align: right;\">\n",
       "      <th></th>\n",
       "      <th></th>\n",
       "      <th>0</th>\n",
       "      <th>1</th>\n",
       "    </tr>\n",
       "    <tr>\n",
       "      <th></th>\n",
       "      <th>match</th>\n",
       "      <th></th>\n",
       "      <th></th>\n",
       "    </tr>\n",
       "  </thead>\n",
       "  <tbody>\n",
       "    <tr>\n",
       "      <th>0</th>\n",
       "      <th>0</th>\n",
       "      <td>foo</td>\n",
       "      <td>123</td>\n",
       "    </tr>\n",
       "    <tr>\n",
       "      <th>1</th>\n",
       "      <th>0</th>\n",
       "      <td>bar</td>\n",
       "      <td>456</td>\n",
       "    </tr>\n",
       "  </tbody>\n",
       "</table>\n",
       "</div>"
      ],
      "text/plain": [
       "           0    1\n",
       "  match          \n",
       "0 0      foo  123\n",
       "1 0      bar  456"
      ]
     },
     "execution_count": 73,
     "metadata": {},
     "output_type": "execute_result"
    }
   ],
   "source": [
    "# Extract all words and numbers\n",
    "s.str.extractall(r'([a-zA-Z]+)(\\d+)')"
   ]
  },
  {
   "cell_type": "code",
   "execution_count": 74,
   "metadata": {},
   "outputs": [
    {
     "data": {
      "text/html": [
       "<div>\n",
       "<style scoped>\n",
       "    .dataframe tbody tr th:only-of-type {\n",
       "        vertical-align: middle;\n",
       "    }\n",
       "\n",
       "    .dataframe tbody tr th {\n",
       "        vertical-align: top;\n",
       "    }\n",
       "\n",
       "    .dataframe thead th {\n",
       "        text-align: right;\n",
       "    }\n",
       "</style>\n",
       "<table border=\"1\" class=\"dataframe\">\n",
       "  <thead>\n",
       "    <tr style=\"text-align: right;\">\n",
       "      <th></th>\n",
       "      <th></th>\n",
       "      <th>0</th>\n",
       "      <th>1</th>\n",
       "    </tr>\n",
       "    <tr>\n",
       "      <th></th>\n",
       "      <th>match</th>\n",
       "      <th></th>\n",
       "      <th></th>\n",
       "    </tr>\n",
       "  </thead>\n",
       "  <tbody>\n",
       "    <tr>\n",
       "      <th>0</th>\n",
       "      <th>0</th>\n",
       "      <td>john</td>\n",
       "      <td>example.com</td>\n",
       "    </tr>\n",
       "    <tr>\n",
       "      <th>1</th>\n",
       "      <th>0</th>\n",
       "      <td>jane</td>\n",
       "      <td>example.com</td>\n",
       "    </tr>\n",
       "    <tr>\n",
       "      <th>2</th>\n",
       "      <th>0</th>\n",
       "      <td>bob</td>\n",
       "      <td>example.com</td>\n",
       "    </tr>\n",
       "    <tr>\n",
       "      <th>3</th>\n",
       "      <th>0</th>\n",
       "      <td>alice</td>\n",
       "      <td>example.com</td>\n",
       "    </tr>\n",
       "    <tr>\n",
       "      <th>4</th>\n",
       "      <th>0</th>\n",
       "      <td>unknown</td>\n",
       "      <td>example.com</td>\n",
       "    </tr>\n",
       "  </tbody>\n",
       "</table>\n",
       "</div>"
      ],
      "text/plain": [
       "               0            1\n",
       "  match                      \n",
       "0 0         john  example.com\n",
       "1 0         jane  example.com\n",
       "2 0          bob  example.com\n",
       "3 0        alice  example.com\n",
       "4 0      unknown  example.com"
      ]
     },
     "execution_count": 74,
     "metadata": {},
     "output_type": "execute_result"
    }
   ],
   "source": [
    "# Applying to our DataFrame\n",
    "df['Email'].str.extractall(r'(\\w+)@(\\w+\\.\\w+)')  # Extract username and domain from email"
   ]
  },
  {
   "cell_type": "markdown",
   "metadata": {},
   "source": [
    "Let's combine these techniques in a practical example:\n"
   ]
  },
  {
   "cell_type": "code",
   "execution_count": 86,
   "metadata": {},
   "outputs": [
    {
     "data": {
      "text/html": [
       "<div>\n",
       "<style scoped>\n",
       "    .dataframe tbody tr th:only-of-type {\n",
       "        vertical-align: middle;\n",
       "    }\n",
       "\n",
       "    .dataframe tbody tr th {\n",
       "        vertical-align: top;\n",
       "    }\n",
       "\n",
       "    .dataframe thead th {\n",
       "        text-align: right;\n",
       "    }\n",
       "</style>\n",
       "<table border=\"1\" class=\"dataframe\">\n",
       "  <thead>\n",
       "    <tr style=\"text-align: right;\">\n",
       "      <th></th>\n",
       "      <th>Name</th>\n",
       "      <th>Email</th>\n",
       "      <th>Address</th>\n",
       "    </tr>\n",
       "  </thead>\n",
       "  <tbody>\n",
       "    <tr>\n",
       "      <th>0</th>\n",
       "      <td>John Smith</td>\n",
       "      <td>john@example.com</td>\n",
       "      <td>123 Main St, NY 10001</td>\n",
       "    </tr>\n",
       "    <tr>\n",
       "      <th>1</th>\n",
       "      <td>Jane Doe</td>\n",
       "      <td>jane@example.com</td>\n",
       "      <td>456 Elm St, CA 90210</td>\n",
       "    </tr>\n",
       "    <tr>\n",
       "      <th>2</th>\n",
       "      <td>Bob Johnson</td>\n",
       "      <td>bob@example.com</td>\n",
       "      <td>789 Oak St, TX 75001</td>\n",
       "    </tr>\n",
       "    <tr>\n",
       "      <th>3</th>\n",
       "      <td>Alice Brown</td>\n",
       "      <td>alice@example.com</td>\n",
       "      <td>321 Pine St, FL 33101</td>\n",
       "    </tr>\n",
       "    <tr>\n",
       "      <th>4</th>\n",
       "      <td>None</td>\n",
       "      <td>unknown@example.com</td>\n",
       "      <td>654 Maple St, WA 98101</td>\n",
       "    </tr>\n",
       "  </tbody>\n",
       "</table>\n",
       "</div>"
      ],
      "text/plain": [
       "          Name                Email                 Address\n",
       "0   John Smith     john@example.com   123 Main St, NY 10001\n",
       "1     Jane Doe     jane@example.com    456 Elm St, CA 90210\n",
       "2  Bob Johnson      bob@example.com    789 Oak St, TX 75001\n",
       "3  Alice Brown    alice@example.com   321 Pine St, FL 33101\n",
       "4         None  unknown@example.com  654 Maple St, WA 98101"
      ]
     },
     "execution_count": 86,
     "metadata": {},
     "output_type": "execute_result"
    }
   ],
   "source": [
    "# Ensure we have our sample DataFrame\n",
    "df = pd.DataFrame({\n",
    "    'Name': ['John Smith', 'Jane Doe', 'Bob Johnson', 'Alice Brown', None],\n",
    "    'Email': ['john@example.com', 'jane@example.com', 'bob@example.com', 'alice@example.com', 'unknown@example.com'],\n",
    "    'Address': ['123 Main St, NY 10001', '456 Elm St, CA 90210', '789 Oak St, TX 75001', '321 Pine St, FL 33101', '654 Maple St, WA 98101']\n",
    "})\n",
    "df"
   ]
  },
  {
   "cell_type": "code",
   "execution_count": 87,
   "metadata": {},
   "outputs": [
    {
     "data": {
      "text/html": [
       "<div>\n",
       "<style scoped>\n",
       "    .dataframe tbody tr th:only-of-type {\n",
       "        vertical-align: middle;\n",
       "    }\n",
       "\n",
       "    .dataframe tbody tr th {\n",
       "        vertical-align: top;\n",
       "    }\n",
       "\n",
       "    .dataframe thead th {\n",
       "        text-align: right;\n",
       "    }\n",
       "</style>\n",
       "<table border=\"1\" class=\"dataframe\">\n",
       "  <thead>\n",
       "    <tr style=\"text-align: right;\">\n",
       "      <th></th>\n",
       "      <th>Street_Number</th>\n",
       "      <th>Street_Name</th>\n",
       "      <th>State</th>\n",
       "      <th>Zip_Code</th>\n",
       "    </tr>\n",
       "  </thead>\n",
       "  <tbody>\n",
       "    <tr>\n",
       "      <th>0</th>\n",
       "      <td>123</td>\n",
       "      <td>Main St</td>\n",
       "      <td>NY</td>\n",
       "      <td>10001</td>\n",
       "    </tr>\n",
       "    <tr>\n",
       "      <th>1</th>\n",
       "      <td>456</td>\n",
       "      <td>Elm St</td>\n",
       "      <td>CA</td>\n",
       "      <td>90210</td>\n",
       "    </tr>\n",
       "    <tr>\n",
       "      <th>2</th>\n",
       "      <td>789</td>\n",
       "      <td>Oak St</td>\n",
       "      <td>TX</td>\n",
       "      <td>75001</td>\n",
       "    </tr>\n",
       "    <tr>\n",
       "      <th>3</th>\n",
       "      <td>321</td>\n",
       "      <td>Pine St</td>\n",
       "      <td>FL</td>\n",
       "      <td>33101</td>\n",
       "    </tr>\n",
       "    <tr>\n",
       "      <th>4</th>\n",
       "      <td>654</td>\n",
       "      <td>Maple St</td>\n",
       "      <td>WA</td>\n",
       "      <td>98101</td>\n",
       "    </tr>\n",
       "  </tbody>\n",
       "</table>\n",
       "</div>"
      ],
      "text/plain": [
       "  Street_Number Street_Name State Zip_Code\n",
       "0           123     Main St    NY    10001\n",
       "1           456      Elm St    CA    90210\n",
       "2           789      Oak St    TX    75001\n",
       "3           321     Pine St    FL    33101\n",
       "4           654    Maple St    WA    98101"
      ]
     },
     "execution_count": 87,
     "metadata": {},
     "output_type": "execute_result"
    }
   ],
   "source": [
    "# Extract components from the Address\n",
    "address_components = df['Address'].str.extract(r'(\\d+)\\s+(.+),\\s+(\\w{2})\\s+(\\d{5})')\n",
    "address_components.columns = ['Street_Number', 'Street_Name', 'State', 'Zip_Code']\n",
    "address_components"
   ]
  },
  {
   "cell_type": "code",
   "execution_count": 88,
   "metadata": {},
   "outputs": [
    {
     "data": {
      "text/html": [
       "<div>\n",
       "<style scoped>\n",
       "    .dataframe tbody tr th:only-of-type {\n",
       "        vertical-align: middle;\n",
       "    }\n",
       "\n",
       "    .dataframe tbody tr th {\n",
       "        vertical-align: top;\n",
       "    }\n",
       "\n",
       "    .dataframe thead th {\n",
       "        text-align: right;\n",
       "    }\n",
       "</style>\n",
       "<table border=\"1\" class=\"dataframe\">\n",
       "  <thead>\n",
       "    <tr style=\"text-align: right;\">\n",
       "      <th></th>\n",
       "      <th>Username</th>\n",
       "      <th>Domain</th>\n",
       "    </tr>\n",
       "  </thead>\n",
       "  <tbody>\n",
       "    <tr>\n",
       "      <th>0</th>\n",
       "      <td>john</td>\n",
       "      <td>example.com</td>\n",
       "    </tr>\n",
       "    <tr>\n",
       "      <th>1</th>\n",
       "      <td>jane</td>\n",
       "      <td>example.com</td>\n",
       "    </tr>\n",
       "    <tr>\n",
       "      <th>2</th>\n",
       "      <td>bob</td>\n",
       "      <td>example.com</td>\n",
       "    </tr>\n",
       "    <tr>\n",
       "      <th>3</th>\n",
       "      <td>alice</td>\n",
       "      <td>example.com</td>\n",
       "    </tr>\n",
       "    <tr>\n",
       "      <th>4</th>\n",
       "      <td>unknown</td>\n",
       "      <td>example.com</td>\n",
       "    </tr>\n",
       "  </tbody>\n",
       "</table>\n",
       "</div>"
      ],
      "text/plain": [
       "  Username       Domain\n",
       "0     john  example.com\n",
       "1     jane  example.com\n",
       "2      bob  example.com\n",
       "3    alice  example.com\n",
       "4  unknown  example.com"
      ]
     },
     "execution_count": 88,
     "metadata": {},
     "output_type": "execute_result"
    }
   ],
   "source": [
    "# Extract username and domain from Email\n",
    "email_components = df['Email'].str.extract(r'(\\w+)@(\\w+\\.\\w+)')\n",
    "email_components.columns = ['Username', 'Domain']\n",
    "email_components"
   ]
  },
  {
   "cell_type": "code",
   "execution_count": 89,
   "metadata": {},
   "outputs": [
    {
     "data": {
      "text/html": [
       "<div>\n",
       "<style scoped>\n",
       "    .dataframe tbody tr th:only-of-type {\n",
       "        vertical-align: middle;\n",
       "    }\n",
       "\n",
       "    .dataframe tbody tr th {\n",
       "        vertical-align: top;\n",
       "    }\n",
       "\n",
       "    .dataframe thead th {\n",
       "        text-align: right;\n",
       "    }\n",
       "</style>\n",
       "<table border=\"1\" class=\"dataframe\">\n",
       "  <thead>\n",
       "    <tr style=\"text-align: right;\">\n",
       "      <th></th>\n",
       "      <th>Name</th>\n",
       "      <th>Email</th>\n",
       "      <th>Address</th>\n",
       "      <th>Street_Number</th>\n",
       "      <th>Street_Name</th>\n",
       "      <th>State</th>\n",
       "      <th>Zip_Code</th>\n",
       "      <th>Username</th>\n",
       "      <th>Domain</th>\n",
       "    </tr>\n",
       "  </thead>\n",
       "  <tbody>\n",
       "    <tr>\n",
       "      <th>0</th>\n",
       "      <td>John Smith</td>\n",
       "      <td>john@example.com</td>\n",
       "      <td>123 Main St, NY 10001</td>\n",
       "      <td>123</td>\n",
       "      <td>Main St</td>\n",
       "      <td>NY</td>\n",
       "      <td>10001</td>\n",
       "      <td>john</td>\n",
       "      <td>example.com</td>\n",
       "    </tr>\n",
       "    <tr>\n",
       "      <th>1</th>\n",
       "      <td>Jane Doe</td>\n",
       "      <td>jane@example.com</td>\n",
       "      <td>456 Elm St, CA 90210</td>\n",
       "      <td>456</td>\n",
       "      <td>Elm St</td>\n",
       "      <td>CA</td>\n",
       "      <td>90210</td>\n",
       "      <td>jane</td>\n",
       "      <td>example.com</td>\n",
       "    </tr>\n",
       "    <tr>\n",
       "      <th>2</th>\n",
       "      <td>Bob Johnson</td>\n",
       "      <td>bob@example.com</td>\n",
       "      <td>789 Oak St, TX 75001</td>\n",
       "      <td>789</td>\n",
       "      <td>Oak St</td>\n",
       "      <td>TX</td>\n",
       "      <td>75001</td>\n",
       "      <td>bob</td>\n",
       "      <td>example.com</td>\n",
       "    </tr>\n",
       "    <tr>\n",
       "      <th>3</th>\n",
       "      <td>Alice Brown</td>\n",
       "      <td>alice@example.com</td>\n",
       "      <td>321 Pine St, FL 33101</td>\n",
       "      <td>321</td>\n",
       "      <td>Pine St</td>\n",
       "      <td>FL</td>\n",
       "      <td>33101</td>\n",
       "      <td>alice</td>\n",
       "      <td>example.com</td>\n",
       "    </tr>\n",
       "    <tr>\n",
       "      <th>4</th>\n",
       "      <td>None</td>\n",
       "      <td>unknown@example.com</td>\n",
       "      <td>654 Maple St, WA 98101</td>\n",
       "      <td>654</td>\n",
       "      <td>Maple St</td>\n",
       "      <td>WA</td>\n",
       "      <td>98101</td>\n",
       "      <td>unknown</td>\n",
       "      <td>example.com</td>\n",
       "    </tr>\n",
       "  </tbody>\n",
       "</table>\n",
       "</div>"
      ],
      "text/plain": [
       "          Name                Email                 Address Street_Number  \\\n",
       "0   John Smith     john@example.com   123 Main St, NY 10001           123   \n",
       "1     Jane Doe     jane@example.com    456 Elm St, CA 90210           456   \n",
       "2  Bob Johnson      bob@example.com    789 Oak St, TX 75001           789   \n",
       "3  Alice Brown    alice@example.com   321 Pine St, FL 33101           321   \n",
       "4         None  unknown@example.com  654 Maple St, WA 98101           654   \n",
       "\n",
       "  Street_Name State Zip_Code Username       Domain  \n",
       "0     Main St    NY    10001     john  example.com  \n",
       "1      Elm St    CA    90210     jane  example.com  \n",
       "2      Oak St    TX    75001      bob  example.com  \n",
       "3     Pine St    FL    33101    alice  example.com  \n",
       "4    Maple St    WA    98101  unknown  example.com  "
      ]
     },
     "execution_count": 89,
     "metadata": {},
     "output_type": "execute_result"
    }
   ],
   "source": [
    "# Combine the extracted information with the original DataFrame\n",
    "df_expanded = pd.concat([df, address_components, email_components], axis=1)\n",
    "df_expanded"
   ]
  },
  {
   "cell_type": "code",
   "execution_count": 90,
   "metadata": {},
   "outputs": [
    {
     "data": {
      "text/html": [
       "<div>\n",
       "<style scoped>\n",
       "    .dataframe tbody tr th:only-of-type {\n",
       "        vertical-align: middle;\n",
       "    }\n",
       "\n",
       "    .dataframe tbody tr th {\n",
       "        vertical-align: top;\n",
       "    }\n",
       "\n",
       "    .dataframe thead th {\n",
       "        text-align: right;\n",
       "    }\n",
       "</style>\n",
       "<table border=\"1\" class=\"dataframe\">\n",
       "  <thead>\n",
       "    <tr style=\"text-align: right;\">\n",
       "      <th></th>\n",
       "      <th>Name</th>\n",
       "      <th>Email</th>\n",
       "      <th>Address</th>\n",
       "      <th>Street_Number</th>\n",
       "      <th>Street_Name</th>\n",
       "      <th>State</th>\n",
       "      <th>Zip_Code</th>\n",
       "      <th>Username</th>\n",
       "      <th>Domain</th>\n",
       "      <th>Valid_Email</th>\n",
       "    </tr>\n",
       "  </thead>\n",
       "  <tbody>\n",
       "    <tr>\n",
       "      <th>0</th>\n",
       "      <td>John Smith</td>\n",
       "      <td>john@example.com</td>\n",
       "      <td>123 Main St, NY 10001</td>\n",
       "      <td>123</td>\n",
       "      <td>Main St</td>\n",
       "      <td>NY</td>\n",
       "      <td>10001</td>\n",
       "      <td>john</td>\n",
       "      <td>example.com</td>\n",
       "      <td>True</td>\n",
       "    </tr>\n",
       "    <tr>\n",
       "      <th>1</th>\n",
       "      <td>Jane Doe</td>\n",
       "      <td>jane@example.com</td>\n",
       "      <td>456 Elm St, CA 90210</td>\n",
       "      <td>456</td>\n",
       "      <td>Elm St</td>\n",
       "      <td>CA</td>\n",
       "      <td>90210</td>\n",
       "      <td>jane</td>\n",
       "      <td>example.com</td>\n",
       "      <td>True</td>\n",
       "    </tr>\n",
       "    <tr>\n",
       "      <th>2</th>\n",
       "      <td>Bob Johnson</td>\n",
       "      <td>bob@example.com</td>\n",
       "      <td>789 Oak St, TX 75001</td>\n",
       "      <td>789</td>\n",
       "      <td>Oak St</td>\n",
       "      <td>TX</td>\n",
       "      <td>75001</td>\n",
       "      <td>bob</td>\n",
       "      <td>example.com</td>\n",
       "      <td>True</td>\n",
       "    </tr>\n",
       "    <tr>\n",
       "      <th>3</th>\n",
       "      <td>Alice Brown</td>\n",
       "      <td>alice@example.com</td>\n",
       "      <td>321 Pine St, FL 33101</td>\n",
       "      <td>321</td>\n",
       "      <td>Pine St</td>\n",
       "      <td>FL</td>\n",
       "      <td>33101</td>\n",
       "      <td>alice</td>\n",
       "      <td>example.com</td>\n",
       "      <td>True</td>\n",
       "    </tr>\n",
       "    <tr>\n",
       "      <th>4</th>\n",
       "      <td>None</td>\n",
       "      <td>unknown@example.com</td>\n",
       "      <td>654 Maple St, WA 98101</td>\n",
       "      <td>654</td>\n",
       "      <td>Maple St</td>\n",
       "      <td>WA</td>\n",
       "      <td>98101</td>\n",
       "      <td>unknown</td>\n",
       "      <td>example.com</td>\n",
       "      <td>True</td>\n",
       "    </tr>\n",
       "  </tbody>\n",
       "</table>\n",
       "</div>"
      ],
      "text/plain": [
       "          Name                Email                 Address Street_Number  \\\n",
       "0   John Smith     john@example.com   123 Main St, NY 10001           123   \n",
       "1     Jane Doe     jane@example.com    456 Elm St, CA 90210           456   \n",
       "2  Bob Johnson      bob@example.com    789 Oak St, TX 75001           789   \n",
       "3  Alice Brown    alice@example.com   321 Pine St, FL 33101           321   \n",
       "4         None  unknown@example.com  654 Maple St, WA 98101           654   \n",
       "\n",
       "  Street_Name State Zip_Code Username       Domain  Valid_Email  \n",
       "0     Main St    NY    10001     john  example.com         True  \n",
       "1      Elm St    CA    90210     jane  example.com         True  \n",
       "2      Oak St    TX    75001      bob  example.com         True  \n",
       "3     Pine St    FL    33101    alice  example.com         True  \n",
       "4    Maple St    WA    98101  unknown  example.com         True  "
      ]
     },
     "execution_count": 90,
     "metadata": {},
     "output_type": "execute_result"
    }
   ],
   "source": [
    "# Validate email format\n",
    "df_expanded['Valid_Email'] = df_expanded['Email'].str.match(r'^[\\w\\.-]+@[\\w\\.-]+\\.\\w+$')\n",
    "df_expanded"
   ]
  },
  {
   "cell_type": "code",
   "execution_count": 92,
   "metadata": {},
   "outputs": [
    {
     "data": {
      "text/html": [
       "<div>\n",
       "<style scoped>\n",
       "    .dataframe tbody tr th:only-of-type {\n",
       "        vertical-align: middle;\n",
       "    }\n",
       "\n",
       "    .dataframe tbody tr th {\n",
       "        vertical-align: top;\n",
       "    }\n",
       "\n",
       "    .dataframe thead th {\n",
       "        text-align: right;\n",
       "    }\n",
       "</style>\n",
       "<table border=\"1\" class=\"dataframe\">\n",
       "  <thead>\n",
       "    <tr style=\"text-align: right;\">\n",
       "      <th></th>\n",
       "      <th>Name</th>\n",
       "      <th>Email</th>\n",
       "      <th>Address</th>\n",
       "      <th>Street_Number</th>\n",
       "      <th>Street_Name</th>\n",
       "      <th>State</th>\n",
       "      <th>Zip_Code</th>\n",
       "      <th>Username</th>\n",
       "      <th>Domain</th>\n",
       "      <th>Valid_Email</th>\n",
       "      <th>Area_Code</th>\n",
       "    </tr>\n",
       "  </thead>\n",
       "  <tbody>\n",
       "    <tr>\n",
       "      <th>0</th>\n",
       "      <td>John Smith</td>\n",
       "      <td>john@example.com</td>\n",
       "      <td>123 Main St, NY 10001</td>\n",
       "      <td>123</td>\n",
       "      <td>Main St</td>\n",
       "      <td>NY</td>\n",
       "      <td>10001</td>\n",
       "      <td>john</td>\n",
       "      <td>example.com</td>\n",
       "      <td>True</td>\n",
       "      <td>100</td>\n",
       "    </tr>\n",
       "    <tr>\n",
       "      <th>1</th>\n",
       "      <td>Jane Doe</td>\n",
       "      <td>jane@example.com</td>\n",
       "      <td>456 Elm St, CA 90210</td>\n",
       "      <td>456</td>\n",
       "      <td>Elm St</td>\n",
       "      <td>CA</td>\n",
       "      <td>90210</td>\n",
       "      <td>jane</td>\n",
       "      <td>example.com</td>\n",
       "      <td>True</td>\n",
       "      <td>902</td>\n",
       "    </tr>\n",
       "    <tr>\n",
       "      <th>2</th>\n",
       "      <td>Bob Johnson</td>\n",
       "      <td>bob@example.com</td>\n",
       "      <td>789 Oak St, TX 75001</td>\n",
       "      <td>789</td>\n",
       "      <td>Oak St</td>\n",
       "      <td>TX</td>\n",
       "      <td>75001</td>\n",
       "      <td>bob</td>\n",
       "      <td>example.com</td>\n",
       "      <td>True</td>\n",
       "      <td>750</td>\n",
       "    </tr>\n",
       "    <tr>\n",
       "      <th>3</th>\n",
       "      <td>Alice Brown</td>\n",
       "      <td>alice@example.com</td>\n",
       "      <td>321 Pine St, FL 33101</td>\n",
       "      <td>321</td>\n",
       "      <td>Pine St</td>\n",
       "      <td>FL</td>\n",
       "      <td>33101</td>\n",
       "      <td>alice</td>\n",
       "      <td>example.com</td>\n",
       "      <td>True</td>\n",
       "      <td>331</td>\n",
       "    </tr>\n",
       "    <tr>\n",
       "      <th>4</th>\n",
       "      <td>None</td>\n",
       "      <td>unknown@example.com</td>\n",
       "      <td>654 Maple St, WA 98101</td>\n",
       "      <td>654</td>\n",
       "      <td>Maple St</td>\n",
       "      <td>WA</td>\n",
       "      <td>98101</td>\n",
       "      <td>unknown</td>\n",
       "      <td>example.com</td>\n",
       "      <td>True</td>\n",
       "      <td>981</td>\n",
       "    </tr>\n",
       "  </tbody>\n",
       "</table>\n",
       "</div>"
      ],
      "text/plain": [
       "          Name                Email                 Address Street_Number  \\\n",
       "0   John Smith     john@example.com   123 Main St, NY 10001           123   \n",
       "1     Jane Doe     jane@example.com    456 Elm St, CA 90210           456   \n",
       "2  Bob Johnson      bob@example.com    789 Oak St, TX 75001           789   \n",
       "3  Alice Brown    alice@example.com   321 Pine St, FL 33101           321   \n",
       "4         None  unknown@example.com  654 Maple St, WA 98101           654   \n",
       "\n",
       "  Street_Name State Zip_Code Username       Domain  Valid_Email Area_Code  \n",
       "0     Main St    NY    10001     john  example.com         True       100  \n",
       "1      Elm St    CA    90210     jane  example.com         True       902  \n",
       "2      Oak St    TX    75001      bob  example.com         True       750  \n",
       "3     Pine St    FL    33101    alice  example.com         True       331  \n",
       "4    Maple St    WA    98101  unknown  example.com         True       981  "
      ]
     },
     "execution_count": 92,
     "metadata": {},
     "output_type": "execute_result"
    }
   ],
   "source": [
    "# Extract area code from Zip_Code\n",
    "df_expanded['Area_Code'] = df_expanded['Zip_Code'].str.slice(0, 3)\n",
    "\n",
    "# Display results\n",
    "df_expanded"
   ]
  },
  {
   "cell_type": "markdown",
   "metadata": {},
   "source": [
    "In this comprehensive example, we've:\n",
    "1. Extracted structured information from the Address field (street number, street name, state, and zip code).\n",
    "2. Parsed the Email field to separate username and domain.\n",
    "3. Validated the email format using a regex pattern.\n",
    "4. Extracted the area code from the zip code.\n"
   ]
  },
  {
   "cell_type": "markdown",
   "metadata": {},
   "source": [
    "This demonstrates how regular expressions can be used to extract, validate, and transform complex string data in Pandas. Regular expressions are incredibly powerful, but they can also become complex. It's often a good practice to break down complex regex patterns into smaller, more manageable parts and test them individually before combining them into more sophisticated patterns.\n"
   ]
  },
  {
   "cell_type": "markdown",
   "metadata": {},
   "source": [
    "Remember that while regex operations in Pandas are vectorized, they can still be computationally expensive for very large datasets. In such cases, consider using more specialized text processing libraries or preprocessing your data in chunks."
   ]
  },
  {
   "cell_type": "markdown",
   "metadata": {},
   "source": [
    "## <a id='toc6_'></a>[Splitting and Joining Strings](#toc0_)"
   ]
  },
  {
   "cell_type": "markdown",
   "metadata": {},
   "source": [
    "Splitting strings into multiple parts and joining strings together are common operations in data preprocessing and text analysis. Pandas provides efficient methods for these operations that can be applied to entire Series or DataFrame columns.\n"
   ]
  },
  {
   "cell_type": "markdown",
   "metadata": {},
   "source": [
    "### <a id='toc6_1_'></a>[Splitting Strings (split, rsplit)](#toc0_)\n"
   ]
  },
  {
   "cell_type": "markdown",
   "metadata": {},
   "source": [
    "Pandas offers methods to split strings based on a specified delimiter.\n"
   ]
  },
  {
   "cell_type": "markdown",
   "metadata": {},
   "source": [
    "The `str.split()` method splits a string into a list of substrings.\n"
   ]
  },
  {
   "cell_type": "code",
   "execution_count": 104,
   "metadata": {},
   "outputs": [
    {
     "data": {
      "text/plain": [
       "0           apple pie\n",
       "1        banana split\n",
       "2         cherry tart\n",
       "3    hot date pudding\n",
       "dtype: object"
      ]
     },
     "execution_count": 104,
     "metadata": {},
     "output_type": "execute_result"
    }
   ],
   "source": [
    "# Create a sample Series\n",
    "s = pd.Series(['apple pie', 'banana split', 'cherry tart', 'hot date pudding'])\n",
    "s"
   ]
  },
  {
   "cell_type": "code",
   "execution_count": 105,
   "metadata": {},
   "outputs": [
    {
     "data": {
      "text/plain": [
       "0            [apple, pie]\n",
       "1         [banana, split]\n",
       "2          [cherry, tart]\n",
       "3    [hot, date, pudding]\n",
       "dtype: object"
      ]
     },
     "execution_count": 105,
     "metadata": {},
     "output_type": "execute_result"
    }
   ],
   "source": [
    "# Split strings by space\n",
    "s.str.split()"
   ]
  },
  {
   "cell_type": "code",
   "execution_count": 110,
   "metadata": {},
   "outputs": [
    {
     "data": {
      "text/html": [
       "<div>\n",
       "<style scoped>\n",
       "    .dataframe tbody tr th:only-of-type {\n",
       "        vertical-align: middle;\n",
       "    }\n",
       "\n",
       "    .dataframe tbody tr th {\n",
       "        vertical-align: top;\n",
       "    }\n",
       "\n",
       "    .dataframe thead th {\n",
       "        text-align: right;\n",
       "    }\n",
       "</style>\n",
       "<table border=\"1\" class=\"dataframe\">\n",
       "  <thead>\n",
       "    <tr style=\"text-align: right;\">\n",
       "      <th></th>\n",
       "      <th>0</th>\n",
       "      <th>1</th>\n",
       "      <th>2</th>\n",
       "    </tr>\n",
       "  </thead>\n",
       "  <tbody>\n",
       "    <tr>\n",
       "      <th>0</th>\n",
       "      <td>apple</td>\n",
       "      <td>pie</td>\n",
       "      <td>None</td>\n",
       "    </tr>\n",
       "    <tr>\n",
       "      <th>1</th>\n",
       "      <td>banana</td>\n",
       "      <td>split</td>\n",
       "      <td>None</td>\n",
       "    </tr>\n",
       "    <tr>\n",
       "      <th>2</th>\n",
       "      <td>cherry</td>\n",
       "      <td>tart</td>\n",
       "      <td>None</td>\n",
       "    </tr>\n",
       "    <tr>\n",
       "      <th>3</th>\n",
       "      <td>hot</td>\n",
       "      <td>date</td>\n",
       "      <td>pudding</td>\n",
       "    </tr>\n",
       "  </tbody>\n",
       "</table>\n",
       "</div>"
      ],
      "text/plain": [
       "        0      1        2\n",
       "0   apple    pie     None\n",
       "1  banana  split     None\n",
       "2  cherry   tart     None\n",
       "3     hot   date  pudding"
      ]
     },
     "execution_count": 110,
     "metadata": {},
     "output_type": "execute_result"
    }
   ],
   "source": [
    "# Split with expand=True to return a DataFrame\n",
    "s.str.split(expand=True)"
   ]
  },
  {
   "cell_type": "code",
   "execution_count": 109,
   "metadata": {},
   "outputs": [
    {
     "data": {
      "text/html": [
       "<div>\n",
       "<style scoped>\n",
       "    .dataframe tbody tr th:only-of-type {\n",
       "        vertical-align: middle;\n",
       "    }\n",
       "\n",
       "    .dataframe tbody tr th {\n",
       "        vertical-align: top;\n",
       "    }\n",
       "\n",
       "    .dataframe thead th {\n",
       "        text-align: right;\n",
       "    }\n",
       "</style>\n",
       "<table border=\"1\" class=\"dataframe\">\n",
       "  <thead>\n",
       "    <tr style=\"text-align: right;\">\n",
       "      <th></th>\n",
       "      <th>0</th>\n",
       "      <th>1</th>\n",
       "    </tr>\n",
       "  </thead>\n",
       "  <tbody>\n",
       "    <tr>\n",
       "      <th>0</th>\n",
       "      <td>apple</td>\n",
       "      <td>pie</td>\n",
       "    </tr>\n",
       "    <tr>\n",
       "      <th>1</th>\n",
       "      <td>banana</td>\n",
       "      <td>split</td>\n",
       "    </tr>\n",
       "    <tr>\n",
       "      <th>2</th>\n",
       "      <td>cherry</td>\n",
       "      <td>tart</td>\n",
       "    </tr>\n",
       "    <tr>\n",
       "      <th>3</th>\n",
       "      <td>hot</td>\n",
       "      <td>date pudding</td>\n",
       "    </tr>\n",
       "  </tbody>\n",
       "</table>\n",
       "</div>"
      ],
      "text/plain": [
       "        0             1\n",
       "0   apple           pie\n",
       "1  banana         split\n",
       "2  cherry          tart\n",
       "3     hot  date pudding"
      ]
     },
     "execution_count": 109,
     "metadata": {},
     "output_type": "execute_result"
    }
   ],
   "source": [
    "s.str.split(n=1, expand=True)"
   ]
  },
  {
   "cell_type": "code",
   "execution_count": 107,
   "metadata": {},
   "outputs": [
    {
     "data": {
      "text/html": [
       "<div>\n",
       "<style scoped>\n",
       "    .dataframe tbody tr th:only-of-type {\n",
       "        vertical-align: middle;\n",
       "    }\n",
       "\n",
       "    .dataframe tbody tr th {\n",
       "        vertical-align: top;\n",
       "    }\n",
       "\n",
       "    .dataframe thead th {\n",
       "        text-align: right;\n",
       "    }\n",
       "</style>\n",
       "<table border=\"1\" class=\"dataframe\">\n",
       "  <thead>\n",
       "    <tr style=\"text-align: right;\">\n",
       "      <th></th>\n",
       "      <th>0</th>\n",
       "      <th>1</th>\n",
       "    </tr>\n",
       "  </thead>\n",
       "  <tbody>\n",
       "    <tr>\n",
       "      <th>0</th>\n",
       "      <td>John</td>\n",
       "      <td>Smith</td>\n",
       "    </tr>\n",
       "    <tr>\n",
       "      <th>1</th>\n",
       "      <td>Jane</td>\n",
       "      <td>Doe</td>\n",
       "    </tr>\n",
       "    <tr>\n",
       "      <th>2</th>\n",
       "      <td>Bob</td>\n",
       "      <td>Johnson</td>\n",
       "    </tr>\n",
       "    <tr>\n",
       "      <th>3</th>\n",
       "      <td>Alice</td>\n",
       "      <td>Brown</td>\n",
       "    </tr>\n",
       "    <tr>\n",
       "      <th>4</th>\n",
       "      <td>None</td>\n",
       "      <td>None</td>\n",
       "    </tr>\n",
       "  </tbody>\n",
       "</table>\n",
       "</div>"
      ],
      "text/plain": [
       "       0        1\n",
       "0   John    Smith\n",
       "1   Jane      Doe\n",
       "2    Bob  Johnson\n",
       "3  Alice    Brown\n",
       "4   None     None"
      ]
     },
     "execution_count": 107,
     "metadata": {},
     "output_type": "execute_result"
    }
   ],
   "source": [
    "# Applying to our DataFrame\n",
    "df['Name'].str.split(expand=True)"
   ]
  },
  {
   "cell_type": "markdown",
   "metadata": {},
   "source": [
    "The `str.rsplit()` method is similar to `split()`, but starts from the right side of the string.\n"
   ]
  },
  {
   "cell_type": "code",
   "execution_count": 111,
   "metadata": {},
   "outputs": [
    {
     "data": {
      "text/html": [
       "<div>\n",
       "<style scoped>\n",
       "    .dataframe tbody tr th:only-of-type {\n",
       "        vertical-align: middle;\n",
       "    }\n",
       "\n",
       "    .dataframe tbody tr th {\n",
       "        vertical-align: top;\n",
       "    }\n",
       "\n",
       "    .dataframe thead th {\n",
       "        text-align: right;\n",
       "    }\n",
       "</style>\n",
       "<table border=\"1\" class=\"dataframe\">\n",
       "  <thead>\n",
       "    <tr style=\"text-align: right;\">\n",
       "      <th></th>\n",
       "      <th>0</th>\n",
       "      <th>1</th>\n",
       "    </tr>\n",
       "  </thead>\n",
       "  <tbody>\n",
       "    <tr>\n",
       "      <th>0</th>\n",
       "      <td>apple</td>\n",
       "      <td>pie</td>\n",
       "    </tr>\n",
       "    <tr>\n",
       "      <th>1</th>\n",
       "      <td>banana</td>\n",
       "      <td>split</td>\n",
       "    </tr>\n",
       "    <tr>\n",
       "      <th>2</th>\n",
       "      <td>cherry</td>\n",
       "      <td>tart</td>\n",
       "    </tr>\n",
       "    <tr>\n",
       "      <th>3</th>\n",
       "      <td>hot date</td>\n",
       "      <td>pudding</td>\n",
       "    </tr>\n",
       "  </tbody>\n",
       "</table>\n",
       "</div>"
      ],
      "text/plain": [
       "          0        1\n",
       "0     apple      pie\n",
       "1    banana    split\n",
       "2    cherry     tart\n",
       "3  hot date  pudding"
      ]
     },
     "execution_count": 111,
     "metadata": {},
     "output_type": "execute_result"
    }
   ],
   "source": [
    "# Right split with a limit\n",
    "s.str.rsplit(n=1, expand=True)"
   ]
  },
  {
   "cell_type": "code",
   "execution_count": 112,
   "metadata": {},
   "outputs": [
    {
     "data": {
      "text/html": [
       "<div>\n",
       "<style scoped>\n",
       "    .dataframe tbody tr th:only-of-type {\n",
       "        vertical-align: middle;\n",
       "    }\n",
       "\n",
       "    .dataframe tbody tr th {\n",
       "        vertical-align: top;\n",
       "    }\n",
       "\n",
       "    .dataframe thead th {\n",
       "        text-align: right;\n",
       "    }\n",
       "</style>\n",
       "<table border=\"1\" class=\"dataframe\">\n",
       "  <thead>\n",
       "    <tr style=\"text-align: right;\">\n",
       "      <th></th>\n",
       "      <th>0</th>\n",
       "      <th>1</th>\n",
       "    </tr>\n",
       "  </thead>\n",
       "  <tbody>\n",
       "    <tr>\n",
       "      <th>0</th>\n",
       "      <td>john</td>\n",
       "      <td>example.com</td>\n",
       "    </tr>\n",
       "    <tr>\n",
       "      <th>1</th>\n",
       "      <td>jane</td>\n",
       "      <td>example.com</td>\n",
       "    </tr>\n",
       "    <tr>\n",
       "      <th>2</th>\n",
       "      <td>bob</td>\n",
       "      <td>example.com</td>\n",
       "    </tr>\n",
       "    <tr>\n",
       "      <th>3</th>\n",
       "      <td>alice</td>\n",
       "      <td>example.com</td>\n",
       "    </tr>\n",
       "    <tr>\n",
       "      <th>4</th>\n",
       "      <td>unknown</td>\n",
       "      <td>example.com</td>\n",
       "    </tr>\n",
       "  </tbody>\n",
       "</table>\n",
       "</div>"
      ],
      "text/plain": [
       "         0            1\n",
       "0     john  example.com\n",
       "1     jane  example.com\n",
       "2      bob  example.com\n",
       "3    alice  example.com\n",
       "4  unknown  example.com"
      ]
     },
     "execution_count": 112,
     "metadata": {},
     "output_type": "execute_result"
    }
   ],
   "source": [
    "# Applying to our DataFrame\n",
    "df['Email'].str.rsplit('@', n=1, expand=True)"
   ]
  },
  {
   "cell_type": "markdown",
   "metadata": {},
   "source": [
    "### <a id='toc6_2_'></a>[Joining Strings (cat)](#toc0_)\n"
   ]
  },
  {
   "cell_type": "markdown",
   "metadata": {},
   "source": [
    "The `str.cat()` method is used to concatenate strings in Pandas.\n"
   ]
  },
  {
   "cell_type": "code",
   "execution_count": 113,
   "metadata": {},
   "outputs": [],
   "source": [
    "# Create sample Series\n",
    "first_names = pd.Series(['John', 'Jane', 'Bob', 'Alice'])\n",
    "last_names = pd.Series(['Smith', 'Doe', 'Johnson', 'Brown'])"
   ]
  },
  {
   "cell_type": "code",
   "execution_count": 114,
   "metadata": {},
   "outputs": [
    {
     "data": {
      "text/plain": [
       "0     John Smith\n",
       "1       Jane Doe\n",
       "2    Bob Johnson\n",
       "3    Alice Brown\n",
       "dtype: object"
      ]
     },
     "execution_count": 114,
     "metadata": {},
     "output_type": "execute_result"
    }
   ],
   "source": [
    "# Concatenate with a space separator\n",
    "full_names = first_names.str.cat(last_names, sep=' ')\n",
    "full_names"
   ]
  },
  {
   "cell_type": "code",
   "execution_count": 115,
   "metadata": {},
   "outputs": [
    {
     "data": {
      "text/plain": [
       "0     Mr. John Smith\n",
       "1       Ms. Jane Doe\n",
       "2    Mr. Bob Johnson\n",
       "3    Ms. Alice Brown\n",
       "dtype: object"
      ]
     },
     "execution_count": 115,
     "metadata": {},
     "output_type": "execute_result"
    }
   ],
   "source": [
    "# Concatenate multiple Series\n",
    "pd.Series(['Mr.', 'Ms.', 'Mr.', 'Ms.']).str.cat([first_names, last_names], sep=' ')\n"
   ]
  },
  {
   "cell_type": "code",
   "execution_count": 116,
   "metadata": {},
   "outputs": [
    {
     "data": {
      "text/plain": [
       "0        123 Main St, NY 10001 | john@example.com\n",
       "1         456 Elm St, CA 90210 | jane@example.com\n",
       "2          789 Oak St, TX 75001 | bob@example.com\n",
       "3       321 Pine St, FL 33101 | alice@example.com\n",
       "4    654 Maple St, WA 98101 | unknown@example.com\n",
       "Name: Address, dtype: object"
      ]
     },
     "execution_count": 116,
     "metadata": {},
     "output_type": "execute_result"
    }
   ],
   "source": [
    "# Applying to our DataFrame\n",
    "df['Address'].str.cat(df['Email'], sep=' | ')"
   ]
  },
  {
   "cell_type": "markdown",
   "metadata": {},
   "source": [
    "Let's combine these techniques in a practical example:\n"
   ]
  },
  {
   "cell_type": "code",
   "execution_count": 122,
   "metadata": {},
   "outputs": [
    {
     "data": {
      "text/html": [
       "<div>\n",
       "<style scoped>\n",
       "    .dataframe tbody tr th:only-of-type {\n",
       "        vertical-align: middle;\n",
       "    }\n",
       "\n",
       "    .dataframe tbody tr th {\n",
       "        vertical-align: top;\n",
       "    }\n",
       "\n",
       "    .dataframe thead th {\n",
       "        text-align: right;\n",
       "    }\n",
       "</style>\n",
       "<table border=\"1\" class=\"dataframe\">\n",
       "  <thead>\n",
       "    <tr style=\"text-align: right;\">\n",
       "      <th></th>\n",
       "      <th>Name</th>\n",
       "      <th>Email</th>\n",
       "      <th>Address</th>\n",
       "    </tr>\n",
       "  </thead>\n",
       "  <tbody>\n",
       "    <tr>\n",
       "      <th>0</th>\n",
       "      <td>John Smith</td>\n",
       "      <td>john@example.com</td>\n",
       "      <td>123 Main St, NY, 10001</td>\n",
       "    </tr>\n",
       "    <tr>\n",
       "      <th>1</th>\n",
       "      <td>Jane Doe</td>\n",
       "      <td>jane@example.com</td>\n",
       "      <td>456 Elm St, CA, 90210</td>\n",
       "    </tr>\n",
       "    <tr>\n",
       "      <th>2</th>\n",
       "      <td>Bob Johnson</td>\n",
       "      <td>bob@example.com</td>\n",
       "      <td>789 Oak St, TX, 75001</td>\n",
       "    </tr>\n",
       "    <tr>\n",
       "      <th>3</th>\n",
       "      <td>Alice Brown</td>\n",
       "      <td>alice@example.com</td>\n",
       "      <td>321 Pine St, FL, 33101</td>\n",
       "    </tr>\n",
       "    <tr>\n",
       "      <th>4</th>\n",
       "      <td>None</td>\n",
       "      <td>unknown@example.com</td>\n",
       "      <td>654 Maple St, WA, 98101</td>\n",
       "    </tr>\n",
       "  </tbody>\n",
       "</table>\n",
       "</div>"
      ],
      "text/plain": [
       "          Name                Email                  Address\n",
       "0   John Smith     john@example.com   123 Main St, NY, 10001\n",
       "1     Jane Doe     jane@example.com    456 Elm St, CA, 90210\n",
       "2  Bob Johnson      bob@example.com    789 Oak St, TX, 75001\n",
       "3  Alice Brown    alice@example.com   321 Pine St, FL, 33101\n",
       "4         None  unknown@example.com  654 Maple St, WA, 98101"
      ]
     },
     "execution_count": 122,
     "metadata": {},
     "output_type": "execute_result"
    }
   ],
   "source": [
    "# Ensure we have our sample DataFrame\n",
    "df = pd.DataFrame({\n",
    "    'Name': ['John Smith', 'Jane Doe', 'Bob Johnson', 'Alice Brown', None],\n",
    "    'Email': ['john@example.com', 'jane@example.com', 'bob@example.com', 'alice@example.com', 'unknown@example.com'],\n",
    "    'Address': ['123 Main St, NY, 10001', '456 Elm St, CA, 90210', '789 Oak St, TX, 75001', '321 Pine St, FL, 33101', '654 Maple St, WA, 98101']\n",
    "})\n",
    "df"
   ]
  },
  {
   "cell_type": "code",
   "execution_count": 123,
   "metadata": {},
   "outputs": [
    {
     "data": {
      "text/html": [
       "<div>\n",
       "<style scoped>\n",
       "    .dataframe tbody tr th:only-of-type {\n",
       "        vertical-align: middle;\n",
       "    }\n",
       "\n",
       "    .dataframe tbody tr th {\n",
       "        vertical-align: top;\n",
       "    }\n",
       "\n",
       "    .dataframe thead th {\n",
       "        text-align: right;\n",
       "    }\n",
       "</style>\n",
       "<table border=\"1\" class=\"dataframe\">\n",
       "  <thead>\n",
       "    <tr style=\"text-align: right;\">\n",
       "      <th></th>\n",
       "      <th>Name</th>\n",
       "      <th>Email</th>\n",
       "      <th>Address</th>\n",
       "      <th>First_Name</th>\n",
       "      <th>Last_Name</th>\n",
       "    </tr>\n",
       "  </thead>\n",
       "  <tbody>\n",
       "    <tr>\n",
       "      <th>0</th>\n",
       "      <td>John Smith</td>\n",
       "      <td>john@example.com</td>\n",
       "      <td>123 Main St, NY, 10001</td>\n",
       "      <td>John</td>\n",
       "      <td>Smith</td>\n",
       "    </tr>\n",
       "    <tr>\n",
       "      <th>1</th>\n",
       "      <td>Jane Doe</td>\n",
       "      <td>jane@example.com</td>\n",
       "      <td>456 Elm St, CA, 90210</td>\n",
       "      <td>Jane</td>\n",
       "      <td>Doe</td>\n",
       "    </tr>\n",
       "    <tr>\n",
       "      <th>2</th>\n",
       "      <td>Bob Johnson</td>\n",
       "      <td>bob@example.com</td>\n",
       "      <td>789 Oak St, TX, 75001</td>\n",
       "      <td>Bob</td>\n",
       "      <td>Johnson</td>\n",
       "    </tr>\n",
       "    <tr>\n",
       "      <th>3</th>\n",
       "      <td>Alice Brown</td>\n",
       "      <td>alice@example.com</td>\n",
       "      <td>321 Pine St, FL, 33101</td>\n",
       "      <td>Alice</td>\n",
       "      <td>Brown</td>\n",
       "    </tr>\n",
       "    <tr>\n",
       "      <th>4</th>\n",
       "      <td>None</td>\n",
       "      <td>unknown@example.com</td>\n",
       "      <td>654 Maple St, WA, 98101</td>\n",
       "      <td>None</td>\n",
       "      <td>None</td>\n",
       "    </tr>\n",
       "  </tbody>\n",
       "</table>\n",
       "</div>"
      ],
      "text/plain": [
       "          Name                Email                  Address First_Name  \\\n",
       "0   John Smith     john@example.com   123 Main St, NY, 10001       John   \n",
       "1     Jane Doe     jane@example.com    456 Elm St, CA, 90210       Jane   \n",
       "2  Bob Johnson      bob@example.com    789 Oak St, TX, 75001        Bob   \n",
       "3  Alice Brown    alice@example.com   321 Pine St, FL, 33101      Alice   \n",
       "4         None  unknown@example.com  654 Maple St, WA, 98101       None   \n",
       "\n",
       "  Last_Name  \n",
       "0     Smith  \n",
       "1       Doe  \n",
       "2   Johnson  \n",
       "3     Brown  \n",
       "4      None  "
      ]
     },
     "execution_count": 123,
     "metadata": {},
     "output_type": "execute_result"
    }
   ],
   "source": [
    "# Split Name into First Name and Last Name\n",
    "name_split = df['Name'].str.split(n=1, expand=True)\n",
    "df['First_Name'] = name_split[0]\n",
    "df['Last_Name'] = name_split[1]\n",
    "df"
   ]
  },
  {
   "cell_type": "code",
   "execution_count": 124,
   "metadata": {},
   "outputs": [
    {
     "data": {
      "text/html": [
       "<div>\n",
       "<style scoped>\n",
       "    .dataframe tbody tr th:only-of-type {\n",
       "        vertical-align: middle;\n",
       "    }\n",
       "\n",
       "    .dataframe tbody tr th {\n",
       "        vertical-align: top;\n",
       "    }\n",
       "\n",
       "    .dataframe thead th {\n",
       "        text-align: right;\n",
       "    }\n",
       "</style>\n",
       "<table border=\"1\" class=\"dataframe\">\n",
       "  <thead>\n",
       "    <tr style=\"text-align: right;\">\n",
       "      <th></th>\n",
       "      <th>Name</th>\n",
       "      <th>Email</th>\n",
       "      <th>Address</th>\n",
       "      <th>First_Name</th>\n",
       "      <th>Last_Name</th>\n",
       "      <th>Username</th>\n",
       "      <th>Domain</th>\n",
       "    </tr>\n",
       "  </thead>\n",
       "  <tbody>\n",
       "    <tr>\n",
       "      <th>0</th>\n",
       "      <td>John Smith</td>\n",
       "      <td>john@example.com</td>\n",
       "      <td>123 Main St, NY, 10001</td>\n",
       "      <td>John</td>\n",
       "      <td>Smith</td>\n",
       "      <td>john</td>\n",
       "      <td>example.com</td>\n",
       "    </tr>\n",
       "    <tr>\n",
       "      <th>1</th>\n",
       "      <td>Jane Doe</td>\n",
       "      <td>jane@example.com</td>\n",
       "      <td>456 Elm St, CA, 90210</td>\n",
       "      <td>Jane</td>\n",
       "      <td>Doe</td>\n",
       "      <td>jane</td>\n",
       "      <td>example.com</td>\n",
       "    </tr>\n",
       "    <tr>\n",
       "      <th>2</th>\n",
       "      <td>Bob Johnson</td>\n",
       "      <td>bob@example.com</td>\n",
       "      <td>789 Oak St, TX, 75001</td>\n",
       "      <td>Bob</td>\n",
       "      <td>Johnson</td>\n",
       "      <td>bob</td>\n",
       "      <td>example.com</td>\n",
       "    </tr>\n",
       "    <tr>\n",
       "      <th>3</th>\n",
       "      <td>Alice Brown</td>\n",
       "      <td>alice@example.com</td>\n",
       "      <td>321 Pine St, FL, 33101</td>\n",
       "      <td>Alice</td>\n",
       "      <td>Brown</td>\n",
       "      <td>alice</td>\n",
       "      <td>example.com</td>\n",
       "    </tr>\n",
       "    <tr>\n",
       "      <th>4</th>\n",
       "      <td>None</td>\n",
       "      <td>unknown@example.com</td>\n",
       "      <td>654 Maple St, WA, 98101</td>\n",
       "      <td>None</td>\n",
       "      <td>None</td>\n",
       "      <td>unknown</td>\n",
       "      <td>example.com</td>\n",
       "    </tr>\n",
       "  </tbody>\n",
       "</table>\n",
       "</div>"
      ],
      "text/plain": [
       "          Name                Email                  Address First_Name  \\\n",
       "0   John Smith     john@example.com   123 Main St, NY, 10001       John   \n",
       "1     Jane Doe     jane@example.com    456 Elm St, CA, 90210       Jane   \n",
       "2  Bob Johnson      bob@example.com    789 Oak St, TX, 75001        Bob   \n",
       "3  Alice Brown    alice@example.com   321 Pine St, FL, 33101      Alice   \n",
       "4         None  unknown@example.com  654 Maple St, WA, 98101       None   \n",
       "\n",
       "  Last_Name Username       Domain  \n",
       "0     Smith     john  example.com  \n",
       "1       Doe     jane  example.com  \n",
       "2   Johnson      bob  example.com  \n",
       "3     Brown    alice  example.com  \n",
       "4      None  unknown  example.com  "
      ]
     },
     "execution_count": 124,
     "metadata": {},
     "output_type": "execute_result"
    }
   ],
   "source": [
    "# Split Email into Username and Domain\n",
    "email_split = df['Email'].str.split('@', expand=True)\n",
    "df['Username'] = email_split[0]\n",
    "df['Domain'] = email_split[1]\n",
    "df"
   ]
  },
  {
   "cell_type": "code",
   "execution_count": 125,
   "metadata": {},
   "outputs": [
    {
     "data": {
      "text/html": [
       "<div>\n",
       "<style scoped>\n",
       "    .dataframe tbody tr th:only-of-type {\n",
       "        vertical-align: middle;\n",
       "    }\n",
       "\n",
       "    .dataframe tbody tr th {\n",
       "        vertical-align: top;\n",
       "    }\n",
       "\n",
       "    .dataframe thead th {\n",
       "        text-align: right;\n",
       "    }\n",
       "</style>\n",
       "<table border=\"1\" class=\"dataframe\">\n",
       "  <thead>\n",
       "    <tr style=\"text-align: right;\">\n",
       "      <th></th>\n",
       "      <th>Name</th>\n",
       "      <th>Email</th>\n",
       "      <th>Address</th>\n",
       "      <th>First_Name</th>\n",
       "      <th>Last_Name</th>\n",
       "      <th>Username</th>\n",
       "      <th>Domain</th>\n",
       "      <th>Street</th>\n",
       "      <th>State</th>\n",
       "      <th>Zip</th>\n",
       "    </tr>\n",
       "  </thead>\n",
       "  <tbody>\n",
       "    <tr>\n",
       "      <th>0</th>\n",
       "      <td>John Smith</td>\n",
       "      <td>john@example.com</td>\n",
       "      <td>123 Main St, NY, 10001</td>\n",
       "      <td>John</td>\n",
       "      <td>Smith</td>\n",
       "      <td>john</td>\n",
       "      <td>example.com</td>\n",
       "      <td>123 Main St</td>\n",
       "      <td>NY</td>\n",
       "      <td>10001</td>\n",
       "    </tr>\n",
       "    <tr>\n",
       "      <th>1</th>\n",
       "      <td>Jane Doe</td>\n",
       "      <td>jane@example.com</td>\n",
       "      <td>456 Elm St, CA, 90210</td>\n",
       "      <td>Jane</td>\n",
       "      <td>Doe</td>\n",
       "      <td>jane</td>\n",
       "      <td>example.com</td>\n",
       "      <td>456 Elm St</td>\n",
       "      <td>CA</td>\n",
       "      <td>90210</td>\n",
       "    </tr>\n",
       "    <tr>\n",
       "      <th>2</th>\n",
       "      <td>Bob Johnson</td>\n",
       "      <td>bob@example.com</td>\n",
       "      <td>789 Oak St, TX, 75001</td>\n",
       "      <td>Bob</td>\n",
       "      <td>Johnson</td>\n",
       "      <td>bob</td>\n",
       "      <td>example.com</td>\n",
       "      <td>789 Oak St</td>\n",
       "      <td>TX</td>\n",
       "      <td>75001</td>\n",
       "    </tr>\n",
       "    <tr>\n",
       "      <th>3</th>\n",
       "      <td>Alice Brown</td>\n",
       "      <td>alice@example.com</td>\n",
       "      <td>321 Pine St, FL, 33101</td>\n",
       "      <td>Alice</td>\n",
       "      <td>Brown</td>\n",
       "      <td>alice</td>\n",
       "      <td>example.com</td>\n",
       "      <td>321 Pine St</td>\n",
       "      <td>FL</td>\n",
       "      <td>33101</td>\n",
       "    </tr>\n",
       "    <tr>\n",
       "      <th>4</th>\n",
       "      <td>None</td>\n",
       "      <td>unknown@example.com</td>\n",
       "      <td>654 Maple St, WA, 98101</td>\n",
       "      <td>None</td>\n",
       "      <td>None</td>\n",
       "      <td>unknown</td>\n",
       "      <td>example.com</td>\n",
       "      <td>654 Maple St</td>\n",
       "      <td>WA</td>\n",
       "      <td>98101</td>\n",
       "    </tr>\n",
       "  </tbody>\n",
       "</table>\n",
       "</div>"
      ],
      "text/plain": [
       "          Name                Email                  Address First_Name  \\\n",
       "0   John Smith     john@example.com   123 Main St, NY, 10001       John   \n",
       "1     Jane Doe     jane@example.com    456 Elm St, CA, 90210       Jane   \n",
       "2  Bob Johnson      bob@example.com    789 Oak St, TX, 75001        Bob   \n",
       "3  Alice Brown    alice@example.com   321 Pine St, FL, 33101      Alice   \n",
       "4         None  unknown@example.com  654 Maple St, WA, 98101       None   \n",
       "\n",
       "  Last_Name Username       Domain        Street State    Zip  \n",
       "0     Smith     john  example.com   123 Main St    NY  10001  \n",
       "1       Doe     jane  example.com    456 Elm St    CA  90210  \n",
       "2   Johnson      bob  example.com    789 Oak St    TX  75001  \n",
       "3     Brown    alice  example.com   321 Pine St    FL  33101  \n",
       "4      None  unknown  example.com  654 Maple St    WA  98101  "
      ]
     },
     "execution_count": 125,
     "metadata": {},
     "output_type": "execute_result"
    }
   ],
   "source": [
    "# Split Address into components\n",
    "address_split = df['Address'].str.rsplit(',', n=2, expand=True)\n",
    "df['Street'] = address_split[0]\n",
    "df['State'] = address_split[1].str.strip().str[:2]\n",
    "df['Zip'] = address_split[2].str.strip()\n",
    "df"
   ]
  },
  {
   "cell_type": "code",
   "execution_count": 126,
   "metadata": {},
   "outputs": [
    {
     "data": {
      "text/html": [
       "<div>\n",
       "<style scoped>\n",
       "    .dataframe tbody tr th:only-of-type {\n",
       "        vertical-align: middle;\n",
       "    }\n",
       "\n",
       "    .dataframe tbody tr th {\n",
       "        vertical-align: top;\n",
       "    }\n",
       "\n",
       "    .dataframe thead th {\n",
       "        text-align: right;\n",
       "    }\n",
       "</style>\n",
       "<table border=\"1\" class=\"dataframe\">\n",
       "  <thead>\n",
       "    <tr style=\"text-align: right;\">\n",
       "      <th></th>\n",
       "      <th>Name</th>\n",
       "      <th>Email</th>\n",
       "      <th>Address</th>\n",
       "      <th>First_Name</th>\n",
       "      <th>Last_Name</th>\n",
       "      <th>Username</th>\n",
       "      <th>Domain</th>\n",
       "      <th>Street</th>\n",
       "      <th>State</th>\n",
       "      <th>Zip</th>\n",
       "      <th>Name_Formatted</th>\n",
       "    </tr>\n",
       "  </thead>\n",
       "  <tbody>\n",
       "    <tr>\n",
       "      <th>0</th>\n",
       "      <td>John Smith</td>\n",
       "      <td>john@example.com</td>\n",
       "      <td>123 Main St, NY, 10001</td>\n",
       "      <td>John</td>\n",
       "      <td>Smith</td>\n",
       "      <td>john</td>\n",
       "      <td>example.com</td>\n",
       "      <td>123 Main St</td>\n",
       "      <td>NY</td>\n",
       "      <td>10001</td>\n",
       "      <td>Smith, John</td>\n",
       "    </tr>\n",
       "    <tr>\n",
       "      <th>1</th>\n",
       "      <td>Jane Doe</td>\n",
       "      <td>jane@example.com</td>\n",
       "      <td>456 Elm St, CA, 90210</td>\n",
       "      <td>Jane</td>\n",
       "      <td>Doe</td>\n",
       "      <td>jane</td>\n",
       "      <td>example.com</td>\n",
       "      <td>456 Elm St</td>\n",
       "      <td>CA</td>\n",
       "      <td>90210</td>\n",
       "      <td>Doe, Jane</td>\n",
       "    </tr>\n",
       "    <tr>\n",
       "      <th>2</th>\n",
       "      <td>Bob Johnson</td>\n",
       "      <td>bob@example.com</td>\n",
       "      <td>789 Oak St, TX, 75001</td>\n",
       "      <td>Bob</td>\n",
       "      <td>Johnson</td>\n",
       "      <td>bob</td>\n",
       "      <td>example.com</td>\n",
       "      <td>789 Oak St</td>\n",
       "      <td>TX</td>\n",
       "      <td>75001</td>\n",
       "      <td>Johnson, Bob</td>\n",
       "    </tr>\n",
       "    <tr>\n",
       "      <th>3</th>\n",
       "      <td>Alice Brown</td>\n",
       "      <td>alice@example.com</td>\n",
       "      <td>321 Pine St, FL, 33101</td>\n",
       "      <td>Alice</td>\n",
       "      <td>Brown</td>\n",
       "      <td>alice</td>\n",
       "      <td>example.com</td>\n",
       "      <td>321 Pine St</td>\n",
       "      <td>FL</td>\n",
       "      <td>33101</td>\n",
       "      <td>Brown, Alice</td>\n",
       "    </tr>\n",
       "    <tr>\n",
       "      <th>4</th>\n",
       "      <td>None</td>\n",
       "      <td>unknown@example.com</td>\n",
       "      <td>654 Maple St, WA, 98101</td>\n",
       "      <td>None</td>\n",
       "      <td>None</td>\n",
       "      <td>unknown</td>\n",
       "      <td>example.com</td>\n",
       "      <td>654 Maple St</td>\n",
       "      <td>WA</td>\n",
       "      <td>98101</td>\n",
       "      <td>NaN</td>\n",
       "    </tr>\n",
       "  </tbody>\n",
       "</table>\n",
       "</div>"
      ],
      "text/plain": [
       "          Name                Email                  Address First_Name  \\\n",
       "0   John Smith     john@example.com   123 Main St, NY, 10001       John   \n",
       "1     Jane Doe     jane@example.com    456 Elm St, CA, 90210       Jane   \n",
       "2  Bob Johnson      bob@example.com    789 Oak St, TX, 75001        Bob   \n",
       "3  Alice Brown    alice@example.com   321 Pine St, FL, 33101      Alice   \n",
       "4         None  unknown@example.com  654 Maple St, WA, 98101       None   \n",
       "\n",
       "  Last_Name Username       Domain        Street State    Zip Name_Formatted  \n",
       "0     Smith     john  example.com   123 Main St    NY  10001    Smith, John  \n",
       "1       Doe     jane  example.com    456 Elm St    CA  90210      Doe, Jane  \n",
       "2   Johnson      bob  example.com    789 Oak St    TX  75001   Johnson, Bob  \n",
       "3     Brown    alice  example.com   321 Pine St    FL  33101   Brown, Alice  \n",
       "4      None  unknown  example.com  654 Maple St    WA  98101            NaN  "
      ]
     },
     "execution_count": 126,
     "metadata": {},
     "output_type": "execute_result"
    }
   ],
   "source": [
    "# Join First Name and Last Name with a comma\n",
    "df['Name_Formatted'] = df['Last_Name'].str.cat(df['First_Name'], sep=', ')\n",
    "df"
   ]
  },
  {
   "cell_type": "code",
   "execution_count": 127,
   "metadata": {},
   "outputs": [
    {
     "data": {
      "text/html": [
       "<div>\n",
       "<style scoped>\n",
       "    .dataframe tbody tr th:only-of-type {\n",
       "        vertical-align: middle;\n",
       "    }\n",
       "\n",
       "    .dataframe tbody tr th {\n",
       "        vertical-align: top;\n",
       "    }\n",
       "\n",
       "    .dataframe thead th {\n",
       "        text-align: right;\n",
       "    }\n",
       "</style>\n",
       "<table border=\"1\" class=\"dataframe\">\n",
       "  <thead>\n",
       "    <tr style=\"text-align: right;\">\n",
       "      <th></th>\n",
       "      <th>Name</th>\n",
       "      <th>Email</th>\n",
       "      <th>Address</th>\n",
       "      <th>First_Name</th>\n",
       "      <th>Last_Name</th>\n",
       "      <th>Username</th>\n",
       "      <th>Domain</th>\n",
       "      <th>Street</th>\n",
       "      <th>State</th>\n",
       "      <th>Zip</th>\n",
       "      <th>Name_Formatted</th>\n",
       "      <th>Contact_Info</th>\n",
       "    </tr>\n",
       "  </thead>\n",
       "  <tbody>\n",
       "    <tr>\n",
       "      <th>0</th>\n",
       "      <td>John Smith</td>\n",
       "      <td>john@example.com</td>\n",
       "      <td>123 Main St, NY, 10001</td>\n",
       "      <td>John</td>\n",
       "      <td>Smith</td>\n",
       "      <td>john</td>\n",
       "      <td>example.com</td>\n",
       "      <td>123 Main St</td>\n",
       "      <td>NY</td>\n",
       "      <td>10001</td>\n",
       "      <td>Smith, John</td>\n",
       "      <td>John Smith | john@example.com | 123 Main St, N...</td>\n",
       "    </tr>\n",
       "    <tr>\n",
       "      <th>1</th>\n",
       "      <td>Jane Doe</td>\n",
       "      <td>jane@example.com</td>\n",
       "      <td>456 Elm St, CA, 90210</td>\n",
       "      <td>Jane</td>\n",
       "      <td>Doe</td>\n",
       "      <td>jane</td>\n",
       "      <td>example.com</td>\n",
       "      <td>456 Elm St</td>\n",
       "      <td>CA</td>\n",
       "      <td>90210</td>\n",
       "      <td>Doe, Jane</td>\n",
       "      <td>Jane Doe | jane@example.com | 456 Elm St, CA, ...</td>\n",
       "    </tr>\n",
       "    <tr>\n",
       "      <th>2</th>\n",
       "      <td>Bob Johnson</td>\n",
       "      <td>bob@example.com</td>\n",
       "      <td>789 Oak St, TX, 75001</td>\n",
       "      <td>Bob</td>\n",
       "      <td>Johnson</td>\n",
       "      <td>bob</td>\n",
       "      <td>example.com</td>\n",
       "      <td>789 Oak St</td>\n",
       "      <td>TX</td>\n",
       "      <td>75001</td>\n",
       "      <td>Johnson, Bob</td>\n",
       "      <td>Bob Johnson | bob@example.com | 789 Oak St, TX...</td>\n",
       "    </tr>\n",
       "    <tr>\n",
       "      <th>3</th>\n",
       "      <td>Alice Brown</td>\n",
       "      <td>alice@example.com</td>\n",
       "      <td>321 Pine St, FL, 33101</td>\n",
       "      <td>Alice</td>\n",
       "      <td>Brown</td>\n",
       "      <td>alice</td>\n",
       "      <td>example.com</td>\n",
       "      <td>321 Pine St</td>\n",
       "      <td>FL</td>\n",
       "      <td>33101</td>\n",
       "      <td>Brown, Alice</td>\n",
       "      <td>Alice Brown | alice@example.com | 321 Pine St,...</td>\n",
       "    </tr>\n",
       "    <tr>\n",
       "      <th>4</th>\n",
       "      <td>None</td>\n",
       "      <td>unknown@example.com</td>\n",
       "      <td>654 Maple St, WA, 98101</td>\n",
       "      <td>None</td>\n",
       "      <td>None</td>\n",
       "      <td>unknown</td>\n",
       "      <td>example.com</td>\n",
       "      <td>654 Maple St</td>\n",
       "      <td>WA</td>\n",
       "      <td>98101</td>\n",
       "      <td>NaN</td>\n",
       "      <td>NaN</td>\n",
       "    </tr>\n",
       "  </tbody>\n",
       "</table>\n",
       "</div>"
      ],
      "text/plain": [
       "          Name                Email                  Address First_Name  \\\n",
       "0   John Smith     john@example.com   123 Main St, NY, 10001       John   \n",
       "1     Jane Doe     jane@example.com    456 Elm St, CA, 90210       Jane   \n",
       "2  Bob Johnson      bob@example.com    789 Oak St, TX, 75001        Bob   \n",
       "3  Alice Brown    alice@example.com   321 Pine St, FL, 33101      Alice   \n",
       "4         None  unknown@example.com  654 Maple St, WA, 98101       None   \n",
       "\n",
       "  Last_Name Username       Domain        Street State    Zip Name_Formatted  \\\n",
       "0     Smith     john  example.com   123 Main St    NY  10001    Smith, John   \n",
       "1       Doe     jane  example.com    456 Elm St    CA  90210      Doe, Jane   \n",
       "2   Johnson      bob  example.com    789 Oak St    TX  75001   Johnson, Bob   \n",
       "3     Brown    alice  example.com   321 Pine St    FL  33101   Brown, Alice   \n",
       "4      None  unknown  example.com  654 Maple St    WA  98101            NaN   \n",
       "\n",
       "                                        Contact_Info  \n",
       "0  John Smith | john@example.com | 123 Main St, N...  \n",
       "1  Jane Doe | jane@example.com | 456 Elm St, CA, ...  \n",
       "2  Bob Johnson | bob@example.com | 789 Oak St, TX...  \n",
       "3  Alice Brown | alice@example.com | 321 Pine St,...  \n",
       "4                                                NaN  "
      ]
     },
     "execution_count": 127,
     "metadata": {},
     "output_type": "execute_result"
    }
   ],
   "source": [
    "# Create a full contact info string\n",
    "df['Contact_Info'] = df['Name'].str.cat([df['Email'], df['Address']], sep=' | ')\n",
    "df"
   ]
  },
  {
   "cell_type": "markdown",
   "metadata": {},
   "source": [
    "In this comprehensive example, we've:\n",
    "1. Split the 'Name' column into 'First_Name' and 'Last_Name'.\n",
    "2. Parsed the 'Email' column into 'Username' and 'Domain'.\n",
    "3. Extracted components from the 'Address' column.\n",
    "4. Created a formatted name with last name first.\n",
    "5. Generated a full contact info string by joining multiple columns.\n"
   ]
  },
  {
   "cell_type": "markdown",
   "metadata": {},
   "source": [
    "These operations demonstrate how splitting and joining strings can be used to restructure and enrich your data. They're particularly useful for:\n",
    "- Parsing complex string fields into structured data\n",
    "- Reformatting data for display or analysis\n",
    "- Combining information from multiple columns into a single field\n"
   ]
  },
  {
   "cell_type": "markdown",
   "metadata": {},
   "source": [
    "Remember that when working with real-world data, you may encounter inconsistencies or missing values. It's always a good practice to handle potential errors and edge cases in your string operations. For example:\n"
   ]
  },
  {
   "cell_type": "markdown",
   "metadata": {},
   "source": [
    "By mastering these splitting and joining techniques, you can efficiently manipulate and restructure string data in Pandas, making your data cleaning and preprocessing tasks much more manageable."
   ]
  },
  {
   "cell_type": "markdown",
   "metadata": {},
   "source": [
    "## <a id='toc7_'></a>[Practical Examples and Use Cases](#toc0_)"
   ]
  },
  {
   "cell_type": "markdown",
   "metadata": {},
   "source": [
    "Let's explore some real-world scenarios where string manipulation in Pandas is particularly useful. These examples will demonstrate how to apply the techniques we've learned to solve common data processing tasks.\n"
   ]
  },
  {
   "cell_type": "markdown",
   "metadata": {},
   "source": [
    "### <a id='toc7_1_'></a>[Cleaning and Standardizing Customer Data](#toc0_)\n"
   ]
  },
  {
   "cell_type": "markdown",
   "metadata": {},
   "source": [
    "Suppose we have a messy customer database that needs cleaning and standardization.\n"
   ]
  },
  {
   "cell_type": "code",
   "execution_count": 128,
   "metadata": {},
   "outputs": [],
   "source": [
    "import pandas as pd\n",
    "import numpy as np"
   ]
  },
  {
   "cell_type": "code",
   "execution_count": 129,
   "metadata": {},
   "outputs": [
    {
     "data": {
      "text/html": [
       "<div>\n",
       "<style scoped>\n",
       "    .dataframe tbody tr th:only-of-type {\n",
       "        vertical-align: middle;\n",
       "    }\n",
       "\n",
       "    .dataframe tbody tr th {\n",
       "        vertical-align: top;\n",
       "    }\n",
       "\n",
       "    .dataframe thead th {\n",
       "        text-align: right;\n",
       "    }\n",
       "</style>\n",
       "<table border=\"1\" class=\"dataframe\">\n",
       "  <thead>\n",
       "    <tr style=\"text-align: right;\">\n",
       "      <th></th>\n",
       "      <th>Customer_Name</th>\n",
       "      <th>Email</th>\n",
       "      <th>Phone</th>\n",
       "      <th>Address</th>\n",
       "    </tr>\n",
       "  </thead>\n",
       "  <tbody>\n",
       "    <tr>\n",
       "      <th>0</th>\n",
       "      <td>john doe</td>\n",
       "      <td>john.doe@email.com</td>\n",
       "      <td>(123) 456-7890</td>\n",
       "      <td>123 Main St., New York, NY 10001</td>\n",
       "    </tr>\n",
       "    <tr>\n",
       "      <th>1</th>\n",
       "      <td>JANE SMITH</td>\n",
       "      <td>jane.smith@email.com</td>\n",
       "      <td>987-654-3210</td>\n",
       "      <td>456 Elm St, Los Angeles CA 90001</td>\n",
       "    </tr>\n",
       "    <tr>\n",
       "      <th>2</th>\n",
       "      <td>Bob Johnson</td>\n",
       "      <td>bob.j@email</td>\n",
       "      <td>1234567890</td>\n",
       "      <td>789 Oak Road TX 75001</td>\n",
       "    </tr>\n",
       "    <tr>\n",
       "      <th>3</th>\n",
       "      <td>Alice Brown</td>\n",
       "      <td>alice@email.com</td>\n",
       "      <td>(456)789-0123</td>\n",
       "      <td>321 Pine Avenue, Miami FL 33101</td>\n",
       "    </tr>\n",
       "    <tr>\n",
       "      <th>4</th>\n",
       "      <td>NaN</td>\n",
       "      <td>unknown</td>\n",
       "      <td>NaN</td>\n",
       "      <td>654 Maple St Seattle WA 98101</td>\n",
       "    </tr>\n",
       "  </tbody>\n",
       "</table>\n",
       "</div>"
      ],
      "text/plain": [
       "     Customer_Name                 Email           Phone  \\\n",
       "0         john doe    john.doe@email.com  (123) 456-7890   \n",
       "1       JANE SMITH  jane.smith@email.com    987-654-3210   \n",
       "2      Bob Johnson           bob.j@email      1234567890   \n",
       "3    Alice Brown         alice@email.com   (456)789-0123   \n",
       "4              NaN               unknown             NaN   \n",
       "\n",
       "                            Address  \n",
       "0  123 Main St., New York, NY 10001  \n",
       "1  456 Elm St, Los Angeles CA 90001  \n",
       "2             789 Oak Road TX 75001  \n",
       "3   321 Pine Avenue, Miami FL 33101  \n",
       "4     654 Maple St Seattle WA 98101  "
      ]
     },
     "execution_count": 129,
     "metadata": {},
     "output_type": "execute_result"
    }
   ],
   "source": [
    "# Create a sample messy customer database\n",
    "df = pd.DataFrame({\n",
    "    'Customer_Name': ['john doe', 'JANE SMITH', 'Bob Johnson', '  Alice Brown  ', np.nan],\n",
    "    'Email': ['john.doe@email.com', 'jane.smith@email.com', 'bob.j@email', 'alice@email.com', 'unknown'],\n",
    "    'Phone': ['(123) 456-7890', '987-654-3210', '1234567890', '(456)789-0123', np.nan],\n",
    "    'Address': ['123 Main St., New York, NY 10001', '456 Elm St, Los Angeles CA 90001', '789 Oak Road TX 75001', '321 Pine Avenue, Miami FL 33101', '654 Maple St Seattle WA 98101']\n",
    "})\n",
    "df"
   ]
  },
  {
   "cell_type": "code",
   "execution_count": 130,
   "metadata": {},
   "outputs": [
    {
     "data": {
      "text/html": [
       "<div>\n",
       "<style scoped>\n",
       "    .dataframe tbody tr th:only-of-type {\n",
       "        vertical-align: middle;\n",
       "    }\n",
       "\n",
       "    .dataframe tbody tr th {\n",
       "        vertical-align: top;\n",
       "    }\n",
       "\n",
       "    .dataframe thead th {\n",
       "        text-align: right;\n",
       "    }\n",
       "</style>\n",
       "<table border=\"1\" class=\"dataframe\">\n",
       "  <thead>\n",
       "    <tr style=\"text-align: right;\">\n",
       "      <th></th>\n",
       "      <th>Customer_Name</th>\n",
       "      <th>Email</th>\n",
       "      <th>Phone</th>\n",
       "      <th>Address</th>\n",
       "    </tr>\n",
       "  </thead>\n",
       "  <tbody>\n",
       "    <tr>\n",
       "      <th>0</th>\n",
       "      <td>John Doe</td>\n",
       "      <td>john.doe@email.com</td>\n",
       "      <td>(123) 456-7890</td>\n",
       "      <td>123 Main St., New York, NY 10001</td>\n",
       "    </tr>\n",
       "    <tr>\n",
       "      <th>1</th>\n",
       "      <td>Jane Smith</td>\n",
       "      <td>jane.smith@email.com</td>\n",
       "      <td>(987) 654-3210</td>\n",
       "      <td>456 Elm St, Los Angeles CA 90001</td>\n",
       "    </tr>\n",
       "    <tr>\n",
       "      <th>2</th>\n",
       "      <td>Bob Johnson</td>\n",
       "      <td>bob.j@email.com</td>\n",
       "      <td>(123) 456-7890</td>\n",
       "      <td>789 Oak Road TX 75001</td>\n",
       "    </tr>\n",
       "    <tr>\n",
       "      <th>3</th>\n",
       "      <td>Alice Brown</td>\n",
       "      <td>alice@email.com</td>\n",
       "      <td>(456) 789-0123</td>\n",
       "      <td>321 Pine Avenue, Miami FL 33101</td>\n",
       "    </tr>\n",
       "    <tr>\n",
       "      <th>4</th>\n",
       "      <td>NaN</td>\n",
       "      <td>unknown</td>\n",
       "      <td>NaN</td>\n",
       "      <td>654 Maple St Seattle WA 98101</td>\n",
       "    </tr>\n",
       "  </tbody>\n",
       "</table>\n",
       "</div>"
      ],
      "text/plain": [
       "  Customer_Name                 Email           Phone  \\\n",
       "0      John Doe    john.doe@email.com  (123) 456-7890   \n",
       "1    Jane Smith  jane.smith@email.com  (987) 654-3210   \n",
       "2   Bob Johnson       bob.j@email.com  (123) 456-7890   \n",
       "3   Alice Brown       alice@email.com  (456) 789-0123   \n",
       "4           NaN               unknown             NaN   \n",
       "\n",
       "                            Address  \n",
       "0  123 Main St., New York, NY 10001  \n",
       "1  456 Elm St, Los Angeles CA 90001  \n",
       "2             789 Oak Road TX 75001  \n",
       "3   321 Pine Avenue, Miami FL 33101  \n",
       "4     654 Maple St Seattle WA 98101  "
      ]
     },
     "execution_count": 130,
     "metadata": {},
     "output_type": "execute_result"
    }
   ],
   "source": [
    "# Clean and standardize the data\n",
    "df['Customer_Name'] = df['Customer_Name'].str.title().str.strip()\n",
    "df['Email'] = df['Email'].str.lower().str.replace(r'@email$', '@email.com', regex=True)\n",
    "df['Phone'] = df['Phone'].str.replace(r'\\D', '', regex=True).str.replace(r'(\\d{3})(\\d{3})(\\d{4})', r'(\\1) \\2-\\3', regex=True)\n",
    "df"
   ]
  },
  {
   "cell_type": "code",
   "execution_count": 131,
   "metadata": {},
   "outputs": [
    {
     "data": {
      "text/html": [
       "<div>\n",
       "<style scoped>\n",
       "    .dataframe tbody tr th:only-of-type {\n",
       "        vertical-align: middle;\n",
       "    }\n",
       "\n",
       "    .dataframe tbody tr th {\n",
       "        vertical-align: top;\n",
       "    }\n",
       "\n",
       "    .dataframe thead th {\n",
       "        text-align: right;\n",
       "    }\n",
       "</style>\n",
       "<table border=\"1\" class=\"dataframe\">\n",
       "  <thead>\n",
       "    <tr style=\"text-align: right;\">\n",
       "      <th></th>\n",
       "      <th>Customer_Name</th>\n",
       "      <th>Email</th>\n",
       "      <th>Phone</th>\n",
       "      <th>Address</th>\n",
       "      <th>Street</th>\n",
       "      <th>City</th>\n",
       "      <th>State_Zip</th>\n",
       "      <th>State</th>\n",
       "      <th>Zip</th>\n",
       "    </tr>\n",
       "  </thead>\n",
       "  <tbody>\n",
       "    <tr>\n",
       "      <th>0</th>\n",
       "      <td>John Doe</td>\n",
       "      <td>john.doe@email.com</td>\n",
       "      <td>(123) 456-7890</td>\n",
       "      <td>123 Main St., New York, NY 10001</td>\n",
       "      <td>123 Main St.</td>\n",
       "      <td>New York</td>\n",
       "      <td>NY 10001</td>\n",
       "      <td>NY</td>\n",
       "      <td>10001</td>\n",
       "    </tr>\n",
       "    <tr>\n",
       "      <th>1</th>\n",
       "      <td>Jane Smith</td>\n",
       "      <td>jane.smith@email.com</td>\n",
       "      <td>(987) 654-3210</td>\n",
       "      <td>456 Elm St, Los Angeles CA 90001</td>\n",
       "      <td>456 Elm St</td>\n",
       "      <td>Los Angeles CA 90001</td>\n",
       "      <td>None</td>\n",
       "      <td>None</td>\n",
       "      <td>None</td>\n",
       "    </tr>\n",
       "    <tr>\n",
       "      <th>2</th>\n",
       "      <td>Bob Johnson</td>\n",
       "      <td>bob.j@email.com</td>\n",
       "      <td>(123) 456-7890</td>\n",
       "      <td>789 Oak Road TX 75001</td>\n",
       "      <td>789 Oak Road TX 75001</td>\n",
       "      <td>None</td>\n",
       "      <td>None</td>\n",
       "      <td>None</td>\n",
       "      <td>None</td>\n",
       "    </tr>\n",
       "    <tr>\n",
       "      <th>3</th>\n",
       "      <td>Alice Brown</td>\n",
       "      <td>alice@email.com</td>\n",
       "      <td>(456) 789-0123</td>\n",
       "      <td>321 Pine Avenue, Miami FL 33101</td>\n",
       "      <td>321 Pine Avenue</td>\n",
       "      <td>Miami FL 33101</td>\n",
       "      <td>None</td>\n",
       "      <td>None</td>\n",
       "      <td>None</td>\n",
       "    </tr>\n",
       "    <tr>\n",
       "      <th>4</th>\n",
       "      <td>NaN</td>\n",
       "      <td>unknown</td>\n",
       "      <td>NaN</td>\n",
       "      <td>654 Maple St Seattle WA 98101</td>\n",
       "      <td>654 Maple St Seattle WA 98101</td>\n",
       "      <td>None</td>\n",
       "      <td>None</td>\n",
       "      <td>None</td>\n",
       "      <td>None</td>\n",
       "    </tr>\n",
       "  </tbody>\n",
       "</table>\n",
       "</div>"
      ],
      "text/plain": [
       "  Customer_Name                 Email           Phone  \\\n",
       "0      John Doe    john.doe@email.com  (123) 456-7890   \n",
       "1    Jane Smith  jane.smith@email.com  (987) 654-3210   \n",
       "2   Bob Johnson       bob.j@email.com  (123) 456-7890   \n",
       "3   Alice Brown       alice@email.com  (456) 789-0123   \n",
       "4           NaN               unknown             NaN   \n",
       "\n",
       "                            Address                         Street  \\\n",
       "0  123 Main St., New York, NY 10001                   123 Main St.   \n",
       "1  456 Elm St, Los Angeles CA 90001                     456 Elm St   \n",
       "2             789 Oak Road TX 75001          789 Oak Road TX 75001   \n",
       "3   321 Pine Avenue, Miami FL 33101                321 Pine Avenue   \n",
       "4     654 Maple St Seattle WA 98101  654 Maple St Seattle WA 98101   \n",
       "\n",
       "                    City  State_Zip State    Zip  \n",
       "0               New York   NY 10001    NY  10001  \n",
       "1   Los Angeles CA 90001       None  None   None  \n",
       "2                   None       None  None   None  \n",
       "3         Miami FL 33101       None  None   None  \n",
       "4                   None       None  None   None  "
      ]
     },
     "execution_count": 131,
     "metadata": {},
     "output_type": "execute_result"
    }
   ],
   "source": [
    "# Extract city and state from address\n",
    "df[['Street', 'City', 'State_Zip']] = df['Address'].str.split(',', expand=True)\n",
    "df[['State', 'Zip']] = df['State_Zip'].str.strip().str.split(expand=True)\n",
    "df['State'] = df['State'].str.upper()\n",
    "df['Zip'] = df['Zip'].str.replace(r'\\D', '', regex=True)\n",
    "df"
   ]
  },
  {
   "cell_type": "code",
   "execution_count": 132,
   "metadata": {},
   "outputs": [
    {
     "data": {
      "text/html": [
       "<div>\n",
       "<style scoped>\n",
       "    .dataframe tbody tr th:only-of-type {\n",
       "        vertical-align: middle;\n",
       "    }\n",
       "\n",
       "    .dataframe tbody tr th {\n",
       "        vertical-align: top;\n",
       "    }\n",
       "\n",
       "    .dataframe thead th {\n",
       "        text-align: right;\n",
       "    }\n",
       "</style>\n",
       "<table border=\"1\" class=\"dataframe\">\n",
       "  <thead>\n",
       "    <tr style=\"text-align: right;\">\n",
       "      <th></th>\n",
       "      <th>Customer_Name</th>\n",
       "      <th>Email</th>\n",
       "      <th>Phone</th>\n",
       "      <th>Street</th>\n",
       "      <th>City</th>\n",
       "      <th>State</th>\n",
       "      <th>Zip</th>\n",
       "    </tr>\n",
       "  </thead>\n",
       "  <tbody>\n",
       "    <tr>\n",
       "      <th>0</th>\n",
       "      <td>John Doe</td>\n",
       "      <td>john.doe@email.com</td>\n",
       "      <td>(123) 456-7890</td>\n",
       "      <td>123 Main St.</td>\n",
       "      <td>New York</td>\n",
       "      <td>NY</td>\n",
       "      <td>10001</td>\n",
       "    </tr>\n",
       "    <tr>\n",
       "      <th>1</th>\n",
       "      <td>Jane Smith</td>\n",
       "      <td>jane.smith@email.com</td>\n",
       "      <td>(987) 654-3210</td>\n",
       "      <td>456 Elm St</td>\n",
       "      <td>Los Angeles CA 90001</td>\n",
       "      <td>None</td>\n",
       "      <td>None</td>\n",
       "    </tr>\n",
       "    <tr>\n",
       "      <th>2</th>\n",
       "      <td>Bob Johnson</td>\n",
       "      <td>bob.j@email.com</td>\n",
       "      <td>(123) 456-7890</td>\n",
       "      <td>789 Oak Road TX 75001</td>\n",
       "      <td>None</td>\n",
       "      <td>None</td>\n",
       "      <td>None</td>\n",
       "    </tr>\n",
       "    <tr>\n",
       "      <th>3</th>\n",
       "      <td>Alice Brown</td>\n",
       "      <td>alice@email.com</td>\n",
       "      <td>(456) 789-0123</td>\n",
       "      <td>321 Pine Avenue</td>\n",
       "      <td>Miami FL 33101</td>\n",
       "      <td>None</td>\n",
       "      <td>None</td>\n",
       "    </tr>\n",
       "    <tr>\n",
       "      <th>4</th>\n",
       "      <td>NaN</td>\n",
       "      <td>unknown</td>\n",
       "      <td>NaN</td>\n",
       "      <td>654 Maple St Seattle WA 98101</td>\n",
       "      <td>None</td>\n",
       "      <td>None</td>\n",
       "      <td>None</td>\n",
       "    </tr>\n",
       "  </tbody>\n",
       "</table>\n",
       "</div>"
      ],
      "text/plain": [
       "  Customer_Name                 Email           Phone  \\\n",
       "0      John Doe    john.doe@email.com  (123) 456-7890   \n",
       "1    Jane Smith  jane.smith@email.com  (987) 654-3210   \n",
       "2   Bob Johnson       bob.j@email.com  (123) 456-7890   \n",
       "3   Alice Brown       alice@email.com  (456) 789-0123   \n",
       "4           NaN               unknown             NaN   \n",
       "\n",
       "                          Street                   City State    Zip  \n",
       "0                   123 Main St.               New York    NY  10001  \n",
       "1                     456 Elm St   Los Angeles CA 90001  None   None  \n",
       "2          789 Oak Road TX 75001                   None  None   None  \n",
       "3                321 Pine Avenue         Miami FL 33101  None   None  \n",
       "4  654 Maple St Seattle WA 98101                   None  None   None  "
      ]
     },
     "execution_count": 132,
     "metadata": {},
     "output_type": "execute_result"
    }
   ],
   "source": [
    "# Drop intermediate columns and reorder\n",
    "df = df.drop('State_Zip', axis=1)\n",
    "df = df[['Customer_Name', 'Email', 'Phone', 'Street', 'City', 'State', 'Zip']]\n",
    "df"
   ]
  },
  {
   "cell_type": "markdown",
   "metadata": {},
   "source": [
    "### <a id='toc7_3_'></a>[Extracting Information from Product Descriptions](#toc0_)\n"
   ]
  },
  {
   "cell_type": "markdown",
   "metadata": {},
   "source": [
    "Imagine we have a dataset of product descriptions and we need to extract key information.\n"
   ]
  },
  {
   "cell_type": "code",
   "execution_count": 144,
   "metadata": {},
   "outputs": [
    {
     "data": {
      "text/html": [
       "<div>\n",
       "<style scoped>\n",
       "    .dataframe tbody tr th:only-of-type {\n",
       "        vertical-align: middle;\n",
       "    }\n",
       "\n",
       "    .dataframe tbody tr th {\n",
       "        vertical-align: top;\n",
       "    }\n",
       "\n",
       "    .dataframe thead th {\n",
       "        text-align: right;\n",
       "    }\n",
       "</style>\n",
       "<table border=\"1\" class=\"dataframe\">\n",
       "  <thead>\n",
       "    <tr style=\"text-align: right;\">\n",
       "      <th></th>\n",
       "      <th>Product_ID</th>\n",
       "      <th>Description</th>\n",
       "    </tr>\n",
       "  </thead>\n",
       "  <tbody>\n",
       "    <tr>\n",
       "      <th>0</th>\n",
       "      <td>A001</td>\n",
       "      <td>Red leather wallet, size: 4x3 inches, price: $...</td>\n",
       "    </tr>\n",
       "    <tr>\n",
       "      <th>1</th>\n",
       "      <td>B002</td>\n",
       "      <td>Blue denim jeans, waist: 32, length: 34, price...</td>\n",
       "    </tr>\n",
       "    <tr>\n",
       "      <th>2</th>\n",
       "      <td>C003</td>\n",
       "      <td>Stainless steel watch, diameter: 40mm, water r...</td>\n",
       "    </tr>\n",
       "    <tr>\n",
       "      <th>3</th>\n",
       "      <td>D004</td>\n",
       "      <td>Wireless headphones, battery life: 20 hours, c...</td>\n",
       "    </tr>\n",
       "    <tr>\n",
       "      <th>4</th>\n",
       "      <td>E005</td>\n",
       "      <td>Laptop backpack, capacity: 20L, color: gray, f...</td>\n",
       "    </tr>\n",
       "  </tbody>\n",
       "</table>\n",
       "</div>"
      ],
      "text/plain": [
       "  Product_ID                                        Description\n",
       "0       A001  Red leather wallet, size: 4x3 inches, price: $...\n",
       "1       B002  Blue denim jeans, waist: 32, length: 34, price...\n",
       "2       C003  Stainless steel watch, diameter: 40mm, water r...\n",
       "3       D004  Wireless headphones, battery life: 20 hours, c...\n",
       "4       E005  Laptop backpack, capacity: 20L, color: gray, f..."
      ]
     },
     "execution_count": 144,
     "metadata": {},
     "output_type": "execute_result"
    }
   ],
   "source": [
    "# Sample product data\n",
    "products = pd.DataFrame({\n",
    "    'Product_ID': ['A001', 'B002', 'C003', 'D004', 'E005'],\n",
    "    'Description': [\n",
    "        'Red leather wallet, size: 4x3 inches, price: $29.99',\n",
    "        'Blue denim jeans, waist: 32, length: 34, price: $59.95',\n",
    "        'Stainless steel watch, diameter: 40mm, water resistant to 50m, price: $129.00',\n",
    "        'Wireless headphones, battery life: 20 hours, color: black, price: $89.99',\n",
    "        'Laptop backpack, capacity: 20L, color: gray, fits up to 15\" laptop, price: $49.99'\n",
    "    ]\n",
    "})\n",
    "products"
   ]
  },
  {
   "cell_type": "code",
   "execution_count": 145,
   "metadata": {},
   "outputs": [
    {
     "data": {
      "text/html": [
       "<div>\n",
       "<style scoped>\n",
       "    .dataframe tbody tr th:only-of-type {\n",
       "        vertical-align: middle;\n",
       "    }\n",
       "\n",
       "    .dataframe tbody tr th {\n",
       "        vertical-align: top;\n",
       "    }\n",
       "\n",
       "    .dataframe thead th {\n",
       "        text-align: right;\n",
       "    }\n",
       "</style>\n",
       "<table border=\"1\" class=\"dataframe\">\n",
       "  <thead>\n",
       "    <tr style=\"text-align: right;\">\n",
       "      <th></th>\n",
       "      <th>Product_ID</th>\n",
       "      <th>Description</th>\n",
       "      <th>Price</th>\n",
       "      <th>Color</th>\n",
       "      <th>Size</th>\n",
       "      <th>Dimensions</th>\n",
       "    </tr>\n",
       "  </thead>\n",
       "  <tbody>\n",
       "    <tr>\n",
       "      <th>0</th>\n",
       "      <td>A001</td>\n",
       "      <td>Red leather wallet, size: 4x3 inches, price: $...</td>\n",
       "      <td>29.99</td>\n",
       "      <td>NaN</td>\n",
       "      <td>4x3 inches</td>\n",
       "      <td>4x3 inches</td>\n",
       "    </tr>\n",
       "    <tr>\n",
       "      <th>1</th>\n",
       "      <td>B002</td>\n",
       "      <td>Blue denim jeans, waist: 32, length: 34, price...</td>\n",
       "      <td>59.95</td>\n",
       "      <td>NaN</td>\n",
       "      <td>NaN</td>\n",
       "      <td>NaN</td>\n",
       "    </tr>\n",
       "    <tr>\n",
       "      <th>2</th>\n",
       "      <td>C003</td>\n",
       "      <td>Stainless steel watch, diameter: 40mm, water r...</td>\n",
       "      <td>129.00</td>\n",
       "      <td>NaN</td>\n",
       "      <td>NaN</td>\n",
       "      <td>40mm</td>\n",
       "    </tr>\n",
       "    <tr>\n",
       "      <th>3</th>\n",
       "      <td>D004</td>\n",
       "      <td>Wireless headphones, battery life: 20 hours, c...</td>\n",
       "      <td>89.99</td>\n",
       "      <td>black</td>\n",
       "      <td>NaN</td>\n",
       "      <td>NaN</td>\n",
       "    </tr>\n",
       "    <tr>\n",
       "      <th>4</th>\n",
       "      <td>E005</td>\n",
       "      <td>Laptop backpack, capacity: 20L, color: gray, f...</td>\n",
       "      <td>49.99</td>\n",
       "      <td>gray</td>\n",
       "      <td>NaN</td>\n",
       "      <td>15\"</td>\n",
       "    </tr>\n",
       "  </tbody>\n",
       "</table>\n",
       "</div>"
      ],
      "text/plain": [
       "  Product_ID                                        Description   Price  \\\n",
       "0       A001  Red leather wallet, size: 4x3 inches, price: $...   29.99   \n",
       "1       B002  Blue denim jeans, waist: 32, length: 34, price...   59.95   \n",
       "2       C003  Stainless steel watch, diameter: 40mm, water r...  129.00   \n",
       "3       D004  Wireless headphones, battery life: 20 hours, c...   89.99   \n",
       "4       E005  Laptop backpack, capacity: 20L, color: gray, f...   49.99   \n",
       "\n",
       "   Color        Size  Dimensions  \n",
       "0    NaN  4x3 inches  4x3 inches  \n",
       "1    NaN         NaN         NaN  \n",
       "2    NaN         NaN        40mm  \n",
       "3  black         NaN         NaN  \n",
       "4   gray         NaN         15\"  "
      ]
     },
     "execution_count": 145,
     "metadata": {},
     "output_type": "execute_result"
    }
   ],
   "source": [
    "# Extract information using regex\n",
    "products['Price'] = products['Description'].str.extract(r'price: \\$(\\d+\\.\\d{2})').astype(float)\n",
    "products['Color'] = products['Description'].str.extract(r'color: (\\w+)')\n",
    "products['Size'] = products['Description'].str.extract(r'size: ([\\w\\s]+)')\n",
    "products['Dimensions'] = products['Description'].str.extract(r'(\\d+(?:x\\d+)?\\s*(?:inches|mm|\"|\\'))')\n",
    "products"
   ]
  },
  {
   "cell_type": "code",
   "execution_count": 146,
   "metadata": {},
   "outputs": [
    {
     "name": "stdout",
     "output_type": "stream",
     "text": [
      "\n",
      "Average price: 71.784\n",
      "Most common color: black\n",
      "Price range: 29.99 - 129.0\n"
     ]
    }
   ],
   "source": [
    "# Analyze the data\n",
    "print(\"\\nAverage price:\", products['Price'].mean())\n",
    "print(\"Most common color:\", products['Color'].mode()[0])\n",
    "print(\"Price range:\", products['Price'].min(), \"-\", products['Price'].max())"
   ]
  },
  {
   "cell_type": "markdown",
   "metadata": {},
   "source": [
    "### <a id='toc7_4_'></a>[Normalizing and Categorizing Text Data](#toc0_)\n"
   ]
  },
  {
   "cell_type": "markdown",
   "metadata": {},
   "source": [
    "Let's normalize and categorize a dataset of book titles and authors.\n"
   ]
  },
  {
   "cell_type": "code",
   "execution_count": 147,
   "metadata": {},
   "outputs": [
    {
     "data": {
      "text/html": [
       "<div>\n",
       "<style scoped>\n",
       "    .dataframe tbody tr th:only-of-type {\n",
       "        vertical-align: middle;\n",
       "    }\n",
       "\n",
       "    .dataframe tbody tr th {\n",
       "        vertical-align: top;\n",
       "    }\n",
       "\n",
       "    .dataframe thead th {\n",
       "        text-align: right;\n",
       "    }\n",
       "</style>\n",
       "<table border=\"1\" class=\"dataframe\">\n",
       "  <thead>\n",
       "    <tr style=\"text-align: right;\">\n",
       "      <th></th>\n",
       "      <th>Title</th>\n",
       "      <th>Author</th>\n",
       "      <th>Year</th>\n",
       "    </tr>\n",
       "  </thead>\n",
       "  <tbody>\n",
       "    <tr>\n",
       "      <th>0</th>\n",
       "      <td>The Great Gatsby</td>\n",
       "      <td>F. Scott Fitzgerald</td>\n",
       "      <td>1925</td>\n",
       "    </tr>\n",
       "    <tr>\n",
       "      <th>1</th>\n",
       "      <td>To Kill a Mockingbird</td>\n",
       "      <td>Harper Lee</td>\n",
       "      <td>1960</td>\n",
       "    </tr>\n",
       "    <tr>\n",
       "      <th>2</th>\n",
       "      <td>1984</td>\n",
       "      <td>George Orwell</td>\n",
       "      <td>1949</td>\n",
       "    </tr>\n",
       "    <tr>\n",
       "      <th>3</th>\n",
       "      <td>Pride and Prejudice</td>\n",
       "      <td>Jane Austen</td>\n",
       "      <td>1813</td>\n",
       "    </tr>\n",
       "    <tr>\n",
       "      <th>4</th>\n",
       "      <td>The Catcher in the Rye</td>\n",
       "      <td>J.D. Salinger</td>\n",
       "      <td>1951</td>\n",
       "    </tr>\n",
       "  </tbody>\n",
       "</table>\n",
       "</div>"
      ],
      "text/plain": [
       "                    Title               Author  Year\n",
       "0        The Great Gatsby  F. Scott Fitzgerald  1925\n",
       "1   To Kill a Mockingbird           Harper Lee  1960\n",
       "2                    1984        George Orwell  1949\n",
       "3     Pride and Prejudice          Jane Austen  1813\n",
       "4  The Catcher in the Rye        J.D. Salinger  1951"
      ]
     },
     "execution_count": 147,
     "metadata": {},
     "output_type": "execute_result"
    }
   ],
   "source": [
    "# Sample book data\n",
    "books = pd.DataFrame({\n",
    "    'Title': ['The Great Gatsby', 'To Kill a Mockingbird', '1984', 'Pride and Prejudice', 'The Catcher in the Rye'],\n",
    "    'Author': ['F. Scott Fitzgerald', 'Harper Lee', 'George Orwell', 'Jane Austen', 'J.D. Salinger'],\n",
    "    'Year': ['1925', '1960', '1949', '1813', '1951']\n",
    "})\n",
    "books"
   ]
  },
  {
   "cell_type": "code",
   "execution_count": 148,
   "metadata": {},
   "outputs": [
    {
     "data": {
      "text/html": [
       "<div>\n",
       "<style scoped>\n",
       "    .dataframe tbody tr th:only-of-type {\n",
       "        vertical-align: middle;\n",
       "    }\n",
       "\n",
       "    .dataframe tbody tr th {\n",
       "        vertical-align: top;\n",
       "    }\n",
       "\n",
       "    .dataframe thead th {\n",
       "        text-align: right;\n",
       "    }\n",
       "</style>\n",
       "<table border=\"1\" class=\"dataframe\">\n",
       "  <thead>\n",
       "    <tr style=\"text-align: right;\">\n",
       "      <th></th>\n",
       "      <th>Title</th>\n",
       "      <th>Author</th>\n",
       "      <th>Year</th>\n",
       "      <th>Title_Normalized</th>\n",
       "      <th>Author_Last_Name</th>\n",
       "    </tr>\n",
       "  </thead>\n",
       "  <tbody>\n",
       "    <tr>\n",
       "      <th>0</th>\n",
       "      <td>The Great Gatsby</td>\n",
       "      <td>F. Scott Fitzgerald</td>\n",
       "      <td>1925</td>\n",
       "      <td>the great gatsby</td>\n",
       "      <td>fitzgerald</td>\n",
       "    </tr>\n",
       "    <tr>\n",
       "      <th>1</th>\n",
       "      <td>To Kill a Mockingbird</td>\n",
       "      <td>Harper Lee</td>\n",
       "      <td>1960</td>\n",
       "      <td>to kill a mockingbird</td>\n",
       "      <td>lee</td>\n",
       "    </tr>\n",
       "    <tr>\n",
       "      <th>2</th>\n",
       "      <td>1984</td>\n",
       "      <td>George Orwell</td>\n",
       "      <td>1949</td>\n",
       "      <td>1984</td>\n",
       "      <td>orwell</td>\n",
       "    </tr>\n",
       "    <tr>\n",
       "      <th>3</th>\n",
       "      <td>Pride and Prejudice</td>\n",
       "      <td>Jane Austen</td>\n",
       "      <td>1813</td>\n",
       "      <td>pride and prejudice</td>\n",
       "      <td>austen</td>\n",
       "    </tr>\n",
       "    <tr>\n",
       "      <th>4</th>\n",
       "      <td>The Catcher in the Rye</td>\n",
       "      <td>J.D. Salinger</td>\n",
       "      <td>1951</td>\n",
       "      <td>the catcher in the rye</td>\n",
       "      <td>salinger</td>\n",
       "    </tr>\n",
       "  </tbody>\n",
       "</table>\n",
       "</div>"
      ],
      "text/plain": [
       "                    Title               Author  Year        Title_Normalized  \\\n",
       "0        The Great Gatsby  F. Scott Fitzgerald  1925        the great gatsby   \n",
       "1   To Kill a Mockingbird           Harper Lee  1960   to kill a mockingbird   \n",
       "2                    1984        George Orwell  1949                    1984   \n",
       "3     Pride and Prejudice          Jane Austen  1813     pride and prejudice   \n",
       "4  The Catcher in the Rye        J.D. Salinger  1951  the catcher in the rye   \n",
       "\n",
       "  Author_Last_Name  \n",
       "0       fitzgerald  \n",
       "1              lee  \n",
       "2           orwell  \n",
       "3           austen  \n",
       "4         salinger  "
      ]
     },
     "execution_count": 148,
     "metadata": {},
     "output_type": "execute_result"
    }
   ],
   "source": [
    "# Normalize titles and authors\n",
    "books['Title_Normalized'] = books['Title'].str.lower().str.replace(r'[^\\w\\s]', '', regex=True)\n",
    "books['Author_Last_Name'] = books['Author'].str.split().str[-1].str.lower()\n",
    "books"
   ]
  },
  {
   "cell_type": "code",
   "execution_count": 149,
   "metadata": {},
   "outputs": [
    {
     "data": {
      "text/html": [
       "<div>\n",
       "<style scoped>\n",
       "    .dataframe tbody tr th:only-of-type {\n",
       "        vertical-align: middle;\n",
       "    }\n",
       "\n",
       "    .dataframe tbody tr th {\n",
       "        vertical-align: top;\n",
       "    }\n",
       "\n",
       "    .dataframe thead th {\n",
       "        text-align: right;\n",
       "    }\n",
       "</style>\n",
       "<table border=\"1\" class=\"dataframe\">\n",
       "  <thead>\n",
       "    <tr style=\"text-align: right;\">\n",
       "      <th></th>\n",
       "      <th>Title</th>\n",
       "      <th>Author</th>\n",
       "      <th>Year</th>\n",
       "      <th>Title_Normalized</th>\n",
       "      <th>Author_Last_Name</th>\n",
       "      <th>Century</th>\n",
       "    </tr>\n",
       "  </thead>\n",
       "  <tbody>\n",
       "    <tr>\n",
       "      <th>0</th>\n",
       "      <td>The Great Gatsby</td>\n",
       "      <td>F. Scott Fitzgerald</td>\n",
       "      <td>1925</td>\n",
       "      <td>the great gatsby</td>\n",
       "      <td>fitzgerald</td>\n",
       "      <td>20th century</td>\n",
       "    </tr>\n",
       "    <tr>\n",
       "      <th>1</th>\n",
       "      <td>To Kill a Mockingbird</td>\n",
       "      <td>Harper Lee</td>\n",
       "      <td>1960</td>\n",
       "      <td>to kill a mockingbird</td>\n",
       "      <td>lee</td>\n",
       "      <td>20th century</td>\n",
       "    </tr>\n",
       "    <tr>\n",
       "      <th>2</th>\n",
       "      <td>1984</td>\n",
       "      <td>George Orwell</td>\n",
       "      <td>1949</td>\n",
       "      <td>1984</td>\n",
       "      <td>orwell</td>\n",
       "      <td>20th century</td>\n",
       "    </tr>\n",
       "    <tr>\n",
       "      <th>3</th>\n",
       "      <td>Pride and Prejudice</td>\n",
       "      <td>Jane Austen</td>\n",
       "      <td>1813</td>\n",
       "      <td>pride and prejudice</td>\n",
       "      <td>austen</td>\n",
       "      <td>19th century</td>\n",
       "    </tr>\n",
       "    <tr>\n",
       "      <th>4</th>\n",
       "      <td>The Catcher in the Rye</td>\n",
       "      <td>J.D. Salinger</td>\n",
       "      <td>1951</td>\n",
       "      <td>the catcher in the rye</td>\n",
       "      <td>salinger</td>\n",
       "      <td>20th century</td>\n",
       "    </tr>\n",
       "  </tbody>\n",
       "</table>\n",
       "</div>"
      ],
      "text/plain": [
       "                    Title               Author  Year        Title_Normalized  \\\n",
       "0        The Great Gatsby  F. Scott Fitzgerald  1925        the great gatsby   \n",
       "1   To Kill a Mockingbird           Harper Lee  1960   to kill a mockingbird   \n",
       "2                    1984        George Orwell  1949                    1984   \n",
       "3     Pride and Prejudice          Jane Austen  1813     pride and prejudice   \n",
       "4  The Catcher in the Rye        J.D. Salinger  1951  the catcher in the rye   \n",
       "\n",
       "  Author_Last_Name       Century  \n",
       "0       fitzgerald  20th century  \n",
       "1              lee  20th century  \n",
       "2           orwell  20th century  \n",
       "3           austen  19th century  \n",
       "4         salinger  20th century  "
      ]
     },
     "execution_count": 149,
     "metadata": {},
     "output_type": "execute_result"
    }
   ],
   "source": [
    "# Categorize by century\n",
    "books['Century'] = books['Year'].astype(int).apply(lambda x: f\"{(x-1)//100 + 1}th century\")\n",
    "books"
   ]
  },
  {
   "cell_type": "code",
   "execution_count": 150,
   "metadata": {},
   "outputs": [
    {
     "data": {
      "text/html": [
       "<div>\n",
       "<style scoped>\n",
       "    .dataframe tbody tr th:only-of-type {\n",
       "        vertical-align: middle;\n",
       "    }\n",
       "\n",
       "    .dataframe tbody tr th {\n",
       "        vertical-align: top;\n",
       "    }\n",
       "\n",
       "    .dataframe thead th {\n",
       "        text-align: right;\n",
       "    }\n",
       "</style>\n",
       "<table border=\"1\" class=\"dataframe\">\n",
       "  <thead>\n",
       "    <tr style=\"text-align: right;\">\n",
       "      <th></th>\n",
       "      <th>Title</th>\n",
       "      <th>Author</th>\n",
       "      <th>Year</th>\n",
       "      <th>Title_Normalized</th>\n",
       "      <th>Author_Last_Name</th>\n",
       "      <th>Century</th>\n",
       "      <th>Searchable</th>\n",
       "    </tr>\n",
       "  </thead>\n",
       "  <tbody>\n",
       "    <tr>\n",
       "      <th>0</th>\n",
       "      <td>The Great Gatsby</td>\n",
       "      <td>F. Scott Fitzgerald</td>\n",
       "      <td>1925</td>\n",
       "      <td>the great gatsby</td>\n",
       "      <td>fitzgerald</td>\n",
       "      <td>20th century</td>\n",
       "      <td>the great gatsby f scott fitzgerald</td>\n",
       "    </tr>\n",
       "    <tr>\n",
       "      <th>1</th>\n",
       "      <td>To Kill a Mockingbird</td>\n",
       "      <td>Harper Lee</td>\n",
       "      <td>1960</td>\n",
       "      <td>to kill a mockingbird</td>\n",
       "      <td>lee</td>\n",
       "      <td>20th century</td>\n",
       "      <td>to kill a mockingbird harper lee</td>\n",
       "    </tr>\n",
       "    <tr>\n",
       "      <th>2</th>\n",
       "      <td>1984</td>\n",
       "      <td>George Orwell</td>\n",
       "      <td>1949</td>\n",
       "      <td>1984</td>\n",
       "      <td>orwell</td>\n",
       "      <td>20th century</td>\n",
       "      <td>1984 george orwell</td>\n",
       "    </tr>\n",
       "    <tr>\n",
       "      <th>3</th>\n",
       "      <td>Pride and Prejudice</td>\n",
       "      <td>Jane Austen</td>\n",
       "      <td>1813</td>\n",
       "      <td>pride and prejudice</td>\n",
       "      <td>austen</td>\n",
       "      <td>19th century</td>\n",
       "      <td>pride and prejudice jane austen</td>\n",
       "    </tr>\n",
       "    <tr>\n",
       "      <th>4</th>\n",
       "      <td>The Catcher in the Rye</td>\n",
       "      <td>J.D. Salinger</td>\n",
       "      <td>1951</td>\n",
       "      <td>the catcher in the rye</td>\n",
       "      <td>salinger</td>\n",
       "      <td>20th century</td>\n",
       "      <td>the catcher in the rye jd salinger</td>\n",
       "    </tr>\n",
       "  </tbody>\n",
       "</table>\n",
       "</div>"
      ],
      "text/plain": [
       "                    Title               Author  Year        Title_Normalized  \\\n",
       "0        The Great Gatsby  F. Scott Fitzgerald  1925        the great gatsby   \n",
       "1   To Kill a Mockingbird           Harper Lee  1960   to kill a mockingbird   \n",
       "2                    1984        George Orwell  1949                    1984   \n",
       "3     Pride and Prejudice          Jane Austen  1813     pride and prejudice   \n",
       "4  The Catcher in the Rye        J.D. Salinger  1951  the catcher in the rye   \n",
       "\n",
       "  Author_Last_Name       Century                           Searchable  \n",
       "0       fitzgerald  20th century  the great gatsby f scott fitzgerald  \n",
       "1              lee  20th century     to kill a mockingbird harper lee  \n",
       "2           orwell  20th century                   1984 george orwell  \n",
       "3           austen  19th century      pride and prejudice jane austen  \n",
       "4         salinger  20th century   the catcher in the rye jd salinger  "
      ]
     },
     "execution_count": 150,
     "metadata": {},
     "output_type": "execute_result"
    }
   ],
   "source": [
    "# Create a searchable field\n",
    "books['Searchable'] = books['Title_Normalized'] + ' ' + books['Author'].str.lower().str.replace(r'[^\\w\\s]', '', regex=True)\n",
    "books"
   ]
  },
  {
   "cell_type": "code",
   "execution_count": 159,
   "metadata": {},
   "outputs": [
    {
     "name": "stdout",
     "output_type": "stream",
     "text": [
      "\n",
      "Search results for 'gatsby':\n"
     ]
    },
    {
     "data": {
      "text/html": [
       "<div>\n",
       "<style scoped>\n",
       "    .dataframe tbody tr th:only-of-type {\n",
       "        vertical-align: middle;\n",
       "    }\n",
       "\n",
       "    .dataframe tbody tr th {\n",
       "        vertical-align: top;\n",
       "    }\n",
       "\n",
       "    .dataframe thead th {\n",
       "        text-align: right;\n",
       "    }\n",
       "</style>\n",
       "<table border=\"1\" class=\"dataframe\">\n",
       "  <thead>\n",
       "    <tr style=\"text-align: right;\">\n",
       "      <th></th>\n",
       "      <th>Title</th>\n",
       "      <th>Author</th>\n",
       "    </tr>\n",
       "  </thead>\n",
       "  <tbody>\n",
       "    <tr>\n",
       "      <th>0</th>\n",
       "      <td>The Great Gatsby</td>\n",
       "      <td>F. Scott Fitzgerald</td>\n",
       "    </tr>\n",
       "  </tbody>\n",
       "</table>\n",
       "</div>"
      ],
      "text/plain": [
       "              Title               Author\n",
       "0  The Great Gatsby  F. Scott Fitzgerald"
      ]
     },
     "execution_count": 159,
     "metadata": {},
     "output_type": "execute_result"
    }
   ],
   "source": [
    "# Demonstrate search functionality\n",
    "search_term = 'gatsby'\n",
    "results = books[books['Searchable'].str.contains(search_term)]\n",
    "print(\"\\nSearch results for '{}':\".format(search_term))\n",
    "results[['Title', 'Author']]"
   ]
  }
 ],
 "metadata": {
  "kernelspec": {
   "display_name": "py310",
   "language": "python",
   "name": "python3"
  },
  "language_info": {
   "codemirror_mode": {
    "name": "ipython",
    "version": 3
   },
   "file_extension": ".py",
   "mimetype": "text/x-python",
   "name": "python",
   "nbconvert_exporter": "python",
   "pygments_lexer": "ipython3",
   "version": "3.10.12"
  }
 },
 "nbformat": 4,
 "nbformat_minor": 2
}
