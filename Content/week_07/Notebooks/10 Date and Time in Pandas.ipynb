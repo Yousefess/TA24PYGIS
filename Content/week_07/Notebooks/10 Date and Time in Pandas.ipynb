{
 "cells": [
  {
   "cell_type": "markdown",
   "metadata": {},
   "source": [
    "# [Introduction to Date and Time in Pandas](#)"
   ]
  },
  {
   "cell_type": "markdown",
   "metadata": {},
   "source": [
    "Time series data is a sequence of data points indexed in time order. Pandas provides powerful tools for working with time-based data, making it an essential library for tasks such as financial analysis, scientific research, and business intelligence.\n"
   ]
  },
  {
   "cell_type": "markdown",
   "metadata": {},
   "source": [
    "Working with dates and times is crucial in many data analysis tasks. Here's why datetime functionality is so important:\n",
    "\n",
    "- **Data Organization**: Time-based indexing allows for intuitive data slicing and selection.\n",
    "- **Trend Analysis**: Enables the identification of patterns and trends over time.\n",
    "- **Forecasting**: Facilitates predictive modeling based on historical time series data.\n",
    "- **Event Analysis**: Helps in studying the impact of specific events on time-dependent variables.\n",
    "- **Data Aggregation**: Allows for easy grouping and summarizing of data by various time periods (e.g., daily, monthly, yearly).\n",
    "- **Cross-Dataset Comparison**: Enables alignment and comparison of multiple datasets based on timestamps.\n"
   ]
  },
  {
   "cell_type": "markdown",
   "metadata": {},
   "source": [
    "<img src=\"../images/time-series.png\" width=\"800\">"
   ]
  },
  {
   "cell_type": "markdown",
   "metadata": {},
   "source": [
    "Pandas offers a rich set of tools and functions for handling time series data:\n"
   ]
  },
  {
   "cell_type": "markdown",
   "metadata": {},
   "source": [
    "1. **Datetime objects**: Pandas provides Timestamp for representing a single point in time and DatetimeIndex for time series.\n"
   ]
  },
  {
   "cell_type": "code",
   "execution_count": 1,
   "metadata": {},
   "outputs": [],
   "source": [
    "import pandas as pd\n",
    "import numpy as np"
   ]
  },
  {
   "cell_type": "code",
   "execution_count": 2,
   "metadata": {},
   "outputs": [
    {
     "data": {
      "text/plain": [
       "2023-01-01   -0.132048\n",
       "2023-01-02   -0.317583\n",
       "2023-01-03   -0.824561\n",
       "2023-01-04   -0.431450\n",
       "2023-01-05    0.025972\n",
       "2023-01-06   -0.790383\n",
       "2023-01-07   -0.251666\n",
       "2023-01-08   -1.096422\n",
       "2023-01-09   -0.253983\n",
       "2023-01-10   -1.458300\n",
       "Freq: D, dtype: float64"
      ]
     },
     "execution_count": 2,
     "metadata": {},
     "output_type": "execute_result"
    }
   ],
   "source": [
    "# Creating a DatetimeIndex\n",
    "dates = pd.date_range(start='2023-01-01', end='2023-01-10', freq='D')\n",
    "s = pd.Series(np.random.randn(len(dates)), index=dates)\n",
    "s"
   ]
  },
  {
   "cell_type": "markdown",
   "metadata": {},
   "source": [
    "2. **Date ranges**: Easy creation of regular time series.\n"
   ]
  },
  {
   "cell_type": "code",
   "execution_count": 3,
   "metadata": {},
   "outputs": [
    {
     "data": {
      "text/plain": [
       "DatetimeIndex(['2023-01-01', '2023-01-02', '2023-01-03', '2023-01-04',\n",
       "               '2023-01-05', '2023-01-06', '2023-01-07'],\n",
       "              dtype='datetime64[ns]', freq='D')"
      ]
     },
     "execution_count": 3,
     "metadata": {},
     "output_type": "execute_result"
    }
   ],
   "source": [
    "# Creating a date range\n",
    "pd.date_range(start='2023-01-01', periods=7, freq='D')"
   ]
  },
  {
   "cell_type": "markdown",
   "metadata": {},
   "source": [
    "3. **Flexible parsing**: Convert various string formats to datetime objects.\n"
   ]
  },
  {
   "cell_type": "code",
   "execution_count": 4,
   "metadata": {},
   "outputs": [
    {
     "data": {
      "text/plain": [
       "DatetimeIndex(['2023-01-01', '2023-01-02', '2023-01-03'], dtype='datetime64[ns]', freq=None)"
      ]
     },
     "execution_count": 4,
     "metadata": {},
     "output_type": "execute_result"
    }
   ],
   "source": [
    "# Parsing dates\n",
    "pd.to_datetime(['2023-01-01', '20230102', '01/03/2023'], format=\"mixed\")"
   ]
  },
  {
   "cell_type": "markdown",
   "metadata": {},
   "source": [
    "4. **Time zone handling**: Support for localization and conversion between time zones.\n"
   ]
  },
  {
   "cell_type": "code",
   "execution_count": 5,
   "metadata": {},
   "outputs": [
    {
     "data": {
      "text/plain": [
       "Timestamp('2023-01-01 07:00:00-0500', tz='US/Eastern')"
      ]
     },
     "execution_count": 5,
     "metadata": {},
     "output_type": "execute_result"
    }
   ],
   "source": [
    "# Time zone conversion\n",
    "ts = pd.Timestamp('2023-01-01 12:00:00', tz='UTC')\n",
    "ts.tz_convert('US/Eastern')"
   ]
  },
  {
   "cell_type": "markdown",
   "metadata": {},
   "source": [
    "5. **Resampling**: Change the frequency of time series data.\n"
   ]
  },
  {
   "cell_type": "code",
   "execution_count": 6,
   "metadata": {},
   "outputs": [
    {
     "data": {
      "text/plain": [
       "2023-01-31   -0.553042\n",
       "Freq: ME, dtype: float64"
      ]
     },
     "execution_count": 6,
     "metadata": {},
     "output_type": "execute_result"
    }
   ],
   "source": [
    "# Resampling to monthly frequency\n",
    "monthly = s.resample('ME').mean()\n",
    "monthly"
   ]
  },
  {
   "cell_type": "markdown",
   "metadata": {},
   "source": [
    "6. **Rolling windows**: Compute moving statistics.\n"
   ]
  },
  {
   "cell_type": "code",
   "execution_count": 7,
   "metadata": {},
   "outputs": [
    {
     "data": {
      "text/plain": [
       "2023-01-01         NaN\n",
       "2023-01-02         NaN\n",
       "2023-01-03   -0.424731\n",
       "2023-01-04   -0.524532\n",
       "2023-01-05   -0.410013\n",
       "2023-01-06   -0.398621\n",
       "2023-01-07   -0.338692\n",
       "2023-01-08   -0.712824\n",
       "2023-01-09   -0.534024\n",
       "2023-01-10   -0.936235\n",
       "Freq: D, dtype: float64"
      ]
     },
     "execution_count": 7,
     "metadata": {},
     "output_type": "execute_result"
    }
   ],
   "source": [
    "# Computing 3-day rolling mean\n",
    "s.rolling(window=3).mean()"
   ]
  },
  {
   "cell_type": "markdown",
   "metadata": {},
   "source": [
    "7. **Shifting and lagging**: Easily offset your data in time.\n"
   ]
  },
  {
   "cell_type": "code",
   "execution_count": 8,
   "metadata": {},
   "outputs": [
    {
     "data": {
      "text/plain": [
       "2023-01-01         NaN\n",
       "2023-01-02         NaN\n",
       "2023-01-03   -0.132048\n",
       "2023-01-04   -0.317583\n",
       "2023-01-05   -0.824561\n",
       "2023-01-06   -0.431450\n",
       "2023-01-07    0.025972\n",
       "2023-01-08   -0.790383\n",
       "2023-01-09   -0.251666\n",
       "2023-01-10   -1.096422\n",
       "Freq: D, dtype: float64"
      ]
     },
     "execution_count": 8,
     "metadata": {},
     "output_type": "execute_result"
    }
   ],
   "source": [
    "# Shifting the series by 2 days\n",
    "s.shift(2)"
   ]
  },
  {
   "cell_type": "markdown",
   "metadata": {},
   "source": [
    "8. **Period functionality**: Work with time spans rather than specific timestamps.\n"
   ]
  },
  {
   "cell_type": "code",
   "execution_count": 9,
   "metadata": {},
   "outputs": [
    {
     "data": {
      "text/plain": [
       "2023-01   -0.367263\n",
       "2023-02   -0.413871\n",
       "2023-03    0.262793\n",
       "2023-04    0.276197\n",
       "2023-05    0.807989\n",
       "2023-06   -1.085122\n",
       "2023-07    0.456688\n",
       "2023-08   -0.134236\n",
       "2023-09   -0.540731\n",
       "2023-10   -0.251733\n",
       "2023-11   -1.831110\n",
       "2023-12   -0.851892\n",
       "Freq: M, dtype: float64"
      ]
     },
     "execution_count": 9,
     "metadata": {},
     "output_type": "execute_result"
    }
   ],
   "source": [
    "# Creating a PeriodIndex\n",
    "periods = pd.period_range(start='2023-01', end='2023-12', freq='M')\n",
    "pd.Series(np.random.randn(len(periods)), index=periods)"
   ]
  },
  {
   "cell_type": "markdown",
   "metadata": {},
   "source": [
    "These capabilities make Pandas an extremely powerful tool for handling time series data. Throughout this lecture series, we'll explore these features in depth, providing you with the skills to effectively analyze and manipulate time-based data.\n"
   ]
  },
  {
   "cell_type": "markdown",
   "metadata": {},
   "source": [
    "In the upcoming sections, we'll dive deeper into the specifics of working with datetime objects, indexing, and performing various operations on time series data in Pandas."
   ]
  },
  {
   "cell_type": "markdown",
   "metadata": {},
   "source": [
    "## <a id='toc1_'></a>[Datetime Data Types](#toc0_)"
   ]
  },
  {
   "cell_type": "markdown",
   "metadata": {},
   "source": [
    "Pandas provides several specialized data types for working with dates and times. These types are crucial for effective time series analysis and manipulation.\n"
   ]
  },
  {
   "cell_type": "markdown",
   "metadata": {},
   "source": [
    "### <a id='toc1_1_'></a>[Timestamp](#toc0_)\n"
   ]
  },
  {
   "cell_type": "markdown",
   "metadata": {},
   "source": [
    "A `Timestamp` object represents a single point in time. It's similar to Python's `datetime`, but with additional features tailored for use in Pandas.\n"
   ]
  },
  {
   "cell_type": "code",
   "execution_count": 10,
   "metadata": {},
   "outputs": [
    {
     "data": {
      "text/plain": [
       "Timestamp('2023-06-15 14:30:00')"
      ]
     },
     "execution_count": 10,
     "metadata": {},
     "output_type": "execute_result"
    }
   ],
   "source": [
    "# Creating a Timestamp\n",
    "ts = pd.Timestamp('2023-06-15 14:30:00')\n",
    "ts"
   ]
  },
  {
   "cell_type": "markdown",
   "metadata": {},
   "source": [
    "When you create a Timestamp, Pandas parses the string and creates an object representing that exact moment in time. This Timestamp object has various attributes that you can access:\n"
   ]
  },
  {
   "cell_type": "code",
   "execution_count": 11,
   "metadata": {},
   "outputs": [
    {
     "data": {
      "text/plain": [
       "2023"
      ]
     },
     "execution_count": 11,
     "metadata": {},
     "output_type": "execute_result"
    }
   ],
   "source": [
    "# Accessing attributes\n",
    "ts.year"
   ]
  },
  {
   "cell_type": "code",
   "execution_count": 12,
   "metadata": {},
   "outputs": [
    {
     "data": {
      "text/plain": [
       "6"
      ]
     },
     "execution_count": 12,
     "metadata": {},
     "output_type": "execute_result"
    }
   ],
   "source": [
    "ts.month"
   ]
  },
  {
   "cell_type": "code",
   "execution_count": 13,
   "metadata": {},
   "outputs": [
    {
     "data": {
      "text/plain": [
       "15"
      ]
     },
     "execution_count": 13,
     "metadata": {},
     "output_type": "execute_result"
    }
   ],
   "source": [
    "ts.day"
   ]
  },
  {
   "cell_type": "code",
   "execution_count": 14,
   "metadata": {},
   "outputs": [
    {
     "data": {
      "text/plain": [
       "14"
      ]
     },
     "execution_count": 14,
     "metadata": {},
     "output_type": "execute_result"
    }
   ],
   "source": [
    "ts.hour"
   ]
  },
  {
   "cell_type": "code",
   "execution_count": 15,
   "metadata": {},
   "outputs": [
    {
     "data": {
      "text/plain": [
       "30"
      ]
     },
     "execution_count": 15,
     "metadata": {},
     "output_type": "execute_result"
    }
   ],
   "source": [
    "ts.minute"
   ]
  },
  {
   "cell_type": "code",
   "execution_count": 16,
   "metadata": {},
   "outputs": [
    {
     "data": {
      "text/plain": [
       "0"
      ]
     },
     "execution_count": 16,
     "metadata": {},
     "output_type": "execute_result"
    }
   ],
   "source": [
    "ts.second"
   ]
  },
  {
   "cell_type": "markdown",
   "metadata": {},
   "source": [
    "These attributes allow you to easily extract specific components of the date and time.\n"
   ]
  },
  {
   "cell_type": "markdown",
   "metadata": {},
   "source": [
    "Timestamps can also include timezone information. This is particularly useful when working with data from different regions or when performing calculations across time zones:\n"
   ]
  },
  {
   "cell_type": "code",
   "execution_count": 17,
   "metadata": {},
   "outputs": [
    {
     "data": {
      "text/plain": [
       "Timestamp('2023-06-15 14:30:00+0000', tz='UTC')"
      ]
     },
     "execution_count": 17,
     "metadata": {},
     "output_type": "execute_result"
    }
   ],
   "source": [
    "# Creating Timestamp with timezone\n",
    "ts_tz = pd.Timestamp('2023-06-15 14:30:00', tz='UTC')\n",
    "ts_tz"
   ]
  },
  {
   "cell_type": "markdown",
   "metadata": {},
   "source": [
    "In this case, we've created a Timestamp in the UTC timezone. Pandas supports a wide range of timezone specifications, making it flexible for international data analysis.\n"
   ]
  },
  {
   "cell_type": "markdown",
   "metadata": {},
   "source": [
    "### <a id='toc1_2_'></a>[DatetimeIndex](#toc0_)\n"
   ]
  },
  {
   "cell_type": "markdown",
   "metadata": {},
   "source": [
    "A `DatetimeIndex` is an Index object that contains Timestamp objects. It's commonly used as the index for time series data in Pandas, allowing for powerful time-based operations.\n"
   ]
  },
  {
   "cell_type": "code",
   "execution_count": 18,
   "metadata": {},
   "outputs": [
    {
     "data": {
      "text/plain": [
       "DatetimeIndex(['2023-01-01', '2023-01-02', '2023-01-03', '2023-01-04',\n",
       "               '2023-01-05'],\n",
       "              dtype='datetime64[ns]', freq='D')"
      ]
     },
     "execution_count": 18,
     "metadata": {},
     "output_type": "execute_result"
    }
   ],
   "source": [
    "# Creating a DatetimeIndex\n",
    "dates = pd.date_range(start='2023-01-01', periods=5, freq='D')\n",
    "dates"
   ]
  },
  {
   "cell_type": "markdown",
   "metadata": {},
   "source": [
    "Here, we've created a DatetimeIndex spanning 5 days, starting from January 1, 2023. The 'D' frequency specifies daily intervals. This index can now be used to create a time series:\n"
   ]
  },
  {
   "cell_type": "code",
   "execution_count": 19,
   "metadata": {},
   "outputs": [
    {
     "data": {
      "text/plain": [
       "2023-01-01    0\n",
       "2023-01-02    1\n",
       "2023-01-03    2\n",
       "2023-01-04    3\n",
       "2023-01-05    4\n",
       "Freq: D, dtype: int64"
      ]
     },
     "execution_count": 19,
     "metadata": {},
     "output_type": "execute_result"
    }
   ],
   "source": [
    "# Creating a Series with DatetimeIndex\n",
    "s = pd.Series(range(5), index=dates)\n",
    "s"
   ]
  },
  {
   "cell_type": "markdown",
   "metadata": {},
   "source": [
    "This Series now has dates as its index, enabling intuitive time-based selection:\n"
   ]
  },
  {
   "cell_type": "code",
   "execution_count": 20,
   "metadata": {},
   "outputs": [
    {
     "data": {
      "text/plain": [
       "2"
      ]
     },
     "execution_count": 20,
     "metadata": {},
     "output_type": "execute_result"
    }
   ],
   "source": [
    "# Selecting data using DatetimeIndex\n",
    "s['2023-01-03']  # Select a single date"
   ]
  },
  {
   "cell_type": "code",
   "execution_count": 21,
   "metadata": {},
   "outputs": [
    {
     "data": {
      "text/plain": [
       "2023-01-02    1\n",
       "2023-01-03    2\n",
       "2023-01-04    3\n",
       "Freq: D, dtype: int64"
      ]
     },
     "execution_count": 21,
     "metadata": {},
     "output_type": "execute_result"
    }
   ],
   "source": [
    "s['2023-01-02':'2023-01-04']  # Select a range of dates"
   ]
  },
  {
   "cell_type": "markdown",
   "metadata": {},
   "source": [
    "DatetimeIndex also enables powerful resampling operations. For example, we can easily aggregate our daily data into 2-day periods:\n"
   ]
  },
  {
   "cell_type": "code",
   "execution_count": 22,
   "metadata": {},
   "outputs": [
    {
     "data": {
      "text/plain": [
       "2023-01-01    1\n",
       "2023-01-03    5\n",
       "2023-01-05    4\n",
       "Freq: 2D, dtype: int64"
      ]
     },
     "execution_count": 22,
     "metadata": {},
     "output_type": "execute_result"
    }
   ],
   "source": [
    "# Resampling with DatetimeIndex\n",
    "s.resample('2D').sum()"
   ]
  },
  {
   "cell_type": "markdown",
   "metadata": {},
   "source": [
    "This resampling operation sums the values for every two-day period, demonstrating how DatetimeIndex facilitates time-based data aggregation.\n"
   ]
  },
  {
   "cell_type": "markdown",
   "metadata": {},
   "source": [
    "### <a id='toc1_3_'></a>[Timedelta and TimedeltaIndex](#toc0_)\n"
   ]
  },
  {
   "cell_type": "markdown",
   "metadata": {},
   "source": [
    "`Timedelta` represents a duration or difference between two dates or times. It's useful for performing date arithmetic and representing time spans.\n"
   ]
  },
  {
   "cell_type": "code",
   "execution_count": 23,
   "metadata": {},
   "outputs": [
    {
     "data": {
      "text/plain": [
       "Timedelta('2 days 03:30:00')"
      ]
     },
     "execution_count": 23,
     "metadata": {},
     "output_type": "execute_result"
    }
   ],
   "source": [
    "# Creating a Timedelta\n",
    "td = pd.Timedelta(days=2, hours=3, minutes=30)\n",
    "td"
   ]
  },
  {
   "cell_type": "markdown",
   "metadata": {},
   "source": [
    "This Timedelta represents a duration of 2 days, 3 hours, and 30 minutes. We can use it in arithmetic operations with Timestamps:\n"
   ]
  },
  {
   "cell_type": "code",
   "execution_count": 24,
   "metadata": {},
   "outputs": [
    {
     "data": {
      "text/plain": [
       "Timestamp('2023-06-17 18:00:00')"
      ]
     },
     "execution_count": 24,
     "metadata": {},
     "output_type": "execute_result"
    }
   ],
   "source": [
    "# Arithmetic with Timestamps\n",
    "ts = pd.Timestamp('2023-06-15 14:30:00')\n",
    "ts + td"
   ]
  },
  {
   "cell_type": "markdown",
   "metadata": {},
   "source": [
    "This calculation adds our Timedelta to the Timestamp, giving us a new Timestamp 2 days, 3 hours, and 30 minutes later.\n"
   ]
  },
  {
   "cell_type": "markdown",
   "metadata": {},
   "source": [
    "A `TimedeltaIndex` is an Index of Timedelta objects, useful for representing sequences of durations:\n"
   ]
  },
  {
   "cell_type": "code",
   "execution_count": 25,
   "metadata": {},
   "outputs": [
    {
     "data": {
      "text/plain": [
       "TimedeltaIndex(['1 days', '2 days', '3 days', '4 days', '5 days'], dtype='timedelta64[ns]', freq='D')"
      ]
     },
     "execution_count": 25,
     "metadata": {},
     "output_type": "execute_result"
    }
   ],
   "source": [
    "# Creating a TimedeltaIndex\n",
    "tdi = pd.timedelta_range(start='1 day', end='5 days', freq='D')\n",
    "tdi"
   ]
  },
  {
   "cell_type": "markdown",
   "metadata": {},
   "source": [
    "This creates a TimedeltaIndex representing 1 to 5 days. We can use this to create a Series:\n"
   ]
  },
  {
   "cell_type": "code",
   "execution_count": 26,
   "metadata": {},
   "outputs": [
    {
     "data": {
      "text/plain": [
       "1 days    0\n",
       "2 days    1\n",
       "3 days    2\n",
       "4 days    3\n",
       "5 days    4\n",
       "Freq: D, dtype: int64"
      ]
     },
     "execution_count": 26,
     "metadata": {},
     "output_type": "execute_result"
    }
   ],
   "source": [
    "# Creating a Series with TimedeltaIndex\n",
    "s_td = pd.Series(range(5), index=tdi)\n",
    "s_td"
   ]
  },
  {
   "cell_type": "markdown",
   "metadata": {},
   "source": [
    "Now we have a Series indexed by time durations. We can select data based on these durations:\n"
   ]
  },
  {
   "cell_type": "code",
   "execution_count": 27,
   "metadata": {},
   "outputs": [
    {
     "data": {
      "text/plain": [
       "2 days    1\n",
       "3 days    2\n",
       "4 days    3\n",
       "Freq: D, dtype: int64"
      ]
     },
     "execution_count": 27,
     "metadata": {},
     "output_type": "execute_result"
    }
   ],
   "source": [
    "# Selecting data using TimedeltaIndex\n",
    "s_td['2 days':'4 days']"
   ]
  },
  {
   "cell_type": "markdown",
   "metadata": {},
   "source": [
    "This selects all data points with durations between 2 and 4 days.\n"
   ]
  },
  {
   "cell_type": "markdown",
   "metadata": {},
   "source": [
    "Timedelta and TimedeltaIndex are particularly useful in scenarios where you're interested in time differences rather than absolute dates. For example, in financial applications for calculating time to maturity, or in project management for tracking task durations.\n"
   ]
  },
  {
   "cell_type": "markdown",
   "metadata": {},
   "source": [
    "Here's a practical example combining these concepts:\n"
   ]
  },
  {
   "cell_type": "code",
   "execution_count": 28,
   "metadata": {},
   "outputs": [
    {
     "data": {
      "text/html": [
       "<div>\n",
       "<style scoped>\n",
       "    .dataframe tbody tr th:only-of-type {\n",
       "        vertical-align: middle;\n",
       "    }\n",
       "\n",
       "    .dataframe tbody tr th {\n",
       "        vertical-align: top;\n",
       "    }\n",
       "\n",
       "    .dataframe thead th {\n",
       "        text-align: right;\n",
       "    }\n",
       "</style>\n",
       "<table border=\"1\" class=\"dataframe\">\n",
       "  <thead>\n",
       "    <tr style=\"text-align: right;\">\n",
       "      <th></th>\n",
       "      <th>Date</th>\n",
       "      <th>Value</th>\n",
       "      <th>TimeSinceStart</th>\n",
       "    </tr>\n",
       "  </thead>\n",
       "  <tbody>\n",
       "    <tr>\n",
       "      <th>0</th>\n",
       "      <td>2023-01-01</td>\n",
       "      <td>0</td>\n",
       "      <td>0 days</td>\n",
       "    </tr>\n",
       "    <tr>\n",
       "      <th>1</th>\n",
       "      <td>2023-01-02</td>\n",
       "      <td>1</td>\n",
       "      <td>1 days</td>\n",
       "    </tr>\n",
       "    <tr>\n",
       "      <th>2</th>\n",
       "      <td>2023-01-03</td>\n",
       "      <td>2</td>\n",
       "      <td>2 days</td>\n",
       "    </tr>\n",
       "    <tr>\n",
       "      <th>3</th>\n",
       "      <td>2023-01-04</td>\n",
       "      <td>3</td>\n",
       "      <td>3 days</td>\n",
       "    </tr>\n",
       "    <tr>\n",
       "      <th>4</th>\n",
       "      <td>2023-01-05</td>\n",
       "      <td>4</td>\n",
       "      <td>4 days</td>\n",
       "    </tr>\n",
       "  </tbody>\n",
       "</table>\n",
       "</div>"
      ],
      "text/plain": [
       "        Date  Value TimeSinceStart\n",
       "0 2023-01-01      0         0 days\n",
       "1 2023-01-02      1         1 days\n",
       "2 2023-01-03      2         2 days\n",
       "3 2023-01-04      3         3 days\n",
       "4 2023-01-05      4         4 days"
      ]
     },
     "execution_count": 28,
     "metadata": {},
     "output_type": "execute_result"
    }
   ],
   "source": [
    "# Example: Calculating time differences\n",
    "dates = pd.date_range(start='2023-01-01', periods=5, freq='D')\n",
    "df = pd.DataFrame({'Date': dates, 'Value': range(5)})\n",
    "df['TimeSinceStart'] = df['Date'] - df['Date'].min()\n",
    "df"
   ]
  },
  {
   "cell_type": "markdown",
   "metadata": {},
   "source": [
    "In this example, we create a DataFrame with a date column and a value column. We then calculate a new column 'TimeSinceStart' which shows the duration since the start date for each row. This demonstrates how Timedelta can be used to compute time differences within a dataset.\n"
   ]
  },
  {
   "cell_type": "markdown",
   "metadata": {},
   "source": [
    "These datetime data types form the foundation for working with time series data in Pandas. They allow for intuitive representation of dates, times, and time periods, and enable powerful time-based operations and analyses. As you work more with time series data, you'll find these types invaluable for various data manipulation and analysis tasks."
   ]
  },
  {
   "cell_type": "markdown",
   "metadata": {},
   "source": [
    "## <a id='toc2_'></a>[Creating Datetime Objects](#toc0_)"
   ]
  },
  {
   "cell_type": "markdown",
   "metadata": {},
   "source": [
    "Pandas provides several methods for creating datetime objects, which are essential for working with time series data. Let's explore the main approaches: using `to_datetime()`, `date_range()`, and specifying frequencies.\n"
   ]
  },
  {
   "cell_type": "markdown",
   "metadata": {},
   "source": [
    "### <a id='toc2_1_'></a>[Using `to_datetime()`](#toc0_)\n"
   ]
  },
  {
   "cell_type": "markdown",
   "metadata": {},
   "source": [
    "The `to_datetime()` function is a versatile tool for converting various input formats into Pandas datetime objects. It can handle strings, numbers, and even mixed-type data.\n"
   ]
  },
  {
   "cell_type": "markdown",
   "metadata": {},
   "source": [
    "Let's start with a simple example:\n"
   ]
  },
  {
   "cell_type": "code",
   "execution_count": 29,
   "metadata": {},
   "outputs": [
    {
     "data": {
      "text/plain": [
       "Timestamp('2023-06-15 00:00:00')"
      ]
     },
     "execution_count": 29,
     "metadata": {},
     "output_type": "execute_result"
    }
   ],
   "source": [
    "# Converting a string to datetime\n",
    "date_str = '2023-06-15'\n",
    "pd.to_datetime(date_str)"
   ]
  },
  {
   "cell_type": "markdown",
   "metadata": {},
   "source": [
    "This converts the string '2023-06-15' into a Timestamp object. But `to_datetime()` is much more flexible:\n"
   ]
  },
  {
   "cell_type": "code",
   "execution_count": 30,
   "metadata": {},
   "outputs": [
    {
     "data": {
      "text/plain": [
       "DatetimeIndex(['2023-06-15', '2023-06-16', '2023-06-17'], dtype='datetime64[ns]', freq=None)"
      ]
     },
     "execution_count": 30,
     "metadata": {},
     "output_type": "execute_result"
    }
   ],
   "source": [
    "# Converting multiple strings with different formats\n",
    "date_strings = ['2023-06-15', '20230616', '06/17/2023']\n",
    "pd.to_datetime(date_strings, format=\"mixed\")"
   ]
  },
  {
   "cell_type": "markdown",
   "metadata": {},
   "source": [
    "Here, `to_datetime()` automatically detects and parses different date formats. This is particularly useful when dealing with inconsistent date representations in your data.\n"
   ]
  },
  {
   "cell_type": "markdown",
   "metadata": {},
   "source": [
    "You can also specify the format explicitly for more control:\n"
   ]
  },
  {
   "cell_type": "code",
   "execution_count": 31,
   "metadata": {},
   "outputs": [
    {
     "data": {
      "text/plain": [
       "Timestamp('2023-06-15 00:00:00')"
      ]
     },
     "execution_count": 31,
     "metadata": {},
     "output_type": "execute_result"
    }
   ],
   "source": [
    "# Specifying a custom format\n",
    "custom_date = '15-Jun-2023'\n",
    "pd.to_datetime(custom_date, format='%d-%b-%Y')"
   ]
  },
  {
   "cell_type": "markdown",
   "metadata": {},
   "source": [
    "The `format` parameter uses strftime-style formatting codes to specify the input format.\n"
   ]
  },
  {
   "cell_type": "markdown",
   "metadata": {},
   "source": [
    "`to_datetime()` can also handle timestamps and epoch times:\n"
   ]
  },
  {
   "cell_type": "code",
   "execution_count": 32,
   "metadata": {},
   "outputs": [
    {
     "data": {
      "text/plain": [
       "Timestamp('2021-06-15 14:20:00')"
      ]
     },
     "execution_count": 32,
     "metadata": {},
     "output_type": "execute_result"
    }
   ],
   "source": [
    "# Converting Unix timestamp\n",
    "pd.to_datetime(1623766800, unit='s')"
   ]
  },
  {
   "cell_type": "markdown",
   "metadata": {},
   "source": [
    "This converts a Unix timestamp (seconds since January 1, 1970) to a Pandas Timestamp.\n"
   ]
  },
  {
   "cell_type": "markdown",
   "metadata": {},
   "source": [
    "### <a id='toc2_2_'></a>[Using `date_range()`](#toc0_)\n"
   ]
  },
  {
   "cell_type": "markdown",
   "metadata": {},
   "source": [
    "While `to_datetime()` is great for converting existing data, `date_range()` is used to generate sequences of dates or timestamps. This is particularly useful for creating DatetimeIndex objects or generating date-based data.\n"
   ]
  },
  {
   "cell_type": "markdown",
   "metadata": {},
   "source": [
    "Let's start with a basic example:\n"
   ]
  },
  {
   "cell_type": "code",
   "execution_count": 33,
   "metadata": {},
   "outputs": [
    {
     "data": {
      "text/plain": [
       "DatetimeIndex(['2023-01-01', '2023-01-02', '2023-01-03', '2023-01-04',\n",
       "               '2023-01-05', '2023-01-06', '2023-01-07', '2023-01-08',\n",
       "               '2023-01-09', '2023-01-10', '2023-01-11', '2023-01-12',\n",
       "               '2023-01-13', '2023-01-14', '2023-01-15', '2023-01-16',\n",
       "               '2023-01-17', '2023-01-18', '2023-01-19', '2023-01-20',\n",
       "               '2023-01-21', '2023-01-22', '2023-01-23', '2023-01-24',\n",
       "               '2023-01-25', '2023-01-26', '2023-01-27', '2023-01-28',\n",
       "               '2023-01-29', '2023-01-30', '2023-01-31'],\n",
       "              dtype='datetime64[ns]', freq='D')"
      ]
     },
     "execution_count": 33,
     "metadata": {},
     "output_type": "execute_result"
    }
   ],
   "source": [
    "# Creating a date range for a month\n",
    "pd.date_range(start='2023-01-01', end='2023-01-31')"
   ]
  },
  {
   "cell_type": "markdown",
   "metadata": {},
   "source": [
    "This creates a DatetimeIndex with daily dates for January 2023. By default, `date_range()` uses a daily frequency.\n"
   ]
  },
  {
   "cell_type": "markdown",
   "metadata": {},
   "source": [
    "You can also specify the number of periods instead of an end date:\n"
   ]
  },
  {
   "cell_type": "code",
   "execution_count": 34,
   "metadata": {},
   "outputs": [
    {
     "data": {
      "text/plain": [
       "DatetimeIndex(['2023-01-01', '2023-01-02', '2023-01-03', '2023-01-04',\n",
       "               '2023-01-05', '2023-01-06', '2023-01-07', '2023-01-08',\n",
       "               '2023-01-09', '2023-01-10'],\n",
       "              dtype='datetime64[ns]', freq='D')"
      ]
     },
     "execution_count": 34,
     "metadata": {},
     "output_type": "execute_result"
    }
   ],
   "source": [
    "# Creating a date range with a specific number of periods\n",
    "pd.date_range(start='2023-01-01', periods=10)"
   ]
  },
  {
   "cell_type": "markdown",
   "metadata": {},
   "source": [
    "This creates 10 daily timestamps starting from January 1, 2023.\n"
   ]
  },
  {
   "cell_type": "markdown",
   "metadata": {},
   "source": [
    "### <a id='toc2_3_'></a>[Specifying frequency](#toc0_)\n"
   ]
  },
  {
   "cell_type": "markdown",
   "metadata": {},
   "source": [
    "Both `date_range()` and `to_datetime()` allow you to specify the frequency of the timestamps. Pandas uses frequency aliases to represent different time intervals.\n"
   ]
  },
  {
   "cell_type": "markdown",
   "metadata": {},
   "source": [
    "Let's look at some examples with `date_range()`:\n"
   ]
  },
  {
   "cell_type": "code",
   "execution_count": 35,
   "metadata": {},
   "outputs": [
    {
     "data": {
      "text/plain": [
       "DatetimeIndex(['2023-01-02', '2023-01-03', '2023-01-04', '2023-01-05',\n",
       "               '2023-01-06'],\n",
       "              dtype='datetime64[ns]', freq='B')"
      ]
     },
     "execution_count": 35,
     "metadata": {},
     "output_type": "execute_result"
    }
   ],
   "source": [
    "# Creating a range of business days\n",
    "pd.date_range(start='2023-01-01', periods=5, freq='B')"
   ]
  },
  {
   "cell_type": "markdown",
   "metadata": {},
   "source": [
    "This creates a range of 5 business days, skipping weekends.\n"
   ]
  },
  {
   "cell_type": "code",
   "execution_count": 36,
   "metadata": {},
   "outputs": [
    {
     "data": {
      "text/plain": [
       "DatetimeIndex(['2023-01-01 00:00:00', '2023-01-01 01:00:00',\n",
       "               '2023-01-01 02:00:00', '2023-01-01 03:00:00',\n",
       "               '2023-01-01 04:00:00', '2023-01-01 05:00:00',\n",
       "               '2023-01-01 06:00:00', '2023-01-01 07:00:00',\n",
       "               '2023-01-01 08:00:00', '2023-01-01 09:00:00',\n",
       "               '2023-01-01 10:00:00', '2023-01-01 11:00:00',\n",
       "               '2023-01-01 12:00:00', '2023-01-01 13:00:00',\n",
       "               '2023-01-01 14:00:00', '2023-01-01 15:00:00',\n",
       "               '2023-01-01 16:00:00', '2023-01-01 17:00:00',\n",
       "               '2023-01-01 18:00:00', '2023-01-01 19:00:00',\n",
       "               '2023-01-01 20:00:00', '2023-01-01 21:00:00',\n",
       "               '2023-01-01 22:00:00', '2023-01-01 23:00:00'],\n",
       "              dtype='datetime64[ns]', freq='h')"
      ]
     },
     "execution_count": 36,
     "metadata": {},
     "output_type": "execute_result"
    }
   ],
   "source": [
    "# Creating a range of hourly timestamps\n",
    "pd.date_range(start='2023-01-01', periods=24, freq='h')"
   ]
  },
  {
   "cell_type": "markdown",
   "metadata": {},
   "source": [
    "This creates 24 hourly timestamps starting from January 1, 2023.\n"
   ]
  },
  {
   "cell_type": "markdown",
   "metadata": {},
   "source": [
    "You can also use more complex frequencies:\n"
   ]
  },
  {
   "cell_type": "code",
   "execution_count": 37,
   "metadata": {},
   "outputs": [
    {
     "data": {
      "text/plain": [
       "DatetimeIndex(['2023-01-02', '2023-01-16', '2023-01-30', '2023-02-13',\n",
       "               '2023-02-27'],\n",
       "              dtype='datetime64[ns]', freq='2W-MON')"
      ]
     },
     "execution_count": 37,
     "metadata": {},
     "output_type": "execute_result"
    }
   ],
   "source": [
    "# Every 2 weeks on Monday\n",
    "pd.date_range(start='2023-01-01', periods=5, freq='2W-MON')"
   ]
  },
  {
   "cell_type": "markdown",
   "metadata": {},
   "source": [
    "This creates a range of 5 dates, each 2 weeks apart, always landing on a Monday.\n"
   ]
  },
  {
   "cell_type": "markdown",
   "metadata": {},
   "source": [
    "Here are some common frequency aliases:\n",
    "- 'D': Calendar day\n",
    "- 'B': Business day\n",
    "- 'W': Weekly\n",
    "- 'ME': Month end\n",
    "- 'QE': Quarter end\n",
    "- 'YE': Year end\n",
    "- 'h': Hourly\n",
    "- 't': Minutely\n",
    "- 's': Secondly\n"
   ]
  },
  {
   "cell_type": "markdown",
   "metadata": {},
   "source": [
    "Understanding how to create datetime objects efficiently is crucial for working with time series data in Pandas. These methods provide flexibility in handling various input formats and generating date sequences, enabling you to prepare your time-based data for further analysis and manipulation."
   ]
  },
  {
   "cell_type": "markdown",
   "metadata": {},
   "source": [
    "## <a id='toc3_'></a>[Date and Time Components](#toc0_)"
   ]
  },
  {
   "cell_type": "markdown",
   "metadata": {},
   "source": [
    "When working with datetime data in Pandas, it's often necessary to access or extract specific components of dates and times. Pandas provides convenient methods to access these components and create new columns based on them.\n"
   ]
  },
  {
   "cell_type": "markdown",
   "metadata": {},
   "source": [
    "### <a id='toc3_1_'></a>[Accessing Components (year, month, day, etc.)](#toc0_)\n"
   ]
  },
  {
   "cell_type": "markdown",
   "metadata": {},
   "source": [
    "Pandas datetime objects (whether in a Series or DatetimeIndex) have attributes for accessing various date and time components. Let's explore these using a sample DataFrame:\n"
   ]
  },
  {
   "cell_type": "code",
   "execution_count": 38,
   "metadata": {},
   "outputs": [
    {
     "data": {
      "text/html": [
       "<div>\n",
       "<style scoped>\n",
       "    .dataframe tbody tr th:only-of-type {\n",
       "        vertical-align: middle;\n",
       "    }\n",
       "\n",
       "    .dataframe tbody tr th {\n",
       "        vertical-align: top;\n",
       "    }\n",
       "\n",
       "    .dataframe thead th {\n",
       "        text-align: right;\n",
       "    }\n",
       "</style>\n",
       "<table border=\"1\" class=\"dataframe\">\n",
       "  <thead>\n",
       "    <tr style=\"text-align: right;\">\n",
       "      <th></th>\n",
       "      <th>date</th>\n",
       "      <th>value</th>\n",
       "    </tr>\n",
       "  </thead>\n",
       "  <tbody>\n",
       "    <tr>\n",
       "      <th>0</th>\n",
       "      <td>2023-01-01</td>\n",
       "      <td>0.192302</td>\n",
       "    </tr>\n",
       "    <tr>\n",
       "      <th>1</th>\n",
       "      <td>2023-01-02</td>\n",
       "      <td>0.684846</td>\n",
       "    </tr>\n",
       "    <tr>\n",
       "      <th>2</th>\n",
       "      <td>2023-01-03</td>\n",
       "      <td>0.371756</td>\n",
       "    </tr>\n",
       "    <tr>\n",
       "      <th>3</th>\n",
       "      <td>2023-01-04</td>\n",
       "      <td>0.200897</td>\n",
       "    </tr>\n",
       "    <tr>\n",
       "      <th>4</th>\n",
       "      <td>2023-01-05</td>\n",
       "      <td>0.512510</td>\n",
       "    </tr>\n",
       "    <tr>\n",
       "      <th>5</th>\n",
       "      <td>2023-01-06</td>\n",
       "      <td>0.098722</td>\n",
       "    </tr>\n",
       "    <tr>\n",
       "      <th>6</th>\n",
       "      <td>2023-01-07</td>\n",
       "      <td>0.143695</td>\n",
       "    </tr>\n",
       "    <tr>\n",
       "      <th>7</th>\n",
       "      <td>2023-01-08</td>\n",
       "      <td>0.940325</td>\n",
       "    </tr>\n",
       "    <tr>\n",
       "      <th>8</th>\n",
       "      <td>2023-01-09</td>\n",
       "      <td>0.398690</td>\n",
       "    </tr>\n",
       "    <tr>\n",
       "      <th>9</th>\n",
       "      <td>2023-01-10</td>\n",
       "      <td>0.951168</td>\n",
       "    </tr>\n",
       "  </tbody>\n",
       "</table>\n",
       "</div>"
      ],
      "text/plain": [
       "        date     value\n",
       "0 2023-01-01  0.192302\n",
       "1 2023-01-02  0.684846\n",
       "2 2023-01-03  0.371756\n",
       "3 2023-01-04  0.200897\n",
       "4 2023-01-05  0.512510\n",
       "5 2023-01-06  0.098722\n",
       "6 2023-01-07  0.143695\n",
       "7 2023-01-08  0.940325\n",
       "8 2023-01-09  0.398690\n",
       "9 2023-01-10  0.951168"
      ]
     },
     "execution_count": 38,
     "metadata": {},
     "output_type": "execute_result"
    }
   ],
   "source": [
    "# Create a sample DataFrame with a date range\n",
    "dates = pd.date_range(start='2023-01-01', periods=10, freq='D')\n",
    "df = pd.DataFrame({'date': dates, 'value': np.random.rand(10)})\n",
    "df"
   ]
  },
  {
   "cell_type": "markdown",
   "metadata": {},
   "source": [
    "This creates a DataFrame with a 'date' column containing 10 consecutive days starting from January 1, 2023, and a 'value' column with random numbers.\n"
   ]
  },
  {
   "cell_type": "markdown",
   "metadata": {},
   "source": [
    "Now, let's access various components of the 'date' column:\n"
   ]
  },
  {
   "cell_type": "code",
   "execution_count": 39,
   "metadata": {},
   "outputs": [
    {
     "data": {
      "text/plain": [
       "0    2023\n",
       "1    2023\n",
       "2    2023\n",
       "3    2023\n",
       "4    2023\n",
       "5    2023\n",
       "6    2023\n",
       "7    2023\n",
       "8    2023\n",
       "9    2023\n",
       "Name: date, dtype: int32"
      ]
     },
     "execution_count": 39,
     "metadata": {},
     "output_type": "execute_result"
    }
   ],
   "source": [
    "# Accessing year\n",
    "df['date'].dt.year"
   ]
  },
  {
   "cell_type": "code",
   "execution_count": 40,
   "metadata": {},
   "outputs": [
    {
     "data": {
      "text/plain": [
       "0    1\n",
       "1    1\n",
       "2    1\n",
       "3    1\n",
       "4    1\n",
       "5    1\n",
       "6    1\n",
       "7    1\n",
       "8    1\n",
       "9    1\n",
       "Name: date, dtype: int32"
      ]
     },
     "execution_count": 40,
     "metadata": {},
     "output_type": "execute_result"
    }
   ],
   "source": [
    "# Accessing month\n",
    "df['date'].dt.month"
   ]
  },
  {
   "cell_type": "code",
   "execution_count": 41,
   "metadata": {},
   "outputs": [
    {
     "data": {
      "text/plain": [
       "0     1\n",
       "1     2\n",
       "2     3\n",
       "3     4\n",
       "4     5\n",
       "5     6\n",
       "6     7\n",
       "7     8\n",
       "8     9\n",
       "9    10\n",
       "Name: date, dtype: int32"
      ]
     },
     "execution_count": 41,
     "metadata": {},
     "output_type": "execute_result"
    }
   ],
   "source": [
    "# Accessing day\n",
    "df['date'].dt.day"
   ]
  },
  {
   "cell_type": "code",
   "execution_count": 42,
   "metadata": {},
   "outputs": [
    {
     "data": {
      "text/plain": [
       "0       Sunday\n",
       "1       Monday\n",
       "2      Tuesday\n",
       "3    Wednesday\n",
       "4     Thursday\n",
       "5       Friday\n",
       "6     Saturday\n",
       "7       Sunday\n",
       "8       Monday\n",
       "9      Tuesday\n",
       "Name: date, dtype: object"
      ]
     },
     "execution_count": 42,
     "metadata": {},
     "output_type": "execute_result"
    }
   ],
   "source": [
    "# Accessing day name\n",
    "df['date'].dt.day_name()"
   ]
  },
  {
   "cell_type": "code",
   "execution_count": 43,
   "metadata": {},
   "outputs": [
    {
     "data": {
      "text/plain": [
       "0    6\n",
       "1    0\n",
       "2    1\n",
       "3    2\n",
       "4    3\n",
       "5    4\n",
       "6    5\n",
       "7    6\n",
       "8    0\n",
       "9    1\n",
       "Name: date, dtype: int32"
      ]
     },
     "execution_count": 43,
     "metadata": {},
     "output_type": "execute_result"
    }
   ],
   "source": [
    "# Accessing day of week (0 is Monday, 6 is Sunday)\n",
    "df['date'].dt.dayofweek"
   ]
  },
  {
   "cell_type": "code",
   "execution_count": 44,
   "metadata": {},
   "outputs": [
    {
     "data": {
      "text/plain": [
       "0    1\n",
       "1    1\n",
       "2    1\n",
       "3    1\n",
       "4    1\n",
       "5    1\n",
       "6    1\n",
       "7    1\n",
       "8    1\n",
       "9    1\n",
       "Name: date, dtype: int32"
      ]
     },
     "execution_count": 44,
     "metadata": {},
     "output_type": "execute_result"
    }
   ],
   "source": [
    "# Accessing quarter\n",
    "df['date'].dt.quarter"
   ]
  },
  {
   "cell_type": "markdown",
   "metadata": {},
   "source": [
    "Each of these operations returns a Series with the respective component for each date in the 'date' column. The `.dt` accessor is used to access datetime-specific methods and attributes.\n"
   ]
  },
  {
   "cell_type": "markdown",
   "metadata": {},
   "source": [
    "For time components, let's create a new DataFrame with a datetime column including time:\n"
   ]
  },
  {
   "cell_type": "code",
   "execution_count": 45,
   "metadata": {},
   "outputs": [
    {
     "data": {
      "text/html": [
       "<div>\n",
       "<style scoped>\n",
       "    .dataframe tbody tr th:only-of-type {\n",
       "        vertical-align: middle;\n",
       "    }\n",
       "\n",
       "    .dataframe tbody tr th {\n",
       "        vertical-align: top;\n",
       "    }\n",
       "\n",
       "    .dataframe thead th {\n",
       "        text-align: right;\n",
       "    }\n",
       "</style>\n",
       "<table border=\"1\" class=\"dataframe\">\n",
       "  <thead>\n",
       "    <tr style=\"text-align: right;\">\n",
       "      <th></th>\n",
       "      <th>datetime</th>\n",
       "      <th>value</th>\n",
       "    </tr>\n",
       "  </thead>\n",
       "  <tbody>\n",
       "    <tr>\n",
       "      <th>0</th>\n",
       "      <td>2023-01-01 00:00:00</td>\n",
       "      <td>0.162446</td>\n",
       "    </tr>\n",
       "    <tr>\n",
       "      <th>1</th>\n",
       "      <td>2023-01-01 01:00:00</td>\n",
       "      <td>0.243746</td>\n",
       "    </tr>\n",
       "    <tr>\n",
       "      <th>2</th>\n",
       "      <td>2023-01-01 02:00:00</td>\n",
       "      <td>0.890413</td>\n",
       "    </tr>\n",
       "    <tr>\n",
       "      <th>3</th>\n",
       "      <td>2023-01-01 03:00:00</td>\n",
       "      <td>0.149612</td>\n",
       "    </tr>\n",
       "    <tr>\n",
       "      <th>4</th>\n",
       "      <td>2023-01-01 04:00:00</td>\n",
       "      <td>0.430437</td>\n",
       "    </tr>\n",
       "    <tr>\n",
       "      <th>5</th>\n",
       "      <td>2023-01-01 05:00:00</td>\n",
       "      <td>0.370105</td>\n",
       "    </tr>\n",
       "    <tr>\n",
       "      <th>6</th>\n",
       "      <td>2023-01-01 06:00:00</td>\n",
       "      <td>0.436552</td>\n",
       "    </tr>\n",
       "    <tr>\n",
       "      <th>7</th>\n",
       "      <td>2023-01-01 07:00:00</td>\n",
       "      <td>0.441679</td>\n",
       "    </tr>\n",
       "    <tr>\n",
       "      <th>8</th>\n",
       "      <td>2023-01-01 08:00:00</td>\n",
       "      <td>0.841236</td>\n",
       "    </tr>\n",
       "    <tr>\n",
       "      <th>9</th>\n",
       "      <td>2023-01-01 09:00:00</td>\n",
       "      <td>0.037252</td>\n",
       "    </tr>\n",
       "  </tbody>\n",
       "</table>\n",
       "</div>"
      ],
      "text/plain": [
       "             datetime     value\n",
       "0 2023-01-01 00:00:00  0.162446\n",
       "1 2023-01-01 01:00:00  0.243746\n",
       "2 2023-01-01 02:00:00  0.890413\n",
       "3 2023-01-01 03:00:00  0.149612\n",
       "4 2023-01-01 04:00:00  0.430437\n",
       "5 2023-01-01 05:00:00  0.370105\n",
       "6 2023-01-01 06:00:00  0.436552\n",
       "7 2023-01-01 07:00:00  0.441679\n",
       "8 2023-01-01 08:00:00  0.841236\n",
       "9 2023-01-01 09:00:00  0.037252"
      ]
     },
     "execution_count": 45,
     "metadata": {},
     "output_type": "execute_result"
    }
   ],
   "source": [
    "# Create a DataFrame with datetime including time\n",
    "datetimes = pd.date_range(start='2023-01-01 00:00:00', periods=10, freq='h')\n",
    "df_time = pd.DataFrame({'datetime': datetimes, 'value': np.random.rand(10)})\n",
    "df_time"
   ]
  },
  {
   "cell_type": "markdown",
   "metadata": {},
   "source": [
    "Now we can access time components:\n"
   ]
  },
  {
   "cell_type": "code",
   "execution_count": 46,
   "metadata": {},
   "outputs": [
    {
     "data": {
      "text/plain": [
       "0    0\n",
       "1    1\n",
       "2    2\n",
       "3    3\n",
       "4    4\n",
       "5    5\n",
       "6    6\n",
       "7    7\n",
       "8    8\n",
       "9    9\n",
       "Name: datetime, dtype: int32"
      ]
     },
     "execution_count": 46,
     "metadata": {},
     "output_type": "execute_result"
    }
   ],
   "source": [
    "# Accessing hour\n",
    "df_time['datetime'].dt.hour"
   ]
  },
  {
   "cell_type": "code",
   "execution_count": 47,
   "metadata": {},
   "outputs": [
    {
     "data": {
      "text/plain": [
       "0    0\n",
       "1    0\n",
       "2    0\n",
       "3    0\n",
       "4    0\n",
       "5    0\n",
       "6    0\n",
       "7    0\n",
       "8    0\n",
       "9    0\n",
       "Name: datetime, dtype: int32"
      ]
     },
     "execution_count": 47,
     "metadata": {},
     "output_type": "execute_result"
    }
   ],
   "source": [
    "# Accessing minute\n",
    "df_time['datetime'].dt.minute"
   ]
  },
  {
   "cell_type": "code",
   "execution_count": 48,
   "metadata": {},
   "outputs": [
    {
     "data": {
      "text/plain": [
       "0    0\n",
       "1    0\n",
       "2    0\n",
       "3    0\n",
       "4    0\n",
       "5    0\n",
       "6    0\n",
       "7    0\n",
       "8    0\n",
       "9    0\n",
       "Name: datetime, dtype: int32"
      ]
     },
     "execution_count": 48,
     "metadata": {},
     "output_type": "execute_result"
    }
   ],
   "source": [
    "# Accessing second\n",
    "df_time['datetime'].dt.second"
   ]
  },
  {
   "cell_type": "markdown",
   "metadata": {},
   "source": [
    "These attributes make it easy to extract specific parts of datetime objects for analysis or filtering.\n"
   ]
  },
  {
   "cell_type": "markdown",
   "metadata": {},
   "source": [
    "### <a id='toc3_2_'></a>[Extracting Components to New Columns](#toc0_)\n"
   ]
  },
  {
   "cell_type": "markdown",
   "metadata": {},
   "source": [
    "Often, you'll want to create new columns in your DataFrame based on these datetime components. This is useful for grouping, filtering, or analyzing data based on specific time periods.\n"
   ]
  },
  {
   "cell_type": "markdown",
   "metadata": {},
   "source": [
    "Let's extend our original DataFrame with new columns for various date components:\n"
   ]
  },
  {
   "cell_type": "code",
   "execution_count": 49,
   "metadata": {},
   "outputs": [
    {
     "data": {
      "text/html": [
       "<div>\n",
       "<style scoped>\n",
       "    .dataframe tbody tr th:only-of-type {\n",
       "        vertical-align: middle;\n",
       "    }\n",
       "\n",
       "    .dataframe tbody tr th {\n",
       "        vertical-align: top;\n",
       "    }\n",
       "\n",
       "    .dataframe thead th {\n",
       "        text-align: right;\n",
       "    }\n",
       "</style>\n",
       "<table border=\"1\" class=\"dataframe\">\n",
       "  <thead>\n",
       "    <tr style=\"text-align: right;\">\n",
       "      <th></th>\n",
       "      <th>date</th>\n",
       "      <th>value</th>\n",
       "      <th>year</th>\n",
       "      <th>month</th>\n",
       "      <th>day</th>\n",
       "      <th>day_name</th>\n",
       "      <th>day_of_week</th>\n",
       "      <th>quarter</th>\n",
       "    </tr>\n",
       "  </thead>\n",
       "  <tbody>\n",
       "    <tr>\n",
       "      <th>0</th>\n",
       "      <td>2023-01-01</td>\n",
       "      <td>0.192302</td>\n",
       "      <td>2023</td>\n",
       "      <td>1</td>\n",
       "      <td>1</td>\n",
       "      <td>Sunday</td>\n",
       "      <td>6</td>\n",
       "      <td>1</td>\n",
       "    </tr>\n",
       "    <tr>\n",
       "      <th>1</th>\n",
       "      <td>2023-01-02</td>\n",
       "      <td>0.684846</td>\n",
       "      <td>2023</td>\n",
       "      <td>1</td>\n",
       "      <td>2</td>\n",
       "      <td>Monday</td>\n",
       "      <td>0</td>\n",
       "      <td>1</td>\n",
       "    </tr>\n",
       "    <tr>\n",
       "      <th>2</th>\n",
       "      <td>2023-01-03</td>\n",
       "      <td>0.371756</td>\n",
       "      <td>2023</td>\n",
       "      <td>1</td>\n",
       "      <td>3</td>\n",
       "      <td>Tuesday</td>\n",
       "      <td>1</td>\n",
       "      <td>1</td>\n",
       "    </tr>\n",
       "    <tr>\n",
       "      <th>3</th>\n",
       "      <td>2023-01-04</td>\n",
       "      <td>0.200897</td>\n",
       "      <td>2023</td>\n",
       "      <td>1</td>\n",
       "      <td>4</td>\n",
       "      <td>Wednesday</td>\n",
       "      <td>2</td>\n",
       "      <td>1</td>\n",
       "    </tr>\n",
       "    <tr>\n",
       "      <th>4</th>\n",
       "      <td>2023-01-05</td>\n",
       "      <td>0.512510</td>\n",
       "      <td>2023</td>\n",
       "      <td>1</td>\n",
       "      <td>5</td>\n",
       "      <td>Thursday</td>\n",
       "      <td>3</td>\n",
       "      <td>1</td>\n",
       "    </tr>\n",
       "    <tr>\n",
       "      <th>5</th>\n",
       "      <td>2023-01-06</td>\n",
       "      <td>0.098722</td>\n",
       "      <td>2023</td>\n",
       "      <td>1</td>\n",
       "      <td>6</td>\n",
       "      <td>Friday</td>\n",
       "      <td>4</td>\n",
       "      <td>1</td>\n",
       "    </tr>\n",
       "    <tr>\n",
       "      <th>6</th>\n",
       "      <td>2023-01-07</td>\n",
       "      <td>0.143695</td>\n",
       "      <td>2023</td>\n",
       "      <td>1</td>\n",
       "      <td>7</td>\n",
       "      <td>Saturday</td>\n",
       "      <td>5</td>\n",
       "      <td>1</td>\n",
       "    </tr>\n",
       "    <tr>\n",
       "      <th>7</th>\n",
       "      <td>2023-01-08</td>\n",
       "      <td>0.940325</td>\n",
       "      <td>2023</td>\n",
       "      <td>1</td>\n",
       "      <td>8</td>\n",
       "      <td>Sunday</td>\n",
       "      <td>6</td>\n",
       "      <td>1</td>\n",
       "    </tr>\n",
       "    <tr>\n",
       "      <th>8</th>\n",
       "      <td>2023-01-09</td>\n",
       "      <td>0.398690</td>\n",
       "      <td>2023</td>\n",
       "      <td>1</td>\n",
       "      <td>9</td>\n",
       "      <td>Monday</td>\n",
       "      <td>0</td>\n",
       "      <td>1</td>\n",
       "    </tr>\n",
       "    <tr>\n",
       "      <th>9</th>\n",
       "      <td>2023-01-10</td>\n",
       "      <td>0.951168</td>\n",
       "      <td>2023</td>\n",
       "      <td>1</td>\n",
       "      <td>10</td>\n",
       "      <td>Tuesday</td>\n",
       "      <td>1</td>\n",
       "      <td>1</td>\n",
       "    </tr>\n",
       "  </tbody>\n",
       "</table>\n",
       "</div>"
      ],
      "text/plain": [
       "        date     value  year  month  day   day_name  day_of_week  quarter\n",
       "0 2023-01-01  0.192302  2023      1    1     Sunday            6        1\n",
       "1 2023-01-02  0.684846  2023      1    2     Monday            0        1\n",
       "2 2023-01-03  0.371756  2023      1    3    Tuesday            1        1\n",
       "3 2023-01-04  0.200897  2023      1    4  Wednesday            2        1\n",
       "4 2023-01-05  0.512510  2023      1    5   Thursday            3        1\n",
       "5 2023-01-06  0.098722  2023      1    6     Friday            4        1\n",
       "6 2023-01-07  0.143695  2023      1    7   Saturday            5        1\n",
       "7 2023-01-08  0.940325  2023      1    8     Sunday            6        1\n",
       "8 2023-01-09  0.398690  2023      1    9     Monday            0        1\n",
       "9 2023-01-10  0.951168  2023      1   10    Tuesday            1        1"
      ]
     },
     "execution_count": 49,
     "metadata": {},
     "output_type": "execute_result"
    }
   ],
   "source": [
    "# Adding year, month, and day columns\n",
    "df['year'] = df['date'].dt.year\n",
    "df['month'] = df['date'].dt.month\n",
    "df['day'] = df['date'].dt.day\n",
    "df['day_name'] = df['date'].dt.day_name()\n",
    "df['day_of_week'] = df['date'].dt.dayofweek\n",
    "df['quarter'] = df['date'].dt.quarter\n",
    "\n",
    "df"
   ]
  },
  {
   "cell_type": "markdown",
   "metadata": {},
   "source": [
    "Now our DataFrame has separate columns for year, month, day, day name, day of week, and quarter. This makes it easy to perform operations like grouping or filtering based on these components.\n"
   ]
  },
  {
   "cell_type": "markdown",
   "metadata": {},
   "source": [
    "For example, we can now easily filter for all rows in a specific month:\n"
   ]
  },
  {
   "cell_type": "code",
   "execution_count": 50,
   "metadata": {},
   "outputs": [
    {
     "data": {
      "text/html": [
       "<div>\n",
       "<style scoped>\n",
       "    .dataframe tbody tr th:only-of-type {\n",
       "        vertical-align: middle;\n",
       "    }\n",
       "\n",
       "    .dataframe tbody tr th {\n",
       "        vertical-align: top;\n",
       "    }\n",
       "\n",
       "    .dataframe thead th {\n",
       "        text-align: right;\n",
       "    }\n",
       "</style>\n",
       "<table border=\"1\" class=\"dataframe\">\n",
       "  <thead>\n",
       "    <tr style=\"text-align: right;\">\n",
       "      <th></th>\n",
       "      <th>date</th>\n",
       "      <th>value</th>\n",
       "      <th>year</th>\n",
       "      <th>month</th>\n",
       "      <th>day</th>\n",
       "      <th>day_name</th>\n",
       "      <th>day_of_week</th>\n",
       "      <th>quarter</th>\n",
       "    </tr>\n",
       "  </thead>\n",
       "  <tbody>\n",
       "    <tr>\n",
       "      <th>0</th>\n",
       "      <td>2023-01-01</td>\n",
       "      <td>0.192302</td>\n",
       "      <td>2023</td>\n",
       "      <td>1</td>\n",
       "      <td>1</td>\n",
       "      <td>Sunday</td>\n",
       "      <td>6</td>\n",
       "      <td>1</td>\n",
       "    </tr>\n",
       "    <tr>\n",
       "      <th>1</th>\n",
       "      <td>2023-01-02</td>\n",
       "      <td>0.684846</td>\n",
       "      <td>2023</td>\n",
       "      <td>1</td>\n",
       "      <td>2</td>\n",
       "      <td>Monday</td>\n",
       "      <td>0</td>\n",
       "      <td>1</td>\n",
       "    </tr>\n",
       "    <tr>\n",
       "      <th>2</th>\n",
       "      <td>2023-01-03</td>\n",
       "      <td>0.371756</td>\n",
       "      <td>2023</td>\n",
       "      <td>1</td>\n",
       "      <td>3</td>\n",
       "      <td>Tuesday</td>\n",
       "      <td>1</td>\n",
       "      <td>1</td>\n",
       "    </tr>\n",
       "    <tr>\n",
       "      <th>3</th>\n",
       "      <td>2023-01-04</td>\n",
       "      <td>0.200897</td>\n",
       "      <td>2023</td>\n",
       "      <td>1</td>\n",
       "      <td>4</td>\n",
       "      <td>Wednesday</td>\n",
       "      <td>2</td>\n",
       "      <td>1</td>\n",
       "    </tr>\n",
       "    <tr>\n",
       "      <th>4</th>\n",
       "      <td>2023-01-05</td>\n",
       "      <td>0.512510</td>\n",
       "      <td>2023</td>\n",
       "      <td>1</td>\n",
       "      <td>5</td>\n",
       "      <td>Thursday</td>\n",
       "      <td>3</td>\n",
       "      <td>1</td>\n",
       "    </tr>\n",
       "    <tr>\n",
       "      <th>5</th>\n",
       "      <td>2023-01-06</td>\n",
       "      <td>0.098722</td>\n",
       "      <td>2023</td>\n",
       "      <td>1</td>\n",
       "      <td>6</td>\n",
       "      <td>Friday</td>\n",
       "      <td>4</td>\n",
       "      <td>1</td>\n",
       "    </tr>\n",
       "    <tr>\n",
       "      <th>6</th>\n",
       "      <td>2023-01-07</td>\n",
       "      <td>0.143695</td>\n",
       "      <td>2023</td>\n",
       "      <td>1</td>\n",
       "      <td>7</td>\n",
       "      <td>Saturday</td>\n",
       "      <td>5</td>\n",
       "      <td>1</td>\n",
       "    </tr>\n",
       "    <tr>\n",
       "      <th>7</th>\n",
       "      <td>2023-01-08</td>\n",
       "      <td>0.940325</td>\n",
       "      <td>2023</td>\n",
       "      <td>1</td>\n",
       "      <td>8</td>\n",
       "      <td>Sunday</td>\n",
       "      <td>6</td>\n",
       "      <td>1</td>\n",
       "    </tr>\n",
       "    <tr>\n",
       "      <th>8</th>\n",
       "      <td>2023-01-09</td>\n",
       "      <td>0.398690</td>\n",
       "      <td>2023</td>\n",
       "      <td>1</td>\n",
       "      <td>9</td>\n",
       "      <td>Monday</td>\n",
       "      <td>0</td>\n",
       "      <td>1</td>\n",
       "    </tr>\n",
       "    <tr>\n",
       "      <th>9</th>\n",
       "      <td>2023-01-10</td>\n",
       "      <td>0.951168</td>\n",
       "      <td>2023</td>\n",
       "      <td>1</td>\n",
       "      <td>10</td>\n",
       "      <td>Tuesday</td>\n",
       "      <td>1</td>\n",
       "      <td>1</td>\n",
       "    </tr>\n",
       "  </tbody>\n",
       "</table>\n",
       "</div>"
      ],
      "text/plain": [
       "        date     value  year  month  day   day_name  day_of_week  quarter\n",
       "0 2023-01-01  0.192302  2023      1    1     Sunday            6        1\n",
       "1 2023-01-02  0.684846  2023      1    2     Monday            0        1\n",
       "2 2023-01-03  0.371756  2023      1    3    Tuesday            1        1\n",
       "3 2023-01-04  0.200897  2023      1    4  Wednesday            2        1\n",
       "4 2023-01-05  0.512510  2023      1    5   Thursday            3        1\n",
       "5 2023-01-06  0.098722  2023      1    6     Friday            4        1\n",
       "6 2023-01-07  0.143695  2023      1    7   Saturday            5        1\n",
       "7 2023-01-08  0.940325  2023      1    8     Sunday            6        1\n",
       "8 2023-01-09  0.398690  2023      1    9     Monday            0        1\n",
       "9 2023-01-10  0.951168  2023      1   10    Tuesday            1        1"
      ]
     },
     "execution_count": 50,
     "metadata": {},
     "output_type": "execute_result"
    }
   ],
   "source": [
    "# Filter for January data\n",
    "january_data = df[df['month'] == 1]\n",
    "january_data"
   ]
  },
  {
   "cell_type": "markdown",
   "metadata": {},
   "source": [
    "Or calculate the mean value for each day of the week:\n"
   ]
  },
  {
   "cell_type": "code",
   "execution_count": 51,
   "metadata": {},
   "outputs": [
    {
     "data": {
      "text/plain": [
       "day_name\n",
       "Tuesday      0.661462\n",
       "Sunday       0.566314\n",
       "Monday       0.541768\n",
       "Thursday     0.512510\n",
       "Wednesday    0.200897\n",
       "Saturday     0.143695\n",
       "Friday       0.098722\n",
       "Name: value, dtype: float64"
      ]
     },
     "execution_count": 51,
     "metadata": {},
     "output_type": "execute_result"
    }
   ],
   "source": [
    "# Calculate mean value by day of week\n",
    "df.groupby('day_name')['value'].mean().sort_values(ascending=False)"
   ]
  },
  {
   "cell_type": "markdown",
   "metadata": {},
   "source": [
    "For time-based components, let's add some columns to our df_time DataFrame:\n"
   ]
  },
  {
   "cell_type": "code",
   "execution_count": 52,
   "metadata": {},
   "outputs": [
    {
     "data": {
      "text/html": [
       "<div>\n",
       "<style scoped>\n",
       "    .dataframe tbody tr th:only-of-type {\n",
       "        vertical-align: middle;\n",
       "    }\n",
       "\n",
       "    .dataframe tbody tr th {\n",
       "        vertical-align: top;\n",
       "    }\n",
       "\n",
       "    .dataframe thead th {\n",
       "        text-align: right;\n",
       "    }\n",
       "</style>\n",
       "<table border=\"1\" class=\"dataframe\">\n",
       "  <thead>\n",
       "    <tr style=\"text-align: right;\">\n",
       "      <th></th>\n",
       "      <th>datetime</th>\n",
       "      <th>value</th>\n",
       "      <th>hour</th>\n",
       "      <th>minute</th>\n",
       "    </tr>\n",
       "  </thead>\n",
       "  <tbody>\n",
       "    <tr>\n",
       "      <th>0</th>\n",
       "      <td>2023-01-01 00:00:00</td>\n",
       "      <td>0.162446</td>\n",
       "      <td>0</td>\n",
       "      <td>0</td>\n",
       "    </tr>\n",
       "    <tr>\n",
       "      <th>1</th>\n",
       "      <td>2023-01-01 01:00:00</td>\n",
       "      <td>0.243746</td>\n",
       "      <td>1</td>\n",
       "      <td>0</td>\n",
       "    </tr>\n",
       "    <tr>\n",
       "      <th>2</th>\n",
       "      <td>2023-01-01 02:00:00</td>\n",
       "      <td>0.890413</td>\n",
       "      <td>2</td>\n",
       "      <td>0</td>\n",
       "    </tr>\n",
       "    <tr>\n",
       "      <th>3</th>\n",
       "      <td>2023-01-01 03:00:00</td>\n",
       "      <td>0.149612</td>\n",
       "      <td>3</td>\n",
       "      <td>0</td>\n",
       "    </tr>\n",
       "    <tr>\n",
       "      <th>4</th>\n",
       "      <td>2023-01-01 04:00:00</td>\n",
       "      <td>0.430437</td>\n",
       "      <td>4</td>\n",
       "      <td>0</td>\n",
       "    </tr>\n",
       "    <tr>\n",
       "      <th>5</th>\n",
       "      <td>2023-01-01 05:00:00</td>\n",
       "      <td>0.370105</td>\n",
       "      <td>5</td>\n",
       "      <td>0</td>\n",
       "    </tr>\n",
       "    <tr>\n",
       "      <th>6</th>\n",
       "      <td>2023-01-01 06:00:00</td>\n",
       "      <td>0.436552</td>\n",
       "      <td>6</td>\n",
       "      <td>0</td>\n",
       "    </tr>\n",
       "    <tr>\n",
       "      <th>7</th>\n",
       "      <td>2023-01-01 07:00:00</td>\n",
       "      <td>0.441679</td>\n",
       "      <td>7</td>\n",
       "      <td>0</td>\n",
       "    </tr>\n",
       "    <tr>\n",
       "      <th>8</th>\n",
       "      <td>2023-01-01 08:00:00</td>\n",
       "      <td>0.841236</td>\n",
       "      <td>8</td>\n",
       "      <td>0</td>\n",
       "    </tr>\n",
       "    <tr>\n",
       "      <th>9</th>\n",
       "      <td>2023-01-01 09:00:00</td>\n",
       "      <td>0.037252</td>\n",
       "      <td>9</td>\n",
       "      <td>0</td>\n",
       "    </tr>\n",
       "  </tbody>\n",
       "</table>\n",
       "</div>"
      ],
      "text/plain": [
       "             datetime     value  hour  minute\n",
       "0 2023-01-01 00:00:00  0.162446     0       0\n",
       "1 2023-01-01 01:00:00  0.243746     1       0\n",
       "2 2023-01-01 02:00:00  0.890413     2       0\n",
       "3 2023-01-01 03:00:00  0.149612     3       0\n",
       "4 2023-01-01 04:00:00  0.430437     4       0\n",
       "5 2023-01-01 05:00:00  0.370105     5       0\n",
       "6 2023-01-01 06:00:00  0.436552     6       0\n",
       "7 2023-01-01 07:00:00  0.441679     7       0\n",
       "8 2023-01-01 08:00:00  0.841236     8       0\n",
       "9 2023-01-01 09:00:00  0.037252     9       0"
      ]
     },
     "execution_count": 52,
     "metadata": {},
     "output_type": "execute_result"
    }
   ],
   "source": [
    "# Adding hour and minute columns\n",
    "df_time['hour'] = df_time['datetime'].dt.hour\n",
    "df_time['minute'] = df_time['datetime'].dt.minute\n",
    "\n",
    "df_time"
   ]
  },
  {
   "cell_type": "markdown",
   "metadata": {},
   "source": [
    "This allows for easy time-based analysis:\n"
   ]
  },
  {
   "cell_type": "code",
   "execution_count": 53,
   "metadata": {},
   "outputs": [
    {
     "data": {
      "text/plain": [
       "hour\n",
       "0    0.162446\n",
       "1    0.243746\n",
       "2    0.890413\n",
       "3    0.149612\n",
       "4    0.430437\n",
       "5    0.370105\n",
       "6    0.436552\n",
       "7    0.441679\n",
       "8    0.841236\n",
       "9    0.037252\n",
       "Name: value, dtype: float64"
      ]
     },
     "execution_count": 53,
     "metadata": {},
     "output_type": "execute_result"
    }
   ],
   "source": [
    "# Calculate mean value by hour\n",
    "df_time.groupby('hour')['value'].mean()"
   ]
  },
  {
   "cell_type": "markdown",
   "metadata": {},
   "source": [
    "Extracting date and time components to separate columns can significantly simplify many common data analysis tasks. It allows you to easily group, filter, and aggregate your data based on various time periods, which is crucial in many time series analysis scenarios.\n"
   ]
  },
  {
   "cell_type": "markdown",
   "metadata": {},
   "source": [
    "Remember that creating these additional columns increases memory usage, so it's a trade-off between convenience and efficiency. In some cases, it might be more efficient to use the dt accessor directly in your operations rather than creating new columns, especially for large datasets.\n"
   ]
  },
  {
   "cell_type": "markdown",
   "metadata": {},
   "source": [
    "By mastering these techniques for accessing and extracting date and time components, you'll be well-equipped to handle a wide range of time series analysis tasks in Pandas."
   ]
  },
  {
   "cell_type": "markdown",
   "metadata": {},
   "source": [
    "## <a id='toc4_'></a>[Datetime Indexing and Slicing](#toc0_)"
   ]
  },
  {
   "cell_type": "markdown",
   "metadata": {},
   "source": [
    "When working with time series data in Pandas, efficient indexing and slicing are crucial for data analysis and manipulation. Pandas provides powerful tools for selecting data based on dates and times, including partial string indexing and accessing specific date and time components.\n"
   ]
  },
  {
   "cell_type": "markdown",
   "metadata": {},
   "source": [
    "Let's start by creating a sample DataFrame with a DatetimeIndex:\n"
   ]
  },
  {
   "cell_type": "code",
   "execution_count": 54,
   "metadata": {},
   "outputs": [
    {
     "data": {
      "text/html": [
       "<div>\n",
       "<style scoped>\n",
       "    .dataframe tbody tr th:only-of-type {\n",
       "        vertical-align: middle;\n",
       "    }\n",
       "\n",
       "    .dataframe tbody tr th {\n",
       "        vertical-align: top;\n",
       "    }\n",
       "\n",
       "    .dataframe thead th {\n",
       "        text-align: right;\n",
       "    }\n",
       "</style>\n",
       "<table border=\"1\" class=\"dataframe\">\n",
       "  <thead>\n",
       "    <tr style=\"text-align: right;\">\n",
       "      <th></th>\n",
       "      <th>value</th>\n",
       "    </tr>\n",
       "  </thead>\n",
       "  <tbody>\n",
       "    <tr>\n",
       "      <th>2023-01-01</th>\n",
       "      <td>0.586287</td>\n",
       "    </tr>\n",
       "    <tr>\n",
       "      <th>2023-01-02</th>\n",
       "      <td>-2.077276</td>\n",
       "    </tr>\n",
       "    <tr>\n",
       "      <th>2023-01-03</th>\n",
       "      <td>-1.372788</td>\n",
       "    </tr>\n",
       "    <tr>\n",
       "      <th>2023-01-04</th>\n",
       "      <td>-1.080971</td>\n",
       "    </tr>\n",
       "    <tr>\n",
       "      <th>2023-01-05</th>\n",
       "      <td>0.534736</td>\n",
       "    </tr>\n",
       "    <tr>\n",
       "      <th>...</th>\n",
       "      <td>...</td>\n",
       "    </tr>\n",
       "    <tr>\n",
       "      <th>2023-12-27</th>\n",
       "      <td>0.876468</td>\n",
       "    </tr>\n",
       "    <tr>\n",
       "      <th>2023-12-28</th>\n",
       "      <td>0.887156</td>\n",
       "    </tr>\n",
       "    <tr>\n",
       "      <th>2023-12-29</th>\n",
       "      <td>0.347792</td>\n",
       "    </tr>\n",
       "    <tr>\n",
       "      <th>2023-12-30</th>\n",
       "      <td>0.337033</td>\n",
       "    </tr>\n",
       "    <tr>\n",
       "      <th>2023-12-31</th>\n",
       "      <td>-0.126056</td>\n",
       "    </tr>\n",
       "  </tbody>\n",
       "</table>\n",
       "<p>365 rows × 1 columns</p>\n",
       "</div>"
      ],
      "text/plain": [
       "               value\n",
       "2023-01-01  0.586287\n",
       "2023-01-02 -2.077276\n",
       "2023-01-03 -1.372788\n",
       "2023-01-04 -1.080971\n",
       "2023-01-05  0.534736\n",
       "...              ...\n",
       "2023-12-27  0.876468\n",
       "2023-12-28  0.887156\n",
       "2023-12-29  0.347792\n",
       "2023-12-30  0.337033\n",
       "2023-12-31 -0.126056\n",
       "\n",
       "[365 rows x 1 columns]"
      ]
     },
     "execution_count": 54,
     "metadata": {},
     "output_type": "execute_result"
    }
   ],
   "source": [
    "# Create a DataFrame with a DatetimeIndex\n",
    "dates = pd.date_range(start='2023-01-01', end='2023-12-31', freq='D')\n",
    "df = pd.DataFrame({'value': np.random.randn(len(dates))}, index=dates)\n",
    "df"
   ]
  },
  {
   "cell_type": "markdown",
   "metadata": {},
   "source": [
    "This creates a DataFrame with daily data for the entire year of 2023.\n"
   ]
  },
  {
   "cell_type": "markdown",
   "metadata": {},
   "source": [
    "### <a id='toc4_1_'></a>[Partial string indexing](#toc0_)\n"
   ]
  },
  {
   "cell_type": "markdown",
   "metadata": {},
   "source": [
    "Partial string indexing is a powerful feature in Pandas that allows you to select data using incomplete date string labels. This is particularly useful when you want to select data for specific time periods without specifying the full date.\n"
   ]
  },
  {
   "cell_type": "markdown",
   "metadata": {},
   "source": [
    "Let's explore some examples:\n"
   ]
  },
  {
   "cell_type": "code",
   "execution_count": 55,
   "metadata": {},
   "outputs": [
    {
     "data": {
      "text/html": [
       "<div>\n",
       "<style scoped>\n",
       "    .dataframe tbody tr th:only-of-type {\n",
       "        vertical-align: middle;\n",
       "    }\n",
       "\n",
       "    .dataframe tbody tr th {\n",
       "        vertical-align: top;\n",
       "    }\n",
       "\n",
       "    .dataframe thead th {\n",
       "        text-align: right;\n",
       "    }\n",
       "</style>\n",
       "<table border=\"1\" class=\"dataframe\">\n",
       "  <thead>\n",
       "    <tr style=\"text-align: right;\">\n",
       "      <th></th>\n",
       "      <th>value</th>\n",
       "    </tr>\n",
       "  </thead>\n",
       "  <tbody>\n",
       "    <tr>\n",
       "      <th>2023-01-01</th>\n",
       "      <td>0.586287</td>\n",
       "    </tr>\n",
       "    <tr>\n",
       "      <th>2023-01-02</th>\n",
       "      <td>-2.077276</td>\n",
       "    </tr>\n",
       "    <tr>\n",
       "      <th>2023-01-03</th>\n",
       "      <td>-1.372788</td>\n",
       "    </tr>\n",
       "    <tr>\n",
       "      <th>2023-01-04</th>\n",
       "      <td>-1.080971</td>\n",
       "    </tr>\n",
       "    <tr>\n",
       "      <th>2023-01-05</th>\n",
       "      <td>0.534736</td>\n",
       "    </tr>\n",
       "    <tr>\n",
       "      <th>2023-01-06</th>\n",
       "      <td>-1.226532</td>\n",
       "    </tr>\n",
       "    <tr>\n",
       "      <th>2023-01-07</th>\n",
       "      <td>0.708189</td>\n",
       "    </tr>\n",
       "    <tr>\n",
       "      <th>2023-01-08</th>\n",
       "      <td>0.621466</td>\n",
       "    </tr>\n",
       "    <tr>\n",
       "      <th>2023-01-09</th>\n",
       "      <td>-0.835543</td>\n",
       "    </tr>\n",
       "    <tr>\n",
       "      <th>2023-01-10</th>\n",
       "      <td>-1.677096</td>\n",
       "    </tr>\n",
       "    <tr>\n",
       "      <th>2023-01-11</th>\n",
       "      <td>-0.042121</td>\n",
       "    </tr>\n",
       "    <tr>\n",
       "      <th>2023-01-12</th>\n",
       "      <td>0.467697</td>\n",
       "    </tr>\n",
       "    <tr>\n",
       "      <th>2023-01-13</th>\n",
       "      <td>0.289875</td>\n",
       "    </tr>\n",
       "    <tr>\n",
       "      <th>2023-01-14</th>\n",
       "      <td>0.604960</td>\n",
       "    </tr>\n",
       "    <tr>\n",
       "      <th>2023-01-15</th>\n",
       "      <td>-1.409663</td>\n",
       "    </tr>\n",
       "    <tr>\n",
       "      <th>2023-01-16</th>\n",
       "      <td>0.657934</td>\n",
       "    </tr>\n",
       "    <tr>\n",
       "      <th>2023-01-17</th>\n",
       "      <td>-0.600103</td>\n",
       "    </tr>\n",
       "    <tr>\n",
       "      <th>2023-01-18</th>\n",
       "      <td>0.758400</td>\n",
       "    </tr>\n",
       "    <tr>\n",
       "      <th>2023-01-19</th>\n",
       "      <td>0.030888</td>\n",
       "    </tr>\n",
       "    <tr>\n",
       "      <th>2023-01-20</th>\n",
       "      <td>-0.850621</td>\n",
       "    </tr>\n",
       "    <tr>\n",
       "      <th>2023-01-21</th>\n",
       "      <td>-0.134049</td>\n",
       "    </tr>\n",
       "    <tr>\n",
       "      <th>2023-01-22</th>\n",
       "      <td>-0.055819</td>\n",
       "    </tr>\n",
       "    <tr>\n",
       "      <th>2023-01-23</th>\n",
       "      <td>0.982301</td>\n",
       "    </tr>\n",
       "    <tr>\n",
       "      <th>2023-01-24</th>\n",
       "      <td>-1.372202</td>\n",
       "    </tr>\n",
       "    <tr>\n",
       "      <th>2023-01-25</th>\n",
       "      <td>-2.342488</td>\n",
       "    </tr>\n",
       "    <tr>\n",
       "      <th>2023-01-26</th>\n",
       "      <td>-1.069978</td>\n",
       "    </tr>\n",
       "    <tr>\n",
       "      <th>2023-01-27</th>\n",
       "      <td>-0.508079</td>\n",
       "    </tr>\n",
       "    <tr>\n",
       "      <th>2023-01-28</th>\n",
       "      <td>-1.927560</td>\n",
       "    </tr>\n",
       "    <tr>\n",
       "      <th>2023-01-29</th>\n",
       "      <td>0.999584</td>\n",
       "    </tr>\n",
       "    <tr>\n",
       "      <th>2023-01-30</th>\n",
       "      <td>0.527168</td>\n",
       "    </tr>\n",
       "    <tr>\n",
       "      <th>2023-01-31</th>\n",
       "      <td>1.439510</td>\n",
       "    </tr>\n",
       "  </tbody>\n",
       "</table>\n",
       "</div>"
      ],
      "text/plain": [
       "               value\n",
       "2023-01-01  0.586287\n",
       "2023-01-02 -2.077276\n",
       "2023-01-03 -1.372788\n",
       "2023-01-04 -1.080971\n",
       "2023-01-05  0.534736\n",
       "2023-01-06 -1.226532\n",
       "2023-01-07  0.708189\n",
       "2023-01-08  0.621466\n",
       "2023-01-09 -0.835543\n",
       "2023-01-10 -1.677096\n",
       "2023-01-11 -0.042121\n",
       "2023-01-12  0.467697\n",
       "2023-01-13  0.289875\n",
       "2023-01-14  0.604960\n",
       "2023-01-15 -1.409663\n",
       "2023-01-16  0.657934\n",
       "2023-01-17 -0.600103\n",
       "2023-01-18  0.758400\n",
       "2023-01-19  0.030888\n",
       "2023-01-20 -0.850621\n",
       "2023-01-21 -0.134049\n",
       "2023-01-22 -0.055819\n",
       "2023-01-23  0.982301\n",
       "2023-01-24 -1.372202\n",
       "2023-01-25 -2.342488\n",
       "2023-01-26 -1.069978\n",
       "2023-01-27 -0.508079\n",
       "2023-01-28 -1.927560\n",
       "2023-01-29  0.999584\n",
       "2023-01-30  0.527168\n",
       "2023-01-31  1.439510"
      ]
     },
     "execution_count": 55,
     "metadata": {},
     "output_type": "execute_result"
    }
   ],
   "source": [
    "# Select all data for January 2023\n",
    "df.loc['2023-01']"
   ]
  },
  {
   "cell_type": "code",
   "execution_count": 56,
   "metadata": {},
   "outputs": [
    {
     "data": {
      "text/html": [
       "<div>\n",
       "<style scoped>\n",
       "    .dataframe tbody tr th:only-of-type {\n",
       "        vertical-align: middle;\n",
       "    }\n",
       "\n",
       "    .dataframe tbody tr th {\n",
       "        vertical-align: top;\n",
       "    }\n",
       "\n",
       "    .dataframe thead th {\n",
       "        text-align: right;\n",
       "    }\n",
       "</style>\n",
       "<table border=\"1\" class=\"dataframe\">\n",
       "  <thead>\n",
       "    <tr style=\"text-align: right;\">\n",
       "      <th></th>\n",
       "      <th>value</th>\n",
       "    </tr>\n",
       "  </thead>\n",
       "  <tbody>\n",
       "    <tr>\n",
       "      <th>2023-01-01</th>\n",
       "      <td>0.586287</td>\n",
       "    </tr>\n",
       "    <tr>\n",
       "      <th>2023-01-02</th>\n",
       "      <td>-2.077276</td>\n",
       "    </tr>\n",
       "    <tr>\n",
       "      <th>2023-01-03</th>\n",
       "      <td>-1.372788</td>\n",
       "    </tr>\n",
       "    <tr>\n",
       "      <th>2023-01-04</th>\n",
       "      <td>-1.080971</td>\n",
       "    </tr>\n",
       "    <tr>\n",
       "      <th>2023-01-05</th>\n",
       "      <td>0.534736</td>\n",
       "    </tr>\n",
       "    <tr>\n",
       "      <th>...</th>\n",
       "      <td>...</td>\n",
       "    </tr>\n",
       "    <tr>\n",
       "      <th>2023-03-27</th>\n",
       "      <td>0.080388</td>\n",
       "    </tr>\n",
       "    <tr>\n",
       "      <th>2023-03-28</th>\n",
       "      <td>0.648832</td>\n",
       "    </tr>\n",
       "    <tr>\n",
       "      <th>2023-03-29</th>\n",
       "      <td>-1.443029</td>\n",
       "    </tr>\n",
       "    <tr>\n",
       "      <th>2023-03-30</th>\n",
       "      <td>-1.403090</td>\n",
       "    </tr>\n",
       "    <tr>\n",
       "      <th>2023-03-31</th>\n",
       "      <td>-1.372118</td>\n",
       "    </tr>\n",
       "  </tbody>\n",
       "</table>\n",
       "<p>90 rows × 1 columns</p>\n",
       "</div>"
      ],
      "text/plain": [
       "               value\n",
       "2023-01-01  0.586287\n",
       "2023-01-02 -2.077276\n",
       "2023-01-03 -1.372788\n",
       "2023-01-04 -1.080971\n",
       "2023-01-05  0.534736\n",
       "...              ...\n",
       "2023-03-27  0.080388\n",
       "2023-03-28  0.648832\n",
       "2023-03-29 -1.443029\n",
       "2023-03-30 -1.403090\n",
       "2023-03-31 -1.372118\n",
       "\n",
       "[90 rows x 1 columns]"
      ]
     },
     "execution_count": 56,
     "metadata": {},
     "output_type": "execute_result"
    }
   ],
   "source": [
    "# Select data for the first quarter of 2023\n",
    "df.loc['2023-01':'2023-03']"
   ]
  },
  {
   "cell_type": "code",
   "execution_count": 57,
   "metadata": {},
   "outputs": [
    {
     "data": {
      "text/plain": [
       "value   -1.080971\n",
       "Name: 2023-01-04 00:00:00, dtype: float64"
      ]
     },
     "execution_count": 57,
     "metadata": {},
     "output_type": "execute_result"
    }
   ],
   "source": [
    "# Select data for a specific day\n",
    "df.loc['2023-01-04']"
   ]
  },
  {
   "cell_type": "code",
   "execution_count": 58,
   "metadata": {},
   "outputs": [
    {
     "data": {
      "text/html": [
       "<div>\n",
       "<style scoped>\n",
       "    .dataframe tbody tr th:only-of-type {\n",
       "        vertical-align: middle;\n",
       "    }\n",
       "\n",
       "    .dataframe tbody tr th {\n",
       "        vertical-align: top;\n",
       "    }\n",
       "\n",
       "    .dataframe thead th {\n",
       "        text-align: right;\n",
       "    }\n",
       "</style>\n",
       "<table border=\"1\" class=\"dataframe\">\n",
       "  <thead>\n",
       "    <tr style=\"text-align: right;\">\n",
       "      <th></th>\n",
       "      <th>value</th>\n",
       "    </tr>\n",
       "  </thead>\n",
       "  <tbody>\n",
       "    <tr>\n",
       "      <th>2023-07-01</th>\n",
       "      <td>-0.517635</td>\n",
       "    </tr>\n",
       "    <tr>\n",
       "      <th>2023-07-02</th>\n",
       "      <td>0.349562</td>\n",
       "    </tr>\n",
       "    <tr>\n",
       "      <th>2023-07-03</th>\n",
       "      <td>-0.918661</td>\n",
       "    </tr>\n",
       "    <tr>\n",
       "      <th>2023-07-04</th>\n",
       "      <td>-0.138210</td>\n",
       "    </tr>\n",
       "    <tr>\n",
       "      <th>2023-07-05</th>\n",
       "      <td>-0.723003</td>\n",
       "    </tr>\n",
       "    <tr>\n",
       "      <th>...</th>\n",
       "      <td>...</td>\n",
       "    </tr>\n",
       "    <tr>\n",
       "      <th>2023-12-27</th>\n",
       "      <td>0.876468</td>\n",
       "    </tr>\n",
       "    <tr>\n",
       "      <th>2023-12-28</th>\n",
       "      <td>0.887156</td>\n",
       "    </tr>\n",
       "    <tr>\n",
       "      <th>2023-12-29</th>\n",
       "      <td>0.347792</td>\n",
       "    </tr>\n",
       "    <tr>\n",
       "      <th>2023-12-30</th>\n",
       "      <td>0.337033</td>\n",
       "    </tr>\n",
       "    <tr>\n",
       "      <th>2023-12-31</th>\n",
       "      <td>-0.126056</td>\n",
       "    </tr>\n",
       "  </tbody>\n",
       "</table>\n",
       "<p>184 rows × 1 columns</p>\n",
       "</div>"
      ],
      "text/plain": [
       "               value\n",
       "2023-07-01 -0.517635\n",
       "2023-07-02  0.349562\n",
       "2023-07-03 -0.918661\n",
       "2023-07-04 -0.138210\n",
       "2023-07-05 -0.723003\n",
       "...              ...\n",
       "2023-12-27  0.876468\n",
       "2023-12-28  0.887156\n",
       "2023-12-29  0.347792\n",
       "2023-12-30  0.337033\n",
       "2023-12-31 -0.126056\n",
       "\n",
       "[184 rows x 1 columns]"
      ]
     },
     "execution_count": 58,
     "metadata": {},
     "output_type": "execute_result"
    }
   ],
   "source": [
    "# Select data from a specific date to the end of the dataset\n",
    "df.loc['2023-07-01':]"
   ]
  },
  {
   "cell_type": "code",
   "execution_count": 59,
   "metadata": {},
   "outputs": [
    {
     "data": {
      "text/html": [
       "<div>\n",
       "<style scoped>\n",
       "    .dataframe tbody tr th:only-of-type {\n",
       "        vertical-align: middle;\n",
       "    }\n",
       "\n",
       "    .dataframe tbody tr th {\n",
       "        vertical-align: top;\n",
       "    }\n",
       "\n",
       "    .dataframe thead th {\n",
       "        text-align: right;\n",
       "    }\n",
       "</style>\n",
       "<table border=\"1\" class=\"dataframe\">\n",
       "  <thead>\n",
       "    <tr style=\"text-align: right;\">\n",
       "      <th></th>\n",
       "      <th>value</th>\n",
       "    </tr>\n",
       "  </thead>\n",
       "  <tbody>\n",
       "    <tr>\n",
       "      <th>2023-01-01</th>\n",
       "      <td>0.586287</td>\n",
       "    </tr>\n",
       "    <tr>\n",
       "      <th>2023-01-02</th>\n",
       "      <td>-2.077276</td>\n",
       "    </tr>\n",
       "    <tr>\n",
       "      <th>2023-01-03</th>\n",
       "      <td>-1.372788</td>\n",
       "    </tr>\n",
       "    <tr>\n",
       "      <th>2023-01-04</th>\n",
       "      <td>-1.080971</td>\n",
       "    </tr>\n",
       "    <tr>\n",
       "      <th>2023-01-05</th>\n",
       "      <td>0.534736</td>\n",
       "    </tr>\n",
       "    <tr>\n",
       "      <th>...</th>\n",
       "      <td>...</td>\n",
       "    </tr>\n",
       "    <tr>\n",
       "      <th>2023-03-27</th>\n",
       "      <td>0.080388</td>\n",
       "    </tr>\n",
       "    <tr>\n",
       "      <th>2023-03-28</th>\n",
       "      <td>0.648832</td>\n",
       "    </tr>\n",
       "    <tr>\n",
       "      <th>2023-03-29</th>\n",
       "      <td>-1.443029</td>\n",
       "    </tr>\n",
       "    <tr>\n",
       "      <th>2023-03-30</th>\n",
       "      <td>-1.403090</td>\n",
       "    </tr>\n",
       "    <tr>\n",
       "      <th>2023-03-31</th>\n",
       "      <td>-1.372118</td>\n",
       "    </tr>\n",
       "  </tbody>\n",
       "</table>\n",
       "<p>90 rows × 1 columns</p>\n",
       "</div>"
      ],
      "text/plain": [
       "               value\n",
       "2023-01-01  0.586287\n",
       "2023-01-02 -2.077276\n",
       "2023-01-03 -1.372788\n",
       "2023-01-04 -1.080971\n",
       "2023-01-05  0.534736\n",
       "...              ...\n",
       "2023-03-27  0.080388\n",
       "2023-03-28  0.648832\n",
       "2023-03-29 -1.443029\n",
       "2023-03-30 -1.403090\n",
       "2023-03-31 -1.372118\n",
       "\n",
       "[90 rows x 1 columns]"
      ]
     },
     "execution_count": 59,
     "metadata": {},
     "output_type": "execute_result"
    }
   ],
   "source": [
    "# Select data up to a specific date\n",
    "df.loc[:'2023-03-31']"
   ]
  },
  {
   "cell_type": "markdown",
   "metadata": {},
   "source": [
    "Partial string indexing is very flexible. You can use various levels of precision:\n"
   ]
  },
  {
   "cell_type": "code",
   "execution_count": 60,
   "metadata": {},
   "outputs": [
    {
     "data": {
      "text/html": [
       "<div>\n",
       "<style scoped>\n",
       "    .dataframe tbody tr th:only-of-type {\n",
       "        vertical-align: middle;\n",
       "    }\n",
       "\n",
       "    .dataframe tbody tr th {\n",
       "        vertical-align: top;\n",
       "    }\n",
       "\n",
       "    .dataframe thead th {\n",
       "        text-align: right;\n",
       "    }\n",
       "</style>\n",
       "<table border=\"1\" class=\"dataframe\">\n",
       "  <thead>\n",
       "    <tr style=\"text-align: right;\">\n",
       "      <th></th>\n",
       "      <th>value</th>\n",
       "    </tr>\n",
       "  </thead>\n",
       "  <tbody>\n",
       "    <tr>\n",
       "      <th>2023-06-01</th>\n",
       "      <td>-0.930227</td>\n",
       "    </tr>\n",
       "    <tr>\n",
       "      <th>2023-06-02</th>\n",
       "      <td>-0.047630</td>\n",
       "    </tr>\n",
       "    <tr>\n",
       "      <th>2023-06-03</th>\n",
       "      <td>0.893778</td>\n",
       "    </tr>\n",
       "    <tr>\n",
       "      <th>2023-06-04</th>\n",
       "      <td>-0.184063</td>\n",
       "    </tr>\n",
       "    <tr>\n",
       "      <th>2023-06-05</th>\n",
       "      <td>0.035179</td>\n",
       "    </tr>\n",
       "    <tr>\n",
       "      <th>2023-06-06</th>\n",
       "      <td>-0.322121</td>\n",
       "    </tr>\n",
       "    <tr>\n",
       "      <th>2023-06-07</th>\n",
       "      <td>0.642049</td>\n",
       "    </tr>\n",
       "    <tr>\n",
       "      <th>2023-06-08</th>\n",
       "      <td>2.318969</td>\n",
       "    </tr>\n",
       "    <tr>\n",
       "      <th>2023-06-09</th>\n",
       "      <td>-1.142591</td>\n",
       "    </tr>\n",
       "    <tr>\n",
       "      <th>2023-06-10</th>\n",
       "      <td>0.436437</td>\n",
       "    </tr>\n",
       "    <tr>\n",
       "      <th>2023-06-11</th>\n",
       "      <td>0.345962</td>\n",
       "    </tr>\n",
       "    <tr>\n",
       "      <th>2023-06-12</th>\n",
       "      <td>-0.110122</td>\n",
       "    </tr>\n",
       "    <tr>\n",
       "      <th>2023-06-13</th>\n",
       "      <td>-0.383799</td>\n",
       "    </tr>\n",
       "    <tr>\n",
       "      <th>2023-06-14</th>\n",
       "      <td>0.198465</td>\n",
       "    </tr>\n",
       "    <tr>\n",
       "      <th>2023-06-15</th>\n",
       "      <td>0.424463</td>\n",
       "    </tr>\n",
       "    <tr>\n",
       "      <th>2023-06-16</th>\n",
       "      <td>0.841689</td>\n",
       "    </tr>\n",
       "    <tr>\n",
       "      <th>2023-06-17</th>\n",
       "      <td>0.598839</td>\n",
       "    </tr>\n",
       "    <tr>\n",
       "      <th>2023-06-18</th>\n",
       "      <td>-0.708091</td>\n",
       "    </tr>\n",
       "    <tr>\n",
       "      <th>2023-06-19</th>\n",
       "      <td>-0.143485</td>\n",
       "    </tr>\n",
       "    <tr>\n",
       "      <th>2023-06-20</th>\n",
       "      <td>0.492708</td>\n",
       "    </tr>\n",
       "    <tr>\n",
       "      <th>2023-06-21</th>\n",
       "      <td>-0.516449</td>\n",
       "    </tr>\n",
       "    <tr>\n",
       "      <th>2023-06-22</th>\n",
       "      <td>-0.299052</td>\n",
       "    </tr>\n",
       "    <tr>\n",
       "      <th>2023-06-23</th>\n",
       "      <td>-0.913088</td>\n",
       "    </tr>\n",
       "    <tr>\n",
       "      <th>2023-06-24</th>\n",
       "      <td>0.786352</td>\n",
       "    </tr>\n",
       "    <tr>\n",
       "      <th>2023-06-25</th>\n",
       "      <td>1.883315</td>\n",
       "    </tr>\n",
       "    <tr>\n",
       "      <th>2023-06-26</th>\n",
       "      <td>0.736874</td>\n",
       "    </tr>\n",
       "    <tr>\n",
       "      <th>2023-06-27</th>\n",
       "      <td>1.309112</td>\n",
       "    </tr>\n",
       "    <tr>\n",
       "      <th>2023-06-28</th>\n",
       "      <td>0.268463</td>\n",
       "    </tr>\n",
       "    <tr>\n",
       "      <th>2023-06-29</th>\n",
       "      <td>-0.428709</td>\n",
       "    </tr>\n",
       "    <tr>\n",
       "      <th>2023-06-30</th>\n",
       "      <td>1.417072</td>\n",
       "    </tr>\n",
       "  </tbody>\n",
       "</table>\n",
       "</div>"
      ],
      "text/plain": [
       "               value\n",
       "2023-06-01 -0.930227\n",
       "2023-06-02 -0.047630\n",
       "2023-06-03  0.893778\n",
       "2023-06-04 -0.184063\n",
       "2023-06-05  0.035179\n",
       "2023-06-06 -0.322121\n",
       "2023-06-07  0.642049\n",
       "2023-06-08  2.318969\n",
       "2023-06-09 -1.142591\n",
       "2023-06-10  0.436437\n",
       "2023-06-11  0.345962\n",
       "2023-06-12 -0.110122\n",
       "2023-06-13 -0.383799\n",
       "2023-06-14  0.198465\n",
       "2023-06-15  0.424463\n",
       "2023-06-16  0.841689\n",
       "2023-06-17  0.598839\n",
       "2023-06-18 -0.708091\n",
       "2023-06-19 -0.143485\n",
       "2023-06-20  0.492708\n",
       "2023-06-21 -0.516449\n",
       "2023-06-22 -0.299052\n",
       "2023-06-23 -0.913088\n",
       "2023-06-24  0.786352\n",
       "2023-06-25  1.883315\n",
       "2023-06-26  0.736874\n",
       "2023-06-27  1.309112\n",
       "2023-06-28  0.268463\n",
       "2023-06-29 -0.428709\n",
       "2023-06-30  1.417072"
      ]
     },
     "execution_count": 60,
     "metadata": {},
     "output_type": "execute_result"
    }
   ],
   "source": [
    "# Select all data for June\n",
    "df.loc['2023-06']"
   ]
  },
  {
   "cell_type": "code",
   "execution_count": 61,
   "metadata": {},
   "outputs": [
    {
     "data": {
      "text/html": [
       "<div>\n",
       "<style scoped>\n",
       "    .dataframe tbody tr th:only-of-type {\n",
       "        vertical-align: middle;\n",
       "    }\n",
       "\n",
       "    .dataframe tbody tr th {\n",
       "        vertical-align: top;\n",
       "    }\n",
       "\n",
       "    .dataframe thead th {\n",
       "        text-align: right;\n",
       "    }\n",
       "</style>\n",
       "<table border=\"1\" class=\"dataframe\">\n",
       "  <thead>\n",
       "    <tr style=\"text-align: right;\">\n",
       "      <th></th>\n",
       "      <th>value</th>\n",
       "    </tr>\n",
       "  </thead>\n",
       "  <tbody>\n",
       "    <tr>\n",
       "      <th>2023-01-01</th>\n",
       "      <td>0.586287</td>\n",
       "    </tr>\n",
       "    <tr>\n",
       "      <th>2023-01-02</th>\n",
       "      <td>-2.077276</td>\n",
       "    </tr>\n",
       "    <tr>\n",
       "      <th>2023-01-03</th>\n",
       "      <td>-1.372788</td>\n",
       "    </tr>\n",
       "    <tr>\n",
       "      <th>2023-01-04</th>\n",
       "      <td>-1.080971</td>\n",
       "    </tr>\n",
       "    <tr>\n",
       "      <th>2023-01-05</th>\n",
       "      <td>0.534736</td>\n",
       "    </tr>\n",
       "    <tr>\n",
       "      <th>...</th>\n",
       "      <td>...</td>\n",
       "    </tr>\n",
       "    <tr>\n",
       "      <th>2023-06-26</th>\n",
       "      <td>0.736874</td>\n",
       "    </tr>\n",
       "    <tr>\n",
       "      <th>2023-06-27</th>\n",
       "      <td>1.309112</td>\n",
       "    </tr>\n",
       "    <tr>\n",
       "      <th>2023-06-28</th>\n",
       "      <td>0.268463</td>\n",
       "    </tr>\n",
       "    <tr>\n",
       "      <th>2023-06-29</th>\n",
       "      <td>-0.428709</td>\n",
       "    </tr>\n",
       "    <tr>\n",
       "      <th>2023-06-30</th>\n",
       "      <td>1.417072</td>\n",
       "    </tr>\n",
       "  </tbody>\n",
       "</table>\n",
       "<p>181 rows × 1 columns</p>\n",
       "</div>"
      ],
      "text/plain": [
       "               value\n",
       "2023-01-01  0.586287\n",
       "2023-01-02 -2.077276\n",
       "2023-01-03 -1.372788\n",
       "2023-01-04 -1.080971\n",
       "2023-01-05  0.534736\n",
       "...              ...\n",
       "2023-06-26  0.736874\n",
       "2023-06-27  1.309112\n",
       "2023-06-28  0.268463\n",
       "2023-06-29 -0.428709\n",
       "2023-06-30  1.417072\n",
       "\n",
       "[181 rows x 1 columns]"
      ]
     },
     "execution_count": 61,
     "metadata": {},
     "output_type": "execute_result"
    }
   ],
   "source": [
    "# Select data for the first half of the year\n",
    "df.loc['2023-01':'2023-06']"
   ]
  },
  {
   "cell_type": "markdown",
   "metadata": {},
   "source": [
    "This feature also works with timestamps:\n"
   ]
  },
  {
   "cell_type": "code",
   "execution_count": 62,
   "metadata": {},
   "outputs": [
    {
     "data": {
      "text/html": [
       "<div>\n",
       "<style scoped>\n",
       "    .dataframe tbody tr th:only-of-type {\n",
       "        vertical-align: middle;\n",
       "    }\n",
       "\n",
       "    .dataframe tbody tr th {\n",
       "        vertical-align: top;\n",
       "    }\n",
       "\n",
       "    .dataframe thead th {\n",
       "        text-align: right;\n",
       "    }\n",
       "</style>\n",
       "<table border=\"1\" class=\"dataframe\">\n",
       "  <thead>\n",
       "    <tr style=\"text-align: right;\">\n",
       "      <th></th>\n",
       "      <th>value</th>\n",
       "    </tr>\n",
       "  </thead>\n",
       "  <tbody>\n",
       "    <tr>\n",
       "      <th>2023-06-15 00:00:00</th>\n",
       "      <td>0.889814</td>\n",
       "    </tr>\n",
       "    <tr>\n",
       "      <th>2023-06-15 01:00:00</th>\n",
       "      <td>0.152884</td>\n",
       "    </tr>\n",
       "    <tr>\n",
       "      <th>2023-06-15 02:00:00</th>\n",
       "      <td>-0.861144</td>\n",
       "    </tr>\n",
       "    <tr>\n",
       "      <th>2023-06-15 03:00:00</th>\n",
       "      <td>-1.257476</td>\n",
       "    </tr>\n",
       "    <tr>\n",
       "      <th>2023-06-15 04:00:00</th>\n",
       "      <td>-0.753810</td>\n",
       "    </tr>\n",
       "    <tr>\n",
       "      <th>2023-06-15 05:00:00</th>\n",
       "      <td>-0.993356</td>\n",
       "    </tr>\n",
       "    <tr>\n",
       "      <th>2023-06-15 06:00:00</th>\n",
       "      <td>-0.594063</td>\n",
       "    </tr>\n",
       "    <tr>\n",
       "      <th>2023-06-15 07:00:00</th>\n",
       "      <td>-1.704967</td>\n",
       "    </tr>\n",
       "    <tr>\n",
       "      <th>2023-06-15 08:00:00</th>\n",
       "      <td>-0.438706</td>\n",
       "    </tr>\n",
       "    <tr>\n",
       "      <th>2023-06-15 09:00:00</th>\n",
       "      <td>-0.608612</td>\n",
       "    </tr>\n",
       "    <tr>\n",
       "      <th>2023-06-15 10:00:00</th>\n",
       "      <td>0.440381</td>\n",
       "    </tr>\n",
       "    <tr>\n",
       "      <th>2023-06-15 11:00:00</th>\n",
       "      <td>0.677931</td>\n",
       "    </tr>\n",
       "    <tr>\n",
       "      <th>2023-06-15 12:00:00</th>\n",
       "      <td>0.283943</td>\n",
       "    </tr>\n",
       "    <tr>\n",
       "      <th>2023-06-15 13:00:00</th>\n",
       "      <td>0.830373</td>\n",
       "    </tr>\n",
       "    <tr>\n",
       "      <th>2023-06-15 14:00:00</th>\n",
       "      <td>-2.879855</td>\n",
       "    </tr>\n",
       "    <tr>\n",
       "      <th>2023-06-15 15:00:00</th>\n",
       "      <td>1.211274</td>\n",
       "    </tr>\n",
       "    <tr>\n",
       "      <th>2023-06-15 16:00:00</th>\n",
       "      <td>0.060807</td>\n",
       "    </tr>\n",
       "    <tr>\n",
       "      <th>2023-06-15 17:00:00</th>\n",
       "      <td>-0.913869</td>\n",
       "    </tr>\n",
       "    <tr>\n",
       "      <th>2023-06-15 18:00:00</th>\n",
       "      <td>0.354459</td>\n",
       "    </tr>\n",
       "    <tr>\n",
       "      <th>2023-06-15 19:00:00</th>\n",
       "      <td>-0.039068</td>\n",
       "    </tr>\n",
       "    <tr>\n",
       "      <th>2023-06-15 20:00:00</th>\n",
       "      <td>2.616607</td>\n",
       "    </tr>\n",
       "    <tr>\n",
       "      <th>2023-06-15 21:00:00</th>\n",
       "      <td>0.176680</td>\n",
       "    </tr>\n",
       "    <tr>\n",
       "      <th>2023-06-15 22:00:00</th>\n",
       "      <td>0.955864</td>\n",
       "    </tr>\n",
       "    <tr>\n",
       "      <th>2023-06-15 23:00:00</th>\n",
       "      <td>0.482899</td>\n",
       "    </tr>\n",
       "  </tbody>\n",
       "</table>\n",
       "</div>"
      ],
      "text/plain": [
       "                        value\n",
       "2023-06-15 00:00:00  0.889814\n",
       "2023-06-15 01:00:00  0.152884\n",
       "2023-06-15 02:00:00 -0.861144\n",
       "2023-06-15 03:00:00 -1.257476\n",
       "2023-06-15 04:00:00 -0.753810\n",
       "2023-06-15 05:00:00 -0.993356\n",
       "2023-06-15 06:00:00 -0.594063\n",
       "2023-06-15 07:00:00 -1.704967\n",
       "2023-06-15 08:00:00 -0.438706\n",
       "2023-06-15 09:00:00 -0.608612\n",
       "2023-06-15 10:00:00  0.440381\n",
       "2023-06-15 11:00:00  0.677931\n",
       "2023-06-15 12:00:00  0.283943\n",
       "2023-06-15 13:00:00  0.830373\n",
       "2023-06-15 14:00:00 -2.879855\n",
       "2023-06-15 15:00:00  1.211274\n",
       "2023-06-15 16:00:00  0.060807\n",
       "2023-06-15 17:00:00 -0.913869\n",
       "2023-06-15 18:00:00  0.354459\n",
       "2023-06-15 19:00:00 -0.039068\n",
       "2023-06-15 20:00:00  2.616607\n",
       "2023-06-15 21:00:00  0.176680\n",
       "2023-06-15 22:00:00  0.955864\n",
       "2023-06-15 23:00:00  0.482899"
      ]
     },
     "execution_count": 62,
     "metadata": {},
     "output_type": "execute_result"
    }
   ],
   "source": [
    "# Create a DataFrame with hourly data for a day\n",
    "hourly_dates = pd.date_range(start='2023-06-15 00:00:00', end='2023-06-15 23:59:59', freq='h')\n",
    "df_hourly = pd.DataFrame({'value': np.random.randn(len(hourly_dates))}, index=hourly_dates)\n",
    "df_hourly"
   ]
  },
  {
   "cell_type": "code",
   "execution_count": 63,
   "metadata": {},
   "outputs": [
    {
     "data": {
      "text/plain": [
       "value   -2.879855\n",
       "Name: 2023-06-15 14:00:00, dtype: float64"
      ]
     },
     "execution_count": 63,
     "metadata": {},
     "output_type": "execute_result"
    }
   ],
   "source": [
    "# Select data for a specific hour\n",
    "df_hourly.loc['2023-06-15 14:00:00']"
   ]
  },
  {
   "cell_type": "code",
   "execution_count": 64,
   "metadata": {},
   "outputs": [
    {
     "data": {
      "text/html": [
       "<div>\n",
       "<style scoped>\n",
       "    .dataframe tbody tr th:only-of-type {\n",
       "        vertical-align: middle;\n",
       "    }\n",
       "\n",
       "    .dataframe tbody tr th {\n",
       "        vertical-align: top;\n",
       "    }\n",
       "\n",
       "    .dataframe thead th {\n",
       "        text-align: right;\n",
       "    }\n",
       "</style>\n",
       "<table border=\"1\" class=\"dataframe\">\n",
       "  <thead>\n",
       "    <tr style=\"text-align: right;\">\n",
       "      <th></th>\n",
       "      <th>value</th>\n",
       "    </tr>\n",
       "  </thead>\n",
       "  <tbody>\n",
       "    <tr>\n",
       "      <th>2023-06-15 08:00:00</th>\n",
       "      <td>-0.438706</td>\n",
       "    </tr>\n",
       "    <tr>\n",
       "      <th>2023-06-15 09:00:00</th>\n",
       "      <td>-0.608612</td>\n",
       "    </tr>\n",
       "    <tr>\n",
       "      <th>2023-06-15 10:00:00</th>\n",
       "      <td>0.440381</td>\n",
       "    </tr>\n",
       "    <tr>\n",
       "      <th>2023-06-15 11:00:00</th>\n",
       "      <td>0.677931</td>\n",
       "    </tr>\n",
       "    <tr>\n",
       "      <th>2023-06-15 12:00:00</th>\n",
       "      <td>0.283943</td>\n",
       "    </tr>\n",
       "    <tr>\n",
       "      <th>2023-06-15 13:00:00</th>\n",
       "      <td>0.830373</td>\n",
       "    </tr>\n",
       "    <tr>\n",
       "      <th>2023-06-15 14:00:00</th>\n",
       "      <td>-2.879855</td>\n",
       "    </tr>\n",
       "    <tr>\n",
       "      <th>2023-06-15 15:00:00</th>\n",
       "      <td>1.211274</td>\n",
       "    </tr>\n",
       "    <tr>\n",
       "      <th>2023-06-15 16:00:00</th>\n",
       "      <td>0.060807</td>\n",
       "    </tr>\n",
       "  </tbody>\n",
       "</table>\n",
       "</div>"
      ],
      "text/plain": [
       "                        value\n",
       "2023-06-15 08:00:00 -0.438706\n",
       "2023-06-15 09:00:00 -0.608612\n",
       "2023-06-15 10:00:00  0.440381\n",
       "2023-06-15 11:00:00  0.677931\n",
       "2023-06-15 12:00:00  0.283943\n",
       "2023-06-15 13:00:00  0.830373\n",
       "2023-06-15 14:00:00 -2.879855\n",
       "2023-06-15 15:00:00  1.211274\n",
       "2023-06-15 16:00:00  0.060807"
      ]
     },
     "execution_count": 64,
     "metadata": {},
     "output_type": "execute_result"
    }
   ],
   "source": [
    "# Select data for a range of hours\n",
    "df_hourly.loc['2023-06-15 08:00:00':'2023-06-15 16:00:00']"
   ]
  },
  {
   "cell_type": "markdown",
   "metadata": {},
   "source": [
    "Partial string indexing makes it easy to select data for specific time periods without needing to know the exact start and end dates in your dataset.\n"
   ]
  },
  {
   "cell_type": "markdown",
   "metadata": {},
   "source": [
    "### <a id='toc4_2_'></a>[Date and time components access](#toc0_)\n"
   ]
  },
  {
   "cell_type": "markdown",
   "metadata": {},
   "source": [
    "In addition to partial string indexing, Pandas allows you to select data based on specific components of dates and times. This is done using the `dt` accessor along with various date and time attributes.\n"
   ]
  },
  {
   "cell_type": "markdown",
   "metadata": {},
   "source": [
    "Here are some examples:\n"
   ]
  },
  {
   "cell_type": "code",
   "execution_count": 65,
   "metadata": {},
   "outputs": [
    {
     "data": {
      "text/html": [
       "<div>\n",
       "<style scoped>\n",
       "    .dataframe tbody tr th:only-of-type {\n",
       "        vertical-align: middle;\n",
       "    }\n",
       "\n",
       "    .dataframe tbody tr th {\n",
       "        vertical-align: top;\n",
       "    }\n",
       "\n",
       "    .dataframe thead th {\n",
       "        text-align: right;\n",
       "    }\n",
       "</style>\n",
       "<table border=\"1\" class=\"dataframe\">\n",
       "  <thead>\n",
       "    <tr style=\"text-align: right;\">\n",
       "      <th></th>\n",
       "      <th>value</th>\n",
       "    </tr>\n",
       "  </thead>\n",
       "  <tbody>\n",
       "    <tr>\n",
       "      <th>2023-01-02</th>\n",
       "      <td>-2.077276</td>\n",
       "    </tr>\n",
       "    <tr>\n",
       "      <th>2023-01-09</th>\n",
       "      <td>-0.835543</td>\n",
       "    </tr>\n",
       "    <tr>\n",
       "      <th>2023-01-16</th>\n",
       "      <td>0.657934</td>\n",
       "    </tr>\n",
       "    <tr>\n",
       "      <th>2023-01-23</th>\n",
       "      <td>0.982301</td>\n",
       "    </tr>\n",
       "    <tr>\n",
       "      <th>2023-01-30</th>\n",
       "      <td>0.527168</td>\n",
       "    </tr>\n",
       "    <tr>\n",
       "      <th>2023-02-06</th>\n",
       "      <td>2.179397</td>\n",
       "    </tr>\n",
       "    <tr>\n",
       "      <th>2023-02-13</th>\n",
       "      <td>-0.473396</td>\n",
       "    </tr>\n",
       "    <tr>\n",
       "      <th>2023-02-20</th>\n",
       "      <td>0.333065</td>\n",
       "    </tr>\n",
       "    <tr>\n",
       "      <th>2023-02-27</th>\n",
       "      <td>-0.292679</td>\n",
       "    </tr>\n",
       "    <tr>\n",
       "      <th>2023-03-06</th>\n",
       "      <td>-1.545982</td>\n",
       "    </tr>\n",
       "    <tr>\n",
       "      <th>2023-03-13</th>\n",
       "      <td>0.608952</td>\n",
       "    </tr>\n",
       "    <tr>\n",
       "      <th>2023-03-20</th>\n",
       "      <td>-0.517404</td>\n",
       "    </tr>\n",
       "    <tr>\n",
       "      <th>2023-03-27</th>\n",
       "      <td>0.080388</td>\n",
       "    </tr>\n",
       "    <tr>\n",
       "      <th>2023-04-03</th>\n",
       "      <td>-0.370281</td>\n",
       "    </tr>\n",
       "    <tr>\n",
       "      <th>2023-04-10</th>\n",
       "      <td>-0.386794</td>\n",
       "    </tr>\n",
       "    <tr>\n",
       "      <th>2023-04-17</th>\n",
       "      <td>0.683368</td>\n",
       "    </tr>\n",
       "    <tr>\n",
       "      <th>2023-04-24</th>\n",
       "      <td>-1.677090</td>\n",
       "    </tr>\n",
       "    <tr>\n",
       "      <th>2023-05-01</th>\n",
       "      <td>-0.725337</td>\n",
       "    </tr>\n",
       "    <tr>\n",
       "      <th>2023-05-08</th>\n",
       "      <td>1.187101</td>\n",
       "    </tr>\n",
       "    <tr>\n",
       "      <th>2023-05-15</th>\n",
       "      <td>0.684915</td>\n",
       "    </tr>\n",
       "    <tr>\n",
       "      <th>2023-05-22</th>\n",
       "      <td>-0.972401</td>\n",
       "    </tr>\n",
       "    <tr>\n",
       "      <th>2023-05-29</th>\n",
       "      <td>0.878705</td>\n",
       "    </tr>\n",
       "    <tr>\n",
       "      <th>2023-06-05</th>\n",
       "      <td>0.035179</td>\n",
       "    </tr>\n",
       "    <tr>\n",
       "      <th>2023-06-12</th>\n",
       "      <td>-0.110122</td>\n",
       "    </tr>\n",
       "    <tr>\n",
       "      <th>2023-06-19</th>\n",
       "      <td>-0.143485</td>\n",
       "    </tr>\n",
       "    <tr>\n",
       "      <th>2023-06-26</th>\n",
       "      <td>0.736874</td>\n",
       "    </tr>\n",
       "    <tr>\n",
       "      <th>2023-07-03</th>\n",
       "      <td>-0.918661</td>\n",
       "    </tr>\n",
       "    <tr>\n",
       "      <th>2023-07-10</th>\n",
       "      <td>0.011598</td>\n",
       "    </tr>\n",
       "    <tr>\n",
       "      <th>2023-07-17</th>\n",
       "      <td>0.123098</td>\n",
       "    </tr>\n",
       "    <tr>\n",
       "      <th>2023-07-24</th>\n",
       "      <td>0.136611</td>\n",
       "    </tr>\n",
       "    <tr>\n",
       "      <th>2023-07-31</th>\n",
       "      <td>-0.102602</td>\n",
       "    </tr>\n",
       "    <tr>\n",
       "      <th>2023-08-07</th>\n",
       "      <td>0.050237</td>\n",
       "    </tr>\n",
       "    <tr>\n",
       "      <th>2023-08-14</th>\n",
       "      <td>0.283143</td>\n",
       "    </tr>\n",
       "    <tr>\n",
       "      <th>2023-08-21</th>\n",
       "      <td>-0.492166</td>\n",
       "    </tr>\n",
       "    <tr>\n",
       "      <th>2023-08-28</th>\n",
       "      <td>-1.025567</td>\n",
       "    </tr>\n",
       "    <tr>\n",
       "      <th>2023-09-04</th>\n",
       "      <td>-1.000549</td>\n",
       "    </tr>\n",
       "    <tr>\n",
       "      <th>2023-09-11</th>\n",
       "      <td>1.662492</td>\n",
       "    </tr>\n",
       "    <tr>\n",
       "      <th>2023-09-18</th>\n",
       "      <td>-0.465946</td>\n",
       "    </tr>\n",
       "    <tr>\n",
       "      <th>2023-09-25</th>\n",
       "      <td>-0.555450</td>\n",
       "    </tr>\n",
       "    <tr>\n",
       "      <th>2023-10-02</th>\n",
       "      <td>-0.190077</td>\n",
       "    </tr>\n",
       "    <tr>\n",
       "      <th>2023-10-09</th>\n",
       "      <td>-1.147229</td>\n",
       "    </tr>\n",
       "    <tr>\n",
       "      <th>2023-10-16</th>\n",
       "      <td>-0.923805</td>\n",
       "    </tr>\n",
       "    <tr>\n",
       "      <th>2023-10-23</th>\n",
       "      <td>-0.799532</td>\n",
       "    </tr>\n",
       "    <tr>\n",
       "      <th>2023-10-30</th>\n",
       "      <td>0.729971</td>\n",
       "    </tr>\n",
       "    <tr>\n",
       "      <th>2023-11-06</th>\n",
       "      <td>0.090634</td>\n",
       "    </tr>\n",
       "    <tr>\n",
       "      <th>2023-11-13</th>\n",
       "      <td>-1.216080</td>\n",
       "    </tr>\n",
       "    <tr>\n",
       "      <th>2023-11-20</th>\n",
       "      <td>-0.854994</td>\n",
       "    </tr>\n",
       "    <tr>\n",
       "      <th>2023-11-27</th>\n",
       "      <td>1.664797</td>\n",
       "    </tr>\n",
       "    <tr>\n",
       "      <th>2023-12-04</th>\n",
       "      <td>-0.009784</td>\n",
       "    </tr>\n",
       "    <tr>\n",
       "      <th>2023-12-11</th>\n",
       "      <td>0.424791</td>\n",
       "    </tr>\n",
       "    <tr>\n",
       "      <th>2023-12-18</th>\n",
       "      <td>0.738338</td>\n",
       "    </tr>\n",
       "    <tr>\n",
       "      <th>2023-12-25</th>\n",
       "      <td>-0.241210</td>\n",
       "    </tr>\n",
       "  </tbody>\n",
       "</table>\n",
       "</div>"
      ],
      "text/plain": [
       "               value\n",
       "2023-01-02 -2.077276\n",
       "2023-01-09 -0.835543\n",
       "2023-01-16  0.657934\n",
       "2023-01-23  0.982301\n",
       "2023-01-30  0.527168\n",
       "2023-02-06  2.179397\n",
       "2023-02-13 -0.473396\n",
       "2023-02-20  0.333065\n",
       "2023-02-27 -0.292679\n",
       "2023-03-06 -1.545982\n",
       "2023-03-13  0.608952\n",
       "2023-03-20 -0.517404\n",
       "2023-03-27  0.080388\n",
       "2023-04-03 -0.370281\n",
       "2023-04-10 -0.386794\n",
       "2023-04-17  0.683368\n",
       "2023-04-24 -1.677090\n",
       "2023-05-01 -0.725337\n",
       "2023-05-08  1.187101\n",
       "2023-05-15  0.684915\n",
       "2023-05-22 -0.972401\n",
       "2023-05-29  0.878705\n",
       "2023-06-05  0.035179\n",
       "2023-06-12 -0.110122\n",
       "2023-06-19 -0.143485\n",
       "2023-06-26  0.736874\n",
       "2023-07-03 -0.918661\n",
       "2023-07-10  0.011598\n",
       "2023-07-17  0.123098\n",
       "2023-07-24  0.136611\n",
       "2023-07-31 -0.102602\n",
       "2023-08-07  0.050237\n",
       "2023-08-14  0.283143\n",
       "2023-08-21 -0.492166\n",
       "2023-08-28 -1.025567\n",
       "2023-09-04 -1.000549\n",
       "2023-09-11  1.662492\n",
       "2023-09-18 -0.465946\n",
       "2023-09-25 -0.555450\n",
       "2023-10-02 -0.190077\n",
       "2023-10-09 -1.147229\n",
       "2023-10-16 -0.923805\n",
       "2023-10-23 -0.799532\n",
       "2023-10-30  0.729971\n",
       "2023-11-06  0.090634\n",
       "2023-11-13 -1.216080\n",
       "2023-11-20 -0.854994\n",
       "2023-11-27  1.664797\n",
       "2023-12-04 -0.009784\n",
       "2023-12-11  0.424791\n",
       "2023-12-18  0.738338\n",
       "2023-12-25 -0.241210"
      ]
     },
     "execution_count": 65,
     "metadata": {},
     "output_type": "execute_result"
    }
   ],
   "source": [
    "# Select all Mondays\n",
    "df[df.index.day_name() == 'Monday']\n"
   ]
  },
  {
   "cell_type": "code",
   "execution_count": 66,
   "metadata": {},
   "outputs": [
    {
     "data": {
      "text/html": [
       "<div>\n",
       "<style scoped>\n",
       "    .dataframe tbody tr th:only-of-type {\n",
       "        vertical-align: middle;\n",
       "    }\n",
       "\n",
       "    .dataframe tbody tr th {\n",
       "        vertical-align: top;\n",
       "    }\n",
       "\n",
       "    .dataframe thead th {\n",
       "        text-align: right;\n",
       "    }\n",
       "</style>\n",
       "<table border=\"1\" class=\"dataframe\">\n",
       "  <thead>\n",
       "    <tr style=\"text-align: right;\">\n",
       "      <th></th>\n",
       "      <th>value</th>\n",
       "    </tr>\n",
       "  </thead>\n",
       "  <tbody>\n",
       "    <tr>\n",
       "      <th>2023-03-01</th>\n",
       "      <td>-0.564322</td>\n",
       "    </tr>\n",
       "    <tr>\n",
       "      <th>2023-03-02</th>\n",
       "      <td>-0.863697</td>\n",
       "    </tr>\n",
       "    <tr>\n",
       "      <th>2023-03-03</th>\n",
       "      <td>-0.398906</td>\n",
       "    </tr>\n",
       "    <tr>\n",
       "      <th>2023-03-04</th>\n",
       "      <td>-0.964817</td>\n",
       "    </tr>\n",
       "    <tr>\n",
       "      <th>2023-03-05</th>\n",
       "      <td>0.707872</td>\n",
       "    </tr>\n",
       "    <tr>\n",
       "      <th>2023-03-06</th>\n",
       "      <td>-1.545982</td>\n",
       "    </tr>\n",
       "    <tr>\n",
       "      <th>2023-03-07</th>\n",
       "      <td>-0.699935</td>\n",
       "    </tr>\n",
       "    <tr>\n",
       "      <th>2023-03-08</th>\n",
       "      <td>-0.140399</td>\n",
       "    </tr>\n",
       "    <tr>\n",
       "      <th>2023-03-09</th>\n",
       "      <td>1.867963</td>\n",
       "    </tr>\n",
       "    <tr>\n",
       "      <th>2023-03-10</th>\n",
       "      <td>0.154971</td>\n",
       "    </tr>\n",
       "    <tr>\n",
       "      <th>2023-03-11</th>\n",
       "      <td>-0.671283</td>\n",
       "    </tr>\n",
       "    <tr>\n",
       "      <th>2023-03-12</th>\n",
       "      <td>-0.891459</td>\n",
       "    </tr>\n",
       "    <tr>\n",
       "      <th>2023-03-13</th>\n",
       "      <td>0.608952</td>\n",
       "    </tr>\n",
       "    <tr>\n",
       "      <th>2023-03-14</th>\n",
       "      <td>-0.530762</td>\n",
       "    </tr>\n",
       "    <tr>\n",
       "      <th>2023-03-15</th>\n",
       "      <td>-1.718949</td>\n",
       "    </tr>\n",
       "    <tr>\n",
       "      <th>2023-03-16</th>\n",
       "      <td>0.960485</td>\n",
       "    </tr>\n",
       "    <tr>\n",
       "      <th>2023-03-17</th>\n",
       "      <td>1.164592</td>\n",
       "    </tr>\n",
       "    <tr>\n",
       "      <th>2023-03-18</th>\n",
       "      <td>0.213862</td>\n",
       "    </tr>\n",
       "    <tr>\n",
       "      <th>2023-03-19</th>\n",
       "      <td>-0.068644</td>\n",
       "    </tr>\n",
       "    <tr>\n",
       "      <th>2023-03-20</th>\n",
       "      <td>-0.517404</td>\n",
       "    </tr>\n",
       "    <tr>\n",
       "      <th>2023-03-21</th>\n",
       "      <td>-0.654287</td>\n",
       "    </tr>\n",
       "    <tr>\n",
       "      <th>2023-03-22</th>\n",
       "      <td>1.087180</td>\n",
       "    </tr>\n",
       "    <tr>\n",
       "      <th>2023-03-23</th>\n",
       "      <td>-0.915467</td>\n",
       "    </tr>\n",
       "    <tr>\n",
       "      <th>2023-03-24</th>\n",
       "      <td>0.452058</td>\n",
       "    </tr>\n",
       "    <tr>\n",
       "      <th>2023-03-25</th>\n",
       "      <td>0.873042</td>\n",
       "    </tr>\n",
       "    <tr>\n",
       "      <th>2023-03-26</th>\n",
       "      <td>-0.032618</td>\n",
       "    </tr>\n",
       "    <tr>\n",
       "      <th>2023-03-27</th>\n",
       "      <td>0.080388</td>\n",
       "    </tr>\n",
       "    <tr>\n",
       "      <th>2023-03-28</th>\n",
       "      <td>0.648832</td>\n",
       "    </tr>\n",
       "    <tr>\n",
       "      <th>2023-03-29</th>\n",
       "      <td>-1.443029</td>\n",
       "    </tr>\n",
       "    <tr>\n",
       "      <th>2023-03-30</th>\n",
       "      <td>-1.403090</td>\n",
       "    </tr>\n",
       "    <tr>\n",
       "      <th>2023-03-31</th>\n",
       "      <td>-1.372118</td>\n",
       "    </tr>\n",
       "  </tbody>\n",
       "</table>\n",
       "</div>"
      ],
      "text/plain": [
       "               value\n",
       "2023-03-01 -0.564322\n",
       "2023-03-02 -0.863697\n",
       "2023-03-03 -0.398906\n",
       "2023-03-04 -0.964817\n",
       "2023-03-05  0.707872\n",
       "2023-03-06 -1.545982\n",
       "2023-03-07 -0.699935\n",
       "2023-03-08 -0.140399\n",
       "2023-03-09  1.867963\n",
       "2023-03-10  0.154971\n",
       "2023-03-11 -0.671283\n",
       "2023-03-12 -0.891459\n",
       "2023-03-13  0.608952\n",
       "2023-03-14 -0.530762\n",
       "2023-03-15 -1.718949\n",
       "2023-03-16  0.960485\n",
       "2023-03-17  1.164592\n",
       "2023-03-18  0.213862\n",
       "2023-03-19 -0.068644\n",
       "2023-03-20 -0.517404\n",
       "2023-03-21 -0.654287\n",
       "2023-03-22  1.087180\n",
       "2023-03-23 -0.915467\n",
       "2023-03-24  0.452058\n",
       "2023-03-25  0.873042\n",
       "2023-03-26 -0.032618\n",
       "2023-03-27  0.080388\n",
       "2023-03-28  0.648832\n",
       "2023-03-29 -1.443029\n",
       "2023-03-30 -1.403090\n",
       "2023-03-31 -1.372118"
      ]
     },
     "execution_count": 66,
     "metadata": {},
     "output_type": "execute_result"
    }
   ],
   "source": [
    "# Select all days in March\n",
    "df[df.index.month == 3]"
   ]
  },
  {
   "cell_type": "code",
   "execution_count": 67,
   "metadata": {},
   "outputs": [
    {
     "data": {
      "text/html": [
       "<div>\n",
       "<style scoped>\n",
       "    .dataframe tbody tr th:only-of-type {\n",
       "        vertical-align: middle;\n",
       "    }\n",
       "\n",
       "    .dataframe tbody tr th {\n",
       "        vertical-align: top;\n",
       "    }\n",
       "\n",
       "    .dataframe thead th {\n",
       "        text-align: right;\n",
       "    }\n",
       "</style>\n",
       "<table border=\"1\" class=\"dataframe\">\n",
       "  <thead>\n",
       "    <tr style=\"text-align: right;\">\n",
       "      <th></th>\n",
       "      <th>value</th>\n",
       "    </tr>\n",
       "  </thead>\n",
       "  <tbody>\n",
       "    <tr>\n",
       "      <th>2023-04-07</th>\n",
       "      <td>0.909454</td>\n",
       "    </tr>\n",
       "    <tr>\n",
       "      <th>2023-04-14</th>\n",
       "      <td>0.243474</td>\n",
       "    </tr>\n",
       "    <tr>\n",
       "      <th>2023-04-21</th>\n",
       "      <td>-0.562639</td>\n",
       "    </tr>\n",
       "    <tr>\n",
       "      <th>2023-04-28</th>\n",
       "      <td>0.222666</td>\n",
       "    </tr>\n",
       "    <tr>\n",
       "      <th>2023-05-05</th>\n",
       "      <td>1.008951</td>\n",
       "    </tr>\n",
       "    <tr>\n",
       "      <th>2023-05-12</th>\n",
       "      <td>-1.339248</td>\n",
       "    </tr>\n",
       "    <tr>\n",
       "      <th>2023-05-19</th>\n",
       "      <td>-0.343120</td>\n",
       "    </tr>\n",
       "    <tr>\n",
       "      <th>2023-05-26</th>\n",
       "      <td>1.488070</td>\n",
       "    </tr>\n",
       "    <tr>\n",
       "      <th>2023-06-02</th>\n",
       "      <td>-0.047630</td>\n",
       "    </tr>\n",
       "    <tr>\n",
       "      <th>2023-06-09</th>\n",
       "      <td>-1.142591</td>\n",
       "    </tr>\n",
       "    <tr>\n",
       "      <th>2023-06-16</th>\n",
       "      <td>0.841689</td>\n",
       "    </tr>\n",
       "    <tr>\n",
       "      <th>2023-06-23</th>\n",
       "      <td>-0.913088</td>\n",
       "    </tr>\n",
       "    <tr>\n",
       "      <th>2023-06-30</th>\n",
       "      <td>1.417072</td>\n",
       "    </tr>\n",
       "  </tbody>\n",
       "</table>\n",
       "</div>"
      ],
      "text/plain": [
       "               value\n",
       "2023-04-07  0.909454\n",
       "2023-04-14  0.243474\n",
       "2023-04-21 -0.562639\n",
       "2023-04-28  0.222666\n",
       "2023-05-05  1.008951\n",
       "2023-05-12 -1.339248\n",
       "2023-05-19 -0.343120\n",
       "2023-05-26  1.488070\n",
       "2023-06-02 -0.047630\n",
       "2023-06-09 -1.142591\n",
       "2023-06-16  0.841689\n",
       "2023-06-23 -0.913088\n",
       "2023-06-30  1.417072"
      ]
     },
     "execution_count": 67,
     "metadata": {},
     "output_type": "execute_result"
    }
   ],
   "source": [
    "# Select all Fridays in the second quarter\n",
    "df[(df.index.day_name() == 'Friday') & (df.index.quarter == 2)]"
   ]
  },
  {
   "cell_type": "code",
   "execution_count": 68,
   "metadata": {},
   "outputs": [
    {
     "data": {
      "text/html": [
       "<div>\n",
       "<style scoped>\n",
       "    .dataframe tbody tr th:only-of-type {\n",
       "        vertical-align: middle;\n",
       "    }\n",
       "\n",
       "    .dataframe tbody tr th {\n",
       "        vertical-align: top;\n",
       "    }\n",
       "\n",
       "    .dataframe thead th {\n",
       "        text-align: right;\n",
       "    }\n",
       "</style>\n",
       "<table border=\"1\" class=\"dataframe\">\n",
       "  <thead>\n",
       "    <tr style=\"text-align: right;\">\n",
       "      <th></th>\n",
       "      <th>value</th>\n",
       "    </tr>\n",
       "  </thead>\n",
       "  <tbody>\n",
       "    <tr>\n",
       "      <th>2023-01-16</th>\n",
       "      <td>0.657934</td>\n",
       "    </tr>\n",
       "    <tr>\n",
       "      <th>2023-01-17</th>\n",
       "      <td>-0.600103</td>\n",
       "    </tr>\n",
       "    <tr>\n",
       "      <th>2023-01-18</th>\n",
       "      <td>0.758400</td>\n",
       "    </tr>\n",
       "    <tr>\n",
       "      <th>2023-01-19</th>\n",
       "      <td>0.030888</td>\n",
       "    </tr>\n",
       "    <tr>\n",
       "      <th>2023-01-20</th>\n",
       "      <td>-0.850621</td>\n",
       "    </tr>\n",
       "    <tr>\n",
       "      <th>...</th>\n",
       "      <td>...</td>\n",
       "    </tr>\n",
       "    <tr>\n",
       "      <th>2023-12-27</th>\n",
       "      <td>0.876468</td>\n",
       "    </tr>\n",
       "    <tr>\n",
       "      <th>2023-12-28</th>\n",
       "      <td>0.887156</td>\n",
       "    </tr>\n",
       "    <tr>\n",
       "      <th>2023-12-29</th>\n",
       "      <td>0.347792</td>\n",
       "    </tr>\n",
       "    <tr>\n",
       "      <th>2023-12-30</th>\n",
       "      <td>0.337033</td>\n",
       "    </tr>\n",
       "    <tr>\n",
       "      <th>2023-12-31</th>\n",
       "      <td>-0.126056</td>\n",
       "    </tr>\n",
       "  </tbody>\n",
       "</table>\n",
       "<p>185 rows × 1 columns</p>\n",
       "</div>"
      ],
      "text/plain": [
       "               value\n",
       "2023-01-16  0.657934\n",
       "2023-01-17 -0.600103\n",
       "2023-01-18  0.758400\n",
       "2023-01-19  0.030888\n",
       "2023-01-20 -0.850621\n",
       "...              ...\n",
       "2023-12-27  0.876468\n",
       "2023-12-28  0.887156\n",
       "2023-12-29  0.347792\n",
       "2023-12-30  0.337033\n",
       "2023-12-31 -0.126056\n",
       "\n",
       "[185 rows x 1 columns]"
      ]
     },
     "execution_count": 68,
     "metadata": {},
     "output_type": "execute_result"
    }
   ],
   "source": [
    "# Select all data points where the day of the month is greater than 15\n",
    "df[df.index.day > 15]"
   ]
  },
  {
   "cell_type": "markdown",
   "metadata": {},
   "source": [
    "For time-based selection, let's use our hourly DataFrame:\n"
   ]
  },
  {
   "cell_type": "code",
   "execution_count": 69,
   "metadata": {},
   "outputs": [
    {
     "data": {
      "text/html": [
       "<div>\n",
       "<style scoped>\n",
       "    .dataframe tbody tr th:only-of-type {\n",
       "        vertical-align: middle;\n",
       "    }\n",
       "\n",
       "    .dataframe tbody tr th {\n",
       "        vertical-align: top;\n",
       "    }\n",
       "\n",
       "    .dataframe thead th {\n",
       "        text-align: right;\n",
       "    }\n",
       "</style>\n",
       "<table border=\"1\" class=\"dataframe\">\n",
       "  <thead>\n",
       "    <tr style=\"text-align: right;\">\n",
       "      <th></th>\n",
       "      <th>value</th>\n",
       "    </tr>\n",
       "  </thead>\n",
       "  <tbody>\n",
       "    <tr>\n",
       "      <th>2023-06-15 09:00:00</th>\n",
       "      <td>-0.608612</td>\n",
       "    </tr>\n",
       "    <tr>\n",
       "      <th>2023-06-15 10:00:00</th>\n",
       "      <td>0.440381</td>\n",
       "    </tr>\n",
       "    <tr>\n",
       "      <th>2023-06-15 11:00:00</th>\n",
       "      <td>0.677931</td>\n",
       "    </tr>\n",
       "    <tr>\n",
       "      <th>2023-06-15 12:00:00</th>\n",
       "      <td>0.283943</td>\n",
       "    </tr>\n",
       "    <tr>\n",
       "      <th>2023-06-15 13:00:00</th>\n",
       "      <td>0.830373</td>\n",
       "    </tr>\n",
       "    <tr>\n",
       "      <th>2023-06-15 14:00:00</th>\n",
       "      <td>-2.879855</td>\n",
       "    </tr>\n",
       "    <tr>\n",
       "      <th>2023-06-15 15:00:00</th>\n",
       "      <td>1.211274</td>\n",
       "    </tr>\n",
       "    <tr>\n",
       "      <th>2023-06-15 16:00:00</th>\n",
       "      <td>0.060807</td>\n",
       "    </tr>\n",
       "    <tr>\n",
       "      <th>2023-06-15 17:00:00</th>\n",
       "      <td>-0.913869</td>\n",
       "    </tr>\n",
       "  </tbody>\n",
       "</table>\n",
       "</div>"
      ],
      "text/plain": [
       "                        value\n",
       "2023-06-15 09:00:00 -0.608612\n",
       "2023-06-15 10:00:00  0.440381\n",
       "2023-06-15 11:00:00  0.677931\n",
       "2023-06-15 12:00:00  0.283943\n",
       "2023-06-15 13:00:00  0.830373\n",
       "2023-06-15 14:00:00 -2.879855\n",
       "2023-06-15 15:00:00  1.211274\n",
       "2023-06-15 16:00:00  0.060807\n",
       "2023-06-15 17:00:00 -0.913869"
      ]
     },
     "execution_count": 69,
     "metadata": {},
     "output_type": "execute_result"
    }
   ],
   "source": [
    "# Select all data points between 9 AM and 5 PM\n",
    "df_hourly[(df_hourly.index.hour >= 9) & (df_hourly.index.hour <= 17)]"
   ]
  },
  {
   "cell_type": "code",
   "execution_count": 70,
   "metadata": {},
   "outputs": [
    {
     "data": {
      "text/html": [
       "<div>\n",
       "<style scoped>\n",
       "    .dataframe tbody tr th:only-of-type {\n",
       "        vertical-align: middle;\n",
       "    }\n",
       "\n",
       "    .dataframe tbody tr th {\n",
       "        vertical-align: top;\n",
       "    }\n",
       "\n",
       "    .dataframe thead th {\n",
       "        text-align: right;\n",
       "    }\n",
       "</style>\n",
       "<table border=\"1\" class=\"dataframe\">\n",
       "  <thead>\n",
       "    <tr style=\"text-align: right;\">\n",
       "      <th></th>\n",
       "      <th>value</th>\n",
       "    </tr>\n",
       "  </thead>\n",
       "  <tbody>\n",
       "    <tr>\n",
       "      <th>2023-06-15 00:00:00</th>\n",
       "      <td>0.889814</td>\n",
       "    </tr>\n",
       "    <tr>\n",
       "      <th>2023-06-15 01:00:00</th>\n",
       "      <td>0.152884</td>\n",
       "    </tr>\n",
       "    <tr>\n",
       "      <th>2023-06-15 02:00:00</th>\n",
       "      <td>-0.861144</td>\n",
       "    </tr>\n",
       "    <tr>\n",
       "      <th>2023-06-15 03:00:00</th>\n",
       "      <td>-1.257476</td>\n",
       "    </tr>\n",
       "    <tr>\n",
       "      <th>2023-06-15 04:00:00</th>\n",
       "      <td>-0.753810</td>\n",
       "    </tr>\n",
       "    <tr>\n",
       "      <th>2023-06-15 05:00:00</th>\n",
       "      <td>-0.993356</td>\n",
       "    </tr>\n",
       "    <tr>\n",
       "      <th>2023-06-15 06:00:00</th>\n",
       "      <td>-0.594063</td>\n",
       "    </tr>\n",
       "    <tr>\n",
       "      <th>2023-06-15 07:00:00</th>\n",
       "      <td>-1.704967</td>\n",
       "    </tr>\n",
       "    <tr>\n",
       "      <th>2023-06-15 08:00:00</th>\n",
       "      <td>-0.438706</td>\n",
       "    </tr>\n",
       "    <tr>\n",
       "      <th>2023-06-15 09:00:00</th>\n",
       "      <td>-0.608612</td>\n",
       "    </tr>\n",
       "    <tr>\n",
       "      <th>2023-06-15 10:00:00</th>\n",
       "      <td>0.440381</td>\n",
       "    </tr>\n",
       "    <tr>\n",
       "      <th>2023-06-15 11:00:00</th>\n",
       "      <td>0.677931</td>\n",
       "    </tr>\n",
       "  </tbody>\n",
       "</table>\n",
       "</div>"
      ],
      "text/plain": [
       "                        value\n",
       "2023-06-15 00:00:00  0.889814\n",
       "2023-06-15 01:00:00  0.152884\n",
       "2023-06-15 02:00:00 -0.861144\n",
       "2023-06-15 03:00:00 -1.257476\n",
       "2023-06-15 04:00:00 -0.753810\n",
       "2023-06-15 05:00:00 -0.993356\n",
       "2023-06-15 06:00:00 -0.594063\n",
       "2023-06-15 07:00:00 -1.704967\n",
       "2023-06-15 08:00:00 -0.438706\n",
       "2023-06-15 09:00:00 -0.608612\n",
       "2023-06-15 10:00:00  0.440381\n",
       "2023-06-15 11:00:00  0.677931"
      ]
     },
     "execution_count": 70,
     "metadata": {},
     "output_type": "execute_result"
    }
   ],
   "source": [
    "# Select all data points in the morning (before noon)\n",
    "df_hourly[df_hourly.index.hour < 12]"
   ]
  },
  {
   "cell_type": "markdown",
   "metadata": {},
   "source": [
    "You can combine these methods for more complex selections:\n"
   ]
  },
  {
   "cell_type": "code",
   "execution_count": 71,
   "metadata": {},
   "outputs": [
    {
     "data": {
      "text/html": [
       "<div>\n",
       "<style scoped>\n",
       "    .dataframe tbody tr th:only-of-type {\n",
       "        vertical-align: middle;\n",
       "    }\n",
       "\n",
       "    .dataframe tbody tr th {\n",
       "        vertical-align: top;\n",
       "    }\n",
       "\n",
       "    .dataframe thead th {\n",
       "        text-align: right;\n",
       "    }\n",
       "</style>\n",
       "<table border=\"1\" class=\"dataframe\">\n",
       "  <thead>\n",
       "    <tr style=\"text-align: right;\">\n",
       "      <th></th>\n",
       "      <th>value</th>\n",
       "    </tr>\n",
       "  </thead>\n",
       "  <tbody>\n",
       "    <tr>\n",
       "      <th>2023-06-05</th>\n",
       "      <td>0.035179</td>\n",
       "    </tr>\n",
       "    <tr>\n",
       "      <th>2023-06-26</th>\n",
       "      <td>0.736874</td>\n",
       "    </tr>\n",
       "  </tbody>\n",
       "</table>\n",
       "</div>"
      ],
      "text/plain": [
       "               value\n",
       "2023-06-05  0.035179\n",
       "2023-06-26  0.736874"
      ]
     },
     "execution_count": 71,
     "metadata": {},
     "output_type": "execute_result"
    }
   ],
   "source": [
    "# Select all Mondays in June where the value is positive\n",
    "june_mondays_positive = df[(df.index.month == 6) & \n",
    "                           (df.index.day_name() == 'Monday') & \n",
    "                           (df['value'] > 0)]\n",
    "june_mondays_positive"
   ]
  },
  {
   "cell_type": "markdown",
   "metadata": {},
   "source": [
    "These indexing and slicing techniques are powerful tools for working with time series data. They allow you to easily select and analyze data for specific time periods or based on particular date and time characteristics.\n"
   ]
  },
  {
   "cell_type": "markdown",
   "metadata": {},
   "source": [
    "Here's a more complex example that combines several concepts:\n"
   ]
  },
  {
   "cell_type": "code",
   "execution_count": 72,
   "metadata": {},
   "outputs": [],
   "source": [
    "# Select the highest value for each month\n",
    "monthly_max = df.resample('ME').max()"
   ]
  },
  {
   "cell_type": "code",
   "execution_count": 73,
   "metadata": {},
   "outputs": [],
   "source": [
    "# Find the day of the week with the highest average value\n",
    "day_of_week_avg = df.groupby(df.index.day_name())['value'].mean().sort_values(ascending=False)"
   ]
  },
  {
   "cell_type": "code",
   "execution_count": 74,
   "metadata": {},
   "outputs": [
    {
     "name": "stdout",
     "output_type": "stream",
     "text": [
      "Monthly maximum values:\n"
     ]
    },
    {
     "data": {
      "text/html": [
       "<div>\n",
       "<style scoped>\n",
       "    .dataframe tbody tr th:only-of-type {\n",
       "        vertical-align: middle;\n",
       "    }\n",
       "\n",
       "    .dataframe tbody tr th {\n",
       "        vertical-align: top;\n",
       "    }\n",
       "\n",
       "    .dataframe thead th {\n",
       "        text-align: right;\n",
       "    }\n",
       "</style>\n",
       "<table border=\"1\" class=\"dataframe\">\n",
       "  <thead>\n",
       "    <tr style=\"text-align: right;\">\n",
       "      <th></th>\n",
       "      <th>value</th>\n",
       "    </tr>\n",
       "  </thead>\n",
       "  <tbody>\n",
       "    <tr>\n",
       "      <th>2023-01-31</th>\n",
       "      <td>1.439510</td>\n",
       "    </tr>\n",
       "    <tr>\n",
       "      <th>2023-02-28</th>\n",
       "      <td>2.179397</td>\n",
       "    </tr>\n",
       "    <tr>\n",
       "      <th>2023-03-31</th>\n",
       "      <td>1.867963</td>\n",
       "    </tr>\n",
       "    <tr>\n",
       "      <th>2023-04-30</th>\n",
       "      <td>1.676344</td>\n",
       "    </tr>\n",
       "    <tr>\n",
       "      <th>2023-05-31</th>\n",
       "      <td>2.246705</td>\n",
       "    </tr>\n",
       "    <tr>\n",
       "      <th>2023-06-30</th>\n",
       "      <td>2.318969</td>\n",
       "    </tr>\n",
       "    <tr>\n",
       "      <th>2023-07-31</th>\n",
       "      <td>1.088492</td>\n",
       "    </tr>\n",
       "    <tr>\n",
       "      <th>2023-08-31</th>\n",
       "      <td>1.138809</td>\n",
       "    </tr>\n",
       "    <tr>\n",
       "      <th>2023-09-30</th>\n",
       "      <td>2.152956</td>\n",
       "    </tr>\n",
       "    <tr>\n",
       "      <th>2023-10-31</th>\n",
       "      <td>3.059004</td>\n",
       "    </tr>\n",
       "    <tr>\n",
       "      <th>2023-11-30</th>\n",
       "      <td>2.084035</td>\n",
       "    </tr>\n",
       "    <tr>\n",
       "      <th>2023-12-31</th>\n",
       "      <td>2.121208</td>\n",
       "    </tr>\n",
       "  </tbody>\n",
       "</table>\n",
       "</div>"
      ],
      "text/plain": [
       "               value\n",
       "2023-01-31  1.439510\n",
       "2023-02-28  2.179397\n",
       "2023-03-31  1.867963\n",
       "2023-04-30  1.676344\n",
       "2023-05-31  2.246705\n",
       "2023-06-30  2.318969\n",
       "2023-07-31  1.088492\n",
       "2023-08-31  1.138809\n",
       "2023-09-30  2.152956\n",
       "2023-10-31  3.059004\n",
       "2023-11-30  2.084035\n",
       "2023-12-31  2.121208"
      ]
     },
     "execution_count": 74,
     "metadata": {},
     "output_type": "execute_result"
    }
   ],
   "source": [
    "print(\"Monthly maximum values:\")\n",
    "monthly_max\n"
   ]
  },
  {
   "cell_type": "code",
   "execution_count": 75,
   "metadata": {},
   "outputs": [
    {
     "name": "stdout",
     "output_type": "stream",
     "text": [
      "\n",
      "Average value by day of week:\n"
     ]
    },
    {
     "data": {
      "text/plain": [
       "Thursday     0.127229\n",
       "Friday       0.042777\n",
       "Sunday       0.002105\n",
       "Saturday    -0.062145\n",
       "Wednesday   -0.070790\n",
       "Monday      -0.088084\n",
       "Tuesday     -0.268439\n",
       "Name: value, dtype: float64"
      ]
     },
     "execution_count": 75,
     "metadata": {},
     "output_type": "execute_result"
    }
   ],
   "source": [
    "print(\"\\nAverage value by day of week:\")\n",
    "day_of_week_avg"
   ]
  },
  {
   "cell_type": "markdown",
   "metadata": {},
   "source": [
    "This example demonstrates how you can combine resampling, grouping, and date component access to perform more complex analyses on your time series data.\n"
   ]
  },
  {
   "cell_type": "markdown",
   "metadata": {},
   "source": [
    "By mastering these datetime indexing and slicing techniques, you'll be able to efficiently navigate and analyze your time series data in Pandas, extracting valuable insights with ease."
   ]
  },
  {
   "cell_type": "markdown",
   "metadata": {},
   "source": [
    "## <a id='toc5_'></a>[Parsing and Formatting Dates](#toc0_)"
   ]
  },
  {
   "cell_type": "markdown",
   "metadata": {},
   "source": [
    "Working with dates in Pandas often involves converting between string representations and datetime objects. This process includes parsing strings into dates and formatting dates back into strings. Mastering these techniques is crucial for data cleaning, integration, and presentation.\n"
   ]
  },
  {
   "cell_type": "markdown",
   "metadata": {},
   "source": [
    "### <a id='toc5_1_'></a>[Parsing Strings to Dates](#toc0_)\n"
   ]
  },
  {
   "cell_type": "markdown",
   "metadata": {},
   "source": [
    "Pandas provides powerful tools for converting string representations of dates into datetime objects. The primary function for this task is `pd.to_datetime()`.\n"
   ]
  },
  {
   "cell_type": "markdown",
   "metadata": {},
   "source": [
    "Let's start with some examples:\n"
   ]
  },
  {
   "cell_type": "code",
   "execution_count": 76,
   "metadata": {},
   "outputs": [
    {
     "data": {
      "text/plain": [
       "Timestamp('2023-06-15 00:00:00')"
      ]
     },
     "execution_count": 76,
     "metadata": {},
     "output_type": "execute_result"
    }
   ],
   "source": [
    "# Basic date parsing\n",
    "date_str = '2023-06-15'\n",
    "pd.to_datetime(date_str)"
   ]
  },
  {
   "cell_type": "markdown",
   "metadata": {},
   "source": [
    "This converts a simple ISO format date string to a Timestamp object. However, `to_datetime()` is much more flexible and can handle various formats:\n"
   ]
  },
  {
   "cell_type": "code",
   "execution_count": 77,
   "metadata": {},
   "outputs": [
    {
     "data": {
      "text/plain": [
       "DatetimeIndex(['2023-06-15', '2023-06-15', '2023-06-15', '2023-06-15'], dtype='datetime64[ns]', freq=None)"
      ]
     },
     "execution_count": 77,
     "metadata": {},
     "output_type": "execute_result"
    }
   ],
   "source": [
    "# Parsing different date formats\n",
    "dates = ['2023-06-15', '15/06/2023', 'June 15, 2023', '20230615']\n",
    "pd.to_datetime(dates, format=\"mixed\")"
   ]
  },
  {
   "cell_type": "markdown",
   "metadata": {},
   "source": [
    "In this case, Pandas automatically infers the format for each date string. However, for ambiguous formats or to ensure correct parsing, you can specify the format explicitly:\n"
   ]
  },
  {
   "cell_type": "code",
   "execution_count": 78,
   "metadata": {},
   "outputs": [
    {
     "data": {
      "text/plain": [
       "Timestamp('2023-06-15 00:00:00')"
      ]
     },
     "execution_count": 78,
     "metadata": {},
     "output_type": "execute_result"
    }
   ],
   "source": [
    "# Specifying format explicitly\n",
    "custom_date = '15-Jun-2023'\n",
    "pd.to_datetime(custom_date, format='%d-%b-%Y')"
   ]
  },
  {
   "cell_type": "markdown",
   "metadata": {},
   "source": [
    "The `format` parameter uses strftime-style codes to specify the input format. Here are some common format codes:\n",
    "- `%Y`: Year with century (e.g., 2023)\n",
    "- `%m`: Month as a zero-padded decimal number (01-12)\n",
    "- `%d`: Day of the month as a zero-padded decimal number (01-31)\n",
    "- `%H`: Hour (00-23)\n",
    "- `%M`: Minute (00-59)\n",
    "- `%S`: Second (00-59)\n",
    "- `%b`: Month as locale's abbreviated name (e.g., Jan, Feb)\n"
   ]
  },
  {
   "cell_type": "markdown",
   "metadata": {},
   "source": [
    "Let's look at a more complex example:\n"
   ]
  },
  {
   "cell_type": "code",
   "execution_count": 79,
   "metadata": {},
   "outputs": [
    {
     "data": {
      "text/plain": [
       "DatetimeIndex(['2023-06-15 14:30:00', '2023-06-16 09:45:30'], dtype='datetime64[ns]', freq=None)"
      ]
     },
     "execution_count": 79,
     "metadata": {},
     "output_type": "execute_result"
    }
   ],
   "source": [
    "# Parsing dates with time\n",
    "datetime_strings = ['2023-06-15 14:30:00', '2023-06-16 09:45:30']\n",
    "pd.to_datetime(datetime_strings)"
   ]
  },
  {
   "cell_type": "markdown",
   "metadata": {},
   "source": [
    "When working with a DataFrame, you can parse an entire column of date strings:\n"
   ]
  },
  {
   "cell_type": "code",
   "execution_count": 80,
   "metadata": {},
   "outputs": [
    {
     "data": {
      "text/html": [
       "<div>\n",
       "<style scoped>\n",
       "    .dataframe tbody tr th:only-of-type {\n",
       "        vertical-align: middle;\n",
       "    }\n",
       "\n",
       "    .dataframe tbody tr th {\n",
       "        vertical-align: top;\n",
       "    }\n",
       "\n",
       "    .dataframe thead th {\n",
       "        text-align: right;\n",
       "    }\n",
       "</style>\n",
       "<table border=\"1\" class=\"dataframe\">\n",
       "  <thead>\n",
       "    <tr style=\"text-align: right;\">\n",
       "      <th></th>\n",
       "      <th>date_string</th>\n",
       "      <th>value</th>\n",
       "      <th>date</th>\n",
       "    </tr>\n",
       "  </thead>\n",
       "  <tbody>\n",
       "    <tr>\n",
       "      <th>0</th>\n",
       "      <td>2023-06-15</td>\n",
       "      <td>10</td>\n",
       "      <td>2023-06-15</td>\n",
       "    </tr>\n",
       "    <tr>\n",
       "      <th>1</th>\n",
       "      <td>2023-06-16</td>\n",
       "      <td>20</td>\n",
       "      <td>2023-06-16</td>\n",
       "    </tr>\n",
       "    <tr>\n",
       "      <th>2</th>\n",
       "      <td>2023-06-17</td>\n",
       "      <td>30</td>\n",
       "      <td>2023-06-17</td>\n",
       "    </tr>\n",
       "  </tbody>\n",
       "</table>\n",
       "</div>"
      ],
      "text/plain": [
       "  date_string  value       date\n",
       "0  2023-06-15     10 2023-06-15\n",
       "1  2023-06-16     20 2023-06-16\n",
       "2  2023-06-17     30 2023-06-17"
      ]
     },
     "execution_count": 80,
     "metadata": {},
     "output_type": "execute_result"
    }
   ],
   "source": [
    "# Create a DataFrame with date strings\n",
    "df = pd.DataFrame({\n",
    "    'date_string': ['2023-06-15', '2023-06-16', '2023-06-17'],\n",
    "    'value': [10, 20, 30]\n",
    "})\n",
    "\n",
    "# Parse the date_string column\n",
    "df['date'] = pd.to_datetime(df['date_string'])\n",
    "df"
   ]
  },
  {
   "cell_type": "markdown",
   "metadata": {},
   "source": [
    "### <a id='toc5_2_'></a>[Formatting Dates as Strings](#toc0_)\n"
   ]
  },
  {
   "cell_type": "markdown",
   "metadata": {},
   "source": [
    "Once you have datetime objects, you might need to convert them back to strings in a specific format. This is often necessary for data presentation or when integrating with other systems that expect dates in a particular string format.\n"
   ]
  },
  {
   "cell_type": "markdown",
   "metadata": {},
   "source": [
    "The primary method for this is the `dt.strftime()` method, which is available on Series containing datetime data.\n"
   ]
  },
  {
   "cell_type": "markdown",
   "metadata": {},
   "source": [
    "Let's start with a simple example:\n"
   ]
  },
  {
   "cell_type": "code",
   "execution_count": 81,
   "metadata": {},
   "outputs": [
    {
     "data": {
      "text/plain": [
       "0    2023-06-15\n",
       "1    2023-06-16\n",
       "2    2023-06-17\n",
       "dtype: object"
      ]
     },
     "execution_count": 81,
     "metadata": {},
     "output_type": "execute_result"
    }
   ],
   "source": [
    "# Create a Series of dates\n",
    "dates = pd.date_range(start='2023-06-15', periods=3)\n",
    "s = pd.Series(dates)\n",
    "\n",
    "# Format dates as strings\n",
    "s.dt.strftime('%Y-%m-%d')"
   ]
  },
  {
   "cell_type": "markdown",
   "metadata": {},
   "source": [
    "You can create more complex date string formats:\n"
   ]
  },
  {
   "cell_type": "code",
   "execution_count": 82,
   "metadata": {},
   "outputs": [
    {
     "data": {
      "text/plain": [
       "0    Thursday, June 15, 2023\n",
       "1      Friday, June 16, 2023\n",
       "2    Saturday, June 17, 2023\n",
       "dtype: object"
      ]
     },
     "execution_count": 82,
     "metadata": {},
     "output_type": "execute_result"
    }
   ],
   "source": [
    "# More complex formatting\n",
    "s.dt.strftime('%A, %B %d, %Y')"
   ]
  },
  {
   "cell_type": "markdown",
   "metadata": {},
   "source": [
    "This creates strings like \"Thursday, June 15, 2023\".\n"
   ]
  },
  {
   "cell_type": "markdown",
   "metadata": {},
   "source": [
    "Here are some additional format codes:\n",
    "- `%A`: Full weekday name\n",
    "- `%B`: Full month name\n",
    "- `%I`: Hour (12-hour clock)\n",
    "- `%p`: Locale's equivalent of AM or PM\n"
   ]
  },
  {
   "cell_type": "markdown",
   "metadata": {},
   "source": [
    "Let's look at an example with a DataFrame:\n"
   ]
  },
  {
   "cell_type": "code",
   "execution_count": 83,
   "metadata": {},
   "outputs": [
    {
     "data": {
      "text/html": [
       "<div>\n",
       "<style scoped>\n",
       "    .dataframe tbody tr th:only-of-type {\n",
       "        vertical-align: middle;\n",
       "    }\n",
       "\n",
       "    .dataframe tbody tr th {\n",
       "        vertical-align: top;\n",
       "    }\n",
       "\n",
       "    .dataframe thead th {\n",
       "        text-align: right;\n",
       "    }\n",
       "</style>\n",
       "<table border=\"1\" class=\"dataframe\">\n",
       "  <thead>\n",
       "    <tr style=\"text-align: right;\">\n",
       "      <th></th>\n",
       "      <th>date</th>\n",
       "      <th>value</th>\n",
       "      <th>formatted_date</th>\n",
       "    </tr>\n",
       "  </thead>\n",
       "  <tbody>\n",
       "    <tr>\n",
       "      <th>0</th>\n",
       "      <td>2023-06-15</td>\n",
       "      <td>10</td>\n",
       "      <td>2023-06-15 00:00:00</td>\n",
       "    </tr>\n",
       "    <tr>\n",
       "      <th>1</th>\n",
       "      <td>2023-06-16</td>\n",
       "      <td>20</td>\n",
       "      <td>2023-06-16 00:00:00</td>\n",
       "    </tr>\n",
       "    <tr>\n",
       "      <th>2</th>\n",
       "      <td>2023-06-17</td>\n",
       "      <td>30</td>\n",
       "      <td>2023-06-17 00:00:00</td>\n",
       "    </tr>\n",
       "  </tbody>\n",
       "</table>\n",
       "</div>"
      ],
      "text/plain": [
       "        date  value       formatted_date\n",
       "0 2023-06-15     10  2023-06-15 00:00:00\n",
       "1 2023-06-16     20  2023-06-16 00:00:00\n",
       "2 2023-06-17     30  2023-06-17 00:00:00"
      ]
     },
     "execution_count": 83,
     "metadata": {},
     "output_type": "execute_result"
    }
   ],
   "source": [
    "# Create a DataFrame with a datetime column\n",
    "df = pd.DataFrame({\n",
    "    'date': pd.date_range(start='2023-06-15', periods=3),\n",
    "    'value': [10, 20, 30]\n",
    "})\n",
    "\n",
    "# Format the date column\n",
    "df['formatted_date'] = df['date'].dt.strftime('%Y-%m-%d %H:%M:%S')\n",
    "df"
   ]
  },
  {
   "cell_type": "markdown",
   "metadata": {},
   "source": [
    "You can also format dates with specific locales:\n"
   ]
  },
  {
   "cell_type": "code",
   "execution_count": 84,
   "metadata": {},
   "outputs": [
    {
     "data": {
      "text/plain": [
       "0    Thursday 15 June 2023\n",
       "1      Friday 16 June 2023\n",
       "2    Saturday 17 June 2023\n",
       "Name: date_fr, dtype: object"
      ]
     },
     "execution_count": 84,
     "metadata": {},
     "output_type": "execute_result"
    }
   ],
   "source": [
    "# Formatting dates in French\n",
    "df['date_fr'] = df['date'].dt.strftime('%A %d %B %Y')\n",
    "df['date_fr']"
   ]
  },
  {
   "cell_type": "markdown",
   "metadata": {},
   "source": [
    "Note that this will still use English names. To get French names, you need to change the locale:\n"
   ]
  },
  {
   "cell_type": "code",
   "execution_count": 85,
   "metadata": {},
   "outputs": [],
   "source": [
    "import locale"
   ]
  },
  {
   "cell_type": "code",
   "execution_count": 86,
   "metadata": {},
   "outputs": [
    {
     "data": {
      "text/plain": [
       "'fr_FR.UTF-8'"
      ]
     },
     "execution_count": 86,
     "metadata": {},
     "output_type": "execute_result"
    }
   ],
   "source": [
    "# Set locale to French\n",
    "locale.setlocale(locale.LC_TIME, 'fr_FR.UTF-8')"
   ]
  },
  {
   "cell_type": "code",
   "execution_count": 87,
   "metadata": {},
   "outputs": [
    {
     "data": {
      "text/plain": [
       "0       Jeudi 15 juin 2023\n",
       "1    Vendredi 16 juin 2023\n",
       "2      Samedi 17 juin 2023\n",
       "Name: date_fr, dtype: object"
      ]
     },
     "execution_count": 87,
     "metadata": {},
     "output_type": "execute_result"
    }
   ],
   "source": [
    "df['date_fr'] = df['date'].dt.strftime('%A %d %B %Y')\n",
    "df['date_fr']"
   ]
  },
  {
   "cell_type": "code",
   "execution_count": 88,
   "metadata": {},
   "outputs": [
    {
     "data": {
      "text/plain": [
       "'en_CA.UTF-8'"
      ]
     },
     "execution_count": 88,
     "metadata": {},
     "output_type": "execute_result"
    }
   ],
   "source": [
    "# Reset locale\n",
    "locale.setlocale(locale.LC_TIME, '')"
   ]
  },
  {
   "cell_type": "code",
   "execution_count": 89,
   "metadata": {},
   "outputs": [
    {
     "data": {
      "text/html": [
       "<div>\n",
       "<style scoped>\n",
       "    .dataframe tbody tr th:only-of-type {\n",
       "        vertical-align: middle;\n",
       "    }\n",
       "\n",
       "    .dataframe tbody tr th {\n",
       "        vertical-align: top;\n",
       "    }\n",
       "\n",
       "    .dataframe thead th {\n",
       "        text-align: right;\n",
       "    }\n",
       "</style>\n",
       "<table border=\"1\" class=\"dataframe\">\n",
       "  <thead>\n",
       "    <tr style=\"text-align: right;\">\n",
       "      <th></th>\n",
       "      <th>date</th>\n",
       "      <th>value</th>\n",
       "      <th>formatted_date</th>\n",
       "      <th>date_fr</th>\n",
       "    </tr>\n",
       "  </thead>\n",
       "  <tbody>\n",
       "    <tr>\n",
       "      <th>0</th>\n",
       "      <td>2023-06-15</td>\n",
       "      <td>10</td>\n",
       "      <td>2023-06-15 00:00:00</td>\n",
       "      <td>Jeudi 15 juin 2023</td>\n",
       "    </tr>\n",
       "    <tr>\n",
       "      <th>1</th>\n",
       "      <td>2023-06-16</td>\n",
       "      <td>20</td>\n",
       "      <td>2023-06-16 00:00:00</td>\n",
       "      <td>Vendredi 16 juin 2023</td>\n",
       "    </tr>\n",
       "    <tr>\n",
       "      <th>2</th>\n",
       "      <td>2023-06-17</td>\n",
       "      <td>30</td>\n",
       "      <td>2023-06-17 00:00:00</td>\n",
       "      <td>Samedi 17 juin 2023</td>\n",
       "    </tr>\n",
       "  </tbody>\n",
       "</table>\n",
       "</div>"
      ],
      "text/plain": [
       "        date  value       formatted_date                date_fr\n",
       "0 2023-06-15     10  2023-06-15 00:00:00     Jeudi 15 juin 2023\n",
       "1 2023-06-16     20  2023-06-16 00:00:00  Vendredi 16 juin 2023\n",
       "2 2023-06-17     30  2023-06-17 00:00:00    Samedi 17 juin 2023"
      ]
     },
     "execution_count": 89,
     "metadata": {},
     "output_type": "execute_result"
    }
   ],
   "source": [
    "df"
   ]
  },
  {
   "cell_type": "markdown",
   "metadata": {},
   "source": [
    "Remember to reset the locale after you're done to avoid affecting other parts of your code.\n"
   ]
  },
  {
   "cell_type": "markdown",
   "metadata": {},
   "source": [
    "Mastering date parsing and formatting is crucial for effective data manipulation and presentation. These techniques allow you to handle various date string formats in your input data and create custom date string representations for your output or analysis needs."
   ]
  },
  {
   "cell_type": "markdown",
   "metadata": {},
   "source": [
    "## <a id='toc6_'></a>[Conclusion](#toc0_)"
   ]
  },
  {
   "cell_type": "markdown",
   "metadata": {},
   "source": [
    "In this lecture, we've explored the fundamental aspects of working with dates and times in Pandas, a crucial skill for any data analyst or scientist dealing with time series data. Let's recap the key points we've covered:\n",
    "\n",
    "1. **Datetime Data Types**: We learned about Timestamp, DatetimeIndex, Timedelta, and TimedeltaIndex. These specialized data types form the backbone of time series functionality in Pandas.\n",
    "\n",
    "2. **Creating Datetime Objects**: We explored various methods to create datetime objects, including `to_datetime()` for parsing strings and `date_range()` for generating sequences of dates. We also learned how to specify frequencies for these date ranges.\n",
    "\n",
    "3. **Date and Time Components**: We discovered how to access and extract individual components of dates and times, such as year, month, day, hour, etc. This allows for detailed analysis and manipulation of time-based data.\n",
    "\n",
    "4. **Datetime Indexing and Slicing**: We covered powerful techniques for selecting data based on dates and times, including partial string indexing and component-based selection. These methods enable efficient data extraction for specific time periods.\n",
    "\n",
    "5. **Parsing and Formatting Dates**: We learned how to convert between string representations and datetime objects, which is essential for data cleaning, integration, and presentation.\n"
   ]
  },
  {
   "cell_type": "markdown",
   "metadata": {},
   "source": [
    "These skills are fundamental to working with time series data in Pandas. They allow you to:\n",
    "\n",
    "- Clean and standardize date and time data from various sources\n",
    "- Perform time-based analysis and aggregations\n",
    "- Create custom date ranges for analysis or reporting\n",
    "- Extract specific time periods or components for detailed study\n",
    "- Present date and time data in desired formats\n"
   ]
  },
  {
   "cell_type": "markdown",
   "metadata": {},
   "source": [
    "As you continue to work with time series data, you'll find these techniques invaluable. They form the foundation for more advanced time series analysis, such as resampling, rolling windows, and time-based joins.\n"
   ]
  },
  {
   "cell_type": "markdown",
   "metadata": {},
   "source": [
    "Remember, practice is key to mastering these concepts. Try applying these techniques to your own datasets or explore public time series datasets to reinforce your learning.\n"
   ]
  },
  {
   "cell_type": "markdown",
   "metadata": {},
   "source": [
    "In the next lectures, we'll build upon these fundamentals to explore more advanced time series functionality in Pandas, including resampling, time zone handling, and period functionality. These advanced topics will further enhance your ability to analyze and manipulate time-based data effectively.\n"
   ]
  },
  {
   "cell_type": "markdown",
   "metadata": {},
   "source": [
    "Keep in mind that working with dates and times can sometimes be tricky, especially when dealing with time zones, daylight saving time, or inconsistent data formats. Always be mindful of the specific requirements of your data and analysis, and don't hesitate to refer back to the Pandas documentation for detailed information on these functions and methods.\n"
   ]
  },
  {
   "cell_type": "markdown",
   "metadata": {},
   "source": [
    "By mastering these datetime manipulation techniques in Pandas, you're well-equipped to tackle a wide range of time series analysis tasks, opening up new possibilities for insights in your data science projects."
   ]
  }
 ],
 "metadata": {
  "kernelspec": {
   "display_name": "py310",
   "language": "python",
   "name": "python3"
  },
  "language_info": {
   "codemirror_mode": {
    "name": "ipython",
    "version": 3
   },
   "file_extension": ".py",
   "mimetype": "text/x-python",
   "name": "python",
   "nbconvert_exporter": "python",
   "pygments_lexer": "ipython3",
   "version": "3.10.12"
  }
 },
 "nbformat": 4,
 "nbformat_minor": 2
}
