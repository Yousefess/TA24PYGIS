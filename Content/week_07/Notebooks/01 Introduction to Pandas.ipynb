{
 "cells": [
  {
   "cell_type": "markdown",
   "metadata": {},
   "source": [
    "# [Introduction to Pandas](#)"
   ]
  },
  {
   "cell_type": "markdown",
   "metadata": {},
   "source": [
    "Pandas is a powerful open-source Python library designed for efficient and intuitive data manipulation and analysis. It provides data structures and functions that make working with structured data simple and expressive. The name \"Pandas\" is derived from the term \"Panel Data,\" which refers to multidimensional structured datasets.\n"
   ]
  },
  {
   "cell_type": "markdown",
   "metadata": {},
   "source": [
    "With Pandas, you can easily handle and manipulate large datasets, clean and preprocess data, merge and join multiple datasets, handle missing data, and perform a wide range of data transformations. Pandas is particularly well-suited for working with tabular data, such as CSV files, Excel spreadsheets, and SQL databases.\n"
   ]
  },
  {
   "cell_type": "markdown",
   "metadata": {},
   "source": [
    "Pandas was created by Wes McKinney in 2008 while he was working at AQR Capital Management. McKinney needed a tool to perform quantitative analysis on financial data, and he found the existing tools in Python to be inadequate. As a result, he developed Pandas to provide a more efficient and user-friendly way to work with data in Python.\n"
   ]
  },
  {
   "cell_type": "markdown",
   "metadata": {},
   "source": [
    "Since its initial release, Pandas has grown to become one of the most popular and widely-used libraries in the Python data science ecosystem. It has a large and active community of developers and users who contribute to its development and provide support through forums, mailing lists, and social media.\n"
   ]
  },
  {
   "cell_type": "markdown",
   "metadata": {},
   "source": [
    "Pandas is built on top of NumPy, which is a library for working with large, multi-dimensional arrays and matrices. Pandas extends the capabilities of NumPy by providing a more flexible and feature-rich data structure called the DataFrame, which allows for the efficient manipulation and analysis of tabular data.\n"
   ]
  },
  {
   "cell_type": "markdown",
   "metadata": {},
   "source": [
    "In addition to NumPy, Pandas integrates well with other popular data science libraries in Python, such as:\n",
    "\n",
    "- **Matplotlib**: A plotting library for creating static, animated, and interactive visualizations.\n",
    "- **Seaborn**: A statistical data visualization library based on Matplotlib.\n",
    "- **Scikit-learn**: A machine learning library that provides tools for data preprocessing, modeling, and evaluation.\n",
    "- **Statsmodels**: A library for statistical modeling and econometrics.\n"
   ]
  },
  {
   "cell_type": "markdown",
   "metadata": {},
   "source": [
    "Pandas also provides seamless integration with other tools in the data science workflow, such as Jupyter Notebook for interactive data exploration and analysis, and libraries like SQLAlchemy for working with databases.\n"
   ]
  },
  {
   "cell_type": "markdown",
   "metadata": {},
   "source": [
    "By leveraging the power of Pandas and its integration with other libraries, data scientists and analysts can efficiently perform a wide range of data processing, analysis, and visualization tasks in Python."
   ]
  },
  {
   "cell_type": "markdown",
   "metadata": {},
   "source": [
    "## [Key Features and Benefits](#)"
   ]
  },
  {
   "cell_type": "markdown",
   "metadata": {},
   "source": [
    "Pandas offers a wide range of features and benefits that make it an essential tool for data manipulation and analysis in Python. Let's explore some of the key features and benefits in more detail.\n"
   ]
  },
  {
   "cell_type": "markdown",
   "metadata": {},
   "source": [
    "### [Data Structures for Efficient Data Manipulation](#)\n"
   ]
  },
  {
   "cell_type": "markdown",
   "metadata": {},
   "source": [
    "Pandas provides two primary data structures: Series and DataFrame, which allow for efficient and flexible data manipulation.\n",
    "\n",
    "- **Series**: A one-dimensional labeled array that can hold any data type, similar to a column in a spreadsheet or a SQL table.\n",
    "- **DataFrame**: A two-dimensional labeled data structure with columns of potentially different data types, similar to a table in a spreadsheet or a SQL database.\n"
   ]
  },
  {
   "cell_type": "markdown",
   "metadata": {},
   "source": [
    "<img src=\"../images/pandas-data-structures.png\" width=\"800\">"
   ]
  },
  {
   "cell_type": "markdown",
   "metadata": {},
   "source": [
    "These data structures are optimized for performance and memory usage, enabling you to work with large datasets efficiently.\n"
   ]
  },
  {
   "cell_type": "markdown",
   "metadata": {},
   "source": [
    "### [Handling Missing Data](#)\n"
   ]
  },
  {
   "cell_type": "markdown",
   "metadata": {},
   "source": [
    "In real-world datasets, missing data is a common occurrence. Pandas provides built-in functions and methods to easily handle missing data, such as:\n",
    "\n",
    "- Detecting missing data using `isnull()` and `notnull()` functions.\n",
    "- Filling missing data with a specified value or using forward/backward filling methods.\n",
    "- Dropping rows or columns with missing data using `dropna()` function.\n"
   ]
  },
  {
   "cell_type": "markdown",
   "metadata": {},
   "source": [
    "<img src=\"../images/missing-values.png\" width=\"800\">"
   ]
  },
  {
   "cell_type": "markdown",
   "metadata": {},
   "source": [
    "These functions allow you to clean and preprocess your data effectively, ensuring data integrity and reliability.\n"
   ]
  },
  {
   "cell_type": "markdown",
   "metadata": {},
   "source": [
    "### [Merging, Joining Datasets and Concatenation](#)\n"
   ]
  },
  {
   "cell_type": "markdown",
   "metadata": {},
   "source": [
    "Pandas provides a range of functions for combining multiple datasets based on common columns or indexes, similar to SQL join operations. Some of the key functions include:\n",
    "\n",
    "- `concat()`: Concatenate pandas objects along a particular axis.\n",
    "- `merge()`: Merge DataFrame or named Series objects with a database-style join.\n",
    "- `join()`: Join columns of another DataFrame.\n"
   ]
  },
  {
   "cell_type": "markdown",
   "metadata": {},
   "source": [
    "<img src=\"../images/concat.png\" width=\"800\">"
   ]
  },
  {
   "cell_type": "markdown",
   "metadata": {},
   "source": [
    "These functions allow you to easily combine data from different sources and perform complex data transformations.\n"
   ]
  },
  {
   "cell_type": "markdown",
   "metadata": {},
   "source": [
    "### [String, Datetime, and Categorical Data Functionality](#)\n"
   ]
  },
  {
   "cell_type": "markdown",
   "metadata": {},
   "source": [
    "Pandas has extensive support for working with string and datetime data, as well as categorical data functionality. Some of the key features include:\n",
    "\n",
    "- String methods for string manipulation, such as `split()`, `replace()`, `lower()`, and `upper()`.\n",
    "- Datetime parsing and formatting using `to_datetime()` function and datetime accessor methods.\n",
    "- Time series functionality, such as date range generation, frequency conversion, and resampling.\n",
    "- Categorical data types for efficient storage and manipulation of categorical variables."
   ]
  },
  {
   "cell_type": "markdown",
   "metadata": {},
   "source": [
    "<img src=\"../images/data-types.png\" width=\"800\">"
   ]
  },
  {
   "cell_type": "markdown",
   "metadata": {},
   "source": [
    "These features make it easy to work with text and time-based data, which are common in many real-world datasets.\n"
   ]
  },
  {
   "cell_type": "markdown",
   "metadata": {},
   "source": [
    "### [Integration with Other Libraries and Tools](#)\n"
   ]
  },
  {
   "cell_type": "markdown",
   "metadata": {},
   "source": [
    "Pandas integrates seamlessly with other popular libraries and tools in the data science ecosystem, such as:\n",
    "\n",
    "- Plotting libraries like Matplotlib and Seaborn for data visualization.\n",
    "- Machine learning libraries like Scikit-learn for data preprocessing and model training.\n",
    "- Statistical modeling libraries like Statsmodels for advanced statistical analysis.\n",
    "- Jupyter Notebook for interactive data exploration and analysis.\n",
    "- Databases like SQLite and PostgreSQL using SQLAlchemy for data storage and retrieval.\n"
   ]
  },
  {
   "cell_type": "markdown",
   "metadata": {},
   "source": [
    "This integration allows you to leverage the power of multiple libraries and tools to perform end-to-end data science tasks efficiently.\n"
   ]
  },
  {
   "cell_type": "markdown",
   "metadata": {},
   "source": [
    "By providing these key features and benefits, Pandas empowers data scientists and analysts to efficiently manipulate, analyze, and gain insights from their data, making it an indispensable tool in the Python data science stack."
   ]
  },
  {
   "cell_type": "markdown",
   "metadata": {},
   "source": [
    "## [Pandas Data Structures](#)"
   ]
  },
  {
   "cell_type": "markdown",
   "metadata": {},
   "source": [
    "Pandas provides two primary data structures: Series and DataFrame, which are designed to make data manipulation and analysis intuitive and efficient. These data structures are built on top of NumPy arrays, leveraging their performance benefits while providing additional functionality and flexibility.\n"
   ]
  },
  {
   "cell_type": "markdown",
   "metadata": {},
   "source": [
    "### [Overview of Series and DataFrame](#)\n"
   ]
  },
  {
   "cell_type": "markdown",
   "metadata": {},
   "source": [
    "- **Series**: A one-dimensional labeled array that can hold any data type, similar to a column in a spreadsheet or a SQL table. It consists of an index and a data column.\n",
    "\n",
    "- **DataFrame**: A two-dimensional labeled data structure with columns of potentially different data types, similar to a table in a spreadsheet or a SQL database. It consists of an index and multiple columns, where each column is a Series.\n"
   ]
  },
  {
   "cell_type": "markdown",
   "metadata": {},
   "source": [
    "Both Series and DataFrame are designed to handle heterogeneous data types, meaning they can contain a mix of integers, floats, strings, and other data types. They also provide a wide range of methods and functions for data manipulation, analysis, and visualization.\n"
   ]
  },
  {
   "cell_type": "markdown",
   "metadata": {},
   "source": [
    "### [Series](#)\n"
   ]
  },
  {
   "cell_type": "markdown",
   "metadata": {},
   "source": [
    "A Series is a one-dimensional array-like object that contains a sequence of values and an associated array of labels called an index. The index provides a way to access and manipulate the data in the Series.\n"
   ]
  },
  {
   "cell_type": "markdown",
   "metadata": {},
   "source": [
    "Some key characteristics of a Series include:\n",
    "\n",
    "- Homogeneous data: All elements in a Series must be of the same data type.\n",
    "- Immutable size: The size of a Series cannot be changed once it is created.\n",
    "- Labeled index: Each element in a Series is associated with a unique label in the index.\n"
   ]
  },
  {
   "cell_type": "markdown",
   "metadata": {},
   "source": [
    "<img src=\"../images/series.png\" width=\"800\">"
   ]
  },
  {
   "cell_type": "markdown",
   "metadata": {},
   "source": [
    "Series are useful for representing a single column of data, such as a list of prices, names, or temperatures. They provide methods for data manipulation, selection, and computation, making it easy to perform operations on the data.\n"
   ]
  },
  {
   "cell_type": "markdown",
   "metadata": {},
   "source": [
    "### [DataFrame](#)\n"
   ]
  },
  {
   "cell_type": "markdown",
   "metadata": {},
   "source": [
    "A DataFrame is a two-dimensional table-like data structure that consists of an ordered collection of columns, each of which can be a different data type. It is similar to a spreadsheet or a SQL table, with rows and columns labeled with an index and column names, respectively.\n"
   ]
  },
  {
   "cell_type": "markdown",
   "metadata": {},
   "source": [
    "Some key characteristics of a DataFrame include:\n",
    "\n",
    "- Heterogeneous data: Each column in a DataFrame can contain a different data type.\n",
    "- Mutable size: The size of a DataFrame can be changed by adding or removing rows and columns.\n",
    "- Labeled axes: Both the rows and columns of a DataFrame have labels, which can be used for data selection and manipulation.\n"
   ]
  },
  {
   "cell_type": "markdown",
   "metadata": {},
   "source": [
    "<img src=\"../images/dataframe.png\" width=\"800\">"
   ]
  },
  {
   "cell_type": "markdown",
   "metadata": {},
   "source": [
    "DataFrames are suitable for representing and manipulating structured data, such as a CSV file or a database table. They provide a wide range of functions and methods for data cleaning, preprocessing, merging, grouping, and aggregation, making it easy to perform complex data transformations and analysis.\n"
   ]
  },
  {
   "cell_type": "markdown",
   "metadata": {},
   "source": [
    "The combination of Series and DataFrame in Pandas provides a powerful and flexible toolkit for working with structured data in Python. They allow you to efficiently load, manipulate, and analyze data from various sources, such as CSV files, Excel spreadsheets, SQL databases, and more.\n"
   ]
  },
  {
   "cell_type": "markdown",
   "metadata": {},
   "source": [
    "## [Getting Started with Pandas](#)"
   ]
  },
  {
   "cell_type": "markdown",
   "metadata": {},
   "source": [
    "To start using Pandas in your Python projects, you need to install the library and import it into your Python environment. In this section, we will cover the installation process, importing Pandas, and some basic usage examples to help you get started.\n"
   ]
  },
  {
   "cell_type": "markdown",
   "metadata": {},
   "source": [
    "## [Installation](#)\n"
   ]
  },
  {
   "cell_type": "markdown",
   "metadata": {},
   "source": [
    "Pandas can be installed using pip, the package installer for Python. To install Pandas, open a terminal or command prompt and run the following command:\n"
   ]
  },
  {
   "cell_type": "markdown",
   "metadata": {},
   "source": [
    "```\n",
    "pip install pandas\n",
    "```\n"
   ]
  },
  {
   "cell_type": "markdown",
   "metadata": {},
   "source": [
    "If you are using Anaconda or Miniconda, you can install Pandas using the conda package manager:\n"
   ]
  },
  {
   "cell_type": "markdown",
   "metadata": {},
   "source": [
    "```\n",
    "conda install pandas\n",
    "```\n"
   ]
  },
  {
   "cell_type": "markdown",
   "metadata": {},
   "source": [
    "Once the installation is complete, you can verify that Pandas is installed correctly by running the following command in your Python environment:\n"
   ]
  },
  {
   "cell_type": "code",
   "execution_count": 1,
   "metadata": {},
   "outputs": [
    {
     "name": "stdout",
     "output_type": "stream",
     "text": [
      "2.0.3\n"
     ]
    }
   ],
   "source": [
    "import pandas as pd\n",
    "print(pd.__version__)"
   ]
  },
  {
   "cell_type": "markdown",
   "metadata": {},
   "source": [
    "If Pandas is installed correctly, this command will print the version number of the installed Pandas library.\n"
   ]
  },
  {
   "cell_type": "markdown",
   "metadata": {},
   "source": [
    "## [Importing Pandas](#)\n"
   ]
  },
  {
   "cell_type": "markdown",
   "metadata": {},
   "source": [
    "To use Pandas in your Python scripts or Jupyter Notebooks, you need to import the library. The convention is to import Pandas using the alias `pd`:\n"
   ]
  },
  {
   "cell_type": "markdown",
   "metadata": {},
   "source": [
    "```python\n",
    "import pandas as pd\n",
    "```\n"
   ]
  },
  {
   "cell_type": "markdown",
   "metadata": {},
   "source": [
    "By importing Pandas with the alias `pd`, you can access all the functions and classes provided by the library using the `pd.` prefix.\n"
   ]
  },
  {
   "cell_type": "markdown",
   "metadata": {},
   "source": [
    "## [Basic Usage Examples](#)\n"
   ]
  },
  {
   "cell_type": "markdown",
   "metadata": {},
   "source": [
    "Let's explore some basic usage examples to demonstrate how to create and manipulate Pandas data structures.\n"
   ]
  },
  {
   "cell_type": "markdown",
   "metadata": {},
   "source": [
    "### [Creating a Series](#)\n"
   ]
  },
  {
   "cell_type": "markdown",
   "metadata": {},
   "source": [
    "To create a Pandas Series, you can pass a list of values to the `pd.Series()` function:\n"
   ]
  },
  {
   "cell_type": "code",
   "execution_count": 2,
   "metadata": {},
   "outputs": [
    {
     "data": {
      "text/plain": [
       "0    1\n",
       "1    2\n",
       "2    3\n",
       "3    4\n",
       "4    5\n",
       "dtype: int64"
      ]
     },
     "execution_count": 2,
     "metadata": {},
     "output_type": "execute_result"
    }
   ],
   "source": [
    "s = pd.Series([1, 2, 3, 4, 5])\n",
    "s"
   ]
  },
  {
   "cell_type": "markdown",
   "metadata": {},
   "source": [
    "By default, Pandas assigns an integer index to each element in the Series, starting from 0.\n"
   ]
  },
  {
   "cell_type": "markdown",
   "metadata": {},
   "source": [
    "### <a id='toc6_2_'></a>[Creating a DataFrame](#toc0_)\n"
   ]
  },
  {
   "cell_type": "markdown",
   "metadata": {},
   "source": [
    "To create a Pandas DataFrame, you can pass a dictionary of lists or a list of dictionaries to the `pd.DataFrame()` function:\n"
   ]
  },
  {
   "cell_type": "code",
   "execution_count": 3,
   "metadata": {},
   "outputs": [
    {
     "data": {
      "text/html": [
       "<div>\n",
       "<style scoped>\n",
       "    .dataframe tbody tr th:only-of-type {\n",
       "        vertical-align: middle;\n",
       "    }\n",
       "\n",
       "    .dataframe tbody tr th {\n",
       "        vertical-align: top;\n",
       "    }\n",
       "\n",
       "    .dataframe thead th {\n",
       "        text-align: right;\n",
       "    }\n",
       "</style>\n",
       "<table border=\"1\" class=\"dataframe\">\n",
       "  <thead>\n",
       "    <tr style=\"text-align: right;\">\n",
       "      <th></th>\n",
       "      <th>name</th>\n",
       "      <th>age</th>\n",
       "      <th>city</th>\n",
       "    </tr>\n",
       "  </thead>\n",
       "  <tbody>\n",
       "    <tr>\n",
       "      <th>0</th>\n",
       "      <td>Alice</td>\n",
       "      <td>25</td>\n",
       "      <td>New York</td>\n",
       "    </tr>\n",
       "    <tr>\n",
       "      <th>1</th>\n",
       "      <td>Bob</td>\n",
       "      <td>30</td>\n",
       "      <td>London</td>\n",
       "    </tr>\n",
       "    <tr>\n",
       "      <th>2</th>\n",
       "      <td>Charlie</td>\n",
       "      <td>35</td>\n",
       "      <td>Paris</td>\n",
       "    </tr>\n",
       "  </tbody>\n",
       "</table>\n",
       "</div>"
      ],
      "text/plain": [
       "      name  age      city\n",
       "0    Alice   25  New York\n",
       "1      Bob   30    London\n",
       "2  Charlie   35     Paris"
      ]
     },
     "execution_count": 3,
     "metadata": {},
     "output_type": "execute_result"
    }
   ],
   "source": [
    "data = {\n",
    "    'name': ['Alice', 'Bob', 'Charlie'],\n",
    "    'age': [25, 30, 35],\n",
    "    'city': ['New York', 'London', 'Paris']\n",
    "}\n",
    "df = pd.DataFrame(data)\n",
    "df"
   ]
  },
  {
   "cell_type": "markdown",
   "metadata": {},
   "source": [
    "Each key in the dictionary becomes a column in the DataFrame, and the corresponding values form the rows.\n"
   ]
  },
  {
   "cell_type": "markdown",
   "metadata": {},
   "source": [
    "### <a id='toc6_3_'></a>[Accessing Data](#toc0_)\n"
   ]
  },
  {
   "cell_type": "markdown",
   "metadata": {},
   "source": [
    "You can access data in a Series or DataFrame using labels or integer indexes:\n"
   ]
  },
  {
   "cell_type": "code",
   "execution_count": 4,
   "metadata": {},
   "outputs": [
    {
     "data": {
      "text/plain": [
       "1"
      ]
     },
     "execution_count": 4,
     "metadata": {},
     "output_type": "execute_result"
    }
   ],
   "source": [
    "# Accessing a Series element by index label\n",
    "s[0]"
   ]
  },
  {
   "cell_type": "code",
   "execution_count": 5,
   "metadata": {},
   "outputs": [
    {
     "data": {
      "text/plain": [
       "0      Alice\n",
       "1        Bob\n",
       "2    Charlie\n",
       "Name: name, dtype: object"
      ]
     },
     "execution_count": 5,
     "metadata": {},
     "output_type": "execute_result"
    }
   ],
   "source": [
    "# Accessing a DataFrame column by column name\n",
    "df['name']"
   ]
  },
  {
   "cell_type": "code",
   "execution_count": 6,
   "metadata": {},
   "outputs": [
    {
     "data": {
      "text/plain": [
       "name       Bob\n",
       "age         30\n",
       "city    London\n",
       "Name: 1, dtype: object"
      ]
     },
     "execution_count": 6,
     "metadata": {},
     "output_type": "execute_result"
    }
   ],
   "source": [
    "# Accessing a DataFrame row by integer index\n",
    "df.iloc[1]"
   ]
  },
  {
   "cell_type": "markdown",
   "metadata": {},
   "source": [
    "These are just a few basic examples to get you started with Pandas. As you explore the library further, you'll discover a wide range of functions and methods for data manipulation, analysis, and visualization.\n"
   ]
  },
  {
   "cell_type": "markdown",
   "metadata": {},
   "source": [
    "Pandas provides extensive documentation and tutorials that cover various aspects of the library. You can refer to the official Pandas documentation (https://pandas.pydata.org/docs/) for more detailed information and examples.\n"
   ]
  },
  {
   "cell_type": "markdown",
   "metadata": {},
   "source": [
    "## <a id='toc7_'></a>[Pandas Datatypes](#toc0_)"
   ]
  },
  {
   "cell_type": "markdown",
   "metadata": {},
   "source": [
    "Pandas supports various datatypes to efficiently store and manipulate different kinds of data. Understanding these datatypes is crucial for effective data analysis and memory management. Here's an overview of the main datatypes in pandas and their purposes:\n"
   ]
  },
  {
   "cell_type": "markdown",
   "metadata": {},
   "source": [
    "<img src=\"../images/pandas-data-types.png\" width=\"800\">"
   ]
  },
  {
   "cell_type": "markdown",
   "metadata": {},
   "source": [
    "1. **Numeric Types**:\n",
    "   - `int64`: 64-bit integer, used for whole numbers without decimals.\n",
    "   - `float64`: 64-bit floating-point number, used for decimal numbers.\n",
    "   - `int32`, `float32`: Similar to above but with smaller memory footprint, useful for large datasets where precision isn't critical.\n"
   ]
  },
  {
   "cell_type": "markdown",
   "metadata": {},
   "source": [
    "2. **String Type**:\n",
    "   - `object`: Default for string data, can hold any Python object but typically used for strings.\n",
    "   - `string`: Dedicated string dtype (more efficient, introduced in newer versions), optimized for string operations.\n"
   ]
  },
  {
   "cell_type": "markdown",
   "metadata": {},
   "source": [
    "3. **Boolean Type**:\n",
    "   - `bool`: Used for True or False values, efficient for logical operations and filtering.\n"
   ]
  },
  {
   "cell_type": "markdown",
   "metadata": {},
   "source": [
    "4. **Datetime Types**:\n",
    "   - `datetime64`: Used for timestamps, enables date-based indexing and time series functionality.\n",
    "   - `timedelta[ns]`: Represents time differences, useful for date arithmetic.\n"
   ]
  },
  {
   "cell_type": "markdown",
   "metadata": {},
   "source": [
    "5. **Categorical Type**:\n",
    "   - `category`: Efficient for data with limited unique values (e.g., low, medium, high), saves memory and speeds up operations on large datasets.\n"
   ]
  },
  {
   "cell_type": "markdown",
   "metadata": {},
   "source": [
    "6. **Object Type**:\n",
    "   - `object`: A catch-all dtype for columns with mixed data types or complex Python objects.\n"
   ]
  },
  {
   "cell_type": "markdown",
   "metadata": {},
   "source": [
    "To check the dtype of a column:\n",
    "\n",
    "```python\n",
    "df['column_name'].dtype\n",
    "```\n"
   ]
  },
  {
   "cell_type": "markdown",
   "metadata": {},
   "source": [
    "To convert a column to a specific dtype:\n",
    "\n",
    "```python\n",
    "df['column_name'] = df['column_name'].astype('int64')\n",
    "```\n"
   ]
  },
  {
   "cell_type": "markdown",
   "metadata": {},
   "source": [
    "Choosing the right datatype can significantly impact the performance and memory usage of your pandas operations. It's good practice to use the most appropriate dtype for each column in your DataFrame, considering the nature of your data and the operations you plan to perform."
   ]
  },
  {
   "cell_type": "markdown",
   "metadata": {},
   "source": [
    "Now that you have Pandas installed and know how to import it and create basic data structures, you're ready to start exploring and analyzing your data using the power and flexibility of Pandas!"
   ]
  }
 ],
 "metadata": {
  "kernelspec": {
   "display_name": "py310",
   "language": "python",
   "name": "python3"
  },
  "language_info": {
   "codemirror_mode": {
    "name": "ipython",
    "version": 3
   },
   "file_extension": ".py",
   "mimetype": "text/x-python",
   "name": "python",
   "nbconvert_exporter": "python",
   "pygments_lexer": "ipython3",
   "version": "3.10.12"
  }
 },
 "nbformat": 4,
 "nbformat_minor": 2
}
