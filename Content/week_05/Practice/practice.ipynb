{
 "cells": [
  {
   "cell_type": "markdown",
   "metadata": {},
   "source": [
    "## <a id='toc7_'></a>[Exercise: Implementing Object Relationships in a Zoological Simulation](#toc0_)"
   ]
  },
  {
   "cell_type": "markdown",
   "metadata": {},
   "source": [
    "In this exercise, you will apply the concepts of association, aggregation, composition, and inheritance to design and implement a simple zoological simulation. Your simulation will include various entities like animals, habitats, and zookeepers, each with their own relationships and behaviors.\n"
   ]
  },
  {
   "cell_type": "markdown",
   "metadata": {},
   "source": [
    "**Scenario:**\n",
    "You are tasked with developing a small system for a zoo that simulates the relationships between different entities in the zoo. Here are the elements you'll need to work with:\n",
    "\n",
    "- **Zookeepers** who care for the animals.\n",
    "- **Animals** of different species.\n",
    "- **Habitats** where animals live.\n",
    "- **Tools** that zookeepers use to care for animals.\n"
   ]
  },
  {
   "cell_type": "markdown",
   "metadata": {},
   "source": [
    "**Tasks:**\n",
    "\n",
    "1. **Association: Zookeeper and Tools**\n",
    "   - Model the relationship between a Zookeeper and their Tools (e.g., broom, food bucket). \n",
    "   - Demonstrate how a zookeeper can use different tools, but tools can be used by different zookeepers as well.\n",
    "\n",
    "2. **Aggregation: Habitat and Animals**\n",
    "   - Implement the \"Whole-Part\" relationship between a Habitat and the Animals that live in it.\n",
    "   - Show how animals can be moved between habitats without being tightly coupled to a specific habitat.\n",
    "\n",
    "3. **Composition: Zoo and Habitats**\n",
    "   - Design the strong \"Whole-Part\" relationship between the Zoo and its Habitats.\n",
    "   - Ensure that when a Zoo is shut down, all associated Habitat objects are also removed.\n",
    "\n",
    "4. **Inheritance: Species and Animals**\n",
    "   - Use inheritance to model the relationship between different species (e.g., Lion, Penguin) and the base class Animal.\n",
    "   - Implement common behaviors in the Animal class and specific behaviors in the derived species classes.\n",
    "\n",
    "5. **Practical Application: Decision Making**\n",
    "   - Given a new feature \"Veterinary Care Records,\" decide whether it should be implemented using association, aggregation, composition, or inheritance with respect to the Animals or Zookeeper class.\n",
    "   - Justify your decision.\n",
    "\n",
    "6. **Designing with Object Relationships**\n",
    "   - Discuss the best practices for implementing the relationships between the various entities in your zoo simulation.\n",
    "   - Highlight potential pitfalls to avoid in the design of your simulation.\n"
   ]
  },
  {
   "cell_type": "markdown",
   "metadata": {},
   "source": [
    "**Deliverables:**\n",
    "\n",
    "- Implement classes with methods in your favorite programming language or pseudocode.\n",
    "- Code snippets that demonstrate each OOP relationship, with clear comments explaining the relationships between objects.\n",
    "- A brief explanation in comments for the decision made in Task 5 about implementing \"Veterinary Care Records.\"\n",
    "- Comments discussing the best practices for implementing OOP relationships and potential pitfalls to avoid.\n"
   ]
  },
  {
   "cell_type": "markdown",
   "metadata": {},
   "source": [
    "Through this exercise, you will practice designing a system using OOP principles and making decisions about the types of relationships to implement. This will help you understand the importance of choosing the right relationship for the right scenario, leading to a more robust and maintainable codebase."
   ]
  },
  {
   "cell_type": "markdown",
   "metadata": {},
   "source": [
    "### <a id='toc7_1_'></a>[Solution](#toc0_)"
   ]
  },
  {
   "cell_type": "markdown",
   "metadata": {},
   "source": [
    "Let's create a Python solution for the Zoological Park Management System, illustrating the use of association, aggregation, composition, and inheritance."
   ]
  },
  {
   "cell_type": "code",
   "execution_count": null,
   "metadata": {},
   "outputs": [
    {
     "name": "stdout",
     "output_type": "stream",
     "text": [
      "Jane is now \n",
      "Using the tool: broom\n",
      "Alex roars loudly!\n",
      "Marty swims gracefully.\n",
      "Leo the Lion has a care record for: Annual vaccination.\n"
     ]
    }
   ],
   "source": [
    "# Task 1: Association - Zookeeper and Tools\n",
    "class Tool:\n",
    "    def __init__(self, name):\n",
    "        self.name = name\n",
    "\n",
    "    def use(self):\n",
    "        print(f\"Using the tool: {self.name}\")\n",
    "\n",
    "class Zookeeper:\n",
    "    def __init__(self, name):\n",
    "        self.name = name\n",
    "\n",
    "    def use_tool(self, tool):\n",
    "        print(f\"{self.name} is now \")\n",
    "        tool.use()\n",
    "\n",
    "# Task 2: Aggregation - Habitat and Animals\n",
    "class Animal:\n",
    "    def __init__(self, name):\n",
    "        self.name = name\n",
    "\n",
    "class Habitat:\n",
    "    def __init__(self):\n",
    "        self.animals = []\n",
    "\n",
    "    def add_animal(self, animal):\n",
    "        self.animals.append(animal)\n",
    "\n",
    "    def remove_animal(self, animal):\n",
    "        self.animals.remove(animal)\n",
    "\n",
    "# Task 3: Composition - Zoo and Habitats\n",
    "class Zoo:\n",
    "    def __init__(self):\n",
    "        self.habitats = []\n",
    "\n",
    "    def add_habitat(self, habitat):\n",
    "        self.habitats.append(habitat)\n",
    "\n",
    "    def __del__(self):\n",
    "        print(\"Closing the zoo and removing all habitats.\")\n",
    "        del self.habitats\n",
    "\n",
    "# Task 4: Inheritance - Species and Animals\n",
    "class Lion(Animal):\n",
    "    def roar(self):\n",
    "        print(f\"{self.name} roars loudly!\")\n",
    "\n",
    "class Penguin(Animal):\n",
    "    def swim(self):\n",
    "        print(f\"{self.name} swims gracefully.\")\n",
    "\n",
    "# Task 5: Practical Application - Decision Making\n",
    "# Assuming a veterinary care record is specific to each animal and doesn't make sense without an animal\n",
    "# Association is chosen because a care record should not solely exist within the scope of an animal or a zookeeper\n",
    "class VeterinaryCareRecord:\n",
    "    def __init__(self, animal, description):\n",
    "        self.animal = animal\n",
    "        self.description = description\n",
    "\n",
    "# Demonstration of the code\n",
    "# Task 1\n",
    "broom = Tool(\"broom\")\n",
    "zookeeper_jane = Zookeeper(\"Jane\")\n",
    "zookeeper_jane.use_tool(broom)\n",
    "\n",
    "# Task 2\n",
    "lion_habitat = Habitat()\n",
    "zebra_habitat = Habitat()\n",
    "leo = Animal(\"Leo the Lion\")\n",
    "lion_habitat.add_animal(leo)\n",
    "# Later, Leo is moved to a different habitat\n",
    "lion_habitat.remove_animal(leo)\n",
    "zebra_habitat.add_animal(leo)\n",
    "\n",
    "# Task 4\n",
    "alex = Lion(\"Alex\")\n",
    "marty = Penguin(\"Marty\")\n",
    "alex.roar()\n",
    "marty.swim()\n",
    "\n",
    "# Task 5\n",
    "leo_care_record = VeterinaryCareRecord(leo, \"Annual vaccination.\")\n",
    "print(f\"{leo_care_record.animal.name} has a care record for: {leo_care_record.description}\")\n",
    "\n",
    "# Comments for Task 6 are included inline with the code above."
   ]
  },
  {
   "cell_type": "markdown",
   "metadata": {},
   "source": [
    "In this code, we have implemented a simple version of the system described in the exercise. The use of comments is essential for explaining the relationships and decisions made, which is particularly important given the instructional context of the exercise.\n"
   ]
  },
  {
   "cell_type": "markdown",
   "metadata": {},
   "source": [
    "Each task is demonstrated with a snippet of code that can be run to see the relationships in action. The `VeterinaryCareRecord` class at the end exemplifies the decision-making process for the practical application of association, as care records are related to but independent of both the `Animal` and `Zookeeper` classes."
   ]
  },
  {
   "cell_type": "markdown",
   "metadata": {},
   "source": [
    "## <a id='toc3_'></a>[Exercise: Polymorphism and Dynamic Typing in Python](#toc0_)"
   ]
  },
  {
   "cell_type": "markdown",
   "metadata": {},
   "source": [
    "In this exercise, you will utilize the concepts of polymorphism and dynamic typing to create a simple Python program that handles different types of document files. You will create classes that represent different document types and demonstrate how they can be used interchangeably through a common interface.\n"
   ]
  },
  {
   "cell_type": "markdown",
   "metadata": {},
   "source": [
    "**Scenario:**\n",
    "Imagine you are working on a software tool that handles various document types such as PDFs, Word documents, and Spreadsheets. Each document can be displayed on the screen, but the method of display may vary depending on the document type.\n"
   ]
  },
  {
   "cell_type": "markdown",
   "metadata": {},
   "source": [
    "**Tasks:**\n",
    "\n",
    "1. **Implement a Superclass and Subclasses**:\n",
    "   - Create a superclass called `Document` with a method `display()`. This method should simply print \"Displaying a document.\" as a placeholder.\n",
    "   - Create three subclasses of `Document`: `PDF`, `Word`, and `Spreadsheet`. Each subclass should override the `display()` method with a print statement specific to the document type (e.g., \"Displaying PDF document.\").\n",
    "\n",
    "2. **Demonstrate Polymorphism**:\n",
    "   - Create a function called `display_document` that takes a `Document` object as a parameter and calls its `display()` method.\n",
    "   - Instantiate objects of `PDF`, `Word`, and `Spreadsheet` classes and store them in a list.\n",
    "   - Loop through the list and pass each document object to the `display_document` function to demonstrate polymorphism.\n",
    "\n",
    "3. **Explore Dynamic Typing**:\n",
    "   - Write a function called `change_document_type` that takes a `Document` object and a new class type (e.g., `PDF`, `Word`, or `Spreadsheet`) and returns a new instance of the specified class type.\n",
    "   - Create an instance of one document type and then use `change_document_type` to create a new instance of a different type. Use `display()` to show that the document has changed type.\n",
    "\n",
    "4. **Reflection**:\n",
    "   - Reflect on the use of polymorphism and dynamic typing in the code. Consider how these concepts contribute to the flexibility and scalability of your application.\n"
   ]
  },
  {
   "cell_type": "markdown",
   "metadata": {},
   "source": [
    "This exercise will help you practice object-oriented programming principles, specifically polymorphism and dynamic typing, to see how they allow for more generic and flexible code structures. Remember to test your code to ensure it works as expected and reflects the principles you've learned."
   ]
  },
  {
   "cell_type": "markdown",
   "metadata": {},
   "source": [
    "### <a id='toc3_1_'></a>[Solution](#toc0_)"
   ]
  },
  {
   "cell_type": "markdown",
   "metadata": {},
   "source": [
    "Here is a complete solution to the exercise that demonstrates polymorphism and dynamic typing in Python:"
   ]
  },
  {
   "cell_type": "code",
   "execution_count": null,
   "metadata": {},
   "outputs": [
    {
     "name": "stdout",
     "output_type": "stream",
     "text": [
      "Displaying PDF document.\n",
      "Displaying Word document.\n",
      "Displaying Spreadsheet document.\n",
      "Displaying Word document.\n",
      "Displaying PDF document.\n"
     ]
    }
   ],
   "source": [
    "# Superclass\n",
    "class Document:\n",
    "    def display(self):\n",
    "        print(\"Displaying a document.\")\n",
    "\n",
    "# Subclasses\n",
    "class PDF(Document):\n",
    "    def display(self):\n",
    "        print(\"Displaying PDF document.\")\n",
    "\n",
    "class Word(Document):\n",
    "    def display(self):\n",
    "        print(\"Displaying Word document.\")\n",
    "\n",
    "class Spreadsheet(Document):\n",
    "    def display(self):\n",
    "        print(\"Displaying Spreadsheet document.\")\n",
    "\n",
    "# Task 2: Demonstrate Polymorphism\n",
    "def display_document(document):\n",
    "    document.display()\n",
    "\n",
    "# Create instances of each document type\n",
    "pdf = PDF()\n",
    "word = Word()\n",
    "spreadsheet = Spreadsheet()\n",
    "\n",
    "# Store the document instances in a list\n",
    "documents = [pdf, word, spreadsheet]\n",
    "\n",
    "# Loop through the list and display each document\n",
    "for document in documents:\n",
    "    display_document(document)\n",
    "\n",
    "# Task 3: Explore Dynamic Typing\n",
    "def change_document_type(document, new_type):\n",
    "    # Create a new instance of the specified type\n",
    "    return new_type()\n",
    "\n",
    "# Initially, create a Word document\n",
    "current_document = Word()\n",
    "current_document.display()  # Should print \"Displaying Word document.\"\n",
    "\n",
    "# Change the document type to PDF\n",
    "current_document = change_document_type(current_document, PDF)\n",
    "current_document.display()  # Should print \"Displaying PDF document.\"\n",
    "\n",
    "# Reflection (Task 4):\n",
    "# Polymorphism allows the `display_document` function to call the `display` method on any object that is a subclass of Document.\n",
    "# This means that the function can work with an object of any derived class without needing to know its specific type.\n",
    "# Dynamic typing enables changing the type of `current_document` at runtime, allowing for flexible and easily changeable code.\n",
    "\n",
    "# The code above provides a simple demonstration of these concepts. In more complex systems, these features can greatly\n",
    "# enhance the ability to extend and maintain the software. However, it's also important to use these features judiciously\n",
    "# to avoid confusion and ensure type safety in your applications."
   ]
  },
  {
   "cell_type": "markdown",
   "metadata": {},
   "source": [
    "By running the code above, you will observe how polymorphism enables the `display_document` function to operate on any subclass of `Document` without knowing the specific type of document it's working with. Additionally, you'll see dynamic typing in action as the `current_document` changes its type from `Word` to `PDF`. The reflection comments provide a brief overview of the advantages of using these concepts in your code."
   ]
  },
  {
   "cell_type": "markdown",
   "metadata": {},
   "source": [
    "## [Practical Examples: Modifying Access to Class Members](#)"
   ]
  },
  {
   "cell_type": "markdown",
   "metadata": {},
   "source": [
    "The use of access modifiers to control visibility and accessibility of class members is central to object-oriented programming (OOP). Through a simple class example, we can illustrate how public, protected, and private members contribute to a well-structured and secure codebase.\n"
   ]
  },
  {
   "cell_type": "markdown",
   "metadata": {},
   "source": [
    "### [A Simple Class Example: A Blog Post System](#)\n"
   ]
  },
  {
   "cell_type": "markdown",
   "metadata": {},
   "source": [
    "Consider a class `BlogPost` that represents a blog post in a content management system. It includes attributes for the post's title, content, and status (published or draft), along with methods to edit the content and publish the post.\n"
   ]
  },
  {
   "cell_type": "code",
   "execution_count": 1,
   "metadata": {},
   "outputs": [],
   "source": [
    "class BlogPost:\n",
    "    def __init__(self, title, content):\n",
    "        self.title = title  # Public attribute\n",
    "        self._content = content  # Protected attribute\n",
    "        self.__status = \"draft\"  # Private attribute\n",
    "\n",
    "    def edit_content(self, new_content):  # Public method\n",
    "        self._content = new_content\n",
    "        print(\"The content has been updated.\")\n",
    "\n",
    "    def __publish(self):  # Private method\n",
    "        self.__status = \"published\"\n",
    "        print(\"The post has been published.\")\n",
    "\n",
    "    def make_public(self):  # Public method\n",
    "        if self.__can_publish():\n",
    "            self.__publish()\n",
    "        else:\n",
    "            print(\"Cannot publish the post.\")\n",
    "\n",
    "    def __can_publish(self):  # Private method\n",
    "        return len(self._content) > 100  # Example condition for publishing"
   ]
  },
  {
   "cell_type": "code",
   "execution_count": 2,
   "metadata": {},
   "outputs": [],
   "source": [
    "# Creating an instance of BlogPost\n",
    "my_post = BlogPost(\"My First Post\", \"This is the initial content of the post.\")"
   ]
  },
  {
   "cell_type": "markdown",
   "metadata": {},
   "source": [
    "In `BlogPost`, the attribute `title` is public, meaning it can be accessed and modified directly. The `_content` attribute is protected, indicating it should not be accessed outside of `BlogPost` or its subclasses, except for valid reasons such as content updates via designated methods (`edit_content`). The `__status` attribute and the `__publish` method are private, tightly controlling the publishing process to ensure that posts can only be published through the proper workflow (`make_public`).\n"
   ]
  },
  {
   "cell_type": "markdown",
   "metadata": {},
   "source": [
    "**Impact of Different Access Levels on Usability and Security**:\n",
    "\n",
    "- **Public Members**: Easily accessible, these members facilitate interaction with the class. However, unrestricted access may lead to accidental misuse or manipulation.\n",
    "- **Protected Members**: They signal that these members are intended for internal use within the class or subclass hierarchy, protecting them from external interference while still allowing flexibility for subclass modifications.\n",
    "- **Private Members**: These provide the highest level of security by restricting access to the class's internal logic, ensuring that sensitive operations and data are safeguarded from external manipulation.\n"
   ]
  },
  {
   "cell_type": "markdown",
   "metadata": {},
   "source": [
    "### [Choosing the Appropriate Access Level](#)\n"
   ]
  },
  {
   "cell_type": "markdown",
   "metadata": {},
   "source": [
    "The principle of least privilege dictates that class members should only expose the minimal necessary access level for their intended function. This approach minimizes potential points of failure or security breaches by:\n",
    "- Protecting the class's internal state from unwanted changes.\n",
    "- Encapsulating complex logic that shouldn't be exposed.\n",
    "- Preserving the integrity of critical operations like publishing in the `BlogPost` class.\n"
   ]
  },
  {
   "cell_type": "markdown",
   "metadata": {},
   "source": [
    "### [Advantages of Using Access Modifiers](#)\n"
   ]
  },
  {
   "cell_type": "markdown",
   "metadata": {},
   "source": [
    "Employing access modifiers to enforce encapsulation in Python brings several benefits to software design and architecture:\n",
    "\n",
    "- **Better Software Design and Architecture**: By clearly delineating which parts of a class are available for use and which are restricted, developers can create a predictable and coherent interface for each class.\n",
    "- **Promoting Safe Usage of Class Members**: Access modifiers guide developers on how to interact with a class, ensuring that only intended operations are performed, thus reducing the risk of unintended side effects.\n",
    "- **Preventing Accidental Modification of Internal State**: By restricting access to sensitive class members, the integrity of an object's internal state is preserved, maintaining data consistency and reliability.\n"
   ]
  },
  {
   "cell_type": "markdown",
   "metadata": {},
   "source": [
    "In summary, the thoughtful application of access modifiers shapes the backbone of secure, maintainable, and robust OOP designs. By leveraging public, protected, and private access levels appropriately, developers can craft classes that encapsulate complexity, safeguard their internal state, and expose only what is necessary for the outside world, aligning with the principles of effective software engineering."
   ]
  }
 ],
 "metadata": {
  "kernelspec": {
   "display_name": "base",
   "language": "python",
   "name": "python3"
  },
  "language_info": {
   "codemirror_mode": {
    "name": "ipython",
    "version": 3
   },
   "file_extension": ".py",
   "mimetype": "text/x-python",
   "name": "python",
   "nbconvert_exporter": "python",
   "pygments_lexer": "ipython3",
   "version": "3.10.13"
  }
 },
 "nbformat": 4,
 "nbformat_minor": 2
}
