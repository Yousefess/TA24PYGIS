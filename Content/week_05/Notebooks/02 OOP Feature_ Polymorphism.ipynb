{
 "cells": [
  {
   "cell_type": "markdown",
   "metadata": {},
   "source": [
    "# <h1 style=\"color:red\">Polymorphism and Inheritance</h1>"
   ]
  },
  {
   "cell_type": "markdown",
   "metadata": {},
   "source": [
    "Polymorphism, from the Greek words \"poly\" (many) and \"morph\" (form), is a concept in object-oriented programming (OOP) that allows objects of different classes to be treated as objects of a common super class. It is a core principle that enables Python developers to write functions and implement features that are applicable to a wide variety of class objects, enhancing flexibility and scalability in software designs.\n"
   ]
  },
  {
   "cell_type": "markdown",
   "metadata": {},
   "source": [
    "In Python, polymorphism manifests itself in several ways, reflecting the language's dynamic and flexible nature. At its core, polymorphism allows for the expression of a single interface for entities of different types. This is best illustrated through two primary aspects:\n",
    "\n",
    "1. **Method Overriding**: This occurs in the context of inheritance, where a method in a subclass has the same name, and parameters as a method in its superclass, but the implementation differs. This characteristic of polymorphism allows a subclass to customize or completely replace the behavior of a method defined in its superclass.\n",
    "\n",
    "2. **Duck Typing**: Python is known for its \"duck typing\" philosophy, encapsulated in the saying, \"If it looks like a duck and quacks like a duck, it's a duck.\" This means that the suitability of an object for a particular operation is determined by the presence of certain methods and properties, rather than the object's type itself being of primary concern. This trait allows for a more flexible and intuitive way to apply polymorphism.\n"
   ]
  },
  {
   "cell_type": "markdown",
   "metadata": {},
   "source": [
    "Consider a simple example to demonstrate polymorphism in action—one that involves different types of vehicles, similar to our previous discussions about inheritance.\n"
   ]
  },
  {
   "cell_type": "markdown",
   "metadata": {},
   "source": [
    "Imagine we have a base class named `Vehicle` with a method called `display_info()` that prints general information about the vehicle. We then have several subclasses, such as `Car` and `Motorcycle`, each with their own implementation of the `display_info()` method:"
   ]
  },
  {
   "cell_type": "code",
   "execution_count": 1,
   "metadata": {},
   "outputs": [],
   "source": [
    "class Vehicle:\n",
    "    def display_info(self):\n",
    "        print(\"This is a vehicle\")\n",
    "\n",
    "class Car(Vehicle):\n",
    "    def display_info(self):\n",
    "        print(\"This is a car\")\n",
    "\n",
    "class Motorcycle(Vehicle):\n",
    "    def display_info(self):\n",
    "        print(\"This is a motorcycle\")"
   ]
  },
  {
   "cell_type": "code",
   "execution_count": 2,
   "metadata": {},
   "outputs": [],
   "source": [
    "# Function that takes any vehicle and calls its display_info method\n",
    "def vehicle_info(vehicle):\n",
    "    vehicle.display_info()"
   ]
  },
  {
   "cell_type": "code",
   "execution_count": 3,
   "metadata": {},
   "outputs": [],
   "source": [
    "# Create instances\n",
    "car = Car()\n",
    "motorcycle = Motorcycle()"
   ]
  },
  {
   "cell_type": "code",
   "execution_count": 4,
   "metadata": {},
   "outputs": [
    {
     "name": "stdout",
     "output_type": "stream",
     "text": [
      "This is a car\n"
     ]
    }
   ],
   "source": [
    "# Demonstrating polymorphism\n",
    "vehicle_info(car)"
   ]
  },
  {
   "cell_type": "code",
   "execution_count": 5,
   "metadata": {},
   "outputs": [
    {
     "name": "stdout",
     "output_type": "stream",
     "text": [
      "This is a motorcycle\n"
     ]
    }
   ],
   "source": [
    "vehicle_info(motorcycle)"
   ]
  },
  {
   "cell_type": "markdown",
   "metadata": {},
   "source": [
    "In this example, the `vehicle_info` function demonstrates polymorphism by interacting with any object that has a `display_info` method, regardless of its specific class. This means that the function is designed to work with a generic `Vehicle` type but can dynamically adapt to the specific type of vehicle it encounters, thanks to the polymorphic nature of Python.\n"
   ]
  },
  {
   "cell_type": "markdown",
   "metadata": {},
   "source": [
    "Polymorphism is crucial in Python for creating flexible and reusable code. It allows developers to design functions and methods that can operate on objects of different types, provided they share a certain interface. This capability is particularly valuable in large and complex software systems, where maintainability, scalability, and readability are paramount. By embracing polymorphism, Python developers can write less code, reduce duplication, and ensure their applications are easy to extend and adapt to new requirements."
   ]
  },
  {
   "cell_type": "markdown",
   "metadata": {},
   "source": [
    "## [Implementing Polymorphism in Inheritance](#)"
   ]
  },
  {
   "cell_type": "markdown",
   "metadata": {},
   "source": [
    "Polymorphism, when combined with inheritance, opens up a multitude of possibilities in object-oriented programming (OOP) by allowing subclasses to have different implementations of methods that are defined in their superclass. This not only enhances flexibility but also promotes a more logical and hierarchical structure in code design. In this section, we will dive into how polymorphism is implemented in Python through inheritance, providing versatility and power to your programming concepts.\n"
   ]
  },
  {
   "cell_type": "markdown",
   "metadata": {},
   "source": [
    "One of the central tenets of implementing polymorphism in inheritance is through the concept of method overriding. Method overriding allows a subclass to provide a specific implementation of a method that is already defined in its superclass. This means that the subclass can redefine how the method works, tailoring it to fit its unique requirements, while still maintaining the same method signature.\n"
   ]
  },
  {
   "cell_type": "markdown",
   "metadata": {},
   "source": [
    "Consider a scenario where you are building a software system for an animal shelter. You might start with a base class `Animal` that contains a method `speak()`. The default behavior might be quite simple, but certainly, different animals will have different sounds:\n"
   ]
  },
  {
   "cell_type": "code",
   "execution_count": 6,
   "metadata": {},
   "outputs": [],
   "source": [
    "class Animal:\n",
    "    def speak(self):\n",
    "        return \"This animal does not have a sound\"\n",
    "\n",
    "class Dog(Animal):\n",
    "    def speak(self):\n",
    "        return \"Woof!\"\n",
    "\n",
    "class Cat(Animal):\n",
    "    def speak(self):\n",
    "        return \"Meow\""
   ]
  },
  {
   "cell_type": "code",
   "execution_count": 7,
   "metadata": {},
   "outputs": [],
   "source": [
    "# Instantiate objects\n",
    "dog = Dog()\n",
    "cat = Cat()"
   ]
  },
  {
   "cell_type": "code",
   "execution_count": 8,
   "metadata": {},
   "outputs": [
    {
     "data": {
      "text/plain": [
       "'Woof!'"
      ]
     },
     "execution_count": 8,
     "metadata": {},
     "output_type": "execute_result"
    }
   ],
   "source": [
    "# Utilizing polymorphism\n",
    "dog.speak()"
   ]
  },
  {
   "cell_type": "code",
   "execution_count": 9,
   "metadata": {},
   "outputs": [
    {
     "data": {
      "text/plain": [
       "'Meow'"
      ]
     },
     "execution_count": 9,
     "metadata": {},
     "output_type": "execute_result"
    }
   ],
   "source": [
    "cat.speak()"
   ]
  },
  {
   "cell_type": "markdown",
   "metadata": {},
   "source": [
    "In this example, both `Dog` and `Cat` classes override the `speak()` method of their superclass `Animal`, providing their specific implementations that reflect their unique sounds. This overriding is a clear demonstration of polymorphism, as the method's behavior changes depending on which subclass is invoking it.\n"
   ]
  },
  {
   "cell_type": "markdown",
   "metadata": {},
   "source": [
    "Polymorphism allows for writing code that operates on superclass references but can execute methods specific to subclasses, leading to more flexible and dynamically adaptable code. \n"
   ]
  },
  {
   "cell_type": "markdown",
   "metadata": {},
   "source": [
    "Consider the following example where we have a list of `Animal` objects, and we call the `speak()` method on each, not needing to know the specific type of Animal at runtime:\n"
   ]
  },
  {
   "cell_type": "code",
   "execution_count": 10,
   "metadata": {},
   "outputs": [],
   "source": [
    "# List of animal objects\n",
    "animals = [Dog(), Cat()]"
   ]
  },
  {
   "cell_type": "code",
   "execution_count": 11,
   "metadata": {},
   "outputs": [
    {
     "name": "stdout",
     "output_type": "stream",
     "text": [
      "Woof!\n",
      "Meow\n"
     ]
    }
   ],
   "source": [
    "for animal in animals:\n",
    "    print(animal.speak())"
   ]
  },
  {
   "cell_type": "markdown",
   "metadata": {},
   "source": [
    "This design pattern becomes especially powerful in larger applications, where functions or methods might need to operate on a diverse set of objects without knowing their exact class types beforehand. It allows developers to add new classes that conform to the expected interface (in this case, having a `speak` method) without modifying the functions that operate on them.\n"
   ]
  },
  {
   "cell_type": "markdown",
   "metadata": {},
   "source": [
    "Polymorphism through inheritance is not just a tool for overriding methods; it is also a cornerstone in many design patterns. It allows for the design of flexible interfaces and the implementation of behaviors that can vary at runtime, depending on the object's class. Design patterns like the Strategy pattern, Factory pattern, and Observer pattern heavily rely on polymorphism to achieve their flexible and dynamic nature.\n"
   ]
  },
  {
   "cell_type": "markdown",
   "metadata": {},
   "source": [
    "To sum up, implementing polymorphism in inheritance is a critical skill in Python programming, enhancing the adaptability and scalability of applications. Through method overriding and the dynamic nature of Python, you can create robust systems that are easily extendible and maintainable, following best practices and design principles that lie at the heart of object-oriented programming."
   ]
  },
  {
   "cell_type": "markdown",
   "metadata": {},
   "source": [
    "## [Dynamic Typing and Polymorphic Behavior](#)"
   ]
  },
  {
   "cell_type": "markdown",
   "metadata": {},
   "source": [
    "Dynamic typing and polymorphism are two cornerstone concepts in Python that significantly contribute to the language's flexibility and ease of use. These concepts allow developers to write more general, reusable code that can operate on objects of multiple types, enhancing the language's capability to handle a wide variety of programming paradigms efficiently.\n"
   ]
  },
  {
   "cell_type": "markdown",
   "metadata": {},
   "source": [
    "Dynamic typing refers to Python's approach to variable types. In Python, variables do not have a fixed type; instead, the type is associated with the object to which the variable currently refers, and this association can change over time as a variable is reassigned to objects of different types. This flexibility is a double-edged sword—it allows for rapid development and ease of use but requires careful attention to manage type-related errors.\n"
   ]
  },
  {
   "cell_type": "markdown",
   "metadata": {},
   "source": [
    "Polymorphic behavior in Python leverages dynamic typing by allowing functions and methods to operate on objects of various types without the need for the code to explicitly check or enforce type compatibility. This is possible because of Python's adherence to the \"duck typing\" principle—if an object behaves like a duck (exhibits the expected behavior/methods), Python treats it as a duck, regardless of its underlying type.\n"
   ]
  },
  {
   "cell_type": "markdown",
   "metadata": {},
   "source": [
    "### [Dynamic Typing in Action](#)\n"
   ]
  },
  {
   "cell_type": "markdown",
   "metadata": {},
   "source": [
    "Consider a simple function that takes an argument and attempts to execute a common operation, like fetching an item:\n"
   ]
  },
  {
   "cell_type": "code",
   "execution_count": 12,
   "metadata": {},
   "outputs": [],
   "source": [
    "def fetch_item(collection, position):\n",
    "    return collection[position]"
   ]
  },
  {
   "cell_type": "code",
   "execution_count": 13,
   "metadata": {},
   "outputs": [
    {
     "data": {
      "text/plain": [
       "2"
      ]
     },
     "execution_count": 13,
     "metadata": {},
     "output_type": "execute_result"
    }
   ],
   "source": [
    "# This function can operate on various types, thanks to dynamic typing\n",
    "fetch_item([1, 2, 3], 1)"
   ]
  },
  {
   "cell_type": "code",
   "execution_count": 14,
   "metadata": {},
   "outputs": [
    {
     "data": {
      "text/plain": [
       "2"
      ]
     },
     "execution_count": 14,
     "metadata": {},
     "output_type": "execute_result"
    }
   ],
   "source": [
    "fetch_item({'a': 1, 'b': 2}, 'b')"
   ]
  },
  {
   "cell_type": "code",
   "execution_count": 15,
   "metadata": {},
   "outputs": [
    {
     "data": {
      "text/plain": [
       "'h'"
      ]
     },
     "execution_count": 15,
     "metadata": {},
     "output_type": "execute_result"
    }
   ],
   "source": [
    "fetch_item(\"Python\", 3)"
   ]
  },
  {
   "cell_type": "markdown",
   "metadata": {},
   "source": [
    "In each call to `fetch_item`, the type of `collection` is different, yet the function performs as expected, demonstrating Python's dynamic typing and its ability to work polymorphically across different object types.\n"
   ]
  },
  {
   "cell_type": "markdown",
   "metadata": {},
   "source": [
    "### [Advantages and Pitfalls of Dynamic Typing and Polymorphism](#)\n"
   ]
  },
  {
   "cell_type": "markdown",
   "metadata": {},
   "source": [
    "The combination of dynamic typing and polymorphic behavior in Python offers several advantages:\n",
    "\n",
    "- **Flexibility and Ease of Development**: Developers can write functions that work on a wide variety of object types, making the code more reusable and reducing the overall codebase size.\n",
    "- **Enhanced Prototyping Speed**: The need for less boilerplate code and type declarations means that prototypes and working programs can be developed quickly.\n",
    "- **Simplification of Complex Systems**: By abstracting away type-specific details, complex systems can be simplified, making them easier to understand and maintain.\n"
   ]
  },
  {
   "cell_type": "markdown",
   "metadata": {},
   "source": [
    "While dynamic typing and polymorphism bring significant benefits, they also require a careful approach to avoid common pitfalls:\n",
    "\n",
    "- **Runtime Errors**: Because type errors are caught at runtime rather than compile-time, applications may face unexpected crashes. Utilizing tools like type hinting and extensive testing can mitigate these issues.\n",
    "- **Readability and Maintainability**: Overuse of dynamic typing and polymorphism might make the code harder to read and maintain by obscuring the expected types of objects. Clear documentation and sensible use of type hinting can help maintain clarity.\n"
   ]
  },
  {
   "cell_type": "markdown",
   "metadata": {},
   "source": [
    "In conclusion, dynamic typing and polymorphic behavior are essential elements of Python's design philosophy, offering a foundation for writing concise, flexible, and powerful code. By understanding and leveraging these concepts appropriately, developers can harness the full potential of Python in creating diverse and effective software solutions."
   ]
  }
 ],
 "metadata": {
  "kernelspec": {
   "display_name": "py310",
   "language": "python",
   "name": "python3"
  },
  "language_info": {
   "codemirror_mode": {
    "name": "ipython",
    "version": 3
   },
   "file_extension": ".py",
   "mimetype": "text/x-python",
   "name": "python",
   "nbconvert_exporter": "python",
   "pygments_lexer": "ipython3",
   "version": "3.10.13"
  }
 },
 "nbformat": 4,
 "nbformat_minor": 2
}
