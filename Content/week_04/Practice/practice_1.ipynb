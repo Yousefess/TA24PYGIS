{
 "cells": [
  {
   "cell_type": "markdown",
   "metadata": {},
   "source": [
    "## [Practice Exercise](#)"
   ]
  },
  {
   "cell_type": "markdown",
   "metadata": {},
   "source": [
    "For this exercise, you will apply the concepts learned in the lecture by performing basic file handling operations in Python. You will work with text files and practice opening, reading, writing, and closing them, as well as using the `with` statement to handle files safely.\n"
   ]
  },
  {
   "cell_type": "markdown",
   "metadata": {},
   "source": [
    "**Tasks:**\n",
    "\n",
    "1. **Read from a Text File**:\n",
    "   Given a text file named `example.txt` with some content, write a Python script to open the file in read mode and print its contents to the console.\n",
    "\n",
    "2. **Write to a Text File**:\n",
    "   Create a new text file named `output.txt` and write multiple lines of text to it using Python. Then, reopen the file in read mode and print its contents to verify that the writing was successful.\n",
    "\n",
    "3. **Append to a Text File**:\n",
    "   Reopen the `output.txt` file in append mode and add a new line of text. After appending, read and print the entire file to see the updated contents.\n",
    "\n",
    "4. **Using the `with` Statement**:\n",
    "   Modify the previous tasks to use the `with` statement to ensure that the file is properly closed after the operations are completed.\n",
    "\n",
    "5. **Bonus: Type Hinting and Docstrings**:\n",
    "   Write a function that takes a file name and a mode as parameters, opens the file with the given mode, and prints its contents. Include a docstring that explains the function's purpose, parameters, and behavior. Also, use type hints to indicate the types of the parameters.\n"
   ]
  },
  {
   "cell_type": "markdown",
   "metadata": {},
   "source": [
    "**Sample Data for Task 1:**\n",
    "Create an `example.txt` file with the following content:\n",
    "```sh\n",
    "Hello, World!\n",
    "This is a sample text file.\n",
    "```\n",
    "\n",
    "**Expected Output for Task 1:**\n",
    "```sh\n",
    "Hello, World!\n",
    "This is a sample text file.\n",
    "```\n",
    "\n",
    "**Expected Output for Task 2 and 3:**\n",
    "```sh\n",
    "This is the first line.\n",
    "This is the second line.\n",
    "```\n",
    "(And after appending)\n",
    "```sh\n",
    "This is the first line.\n",
    "This is the second line.\n",
    "This is a new line added in append mode.\n",
    "```\n"
   ]
  },
  {
   "cell_type": "markdown",
   "metadata": {},
   "source": [
    "Use this exercise to practice file handling, ensuring that you understand how to work with files in Python and the significance of closing files or using the `with` statement to manage file resources. Additionally, the bonus task will help you get familiar with writing annotated functions and documenting them using docstrings."
   ]
  },
  {
   "cell_type": "code",
   "execution_count": null,
   "metadata": {},
   "outputs": [],
   "source": []
  },
  {
   "cell_type": "markdown",
   "metadata": {},
   "source": [
    "When you run the code above, it will perform the following operations:\n",
    "\n",
    "- Task 1 reads and prints the contents of `example.txt`.\n",
    "- Task 2 creates `output.txt`, writes two lines to it, and then prints the contents to verify the write operation.\n",
    "- Task 3 appends a new line to `output.txt` and prints the updated contents.\n",
    "- Task 4 is already demonstrated as the `with` statement is used in tasks 1-3.\n",
    "- The bonus task provides a function with type hints and a docstring that opens and prints the contents of a file."
   ]
  },
  {
   "cell_type": "markdown",
   "metadata": {},
   "source": [
    "Make sure to create an `example.txt` file with the provided content before running the script. This exercise will help solidify your understanding of file handling in Python and the best practices associated with it."
   ]
  },
  {
   "cell_type": "markdown",
   "metadata": {},
   "source": [
    "## [Exercise: Exploring File Reading Techniques in Python](#)"
   ]
  },
  {
   "cell_type": "markdown",
   "metadata": {},
   "source": [
    "In this exercise, you will practice reading from text files using various methods and techniques introduced in Lecture 2: Reading from Files. You'll work with a sample text file to understand the different modes of file reading, master the use of file reading methods, and manage file paths effectively.\n"
   ]
  },
  {
   "cell_type": "markdown",
   "metadata": {},
   "source": [
    "**Given Sample File: `sample.txt`**\n",
    "Assume you have a text file named `sample.txt` with the following content:\n",
    "\n",
    "```sh\n",
    "Welcome to Python file reading.\n",
    "This is the second line.\n",
    "Here is the third line.\n",
    "End of the file.\n",
    "```\n"
   ]
  },
  {
   "cell_type": "markdown",
   "metadata": {},
   "source": [
    "**Tasks:**\n",
    "\n",
    "1. **Read Entire File Content**:\n",
    "   Write a Python script to open `sample.txt` in read mode and use the `read()` method to read the entire file content. Print the content and handle any exceptions that might occur.\n",
    "\n",
    "2. **Read File Line by Line**:\n",
    "   Modify your script to open `sample.txt` and use the `readline()` method in a loop to read each line one at a time. Print each line as it is read, and ensure all lines are read from the file.\n",
    "\n",
    "3. **Read All Lines into a List**:\n",
    "   Adjust your script to open `sample.txt` and use the `readlines()` method to read all lines into a list. Then, iterate over the list and print each line with its line number (starting from 1).\n",
    "\n",
    "4. **Efficient Line-by-Line Iteration**:\n",
    "   Use a `for` loop to iterate over the file object and read `sample.txt` line by line efficiently. Print each line, preceded by the line number.\n",
    "\n",
    "5. **Bonus: Working with Different File Paths**:\n",
    "   Modify your script to prompt the user for a file path to read from. Ensure that your script handles the case when the file at the given path does not exist by printing a friendly error message.\n"
   ]
  },
  {
   "cell_type": "markdown",
   "metadata": {},
   "source": [
    "**Sample Output for Tasks 3 and 4:**\n",
    "```sh\n",
    "1: Welcome to Python file reading.\n",
    "2: This is the second line.\n",
    "3: Here is the third line.\n",
    "4: End of the file.\n",
    "```\n"
   ]
  },
  {
   "cell_type": "markdown",
   "metadata": {},
   "source": [
    "Remember to use exception handling to gracefully handle scenarios where the file might not exist or other errors occur during file operations. This exercise will solidify your understanding of file reading techniques in Python, preparing you to work with file data in your future programming projects."
   ]
  },
  {
   "cell_type": "code",
   "execution_count": null,
   "metadata": {},
   "outputs": [],
   "source": []
  },
  {
   "cell_type": "markdown",
   "metadata": {},
   "source": [
    "This code should be run in a Python environment where the `sample.txt` file exists in the same directory as the script. The user will be prompted to enter a file path for the bonus task. The solution demonstrates different ways to read from text files, along with best practices for handling exceptions and iterating over file contents in Python."
   ]
  },
  {
   "cell_type": "markdown",
   "metadata": {},
   "source": [
    "## [Practice Exercise](#)"
   ]
  },
  {
   "cell_type": "markdown",
   "metadata": {},
   "source": [
    "In this exercise, you will be applying the concepts you've learned in Lecture 3 about writing to files. You will practice opening files, writing to them, and ensuring data is properly saved. This exercise will give you hands-on experience with file I/O, which is a crucial skill for any Python programmer.\n"
   ]
  },
  {
   "cell_type": "markdown",
   "metadata": {},
   "source": [
    "**Scenario:**\n",
    "You are tasked with creating a simple note-taking application that allows users to save notes to a file. Additionally, you will generate a report that summarizes the number of notes taken each session.\n"
   ]
  },
  {
   "cell_type": "markdown",
   "metadata": {},
   "source": [
    "**Tasks:**\n",
    "\n",
    "1. **Create a New Note**:\n",
    "   Write a function `create_note()` that takes a filename and a note (string) as parameters. The function should open the specified file in write mode and save the note to the file. If the file already exists, it should be overwritten.\n",
    "\n",
    "2. **Add to an Existing Note**:\n",
    "   Write a function `add_to_note()` that takes a filename and a note (string) as parameters. The function should open the specified file in append mode and add the note to the end of the file.\n",
    "\n",
    "3. **Save Multiple Notes**:\n",
    "   Write a function `save_notes()` that takes a filename and a list of notes. The function should use the `writelines()` method to write each note to the file. Ensure each note is on a new line.\n",
    "\n",
    "4. **Generate a Summary Report**:\n",
    "   After saving notes, write a function `generate_report()` that reads the file containing the notes and generates a report. The report should count the number of notes and summarize the content by showing the first 15 characters of each note. Save this report to a new file.\n",
    "\n",
    "5. **Bonus: Log Each Action**:\n",
    "   Create a function `log_action()` that takes a log message and writes it to a log file with the current timestamp. Use this function to log every time a note is created, appended, or when a report is generated.\n"
   ]
  },
  {
   "cell_type": "markdown",
   "metadata": {},
   "source": [
    "**Sample Output:**\n",
    "```sh\n",
    "Note created: 'Meeting at 10am...'\n",
    "Note appended: 'Buy groceries...'\n",
    "Notes saved: ['Meeting at 10am...', 'Buy groceries...', 'Call Alice...']\n",
    "Report generated: 'Notes_Report.txt'\n",
    "```\n"
   ]
  },
  {
   "cell_type": "markdown",
   "metadata": {},
   "source": [
    "Use this exercise to solidify your understanding of file operations in Python, including the various modes for opening files, writing strings and lists of strings to files, and handling file buffering. Remember to include error handling in your functions to manage situations like missing files or write permissions. Good luck!"
   ]
  },
  {
   "cell_type": "code",
   "execution_count": null,
   "metadata": {},
   "outputs": [],
   "source": []
  }
 ],
 "metadata": {
  "kernelspec": {
   "display_name": "base",
   "language": "python",
   "name": "python3"
  },
  "language_info": {
   "codemirror_mode": {
    "name": "ipython",
    "version": 3
   },
   "file_extension": ".py",
   "mimetype": "text/x-python",
   "name": "python",
   "nbconvert_exporter": "python",
   "pygments_lexer": "ipython3",
   "version": "3.10.13"
  }
 },
 "nbformat": 4,
 "nbformat_minor": 2
}
