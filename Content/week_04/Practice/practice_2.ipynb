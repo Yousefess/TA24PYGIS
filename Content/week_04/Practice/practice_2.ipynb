{
 "cells": [
  {
   "cell_type": "markdown",
   "metadata": {},
   "source": [
    "## [Practical Example: Car Class](#)"
   ]
  },
  {
   "cell_type": "markdown",
   "metadata": {},
   "source": [
    "To practically illustrate the concepts of classes and objects in Python, let's design a simple `Car` class. This example will help us understand the key components that make up classes and objects, including the `__init__` method, `self`, instance attributes, and instance methods.\n"
   ]
  },
  {
   "cell_type": "code",
   "execution_count": null,
   "metadata": {},
   "outputs": [],
   "source": [
    "class Car:\n",
    "    def __init__(self, model):\n",
    "        self.model = model\n",
    "\n",
    "    def honk(self):\n",
    "        return f\"{self.model} says Beep Beep!\""
   ]
  },
  {
   "cell_type": "markdown",
   "metadata": {},
   "source": [
    "In this example, the `Car` class has two fundamental components: the `__init__` method and an instance method called `honk`.\n"
   ]
  },
  {
   "cell_type": "markdown",
   "metadata": {},
   "source": [
    "- The `__init__` method is a special method in Python classes. It is called automatically whenever a new object of a class is instantiated, which means it initializes new objects. The `self` parameter refers to the current instance of the class and is used to access variables and methods associated with the current object.\n",
    "\n",
    "- **`model`:** Here, the `model` parameter is passed to the `__init__` method and assigned to `self.model`, which is an instance attribute. This attribute stores the model of the car for each object created from the `Car` class.\n",
    "\n",
    "- **Instance attributes:** These attributes are specific to the object created from the class. In our example, `self.model` is an instance attribute containing information about the car's model. Each instance of `Car` can have a different model value.\n",
    "\n",
    "- **Instance methods:** These methods are functions defined inside a class and can only be called from an instance of that class. The `honk` method in our `Car` class is an instance method that allows the car to perform an action—honking. Notice how it uses `self.model` to access the car model information."
   ]
  },
  {
   "cell_type": "markdown",
   "metadata": {},
   "source": [
    "### <a id='toc3_1_'></a>[Instantiating an Object and Calling its Method:](#toc0_)\n"
   ]
  },
  {
   "cell_type": "markdown",
   "metadata": {},
   "source": [
    "Once we have our `Car` class defined, we can create objects (instances) from it and utilize its methods.\n"
   ]
  },
  {
   "cell_type": "code",
   "execution_count": null,
   "metadata": {},
   "outputs": [],
   "source": [
    "my_car = Car(\"Toyota\")"
   ]
  },
  {
   "cell_type": "code",
   "execution_count": null,
   "metadata": {},
   "outputs": [
    {
     "data": {
      "text/plain": [
       "'Toyota says Beep Beep!'"
      ]
     },
     "metadata": {},
     "output_type": "display_data"
    }
   ],
   "source": [
    "my_car.honk()"
   ]
  },
  {
   "cell_type": "markdown",
   "metadata": {},
   "source": [
    "When we instantiate a `Car` object with `\"Toyota\"` as its model, we create a new `Car` instance named `my_car`. Calling `my_car.honk()` executes the `honk` method for this particular `Car` object, accessing its `model` attribute to produce a customized output: \"Toyota says Beep Beep!\".\n"
   ]
  },
  {
   "cell_type": "markdown",
   "metadata": {},
   "source": [
    "Through this straightforward `Car` class example, it's clear how Python’s OOP features like classes, the `__init__` method, instance attributes, and methods enable us to encapsulate data and behaviors into objects. This modular approach to programming not only makes our code more organized and readable but also paves the way for creating more complex, real-world applications."
   ]
  },
  {
   "cell_type": "markdown",
   "metadata": {},
   "source": [
    "## [Practical Example: Enhancing the Car Class](#)"
   ]
  },
  {
   "cell_type": "markdown",
   "metadata": {},
   "source": [
    "To further illustrate Object-Oriented Programming (OOP) concepts in Python, let's enhance our `Car` class by adding more attributes and methods. This will demonstrate the versatility of classes in defining complex behavior and the ease of interacting with objects through their attributes and methods.\n"
   ]
  },
  {
   "cell_type": "markdown",
   "metadata": {},
   "source": [
    "We'll add attributes to our `Car` class for the car's year of manufacture, make, and whether it's electric. Additionally, we'll introduce a method to display detailed information about the car and a method to simulate starting the car.\n"
   ]
  },
  {
   "cell_type": "code",
   "execution_count": null,
   "metadata": {},
   "outputs": [],
   "source": [
    "class Car:\n",
    "    def __init__(self, color, model, year, make, is_electric):\n",
    "        self.color = color\n",
    "        self.model = model\n",
    "        self.year = year\n",
    "        self.make = make\n",
    "        self.is_electric = is_electric\n",
    "\n",
    "    def display_info(self):\n",
    "        electric_status = \"Electric\" if self.is_electric else \"Gasoline\"\n",
    "        return f\"{self.year} {self.make} {self.model} ({electric_status}), Color: {self.color}\"\n",
    "\n",
    "    def start_engine(self):\n",
    "        return f\"The {self.make} {self.model}'s engine has started!\""
   ]
  },
  {
   "cell_type": "markdown",
   "metadata": {},
   "source": [
    "Here, the `__init__` method initializes the car with its color, model, year, make, and electric status. The `display_info` method returns a string with all these details, and the `start_engine` method simulates the action of starting the car's engine.\n"
   ]
  },
  {
   "cell_type": "markdown",
   "metadata": {},
   "source": [
    "Let’s instantiate a `Car` object and interact with its attributes and methods to see these enhancements in action.\n"
   ]
  },
  {
   "cell_type": "code",
   "execution_count": null,
   "metadata": {},
   "outputs": [],
   "source": [
    "# Create a Car object\n",
    "my_car = Car(\"Blue\", \"Model S\", 2020, \"Tesla\", True)"
   ]
  },
  {
   "cell_type": "code",
   "execution_count": null,
   "metadata": {},
   "outputs": [
    {
     "data": {
      "text/plain": [
       "'Blue'"
      ]
     },
     "metadata": {},
     "output_type": "display_data"
    }
   ],
   "source": [
    "# Access attributes\n",
    "my_car.color"
   ]
  },
  {
   "cell_type": "code",
   "execution_count": null,
   "metadata": {},
   "outputs": [
    {
     "data": {
      "text/plain": [
       "True"
      ]
     },
     "metadata": {},
     "output_type": "display_data"
    }
   ],
   "source": [
    "my_car.is_electric"
   ]
  },
  {
   "cell_type": "code",
   "execution_count": null,
   "metadata": {},
   "outputs": [
    {
     "data": {
      "text/plain": [
       "'2020 Tesla Model S (Electric), Color: Blue'"
      ]
     },
     "metadata": {},
     "output_type": "display_data"
    }
   ],
   "source": [
    "# Invoke methods\n",
    "my_car.display_info()"
   ]
  },
  {
   "cell_type": "code",
   "execution_count": null,
   "metadata": {},
   "outputs": [
    {
     "data": {
      "text/plain": [
       "\"The Tesla Model S's engine has started!\""
      ]
     },
     "metadata": {},
     "output_type": "display_data"
    }
   ],
   "source": [
    "my_car.start_engine()"
   ]
  },
  {
   "cell_type": "markdown",
   "metadata": {},
   "source": [
    "In this interactive example, after creating a `Car` object named `my_car`, we access its `color` and `is_electric` attributes directly. Then, we call the `display_info` method to get a detailed description of the car and the `start_engine` method to simulate starting the car's engine. Each of these interactions showcases how objects encapsulate data and behavior, providing a clear interface for working with the complexities of real-world entities.\n"
   ]
  },
  {
   "cell_type": "markdown",
   "metadata": {},
   "source": [
    "Through this practical example of enhancing the `Car` class, we see how Python's OOP features streamline the representation of real-world entities in code. By adding more attributes, we enrich the state of our objects, and by defining additional methods, we expand the actions our objects can perform. This encapsulation of related data and behavior is central to OOP, making it an incredibly powerful tool for structuring applications. The ability to interact with objects through attribute access and method invocation further demonstrates the intuitiveness and flexibility of OOP in modeling complex systems."
   ]
  },
  {
   "cell_type": "markdown",
   "metadata": {},
   "source": [
    "## [Exercise: Building and Enhancing a `Book` Class](#)"
   ]
  },
  {
   "cell_type": "markdown",
   "metadata": {},
   "source": [
    "For this exercise, you will define a simple `Book` class to encapsulate the properties and behaviors associated with a book. This exercise is designed to apply the concepts covered in the lecture, such as defining classes, working with methods, using the `self` keyword, initializing objects, and distinguishing between class and instance attributes.\n"
   ]
  },
  {
   "cell_type": "markdown",
   "metadata": {},
   "source": [
    "**Tasks:**\n",
    "\n",
    "1. **Define a Simple `Book` Class**:\n",
    "   - Create a `Book` class with instance attributes for `title`, `author`, and `pages`.\n",
    "   - Define an instance method `description` that prints a description of the book including its title, author, and number of pages.\n",
    "\n",
    "2. **Instantiate an Object from the `Book` Class**:\n",
    "   - Create an instance of the `Book` class with the title \"Python Programming\", author \"John Doe\", and page count of 350.\n",
    "   - Call the `description` method on this instance to print the book's details.\n",
    "\n",
    "3. **Use of `self`**:\n",
    "   - Explain, through comments in your code, why the `self` keyword is necessary in the `description` method of the `Book` class.\n",
    "\n",
    "4. **Incorporate the `__init__` Method**:\n",
    "   - Modify the `Book` class to include the `__init__` method for initializing new instances with the title, author, and pages attributes.\n",
    "\n",
    "5. **Class vs. Instance Attributes**:\n",
    "   - Add a class attribute `book_count` to keep track of the total number of book instances created.\n",
    "   - Increment the `book_count` inside the `__init__` method every time a new `Book` instance is created.\n",
    "\n",
    "6. **Instantiating Multiple Objects**:\n",
    "   - Create two additional `Book` instances with different titles, authors, and page counts.\n",
    "   - Print out the `book_count` to show the total number of books created.\n",
    "\n",
    "7. **Practical Example: Enhancing the `Book` Class**:\n",
    "   - Add a method `is_long` to the `Book` class that returns `True` if the book has more than 500 pages and `False` otherwise.\n",
    "   - Create a new `Book` instance with more than 500 pages and use the `is_long` method to check if the book is considered long.\n"
   ]
  },
  {
   "cell_type": "markdown",
   "metadata": {},
   "source": [
    "**Sample Output:**\n",
    "```\n",
    "Title: Python Programming, Author: John Doe, Pages: 350\n",
    "Total number of books created: 3\n",
    "This book is considered long: False\n",
    "```\n"
   ]
  },
  {
   "cell_type": "markdown",
   "metadata": {},
   "source": [
    "This exercise will reinforce your understanding of how to define and work with classes in Python, the importance of the `self` keyword, the role of the `__init__` method, and the difference between class and instance attributes. It will also show you how to create multiple instances of a class and how to maintain each instance's unique state."
   ]
  },
  {
   "cell_type": "markdown",
   "metadata": {},
   "source": [
    "### [Solution](#)"
   ]
  },
  {
   "cell_type": "markdown",
   "metadata": {},
   "source": [
    "Here's the solution to the exercise, encompassing all the tasks from defining the `Book` class to enhancing it with additional functionality.\n"
   ]
  },
  {
   "cell_type": "code",
   "execution_count": null,
   "metadata": {},
   "outputs": [],
   "source": [
    "# Task 1: Define a Simple `Book` Class\n",
    "class Book:\n",
    "    # Task 5: Class attribute to keep track of the total number of book instances\n",
    "    book_count = 0\n",
    "\n",
    "    # Task 4: Incorporate the `__init__` Method\n",
    "    def __init__(self, title, author, pages):\n",
    "        self.title = title\n",
    "        self.author = author\n",
    "        self.pages = pages\n",
    "        Book.book_count += 1  # Increment the book_count class attribute\n",
    "\n",
    "    # Instance method to print a description of the book\n",
    "    def description(self):\n",
    "        print(f\"Title: {self.title}, Author: {self.author}, Pages: {self.pages}\")\n",
    "\n",
    "    # Task 7: Add a method `is_long`\n",
    "    def is_long(self):\n",
    "        return self.pages > 500"
   ]
  },
  {
   "cell_type": "code",
   "execution_count": null,
   "metadata": {},
   "outputs": [
    {
     "name": "stdout",
     "output_type": "stream",
     "text": [
      "Title: Python Programming, Author: John Doe, Pages: 350\n"
     ]
    }
   ],
   "source": [
    "# Task 2: Instantiate an Object from the `Book` Class\n",
    "python_book = Book(\"Python Programming\", \"John Doe\", 350)\n",
    "\n",
    "# Call the `description` method on this instance\n",
    "python_book.description()"
   ]
  },
  {
   "cell_type": "code",
   "execution_count": null,
   "metadata": {},
   "outputs": [],
   "source": [
    "# Task 3: Use of `self`\n",
    "# The `self` keyword is used to refer to the instance upon which the method is\n",
    "# being called. It allows access to the instance's attributes and methods.\n",
    "# Without `self`, the method would not have access to the instance's `title`,\n",
    "# `author`, and `pages` attributes.\n"
   ]
  },
  {
   "cell_type": "code",
   "execution_count": null,
   "metadata": {},
   "outputs": [
    {
     "name": "stdout",
     "output_type": "stream",
     "text": [
      "Total number of books created: 3\n"
     ]
    }
   ],
   "source": [
    "# Task 6: Instantiate Multiple Objects\n",
    "book1 = Book(\"Learning Python\", \"Mark Lutz\", 624)\n",
    "book2 = Book(\"Automate the Boring Stuff\", \"Al Sweigart\", 504)\n",
    "\n",
    "# Print out the book_count to show the total number of books created\n",
    "print(f\"Total number of books created: {Book.book_count}\")"
   ]
  },
  {
   "cell_type": "code",
   "execution_count": null,
   "metadata": {},
   "outputs": [
    {
     "name": "stdout",
     "output_type": "stream",
     "text": [
      "This book is considered long: True\n"
     ]
    }
   ],
   "source": [
    "# Task 7: Use the `is_long` method to check if the book is considered long\n",
    "print(f\"This book is considered long: {book1.is_long()}\")"
   ]
  },
  {
   "cell_type": "markdown",
   "metadata": {},
   "source": [
    "This code defines the `Book` class and includes the `__init__` method to initialize new instances with their respective attributes. It also demonstrates the use of class attributes to keep track of the total number of book instances and introduces an instance method `is_long` that assesses the length of the book. The comments within the code provide further explanation of the `self` keyword and its role in accessing instance attributes and methods. The final print statements will output the required sample output, verifying the total number of books and whether a particular book is considered long."
   ]
  },
  {
   "cell_type": "markdown",
   "metadata": {},
   "source": [
    "## [Practical Example](#)"
   ]
  },
  {
   "cell_type": "markdown",
   "metadata": {},
   "source": [
    "The ability to define classes with a comprehensive `__init__` method is essential for leveraging the full power of Python's Object-Oriented Programming (OOP). Through practical examples and exercises, you can solidify your understanding of object initialization and attribute management. Let's walk through a detailed example, explore some common and edge use cases, and embark on interactive exercises designed to enhance your skills in crafting `__init__` methods.\n"
   ]
  },
  {
   "cell_type": "markdown",
   "metadata": {},
   "source": [
    "**Example: A `Book` Class**\n"
   ]
  },
  {
   "cell_type": "markdown",
   "metadata": {},
   "source": [
    "Our goal is to create a `Book` class where each book instance will have `title`, `author`, `publisher`, and `year_published` as attributes.\n"
   ]
  },
  {
   "cell_type": "code",
   "execution_count": null,
   "metadata": {},
   "outputs": [],
   "source": [
    "class Book:\n",
    "    def __init__(self, title, author, publisher, year_published):\n",
    "        self.title = title\n",
    "        self.author = author\n",
    "        self.publisher = publisher\n",
    "        self.year_published = year_published"
   ]
  },
  {
   "cell_type": "code",
   "execution_count": null,
   "metadata": {},
   "outputs": [],
   "source": [
    "# Create a Book instance\n",
    "my_favorite_book = Book(\"Python Programming\", \"Jane Doe\", \"Tech Publishing\", 2020)"
   ]
  },
  {
   "cell_type": "code",
   "execution_count": null,
   "metadata": {},
   "outputs": [
    {
     "data": {
      "text/plain": [
       "'Python Programming'"
      ]
     },
     "metadata": {},
     "output_type": "display_data"
    }
   ],
   "source": [
    "my_favorite_book.title"
   ]
  },
  {
   "cell_type": "markdown",
   "metadata": {},
   "source": [
    "Here, the `__init__` method initializes each `Book` instance with four attributes. This allows each `Book` object to have its unique state directly from the point of creation.\n"
   ]
  },
  {
   "cell_type": "markdown",
   "metadata": {},
   "source": [
    "**Common Use Case: Default Attributes**\n"
   ]
  },
  {
   "cell_type": "markdown",
   "metadata": {},
   "source": [
    "Consider a scenario where most books in your collection are published by \"Tech Publishing\". You can set a default value for the `publisher` attribute.\n"
   ]
  },
  {
   "cell_type": "code",
   "execution_count": null,
   "metadata": {},
   "outputs": [],
   "source": [
    "class Book:\n",
    "    def __init__(self, title, author, year_published, publisher=\"Tech Publishing\"):\n",
    "        self.title = title\n",
    "        self.author = author\n",
    "        self.publisher = publisher\n",
    "        self.year_published = year_published"
   ]
  },
  {
   "cell_type": "code",
   "execution_count": null,
   "metadata": {},
   "outputs": [],
   "source": [
    "# Create a Book instance with the default publisher\n",
    "python_book = Book(\"Learn Python\", \"John Smith\", year_published=2021)"
   ]
  },
  {
   "cell_type": "markdown",
   "metadata": {},
   "source": [
    "**Edge Case: Validating Attribute Values**\n"
   ]
  },
  {
   "cell_type": "markdown",
   "metadata": {},
   "source": [
    "Validate `year_published` to ensure it's not in the future.\n"
   ]
  },
  {
   "cell_type": "code",
   "execution_count": null,
   "metadata": {},
   "outputs": [],
   "source": [
    "from datetime import datetime\n",
    "\n",
    "class Book:\n",
    "    def __init__(self, title, author, year_published, publisher=\"Tech Publishing\"):\n",
    "        self.title = title\n",
    "        self.author = author\n",
    "        self.publisher = publisher\n",
    "        if year_published > datetime.now().year:\n",
    "            # You will learn how to raise exceptions later\n",
    "            # For now, just know that this line raises an exception/error\n",
    "            raise ValueError(\"Year published cannot be in the future\")\n",
    "        self.year_published = year_published"
   ]
  },
  {
   "cell_type": "markdown",
   "metadata": {},
   "source": [
    "## [Exercise: Building and Initializing a Classroom](#)"
   ]
  },
  {
   "cell_type": "markdown",
   "metadata": {},
   "source": [
    "In this exercise, you will create a `Classroom` class that initializes with various attributes using the `__init__` method. This will reinforce your understanding of the `__init__` method's anatomy, its syntax, the significance of the `self` parameter, and how to handle additional parameters within `__init__`.\n"
   ]
  },
  {
   "cell_type": "markdown",
   "metadata": {},
   "source": [
    "**Tasks:**\n",
    "\n",
    "1. **Define the Classroom Class**:\n",
    "   Create a class named `Classroom` with an `__init__` method. Within the `__init__` method, define the following attributes:\n",
    "   - `teacher`: A string representing the name of the teacher.\n",
    "   - `students`: A list of strings representing the names of the students.\n",
    "   - `subject`: A string representing the subject being taught.\n",
    "   - `room_number`: An integer representing the classroom number.\n",
    "\n",
    "   Ensure that each of these attributes is passed as a parameter to the `__init__` method (besides `self`).\n",
    "\n",
    "2. **Instantiate the Classroom**:\n",
    "   Create an instance of the `Classroom` class, passing in appropriate arguments for the teacher, students, subject, and room number. Assign this instance to a variable named `my_class`.\n",
    "\n",
    "3. **Print Object Attributes**:\n",
    "   Write a method within the `Classroom` class that prints out all the attributes in a user-friendly format. Call this method `display_info` and invoke it on the `my_class` instance to display the details of your classroom.\n",
    "\n",
    "4. **Bonus: Dynamic Student List**:\n",
    "   Modify the `__init__` method to accept any number of student names using *args, and initialize the `students` attribute with these names. Test this feature by creating another instance of `Classroom` with a variable number of students.\n"
   ]
  },
  {
   "cell_type": "markdown",
   "metadata": {},
   "source": [
    "**Sample Output:**\n",
    "```\n",
    "Teacher: Mr. Smith\n",
    "Students: ['Alice', 'Bob', 'Charlie', 'Diana']\n",
    "Subject: Mathematics\n",
    "Room Number: 101\n",
    "```\n"
   ]
  },
  {
   "cell_type": "markdown",
   "metadata": {},
   "source": [
    "This exercise will test your understanding of object initialization in Python and how to create instances of a class with specific attributes. Remember to apply best practices for class definitions and instance creation, including using descriptive names and following the Python style guide (PEP 8). Enjoy crafting your virtual classroom!"
   ]
  },
  {
   "cell_type": "markdown",
   "metadata": {},
   "source": [
    "### [Solution](#)"
   ]
  },
  {
   "cell_type": "markdown",
   "metadata": {},
   "source": [
    "Below is a solution for the exercise that involves creating a `Classroom` class and initializing it with specific attributes using the `__init__` method:"
   ]
  },
  {
   "cell_type": "code",
   "execution_count": null,
   "metadata": {},
   "outputs": [],
   "source": [
    "# Task 1: Define the Classroom Class\n",
    "class Classroom:\n",
    "    def __init__(self, teacher, students, subject, room_number):\n",
    "        self.teacher = teacher\n",
    "        self.students = students\n",
    "        self.subject = subject\n",
    "        self.room_number = room_number\n",
    "\n",
    "    def display_info(self):\n",
    "        print(f\"Teacher: {self.teacher}\")\n",
    "        print(f\"Students: {self.students}\")\n",
    "        print(f\"Subject: {self.subject}\")\n",
    "        print(f\"Room Number: {self.room_number}\")"
   ]
  },
  {
   "cell_type": "code",
   "execution_count": null,
   "metadata": {},
   "outputs": [],
   "source": [
    "# Task 2: Instantiate the Classroom\n",
    "my_class = Classroom(\n",
    "    teacher=\"Mr. Smith\",\n",
    "    students=[\"Alice\", \"Bob\", \"Charlie\", \"Diana\"],\n",
    "    subject=\"Mathematics\",\n",
    "    room_number=101\n",
    ")"
   ]
  },
  {
   "cell_type": "code",
   "execution_count": null,
   "metadata": {},
   "outputs": [
    {
     "name": "stdout",
     "output_type": "stream",
     "text": [
      "Teacher: Mr. Smith\n",
      "Students: ['Alice', 'Bob', 'Charlie', 'Diana']\n",
      "Subject: Mathematics\n",
      "Room Number: 101\n"
     ]
    }
   ],
   "source": [
    "# Task 3: Print Object Attributes\n",
    "my_class.display_info()"
   ]
  },
  {
   "cell_type": "code",
   "execution_count": null,
   "metadata": {},
   "outputs": [],
   "source": [
    "# Bonus: Dynamic Student List\n",
    "class ClassroomWithDynamicStudents:\n",
    "    def __init__(self, teacher, *students, subject, room_number):\n",
    "        self.teacher = teacher\n",
    "        self.students = list(students)\n",
    "        self.subject = subject\n",
    "        self.room_number = room_number\n",
    "\n",
    "    def display_info(self):\n",
    "        print(f\"Teacher: {self.teacher}\")\n",
    "        print(f\"Students: {self.students}\")\n",
    "        print(f\"Subject: {self.subject}\")\n",
    "        print(f\"Room Number: {self.room_number}\")"
   ]
  },
  {
   "cell_type": "code",
   "execution_count": null,
   "metadata": {},
   "outputs": [],
   "source": [
    "# Bonus Task: Test Dynamic Student List\n",
    "bonus_class = ClassroomWithDynamicStudents(\n",
    "    \"Ms. Johnson\",\n",
    "    \"Eva\", \"Frank\", \"Grace\", \"Henry\",\n",
    "    subject=\"Science\",\n",
    "    room_number=102\n",
    ")\n"
   ]
  },
  {
   "cell_type": "code",
   "execution_count": null,
   "metadata": {},
   "outputs": [
    {
     "name": "stdout",
     "output_type": "stream",
     "text": [
      "Teacher: Ms. Johnson\n",
      "Students: ['Eva', 'Frank', 'Grace', 'Henry']\n",
      "Subject: Science\n",
      "Room Number: 102\n"
     ]
    }
   ],
   "source": [
    "bonus_class.display_info()"
   ]
  },
  {
   "cell_type": "markdown",
   "metadata": {},
   "source": [
    "When you run this code, it will define a `Classroom` class, create an instance with the given attributes, and print those attributes using the `display_info` method. The bonus part demonstrates how to use variable arguments (*args) to accept a dynamic list of student names during class initialization. This feature is tested by creating another instance of the `ClassroomWithDynamicStudents` class with a varying number of students."
   ]
  },
  {
   "cell_type": "markdown",
   "metadata": {},
   "source": [
    "> **Note**: You will learn about `__str__` later which is used to define the string representation of an object. For now, we are using a separate method `display_info` to print the object attributes but in practice, you can use `__str__` for this purpose."
   ]
  },
  {
   "cell_type": "markdown",
   "metadata": {},
   "source": [
    "## [Exercise: Crafting an Employee Inheritance Structure](#)"
   ]
  },
  {
   "cell_type": "markdown",
   "metadata": {},
   "source": [
    "In this exercise, you will demonstrate your understanding of basic class inheritance, method addition, and method overriding by creating a class hierarchy for employees in a company. The exercise will help you grasp how inheritance allows for code reuse and behavior specialization in subclasses.\n"
   ]
  },
  {
   "cell_type": "markdown",
   "metadata": {},
   "source": [
    "**Scenario:**\n",
    "A company has a simple employee structure consisting of general employees and managers. Both types of employees share some common attributes but also have some specific to their role.\n"
   ]
  },
  {
   "cell_type": "markdown",
   "metadata": {},
   "source": [
    "**Tasks:**\n",
    "\n",
    "1. **Define the Base Class**:\n",
    "   Create a base class called `Employee` with the following:\n",
    "   - Instance attributes: `name` and `email`.\n",
    "   - An `__init__` method that initializes the `name` and `email` attributes.\n",
    "   - A method called `get_info()` that prints the employee's name and email in a neat format.\n",
    "\n",
    "2. **Define a Subclass for Managers**:\n",
    "   Create a subclass called `Manager` that inherits from `Employee`. Add the following to the `Manager` class:\n",
    "   - An additional attribute called `department`.\n",
    "   - An overridden `__init__` method that initializes the `name`, `email`, and `department` using the `super()` function to initialize `name` and `email`.\n",
    "   - An overridden `get_info()` method that prints the manager's information, including the department.\n",
    "\n",
    "3. **Instantiate and Test Classes**:\n",
    "   Create instances of both `Employee` and `Manager`, and call their `get_info()` methods to ensure they display the information correctly.\n"
   ]
  },
  {
   "cell_type": "markdown",
   "metadata": {},
   "source": [
    "**Expected Output:**\n",
    "```\n",
    "Employee Name: Alice Smith\n",
    "Employee Email: alice@example.com\n",
    "\n",
    "Employee Name: Bob Johnson\n",
    "Employee Email: bob@example.com\n",
    "Department: Engineering\n",
    "```\n"
   ]
  },
  {
   "cell_type": "markdown",
   "metadata": {},
   "source": [
    "This exercise will allow you to practice designing classes that share common attributes and behaviors while also providing specialized functionality for different types of objects within the class hierarchy. Remember to use the `super()` function appropriately when initializing subclasses to ensure that inherited attributes are set up correctly."
   ]
  },
  {
   "cell_type": "markdown",
   "metadata": {},
   "source": [
    "### [Solution](#)"
   ]
  },
  {
   "cell_type": "code",
   "execution_count": null,
   "metadata": {},
   "outputs": [],
   "source": [
    "# Define the base class 'Employee'\n",
    "class Employee:\n",
    "    def __init__(self, name, email):\n",
    "        self.name = name\n",
    "        self.email = email\n",
    "\n",
    "    def get_info(self):\n",
    "        print(f\"Employee Name: {self.name}\")\n",
    "        print(f\"Employee Email: {self.email}\")"
   ]
  },
  {
   "cell_type": "code",
   "execution_count": null,
   "metadata": {},
   "outputs": [],
   "source": [
    "# Define the subclass 'Manager' which inherits from 'Employee'\n",
    "class Manager(Employee):\n",
    "    def __init__(self, name, email, department):\n",
    "        super().__init__(name, email) # Use super() to call the __init__ method of the parent class\n",
    "        self.department = department\n",
    "\n",
    "    def get_info(self):\n",
    "        # Override the get_info() method to include department information\n",
    "        super().get_info() # Call the get_info() method from the parent class\n",
    "        print(f\"Department: {self.department}\")\n"
   ]
  },
  {
   "cell_type": "code",
   "execution_count": null,
   "metadata": {},
   "outputs": [
    {
     "name": "stdout",
     "output_type": "stream",
     "text": [
      "Employee Name: Alice Smith\n",
      "Employee Email: alice@example.com\n"
     ]
    }
   ],
   "source": [
    "# Instantiate and Test Classes\n",
    "\n",
    "# Create an instance of 'Employee'\n",
    "alice = Employee(\"Alice Smith\", \"alice@example.com\")\n",
    "# Call get_info() method to display 'Employee' information\n",
    "alice.get_info()"
   ]
  },
  {
   "cell_type": "code",
   "execution_count": null,
   "metadata": {},
   "outputs": [
    {
     "name": "stdout",
     "output_type": "stream",
     "text": [
      "Employee Name: Bob Johnson\n",
      "Employee Email: bob@example.com\n",
      "Department: Engineering\n"
     ]
    }
   ],
   "source": [
    "# Create an instance of 'Manager'\n",
    "bob = Manager(\"Bob Johnson\", \"bob@example.com\", \"Engineering\")\n",
    "# Call get_info() method to display 'Manager' information\n",
    "bob.get_info()"
   ]
  },
  {
   "cell_type": "markdown",
   "metadata": {},
   "source": [
    "When you run this code, it will create an `Employee` object and a `Manager` object, and then call their `get_info()` methods. The `Manager` class demonstrates how to override a method from the parent class `Employee` and how to call the overridden method using `super()` to include additional behavior. The output will match the expected output provided in the exercise instructions."
   ]
  },
  {
   "cell_type": "markdown",
   "metadata": {},
   "source": [
    "## [Exercise: Exploring Inheritance in Python](#)"
   ]
  },
  {
   "cell_type": "markdown",
   "metadata": {},
   "source": [
    "In this exercise, you will apply the concepts of single, multilevel, and hierarchical inheritance to a university context. By implementing a simple class hierarchy involving persons and university members, you will demonstrate the basics and benefits of each inheritance type.\n"
   ]
  },
  {
   "cell_type": "markdown",
   "metadata": {},
   "source": [
    "**Tasks:**\n"
   ]
  },
  {
   "cell_type": "markdown",
   "metadata": {},
   "source": [
    "1. **Implement Single Inheritance**:\n",
    "   - Create a base class named `Person` with attributes `name` and `age` and a method `introduce_self()` that prints out a greeting containing the person's name and age.\n",
    "   - Create a subclass named `UniversityMember` that inherits from `Person`. Add an attribute `university_name` and override the `introduce_self()` method to include the university name in the greeting.\n",
    "\n",
    "2. **Implement Multilevel Inheritance**:\n",
    "   - Create two subclasses of `UniversityMember`: `Student` and `Instructor`. For `Student`, add an attribute `student_id`, and for `Instructor`, add an attribute `employee_id`.\n",
    "   - Override the `introduce_self()` method in each subclass to include their respective ID along with the inherited attributes.\n",
    "\n",
    "3. **Implement Hierarchical Inheritance**:\n",
    "   - Demonstrate hierarchical inheritance by showing how `Student` and `Instructor` classes inherit from the same parent (`UniversityMember`) but represent different entities.\n",
    "   - Instantiate objects of `Student` and `Instructor`, set their attributes, and call their `introduce_self()` methods to see the different outputs.\n"
   ]
  },
  {
   "cell_type": "markdown",
   "metadata": {},
   "source": [
    "**Sample Output:**\n",
    "```\n",
    "Hello! My name is Alice, and I am 24 years old. I am a member of XYZ University.\n",
    "Hello! My name is Bob, and I am 21 years old. I am a student with ID: S123 at XYZ University.\n",
    "Hello! My name is Carol, and I am 35 years old. I am an instructor with ID: E456 at XYZ University.\n",
    "```\n"
   ]
  },
  {
   "cell_type": "markdown",
   "metadata": {},
   "source": [
    "In this exercise, you will be practicing the OOP concepts of inheritance in a real-world scenario. You will see how inheritance allows for code reuse, better organization, and scalability. Remember to use appropriate access modifiers (public, protected, private) for attributes based on the design requirements. Enjoy coding your university hierarchy!"
   ]
  },
  {
   "cell_type": "markdown",
   "metadata": {},
   "source": [
    "### [Solution](#)"
   ]
  },
  {
   "cell_type": "markdown",
   "metadata": {},
   "source": [
    "Below is a solution for the exercise, implementing a class hierarchy using the principles of single, multilevel, and hierarchical inheritance in Python:"
   ]
  },
  {
   "cell_type": "code",
   "execution_count": null,
   "metadata": {},
   "outputs": [],
   "source": [
    "# Task 1: Implement Single Inheritance\n",
    "class Person:\n",
    "    def __init__(self, name, age):\n",
    "        self.name = name\n",
    "        self.age = age\n",
    "\n",
    "    def introduce_self(self):\n",
    "        print(f\"Hello! My name is {self.name}, and I am {self.age} years old.\")"
   ]
  },
  {
   "cell_type": "code",
   "execution_count": null,
   "metadata": {},
   "outputs": [],
   "source": [
    "class UniversityMember(Person):\n",
    "    def __init__(self, name, age, university_name):\n",
    "        super().__init__(name, age)\n",
    "        self.university_name = university_name\n",
    "\n",
    "    def introduce_self(self):\n",
    "        super().introduce_self()\n",
    "        print(f\"I am a member of {self.university_name}.\")"
   ]
  },
  {
   "cell_type": "code",
   "execution_count": null,
   "metadata": {},
   "outputs": [],
   "source": [
    "# Task 2: Implement Multilevel Inheritance\n",
    "class Student(UniversityMember):\n",
    "    def __init__(self, name, age, university_name, student_id):\n",
    "        super().__init__(name, age, university_name)\n",
    "        self.student_id = student_id\n",
    "\n",
    "    def introduce_self(self):\n",
    "        super().introduce_self()\n",
    "        print(f\"I am a student with ID: {self.student_id}.\")"
   ]
  },
  {
   "cell_type": "code",
   "execution_count": null,
   "metadata": {},
   "outputs": [],
   "source": [
    "class Instructor(UniversityMember):\n",
    "    def __init__(self, name, age, university_name, employee_id):\n",
    "        super().__init__(name, age, university_name)\n",
    "        self.employee_id = employee_id\n",
    "\n",
    "    def introduce_self(self):\n",
    "        super().introduce_self()\n",
    "        print(f\"I am an instructor with ID: {self.employee_id}.\")"
   ]
  },
  {
   "cell_type": "code",
   "execution_count": null,
   "metadata": {},
   "outputs": [],
   "source": [
    "# Task 3: Implement Hierarchical Inheritance\n",
    "# Instantiate objects with different universities\n",
    "alice = Student(name=\"Alice\", age=24, university_name=\"XYZ University\", student_id=\"S123\")\n",
    "bob = Instructor(name=\"Bob\", age=35, university_name=\"ABC University\", employee_id=\"E456\")"
   ]
  },
  {
   "cell_type": "code",
   "execution_count": null,
   "metadata": {},
   "outputs": [
    {
     "name": "stdout",
     "output_type": "stream",
     "text": [
      "Hello! My name is Alice, and I am 24 years old.\n",
      "I am a member of XYZ University.\n",
      "I am a student with ID: S123.\n",
      "Hello! My name is Bob, and I am 35 years old.\n",
      "I am a member of ABC University.\n",
      "I am an instructor with ID: E456.\n"
     ]
    }
   ],
   "source": [
    "# Demonstrate hierarchical inheritance outputs\n",
    "alice.introduce_self()\n",
    "bob.introduce_self()"
   ]
  },
  {
   "cell_type": "markdown",
   "metadata": {},
   "source": [
    "This code defines the classes `Person`, `UniversityMember`, `Student`, and `Instructor`, and demonstrates single, multilevel, and hierarchical inheritance. The `introduce_self()` method is overridden in subclasses to provide additional information specific to each type. The bonus task adds a class method to `UniversityMember` that allows the `university_name` to be changed for all instances of its subclasses. When you run this code, you will see the different greetings printed for each object, showing how inheritance can be used to extend and customize class behavior in Python."
   ]
  }
 ],
 "metadata": {
  "language_info": {
   "name": "python"
  }
 },
 "nbformat": 4,
 "nbformat_minor": 2
}
