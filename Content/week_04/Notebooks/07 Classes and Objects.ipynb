{
 "cells": [
  {
   "cell_type": "markdown",
   "metadata": {},
   "source": [
    "# <h1 style=\"color:red\">Understanding Classes and Objects in Python</h1>"
   ]
  },
  {
   "cell_type": "markdown",
   "metadata": {},
   "source": [
    "At the heart of Object-Oriented Programming (OOP) in Python lie two fundamental concepts: classes and objects. Grasping these concepts is essential for understanding how OOP facilitates the creation and management of complex software systems. Let's delve into what classes and objects entail and explore their relationship.\n"
   ]
  },
  {
   "cell_type": "markdown",
   "metadata": {},
   "source": [
    "**Classes as Blueprints**\n",
    "\n",
    "Imagine you are an architect. Before a building is constructed, you draft a detailed blueprint defining its structure, dimensions, functionalities, and the materials needed. Similarly, in OOP, a **class** serves as a blueprint or template from which objects are created. It outlines a specific set of attributes (data) and methods (functions) that the objects based on this blueprint will possess.\n",
    "\n",
    "A class defines properties common to all objects of that type but doesn't allocate any resources or memory for itself. It specifies what an object of that class should know (attributes) and what it can do (methods) without being tied to the specifics of any one object.\n"
   ]
  },
  {
   "cell_type": "markdown",
   "metadata": {},
   "source": [
    "**Objects as Instances**\n",
    "\n",
    "Following our architecture analogy, if a class is the blueprint, an **object** is the actual building constructed from that blueprint. An object is a specific instance of a class; it embodies the structured data and behaviors defined by its class but with concrete values. Each object holds its state (data) and can perform actions (methods) defined by its class.\n",
    "\n",
    "Objects are independent entities with their characteristics. Although two objects of the same class share the class's structure and behavior, they encapsulate their own set of data. For example, if `Dog` is a class representing the concept of a dog, each `Dog` object created from that class can have its name, age, breed, etc.\n"
   ]
  },
  {
   "cell_type": "markdown",
   "metadata": {},
   "source": [
    "**Relationship between Classes and Objects**\n",
    "\n",
    "The relationship between classes and objects can be summed up in the idea that classes create a framework under which individual objects operate. Classes provide the structure - the set of rules and behaviors - but without creating any specific instance on their own. When an object is instantiated, it fills out the framework provided by its class with actual, specific data.\n",
    "\n",
    "This relationship allows for a significant degree of flexibility and reusability in programming. By defining a class once, you can create numerous objects from it, each with different attributes. This concept not only helps in organizing code by categorizing data and behaviors into logical units but also in scaling software development by allowing new objects to be created with minimal additional code.\n"
   ]
  },
  {
   "cell_type": "markdown",
   "metadata": {},
   "source": [
    "In summary, classes and objects are the core of OOP in Python. Classes act as detailed plans defining the characteristics and capabilities that their instantiated objects will have. Objects, being instances of these classes, are the concrete manifestations carrying actual data. Understanding this relationship is crucial for leveraging the full power of OOP to create well-organized, efficient, and reusable software."
   ]
  },
  {
   "cell_type": "markdown",
   "metadata": {},
   "source": [
    "## [Defining a Simple Class in Python](#)"
   ]
  },
  {
   "cell_type": "markdown",
   "metadata": {},
   "source": [
    "In Python's Object-Oriented Programming, defining a class and creating instances from it allows for modular, scalable coding practices. A class serves as a blueprint for objects, while instances (objects) are the concrete realization of the class. Let’s explore this concept further by defining a simple class, like a `Car` class, and demonstrate how objects maintain their unique state and why methods need to operate on specific instances."
   ]
  },
  {
   "cell_type": "markdown",
   "metadata": {},
   "source": [
    "A class is defined in Python using the `class` keyword, followed by the class name and a colon. Conventionally, class names follow PascalCase notation.\n"
   ]
  },
  {
   "cell_type": "code",
   "execution_count": 1,
   "metadata": {},
   "outputs": [],
   "source": [
    "class Car:\n",
    "    wheels = 4"
   ]
  },
  {
   "cell_type": "markdown",
   "metadata": {},
   "source": [
    "Here, `Car` is our class, and `wheels` is a class attribute, signifying that each car has four wheels, a property shared by all instances.\n"
   ]
  },
  {
   "cell_type": "markdown",
   "metadata": {},
   "source": [
    "### [Introducing  Methods](#)\n"
   ]
  },
  {
   "cell_type": "markdown",
   "metadata": {},
   "source": [
    "Methods within a class define the behaviors or actions that the objects of the class can perform. They are essentially functions that belong to the class.\n"
   ]
  },
  {
   "cell_type": "code",
   "execution_count": 2,
   "metadata": {},
   "outputs": [],
   "source": [
    "class Car:\n",
    "    wheels = 4\n",
    "\n",
    "    def honk(self):\n",
    "        return \"Honk! Honk!\""
   ]
  },
  {
   "cell_type": "markdown",
   "metadata": {},
   "source": [
    "The `honk` method allows a `Car` object to perform an action, signifying the car honking. The first parameter `self` in the method definition represents the instance upon which the method is called, crucial for accessing instance attributes and methods.\n"
   ]
  },
  {
   "cell_type": "markdown",
   "metadata": {},
   "source": [
    "### [Instantiate an Object from the Class](#)\n"
   ]
  },
  {
   "cell_type": "markdown",
   "metadata": {},
   "source": [
    "Creating an instance (object) from our `Car` class:\n"
   ]
  },
  {
   "cell_type": "code",
   "execution_count": 3,
   "metadata": {},
   "outputs": [],
   "source": [
    "obj = Car()"
   ]
  },
  {
   "cell_type": "markdown",
   "metadata": {},
   "source": [
    "`obj` is now an instance of the `Car` class.\n"
   ]
  },
  {
   "cell_type": "markdown",
   "metadata": {},
   "source": [
    "### [Clarifying the Necessity of Passing `obj` to Methods](#)\n"
   ]
  },
  {
   "cell_type": "markdown",
   "metadata": {},
   "source": [
    "To illustrate why it's essential to pass the object to its methods, let’s examine two different ways to invoke the `honk` method on our `obj` instance, focusing on the role of `self`.\n"
   ]
  },
  {
   "cell_type": "markdown",
   "metadata": {},
   "source": [
    "**Method Call on the Instance:**\n"
   ]
  },
  {
   "cell_type": "markdown",
   "metadata": {},
   "source": [
    "Typically, we call a method using the dot notation which implicitly passes the instance to the method:\n"
   ]
  },
  {
   "cell_type": "code",
   "execution_count": 4,
   "metadata": {},
   "outputs": [
    {
     "data": {
      "text/plain": [
       "'Honk! Honk!'"
      ]
     },
     "execution_count": 4,
     "metadata": {},
     "output_type": "execute_result"
    }
   ],
   "source": [
    "result = obj.honk()\n",
    "result"
   ]
  },
  {
   "cell_type": "markdown",
   "metadata": {},
   "source": [
    "**Explicit Method Call via the Class:**\n"
   ]
  },
  {
   "cell_type": "markdown",
   "metadata": {},
   "source": [
    "Alternatively, we can explicitly call the method on the class, thereby needing to pass the instance (`obj`) as an argument:\n"
   ]
  },
  {
   "cell_type": "code",
   "execution_count": 5,
   "metadata": {},
   "outputs": [
    {
     "data": {
      "text/plain": [
       "'Honk! Honk!'"
      ]
     },
     "execution_count": 5,
     "metadata": {},
     "output_type": "execute_result"
    }
   ],
   "source": [
    "result = Car.honk(obj)\n",
    "result"
   ]
  },
  {
   "cell_type": "markdown",
   "metadata": {},
   "source": [
    "The explicit call `Car.honk(obj)` makes evident why `self` (or the instance in this context) is essential: the class itself is just a blueprint, which means it doesn’t hold any specific state or data related to an individual object. Each object created from the class has its unique data. Therefore, when we wish to apply updates or actions to an object, we must specify which object (instance) we're referring to. The method needs to know on which particular instance to act, hence the necessity of passing `obj` to it. This operation is implicitly handled in Python when calling methods using the dot notation but understanding this mechanism is key to grasping how data and behavior are encapsulated within objects.\n"
   ]
  },
  {
   "cell_type": "markdown",
   "metadata": {},
   "source": [
    "Understanding this process elucidates the object-oriented nature of Python and clarifies how classes blueprint the structure and behaviors that their instances—objects with unique states—can exhibit. This foundational knowledge sets the stage for more advanced discussions on object initialization and manipulation within Python OOP."
   ]
  },
  {
   "cell_type": "markdown",
   "metadata": {},
   "source": [
    "## [Instance Methods and the Use of `self`](#)"
   ]
  },
  {
   "cell_type": "markdown",
   "metadata": {},
   "source": [
    "In Python's Object-Oriented Programming (OOP), instance methods are key to defining the behaviors that objects of a class can exhibit. These methods are integral to interacting with an object's data — modifying and accessing the attributes that belong to each specific instance of a class. The `self` parameter plays a crucial role in this process, acting as a reference to the current instance of the class. Let's delve into instance methods and the pivotal role of `self`, using a `Car` class with a `honk()` method as our example.\n"
   ]
  },
  {
   "cell_type": "markdown",
   "metadata": {},
   "source": [
    "Instance methods in a class need a reference to the specific object instance they are meant to operate on. This is where `self` comes into play. It's the first parameter of any instance method in Python classes, and it provides a way for that method to access the attributes and other methods of the class.\n"
   ]
  },
  {
   "cell_type": "markdown",
   "metadata": {},
   "source": [
    "Let's define a simple `Car` class with a `honk` instance method:\n"
   ]
  },
  {
   "cell_type": "code",
   "execution_count": 6,
   "metadata": {},
   "outputs": [],
   "source": [
    "class Car:\n",
    "    def honk(self):\n",
    "        return \"Honk! Honk!\""
   ]
  },
  {
   "cell_type": "markdown",
   "metadata": {},
   "source": [
    "Here, `honk` is an instance method that, when called, represents the action of the car honking. The method doesn't need any external data to perform its action; it's a behavior that any car instance can exhibit by simply being a car.\n"
   ]
  },
  {
   "cell_type": "markdown",
   "metadata": {},
   "source": [
    "### [Understanding `self`](#)\n"
   ]
  },
  {
   "cell_type": "markdown",
   "metadata": {},
   "source": [
    "The `self` parameter in the `honk` method is a reference to the instance upon which the method is called. This mechanism allows each object (instance of a class) to keep track of its own state and data. Essentially, `self` is the way we differentiate between one instance of a class and another.\n"
   ]
  },
  {
   "cell_type": "code",
   "execution_count": 7,
   "metadata": {},
   "outputs": [
    {
     "data": {
      "text/plain": [
       "'Honk! Honk!'"
      ]
     },
     "execution_count": 7,
     "metadata": {},
     "output_type": "execute_result"
    }
   ],
   "source": [
    "my_car = Car()\n",
    "my_car.honk()"
   ]
  },
  {
   "cell_type": "markdown",
   "metadata": {},
   "source": [
    "In the above code, when `honk()` is called on `my_car`, Python automatically passes the `my_car` object to the `honk()` method as the `self` parameter. This is why within class method definitions, `self` is used to access other attributes and methods of the same object.\n"
   ]
  },
  {
   "cell_type": "markdown",
   "metadata": {},
   "source": [
    "### [Practical Code Examples Using `self`](#)\n"
   ]
  },
  {
   "cell_type": "markdown",
   "metadata": {},
   "source": [
    "Let's expand our `Car` class to include an attribute `color`, which we want to refer to within our `honk` method:\n"
   ]
  },
  {
   "cell_type": "code",
   "execution_count": 8,
   "metadata": {},
   "outputs": [],
   "source": [
    "class Car:\n",
    "    def __init__(self, color):\n",
    "        self.color = color\n",
    "\n",
    "    def honk(self):\n",
    "        return f\"The {self.color} car says Honk! Honk!\""
   ]
  },
  {
   "cell_type": "markdown",
   "metadata": {},
   "source": [
    "When creating a new car instance, you can now specify its color:\n"
   ]
  },
  {
   "cell_type": "code",
   "execution_count": 9,
   "metadata": {},
   "outputs": [
    {
     "data": {
      "text/plain": [
       "'The blue car says Honk! Honk!'"
      ]
     },
     "execution_count": 9,
     "metadata": {},
     "output_type": "execute_result"
    }
   ],
   "source": [
    "blue_car = Car(\"blue\")\n",
    "blue_car.honk()"
   ]
  },
  {
   "cell_type": "markdown",
   "metadata": {},
   "source": [
    "In the expanded `Car` class, the `__init__` method introduces an instance attribute `color` that stores the color of the car. In the `honk` method, we use `self.color` to access this attribute. The reference to `self.color` signifies that we're accessing the `color` attribute of the specific instance `blue_car`.\n"
   ]
  },
  {
   "cell_type": "markdown",
   "metadata": {},
   "source": [
    "### [Why `self` is Necessary](#)\n"
   ]
  },
  {
   "cell_type": "markdown",
   "metadata": {},
   "source": [
    "Without `self`, there would be no clear way to refer to the data belonging to a specific object. `self` provides the context needed for instance methods to not only operate on the data they encapsulate but also to interact with other methods within the same object scope. It ensures that each object instance can maintain its unique state and behaviors, distinct from other instances of the same class.\n"
   ]
  },
  {
   "cell_type": "markdown",
   "metadata": {},
   "source": [
    "Through these practical examples, it's evident how `self` serves as the bridge between class definitions and the individual instances of those classes, enabling precise, object-specific interactions within Python's OOP framework."
   ]
  },
  {
   "cell_type": "markdown",
   "metadata": {},
   "source": [
    "## [The Role of `__init__` Method in Python Classes](#)"
   ]
  },
  {
   "cell_type": "markdown",
   "metadata": {},
   "source": [
    "As we dive deeper into the fundamentals of Object-Oriented Programming (OOP) in Python, understanding the `__init__` method is paramount. This method plays a critical role in class definitions, acting as the initializer or constructor for new instances of a class. Building upon our grasp of the `self` parameter in instance methods, the `__init__` method offers a clear demonstration of `self` in action, highlighting its use for setting up object attributes upon instantiation.\n"
   ]
  },
  {
   "cell_type": "markdown",
   "metadata": {},
   "source": [
    "In Python, the `__init__` method is automatically invoked when a new instance of a class is created. This special method, often referred to as the constructor in other programming languages, is used to initialize the newly created object's state. By defining an `__init__` method in a class, we can specify the initial conditions of our objects, providing the necessary data at the time of their creation.\n"
   ]
  },
  {
   "cell_type": "markdown",
   "metadata": {},
   "source": [
    "The `__init__` method allows for the initialization of object attributes and the execution of any other startup procedures necessary for the new object. Like other instance methods, it takes `self` as its first parameter to refer to the instance being initialized, followed by any other parameters necessary for setting up the object. \n"
   ]
  },
  {
   "cell_type": "markdown",
   "metadata": {},
   "source": [
    "### [Modifying the Car Class to Include the `__init__` Method](#)\n"
   ]
  },
  {
   "cell_type": "markdown",
   "metadata": {},
   "source": [
    "Let's revisit our `Car` class and introduce an `__init__` method to handle initialization, specifically to set each car's color and model upon creation:\n"
   ]
  },
  {
   "cell_type": "code",
   "execution_count": 10,
   "metadata": {},
   "outputs": [],
   "source": [
    "class Car:\n",
    "    def __init__(self, color, model):\n",
    "        self.color = color\n",
    "        self.model = model\n",
    "\n",
    "    def honk(self):\n",
    "        return f\"The {self.color} {self.model} car says Honk! Honk!\""
   ]
  },
  {
   "cell_type": "markdown",
   "metadata": {},
   "source": [
    "In this modified version of the `Car` class, the `__init__` method takes three parameters: `self`, `color`, and `model`. The method defines two attributes (`color` and `model`) and assigns them to the instance using the values provided during instantiation. This ensures that every `Car` object can have its own unique color and model.\n"
   ]
  },
  {
   "cell_type": "markdown",
   "metadata": {},
   "source": [
    "Now, with the `__init__` method in place, we can create `Car` objects by providing the required information (color and model) at the time of their creation:\n"
   ]
  },
  {
   "cell_type": "code",
   "execution_count": 11,
   "metadata": {},
   "outputs": [
    {
     "data": {
      "text/plain": [
       "'The red Toyota car says Honk! Honk!'"
      ]
     },
     "execution_count": 11,
     "metadata": {},
     "output_type": "execute_result"
    }
   ],
   "source": [
    "my_car = Car(\"red\", \"Toyota\")\n",
    "my_car.honk()"
   ]
  },
  {
   "cell_type": "markdown",
   "metadata": {},
   "source": [
    "This example shows how the `__init__` method is utilized to initialize the `my_car` instance with specific attributes (a red color and Toyota model). When `my_car` calls the `honk` method, it has access to its `color` and `model` attributes through `self`, demonstrating how `self` facilitates attribute access within class methods.\n"
   ]
  },
  {
   "cell_type": "markdown",
   "metadata": {},
   "source": [
    "The introduction of the `__init__` method in class definitions is foundational for leveraging Python's OOP capabilities. It ensures that each object starts its life cycle with a defined state, making objects more predictable and easier to manage. It exemplifies how Python's OOP features, especially `self` and instance attributes, are designed to model real-world entities in a structured and intuitive manner. Through initialization, objects become more than mere instances of classes—they embody specific characteristics and behaviors suited to the tasks for which they are created."
   ]
  },
  {
   "cell_type": "markdown",
   "metadata": {},
   "source": [
    "## [Classes vs. Instances Attributes](#)"
   ]
  },
  {
   "cell_type": "markdown",
   "metadata": {},
   "source": [
    "A fundamental aspect of Python's Object-Oriented Programming (OOP) is the distinction between classes and instances. This distinction is pivotal when working with attributes, as it determines whether a piece of data applies universally to all instances (class attributes) or uniquely to each instance (instance attributes). Grasping the nature of class and instance attributes, as well as the role of `self` in differentiating between them, is crucial for effective OOP in Python.\n"
   ]
  },
  {
   "cell_type": "markdown",
   "metadata": {},
   "source": [
    "### [Class Attributes](#)\n"
   ]
  },
  {
   "cell_type": "markdown",
   "metadata": {},
   "source": [
    "Class attributes are associated with the class itself rather than any individual instance. They are shared across all instances of the class, meaning that changing the value of a class attribute affects all objects of that class simultaneously. Class attributes are defined directly in the body of the class, outside of any methods.\n"
   ]
  },
  {
   "cell_type": "markdown",
   "metadata": {},
   "source": [
    "Consider a hypothetical `Animal` class with a class attribute `kingdom`:\n"
   ]
  },
  {
   "cell_type": "code",
   "execution_count": 12,
   "metadata": {},
   "outputs": [],
   "source": [
    "class Animal:\n",
    "    kingdom = 'Animalia'\n",
    "\n",
    "    def __init__(self, species):\n",
    "        self.species = species"
   ]
  },
  {
   "cell_type": "markdown",
   "metadata": {},
   "source": [
    "Here, `kingdom` is a property common to all animals, making it a fitting class attribute. No matter how many `Animal` instances you create, they will all share the same `kingdom`.\n"
   ]
  },
  {
   "cell_type": "markdown",
   "metadata": {},
   "source": [
    "### [Instance Attributes](#)\n"
   ]
  },
  {
   "cell_type": "markdown",
   "metadata": {},
   "source": [
    "Instance attributes, on the other hand, are specific to the objects instantiated from a class. Each object has its own set of data represented by instance attributes, which are typically defined within the `__init__` method using `self`. These attributes allow for individual instances to carry unique state and behavior.\n"
   ]
  },
  {
   "cell_type": "markdown",
   "metadata": {},
   "source": [
    "Using the `Animal` example, the `species` attribute in the `__init__` method is an instance attribute:\n"
   ]
  },
  {
   "cell_type": "code",
   "execution_count": 13,
   "metadata": {},
   "outputs": [],
   "source": [
    "dog = Animal('Canis lupus')\n",
    "fish = Animal('Paracheirodon innesi')"
   ]
  },
  {
   "cell_type": "markdown",
   "metadata": {},
   "source": [
    "`dog` and `fish` have their unique `species` attributes reflecting their respective species. Changing the `species` of `dog` would not affect `fish` in any way because `species` is an instance attribute.\n"
   ]
  },
  {
   "cell_type": "markdown",
   "metadata": {},
   "source": [
    "The keyword `self` plays an indispensable role in distinguishing between class attributes and instance attributes. `self` refers to the current instance and is the first parameter in instance methods, including the `__init__` method. It allows for the definition and manipulation of attributes that are specific to each instance, enabling you to access these attributes within class methods.\n"
   ]
  },
  {
   "cell_type": "markdown",
   "metadata": {},
   "source": [
    "When you use `self.attribute_name`, you're accessing or modifying an attribute that belongs to the particular instance represented by `self`, rather than modifying a class-level attribute. This mechanism ensures that instance-specific data and behaviors are encapsulated within individual objects, adhering to the principles of encapsulation and abstraction in OOP.\n"
   ]
  },
  {
   "cell_type": "markdown",
   "metadata": {},
   "source": [
    "Understanding the distinction between class attributes and instance attributes is fundamental in Python OOP, as it influences how data is stored, shared, and modified across different objects. `self` is the linchpin in managing instance-specific attributes and methods, ensuring that each object retains its unique state and behaviors. Grasping these concepts will greatly enhance your proficiency in Python OOP, enabling you to create more flexible, efficient, and maintainable code."
   ]
  },
  {
   "cell_type": "markdown",
   "metadata": {},
   "source": [
    "## [Instantiating Objects](#)"
   ]
  },
  {
   "cell_type": "markdown",
   "metadata": {},
   "source": [
    "In Python's Object-Oriented Programming (OOP), instantiating objects is the process of creating individual instances of a class. Each of these instances is a separate object with its own identity, state, and behavior. This process is crucial for realizing the practical applications of the classes we define. Let’s walk through how to create objects from a class, access their attributes, and invoke methods, emphasizing how each object maintains its unique state.\n"
   ]
  },
  {
   "cell_type": "markdown",
   "metadata": {},
   "source": [
    "### [Creating Objects from a Class](#)\n"
   ]
  },
  {
   "cell_type": "markdown",
   "metadata": {},
   "source": [
    "To instantiate an object, you simply call the class as if it were a function, passing any arguments that its `__init__` method requires. Here's how you create objects from a previously defined `Car` class:\n"
   ]
  },
  {
   "cell_type": "code",
   "execution_count": 14,
   "metadata": {},
   "outputs": [],
   "source": [
    "class Car:\n",
    "    def __init__(self, color, model):\n",
    "        self.color = color\n",
    "        self.model = model\n",
    "\n",
    "    def honk(self):\n",
    "        return f\"{self.model} says: Honk! Honk!\"\n"
   ]
  },
  {
   "cell_type": "code",
   "execution_count": 15,
   "metadata": {},
   "outputs": [],
   "source": [
    "# Instantiate two Car objects\n",
    "car1 = Car(\"red\", \"Honda\")\n",
    "car2 = Car(\"blue\", \"Toyota\")"
   ]
  },
  {
   "cell_type": "markdown",
   "metadata": {},
   "source": [
    "In this example, `car1` and `car2` are instances (objects) of the `Car` class, each initialized with its own `color` and `model` data.\n"
   ]
  },
  {
   "cell_type": "markdown",
   "metadata": {},
   "source": [
    "### [Accessing Attributes and Invoking Methods](#)\n"
   ]
  },
  {
   "cell_type": "markdown",
   "metadata": {},
   "source": [
    "Once you have instantiated objects, you can access their attributes and call their methods using dot notation. This notation allows you to interact with the object's properties and behaviors as defined in its class:\n"
   ]
  },
  {
   "cell_type": "code",
   "execution_count": 16,
   "metadata": {},
   "outputs": [
    {
     "data": {
      "text/plain": [
       "'red'"
      ]
     },
     "execution_count": 16,
     "metadata": {},
     "output_type": "execute_result"
    }
   ],
   "source": [
    "# Access attributes\n",
    "car1.color"
   ]
  },
  {
   "cell_type": "code",
   "execution_count": 17,
   "metadata": {},
   "outputs": [
    {
     "data": {
      "text/plain": [
       "'Toyota'"
      ]
     },
     "execution_count": 17,
     "metadata": {},
     "output_type": "execute_result"
    }
   ],
   "source": [
    "car2.model"
   ]
  },
  {
   "cell_type": "code",
   "execution_count": 18,
   "metadata": {},
   "outputs": [
    {
     "data": {
      "text/plain": [
       "'Honda says: Honk! Honk!'"
      ]
     },
     "execution_count": 18,
     "metadata": {},
     "output_type": "execute_result"
    }
   ],
   "source": [
    "# Invoke methods\n",
    "car1.honk()"
   ]
  },
  {
   "cell_type": "markdown",
   "metadata": {},
   "source": [
    "Accessing attributes directly and invoking methods through objects demonstrate how interactions with an object occur through its interface (public methods and properties).\n"
   ]
  },
  {
   "cell_type": "markdown",
   "metadata": {},
   "source": [
    "### [Maintaining Unique State](#)\n"
   ]
  },
  {
   "cell_type": "markdown",
   "metadata": {},
   "source": [
    "Despite being instances of the same class, `car1` and `car2` each maintain a unique state. This uniqueness is a fundamental characteristic of objects in OOP and is facilitated by the fact that each object has its own separate memory allocation:\n"
   ]
  },
  {
   "cell_type": "code",
   "execution_count": 19,
   "metadata": {},
   "outputs": [],
   "source": [
    "car1.color = \"green\"  # Changing the color of car1"
   ]
  },
  {
   "cell_type": "code",
   "execution_count": 20,
   "metadata": {},
   "outputs": [
    {
     "data": {
      "text/plain": [
       "('green', 'blue')"
      ]
     },
     "execution_count": 20,
     "metadata": {},
     "output_type": "execute_result"
    }
   ],
   "source": [
    "# car1's color has changed, but car2's color remains the same\n",
    "car1.color, car2.color"
   ]
  },
  {
   "cell_type": "markdown",
   "metadata": {},
   "source": [
    "Changing the `color` attribute of `car1` does not affect `car2`. This isolation ensures that actions performed on one instance do not inadvertently impact others, crucial for managing data integrity and predictability in larger systems.\n"
   ]
  },
  {
   "cell_type": "markdown",
   "metadata": {},
   "source": [
    "Instantiating objects in Python is a straightforward process that breathes life into class definitions, turning them into working components of software applications. By interacting with these instances through their attributes and methods, programmers can harness the full power of OOP to build complex, modular, and maintainable systems. The ability of objects to maintain a unique state is central to this paradigm, allowing for the creation of diverse functionalities and behaviors within a single framework."
   ]
  }
 ],
 "metadata": {
  "kernelspec": {
   "display_name": "py310",
   "language": "python",
   "name": "python3"
  },
  "language_info": {
   "codemirror_mode": {
    "name": "ipython",
    "version": 3
   },
   "file_extension": ".py",
   "mimetype": "text/x-python",
   "name": "python",
   "nbconvert_exporter": "python",
   "pygments_lexer": "ipython3",
   "version": "3.10.13"
  }
 },
 "nbformat": 4,
 "nbformat_minor": 2
}
