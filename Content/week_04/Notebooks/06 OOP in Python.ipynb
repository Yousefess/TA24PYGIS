{
 "cells": [
  {
   "cell_type": "markdown",
   "metadata": {},
   "source": [
    "# <h1 style=\"color:red\">OOP in Python</h1>"
   ]
  },
  {
   "cell_type": "markdown",
   "metadata": {},
   "source": [
    "Object-Oriented Programming (OOP) is one of the most powerful approaches in software development, centered around the use of classes and objects. It emphasizes grouping data and behaviors into operational units with the aim of making software design more modular, flexible, and manageable. OOP is built on the foundation of four main principles: encapsulation, inheritance, polymorphism, and abstraction. These principles guide the organization of software in a way that facilitates reuse, scalability, and maintainability.\n"
   ]
  },
  {
   "cell_type": "markdown",
   "metadata": {},
   "source": [
    "**Python as an Ideal Learning Platform for OOP:**\n",
    "Python is a versatile, high-level programming language that is widely used in industry and academia for various types of applications, from web development to data analysis and machine learning. Its simple syntax and readability make it an ideal platform for learning OOP concepts. Python's object-oriented features are integrated seamlessly, allowing for a gentle introduction to OOP without overwhelming beginners.\n"
   ]
  },
  {
   "cell_type": "markdown",
   "metadata": {},
   "source": [
    "**Benefits of Learning OOP in Python:**\n",
    "\n",
    "- **Enhanced Problem-Solving Skills:** Learning OOP in Python enables you to think about software design in a more structured and logical way. It encourages the breaking down of complex problems into manageable units (classes/objects), promoting a clearer thought process and solution pathway.\n",
    "  \n",
    "- **Increased Code Reusability:** By understanding OOP, you can write code that is more modular and reusable. This not only saves time and effort in the long run but also helps in building more robust and maintainable systems.\n",
    "\n",
    "- **Improved Collaboration:** OOP promotes a standardized approach to software development. This standardization facilitates better collaboration among developers, as code based on OOP principles is generally easier to understand, debug, and extend by others.\n",
    "\n",
    "- **Versatility in Career Opportunities:** Given Python’s widespread adoption in multiple domains, mastering OOP in Python opens up a wide range of career opportunities. Whether you're interested in web development, software engineering, data science, or any other field that involves programming, a solid understanding of OOP will be a valuable asset.\n",
    "\n",
    "- **Foundation for Advanced Learning:** Python's support for OOP provides a strong foundation for diving into more advanced programming concepts and paradigms. It prepares learners not just to use Python more effectively, but also to explore other object-oriented languages and frameworks with confidence.\n"
   ]
  },
  {
   "cell_type": "markdown",
   "metadata": {},
   "source": [
    "In conclusion, the journey into OOP with Python not only enhances your programming toolkit but also equips you with a mindset geared towards building efficient, scalable, and maintainable software solutions. Embracing OOP in Python is a step towards becoming a versatile and effective software developer in today’s tech-driven world."
   ]
  },
  {
   "cell_type": "markdown",
   "metadata": {},
   "source": [
    "## [Basic Concepts of OOP in Python](#)"
   ]
  },
  {
   "cell_type": "markdown",
   "metadata": {},
   "source": [
    "Object-Oriented Programming (OOP) in Python revolves around two fundamental concepts: classes and objects. Understanding these concepts is key to harnessing the power of OOP and effectively applying it to solve complex problems in an organized and efficient manner.\n"
   ]
  },
  {
   "cell_type": "markdown",
   "metadata": {},
   "source": [
    "### [What is a Class?](#)\n"
   ]
  },
  {
   "cell_type": "markdown",
   "metadata": {},
   "source": [
    "A class in Python can be thought of as a blueprint or template from which objects are created. It defines a group of objects with shared characteristics and behaviors. A class encapsulates data for the object (attributes) and methods to interact with that data. Essentially, it's a user-defined data structure that binds data and functions together as a single unit.\n"
   ]
  },
  {
   "cell_type": "markdown",
   "metadata": {},
   "source": [
    "### [What is an Object?](#)\n"
   ]
  },
  {
   "cell_type": "markdown",
   "metadata": {},
   "source": [
    "An object is an instance of a class. When the class defines the structure and behaviors, an object embodies the actual data and functionality as defined by the class. Each object can hold different data, but they share the structure and behavior defined in their class. Objects are the actual components you work with in your programming code.\n"
   ]
  },
  {
   "cell_type": "markdown",
   "metadata": {},
   "source": [
    "### [Simple Class Creation Example in Python](#)\n"
   ]
  },
  {
   "cell_type": "markdown",
   "metadata": {},
   "source": [
    "To illustrate how to create a class in Python, let’s create a simple `Dog` class. This class will have two attributes (`name` and `age`) and one method (`bark`)."
   ]
  },
  {
   "cell_type": "code",
   "execution_count": 1,
   "metadata": {},
   "outputs": [],
   "source": [
    "class Dog:\n",
    "    def __init__(self, name, age):\n",
    "        self.name = name\n",
    "        self.age = age\n",
    "\n",
    "    def bark(self):\n",
    "        return f\"{self.name} says Woof!\""
   ]
  },
  {
   "cell_type": "markdown",
   "metadata": {},
   "source": [
    "In this example, the `__init__` method initializes each new instance of the class, and `self` represents the instance (object) of the class. `name` and `age` are attributes, and `bark` is a method that allows the dog to bark.\n"
   ]
  },
  {
   "cell_type": "markdown",
   "metadata": {},
   "source": [
    "### [Instantiating Objects from a Class](#)\n"
   ]
  },
  {
   "cell_type": "markdown",
   "metadata": {},
   "source": [
    "Once we have a class, we can create objects (instances) from that class. Here's how to create `Dog` objects from our `Dog` class:\n"
   ]
  },
  {
   "cell_type": "code",
   "execution_count": 2,
   "metadata": {},
   "outputs": [],
   "source": [
    "dog1 = Dog(\"Max\", 5)"
   ]
  },
  {
   "cell_type": "code",
   "execution_count": 3,
   "metadata": {},
   "outputs": [],
   "source": [
    "dog2 = Dog(\"Bella\", 3)"
   ]
  },
  {
   "cell_type": "code",
   "execution_count": 4,
   "metadata": {},
   "outputs": [
    {
     "data": {
      "text/plain": [
       "'Max says Woof!'"
      ]
     },
     "execution_count": 4,
     "metadata": {},
     "output_type": "execute_result"
    }
   ],
   "source": [
    "dog1.bark()"
   ]
  },
  {
   "cell_type": "code",
   "execution_count": 5,
   "metadata": {},
   "outputs": [
    {
     "data": {
      "text/plain": [
       "'Bella says Woof!'"
      ]
     },
     "execution_count": 5,
     "metadata": {},
     "output_type": "execute_result"
    }
   ],
   "source": [
    "dog2.bark()"
   ]
  },
  {
   "cell_type": "markdown",
   "metadata": {},
   "source": [
    "When we create `dog1`, we're creating an instance of the `Dog` class with the name \"Max\" and age 5. Similarly, `dog2` is another instance with different data (\"Bella\", 3). Each object has access to the class methods, so calling `dog1.bark()` outputs \"Max says Woof!\".\n"
   ]
  },
  {
   "cell_type": "markdown",
   "metadata": {},
   "source": [
    "This ability to create multiple instances with their own unique data, while sharing the same functionalities, showcases the power and convenience of using classes and objects in Python OOP. From these foundations, we can build up more complex behaviors and interactions to model real-world scenarios effectively."
   ]
  },
  {
   "cell_type": "markdown",
   "metadata": {},
   "source": [
    "## [Key Features of Python OOP](#)"
   ]
  },
  {
   "cell_type": "markdown",
   "metadata": {},
   "source": [
    "Object-Oriented Programming (OOP) in Python is built upon four fundamental concepts often referred to as the **\"four pillars\"**: encapsulation, inheritance, polymorphism, and abstraction. These concepts are central to Python OOP and enable the design of modular, reusable, and manageable code.\n"
   ]
  },
  {
   "cell_type": "markdown",
   "metadata": {},
   "source": [
    "### [Encapsulation](#)\n"
   ]
  },
  {
   "cell_type": "markdown",
   "metadata": {},
   "source": [
    "**Concept:** Encapsulation is the mechanism of hiding the internal details or mechanisms of how an object works and exposing only the necessary parts of the object to the outside world. It bundles the data (attributes) and the methods (functions) that operate on the data into a single unit, referred to as an object. This concept helps to restrict direct access to some of an object’s components, which can prevent the accidental modification of data.\n"
   ]
  },
  {
   "cell_type": "markdown",
   "metadata": {},
   "source": [
    "**Simple Example:**\n"
   ]
  },
  {
   "cell_type": "code",
   "execution_count": 6,
   "metadata": {},
   "outputs": [],
   "source": [
    "class Account:\n",
    "    def __init__(self, owner, amount=0):\n",
    "        self.owner = owner\n",
    "        self.__balance = amount  # Private attribute\n",
    "\n",
    "    def deposit(self, amount):\n",
    "        if amount > 0:\n",
    "            self.__balance += amount\n",
    "            print(\"Deposit Successful\")\n",
    "\n",
    "    def show_balance(self):\n",
    "        print(f\"Balance: {self.__balance}\")"
   ]
  },
  {
   "cell_type": "code",
   "execution_count": 7,
   "metadata": {},
   "outputs": [],
   "source": [
    "acc = Account(\"John\")"
   ]
  },
  {
   "cell_type": "code",
   "execution_count": 8,
   "metadata": {},
   "outputs": [
    {
     "name": "stdout",
     "output_type": "stream",
     "text": [
      "Deposit Successful\n"
     ]
    }
   ],
   "source": [
    "acc.deposit(100)"
   ]
  },
  {
   "cell_type": "code",
   "execution_count": 9,
   "metadata": {},
   "outputs": [
    {
     "name": "stdout",
     "output_type": "stream",
     "text": [
      "Balance: 100\n"
     ]
    }
   ],
   "source": [
    "acc.show_balance()  # Output: Balance: 100"
   ]
  },
  {
   "cell_type": "markdown",
   "metadata": {},
   "source": [
    "In this example, the `__balance` is a private attribute, encapsulated within the `Account` class. It cannot be accessed directly from outside the class, safeguarding the principle of encapsulation.\n"
   ]
  },
  {
   "cell_type": "markdown",
   "metadata": {},
   "source": [
    "### [Inheritance](#)\n"
   ]
  },
  {
   "cell_type": "markdown",
   "metadata": {},
   "source": [
    "**Concept:** Inheritance allows a class (known as a child or derived class) to inherit attributes and methods from another class (known as a parent or base class). This promotes code reusability and establishes a hierarchical relationship between classes.\n"
   ]
  },
  {
   "cell_type": "markdown",
   "metadata": {},
   "source": [
    "**Simple Example:**\n"
   ]
  },
  {
   "cell_type": "code",
   "execution_count": 10,
   "metadata": {},
   "outputs": [],
   "source": [
    "class Animal:\n",
    "    def speak(self):\n",
    "        print(\"Animal speaks\")"
   ]
  },
  {
   "cell_type": "code",
   "execution_count": 11,
   "metadata": {},
   "outputs": [],
   "source": [
    "class Dog(Animal):\n",
    "    def speak(self):\n",
    "        print(\"Dog barks\")"
   ]
  },
  {
   "cell_type": "code",
   "execution_count": 12,
   "metadata": {},
   "outputs": [],
   "source": [
    "# Creating an instance of Dog\n",
    "dog = Dog()"
   ]
  },
  {
   "cell_type": "code",
   "execution_count": 13,
   "metadata": {},
   "outputs": [
    {
     "name": "stdout",
     "output_type": "stream",
     "text": [
      "Dog barks\n"
     ]
    }
   ],
   "source": [
    "dog.speak()  # Output: Dog barks"
   ]
  },
  {
   "cell_type": "markdown",
   "metadata": {},
   "source": [
    "Here, the `Dog` class inherits from the `Animal` class. We override the `speak` method in the `Dog` class to customize its behavior, illustrating both inheritance and the basics of polymorphism through method overriding.\n"
   ]
  },
  {
   "cell_type": "markdown",
   "metadata": {},
   "source": [
    "### [Polymorphism](#)\n"
   ]
  },
  {
   "cell_type": "markdown",
   "metadata": {},
   "source": [
    "**Concept:** Polymorphism allows objects of different classes to be treated as objects of a common superclass. It is closely tied with inheritance, enabling methods to do different things based on the object it is acting upon, even though they share the same name.\n"
   ]
  },
  {
   "cell_type": "markdown",
   "metadata": {},
   "source": [
    "**Focusing on Method Overriding:**\n"
   ]
  },
  {
   "cell_type": "code",
   "execution_count": 14,
   "metadata": {},
   "outputs": [],
   "source": [
    "class Bird:\n",
    "    def fly(self):\n",
    "        print(\"Some birds can fly\")\n",
    "\n",
    "class Parrot(Bird):\n",
    "    def fly(self):\n",
    "        print(\"Parrots can fly\")\n",
    "\n",
    "class Penguin(Bird):\n",
    "    def fly(self):\n",
    "        print(\"Penguins do not fly\")"
   ]
  },
  {
   "cell_type": "code",
   "execution_count": 15,
   "metadata": {},
   "outputs": [],
   "source": [
    "# Polymorphism in action\n",
    "def test_flying(bird):\n",
    "    bird.fly()"
   ]
  },
  {
   "cell_type": "code",
   "execution_count": 16,
   "metadata": {},
   "outputs": [
    {
     "name": "stdout",
     "output_type": "stream",
     "text": [
      "Parrots can fly\n"
     ]
    }
   ],
   "source": [
    "test_flying(Parrot())  # Output: Parrots can fly"
   ]
  },
  {
   "cell_type": "code",
   "execution_count": 17,
   "metadata": {},
   "outputs": [
    {
     "name": "stdout",
     "output_type": "stream",
     "text": [
      "Penguins do not fly\n"
     ]
    }
   ],
   "source": [
    "test_flying(Penguin())  # Output: Penguins do not fly"
   ]
  },
  {
   "cell_type": "markdown",
   "metadata": {},
   "source": [
    "In this example, the `Bird` class function `fly` is overridden in both `Parrot` and `Penguin` classes, demonstrating polymorphism through method overriding.\n"
   ]
  },
  {
   "cell_type": "markdown",
   "metadata": {},
   "source": [
    "### [Abstraction](#)\n"
   ]
  },
  {
   "cell_type": "markdown",
   "metadata": {},
   "source": [
    "**Concept:** While we've briefly touched on Abstraction as one of the pillars of OOP, we'll discuss it more in future sessions. Abstraction involves hiding the complex reality while exposing only the necessary parts. It's similar to encapsulation but works at a class level, often utilizing abstract classes and interfaces to implement.\n"
   ]
  },
  {
   "cell_type": "markdown",
   "metadata": {},
   "source": [
    "Abstraction in Python typically involves the creation of Abstract Base Classes (ABCs), using the `abc` module, to define a common interface for a set of subclasses. This enforces a contract for what methods must be implemented by its subclasses, promoting a layer of consistency across different implementations.\n"
   ]
  },
  {
   "cell_type": "code",
   "execution_count": 18,
   "metadata": {},
   "outputs": [],
   "source": [
    "from abc import ABC, abstractmethod\n",
    "\n",
    "class Shape(ABC):\n",
    "    @abstractmethod\n",
    "    def area(self):\n",
    "        pass\n",
    "\n",
    "    @abstractmethod\n",
    "    def perimeter(self):\n",
    "        pass"
   ]
  },
  {
   "cell_type": "code",
   "execution_count": 19,
   "metadata": {},
   "outputs": [],
   "source": [
    "class Square(Shape):\n",
    "    def __init__(self, side):\n",
    "        self.__side = side\n",
    "\n",
    "    def area(self):\n",
    "        return self.__side * self.__side\n",
    "\n",
    "    def perimeter(self):\n",
    "        return 4 * self.__side"
   ]
  },
  {
   "cell_type": "code",
   "execution_count": 20,
   "metadata": {},
   "outputs": [
    {
     "data": {
      "text/plain": [
       "25"
      ]
     },
     "execution_count": 20,
     "metadata": {},
     "output_type": "execute_result"
    }
   ],
   "source": [
    "square = Square(5)\n",
    "square.area()"
   ]
  },
  {
   "cell_type": "markdown",
   "metadata": {},
   "source": [
    "Understanding and applying these key features of Python OOP will significantly enhance your coding techniques and problem-solving approach, making your programs more scalable, efficient, and maintainable."
   ]
  }
 ],
 "metadata": {
  "kernelspec": {
   "display_name": "py310",
   "language": "python",
   "name": "python3"
  },
  "language_info": {
   "codemirror_mode": {
    "name": "ipython",
    "version": 3
   },
   "file_extension": ".py",
   "mimetype": "text/x-python",
   "name": "python",
   "nbconvert_exporter": "python",
   "pygments_lexer": "ipython3",
   "version": "3.10.13"
  }
 },
 "nbformat": 4,
 "nbformat_minor": 2
}
