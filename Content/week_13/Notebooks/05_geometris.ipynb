{
 "cells": [
  {
   "cell_type": "markdown",
   "metadata": {},
   "source": [
    "# Library Import"
   ]
  },
  {
   "cell_type": "code",
   "execution_count": 1,
   "metadata": {},
   "outputs": [],
   "source": [
    "import duckdb\n",
    "import leafmap"
   ]
  },
  {
   "cell_type": "markdown",
   "metadata": {},
   "source": [
    "# Sample Data"
   ]
  },
  {
   "cell_type": "code",
   "execution_count": null,
   "metadata": {},
   "outputs": [],
   "source": [
    "url = \"https://open.gishub.org/data/duckdb/nyc_data.db.zip\"\n",
    "leafmap.download_file(url, unzip=True)"
   ]
  },
  {
   "cell_type": "markdown",
   "metadata": {},
   "source": [
    "# Connecting to DuckDB"
   ]
  },
  {
   "cell_type": "code",
   "execution_count": 3,
   "metadata": {},
   "outputs": [],
   "source": [
    "con = duckdb.connect('nyc_data.db')"
   ]
  },
  {
   "cell_type": "code",
   "execution_count": 4,
   "metadata": {},
   "outputs": [],
   "source": [
    "con.install_extension(\"spatial\")\n",
    "con.load_extension(\"spatial\")"
   ]
  },
  {
   "cell_type": "code",
   "execution_count": 5,
   "metadata": {},
   "outputs": [
    {
     "data": {
      "text/plain": [
       "┌─────────────────────┐\n",
       "│        name         │\n",
       "│       varchar       │\n",
       "├─────────────────────┤\n",
       "│ nyc_census_blocks   │\n",
       "│ nyc_homicides       │\n",
       "│ nyc_neighborhoods   │\n",
       "│ nyc_streets         │\n",
       "│ nyc_subway_stations │\n",
       "└─────────────────────┘"
      ]
     },
     "execution_count": 5,
     "metadata": {},
     "output_type": "execute_result"
    }
   ],
   "source": [
    "con.sql(\"SHOW TABLES;\")"
   ]
  },
  {
   "cell_type": "markdown",
   "metadata": {},
   "source": [
    "# Creating samples"
   ]
  },
  {
   "cell_type": "code",
   "execution_count": 6,
   "metadata": {},
   "outputs": [
    {
     "data": {
      "text/plain": [
       "┌─────────────────┬───────────────────────────────────────────────────────────────────────┐\n",
       "│      name       │                                 geom                                  │\n",
       "│     varchar     │                               geometry                                │\n",
       "├─────────────────┼───────────────────────────────────────────────────────────────────────┤\n",
       "│ Point           │ POINT (-100 40)                                                       │\n",
       "│ Linestring      │ LINESTRING (0 0, 1 1, 2 1, 2 2)                                       │\n",
       "│ Polygon         │ POLYGON ((0 0, 1 0, 1 1, 0 1, 0 0))                                   │\n",
       "│ PolygonWithHole │ POLYGON ((0 0, 10 0, 10 10, 0 10, 0 0), (1 1, 1 2, 2 2, 2 1, 1 1))    │\n",
       "│ Collection      │ GEOMETRYCOLLECTION (POINT (2 0), POLYGON ((0 0, 1 0, 1 1, 0 1, 0 0))) │\n",
       "└─────────────────┴───────────────────────────────────────────────────────────────────────┘"
      ]
     },
     "execution_count": 6,
     "metadata": {},
     "output_type": "execute_result"
    }
   ],
   "source": [
    "con.sql(\n",
    "    \"\"\"\n",
    "        CREATE OR REPLACE TABLE samples (\n",
    "            name    VARCHAR,\n",
    "            geom    GEOMETRY\n",
    "        );\n",
    "\n",
    "        INSERT INTO samples VALUES\n",
    "            ('Point', ST_GeomFromText('POINT(-100 40)')),\n",
    "            ('Linestring', ST_GeomFromText('LINESTRING(0 0, 1 1, 2 1, 2 2)')),\n",
    "            ('Polygon', ST_GeomFromText('POLYGON((0 0, 1 0, 1 1, 0 1, 0 0))')),\n",
    "            ('PolygonWithHole', ST_GeomFromText('POLYGON((0 0, 10 0, 10 10, 0 10, 0 0),(1 1, 1 2, 2 2, 2 1, 1 1))')),\n",
    "            ('Collection', ST_GeomFromText('GEOMETRYCOLLECTION(POINT(2 0),POLYGON((0 0, 1 0, 1 1, 0 1, 0 0)))'));\n",
    "\n",
    "        SELECT * FROM samples;\n",
    "    \"\"\"\n",
    ")"
   ]
  },
  {
   "cell_type": "code",
   "execution_count": 7,
   "metadata": {},
   "outputs": [
    {
     "data": {
      "text/plain": [
       "┌─────────────────┬───────────────────────────────────────────────────────────────────────┐\n",
       "│      name       │                               geometry                                │\n",
       "│     varchar     │                                varchar                                │\n",
       "├─────────────────┼───────────────────────────────────────────────────────────────────────┤\n",
       "│ Point           │ POINT (-100 40)                                                       │\n",
       "│ Linestring      │ LINESTRING (0 0, 1 1, 2 1, 2 2)                                       │\n",
       "│ Polygon         │ POLYGON ((0 0, 1 0, 1 1, 0 1, 0 0))                                   │\n",
       "│ PolygonWithHole │ POLYGON ((0 0, 10 0, 10 10, 0 10, 0 0), (1 1, 1 2, 2 2, 2 1, 1 1))    │\n",
       "│ Collection      │ GEOMETRYCOLLECTION (POINT (2 0), POLYGON ((0 0, 1 0, 1 1, 0 1, 0 0))) │\n",
       "└─────────────────┴───────────────────────────────────────────────────────────────────────┘"
      ]
     },
     "execution_count": 7,
     "metadata": {},
     "output_type": "execute_result"
    }
   ],
   "source": [
    "con.sql(\"SELECT name, ST_AsText(geom) AS geometry FROM samples;\")"
   ]
  },
  {
   "cell_type": "code",
   "execution_count": 8,
   "metadata": {},
   "outputs": [],
   "source": [
    "con.sql(\n",
    "    \"\"\"\n",
    "        COPY samples TO './out/samples.geojson' (FORMAT GDAL, DRIVER GeoJSON);\n",
    "    \"\"\"\n",
    ")"
   ]
  },
  {
   "cell_type": "code",
   "execution_count": null,
   "metadata": {},
   "outputs": [],
   "source": [
    "import geopandas as gpd\n",
    "\n",
    "gdf = gpd.read_file(\"./out/samples.geojson\")\n",
    "gdf.explore()"
   ]
  },
  {
   "cell_type": "markdown",
   "metadata": {},
   "source": [
    "# Points"
   ]
  },
  {
   "cell_type": "code",
   "execution_count": 10,
   "metadata": {},
   "outputs": [
    {
     "data": {
      "text/plain": [
       "┌─────────────────┐\n",
       "│ st_astext(geom) │\n",
       "│     varchar     │\n",
       "├─────────────────┤\n",
       "│ POINT (-100 40) │\n",
       "└─────────────────┘"
      ]
     },
     "execution_count": 10,
     "metadata": {},
     "output_type": "execute_result"
    }
   ],
   "source": [
    "con.sql(\n",
    "    \"\"\"\n",
    "        SELECT ST_AsText(geom)\n",
    "        FROM samples\n",
    "        WHERE name = 'Point';\n",
    "    \"\"\"\n",
    ")"
   ]
  },
  {
   "cell_type": "markdown",
   "metadata": {},
   "source": [
    "- `ST_X(geom)` returns the X ordinate\n",
    "- `ST_Y(geom)` returns the Y ordinate"
   ]
  },
  {
   "cell_type": "code",
   "execution_count": 11,
   "metadata": {},
   "outputs": [
    {
     "data": {
      "text/plain": [
       "┌────────────┬────────────┐\n",
       "│ st_x(geom) │ st_y(geom) │\n",
       "│   double   │   double   │\n",
       "├────────────┼────────────┤\n",
       "│     -100.0 │       40.0 │\n",
       "└────────────┴────────────┘"
      ]
     },
     "execution_count": 11,
     "metadata": {},
     "output_type": "execute_result"
    }
   ],
   "source": [
    "con.sql(\n",
    "    \"\"\"\n",
    "        SELECT ST_X(geom), ST_Y(geom)\n",
    "        FROM samples\n",
    "        WHERE name = 'Point';\n",
    "    \"\"\"\n",
    ")"
   ]
  },
  {
   "cell_type": "code",
   "execution_count": 12,
   "metadata": {},
   "outputs": [
    {
     "data": {
      "text/plain": [
       "┌──────────┬────────┬───────────────────┬───┬──────────────┬─────────┬─────────┬──────────────────────┐\n",
       "│ OBJECTID │   ID   │       NAME        │ … │    COLOR     │ EXPRESS │ CLOSED  │         geom         │\n",
       "│  double  │ double │      varchar      │   │   varchar    │ varchar │ varchar │       geometry       │\n",
       "├──────────┼────────┼───────────────────┼───┼──────────────┼─────────┼─────────┼──────────────────────┤\n",
       "│      1.0 │  376.0 │ Cortlandt St      │ … │ YELLOW       │ NULL    │ NULL    │ POINT (583521.8544…  │\n",
       "│      2.0 │    2.0 │ Rector St         │ … │ RED          │ NULL    │ NULL    │ POINT (583324.4866…  │\n",
       "│      3.0 │    1.0 │ South Ferry       │ … │ RED          │ NULL    │ NULL    │ POINT (583304.1823…  │\n",
       "│      4.0 │  125.0 │ 138th St          │ … │ GREEN        │ NULL    │ NULL    │ POINT (590250.1059…  │\n",
       "│      5.0 │  126.0 │ 149th St          │ … │ GREEN        │ express │ NULL    │ POINT (590454.7399…  │\n",
       "│      6.0 │   45.0 │ 149th St          │ … │ RED-GREEN    │ express │ NULL    │ POINT (590465.8934…  │\n",
       "│      7.0 │  127.0 │ 161st St          │ … │ GREEN-ORANGE │ NULL    │ NULL    │ POINT (590573.1694…  │\n",
       "│      8.0 │  208.0 │ 167th St          │ … │ ORANGE       │ NULL    │ NULL    │ POINT (591252.8314…  │\n",
       "│      9.0 │  128.0 │ 167th St          │ … │ GREEN        │ NULL    │ NULL    │ POINT (590946.3972…  │\n",
       "│     10.0 │  209.0 │ 170th St          │ … │ ORANGE       │ NULL    │ NULL    │ POINT (591583.6111…  │\n",
       "│       ·  │    ·   │    ·              │ · │   ·          │  ·      │  ·      │          ·           │\n",
       "│       ·  │    ·   │    ·              │ · │   ·          │  ·      │  ·      │          ·           │\n",
       "│       ·  │    ·   │    ·              │ · │   ·          │  ·      │  ·      │          ·           │\n",
       "│    482.0 │  904.0 │ JFK Terminal 1    │ … │ AIR-BLUE     │ NULL    │ NULL    │ POINT (602356.9561…  │\n",
       "│    483.0 │  905.0 │ JFK Terminal 2-3  │ … │ AIR-BLUE     │ NULL    │ NULL    │ POINT (602526.1125…  │\n",
       "│    484.0 │  906.0 │ JFK Terminal 4    │ … │ AIR-BLUE     │ NULL    │ NULL    │ POINT (602985.6731…  │\n",
       "│    485.0 │  907.0 │ JFK Terminal 5-6  │ … │ AIR-BLUE     │ NULL    │ NULL    │ POINT (603245.7503…  │\n",
       "│    486.0 │  908.0 │ JFK Terminal 7    │ … │ AIR-BLUE     │ NULL    │ NULL    │ POINT (602880.3266…  │\n",
       "│    487.0 │  909.0 │ JFK Terminal 8    │ … │ AIR-BLUE     │ NULL    │ NULL    │ POINT (602433.3533…  │\n",
       "│    488.0 │  903.0 │ Federal Circle    │ … │ AIR-BLUE     │ NULL    │ NULL    │ POINT (600903.1428…  │\n",
       "│    489.0 │  902.0 │ Long Term Parking │ … │ AIR-BLUE     │ NULL    │ NULL    │ POINT (599552.1129…  │\n",
       "│    490.0 │  901.0 │ Howard Beach      │ … │ AIR-BLUE     │ NULL    │ NULL    │ POINT (598862.0205…  │\n",
       "│    491.0 │  900.0 │ Jamaica           │ … │ AIR-BLUE     │ NULL    │ NULL    │ POINT (600689.9370…  │\n",
       "├──────────┴────────┴───────────────────┴───┴──────────────┴─────────┴─────────┴──────────────────────┤\n",
       "│ 491 rows (20 shown)                                                            15 columns (7 shown) │\n",
       "└─────────────────────────────────────────────────────────────────────────────────────────────────────┘"
      ]
     },
     "execution_count": 12,
     "metadata": {},
     "output_type": "execute_result"
    }
   ],
   "source": [
    "con.sql(\n",
    "    \"\"\"\n",
    "        SELECT * FROM nyc_subway_stations\n",
    "    \"\"\"\n",
    ")"
   ]
  },
  {
   "cell_type": "code",
   "execution_count": 13,
   "metadata": {},
   "outputs": [
    {
     "data": {
      "text/plain": [
       "┌──────────────┬─────────────────────────────────────────────┐\n",
       "│     NAME     │               st_astext(geom)               │\n",
       "│   varchar    │                   varchar                   │\n",
       "├──────────────┼─────────────────────────────────────────────┤\n",
       "│ Cortlandt St │ POINT (583521.854408956 4507077.862599085)  │\n",
       "│ Rector St    │ POINT (583324.4866324601 4506805.373160211) │\n",
       "│ South Ferry  │ POINT (583304.1823994748 4506069.654048115) │\n",
       "│ 138th St     │ POINT (590250.10594797 4518558.019924332)   │\n",
       "│ 149th St     │ POINT (590454.7399891173 4519145.719617855) │\n",
       "│ 149th St     │ POINT (590465.8934191109 4519168.697483203) │\n",
       "│ 161st St     │ POINT (590573.169495527 4520214.766177284)  │\n",
       "│ 167th St     │ POINT (591252.8314104103 4520950.353355553) │\n",
       "│ 167th St     │ POINT (590946.3972262995 4521077.318976877) │\n",
       "│ 170th St     │ POINT (591583.6111452815 4521434.846626811) │\n",
       "├──────────────┴─────────────────────────────────────────────┤\n",
       "│ 10 rows                                          2 columns │\n",
       "└────────────────────────────────────────────────────────────┘"
      ]
     },
     "execution_count": 13,
     "metadata": {},
     "output_type": "execute_result"
    }
   ],
   "source": [
    "con.sql(\n",
    "    \"\"\"\n",
    "        SELECT name, ST_AsText(geom)\n",
    "        FROM nyc_subway_stations\n",
    "        LIMIT 10;\n",
    "    \"\"\"\n",
    ")"
   ]
  },
  {
   "cell_type": "markdown",
   "metadata": {},
   "source": [
    "# Linestrings"
   ]
  },
  {
   "cell_type": "code",
   "execution_count": 14,
   "metadata": {},
   "outputs": [
    {
     "data": {
      "text/plain": [
       "┌─────────────────────────────────┐\n",
       "│         st_astext(geom)         │\n",
       "│             varchar             │\n",
       "├─────────────────────────────────┤\n",
       "│ LINESTRING (0 0, 1 1, 2 1, 2 2) │\n",
       "└─────────────────────────────────┘"
      ]
     },
     "execution_count": 14,
     "metadata": {},
     "output_type": "execute_result"
    }
   ],
   "source": [
    "con.sql(\n",
    "    \"\"\"\n",
    "        SELECT ST_AsText(geom)\n",
    "        FROM samples\n",
    "        WHERE name = 'Linestring';\n",
    "    \"\"\"\n",
    ")"
   ]
  },
  {
   "cell_type": "markdown",
   "metadata": {},
   "source": [
    "- `ST_Length(geom)` returns the length of the linestring\n",
    "- `ST_StartPoint(geom)` returns the first coordinate as a point\n",
    "- `ST_EndPoint(geom)` returns the last coordinate as a point\n",
    "- `ST_NPoints(geom)` returns the number of coordinates in the linestring"
   ]
  },
  {
   "cell_type": "code",
   "execution_count": 15,
   "metadata": {},
   "outputs": [
    {
     "data": {
      "text/plain": [
       "┌───────────────────┬─────────────────────┬───────────────────┬──────────────────┐\n",
       "│  st_length(geom)  │ st_startpoint(geom) │ st_endpoint(geom) │ st_npoints(geom) │\n",
       "│      double       │      geometry       │     geometry      │      uint32      │\n",
       "├───────────────────┼─────────────────────┼───────────────────┼──────────────────┤\n",
       "│ 3.414213562373095 │ POINT (0 0)         │ POINT (2 2)       │                4 │\n",
       "└───────────────────┴─────────────────────┴───────────────────┴──────────────────┘"
      ]
     },
     "execution_count": 15,
     "metadata": {},
     "output_type": "execute_result"
    }
   ],
   "source": [
    "con.sql(\n",
    "    \"\"\"\n",
    "        SELECT ST_Length(geom), ST_StartPoint(geom),\n",
    "               ST_EndPoint(geom), ST_NPoints(geom)\n",
    "        FROM samples\n",
    "        WHERE name = 'Linestring';\n",
    "    \"\"\"\n",
    ")"
   ]
  },
  {
   "cell_type": "markdown",
   "metadata": {},
   "source": [
    "# Polygons"
   ]
  },
  {
   "cell_type": "code",
   "execution_count": 19,
   "metadata": {},
   "outputs": [
    {
     "data": {
      "text/plain": [
       "┌────────────────────────────────────────────────────────────────────┐\n",
       "│                          st_astext(geom)                           │\n",
       "│                              varchar                               │\n",
       "├────────────────────────────────────────────────────────────────────┤\n",
       "│ POLYGON ((0 0, 1 0, 1 1, 0 1, 0 0))                                │\n",
       "│ POLYGON ((0 0, 10 0, 10 10, 0 10, 0 0), (1 1, 1 2, 2 2, 2 1, 1 1)) │\n",
       "└────────────────────────────────────────────────────────────────────┘"
      ]
     },
     "execution_count": 19,
     "metadata": {},
     "output_type": "execute_result"
    }
   ],
   "source": [
    "con.sql(\n",
    "    \"\"\"\n",
    "        SELECT ST_AsText(geom)\n",
    "        FROM samples\n",
    "        WHERE name LIKE 'Polygon%';\n",
    "    \"\"\"\n",
    ")"
   ]
  },
  {
   "cell_type": "markdown",
   "metadata": {},
   "source": [
    "- `ST_Area(geom)` returns the area of the polygons\n",
    "- `ST_NRings(geom)` returns the number of rings (usually 1, more of there are holes)\n",
    "- `ST_ExteriorRing(geom)` returns the outer ring as a linestring\n",
    "- `ST_InteriorRingN(geometry, n)` returns a specified interior ring as a linestring\n",
    "- `ST_Perimeter(geom)` returns the length of all the rings"
   ]
  },
  {
   "cell_type": "code",
   "execution_count": 28,
   "metadata": {},
   "outputs": [
    {
     "data": {
      "text/plain": [
       "┌─────────────────┬───────────────┐\n",
       "│      name       │ st_area(geom) │\n",
       "│     varchar     │    double     │\n",
       "├─────────────────┼───────────────┤\n",
       "│ Polygon         │           1.0 │\n",
       "│ PolygonWithHole │          99.0 │\n",
       "└─────────────────┴───────────────┘"
      ]
     },
     "execution_count": 28,
     "metadata": {},
     "output_type": "execute_result"
    }
   ],
   "source": [
    "con.sql(\n",
    "    \"\"\"\n",
    "        SELECT name, ST_Area(geom)\n",
    "        FROM samples\n",
    "        WHERE name LIKE 'Polygon%';\n",
    "    \"\"\"\n",
    ")"
   ]
  },
  {
   "cell_type": "markdown",
   "metadata": {},
   "source": [
    "# Collections\n",
    "\n",
    "- `MultiPoint`, a collection of points\n",
    "- `MultiLineString`, a collection of linestrings\n",
    "- `MultiPolygon`, a collection of polygons\n",
    "- `GeometryCollection`, a heterogeneous collection of any geometry (including other collections)"
   ]
  },
  {
   "cell_type": "code",
   "execution_count": 29,
   "metadata": {},
   "outputs": [
    {
     "data": {
      "text/plain": [
       "┌────────────┬───────────────────────────────────────────────────────────────────────┐\n",
       "│    name    │                            st_astext(geom)                            │\n",
       "│  varchar   │                                varchar                                │\n",
       "├────────────┼───────────────────────────────────────────────────────────────────────┤\n",
       "│ Collection │ GEOMETRYCOLLECTION (POINT (2 0), POLYGON ((0 0, 1 0, 1 1, 0 1, 0 0))) │\n",
       "└────────────┴───────────────────────────────────────────────────────────────────────┘"
      ]
     },
     "execution_count": 29,
     "metadata": {},
     "output_type": "execute_result"
    }
   ],
   "source": [
    "con.sql(\n",
    "    \"\"\"\n",
    "        SELECT name, ST_AsText(geom)\n",
    "        FROM samples\n",
    "        WHERE name = 'Collection';\n",
    "    \"\"\"\n",
    ")"
   ]
  },
  {
   "cell_type": "markdown",
   "metadata": {},
   "source": [
    "# Data Visualization"
   ]
  },
  {
   "cell_type": "code",
   "execution_count": 30,
   "metadata": {},
   "outputs": [
    {
     "data": {
      "text/plain": [
       "┌─────────────────────┐\n",
       "│        name         │\n",
       "│       varchar       │\n",
       "├─────────────────────┤\n",
       "│ nyc_census_blocks   │\n",
       "│ nyc_homicides       │\n",
       "│ nyc_neighborhoods   │\n",
       "│ nyc_streets         │\n",
       "│ nyc_subway_stations │\n",
       "│ samples             │\n",
       "└─────────────────────┘"
      ]
     },
     "execution_count": 30,
     "metadata": {},
     "output_type": "execute_result"
    }
   ],
   "source": [
    "con.sql(\"SHOW TABLES;\")"
   ]
  },
  {
   "cell_type": "code",
   "execution_count": 31,
   "metadata": {},
   "outputs": [
    {
     "data": {
      "text/html": [
       "<div>\n",
       "<style scoped>\n",
       "    .dataframe tbody tr th:only-of-type {\n",
       "        vertical-align: middle;\n",
       "    }\n",
       "\n",
       "    .dataframe tbody tr th {\n",
       "        vertical-align: top;\n",
       "    }\n",
       "\n",
       "    .dataframe thead th {\n",
       "        text-align: right;\n",
       "    }\n",
       "</style>\n",
       "<table border=\"1\" class=\"dataframe\">\n",
       "  <thead>\n",
       "    <tr style=\"text-align: right;\">\n",
       "      <th></th>\n",
       "      <th>OBJECTID</th>\n",
       "      <th>ID</th>\n",
       "      <th>NAME</th>\n",
       "      <th>ALT_NAME</th>\n",
       "      <th>CROSS_ST</th>\n",
       "      <th>LONG_NAME</th>\n",
       "      <th>LABEL</th>\n",
       "      <th>BOROUGH</th>\n",
       "      <th>NGHBHD</th>\n",
       "      <th>ROUTES</th>\n",
       "      <th>TRANSFERS</th>\n",
       "      <th>COLOR</th>\n",
       "      <th>EXPRESS</th>\n",
       "      <th>CLOSED</th>\n",
       "      <th>geometry</th>\n",
       "    </tr>\n",
       "  </thead>\n",
       "  <tbody>\n",
       "    <tr>\n",
       "      <th>0</th>\n",
       "      <td>1.0</td>\n",
       "      <td>376.0</td>\n",
       "      <td>Cortlandt St</td>\n",
       "      <td>None</td>\n",
       "      <td>Church St</td>\n",
       "      <td>Cortlandt St (R,W) Manhattan</td>\n",
       "      <td>Cortlandt St (R,W)</td>\n",
       "      <td>Manhattan</td>\n",
       "      <td>None</td>\n",
       "      <td>R,W</td>\n",
       "      <td>R,W</td>\n",
       "      <td>YELLOW</td>\n",
       "      <td>None</td>\n",
       "      <td>None</td>\n",
       "      <td>POINT (583521.854408956 4507077.862599085)</td>\n",
       "    </tr>\n",
       "    <tr>\n",
       "      <th>1</th>\n",
       "      <td>2.0</td>\n",
       "      <td>2.0</td>\n",
       "      <td>Rector St</td>\n",
       "      <td>None</td>\n",
       "      <td>None</td>\n",
       "      <td>Rector St (1) Manhattan</td>\n",
       "      <td>Rector St (1)</td>\n",
       "      <td>Manhattan</td>\n",
       "      <td>None</td>\n",
       "      <td>1</td>\n",
       "      <td>1</td>\n",
       "      <td>RED</td>\n",
       "      <td>None</td>\n",
       "      <td>None</td>\n",
       "      <td>POINT (583324.4866324601 4506805.373160211)</td>\n",
       "    </tr>\n",
       "    <tr>\n",
       "      <th>2</th>\n",
       "      <td>3.0</td>\n",
       "      <td>1.0</td>\n",
       "      <td>South Ferry</td>\n",
       "      <td>None</td>\n",
       "      <td>None</td>\n",
       "      <td>South Ferry (1) Manhattan</td>\n",
       "      <td>South Ferry (1)</td>\n",
       "      <td>Manhattan</td>\n",
       "      <td>None</td>\n",
       "      <td>1</td>\n",
       "      <td>1</td>\n",
       "      <td>RED</td>\n",
       "      <td>None</td>\n",
       "      <td>None</td>\n",
       "      <td>POINT (583304.1823994748 4506069.654048115)</td>\n",
       "    </tr>\n",
       "    <tr>\n",
       "      <th>3</th>\n",
       "      <td>4.0</td>\n",
       "      <td>125.0</td>\n",
       "      <td>138th St</td>\n",
       "      <td>Grand Concourse</td>\n",
       "      <td>Grand Concourse</td>\n",
       "      <td>138th St / Grand Concourse (4,5) Bronx</td>\n",
       "      <td>138th St / Grand Concourse (4,5)</td>\n",
       "      <td>Bronx</td>\n",
       "      <td>None</td>\n",
       "      <td>4,5</td>\n",
       "      <td>4,5</td>\n",
       "      <td>GREEN</td>\n",
       "      <td>None</td>\n",
       "      <td>None</td>\n",
       "      <td>POINT (590250.10594797 4518558.019924332)</td>\n",
       "    </tr>\n",
       "    <tr>\n",
       "      <th>4</th>\n",
       "      <td>5.0</td>\n",
       "      <td>126.0</td>\n",
       "      <td>149th St</td>\n",
       "      <td>Grand Concourse</td>\n",
       "      <td>Grand Concourse</td>\n",
       "      <td>149th St / Grand Concourse (4) Bronx</td>\n",
       "      <td>149th St / Grand Concourse (4)</td>\n",
       "      <td>Bronx</td>\n",
       "      <td>None</td>\n",
       "      <td>4</td>\n",
       "      <td>2,4,5</td>\n",
       "      <td>GREEN</td>\n",
       "      <td>express</td>\n",
       "      <td>None</td>\n",
       "      <td>POINT (590454.7399891173 4519145.719617855)</td>\n",
       "    </tr>\n",
       "  </tbody>\n",
       "</table>\n",
       "</div>"
      ],
      "text/plain": [
       "   OBJECTID     ID          NAME         ALT_NAME         CROSS_ST  \\\n",
       "0       1.0  376.0  Cortlandt St             None        Church St   \n",
       "1       2.0    2.0     Rector St             None             None   \n",
       "2       3.0    1.0   South Ferry             None             None   \n",
       "3       4.0  125.0      138th St  Grand Concourse  Grand Concourse   \n",
       "4       5.0  126.0      149th St  Grand Concourse  Grand Concourse   \n",
       "\n",
       "                                LONG_NAME                             LABEL  \\\n",
       "0            Cortlandt St (R,W) Manhattan                Cortlandt St (R,W)   \n",
       "1                 Rector St (1) Manhattan                     Rector St (1)   \n",
       "2               South Ferry (1) Manhattan                   South Ferry (1)   \n",
       "3  138th St / Grand Concourse (4,5) Bronx  138th St / Grand Concourse (4,5)   \n",
       "4    149th St / Grand Concourse (4) Bronx    149th St / Grand Concourse (4)   \n",
       "\n",
       "     BOROUGH NGHBHD ROUTES TRANSFERS   COLOR  EXPRESS CLOSED  \\\n",
       "0  Manhattan   None    R,W       R,W  YELLOW     None   None   \n",
       "1  Manhattan   None      1         1     RED     None   None   \n",
       "2  Manhattan   None      1         1     RED     None   None   \n",
       "3      Bronx   None    4,5       4,5   GREEN     None   None   \n",
       "4      Bronx   None      4     2,4,5   GREEN  express   None   \n",
       "\n",
       "                                      geometry  \n",
       "0   POINT (583521.854408956 4507077.862599085)  \n",
       "1  POINT (583324.4866324601 4506805.373160211)  \n",
       "2  POINT (583304.1823994748 4506069.654048115)  \n",
       "3    POINT (590250.10594797 4518558.019924332)  \n",
       "4  POINT (590454.7399891173 4519145.719617855)  "
      ]
     },
     "execution_count": 31,
     "metadata": {},
     "output_type": "execute_result"
    }
   ],
   "source": [
    "subway_stations_df = con.sql(\"SELECT * EXCLUDE geom, ST_AsText(geom) as geometry FROM nyc_subway_stations\").df()\n",
    "subway_stations_df.head()"
   ]
  },
  {
   "cell_type": "code",
   "execution_count": 32,
   "metadata": {},
   "outputs": [
    {
     "data": {
      "text/html": [
       "<div>\n",
       "<style scoped>\n",
       "    .dataframe tbody tr th:only-of-type {\n",
       "        vertical-align: middle;\n",
       "    }\n",
       "\n",
       "    .dataframe tbody tr th {\n",
       "        vertical-align: top;\n",
       "    }\n",
       "\n",
       "    .dataframe thead th {\n",
       "        text-align: right;\n",
       "    }\n",
       "</style>\n",
       "<table border=\"1\" class=\"dataframe\">\n",
       "  <thead>\n",
       "    <tr style=\"text-align: right;\">\n",
       "      <th></th>\n",
       "      <th>OBJECTID</th>\n",
       "      <th>ID</th>\n",
       "      <th>NAME</th>\n",
       "      <th>ALT_NAME</th>\n",
       "      <th>CROSS_ST</th>\n",
       "      <th>LONG_NAME</th>\n",
       "      <th>LABEL</th>\n",
       "      <th>BOROUGH</th>\n",
       "      <th>NGHBHD</th>\n",
       "      <th>ROUTES</th>\n",
       "      <th>TRANSFERS</th>\n",
       "      <th>COLOR</th>\n",
       "      <th>EXPRESS</th>\n",
       "      <th>CLOSED</th>\n",
       "      <th>geometry</th>\n",
       "    </tr>\n",
       "  </thead>\n",
       "  <tbody>\n",
       "    <tr>\n",
       "      <th>0</th>\n",
       "      <td>1.0</td>\n",
       "      <td>376.0</td>\n",
       "      <td>Cortlandt St</td>\n",
       "      <td>None</td>\n",
       "      <td>Church St</td>\n",
       "      <td>Cortlandt St (R,W) Manhattan</td>\n",
       "      <td>Cortlandt St (R,W)</td>\n",
       "      <td>Manhattan</td>\n",
       "      <td>None</td>\n",
       "      <td>R,W</td>\n",
       "      <td>R,W</td>\n",
       "      <td>YELLOW</td>\n",
       "      <td>None</td>\n",
       "      <td>None</td>\n",
       "      <td>POINT (-74.01122 40.71038)</td>\n",
       "    </tr>\n",
       "    <tr>\n",
       "      <th>1</th>\n",
       "      <td>2.0</td>\n",
       "      <td>2.0</td>\n",
       "      <td>Rector St</td>\n",
       "      <td>None</td>\n",
       "      <td>None</td>\n",
       "      <td>Rector St (1) Manhattan</td>\n",
       "      <td>Rector St (1)</td>\n",
       "      <td>Manhattan</td>\n",
       "      <td>None</td>\n",
       "      <td>1</td>\n",
       "      <td>1</td>\n",
       "      <td>RED</td>\n",
       "      <td>None</td>\n",
       "      <td>None</td>\n",
       "      <td>POINT (-74.01359 40.70795)</td>\n",
       "    </tr>\n",
       "    <tr>\n",
       "      <th>2</th>\n",
       "      <td>3.0</td>\n",
       "      <td>1.0</td>\n",
       "      <td>South Ferry</td>\n",
       "      <td>None</td>\n",
       "      <td>None</td>\n",
       "      <td>South Ferry (1) Manhattan</td>\n",
       "      <td>South Ferry (1)</td>\n",
       "      <td>Manhattan</td>\n",
       "      <td>None</td>\n",
       "      <td>1</td>\n",
       "      <td>1</td>\n",
       "      <td>RED</td>\n",
       "      <td>None</td>\n",
       "      <td>None</td>\n",
       "      <td>POINT (-74.01393 40.70132)</td>\n",
       "    </tr>\n",
       "    <tr>\n",
       "      <th>3</th>\n",
       "      <td>4.0</td>\n",
       "      <td>125.0</td>\n",
       "      <td>138th St</td>\n",
       "      <td>Grand Concourse</td>\n",
       "      <td>Grand Concourse</td>\n",
       "      <td>138th St / Grand Concourse (4,5) Bronx</td>\n",
       "      <td>138th St / Grand Concourse (4,5)</td>\n",
       "      <td>Bronx</td>\n",
       "      <td>None</td>\n",
       "      <td>4,5</td>\n",
       "      <td>4,5</td>\n",
       "      <td>GREEN</td>\n",
       "      <td>None</td>\n",
       "      <td>None</td>\n",
       "      <td>POINT (-73.92992 40.81308)</td>\n",
       "    </tr>\n",
       "    <tr>\n",
       "      <th>4</th>\n",
       "      <td>5.0</td>\n",
       "      <td>126.0</td>\n",
       "      <td>149th St</td>\n",
       "      <td>Grand Concourse</td>\n",
       "      <td>Grand Concourse</td>\n",
       "      <td>149th St / Grand Concourse (4) Bronx</td>\n",
       "      <td>149th St / Grand Concourse (4)</td>\n",
       "      <td>Bronx</td>\n",
       "      <td>None</td>\n",
       "      <td>4</td>\n",
       "      <td>2,4,5</td>\n",
       "      <td>GREEN</td>\n",
       "      <td>express</td>\n",
       "      <td>None</td>\n",
       "      <td>POINT (-73.92741 40.81835)</td>\n",
       "    </tr>\n",
       "  </tbody>\n",
       "</table>\n",
       "</div>"
      ],
      "text/plain": [
       "   OBJECTID     ID          NAME         ALT_NAME         CROSS_ST  \\\n",
       "0       1.0  376.0  Cortlandt St             None        Church St   \n",
       "1       2.0    2.0     Rector St             None             None   \n",
       "2       3.0    1.0   South Ferry             None             None   \n",
       "3       4.0  125.0      138th St  Grand Concourse  Grand Concourse   \n",
       "4       5.0  126.0      149th St  Grand Concourse  Grand Concourse   \n",
       "\n",
       "                                LONG_NAME                             LABEL  \\\n",
       "0            Cortlandt St (R,W) Manhattan                Cortlandt St (R,W)   \n",
       "1                 Rector St (1) Manhattan                     Rector St (1)   \n",
       "2               South Ferry (1) Manhattan                   South Ferry (1)   \n",
       "3  138th St / Grand Concourse (4,5) Bronx  138th St / Grand Concourse (4,5)   \n",
       "4    149th St / Grand Concourse (4) Bronx    149th St / Grand Concourse (4)   \n",
       "\n",
       "     BOROUGH NGHBHD ROUTES TRANSFERS   COLOR  EXPRESS CLOSED  \\\n",
       "0  Manhattan   None    R,W       R,W  YELLOW     None   None   \n",
       "1  Manhattan   None      1         1     RED     None   None   \n",
       "2  Manhattan   None      1         1     RED     None   None   \n",
       "3      Bronx   None    4,5       4,5   GREEN     None   None   \n",
       "4      Bronx   None      4     2,4,5   GREEN  express   None   \n",
       "\n",
       "                     geometry  \n",
       "0  POINT (-74.01122 40.71038)  \n",
       "1  POINT (-74.01359 40.70795)  \n",
       "2  POINT (-74.01393 40.70132)  \n",
       "3  POINT (-73.92992 40.81308)  \n",
       "4  POINT (-73.92741 40.81835)  "
      ]
     },
     "execution_count": 32,
     "metadata": {},
     "output_type": "execute_result"
    }
   ],
   "source": [
    "subway_stations_gdf = leafmap.df_to_gdf(subway_stations_df, src_crs=\"EPSG:26918\", dst_crs=\"EPSG:4326\")\n",
    "subway_stations_gdf.head()"
   ]
  },
  {
   "cell_type": "code",
   "execution_count": null,
   "metadata": {},
   "outputs": [],
   "source": [
    "subway_stations_gdf.explore()"
   ]
  },
  {
   "cell_type": "code",
   "execution_count": 35,
   "metadata": {},
   "outputs": [
    {
     "data": {
      "text/html": [
       "<div>\n",
       "<style scoped>\n",
       "    .dataframe tbody tr th:only-of-type {\n",
       "        vertical-align: middle;\n",
       "    }\n",
       "\n",
       "    .dataframe tbody tr th {\n",
       "        vertical-align: top;\n",
       "    }\n",
       "\n",
       "    .dataframe thead th {\n",
       "        text-align: right;\n",
       "    }\n",
       "</style>\n",
       "<table border=\"1\" class=\"dataframe\">\n",
       "  <thead>\n",
       "    <tr style=\"text-align: right;\">\n",
       "      <th></th>\n",
       "      <th>ID</th>\n",
       "      <th>NAME</th>\n",
       "      <th>ONEWAY</th>\n",
       "      <th>TYPE</th>\n",
       "      <th>geometry</th>\n",
       "    </tr>\n",
       "  </thead>\n",
       "  <tbody>\n",
       "    <tr>\n",
       "      <th>0</th>\n",
       "      <td>1</td>\n",
       "      <td>Shore Pky S</td>\n",
       "      <td>None</td>\n",
       "      <td>residential</td>\n",
       "      <td>MULTILINESTRING ((586785.4767897038 4492901.00...</td>\n",
       "    </tr>\n",
       "    <tr>\n",
       "      <th>1</th>\n",
       "      <td>2</td>\n",
       "      <td>None</td>\n",
       "      <td>None</td>\n",
       "      <td>footway</td>\n",
       "      <td>MULTILINESTRING ((586645.0073625665 4504977.75...</td>\n",
       "    </tr>\n",
       "    <tr>\n",
       "      <th>2</th>\n",
       "      <td>3</td>\n",
       "      <td>Avenue O</td>\n",
       "      <td>None</td>\n",
       "      <td>residential</td>\n",
       "      <td>MULTILINESTRING ((586750.3019977848 4496109.72...</td>\n",
       "    </tr>\n",
       "    <tr>\n",
       "      <th>3</th>\n",
       "      <td>4</td>\n",
       "      <td>Walsh Ct</td>\n",
       "      <td>None</td>\n",
       "      <td>residential</td>\n",
       "      <td>MULTILINESTRING ((586728.695515043 4497971.053...</td>\n",
       "    </tr>\n",
       "    <tr>\n",
       "      <th>4</th>\n",
       "      <td>5</td>\n",
       "      <td>None</td>\n",
       "      <td>None</td>\n",
       "      <td>motorway_link</td>\n",
       "      <td>MULTILINESTRING ((586587.0531467082 4510088.25...</td>\n",
       "    </tr>\n",
       "  </tbody>\n",
       "</table>\n",
       "</div>"
      ],
      "text/plain": [
       "   ID         NAME ONEWAY           TYPE  \\\n",
       "0   1  Shore Pky S   None    residential   \n",
       "1   2         None   None        footway   \n",
       "2   3     Avenue O   None    residential   \n",
       "3   4     Walsh Ct   None    residential   \n",
       "4   5         None   None  motorway_link   \n",
       "\n",
       "                                            geometry  \n",
       "0  MULTILINESTRING ((586785.4767897038 4492901.00...  \n",
       "1  MULTILINESTRING ((586645.0073625665 4504977.75...  \n",
       "2  MULTILINESTRING ((586750.3019977848 4496109.72...  \n",
       "3  MULTILINESTRING ((586728.695515043 4497971.053...  \n",
       "4  MULTILINESTRING ((586587.0531467082 4510088.25...  "
      ]
     },
     "execution_count": 35,
     "metadata": {},
     "output_type": "execute_result"
    }
   ],
   "source": [
    "nyc_streets_df = con.sql(\"SELECT * EXCLUDE geom, ST_AsText(geom) as geometry FROM nyc_streets\").df()\n",
    "nyc_streets_df.head()"
   ]
  },
  {
   "cell_type": "code",
   "execution_count": 36,
   "metadata": {},
   "outputs": [
    {
     "data": {
      "text/html": [
       "<div>\n",
       "<style scoped>\n",
       "    .dataframe tbody tr th:only-of-type {\n",
       "        vertical-align: middle;\n",
       "    }\n",
       "\n",
       "    .dataframe tbody tr th {\n",
       "        vertical-align: top;\n",
       "    }\n",
       "\n",
       "    .dataframe thead th {\n",
       "        text-align: right;\n",
       "    }\n",
       "</style>\n",
       "<table border=\"1\" class=\"dataframe\">\n",
       "  <thead>\n",
       "    <tr style=\"text-align: right;\">\n",
       "      <th></th>\n",
       "      <th>ID</th>\n",
       "      <th>NAME</th>\n",
       "      <th>ONEWAY</th>\n",
       "      <th>TYPE</th>\n",
       "      <th>geometry</th>\n",
       "    </tr>\n",
       "  </thead>\n",
       "  <tbody>\n",
       "    <tr>\n",
       "      <th>0</th>\n",
       "      <td>1</td>\n",
       "      <td>Shore Pky S</td>\n",
       "      <td>None</td>\n",
       "      <td>residential</td>\n",
       "      <td>MULTILINESTRING ((-73.97454 40.58235, -73.9732...</td>\n",
       "    </tr>\n",
       "    <tr>\n",
       "      <th>1</th>\n",
       "      <td>2</td>\n",
       "      <td>None</td>\n",
       "      <td>None</td>\n",
       "      <td>footway</td>\n",
       "      <td>MULTILINESTRING ((-73.97454 40.69114, -73.9743...</td>\n",
       "    </tr>\n",
       "    <tr>\n",
       "      <th>2</th>\n",
       "      <td>3</td>\n",
       "      <td>Avenue O</td>\n",
       "      <td>None</td>\n",
       "      <td>residential</td>\n",
       "      <td>MULTILINESTRING ((-73.97452 40.61126, -73.9734...</td>\n",
       "    </tr>\n",
       "    <tr>\n",
       "      <th>3</th>\n",
       "      <td>4</td>\n",
       "      <td>Walsh Ct</td>\n",
       "      <td>None</td>\n",
       "      <td>residential</td>\n",
       "      <td>MULTILINESTRING ((-73.97451 40.62802, -73.9726...</td>\n",
       "    </tr>\n",
       "    <tr>\n",
       "      <th>4</th>\n",
       "      <td>5</td>\n",
       "      <td>None</td>\n",
       "      <td>None</td>\n",
       "      <td>motorway_link</td>\n",
       "      <td>MULTILINESTRING ((-73.97452 40.73718, -73.9738...</td>\n",
       "    </tr>\n",
       "  </tbody>\n",
       "</table>\n",
       "</div>"
      ],
      "text/plain": [
       "   ID         NAME ONEWAY           TYPE  \\\n",
       "0   1  Shore Pky S   None    residential   \n",
       "1   2         None   None        footway   \n",
       "2   3     Avenue O   None    residential   \n",
       "3   4     Walsh Ct   None    residential   \n",
       "4   5         None   None  motorway_link   \n",
       "\n",
       "                                            geometry  \n",
       "0  MULTILINESTRING ((-73.97454 40.58235, -73.9732...  \n",
       "1  MULTILINESTRING ((-73.97454 40.69114, -73.9743...  \n",
       "2  MULTILINESTRING ((-73.97452 40.61126, -73.9734...  \n",
       "3  MULTILINESTRING ((-73.97451 40.62802, -73.9726...  \n",
       "4  MULTILINESTRING ((-73.97452 40.73718, -73.9738...  "
      ]
     },
     "execution_count": 36,
     "metadata": {},
     "output_type": "execute_result"
    }
   ],
   "source": [
    "nyc_streets_gdf = leafmap.df_to_gdf(nyc_streets_df, src_crs=\"EPSG:26918\", dst_crs=\"EPSG:4326\")\n",
    "nyc_streets_gdf.head()"
   ]
  },
  {
   "cell_type": "code",
   "execution_count": null,
   "metadata": {},
   "outputs": [],
   "source": [
    "nyc_streets_gdf.explore()"
   ]
  },
  {
   "cell_type": "code",
   "execution_count": null,
   "metadata": {},
   "outputs": [],
   "source": []
  }
 ],
 "metadata": {
  "kernelspec": {
   "display_name": "autogis",
   "language": "python",
   "name": "python3"
  },
  "language_info": {
   "codemirror_mode": {
    "name": "ipython",
    "version": 3
   },
   "file_extension": ".py",
   "mimetype": "text/x-python",
   "name": "python",
   "nbconvert_exporter": "python",
   "pygments_lexer": "ipython3",
   "version": "3.10.14"
  }
 },
 "nbformat": 4,
 "nbformat_minor": 2
}
