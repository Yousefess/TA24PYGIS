{
 "cells": [
  {
   "cell_type": "code",
   "execution_count": 1,
   "metadata": {},
   "outputs": [],
   "source": [
    "import leafmap"
   ]
  },
  {
   "cell_type": "markdown",
   "metadata": {},
   "source": [
    "# Visualizing point data"
   ]
  },
  {
   "cell_type": "code",
   "execution_count": 4,
   "metadata": {},
   "outputs": [],
   "source": [
    "url = 'https://open.gishub.org/data/duckdb/cities.parquet'"
   ]
  },
  {
   "cell_type": "code",
   "execution_count": 5,
   "metadata": {},
   "outputs": [
    {
     "data": {
      "text/html": [
       "<div>\n",
       "<style scoped>\n",
       "    .dataframe tbody tr th:only-of-type {\n",
       "        vertical-align: middle;\n",
       "    }\n",
       "\n",
       "    .dataframe tbody tr th {\n",
       "        vertical-align: top;\n",
       "    }\n",
       "\n",
       "    .dataframe thead th {\n",
       "        text-align: right;\n",
       "    }\n",
       "</style>\n",
       "<table border=\"1\" class=\"dataframe\">\n",
       "  <thead>\n",
       "    <tr style=\"text-align: right;\">\n",
       "      <th></th>\n",
       "      <th>country</th>\n",
       "      <th>id</th>\n",
       "      <th>latitude</th>\n",
       "      <th>longitude</th>\n",
       "      <th>name</th>\n",
       "      <th>population</th>\n",
       "      <th>geometry</th>\n",
       "    </tr>\n",
       "  </thead>\n",
       "  <tbody>\n",
       "    <tr>\n",
       "      <th>0</th>\n",
       "      <td>UGA</td>\n",
       "      <td>1.0</td>\n",
       "      <td>0.5833</td>\n",
       "      <td>32.5333</td>\n",
       "      <td>Bombo</td>\n",
       "      <td>75000.0</td>\n",
       "      <td>POINT (32.53330 0.58330)</td>\n",
       "    </tr>\n",
       "    <tr>\n",
       "      <th>1</th>\n",
       "      <td>UGA</td>\n",
       "      <td>2.0</td>\n",
       "      <td>0.6710</td>\n",
       "      <td>30.2750</td>\n",
       "      <td>Fort Portal</td>\n",
       "      <td>42670.0</td>\n",
       "      <td>POINT (30.27500 0.67100)</td>\n",
       "    </tr>\n",
       "    <tr>\n",
       "      <th>2</th>\n",
       "      <td>ITA</td>\n",
       "      <td>3.0</td>\n",
       "      <td>40.6420</td>\n",
       "      <td>15.7990</td>\n",
       "      <td>Potenza</td>\n",
       "      <td>69060.0</td>\n",
       "      <td>POINT (15.79900 40.64200)</td>\n",
       "    </tr>\n",
       "    <tr>\n",
       "      <th>3</th>\n",
       "      <td>ITA</td>\n",
       "      <td>4.0</td>\n",
       "      <td>41.5630</td>\n",
       "      <td>14.6560</td>\n",
       "      <td>Campobasso</td>\n",
       "      <td>50762.0</td>\n",
       "      <td>POINT (14.65600 41.56300)</td>\n",
       "    </tr>\n",
       "    <tr>\n",
       "      <th>4</th>\n",
       "      <td>ITA</td>\n",
       "      <td>5.0</td>\n",
       "      <td>45.7370</td>\n",
       "      <td>7.3150</td>\n",
       "      <td>Aosta</td>\n",
       "      <td>34062.0</td>\n",
       "      <td>POINT (7.31500 45.73700)</td>\n",
       "    </tr>\n",
       "  </tbody>\n",
       "</table>\n",
       "</div>"
      ],
      "text/plain": [
       "  country   id  latitude  longitude         name  population  \\\n",
       "0     UGA  1.0    0.5833    32.5333        Bombo     75000.0   \n",
       "1     UGA  2.0    0.6710    30.2750  Fort Portal     42670.0   \n",
       "2     ITA  3.0   40.6420    15.7990      Potenza     69060.0   \n",
       "3     ITA  4.0   41.5630    14.6560   Campobasso     50762.0   \n",
       "4     ITA  5.0   45.7370     7.3150        Aosta     34062.0   \n",
       "\n",
       "                    geometry  \n",
       "0   POINT (32.53330 0.58330)  \n",
       "1   POINT (30.27500 0.67100)  \n",
       "2  POINT (15.79900 40.64200)  \n",
       "3  POINT (14.65600 41.56300)  \n",
       "4   POINT (7.31500 45.73700)  "
      ]
     },
     "execution_count": 5,
     "metadata": {},
     "output_type": "execute_result"
    }
   ],
   "source": [
    "gdf = leafmap.read_parquet(url, return_type='gdf', src_crs='EPSG:4326')\n",
    "gdf.head()"
   ]
  },
  {
   "cell_type": "code",
   "execution_count": null,
   "metadata": {},
   "outputs": [],
   "source": [
    "gdf.explore()"
   ]
  },
  {
   "cell_type": "code",
   "execution_count": null,
   "metadata": {},
   "outputs": [],
   "source": [
    "leafmap.view_vector(gdf, get_radius=20000, get_fill_color='blue')"
   ]
  },
  {
   "cell_type": "markdown",
   "metadata": {},
   "source": [
    "# Visualizing polygon data"
   ]
  },
  {
   "cell_type": "code",
   "execution_count": 2,
   "metadata": {},
   "outputs": [],
   "source": [
    "url = 'https://data.source.coop/giswqs/nwi/wetlands/DC_Wetlands.parquet'"
   ]
  },
  {
   "cell_type": "code",
   "execution_count": 3,
   "metadata": {},
   "outputs": [
    {
     "data": {
      "application/vnd.jupyter.widget-view+json": {
       "model_id": "b1463321b7d642d1a2423a2ec70d8162",
       "version_major": 2,
       "version_minor": 0
      },
      "text/plain": [
       "FloatProgress(value=0.0, layout=Layout(width='auto'), style=ProgressStyle(bar_color='black'))"
      ]
     },
     "metadata": {},
     "output_type": "display_data"
    },
    {
     "data": {
      "text/html": [
       "<div>\n",
       "<style scoped>\n",
       "    .dataframe tbody tr th:only-of-type {\n",
       "        vertical-align: middle;\n",
       "    }\n",
       "\n",
       "    .dataframe tbody tr th {\n",
       "        vertical-align: top;\n",
       "    }\n",
       "\n",
       "    .dataframe thead th {\n",
       "        text-align: right;\n",
       "    }\n",
       "</style>\n",
       "<table border=\"1\" class=\"dataframe\">\n",
       "  <thead>\n",
       "    <tr style=\"text-align: right;\">\n",
       "      <th></th>\n",
       "      <th>ATTRIBUTE</th>\n",
       "      <th>WETLAND_TYPE</th>\n",
       "      <th>ACRES</th>\n",
       "      <th>Shape_Length</th>\n",
       "      <th>Shape_Area</th>\n",
       "      <th>geometry</th>\n",
       "    </tr>\n",
       "  </thead>\n",
       "  <tbody>\n",
       "    <tr>\n",
       "      <th>0</th>\n",
       "      <td>PEM5Ax</td>\n",
       "      <td>Freshwater Emergent Wetland</td>\n",
       "      <td>0.454008</td>\n",
       "      <td>621.865659</td>\n",
       "      <td>1837.304895</td>\n",
       "      <td>MULTIPOLYGON (((-76.88117 38.98540, -76.88111 ...</td>\n",
       "    </tr>\n",
       "    <tr>\n",
       "      <th>1</th>\n",
       "      <td>PFO1A</td>\n",
       "      <td>Freshwater Forested/Shrub Wetland</td>\n",
       "      <td>3.339719</td>\n",
       "      <td>586.449553</td>\n",
       "      <td>13515.364977</td>\n",
       "      <td>MULTIPOLYGON (((-76.88955 38.98061, -76.88950 ...</td>\n",
       "    </tr>\n",
       "    <tr>\n",
       "      <th>2</th>\n",
       "      <td>PUBHh</td>\n",
       "      <td>Freshwater Pond</td>\n",
       "      <td>0.873177</td>\n",
       "      <td>335.425439</td>\n",
       "      <td>3533.620783</td>\n",
       "      <td>MULTIPOLYGON (((-76.87579 38.98168, -76.87571 ...</td>\n",
       "    </tr>\n",
       "    <tr>\n",
       "      <th>3</th>\n",
       "      <td>R4SBC</td>\n",
       "      <td>Riverine</td>\n",
       "      <td>0.788316</td>\n",
       "      <td>1078.745304</td>\n",
       "      <td>3190.202659</td>\n",
       "      <td>MULTIPOLYGON (((-76.87603 38.98196, -76.87606 ...</td>\n",
       "    </tr>\n",
       "    <tr>\n",
       "      <th>4</th>\n",
       "      <td>R4SBC</td>\n",
       "      <td>Riverine</td>\n",
       "      <td>0.069572</td>\n",
       "      <td>106.791860</td>\n",
       "      <td>281.546217</td>\n",
       "      <td>MULTIPOLYGON (((-76.87472 38.98170, -76.87484 ...</td>\n",
       "    </tr>\n",
       "  </tbody>\n",
       "</table>\n",
       "</div>"
      ],
      "text/plain": [
       "  ATTRIBUTE                       WETLAND_TYPE     ACRES  Shape_Length  \\\n",
       "0    PEM5Ax        Freshwater Emergent Wetland  0.454008    621.865659   \n",
       "1     PFO1A  Freshwater Forested/Shrub Wetland  3.339719    586.449553   \n",
       "2     PUBHh                    Freshwater Pond  0.873177    335.425439   \n",
       "3     R4SBC                           Riverine  0.788316   1078.745304   \n",
       "4     R4SBC                           Riverine  0.069572    106.791860   \n",
       "\n",
       "     Shape_Area                                           geometry  \n",
       "0   1837.304895  MULTIPOLYGON (((-76.88117 38.98540, -76.88111 ...  \n",
       "1  13515.364977  MULTIPOLYGON (((-76.88955 38.98061, -76.88950 ...  \n",
       "2   3533.620783  MULTIPOLYGON (((-76.87579 38.98168, -76.87571 ...  \n",
       "3   3190.202659  MULTIPOLYGON (((-76.87603 38.98196, -76.87606 ...  \n",
       "4    281.546217  MULTIPOLYGON (((-76.87472 38.98170, -76.87484 ...  "
      ]
     },
     "execution_count": 3,
     "metadata": {},
     "output_type": "execute_result"
    }
   ],
   "source": [
    "gdf = leafmap.read_parquet(url, return_type='gdf', src_crs='EPSG:5070', dst_crs='EPSG:4326')\n",
    "gdf.head()"
   ]
  },
  {
   "cell_type": "code",
   "execution_count": null,
   "metadata": {},
   "outputs": [],
   "source": [
    "gdf.explore()"
   ]
  },
  {
   "cell_type": "code",
   "execution_count": null,
   "metadata": {},
   "outputs": [],
   "source": [
    "leafmap.view_vector(gdf, get_fill_color=[0, 0, 255, 128])"
   ]
  },
  {
   "cell_type": "code",
   "execution_count": 6,
   "metadata": {},
   "outputs": [],
   "source": [
    "color_map =  {\n",
    "        \"Freshwater Forested/Shrub Wetland\": (0, 136, 55),\n",
    "        \"Freshwater Emergent Wetland\": (127, 195, 28),\n",
    "        \"Freshwater Pond\": (104, 140, 192),\n",
    "        \"Estuarine and Marine Wetland\": (102, 194, 165),\n",
    "        \"Riverine\": (1, 144, 191),\n",
    "        \"Lake\": (19, 0, 124),\n",
    "        \"Estuarine and Marine Deepwater\": (0, 124, 136),\n",
    "        \"Other Freshwater Wetland\": (178, 134, 86),\n",
    "    }"
   ]
  },
  {
   "cell_type": "code",
   "execution_count": null,
   "metadata": {},
   "outputs": [],
   "source": [
    "leafmap.view_vector(gdf, color_column='WETLAND_TYPE', color_map=color_map, opacity=0.5)"
   ]
  },
  {
   "cell_type": "code",
   "execution_count": null,
   "metadata": {},
   "outputs": [],
   "source": [
    "leafmap.Legend(title=\"Wetland Type\", legend_dict=color_map)"
   ]
  },
  {
   "cell_type": "markdown",
   "metadata": {},
   "source": [
    "# Visualizing multiple layers"
   ]
  },
  {
   "cell_type": "code",
   "execution_count": 8,
   "metadata": {},
   "outputs": [],
   "source": [
    "import leafmap.deckgl as leafmap"
   ]
  },
  {
   "cell_type": "code",
   "execution_count": null,
   "metadata": {},
   "outputs": [],
   "source": [
    "m = leafmap.Map()\n",
    "countries = 'https://open.gishub.org/data/duckdb/countries.geojson'\n",
    "cities = 'https://open.gishub.org/data/duckdb/cities.geojson'\n",
    "m.add_vector(countries, get_fill_color='blue', opacity=0.1)\n",
    "m.add_vector(cities, get_radius=20000, get_fill_color='red', opacity=0.5)\n",
    "m"
   ]
  },
  {
   "cell_type": "code",
   "execution_count": null,
   "metadata": {},
   "outputs": [],
   "source": []
  }
 ],
 "metadata": {
  "kernelspec": {
   "display_name": "autogis",
   "language": "python",
   "name": "python3"
  },
  "language_info": {
   "codemirror_mode": {
    "name": "ipython",
    "version": 3
   },
   "file_extension": ".py",
   "mimetype": "text/x-python",
   "name": "python",
   "nbconvert_exporter": "python",
   "pygments_lexer": "ipython3",
   "version": "3.10.14"
  }
 },
 "nbformat": 4,
 "nbformat_minor": 2
}
