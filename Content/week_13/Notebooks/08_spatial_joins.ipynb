{
 "cells": [
  {
   "cell_type": "markdown",
   "metadata": {},
   "source": [
    "# Library Import"
   ]
  },
  {
   "cell_type": "code",
   "execution_count": 1,
   "metadata": {},
   "outputs": [],
   "source": [
    "import duckdb\n",
    "import leafmap"
   ]
  },
  {
   "cell_type": "markdown",
   "metadata": {},
   "source": [
    "# Sample Data"
   ]
  },
  {
   "cell_type": "code",
   "execution_count": null,
   "metadata": {},
   "outputs": [],
   "source": [
    "url = \"https://open.gishub.org/data/duckdb/nyc_data.db.zip\"\n",
    "leafmap.download_file(url, unzip=True)"
   ]
  },
  {
   "cell_type": "markdown",
   "metadata": {},
   "source": [
    "# Connecting to DuckDB"
   ]
  },
  {
   "cell_type": "code",
   "execution_count": 3,
   "metadata": {},
   "outputs": [],
   "source": [
    "con = duckdb.connect('nyc_data.db')"
   ]
  },
  {
   "cell_type": "code",
   "execution_count": 4,
   "metadata": {},
   "outputs": [],
   "source": [
    "con.install_extension('spatial')\n",
    "con.load_extension('spatial')"
   ]
  },
  {
   "cell_type": "code",
   "execution_count": 5,
   "metadata": {},
   "outputs": [
    {
     "data": {
      "text/plain": [
       "┌─────────────────────┐\n",
       "│        name         │\n",
       "│       varchar       │\n",
       "├─────────────────────┤\n",
       "│ nyc_census_blocks   │\n",
       "│ nyc_homicides       │\n",
       "│ nyc_neighborhoods   │\n",
       "│ nyc_streets         │\n",
       "│ nyc_subway_stations │\n",
       "└─────────────────────┘"
      ]
     },
     "execution_count": 5,
     "metadata": {},
     "output_type": "execute_result"
    }
   ],
   "source": [
    "con.sql(\"SHOW TABLES;\")"
   ]
  },
  {
   "cell_type": "markdown",
   "metadata": {},
   "source": [
    "# Intersection"
   ]
  },
  {
   "cell_type": "code",
   "execution_count": 6,
   "metadata": {},
   "outputs": [
    {
     "data": {
      "text/plain": [
       "┌───────────┬──────────────────────┬───────────────────────────────────────────────────────────────────────────────────┐\n",
       "│ BORONAME  │         NAME         │                                       geom                                        │\n",
       "│  varchar  │       varchar        │                                     geometry                                      │\n",
       "├───────────┼──────────────────────┼───────────────────────────────────────────────────────────────────────────────────┤\n",
       "│ Brooklyn  │ Bensonhurst          │ MULTIPOLYGON (((582771.4257198056 4495167.427365481, 584651.2943549604 4497541.…  │\n",
       "│ Manhattan │ East Village         │ MULTIPOLYGON (((585508.7534890148 4509691.267208001, 586826.3570590394 4508984.…  │\n",
       "│ Manhattan │ West Village         │ MULTIPOLYGON (((583263.2776595836 4509242.626023987, 583276.8199068634 4509378.…  │\n",
       "│ The Bronx │ Throggs Neck         │ MULTIPOLYGON (((597640.0090688139 4520272.719938631, 597647.7457808304 4520617.…  │\n",
       "│ The Bronx │ Wakefield-Williams…  │ MULTIPOLYGON (((595285.2053417757 4525938.79838847, 595348.5452399419 4526158.7…  │\n",
       "└───────────┴──────────────────────┴───────────────────────────────────────────────────────────────────────────────────┘"
      ]
     },
     "execution_count": 6,
     "metadata": {},
     "output_type": "execute_result"
    }
   ],
   "source": [
    "con.sql(\"FROM nyc_neighborhoods SELECT * LIMIT 5;\")"
   ]
  },
  {
   "cell_type": "code",
   "execution_count": 7,
   "metadata": {},
   "outputs": [
    {
     "data": {
      "text/plain": [
       "┌──────────┬────────┬──────────────┬─────────────────┬───┬─────────┬─────────┬─────────┬──────────────────────┐\n",
       "│ OBJECTID │   ID   │     NAME     │    ALT_NAME     │ … │  COLOR  │ EXPRESS │ CLOSED  │         geom         │\n",
       "│  double  │ double │   varchar    │     varchar     │   │ varchar │ varchar │ varchar │       geometry       │\n",
       "├──────────┼────────┼──────────────┼─────────────────┼───┼─────────┼─────────┼─────────┼──────────────────────┤\n",
       "│      1.0 │  376.0 │ Cortlandt St │ NULL            │ … │ YELLOW  │ NULL    │ NULL    │ POINT (583521.8544…  │\n",
       "│      2.0 │    2.0 │ Rector St    │ NULL            │ … │ RED     │ NULL    │ NULL    │ POINT (583324.4866…  │\n",
       "│      3.0 │    1.0 │ South Ferry  │ NULL            │ … │ RED     │ NULL    │ NULL    │ POINT (583304.1823…  │\n",
       "│      4.0 │  125.0 │ 138th St     │ Grand Concourse │ … │ GREEN   │ NULL    │ NULL    │ POINT (590250.1059…  │\n",
       "│      5.0 │  126.0 │ 149th St     │ Grand Concourse │ … │ GREEN   │ express │ NULL    │ POINT (590454.7399…  │\n",
       "├──────────┴────────┴──────────────┴─────────────────┴───┴─────────┴─────────┴─────────┴──────────────────────┤\n",
       "│ 5 rows                                                                                 15 columns (8 shown) │\n",
       "└─────────────────────────────────────────────────────────────────────────────────────────────────────────────┘"
      ]
     },
     "execution_count": 7,
     "metadata": {},
     "output_type": "execute_result"
    }
   ],
   "source": [
    "con.sql(\"FROM nyc_subway_stations SELECT * LIMIT 5;\")"
   ]
  },
  {
   "cell_type": "markdown",
   "metadata": {},
   "source": [
    "Let’s find out what neighborhood the `Broad St` station is in:"
   ]
  },
  {
   "cell_type": "code",
   "execution_count": 9,
   "metadata": {},
   "outputs": [
    {
     "data": {
      "text/plain": [
       "┌─────────────┬────────────────────┬───────────┐\n",
       "│ subway_name │ neighborhood_name  │  borough  │\n",
       "│   varchar   │      varchar       │  varchar  │\n",
       "├─────────────┼────────────────────┼───────────┤\n",
       "│ Broad St    │ Financial District │ Manhattan │\n",
       "└─────────────┴────────────────────┴───────────┘"
      ]
     },
     "execution_count": 9,
     "metadata": {},
     "output_type": "execute_result"
    }
   ],
   "source": [
    "con.sql(\n",
    "    \"\"\"\n",
    "        SELECT subways.name AS subway_name,\n",
    "               neighborhoods.name AS neighborhood_name,\n",
    "               neighborhoods.boroname AS borough\n",
    "        FROM nyc_neighborhoods AS neighborhoods\n",
    "        JOIN nyc_subway_stations AS subways\n",
    "        ON ST_Intersects(neighborhoods.geom, subways.geom)\n",
    "        WHERE subways.NAME = 'Broad St';\n",
    "    \"\"\"\n",
    ")"
   ]
  },
  {
   "cell_type": "code",
   "execution_count": 10,
   "metadata": {},
   "outputs": [
    {
     "data": {
      "text/plain": [
       "┌─────────────────────┐\n",
       "│        COLOR        │\n",
       "│       varchar       │\n",
       "├─────────────────────┤\n",
       "│ ORANGE-YELLOW       │\n",
       "│ BROWN               │\n",
       "│ MULTI               │\n",
       "│ GREY-ORANGE         │\n",
       "│ PURPLE              │\n",
       "│ ORANGE              │\n",
       "│ BROWN-ORANGE        │\n",
       "│ GREEN-ORANGE        │\n",
       "│ GREEN-RED           │\n",
       "│ BLUE-LIME           │\n",
       "│     ·               │\n",
       "│     ·               │\n",
       "│     ·               │\n",
       "│ GREY-YELLOW         │\n",
       "│ PURPLE-YELLOW       │\n",
       "│ SI-BLUE             │\n",
       "│ RED-GREEN           │\n",
       "│ BLUE-GREY           │\n",
       "│ AIR-BLUE            │\n",
       "│ BROWN-YELLOW        │\n",
       "│ BROWN-ORANGE-YELLOW │\n",
       "│ GREY                │\n",
       "│ BLUE                │\n",
       "├─────────────────────┤\n",
       "│ 29 rows (20 shown)  │\n",
       "└─────────────────────┘"
      ]
     },
     "execution_count": 10,
     "metadata": {},
     "output_type": "execute_result"
    }
   ],
   "source": [
    "con.sql(\n",
    "    \"\"\"\n",
    "        SELECT DISTINCT COLOR FROM nyc_subway_stations;\n",
    "    \"\"\"\n",
    ")"
   ]
  },
  {
   "cell_type": "markdown",
   "metadata": {},
   "source": [
    "Let’s find out what neighborhood the `RED` subway stations are in:"
   ]
  },
  {
   "cell_type": "code",
   "execution_count": 11,
   "metadata": {},
   "outputs": [
    {
     "data": {
      "text/plain": [
       "┌──────────────┬──────────────────────────┬───────────┐\n",
       "│ subway_name  │    neighborhood_name     │  borough  │\n",
       "│   varchar    │         varchar          │  varchar  │\n",
       "├──────────────┼──────────────────────────┼───────────┤\n",
       "│ 242nd St     │ Riverdale                │ The Bronx │\n",
       "│ 241st St     │ Wakefield-Williamsbridge │ The Bronx │\n",
       "│ 238th St     │ Kings Bridge             │ The Bronx │\n",
       "│ 231st St     │ Kings Bridge             │ The Bronx │\n",
       "│ 225th St     │ Inwood                   │ Manhattan │\n",
       "│ 215th St     │ Inwood                   │ Manhattan │\n",
       "│ 207th St     │ Inwood                   │ Manhattan │\n",
       "│ Dyckman St   │ Washington Heights       │ Manhattan │\n",
       "│ 191st St     │ Washington Heights       │ Manhattan │\n",
       "│ 181st St     │ Washington Heights       │ Manhattan │\n",
       "│    ·         │    ·                     │     ·     │\n",
       "│    ·         │    ·                     │     ·     │\n",
       "│    ·         │    ·                     │     ·     │\n",
       "│ Canal St     │ Tribeca                  │ Manhattan │\n",
       "│ Franklin St  │ Tribeca                  │ Manhattan │\n",
       "│ Chambers St  │ Tribeca                  │ Manhattan │\n",
       "│ Park Pl      │ Financial District       │ Manhattan │\n",
       "│ Fulton St    │ Financial District       │ Manhattan │\n",
       "│ Rector St    │ Financial District       │ Manhattan │\n",
       "│ Wall St      │ Financial District       │ Manhattan │\n",
       "│ South Ferry  │ Financial District       │ Manhattan │\n",
       "│ Borough Hall │ Downtown                 │ Brooklyn  │\n",
       "│ Hoyt St      │ Downtown                 │ Brooklyn  │\n",
       "├──────────────┴──────────────────────────┴───────────┤\n",
       "│ 49 rows (20 shown)                        3 columns │\n",
       "└─────────────────────────────────────────────────────┘"
      ]
     },
     "execution_count": 11,
     "metadata": {},
     "output_type": "execute_result"
    }
   ],
   "source": [
    "con.sql(\n",
    "    \"\"\"\n",
    "        SELECT subways.name AS subway_name,\n",
    "               neighborhoods.name AS neighborhood_name,\n",
    "               neighborhoods.boroname AS borough\n",
    "        FROM nyc_neighborhoods AS neighborhoods\n",
    "        JOIN nyc_subway_stations AS subways\n",
    "        ON ST_Intersects(neighborhoods.geom, subways.geom)\n",
    "        WHERE subways.color = 'RED';\n",
    "    \"\"\"\n",
    ")"
   ]
  },
  {
   "cell_type": "markdown",
   "metadata": {},
   "source": [
    "# Distance Within"
   ]
  },
  {
   "cell_type": "markdown",
   "metadata": {},
   "source": [
    "First, let’s get the baseline racial make-up of the city."
   ]
  },
  {
   "cell_type": "code",
   "execution_count": 12,
   "metadata": {},
   "outputs": [
    {
     "data": {
      "text/plain": [
       "┌───────────────────┬────────────────────┬────────────┐\n",
       "│     white_pct     │     black_pct      │ popn_total │\n",
       "│      double       │       double       │   int128   │\n",
       "├───────────────────┼────────────────────┼────────────┤\n",
       "│ 44.00395007628105 │ 25.546578900241613 │    8175032 │\n",
       "└───────────────────┴────────────────────┴────────────┘"
      ]
     },
     "execution_count": 12,
     "metadata": {},
     "output_type": "execute_result"
    }
   ],
   "source": [
    "con.sql(\n",
    "    \"\"\"\n",
    "        SELECT 100.0 * Sum(popn_white) / Sum(popn_total) AS white_pct,\n",
    "               100.0 * Sum(popn_black) / Sum(popn_total) AS black_pct,\n",
    "               Sum(popn_total) AS popn_total\n",
    "        FROM nyc_census_blocks;\n",
    "    \"\"\"\n",
    ")"
   ]
  },
  {
   "cell_type": "code",
   "execution_count": 13,
   "metadata": {},
   "outputs": [
    {
     "data": {
      "text/plain": [
       "┌────────────┐\n",
       "│   ROUTES   │\n",
       "│  varchar   │\n",
       "├────────────┤\n",
       "│ 6          │\n",
       "│ G          │\n",
       "│ F,G        │\n",
       "│ M          │\n",
       "│ F,Q        │\n",
       "│ C,E        │\n",
       "│ D,M        │\n",
       "│ Q          │\n",
       "│ B,D,E      │\n",
       "│ E,F        │\n",
       "│ ·          │\n",
       "│ ·          │\n",
       "│ ·          │\n",
       "│ D          │\n",
       "│ M,R        │\n",
       "│ D,M,N,R    │\n",
       "│ B,Q        │\n",
       "│ J          │\n",
       "│ B,Q,S      │\n",
       "│ B,C        │\n",
       "│ N,Q,R,W    │\n",
       "│ E,V        │\n",
       "│ N,W,7      │\n",
       "├────────────┤\n",
       "│  73 rows   │\n",
       "│ (20 shown) │\n",
       "└────────────┘"
      ]
     },
     "execution_count": 13,
     "metadata": {},
     "output_type": "execute_result"
    }
   ],
   "source": [
    "con.sql(\n",
    "    \"\"\"\n",
    "        SELECT DISTINCT routes FROM nyc_subway_stations;\n",
    "    \"\"\"\n",
    ")"
   ]
  },
  {
   "cell_type": "markdown",
   "metadata": {},
   "source": [
    "So to find the A-train, we will want any row in `routes` that has an ‘A’ in it. We can do this a number of ways, but here we will use the fact that strpos(routes, ’A’) will return a non-zero number only if ‘A’ is in the `routes` field."
   ]
  },
  {
   "cell_type": "code",
   "execution_count": 14,
   "metadata": {},
   "outputs": [
    {
     "data": {
      "text/plain": [
       "┌─────────┐\n",
       "│ ROUTES  │\n",
       "│ varchar │\n",
       "├─────────┤\n",
       "│ A       │\n",
       "│ A,C,F   │\n",
       "│ A,C,E   │\n",
       "│ A,S     │\n",
       "│ A,C,G   │\n",
       "│ A,C,E,L │\n",
       "│ A,C     │\n",
       "│ A,B,C,D │\n",
       "│ A,B,C   │\n",
       "└─────────┘"
      ]
     },
     "execution_count": 14,
     "metadata": {},
     "output_type": "execute_result"
    }
   ],
   "source": [
    "con.sql(\n",
    "    \"\"\"\n",
    "        SELECT DISTINCT routes\n",
    "        FROM nyc_subway_stations AS subways\n",
    "        WHERE strpos(subways.routes,'A') > 0;\n",
    "    \"\"\"\n",
    ")"
   ]
  },
  {
   "cell_type": "markdown",
   "metadata": {},
   "source": [
    "Let’s summarize the racial make-up of within 200 meters of the A-train line"
   ]
  },
  {
   "cell_type": "code",
   "execution_count": 15,
   "metadata": {},
   "outputs": [
    {
     "data": {
      "text/plain": [
       "┌───────────────────┬───────────────────┬────────────┐\n",
       "│     white_pct     │     black_pct     │ popn_total │\n",
       "│      double       │      double       │   int128   │\n",
       "├───────────────────┼───────────────────┼────────────┤\n",
       "│ 45.59012559002023 │ 22.09362356709373 │     189824 │\n",
       "└───────────────────┴───────────────────┴────────────┘"
      ]
     },
     "execution_count": 15,
     "metadata": {},
     "output_type": "execute_result"
    }
   ],
   "source": [
    "con.sql(\n",
    "    \"\"\"\n",
    "        SELECT 100.0 * Sum(popn_white) / Sum(popn_total) AS white_pct,\n",
    "               100.0 * Sum(popn_black) / Sum(popn_total) AS black_pct,\n",
    "               Sum(popn_total) AS popn_total\n",
    "        FROM nyc_census_blocks AS census\n",
    "        JOIN nyc_subway_stations AS subways\n",
    "        ON ST_DWithin(census.geom, subways.geom, 200)\n",
    "        WHERE strpos(subways.routes,'A') > 0;\n",
    "    \"\"\"\n",
    ")"
   ]
  },
  {
   "cell_type": "markdown",
   "metadata": {},
   "source": [
    "# Advanced Join"
   ]
  },
  {
   "cell_type": "code",
   "execution_count": 16,
   "metadata": {},
   "outputs": [],
   "source": [
    "con.sql(\n",
    "    \"\"\"\n",
    "        CREATE OR REPLACE TABLE subway_lines ( route char(1) );\n",
    "        INSERT INTO subway_lines (route) VALUES\n",
    "            ('A'),('B'),('C'),('D'),('E'),('F'),('G'),\n",
    "            ('J'),('L'),('M'),('N'),('Q'),('R'),('S'),\n",
    "            ('Z'),('1'),('2'),('3'),('4'),('5'),('6'),\n",
    "            ('7');\n",
    "    \"\"\"\n",
    ")"
   ]
  },
  {
   "cell_type": "code",
   "execution_count": 18,
   "metadata": {},
   "outputs": [
    {
     "data": {
      "text/plain": [
       "┌─────────┐\n",
       "│  route  │\n",
       "│ varchar │\n",
       "├─────────┤\n",
       "│ A       │\n",
       "│ B       │\n",
       "│ C       │\n",
       "│ D       │\n",
       "│ E       │\n",
       "│ F       │\n",
       "│ G       │\n",
       "│ J       │\n",
       "│ L       │\n",
       "│ M       │\n",
       "│ N       │\n",
       "│ Q       │\n",
       "│ R       │\n",
       "│ S       │\n",
       "│ Z       │\n",
       "│ 1       │\n",
       "│ 2       │\n",
       "│ 3       │\n",
       "│ 4       │\n",
       "│ 5       │\n",
       "│ 6       │\n",
       "│ 7       │\n",
       "├─────────┤\n",
       "│ 22 rows │\n",
       "└─────────┘"
      ]
     },
     "execution_count": 18,
     "metadata": {},
     "output_type": "execute_result"
    }
   ],
   "source": [
    "con.sql(\n",
    "    \"\"\"\n",
    "        SELECT * FROM subway_lines;\n",
    "    \"\"\"\n",
    ")"
   ]
  },
  {
   "cell_type": "code",
   "execution_count": 19,
   "metadata": {},
   "outputs": [
    {
     "data": {
      "application/vnd.jupyter.widget-view+json": {
       "model_id": "2e2b151d10ef4bd2b473795d70780e8e",
       "version_major": 2,
       "version_minor": 0
      },
      "text/plain": [
       "FloatProgress(value=0.0, layout=Layout(width='auto'), style=ProgressStyle(bar_color='black'))"
      ]
     },
     "metadata": {},
     "output_type": "display_data"
    },
    {
     "data": {
      "text/plain": [
       "┌─────────┬────────────────────┬────────────────────┬────────────┐\n",
       "│  route  │     white_pct      │     black_pct      │ popn_total │\n",
       "│ varchar │       double       │       double       │   int128   │\n",
       "├─────────┼────────────────────┼────────────────────┼────────────┤\n",
       "│ S       │ 39.839644455121466 │ 46.503108014774334 │      33301 │\n",
       "│ 3       │  42.72731756087282 │  42.06198693548893 │     223047 │\n",
       "│ 5       │  33.79377760724286 │  41.38562664729877 │     218919 │\n",
       "│ 2       │  39.26304853922876 │  38.39114588512005 │     291661 │\n",
       "│ C       │  46.87871806640494 │ 30.598767440098747 │     224411 │\n",
       "│ 4       │  37.55300060572121 │ 27.428313466439615 │     174998 │\n",
       "│ B       │  39.95588172248356 │ 26.852519457641385 │     256583 │\n",
       "│ A       │  45.59012559002023 │  22.09362356709373 │     189824 │\n",
       "│ J       │  37.62955269040576 │ 21.637651380013697 │     132861 │\n",
       "│ Q       │  56.88447982881239 │  20.63141166844987 │     127112 │\n",
       "│ Z       │  38.35718630567766 │  20.15700496952864 │      87131 │\n",
       "│ D       │   39.4971289442432 │  19.38569196913136 │     234931 │\n",
       "│ L       │  57.59003977551354 │ 16.775640676365352 │     110118 │\n",
       "│ G       │  49.57114923117945 │  16.13115871181821 │     135012 │\n",
       "│ 6       │  52.32131878266216 │ 15.716646172763603 │     260240 │\n",
       "│ 1       │  59.05773443745385 │  11.26648400266063 │     327742 │\n",
       "│ F       │ 60.867158591172384 │  7.501776071199752 │     229439 │\n",
       "│ M       │  56.53746354680934 │  6.445612987669063 │     174196 │\n",
       "│ E       │  66.76268167725763 │  4.717561951670001 │      90958 │\n",
       "│ R       │  58.45765714546774 │  4.017279275529318 │     196999 │\n",
       "│ 7       │ 35.732072928975306 │ 3.4804347613792834 │     102401 │\n",
       "│ N       │ 59.689293060517485 │ 3.4744776442567935 │     147792 │\n",
       "├─────────┴────────────────────┴────────────────────┴────────────┤\n",
       "│ 22 rows                                              4 columns │\n",
       "└────────────────────────────────────────────────────────────────┘"
      ]
     },
     "execution_count": 19,
     "metadata": {},
     "output_type": "execute_result"
    }
   ],
   "source": [
    "con.sql(\n",
    "    \"\"\"\n",
    "        SELECT lines.route,\n",
    "               100.0 * Sum(popn_white) / Sum(popn_total) AS white_pct,\n",
    "               100.0 * Sum(popn_black) / Sum(popn_total) AS black_pct,\n",
    "               Sum(popn_total) AS popn_total\n",
    "        FROM nyc_census_blocks AS census\n",
    "        JOIN nyc_subway_stations AS subways\n",
    "        ON ST_DWithin(census.geom, subways.geom, 200)\n",
    "        JOIN subway_lines AS lines\n",
    "        ON strpos(subways.routes, lines.route) > 0\n",
    "        GROUP BY lines.route\n",
    "        ORDER BY black_pct DESC;\n",
    "    \"\"\"\n",
    ")"
   ]
  },
  {
   "cell_type": "markdown",
   "metadata": {},
   "source": [
    "# Projection"
   ]
  },
  {
   "cell_type": "code",
   "execution_count": 20,
   "metadata": {},
   "outputs": [
    {
     "data": {
      "text/plain": [
       "┌─────────┬────────┬───────────┬───────────┬──────────────────┬────────────┬─────────────────────────────┐\n",
       "│ country │   id   │ latitude  │ longitude │       name       │ population │          geometry           │\n",
       "│ varchar │ double │  double   │  double   │     varchar      │   double   │          geometry           │\n",
       "├─────────┼────────┼───────────┼───────────┼──────────────────┼────────────┼─────────────────────────────┤\n",
       "│ UGA     │    1.0 │    0.5833 │   32.5333 │ Bombo            │    75000.0 │ POINT (32.5333 0.5833)      │\n",
       "│ UGA     │    2.0 │     0.671 │    30.275 │ Fort Portal      │    42670.0 │ POINT (30.275 0.671)        │\n",
       "│ ITA     │    3.0 │    40.642 │    15.799 │ Potenza          │    69060.0 │ POINT (15.799 40.642)       │\n",
       "│ ITA     │    4.0 │    41.563 │    14.656 │ Campobasso       │    50762.0 │ POINT (14.656 41.563)       │\n",
       "│ ITA     │    5.0 │    45.737 │     7.315 │ Aosta            │    34062.0 │ POINT (7.315 45.737)        │\n",
       "│ ALD     │    6.0 │    60.097 │    19.949 │ Mariehamn        │    10682.0 │ POINT (19.949 60.097)       │\n",
       "│ PSE     │    7.0 │  31.90294 │  35.20621 │ Ramallah         │    24599.0 │ POINT (35.20621 31.90294)   │\n",
       "│ VAT     │    8.0 │  41.90001 │  12.44781 │ Vatican City     │      832.0 │ POINT (12.44781 41.90001)   │\n",
       "│ FRA     │    9.0 │  46.58329 │   0.33328 │ Poitier          │    85960.0 │ POINT (0.33328 46.58329)    │\n",
       "│ FRA     │   10.0 │  45.77998 │   3.08001 │ Clermont-Ferrand │   233050.0 │ POINT (3.08001 45.77998)    │\n",
       "│  ·      │     ·  │      ·    │      ·    │   ·              │       ·    │            ·                │\n",
       "│  ·      │     ·  │      ·    │      ·    │   ·              │       ·    │            ·                │\n",
       "│  ·      │     ·  │      ·    │      ·    │   ·              │       ·    │            ·                │\n",
       "│ JPN     │ 1240.0 │  35.68502 │ 139.75141 │ Tokyo            │ 35676000.0 │ POINT (139.75141 35.68502)  │\n",
       "│ IND     │ 1241.0 │  19.01699 │  72.85699 │ Mumbai           │ 18978000.0 │ POINT (72.85699 19.01699)   │\n",
       "│ FRA     │ 1242.0 │  48.86669 │   2.33334 │ Paris            │  9904000.0 │ POINT (2.33334 48.86669)    │\n",
       "│ CHL     │ 1243.0 │ -33.45001 │ -70.66704 │ Santiago         │  5720000.0 │ POINT (-70.66704 -33.45001) │\n",
       "│ IND     │ 1244.0 │  22.49497 │  88.32468 │ Kolkata          │ 14787000.0 │ POINT (88.32468 22.49497)   │\n",
       "│ BRA     │ 1245.0 │ -22.92502 │ -43.22502 │ Rio de Janeiro   │ 11748000.0 │ POINT (-43.22502 -22.92502) │\n",
       "│ BRA     │ 1246.0 │ -23.55868 │ -46.62502 │ Sao Paulo        │ 18845000.0 │ POINT (-46.62502 -23.55868) │\n",
       "│ AUS     │ 1247.0 │ -33.92001 │ 151.18518 │ Sydney           │  4630000.0 │ POINT (151.18518 -33.92001) │\n",
       "│ SGP     │ 1248.0 │   1.29303 │ 103.85582 │ Singapore        │  5183700.0 │ POINT (103.85582 1.29303)   │\n",
       "│ CHN     │ 1249.0 │  22.30498 │ 114.18501 │ Hong Kong        │  7206000.0 │ POINT (114.18501 22.30498)  │\n",
       "├─────────┴────────┴───────────┴───────────┴──────────────────┴────────────┴─────────────────────────────┤\n",
       "│ 1249 rows (20 shown)                                                                         7 columns │\n",
       "└────────────────────────────────────────────────────────────────────────────────────────────────────────┘"
      ]
     },
     "execution_count": 20,
     "metadata": {},
     "output_type": "execute_result"
    }
   ],
   "source": [
    "url = 'https://open.gishub.org/data/duckdb/cities.parquet'\n",
    "con.sql(f\"SELECT * EXCLUDE geometry, ST_GeomFromWKB(geometry) AS geometry FROM '{url}'\")"
   ]
  },
  {
   "cell_type": "code",
   "execution_count": 21,
   "metadata": {},
   "outputs": [
    {
     "data": {
      "text/plain": [
       "┌─────────┬────────┬───────────┬───────────┬──────────────────┬────────────┬───────────────────────────────────────────┐\n",
       "│ country │   id   │ latitude  │ longitude │       name       │ population │                 geometry                  │\n",
       "│ varchar │ double │  double   │  double   │     varchar      │   double   │                 geometry                  │\n",
       "├─────────┼────────┼───────────┼───────────┼──────────────────┼────────────┼───────────────────────────────────────────┤\n",
       "│ UGA     │    1.0 │    0.5833 │   32.5333 │ Bombo            │    75000.0 │ POINT (11942089.442723729 7279926.80195…  │\n",
       "│ UGA     │    2.0 │     0.671 │    30.275 │ Fort Portal      │    42670.0 │ POINT (11867630.052040448 6998929.07050…  │\n",
       "│ ITA     │    3.0 │    40.642 │    15.799 │ Potenza          │    69060.0 │ POINT (7358230.68251168 6866592.8408855…  │\n",
       "│ ITA     │    4.0 │    41.563 │    14.656 │ Campobasso       │    50762.0 │ POINT (7226148.687146555 6819079.567060…  │\n",
       "│ ITA     │    5.0 │    45.737 │     7.315 │ Aosta            │    34062.0 │ POINT (6552378.111608097 6487242.065731…  │\n",
       "│ ALD     │    6.0 │    60.097 │    19.949 │ Mariehamn        │    10682.0 │ POINT (5508421.560396923 7913792.108140…  │\n",
       "│ PSE     │    7.0 │  31.90294 │  35.20621 │ Ramallah         │    24599.0 │ POINT (8786671.314526286 8237620.380398…  │\n",
       "│ VAT     │    8.0 │  41.90001 │  12.44781 │ Vatican City     │      832.0 │ POINT (7117661.079455632 6667735.352476…  │\n",
       "│ FRA     │    9.0 │  46.58329 │   0.33328 │ Poitier          │    85960.0 │ POINT (6202391.802168404 6065223.694335…  │\n",
       "│ FRA     │   10.0 │  45.77998 │   3.08001 │ Clermont-Ferrand │   233050.0 │ POINT (6388427.609838363 6201166.022551…  │\n",
       "│  ·      │     ·  │      ·    │      ·    │   ·              │       ·    │                     ·                     │\n",
       "│  ·      │     ·  │      ·    │      ·    │   ·              │       ·    │                     ·                     │\n",
       "│  ·      │     ·  │      ·    │      ·    │   ·              │       ·    │                     ·                     │\n",
       "│ JPN     │ 1240.0 │  35.68502 │ 139.75141 │ Tokyo            │ 35676000.0 │ POINT (-8231486.10887736 7709424.882788…  │\n",
       "│ IND     │ 1241.0 │  19.01699 │  72.85699 │ Mumbai           │ 18978000.0 │ POINT (10139319.929078806 12047954.1201…  │\n",
       "│ FRA     │ 1242.0 │  48.86669 │   2.33334 │ Paris            │  9904000.0 │ POINT (6065653.0573384315 6325331.06564…  │\n",
       "│ CHL     │ 1243.0 │ -33.45001 │ -70.66704 │ Santiago         │  5720000.0 │ POINT (3951207.1915841573 -4540721.4838…  │\n",
       "│ IND     │ 1244.0 │  22.49497 │  88.32468 │ Kolkata          │ 14787000.0 │ POINT (-9601078.386902532 12666618.6484…  │\n",
       "│ BRA     │ 1245.0 │ -22.92502 │ -43.22502 │ Rio de Janeiro   │ 11748000.0 │ POINT (7516340.693336727 -2185094.42836…  │\n",
       "│ BRA     │ 1246.0 │ -23.55868 │ -46.62502 │ Sao Paulo        │ 18845000.0 │ POINT (7101948.950971747 -2487683.32919…  │\n",
       "│ AUS     │ 1247.0 │ -33.92001 │ 151.18518 │ Sydney           │  4630000.0 │ POINT (-13937208.782632692 4302569.8793…  │\n",
       "│ SGP     │ 1248.0 │   1.29303 │ 103.85582 │ Singapore        │  5183700.0 │ POINT (-12084880.759900725 11316811.940…  │\n",
       "│ CHN     │ 1249.0 │  22.30498 │ 114.18501 │ Hong Kong        │  7206000.0 │ POINT (-10004207.111961301 9985487.7709…  │\n",
       "├─────────┴────────┴───────────┴───────────┴──────────────────┴────────────┴───────────────────────────────────────────┤\n",
       "│ 1249 rows (20 shown)                                                                                       7 columns │\n",
       "└──────────────────────────────────────────────────────────────────────────────────────────────────────────────────────┘"
      ]
     },
     "execution_count": 21,
     "metadata": {},
     "output_type": "execute_result"
    }
   ],
   "source": [
    "con.sql(\n",
    "    f\"\"\"\n",
    "        SELECT * EXCLUDE geometry, ST_Transform(ST_GeomFromWKB(geometry), 'EPSG:4326', 'EPSG:5070', true) AS geometry FROM '{url}'\n",
    "    \"\"\"\n",
    ")"
   ]
  },
  {
   "cell_type": "markdown",
   "metadata": {},
   "source": [
    "# References"
   ]
  },
  {
   "cell_type": "markdown",
   "metadata": {},
   "source": [
    "- [duckdb](https://duckdb.org/docs/archive/0.9.2/extensions/spatial#spatial-relationships)\n",
    "- [Introduction to PostGIS - Spatial Joins](https://postgis.net/workshops/postgis-intro/joins.html)"
   ]
  }
 ],
 "metadata": {
  "kernelspec": {
   "display_name": "autogis",
   "language": "python",
   "name": "python3"
  },
  "language_info": {
   "codemirror_mode": {
    "name": "ipython",
    "version": 3
   },
   "file_extension": ".py",
   "mimetype": "text/x-python",
   "name": "python",
   "nbconvert_exporter": "python",
   "pygments_lexer": "ipython3",
   "version": "3.10.14"
  }
 },
 "nbformat": 4,
 "nbformat_minor": 2
}
