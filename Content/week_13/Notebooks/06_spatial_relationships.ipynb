{
 "cells": [
  {
   "cell_type": "markdown",
   "metadata": {},
   "source": [
    "# Library Import"
   ]
  },
  {
   "cell_type": "code",
   "execution_count": 1,
   "metadata": {},
   "outputs": [],
   "source": [
    "import duckdb\n",
    "import leafmap"
   ]
  },
  {
   "cell_type": "markdown",
   "metadata": {},
   "source": [
    "# Sample Data"
   ]
  },
  {
   "cell_type": "code",
   "execution_count": null,
   "metadata": {},
   "outputs": [],
   "source": [
    "url = \"https://open.gishub.org/data/duckdb/nyc_data.db.zip\"\n",
    "leafmap.download_file(url, unzip=True)"
   ]
  },
  {
   "cell_type": "markdown",
   "metadata": {},
   "source": [
    "# Connecting to DuckDB"
   ]
  },
  {
   "cell_type": "code",
   "execution_count": 3,
   "metadata": {},
   "outputs": [],
   "source": [
    "con = duckdb.connect('nyc_data.db')"
   ]
  },
  {
   "cell_type": "code",
   "execution_count": 4,
   "metadata": {},
   "outputs": [],
   "source": [
    "con.install_extension('spatial')\n",
    "con.load_extension('spatial')"
   ]
  },
  {
   "cell_type": "code",
   "execution_count": 5,
   "metadata": {},
   "outputs": [
    {
     "data": {
      "text/plain": [
       "┌─────────────────────┐\n",
       "│        name         │\n",
       "│       varchar       │\n",
       "├─────────────────────┤\n",
       "│ nyc_census_blocks   │\n",
       "│ nyc_homicides       │\n",
       "│ nyc_neighborhoods   │\n",
       "│ nyc_streets         │\n",
       "│ nyc_subway_stations │\n",
       "└─────────────────────┘"
      ]
     },
     "execution_count": 5,
     "metadata": {},
     "output_type": "execute_result"
    }
   ],
   "source": [
    "con.sql(\"SHOW TABLES;\")"
   ]
  },
  {
   "cell_type": "code",
   "execution_count": 6,
   "metadata": {},
   "outputs": [
    {
     "data": {
      "text/plain": [
       "┌──────────┬────────┬──────────────┬─────────────────┬───┬─────────┬─────────┬─────────┬──────────────────────┐\n",
       "│ OBJECTID │   ID   │     NAME     │    ALT_NAME     │ … │  COLOR  │ EXPRESS │ CLOSED  │         geom         │\n",
       "│  double  │ double │   varchar    │     varchar     │   │ varchar │ varchar │ varchar │       geometry       │\n",
       "├──────────┼────────┼──────────────┼─────────────────┼───┼─────────┼─────────┼─────────┼──────────────────────┤\n",
       "│      1.0 │  376.0 │ Cortlandt St │ NULL            │ … │ YELLOW  │ NULL    │ NULL    │ POINT (583521.8544…  │\n",
       "│      2.0 │    2.0 │ Rector St    │ NULL            │ … │ RED     │ NULL    │ NULL    │ POINT (583324.4866…  │\n",
       "│      3.0 │    1.0 │ South Ferry  │ NULL            │ … │ RED     │ NULL    │ NULL    │ POINT (583304.1823…  │\n",
       "│      4.0 │  125.0 │ 138th St     │ Grand Concourse │ … │ GREEN   │ NULL    │ NULL    │ POINT (590250.1059…  │\n",
       "│      5.0 │  126.0 │ 149th St     │ Grand Concourse │ … │ GREEN   │ express │ NULL    │ POINT (590454.7399…  │\n",
       "├──────────┴────────┴──────────────┴─────────────────┴───┴─────────┴─────────┴─────────┴──────────────────────┤\n",
       "│ 5 rows                                                                                 15 columns (8 shown) │\n",
       "└─────────────────────────────────────────────────────────────────────────────────────────────────────────────┘"
      ]
     },
     "execution_count": 6,
     "metadata": {},
     "output_type": "execute_result"
    }
   ],
   "source": [
    "con.sql(\"SELECT * from nyc_subway_stations LIMIT 5\")"
   ]
  },
  {
   "cell_type": "markdown",
   "metadata": {},
   "source": [
    "# Spatial Relationships"
   ]
  },
  {
   "cell_type": "markdown",
   "metadata": {},
   "source": [
    "## ST_Equals\n",
    "\n",
    "`ST_Equals(geometry A, geometry B)` tests the spatial equality of two geometries.\n",
    "\n",
    "![st_equals](./images/st_equals.png)\n",
    "\n",
    "`ST_Equals` returns `TRUE` if two geometries of the `same type` have identical `x,y` coordinate `values`, i.e. if the second shape is equal (identical) to the first shape"
   ]
  },
  {
   "cell_type": "code",
   "execution_count": 7,
   "metadata": {},
   "outputs": [
    {
     "data": {
      "text/plain": [
       "┌──────────┬─────────────────────────────────────────────┬─────────────────────────────────────────────┐\n",
       "│   NAME   │                    geom                     │               st_astext(geom)               │\n",
       "│ varchar  │                  geometry                   │                   varchar                   │\n",
       "├──────────┼─────────────────────────────────────────────┼─────────────────────────────────────────────┤\n",
       "│ Broad St │ POINT (583571.9059213118 4506714.341192182) │ POINT (583571.9059213118 4506714.341192182) │\n",
       "└──────────┴─────────────────────────────────────────────┴─────────────────────────────────────────────┘"
      ]
     },
     "execution_count": 7,
     "metadata": {},
     "output_type": "execute_result"
    }
   ],
   "source": [
    "con.sql(\n",
    "    \"\"\"\n",
    "        SELECT name, geom, ST_AsText(geom)\n",
    "        FROM nyc_subway_stations\n",
    "        WHERE name = 'Broad St';\n",
    "    \"\"\"\n",
    ")"
   ]
  },
  {
   "cell_type": "code",
   "execution_count": 8,
   "metadata": {},
   "outputs": [
    {
     "data": {
      "text/plain": [
       "┌──────────┐\n",
       "│   NAME   │\n",
       "│ varchar  │\n",
       "├──────────┤\n",
       "│ Broad St │\n",
       "└──────────┘"
      ]
     },
     "execution_count": 8,
     "metadata": {},
     "output_type": "execute_result"
    }
   ],
   "source": [
    "con.sql(\n",
    "    \"\"\"\n",
    "        SELECT name\n",
    "        FROM nyc_subway_stations\n",
    "        WHERE ST_Equals(geom, ST_GeomFromText('POINT (583571.9059213118 4506714.341192182)'));\n",
    "    \"\"\"\n",
    ")"
   ]
  },
  {
   "cell_type": "markdown",
   "metadata": {},
   "source": [
    "## ST_Intersects, ST_Disjoint, ST_Crosses and ST_Overlaps\n",
    "\n",
    "`ST_Intersects`, `ST_Crosses`, and `ST_Overlaps` test whether the interiors of the geometries intersect.\n",
    "\n",
    "![st_intersects](./images/st_intersects.png)\n",
    "\n",
    "`ST_Intersects(geometry A, geometry B)` returns t (TRUE) if the two shapes have any space in common, i.e., if their boundaries or interiors intersect.\n",
    "\n",
    "![st_disjoints](./images/st_disjoint.png)\n",
    "\n",
    "The opposite of ST_Intersects is `ST_Disjoint(geometry A , geometry B)`. If two geometries are disjoint, they do not intersect, and vice-versa. In fact, it is often more efficient to test “not intersects” than to test “disjoint” because the intersects tests can be spatially indexed, while the disjoint test cannot.\n",
    "\n",
    "![st_crosses](./images/st_crosses.png)\n",
    "\n",
    "For multipoint/polygon, multipoint/linestring, linestring/linestring, linestring/polygon, and linestring/multipolygon comparisons, `ST_Crosses(geometry A, geometry B)` returns t (TRUE) if the intersection results in a geometry whose dimension is one less than the maximum dimension of the two source geometries and the intersection set is interior to both source geometries.\n",
    "\n",
    "![st_overlaps](./images/st_overlaps.png)\n",
    "\n",
    "`ST_Overlaps(geometry A, geometry B)` compares two geometries of the same dimension and returns TRUE if their intersection set results in a geometry different from both but of the same dimension."
   ]
  },
  {
   "cell_type": "code",
   "execution_count": 9,
   "metadata": {},
   "outputs": [
    {
     "data": {
      "text/plain": [
       "┌──────────┬─────────────────────────────────────────────┐\n",
       "│   NAME   │               st_astext(geom)               │\n",
       "│ varchar  │                   varchar                   │\n",
       "├──────────┼─────────────────────────────────────────────┤\n",
       "│ Broad St │ POINT (583571.9059213118 4506714.341192182) │\n",
       "└──────────┴─────────────────────────────────────────────┘"
      ]
     },
     "execution_count": 9,
     "metadata": {},
     "output_type": "execute_result"
    }
   ],
   "source": [
    "con.sql(\n",
    "    \"\"\"\n",
    "        SELECT name, ST_AsText(geom)\n",
    "        FROM nyc_subway_stations\n",
    "        WHERE name = 'Broad St';\n",
    "    \"\"\"\n",
    ")"
   ]
  },
  {
   "cell_type": "code",
   "execution_count": 10,
   "metadata": {},
   "outputs": [
    {
     "data": {
      "text/plain": [
       "┌───────────┬──────────────────────┬───────────────────────────────────────────────────────────────────────────────────┐\n",
       "│ BORONAME  │         NAME         │                                       geom                                        │\n",
       "│  varchar  │       varchar        │                                     geometry                                      │\n",
       "├───────────┼──────────────────────┼───────────────────────────────────────────────────────────────────────────────────┤\n",
       "│ Brooklyn  │ Bensonhurst          │ MULTIPOLYGON (((582771.4257198056 4495167.427365481, 584651.2943549604 4497541.…  │\n",
       "│ Manhattan │ East Village         │ MULTIPOLYGON (((585508.7534890148 4509691.267208001, 586826.3570590394 4508984.…  │\n",
       "│ Manhattan │ West Village         │ MULTIPOLYGON (((583263.2776595836 4509242.626023987, 583276.8199068634 4509378.…  │\n",
       "│ The Bronx │ Throggs Neck         │ MULTIPOLYGON (((597640.0090688139 4520272.719938631, 597647.7457808304 4520617.…  │\n",
       "│ The Bronx │ Wakefield-Williams…  │ MULTIPOLYGON (((595285.2053417757 4525938.79838847, 595348.5452399419 4526158.7…  │\n",
       "└───────────┴──────────────────────┴───────────────────────────────────────────────────────────────────────────────────┘"
      ]
     },
     "execution_count": 10,
     "metadata": {},
     "output_type": "execute_result"
    }
   ],
   "source": [
    "con.sql(\"FROM nyc_neighborhoods LIMIT 5\")"
   ]
  },
  {
   "cell_type": "code",
   "execution_count": 11,
   "metadata": {},
   "outputs": [
    {
     "data": {
      "text/plain": [
       "┌────────────────────┬───────────┐\n",
       "│        NAME        │ BORONAME  │\n",
       "│      varchar       │  varchar  │\n",
       "├────────────────────┼───────────┤\n",
       "│ Financial District │ Manhattan │\n",
       "└────────────────────┴───────────┘"
      ]
     },
     "execution_count": 11,
     "metadata": {},
     "output_type": "execute_result"
    }
   ],
   "source": [
    "con.sql(\n",
    "    \"\"\"\n",
    "        SELECT name, boroname\n",
    "        FROM nyc_neighborhoods\n",
    "        WHERE ST_Intersects(geom, ST_GeomFromText('POINT(583571 4506714)'));\n",
    "    \"\"\"\n",
    ")"
   ]
  },
  {
   "cell_type": "markdown",
   "metadata": {},
   "source": [
    "## ST_Touches\n",
    "\n",
    "`ST_Touches` tests whether two geometries touch at their boundaries, but do not intersect in their interiors\n",
    "\n",
    "![st_touches](./images/st_touches.png)\n",
    "\n",
    "`ST_Touches(geometry A, geometry B)` returns TRUE if either of the geometries’ boundaries intersect or if only one of the geometry’s interiors intersects the other’s boundary."
   ]
  },
  {
   "cell_type": "markdown",
   "metadata": {},
   "source": [
    "## ST_Within and ST_Contains\n",
    "\n",
    "`ST_Within` and `ST_Contains` test whether one geometry is fully within the other.\n",
    "\n",
    "![st_within](./images/st_within.png)\n",
    "\n",
    "`ST_Within(geometry A , geometry B)` returns TRUE if the first geometry is completely within the second geometry. ST_Within tests for the exact opposite result of ST_Contains.\n",
    "\n",
    "`ST_Contains(geometry A, geometry B)` returns TRUE if the second geometry is completely contained by the first geometry."
   ]
  },
  {
   "cell_type": "markdown",
   "metadata": {},
   "source": [
    "## ST_Distance and ST_DWithin\n",
    "\n",
    "The `ST_Distance(geometry A, geometry B)` calculates the shortest distance between two geometries and returns it as a float. This is useful for actually reporting back the distance between objects"
   ]
  },
  {
   "cell_type": "code",
   "execution_count": 12,
   "metadata": {},
   "outputs": [
    {
     "data": {
      "text/plain": [
       "┌────────┐\n",
       "│  dist  │\n",
       "│ double │\n",
       "├────────┤\n",
       "│    3.0 │\n",
       "└────────┘"
      ]
     },
     "execution_count": 12,
     "metadata": {},
     "output_type": "execute_result"
    }
   ],
   "source": [
    "con.sql(\n",
    "    \"\"\"\n",
    "        SELECT ST_Distance(\n",
    "        ST_GeomFromText('POINT(0 5)'),\n",
    "        ST_GeomFromText('LINESTRING(-2 2, 2 2)')) as dist;\n",
    "    \"\"\"\n",
    ")"
   ]
  },
  {
   "cell_type": "markdown",
   "metadata": {},
   "source": [
    "For testing whether two objects are within a distance of one another, the `ST_DWithin` function provides an index-accelerated true/false test. This is useful for questions like “how many trees are within a 500 meter buffer of the road?”. You don’t have to calculate an actual buffer, you just have to test the distance relationship.\n",
    "\n",
    "![st_dwithin](./images/st_dwithin.png)"
   ]
  },
  {
   "cell_type": "code",
   "execution_count": 13,
   "metadata": {},
   "outputs": [
    {
     "data": {
      "text/plain": [
       "┌───────┬─────────────┬─────────┬───────────────┬──────────────────────────────────────────────────────────────────────┐\n",
       "│  ID   │    NAME     │ ONEWAY  │     TYPE      │                                 geom                                 │\n",
       "│ int32 │   varchar   │ varchar │    varchar    │                               geometry                               │\n",
       "├───────┼─────────────┼─────────┼───────────────┼──────────────────────────────────────────────────────────────────────┤\n",
       "│     1 │ Shore Pky S │ NULL    │ residential   │ MULTILINESTRING ((586785.4767897038 4492901.0014554765, 586898.232…  │\n",
       "│     2 │ NULL        │ NULL    │ footway       │ MULTILINESTRING ((586645.0073625665 4504977.750360583, 586664.2248…  │\n",
       "│     3 │ Avenue O    │ NULL    │ residential   │ MULTILINESTRING ((586750.3019977848 4496109.72213903, 586837.37268…  │\n",
       "│     4 │ Walsh Ct    │ NULL    │ residential   │ MULTILINESTRING ((586728.695515043 4497971.05313857, 586886.358225…  │\n",
       "│     5 │ NULL        │ NULL    │ motorway_link │ MULTILINESTRING ((586587.0531467082 4510088.250402982, 586641.7339…  │\n",
       "└───────┴─────────────┴─────────┴───────────────┴──────────────────────────────────────────────────────────────────────┘"
      ]
     },
     "execution_count": 13,
     "metadata": {},
     "output_type": "execute_result"
    }
   ],
   "source": [
    "con.sql(\"FROM nyc_streets LIMIT 5\")"
   ]
  },
  {
   "cell_type": "code",
   "execution_count": 14,
   "metadata": {},
   "outputs": [
    {
     "data": {
      "text/plain": [
       "┌───────────┐\n",
       "│   NAME    │\n",
       "│  varchar  │\n",
       "├───────────┤\n",
       "│ Wall St   │\n",
       "│ Broad St  │\n",
       "│ Nassau St │\n",
       "└───────────┘"
      ]
     },
     "execution_count": 14,
     "metadata": {},
     "output_type": "execute_result"
    }
   ],
   "source": [
    "con.sql(\n",
    "    \"\"\"\n",
    "        SELECT name\n",
    "        FROM nyc_streets\n",
    "        WHERE ST_DWithin(\n",
    "            geom,\n",
    "            ST_GeomFromText('POINT(583571 4506714)'),\n",
    "            10\n",
    "        );\n",
    "    \"\"\"\n",
    ")"
   ]
  },
  {
   "cell_type": "markdown",
   "metadata": {},
   "source": [
    "# Function List"
   ]
  },
  {
   "cell_type": "markdown",
   "metadata": {},
   "source": [
    "- [ST_Contains(geometry A, geometry B)](http://postgis.net/docs/ST_Contains.html): Returns true if and only if no points of B lie in the exterior of A, and at least one point of the interior of B lies in the interior of A.\n",
    "\n",
    "- [ST_Crosses(geometry A, geometry B)](http://postgis.net/docs/ST_Crosses.html): Returns TRUE if the supplied geometries have some, but not all, interior points in common.\n",
    "\n",
    "- [ST_Disjoint(geometry A , geometry B)](http://postgis.net/docs/ST_Disjoint.html): Returns TRUE if the Geometries do not “spatially intersect” - if they do not share any space together.\n",
    "\n",
    "- [ST_Distance(geometry A, geometry B)](http://postgis.net/docs/ST_Distance.html): Returns the 2-dimensional cartesian minimum distance (based on spatial ref) between two geometries in projected units.\n",
    "\n",
    "- [ST_DWithin(geometry A, geometry B, radius)](http://postgis.net/docs/ST_DWithin.html): Returns true if the geometries are within the specified distance (radius) of one another.\n",
    "\n",
    "- [ST_Equals(geometry A, geometry B)](http://postgis.net/docs/ST_Equals.html): Returns true if the given geometries represent the same geometry. Directionality is ignored.\n",
    "\n",
    "- [ST_Intersects(geometry A, geometry B)](http://postgis.net/docs/ST_Intersects.html): Returns TRUE if the Geometries/Geography “spatially intersect” - (share any portion of space) and FALSE if they don’t (they are Disjoint).\n",
    "\n",
    "- [ST_Overlaps(geometry A, geometry B)](http://postgis.net/docs/ST_Overlaps.html): Returns TRUE if the Geometries share space, are of the same dimension, but are not completely contained by each other.\n",
    "\n",
    "- [ST_Touches(geometry A, geometry B)](http://postgis.net/docs/ST_Touches.html): Returns TRUE if the geometries have at least one point in common, but their interiors do not intersect.\n",
    "\n",
    "- [ST_Within(geometry A , geometry B)](http://postgis.net/docs/ST_Within.html): Returns true if the geometry A is completely inside geometry B"
   ]
  },
  {
   "cell_type": "code",
   "execution_count": 15,
   "metadata": {},
   "outputs": [
    {
     "data": {
      "text/html": [
       "<div>\n",
       "<style scoped>\n",
       "    .dataframe tbody tr th:only-of-type {\n",
       "        vertical-align: middle;\n",
       "    }\n",
       "\n",
       "    .dataframe tbody tr th {\n",
       "        vertical-align: top;\n",
       "    }\n",
       "\n",
       "    .dataframe thead th {\n",
       "        text-align: right;\n",
       "    }\n",
       "</style>\n",
       "<table border=\"1\" class=\"dataframe\">\n",
       "  <thead>\n",
       "    <tr style=\"text-align: right;\">\n",
       "      <th></th>\n",
       "      <th>ID</th>\n",
       "      <th>NAME</th>\n",
       "      <th>ONEWAY</th>\n",
       "      <th>TYPE</th>\n",
       "      <th>geometry</th>\n",
       "    </tr>\n",
       "  </thead>\n",
       "  <tbody>\n",
       "    <tr>\n",
       "      <th>0</th>\n",
       "      <td>1</td>\n",
       "      <td>Shore Pky S</td>\n",
       "      <td>None</td>\n",
       "      <td>residential</td>\n",
       "      <td>MULTILINESTRING ((586785.4767897038 4492901.00...</td>\n",
       "    </tr>\n",
       "    <tr>\n",
       "      <th>1</th>\n",
       "      <td>2</td>\n",
       "      <td>None</td>\n",
       "      <td>None</td>\n",
       "      <td>footway</td>\n",
       "      <td>MULTILINESTRING ((586645.0073625665 4504977.75...</td>\n",
       "    </tr>\n",
       "    <tr>\n",
       "      <th>2</th>\n",
       "      <td>3</td>\n",
       "      <td>Avenue O</td>\n",
       "      <td>None</td>\n",
       "      <td>residential</td>\n",
       "      <td>MULTILINESTRING ((586750.3019977848 4496109.72...</td>\n",
       "    </tr>\n",
       "    <tr>\n",
       "      <th>3</th>\n",
       "      <td>4</td>\n",
       "      <td>Walsh Ct</td>\n",
       "      <td>None</td>\n",
       "      <td>residential</td>\n",
       "      <td>MULTILINESTRING ((586728.695515043 4497971.053...</td>\n",
       "    </tr>\n",
       "    <tr>\n",
       "      <th>4</th>\n",
       "      <td>5</td>\n",
       "      <td>None</td>\n",
       "      <td>None</td>\n",
       "      <td>motorway_link</td>\n",
       "      <td>MULTILINESTRING ((586587.0531467082 4510088.25...</td>\n",
       "    </tr>\n",
       "  </tbody>\n",
       "</table>\n",
       "</div>"
      ],
      "text/plain": [
       "   ID         NAME ONEWAY           TYPE  \\\n",
       "0   1  Shore Pky S   None    residential   \n",
       "1   2         None   None        footway   \n",
       "2   3     Avenue O   None    residential   \n",
       "3   4     Walsh Ct   None    residential   \n",
       "4   5         None   None  motorway_link   \n",
       "\n",
       "                                            geometry  \n",
       "0  MULTILINESTRING ((586785.4767897038 4492901.00...  \n",
       "1  MULTILINESTRING ((586645.0073625665 4504977.75...  \n",
       "2  MULTILINESTRING ((586750.3019977848 4496109.72...  \n",
       "3  MULTILINESTRING ((586728.695515043 4497971.053...  \n",
       "4  MULTILINESTRING ((586587.0531467082 4510088.25...  "
      ]
     },
     "execution_count": 15,
     "metadata": {},
     "output_type": "execute_result"
    }
   ],
   "source": [
    "df = con.sql(\"SELECT * EXCLUDE geom, ST_AsText(geom) AS geometry FROM nyc_streets\").df()\n",
    "df.head()"
   ]
  },
  {
   "cell_type": "code",
   "execution_count": 16,
   "metadata": {},
   "outputs": [
    {
     "data": {
      "text/html": [
       "<div>\n",
       "<style scoped>\n",
       "    .dataframe tbody tr th:only-of-type {\n",
       "        vertical-align: middle;\n",
       "    }\n",
       "\n",
       "    .dataframe tbody tr th {\n",
       "        vertical-align: top;\n",
       "    }\n",
       "\n",
       "    .dataframe thead th {\n",
       "        text-align: right;\n",
       "    }\n",
       "</style>\n",
       "<table border=\"1\" class=\"dataframe\">\n",
       "  <thead>\n",
       "    <tr style=\"text-align: right;\">\n",
       "      <th></th>\n",
       "      <th>ID</th>\n",
       "      <th>NAME</th>\n",
       "      <th>ONEWAY</th>\n",
       "      <th>TYPE</th>\n",
       "      <th>geometry</th>\n",
       "    </tr>\n",
       "  </thead>\n",
       "  <tbody>\n",
       "    <tr>\n",
       "      <th>0</th>\n",
       "      <td>1</td>\n",
       "      <td>Shore Pky S</td>\n",
       "      <td>None</td>\n",
       "      <td>residential</td>\n",
       "      <td>MULTILINESTRING ((-73.97454 40.58235, -73.9732...</td>\n",
       "    </tr>\n",
       "    <tr>\n",
       "      <th>1</th>\n",
       "      <td>2</td>\n",
       "      <td>None</td>\n",
       "      <td>None</td>\n",
       "      <td>footway</td>\n",
       "      <td>MULTILINESTRING ((-73.97454 40.69114, -73.9743...</td>\n",
       "    </tr>\n",
       "    <tr>\n",
       "      <th>2</th>\n",
       "      <td>3</td>\n",
       "      <td>Avenue O</td>\n",
       "      <td>None</td>\n",
       "      <td>residential</td>\n",
       "      <td>MULTILINESTRING ((-73.97452 40.61126, -73.9734...</td>\n",
       "    </tr>\n",
       "    <tr>\n",
       "      <th>3</th>\n",
       "      <td>4</td>\n",
       "      <td>Walsh Ct</td>\n",
       "      <td>None</td>\n",
       "      <td>residential</td>\n",
       "      <td>MULTILINESTRING ((-73.97451 40.62802, -73.9726...</td>\n",
       "    </tr>\n",
       "    <tr>\n",
       "      <th>4</th>\n",
       "      <td>5</td>\n",
       "      <td>None</td>\n",
       "      <td>None</td>\n",
       "      <td>motorway_link</td>\n",
       "      <td>MULTILINESTRING ((-73.97452 40.73718, -73.9738...</td>\n",
       "    </tr>\n",
       "  </tbody>\n",
       "</table>\n",
       "</div>"
      ],
      "text/plain": [
       "   ID         NAME ONEWAY           TYPE  \\\n",
       "0   1  Shore Pky S   None    residential   \n",
       "1   2         None   None        footway   \n",
       "2   3     Avenue O   None    residential   \n",
       "3   4     Walsh Ct   None    residential   \n",
       "4   5         None   None  motorway_link   \n",
       "\n",
       "                                            geometry  \n",
       "0  MULTILINESTRING ((-73.97454 40.58235, -73.9732...  \n",
       "1  MULTILINESTRING ((-73.97454 40.69114, -73.9743...  \n",
       "2  MULTILINESTRING ((-73.97452 40.61126, -73.9734...  \n",
       "3  MULTILINESTRING ((-73.97451 40.62802, -73.9726...  \n",
       "4  MULTILINESTRING ((-73.97452 40.73718, -73.9738...  "
      ]
     },
     "execution_count": 16,
     "metadata": {},
     "output_type": "execute_result"
    }
   ],
   "source": [
    "gdf = leafmap.df_to_gdf(df, src_crs=\"EPSG:26918\", dst_crs=\"EPSG:4326\")\n",
    "gdf.head()"
   ]
  },
  {
   "cell_type": "code",
   "execution_count": null,
   "metadata": {},
   "outputs": [],
   "source": [
    "# !pip install lonboard\n",
    "leafmap.view_vector(gdf)"
   ]
  },
  {
   "cell_type": "code",
   "execution_count": null,
   "metadata": {},
   "outputs": [],
   "source": []
  }
 ],
 "metadata": {
  "kernelspec": {
   "display_name": "autogis",
   "language": "python",
   "name": "python3"
  },
  "language_info": {
   "codemirror_mode": {
    "name": "ipython",
    "version": 3
   },
   "file_extension": ".py",
   "mimetype": "text/x-python",
   "name": "python",
   "nbconvert_exporter": "python",
   "pygments_lexer": "ipython3",
   "version": "3.10.14"
  }
 },
 "nbformat": 4,
 "nbformat_minor": 2
}
