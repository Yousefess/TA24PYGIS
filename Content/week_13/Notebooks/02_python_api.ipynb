{
 "cells": [
  {
   "cell_type": "markdown",
   "metadata": {},
   "source": [
    "# Library Import"
   ]
  },
  {
   "cell_type": "code",
   "execution_count": 1,
   "metadata": {},
   "outputs": [],
   "source": [
    "import duckdb\n",
    "import pandas as pd"
   ]
  },
  {
   "cell_type": "markdown",
   "metadata": {},
   "source": [
    "# Installing Extensions"
   ]
  },
  {
   "cell_type": "code",
   "execution_count": 2,
   "metadata": {},
   "outputs": [],
   "source": [
    "# conn = duckdb.connect()\n",
    "conn = duckdb.connect(\"python_api.db\")\n",
    "conn.install_extension(\"httpfs\")\n",
    "conn.load_extension(\"httpfs\")"
   ]
  },
  {
   "cell_type": "markdown",
   "metadata": {},
   "source": [
    "# Data Input"
   ]
  },
  {
   "cell_type": "code",
   "execution_count": 3,
   "metadata": {},
   "outputs": [
    {
     "name": "stdout",
     "output_type": "stream",
     "text": [
      "┌───────┐\n",
      "│  42   │\n",
      "│ int32 │\n",
      "├───────┤\n",
      "│    42 │\n",
      "└───────┘\n",
      "\n"
     ]
    }
   ],
   "source": [
    "conn.sql('SELECT 42').show()"
   ]
  },
  {
   "cell_type": "code",
   "execution_count": 4,
   "metadata": {},
   "outputs": [
    {
     "data": {
      "text/plain": [
       "┌───────┬──────────────────┬─────────┬───────────┬───────────┬────────────┐\n",
       "│  id   │       name       │ country │ latitude  │ longitude │ population │\n",
       "│ int64 │     varchar      │ varchar │  double   │  double   │   int64    │\n",
       "├───────┼──────────────────┼─────────┼───────────┼───────────┼────────────┤\n",
       "│     1 │ Bombo            │ UGA     │    0.5833 │   32.5333 │      75000 │\n",
       "│     2 │ Fort Portal      │ UGA     │     0.671 │    30.275 │      42670 │\n",
       "│     3 │ Potenza          │ ITA     │    40.642 │    15.799 │      69060 │\n",
       "│     4 │ Campobasso       │ ITA     │    41.563 │    14.656 │      50762 │\n",
       "│     5 │ Aosta            │ ITA     │    45.737 │     7.315 │      34062 │\n",
       "│     6 │ Mariehamn        │ ALD     │    60.097 │    19.949 │      10682 │\n",
       "│     7 │ Ramallah         │ PSE     │  31.90294 │  35.20621 │      24599 │\n",
       "│     8 │ Vatican City     │ VAT     │  41.90001 │  12.44781 │        832 │\n",
       "│     9 │ Poitier          │ FRA     │  46.58329 │   0.33328 │      85960 │\n",
       "│    10 │ Clermont-Ferrand │ FRA     │  45.77998 │   3.08001 │     233050 │\n",
       "│     · │   ·              │  ·      │      ·    │      ·    │        ·   │\n",
       "│     · │   ·              │  ·      │      ·    │      ·    │        ·   │\n",
       "│     · │   ·              │  ·      │      ·    │      ·    │        ·   │\n",
       "│  1240 │ Tokyo            │ JPN     │  35.68502 │ 139.75141 │   35676000 │\n",
       "│  1241 │ Mumbai           │ IND     │  19.01699 │  72.85699 │   18978000 │\n",
       "│  1242 │ Paris            │ FRA     │  48.86669 │   2.33334 │    9904000 │\n",
       "│  1243 │ Santiago         │ CHL     │ -33.45001 │ -70.66704 │    5720000 │\n",
       "│  1244 │ Kolkata          │ IND     │  22.49497 │  88.32468 │   14787000 │\n",
       "│  1245 │ Rio de Janeiro   │ BRA     │ -22.92502 │ -43.22502 │   11748000 │\n",
       "│  1246 │ Sao Paulo        │ BRA     │ -23.55868 │ -46.62502 │   18845000 │\n",
       "│  1247 │ Sydney           │ AUS     │ -33.92001 │ 151.18518 │    4630000 │\n",
       "│  1248 │ Singapore        │ SGP     │   1.29303 │ 103.85582 │    5183700 │\n",
       "│  1249 │ Hong Kong        │ CHN     │  22.30498 │ 114.18501 │    7206000 │\n",
       "├───────┴──────────────────┴─────────┴───────────┴───────────┴────────────┤\n",
       "│ 1249 rows (20 shown)                                          6 columns │\n",
       "└─────────────────────────────────────────────────────────────────────────┘"
      ]
     },
     "execution_count": 4,
     "metadata": {},
     "output_type": "execute_result"
    }
   ],
   "source": [
    "conn.read_csv('./data/cities.csv')"
   ]
  },
  {
   "cell_type": "code",
   "execution_count": 5,
   "metadata": {},
   "outputs": [
    {
     "data": {
      "text/plain": [
       "┌───────┬─────────────────────────┬─────────────┬─────────────┬──────────────┬──────────┬───────────┐\n",
       "│  id   │         Country         │ Alpha2_code │ Alpha3_code │ Numeric_code │ Latitude │ Longitude │\n",
       "│ int64 │         varchar         │   varchar   │   varchar   │    int64     │  double  │  double   │\n",
       "├───────┼─────────────────────────┼─────────────┼─────────────┼──────────────┼──────────┼───────────┤\n",
       "│     1 │ Afghanistan             │ AF          │ AFG         │            4 │     33.0 │      65.0 │\n",
       "│     2 │ Albania                 │ AL          │ ALB         │            8 │     41.0 │      20.0 │\n",
       "│     3 │ Algeria                 │ DZ          │ DZA         │           12 │     28.0 │       3.0 │\n",
       "│     4 │ American Samoa          │ AS          │ ASM         │           16 │ -14.3333 │    -170.0 │\n",
       "│     5 │ Andorra                 │ AD          │ AND         │           20 │     42.5 │       1.6 │\n",
       "│     6 │ Angola                  │ AO          │ AGO         │           24 │    -12.5 │      18.5 │\n",
       "│     7 │ Anguilla                │ AI          │ AIA         │          660 │    18.25 │  -63.1667 │\n",
       "│     8 │ Antarctica              │ AQ          │ ATA         │           10 │    -90.0 │       0.0 │\n",
       "│     9 │ Antigua and Barbuda     │ AG          │ ATG         │           28 │    17.05 │     -61.8 │\n",
       "│    10 │ Argentina               │ AR          │ ARG         │           32 │    -34.0 │     -64.0 │\n",
       "│     · │    ·                    │ ·           │  ·          │            · │      ·   │       ·   │\n",
       "│     · │    ·                    │ ·           │  ·          │            · │      ·   │       ·   │\n",
       "│     · │    ·                    │ ·           │  ·          │            · │      ·   │       ·   │\n",
       "│   234 │ Vanuatu                 │ VU          │ VUT         │          548 │    -16.0 │     167.0 │\n",
       "│   235 │ Venezuela               │ VE          │ VEN         │          862 │      8.0 │     -66.0 │\n",
       "│   236 │ Vietnam                 │ VN          │ VNM         │          704 │     16.0 │     106.0 │\n",
       "│   237 │ Virgin Islands, British │ VG          │ VGB         │           92 │     18.5 │     -64.5 │\n",
       "│   238 │ Virgin Islands, U.S.    │ VI          │ VIR         │          850 │  18.3333 │  -64.8333 │\n",
       "│   239 │ Wallis and Futuna       │ WF          │ WLF         │          876 │    -13.3 │    -176.2 │\n",
       "│   240 │ Western Sahara          │ EH          │ ESH         │          732 │     24.5 │     -13.0 │\n",
       "│   241 │ Yemen                   │ YE          │ YEM         │          887 │     15.0 │      48.0 │\n",
       "│   242 │ Zambia                  │ ZM          │ ZMB         │          894 │    -15.0 │      30.0 │\n",
       "│   243 │ Zimbabwe                │ ZW          │ ZWE         │          716 │    -20.0 │      30.0 │\n",
       "├───────┴─────────────────────────┴─────────────┴─────────────┴──────────────┴──────────┴───────────┤\n",
       "│ 243 rows (20 shown)                                                                     7 columns │\n",
       "└───────────────────────────────────────────────────────────────────────────────────────────────────┘"
      ]
     },
     "execution_count": 5,
     "metadata": {},
     "output_type": "execute_result"
    }
   ],
   "source": [
    "conn.read_csv('./data/countries.csv')"
   ]
  },
  {
   "cell_type": "markdown",
   "metadata": {},
   "source": [
    "# DataFrames"
   ]
  },
  {
   "cell_type": "code",
   "execution_count": 6,
   "metadata": {},
   "outputs": [
    {
     "data": {
      "text/plain": [
       "┌───────┐\n",
       "│   a   │\n",
       "│ int64 │\n",
       "├───────┤\n",
       "│    42 │\n",
       "└───────┘"
      ]
     },
     "execution_count": 6,
     "metadata": {},
     "output_type": "execute_result"
    }
   ],
   "source": [
    "pandas_df = pd.DataFrame({'a': [42]})\n",
    "conn.query('SELECT * FROM pandas_df')"
   ]
  },
  {
   "cell_type": "code",
   "execution_count": 7,
   "metadata": {},
   "outputs": [
    {
     "data": {
      "text/html": [
       "<div>\n",
       "<style scoped>\n",
       "    .dataframe tbody tr th:only-of-type {\n",
       "        vertical-align: middle;\n",
       "    }\n",
       "\n",
       "    .dataframe tbody tr th {\n",
       "        vertical-align: top;\n",
       "    }\n",
       "\n",
       "    .dataframe thead th {\n",
       "        text-align: right;\n",
       "    }\n",
       "</style>\n",
       "<table border=\"1\" class=\"dataframe\">\n",
       "  <thead>\n",
       "    <tr style=\"text-align: right;\">\n",
       "      <th></th>\n",
       "      <th>id</th>\n",
       "      <th>name</th>\n",
       "      <th>country</th>\n",
       "      <th>latitude</th>\n",
       "      <th>longitude</th>\n",
       "      <th>population</th>\n",
       "    </tr>\n",
       "  </thead>\n",
       "  <tbody>\n",
       "    <tr>\n",
       "      <th>0</th>\n",
       "      <td>1</td>\n",
       "      <td>Bombo</td>\n",
       "      <td>UGA</td>\n",
       "      <td>0.5833</td>\n",
       "      <td>32.5333</td>\n",
       "      <td>75000</td>\n",
       "    </tr>\n",
       "    <tr>\n",
       "      <th>1</th>\n",
       "      <td>2</td>\n",
       "      <td>Fort Portal</td>\n",
       "      <td>UGA</td>\n",
       "      <td>0.6710</td>\n",
       "      <td>30.2750</td>\n",
       "      <td>42670</td>\n",
       "    </tr>\n",
       "    <tr>\n",
       "      <th>2</th>\n",
       "      <td>3</td>\n",
       "      <td>Potenza</td>\n",
       "      <td>ITA</td>\n",
       "      <td>40.6420</td>\n",
       "      <td>15.7990</td>\n",
       "      <td>69060</td>\n",
       "    </tr>\n",
       "    <tr>\n",
       "      <th>3</th>\n",
       "      <td>4</td>\n",
       "      <td>Campobasso</td>\n",
       "      <td>ITA</td>\n",
       "      <td>41.5630</td>\n",
       "      <td>14.6560</td>\n",
       "      <td>50762</td>\n",
       "    </tr>\n",
       "    <tr>\n",
       "      <th>4</th>\n",
       "      <td>5</td>\n",
       "      <td>Aosta</td>\n",
       "      <td>ITA</td>\n",
       "      <td>45.7370</td>\n",
       "      <td>7.3150</td>\n",
       "      <td>34062</td>\n",
       "    </tr>\n",
       "  </tbody>\n",
       "</table>\n",
       "</div>"
      ],
      "text/plain": [
       "   id         name country  latitude  longitude  population\n",
       "0   1        Bombo     UGA    0.5833    32.5333       75000\n",
       "1   2  Fort Portal     UGA    0.6710    30.2750       42670\n",
       "2   3      Potenza     ITA   40.6420    15.7990       69060\n",
       "3   4   Campobasso     ITA   41.5630    14.6560       50762\n",
       "4   5        Aosta     ITA   45.7370     7.3150       34062"
      ]
     },
     "execution_count": 7,
     "metadata": {},
     "output_type": "execute_result"
    }
   ],
   "source": [
    "df = conn.read_csv('./data/cities.csv').df()\n",
    "df.head()"
   ]
  },
  {
   "cell_type": "markdown",
   "metadata": {},
   "source": [
    "# Result Conversion"
   ]
  },
  {
   "cell_type": "code",
   "execution_count": 8,
   "metadata": {},
   "outputs": [
    {
     "data": {
      "text/plain": [
       "[(42,)]"
      ]
     },
     "execution_count": 8,
     "metadata": {},
     "output_type": "execute_result"
    }
   ],
   "source": [
    "conn.sql('SELECT 42').fetchall() # Python object"
   ]
  },
  {
   "cell_type": "code",
   "execution_count": 10,
   "metadata": {},
   "outputs": [
    {
     "data": {
      "text/html": [
       "<div>\n",
       "<style scoped>\n",
       "    .dataframe tbody tr th:only-of-type {\n",
       "        vertical-align: middle;\n",
       "    }\n",
       "\n",
       "    .dataframe tbody tr th {\n",
       "        vertical-align: top;\n",
       "    }\n",
       "\n",
       "    .dataframe thead th {\n",
       "        text-align: right;\n",
       "    }\n",
       "</style>\n",
       "<table border=\"1\" class=\"dataframe\">\n",
       "  <thead>\n",
       "    <tr style=\"text-align: right;\">\n",
       "      <th></th>\n",
       "      <th>42</th>\n",
       "    </tr>\n",
       "  </thead>\n",
       "  <tbody>\n",
       "    <tr>\n",
       "      <th>0</th>\n",
       "      <td>42</td>\n",
       "    </tr>\n",
       "  </tbody>\n",
       "</table>\n",
       "</div>"
      ],
      "text/plain": [
       "   42\n",
       "0  42"
      ]
     },
     "execution_count": 10,
     "metadata": {},
     "output_type": "execute_result"
    }
   ],
   "source": [
    "conn.sql('SELECT 42').df() # Pandas DataFrame"
   ]
  },
  {
   "cell_type": "code",
   "execution_count": 11,
   "metadata": {},
   "outputs": [
    {
     "data": {
      "text/plain": [
       "{'42': array([42], dtype=int32)}"
      ]
     },
     "execution_count": 11,
     "metadata": {},
     "output_type": "execute_result"
    }
   ],
   "source": [
    "conn.sql('SELECT 42').fetchnumpy() # Numpy Arrays"
   ]
  },
  {
   "cell_type": "markdown",
   "metadata": {},
   "source": [
    "# Writing Data to Disk"
   ]
  },
  {
   "cell_type": "code",
   "execution_count": 12,
   "metadata": {},
   "outputs": [],
   "source": [
    "conn.sql('SELECT 42').write_parquet('out.parquet')  # Write to a Parquet file\n",
    "conn.sql('SELECT 42').write_csv('out.csv')  # Write to a CSV file\n",
    "conn.sql(\"COPY (SELECT 42) TO 'out.parquet'\")  # Copy to a parquet file"
   ]
  },
  {
   "cell_type": "markdown",
   "metadata": {},
   "source": [
    "# Persistent Storage"
   ]
  },
  {
   "cell_type": "code",
   "execution_count": 13,
   "metadata": {},
   "outputs": [
    {
     "name": "stdout",
     "output_type": "stream",
     "text": [
      "┌───────┬──────────────────┬─────────┬───────────┬───────────┬────────────┐\n",
      "│  id   │       name       │ country │ latitude  │ longitude │ population │\n",
      "│ int64 │     varchar      │ varchar │  double   │  double   │   int64    │\n",
      "├───────┼──────────────────┼─────────┼───────────┼───────────┼────────────┤\n",
      "│     1 │ Bombo            │ UGA     │    0.5833 │   32.5333 │      75000 │\n",
      "│     2 │ Fort Portal      │ UGA     │     0.671 │    30.275 │      42670 │\n",
      "│     3 │ Potenza          │ ITA     │    40.642 │    15.799 │      69060 │\n",
      "│     4 │ Campobasso       │ ITA     │    41.563 │    14.656 │      50762 │\n",
      "│     5 │ Aosta            │ ITA     │    45.737 │     7.315 │      34062 │\n",
      "│     6 │ Mariehamn        │ ALD     │    60.097 │    19.949 │      10682 │\n",
      "│     7 │ Ramallah         │ PSE     │  31.90294 │  35.20621 │      24599 │\n",
      "│     8 │ Vatican City     │ VAT     │  41.90001 │  12.44781 │        832 │\n",
      "│     9 │ Poitier          │ FRA     │  46.58329 │   0.33328 │      85960 │\n",
      "│    10 │ Clermont-Ferrand │ FRA     │  45.77998 │   3.08001 │     233050 │\n",
      "│     · │   ·              │  ·      │      ·    │      ·    │        ·   │\n",
      "│     · │   ·              │  ·      │      ·    │      ·    │        ·   │\n",
      "│     · │   ·              │  ·      │      ·    │      ·    │        ·   │\n",
      "│  1240 │ Tokyo            │ JPN     │  35.68502 │ 139.75141 │   35676000 │\n",
      "│  1241 │ Mumbai           │ IND     │  19.01699 │  72.85699 │   18978000 │\n",
      "│  1242 │ Paris            │ FRA     │  48.86669 │   2.33334 │    9904000 │\n",
      "│  1243 │ Santiago         │ CHL     │ -33.45001 │ -70.66704 │    5720000 │\n",
      "│  1244 │ Kolkata          │ IND     │  22.49497 │  88.32468 │   14787000 │\n",
      "│  1245 │ Rio de Janeiro   │ BRA     │ -22.92502 │ -43.22502 │   11748000 │\n",
      "│  1246 │ Sao Paulo        │ BRA     │ -23.55868 │ -46.62502 │   18845000 │\n",
      "│  1247 │ Sydney           │ AUS     │ -33.92001 │ 151.18518 │    4630000 │\n",
      "│  1248 │ Singapore        │ SGP     │   1.29303 │ 103.85582 │    5183700 │\n",
      "│  1249 │ Hong Kong        │ CHN     │  22.30498 │ 114.18501 │    7206000 │\n",
      "├───────┴──────────────────┴─────────┴───────────┴───────────┴────────────┤\n",
      "│ 1249 rows (20 shown)                                          6 columns │\n",
      "└─────────────────────────────────────────────────────────────────────────┘\n",
      "\n"
     ]
    }
   ],
   "source": [
    "# create a connection to a file called 'file.db'\n",
    "conn = duckdb.connect('python_api.db')\n",
    "\n",
    "# create a table and load data into it\n",
    "conn.sql(\n",
    "    'CREATE TABLE IF NOT EXISTS cities AS FROM read_csv_auto(\"./data/cities.csv\")'\n",
    ")\n",
    "\n",
    "# query the table\n",
    "conn.table('cities').show()\n",
    "\n",
    "# Note: connections also closed implicitly when they go out of scope"
   ]
  },
  {
   "cell_type": "code",
   "execution_count": 14,
   "metadata": {},
   "outputs": [],
   "source": [
    "# explicitly close the connection\n",
    "conn.close()"
   ]
  },
  {
   "cell_type": "code",
   "execution_count": 15,
   "metadata": {},
   "outputs": [
    {
     "name": "stdout",
     "output_type": "stream",
     "text": [
      "┌───────┬──────────────────┬─────────┬───────────┬───────────┬────────────┐\n",
      "│  id   │       name       │ country │ latitude  │ longitude │ population │\n",
      "│ int64 │     varchar      │ varchar │  double   │  double   │   int64    │\n",
      "├───────┼──────────────────┼─────────┼───────────┼───────────┼────────────┤\n",
      "│     1 │ Bombo            │ UGA     │    0.5833 │   32.5333 │      75000 │\n",
      "│     2 │ Fort Portal      │ UGA     │     0.671 │    30.275 │      42670 │\n",
      "│     3 │ Potenza          │ ITA     │    40.642 │    15.799 │      69060 │\n",
      "│     4 │ Campobasso       │ ITA     │    41.563 │    14.656 │      50762 │\n",
      "│     5 │ Aosta            │ ITA     │    45.737 │     7.315 │      34062 │\n",
      "│     6 │ Mariehamn        │ ALD     │    60.097 │    19.949 │      10682 │\n",
      "│     7 │ Ramallah         │ PSE     │  31.90294 │  35.20621 │      24599 │\n",
      "│     8 │ Vatican City     │ VAT     │  41.90001 │  12.44781 │        832 │\n",
      "│     9 │ Poitier          │ FRA     │  46.58329 │   0.33328 │      85960 │\n",
      "│    10 │ Clermont-Ferrand │ FRA     │  45.77998 │   3.08001 │     233050 │\n",
      "│     · │   ·              │  ·      │      ·    │      ·    │        ·   │\n",
      "│     · │   ·              │  ·      │      ·    │      ·    │        ·   │\n",
      "│     · │   ·              │  ·      │      ·    │      ·    │        ·   │\n",
      "│  1240 │ Tokyo            │ JPN     │  35.68502 │ 139.75141 │   35676000 │\n",
      "│  1241 │ Mumbai           │ IND     │  19.01699 │  72.85699 │   18978000 │\n",
      "│  1242 │ Paris            │ FRA     │  48.86669 │   2.33334 │    9904000 │\n",
      "│  1243 │ Santiago         │ CHL     │ -33.45001 │ -70.66704 │    5720000 │\n",
      "│  1244 │ Kolkata          │ IND     │  22.49497 │  88.32468 │   14787000 │\n",
      "│  1245 │ Rio de Janeiro   │ BRA     │ -22.92502 │ -43.22502 │   11748000 │\n",
      "│  1246 │ Sao Paulo        │ BRA     │ -23.55868 │ -46.62502 │   18845000 │\n",
      "│  1247 │ Sydney           │ AUS     │ -33.92001 │ 151.18518 │    4630000 │\n",
      "│  1248 │ Singapore        │ SGP     │   1.29303 │ 103.85582 │    5183700 │\n",
      "│  1249 │ Hong Kong        │ CHN     │  22.30498 │ 114.18501 │    7206000 │\n",
      "├───────┴──────────────────┴─────────┴───────────┴───────────┴────────────┤\n",
      "│ 1249 rows (20 shown)                                          6 columns │\n",
      "└─────────────────────────────────────────────────────────────────────────┘\n",
      "\n"
     ]
    }
   ],
   "source": [
    "with duckdb.connect('python_api.db') as conn:\n",
    "    conn.sql(\n",
    "        'CREATE TABLE IF NOT EXISTS cities AS FROM read_csv_auto(\"./data/cities.csv\")'\n",
    "    )\n",
    "    conn.table('cities').show()\n",
    "    # the context manager closes the connection automatically"
   ]
  },
  {
   "cell_type": "markdown",
   "metadata": {},
   "source": [
    "# Connection Object and Module\n",
    "\n",
    "The connection object and the `duckdb` module can be used interchangeably – they support the same methods. The only difference is that when using the `duckdb` module a global in-memory database is used.\n",
    "\n",
    "Note that if you are developing a package designed for others to use, and use DuckDB in the package, it is recommend that you create connection objects instead of using the methods on the `duckdb` module. That is because the `duckdb` module uses a shared global database – which can cause hard to debug issues if used from within multiple different packages"
   ]
  },
  {
   "cell_type": "code",
   "execution_count": 16,
   "metadata": {},
   "outputs": [
    {
     "data": {
      "text/plain": [
       "┌───────┐\n",
       "│  42   │\n",
       "│ int32 │\n",
       "├───────┤\n",
       "│    42 │\n",
       "└───────┘"
      ]
     },
     "execution_count": 16,
     "metadata": {},
     "output_type": "execute_result"
    }
   ],
   "source": [
    "duckdb.sql('SELECT 42')"
   ]
  },
  {
   "cell_type": "code",
   "execution_count": 17,
   "metadata": {},
   "outputs": [
    {
     "data": {
      "text/plain": [
       "┌───────┐\n",
       "│  42   │\n",
       "│ int32 │\n",
       "├───────┤\n",
       "│    42 │\n",
       "└───────┘"
      ]
     },
     "execution_count": 17,
     "metadata": {},
     "output_type": "execute_result"
    }
   ],
   "source": [
    "con = duckdb.connect()\n",
    "con.sql('SELECT 42')"
   ]
  },
  {
   "cell_type": "code",
   "execution_count": null,
   "metadata": {},
   "outputs": [],
   "source": []
  }
 ],
 "metadata": {
  "kernelspec": {
   "display_name": "autogis",
   "language": "python",
   "name": "python3"
  },
  "language_info": {
   "codemirror_mode": {
    "name": "ipython",
    "version": 3
   },
   "file_extension": ".py",
   "mimetype": "text/x-python",
   "name": "python",
   "nbconvert_exporter": "python",
   "pygments_lexer": "ipython3",
   "version": "3.10.14"
  }
 },
 "nbformat": 4,
 "nbformat_minor": 2
}
