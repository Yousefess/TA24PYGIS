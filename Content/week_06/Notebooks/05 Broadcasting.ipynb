{
 "cells": [
  {
   "cell_type": "markdown",
   "metadata": {},
   "source": [
    "# [Broadcasting in NumPy](#)"
   ]
  },
  {
   "cell_type": "markdown",
   "metadata": {},
   "source": [
    "Broadcasting is a powerful feature in NumPy that allows arrays with different shapes to be used in arithmetic operations. It enables you to perform operations between arrays of different sizes without the need for explicit looping or reshaping.\n"
   ]
  },
  {
   "cell_type": "markdown",
   "metadata": {},
   "source": [
    "In simple terms, broadcasting is a set of rules that NumPy follows to perform arithmetic operations on arrays with different shapes. When you perform an operation between two arrays, NumPy compares their shapes element-wise. If the dimensions of the arrays are not equal, NumPy will try to stretch or duplicate the smaller array to match the shape of the larger array.\n"
   ]
  },
  {
   "cell_type": "markdown",
   "metadata": {},
   "source": [
    "<img src=\"../images/broadcasting.png\" width=\"800\">"
   ]
  },
  {
   "cell_type": "markdown",
   "metadata": {},
   "source": [
    "For example, let's consider adding a scalar value to a NumPy array:\n"
   ]
  },
  {
   "cell_type": "code",
   "execution_count": 1,
   "metadata": {},
   "outputs": [],
   "source": [
    "import numpy as np"
   ]
  },
  {
   "cell_type": "code",
   "execution_count": 2,
   "metadata": {},
   "outputs": [],
   "source": [
    "arr = np.array([1, 2, 3])\n",
    "scalar = 10"
   ]
  },
  {
   "cell_type": "code",
   "execution_count": 3,
   "metadata": {},
   "outputs": [
    {
     "data": {
      "text/plain": [
       "array([11, 12, 13])"
      ]
     },
     "execution_count": 3,
     "metadata": {},
     "output_type": "execute_result"
    }
   ],
   "source": [
    "arr + scalar"
   ]
  },
  {
   "cell_type": "markdown",
   "metadata": {},
   "source": [
    "In this case, NumPy will broadcast the scalar value `10` to match the shape of the array `arr`. The scalar value will be added to each element of the array, resulting in a new array `[11, 12, 13]`.\n"
   ]
  },
  {
   "cell_type": "markdown",
   "metadata": {},
   "source": [
    "Broadcasting also works with arrays of different shapes, as long as they satisfy certain conditions. NumPy follows a set of rules to determine if broadcasting is possible between two arrays. These rules will be discussed in detail in the next section.\n"
   ]
  },
  {
   "cell_type": "markdown",
   "metadata": {},
   "source": [
    "Broadcasting is essential in NumPy for several reasons:\n",
    "\n",
    "1. **Efficiency**: Broadcasting allows you to perform operations on arrays without the need for explicit loops. This can lead to more concise and efficient code, especially when working with large arrays.\n",
    "\n",
    "2. **Memory Conservation**: Broadcasting avoids the need to create intermediate arrays to store the results of operations. Instead, NumPy performs the operations element-wise, which conserves memory and reduces overhead.\n",
    "\n",
    "3. **Readability**: Broadcasting can make your code more readable and easier to understand. It allows you to express operations between arrays of different shapes in a more intuitive and natural way.\n",
    "\n",
    "4. **Vectorization**: Broadcasting is a key component of vectorization in NumPy. Vectorization refers to the process of replacing explicit loops with array operations, which can significantly speed up computations. Broadcasting enables vectorization by allowing operations between arrays of different shapes.\n"
   ]
  },
  {
   "cell_type": "markdown",
   "metadata": {},
   "source": [
    "By leveraging broadcasting, you can write more efficient and expressive code when working with NumPy arrays. It simplifies the process of performing element-wise operations and reduces the need for manual reshaping or looping.\n"
   ]
  },
  {
   "cell_type": "markdown",
   "metadata": {},
   "source": [
    "## <a id='toc1_'></a>[Rules of Broadcasting](#toc0_)"
   ]
  },
  {
   "cell_type": "markdown",
   "metadata": {},
   "source": [
    "NumPy follows a set of rules to determine if broadcasting is possible between two arrays. These rules define how arrays with different shapes can be used in arithmetic operations. Let's explore each rule in detail.\n"
   ]
  },
  {
   "cell_type": "markdown",
   "metadata": {},
   "source": [
    "When operating on two arrays, NumPy compares their shapes element-wise. It starts with the trailing (i.e. rightmost) dimension and works its way left. Two dimensions are compatible when:\n",
    "\n",
    "- **They are equal**\n",
    "- **One of them is 1**"
   ]
  },
  {
   "cell_type": "markdown",
   "metadata": {},
   "source": [
    "If these conditions are not met, a ValueError: operands could not be broadcast together exception is thrown, indicating that the arrays have incompatible shapes.\n"
   ]
  },
  {
   "cell_type": "markdown",
   "metadata": {},
   "source": [
    "Input arrays do not need to have the same number of dimensions. The resulting array will have the same number of dimensions as the input array with the greatest number of dimensions, where the size of each dimension is the largest size of the corresponding dimension among the input arrays. Note that missing dimensions are assumed to have size one."
   ]
  },
  {
   "cell_type": "markdown",
   "metadata": {},
   "source": [
    "### [Rule 1: Matching Dimensions](#)\n"
   ]
  },
  {
   "cell_type": "markdown",
   "metadata": {},
   "source": [
    "<img src=\"../images/rule-1.png\" width=\"800\">"
   ]
  },
  {
   "cell_type": "markdown",
   "metadata": {},
   "source": [
    "The first rule of broadcasting states that if the arrays have different numbers of dimensions, the shape of the array with fewer dimensions is padded with ones on its leading (left) side.\n"
   ]
  },
  {
   "cell_type": "markdown",
   "metadata": {},
   "source": [
    "For example, consider an array `A` with shape `(3, 4)` and an array `B` with shape `(4,)`:\n"
   ]
  },
  {
   "cell_type": "markdown",
   "metadata": {},
   "source": [
    "```python\n",
    "A.shape = (3, 4)\n",
    "B.shape = (4,)\n",
    "```"
   ]
  },
  {
   "cell_type": "markdown",
   "metadata": {},
   "source": [
    "To perform an operation between `A` and `B`, NumPy will pad the shape of `B` with a leading dimension of size 1:\n"
   ]
  },
  {
   "cell_type": "markdown",
   "metadata": {},
   "source": [
    "```python\n",
    "B.shape = (1, 4)\n",
    "```\n"
   ]
  },
  {
   "cell_type": "markdown",
   "metadata": {},
   "source": [
    "After padding, the shapes of `A` and `B` are compatible for broadcasting.\n"
   ]
  },
  {
   "cell_type": "code",
   "execution_count": 23,
   "metadata": {},
   "outputs": [
    {
     "data": {
      "text/plain": [
       "(2, 3, 3)"
      ]
     },
     "execution_count": 23,
     "metadata": {},
     "output_type": "execute_result"
    }
   ],
   "source": [
    "a = np.random.rand(2, 3, 3)\n",
    "b = np.random.rand(3)  # 1 1 3\n",
    "\n",
    "(a * b).shape"
   ]
  },
  {
   "cell_type": "code",
   "execution_count": 25,
   "metadata": {},
   "outputs": [
    {
     "data": {
      "text/plain": [
       "(2, 3, 3)"
      ]
     },
     "execution_count": 25,
     "metadata": {},
     "output_type": "execute_result"
    }
   ],
   "source": [
    "a = np.random.rand(2, 3, 3)\n",
    "b = np.random.rand(3, 3)\n",
    "\n",
    "(a * b).shape"
   ]
  },
  {
   "cell_type": "code",
   "execution_count": 26,
   "metadata": {},
   "outputs": [
    {
     "ename": "ValueError",
     "evalue": "operands could not be broadcast together with shapes (4,3) (4,) ",
     "output_type": "error",
     "traceback": [
      "\u001b[0;31m---------------------------------------------------------------------------\u001b[0m",
      "\u001b[0;31mValueError\u001b[0m                                Traceback (most recent call last)",
      "Cell \u001b[0;32mIn[26], line 5\u001b[0m\n\u001b[1;32m      2\u001b[0m a \u001b[38;5;241m=\u001b[39m np\u001b[38;5;241m.\u001b[39mrandom\u001b[38;5;241m.\u001b[39mrand(\u001b[38;5;241m4\u001b[39m, \u001b[38;5;241m3\u001b[39m)\n\u001b[1;32m      3\u001b[0m b \u001b[38;5;241m=\u001b[39m np\u001b[38;5;241m.\u001b[39mrandom\u001b[38;5;241m.\u001b[39mrand(\u001b[38;5;241m4\u001b[39m)\n\u001b[0;32m----> 5\u001b[0m (\u001b[43ma\u001b[49m\u001b[43m \u001b[49m\u001b[38;5;241;43m*\u001b[39;49m\u001b[43m \u001b[49m\u001b[43mb\u001b[49m)\u001b[38;5;241m.\u001b[39mshape\n",
      "\u001b[0;31mValueError\u001b[0m: operands could not be broadcast together with shapes (4,3) (4,) "
     ]
    }
   ],
   "source": [
    "# Raises ValueError because the last dimension of a is not the same as the size of b\n",
    "a = np.random.rand(4, 3)\n",
    "b = np.random.rand(4)\n",
    "\n",
    "(a * b).shape"
   ]
  },
  {
   "cell_type": "markdown",
   "metadata": {},
   "source": [
    "<img src=\"../images/broadcasting-error.png\" width=\"800\">"
   ]
  },
  {
   "cell_type": "markdown",
   "metadata": {},
   "source": [
    "### [Rule 2: Stretching Scalar Values](#)\n"
   ]
  },
  {
   "cell_type": "markdown",
   "metadata": {},
   "source": [
    "<img src=\"../images/rule-2.png\" width=\"800\">"
   ]
  },
  {
   "cell_type": "markdown",
   "metadata": {},
   "source": [
    "The second rule of broadcasting states that if one of the arrays has a dimension size of 1, it can be stretched to match the size of the corresponding dimension in the other array.\n"
   ]
  },
  {
   "cell_type": "markdown",
   "metadata": {},
   "source": [
    "Let's consider an example where we have an array `A` with shape `(3, 4)` and a scalar value `s`:\n"
   ]
  },
  {
   "cell_type": "markdown",
   "metadata": {},
   "source": [
    "```python\n",
    "A.shape = (3, 4)\n",
    "s = 10\n",
    "```\n"
   ]
  },
  {
   "cell_type": "markdown",
   "metadata": {},
   "source": [
    "When performing an operation between `A` and `s`, NumPy will stretch the scalar value `s` to match the shape of `A`. The scalar value will be broadcasted to all elements of `A`.\n"
   ]
  },
  {
   "cell_type": "markdown",
   "metadata": {},
   "source": [
    "Mathematically, this can be represented as:\n",
    "\n",
    "$A_{ij} = A_{ij} + s$\n"
   ]
  },
  {
   "cell_type": "markdown",
   "metadata": {},
   "source": [
    "where $i$ ranges from 0 to 2 and $j$ ranges from 0 to 3.\n"
   ]
  },
  {
   "cell_type": "markdown",
   "metadata": {},
   "source": [
    "### [Rule 3: Stretching Arrays with Size 1](#)"
   ]
  },
  {
   "cell_type": "markdown",
   "metadata": {},
   "source": [
    "<img src=\"../images/rule-3.png\" width=\"800\">"
   ]
  },
  {
   "cell_type": "markdown",
   "metadata": {},
   "source": [
    "The third rule of broadcasting states that if the arrays have the same number of dimensions and the size of any dimension is 1, that dimension can be stretched to match the size of the corresponding dimension in the other array.\n"
   ]
  },
  {
   "cell_type": "markdown",
   "metadata": {},
   "source": [
    "Consider an example where we have an array `A` with shape `(3, 4)` and an array `B` with shape `(3, 1)`:\n"
   ]
  },
  {
   "cell_type": "markdown",
   "metadata": {},
   "source": [
    "```python\n",
    "A.shape = (3, 4)\n",
    "B.shape = (3, 1)\n",
    "```\n"
   ]
  },
  {
   "cell_type": "markdown",
   "metadata": {},
   "source": [
    "When performing an operation between `A` and `B`, NumPy will stretch the second dimension of `B` to match the size of the second dimension of `A`.\n"
   ]
  },
  {
   "cell_type": "markdown",
   "metadata": {},
   "source": [
    "Mathematically, this can be represented as:\n",
    "\n",
    "$C_{ij} = A_{ij} + B_{i}$\n"
   ]
  },
  {
   "cell_type": "markdown",
   "metadata": {},
   "source": [
    "where $i$ ranges from 0 to 2 and $j$ ranges from 0 to 3.\n"
   ]
  },
  {
   "cell_type": "markdown",
   "metadata": {},
   "source": [
    "It's important to note that for broadcasting to work, the dimensions with size 1 must be compatible. If the arrays have different shapes and the dimensions with size 1 are not compatible, NumPy will raise a `ValueError`.\n"
   ]
  },
  {
   "cell_type": "markdown",
   "metadata": {},
   "source": [
    "These rules allow NumPy to perform broadcasting between arrays of different shapes, enabling efficient and concise operations. By understanding and leveraging these rules, you can write more expressive and readable code when working with arrays of different sizes.\n"
   ]
  },
  {
   "cell_type": "markdown",
   "metadata": {},
   "source": [
    "## [Examples of Broadcasting](#)"
   ]
  },
  {
   "cell_type": "markdown",
   "metadata": {},
   "source": [
    "Now that we have a clear understanding of the rules of broadcasting, let's explore some practical examples to see how broadcasting works in NumPy.\n"
   ]
  },
  {
   "cell_type": "markdown",
   "metadata": {},
   "source": [
    "### [Scalar and Array Broadcasting](#)\n"
   ]
  },
  {
   "cell_type": "markdown",
   "metadata": {},
   "source": [
    "One of the most common examples of broadcasting is when performing operations between a scalar value and an array. Let's consider an example:\n"
   ]
  },
  {
   "cell_type": "code",
   "execution_count": 4,
   "metadata": {},
   "outputs": [],
   "source": [
    "arr = np.array(\n",
    "    [[1, 2, 3],\n",
    "    [4, 5, 6],\n",
    "    [7, 8, 9]]\n",
    ")"
   ]
  },
  {
   "cell_type": "code",
   "execution_count": 5,
   "metadata": {},
   "outputs": [],
   "source": [
    "scalar = 10"
   ]
  },
  {
   "cell_type": "code",
   "execution_count": 6,
   "metadata": {},
   "outputs": [
    {
     "data": {
      "text/plain": [
       "array([[11, 12, 13],\n",
       "       [14, 15, 16],\n",
       "       [17, 18, 19]])"
      ]
     },
     "execution_count": 6,
     "metadata": {},
     "output_type": "execute_result"
    }
   ],
   "source": [
    "arr + scalar"
   ]
  },
  {
   "cell_type": "markdown",
   "metadata": {},
   "source": [
    "In this example, we have a 2-dimensional array `arr` and a scalar value `scalar`. When we perform the addition operation `arr + scalar`, NumPy broadcasts the scalar value to match the shape of `arr`. The scalar value is added to each element of the array.\n"
   ]
  },
  {
   "cell_type": "markdown",
   "metadata": {},
   "source": [
    "The resulting array `result` will have the same shape as `arr`, and each element will be the sum of the corresponding element in `arr` and the scalar value:\n"
   ]
  },
  {
   "cell_type": "markdown",
   "metadata": {},
   "source": [
    "```python\n",
    "result = [[11, 12, 13],\n",
    "          [14, 15, 16],\n",
    "          [17, 18, 19]]\n",
    "```\n"
   ]
  },
  {
   "cell_type": "markdown",
   "metadata": {},
   "source": [
    "### [One-Dimensional Array Broadcasting](#)\n"
   ]
  },
  {
   "cell_type": "markdown",
   "metadata": {},
   "source": [
    "Broadcasting also works with one-dimensional arrays. Let's consider an example where we have a 2-dimensional array and a 1-dimensional array:\n"
   ]
  },
  {
   "cell_type": "code",
   "execution_count": 7,
   "metadata": {},
   "outputs": [],
   "source": [
    "arr = np.array([\n",
    "    [1, 2, 3],\n",
    "    [4, 5, 6],\n",
    "    [7, 8, 9]\n",
    "])"
   ]
  },
  {
   "cell_type": "code",
   "execution_count": 8,
   "metadata": {},
   "outputs": [],
   "source": [
    "one_dim_arr = np.array([10, 20, 30])"
   ]
  },
  {
   "cell_type": "code",
   "execution_count": 9,
   "metadata": {},
   "outputs": [
    {
     "data": {
      "text/plain": [
       "array([[11, 22, 33],\n",
       "       [14, 25, 36],\n",
       "       [17, 28, 39]])"
      ]
     },
     "execution_count": 9,
     "metadata": {},
     "output_type": "execute_result"
    }
   ],
   "source": [
    "arr + one_dim_arr"
   ]
  },
  {
   "cell_type": "markdown",
   "metadata": {},
   "source": [
    "In this case, `arr` has a shape of `(3, 3)`, and `one_dim_arr` has a shape of `(3,)`. According to the rules of broadcasting, NumPy will stretch `one_dim_arr` to match the shape of `arr`.\n"
   ]
  },
  {
   "cell_type": "markdown",
   "metadata": {},
   "source": [
    "The resulting array `result` will have the same shape as `arr`, and each element will be the sum of the corresponding elements in `arr` and `one_dim_arr`:\n"
   ]
  },
  {
   "cell_type": "markdown",
   "metadata": {},
   "source": [
    "```python\n",
    "result = [[11, 22, 33],\n",
    "          [14, 25, 36],\n",
    "          [17, 28, 39]]\n",
    "```\n"
   ]
  },
  {
   "cell_type": "markdown",
   "metadata": {},
   "source": [
    "### [Multi-Dimensional Array Broadcasting](#)\n"
   ]
  },
  {
   "cell_type": "markdown",
   "metadata": {},
   "source": [
    "Broadcasting also works with multi-dimensional arrays of different shapes, as long as they satisfy the rules of broadcasting. Let's consider an example:\n"
   ]
  },
  {
   "cell_type": "code",
   "execution_count": 10,
   "metadata": {},
   "outputs": [],
   "source": [
    "arr1 = np.array([\n",
    "    [1, 2, 3],\n",
    "    [4, 5, 6]\n",
    "])\n",
    "\n",
    "arr2 = np.array([\n",
    "    [10],\n",
    "    [20]\n",
    "])\n"
   ]
  },
  {
   "cell_type": "code",
   "execution_count": 11,
   "metadata": {},
   "outputs": [
    {
     "data": {
      "text/plain": [
       "array([[11, 12, 13],\n",
       "       [24, 25, 26]])"
      ]
     },
     "execution_count": 11,
     "metadata": {},
     "output_type": "execute_result"
    }
   ],
   "source": [
    "arr1 + arr2"
   ]
  },
  {
   "cell_type": "markdown",
   "metadata": {},
   "source": [
    "In this example, `arr1` has a shape of `(2, 3)`, and `arr2` has a shape of `(2, 1)`. According to the rules of broadcasting, NumPy will stretch the second dimension of `arr2` to match the size of the second dimension of `arr1`.\n"
   ]
  },
  {
   "cell_type": "markdown",
   "metadata": {},
   "source": [
    "The resulting array `result` will have the same shape as `arr1`, and each element will be the sum of the corresponding elements in `arr1` and `arr2`:\n"
   ]
  },
  {
   "cell_type": "markdown",
   "metadata": {},
   "source": [
    "```python\n",
    "result = [[11, 12, 13],\n",
    "          [24, 25, 26]]\n",
    "```\n"
   ]
  },
  {
   "cell_type": "markdown",
   "metadata": {},
   "source": [
    "These examples demonstrate how broadcasting works in various scenarios, allowing you to perform operations between arrays of different shapes efficiently.\n"
   ]
  },
  {
   "cell_type": "markdown",
   "metadata": {},
   "source": [
    "It's important to note that broadcasting is not limited to addition operations. It works with other arithmetic operations like subtraction, multiplication, and division as well.\n"
   ]
  },
  {
   "cell_type": "markdown",
   "metadata": {},
   "source": [
    "### [Broadcasting with Multiple Arrays](#)"
   ]
  },
  {
   "cell_type": "markdown",
   "metadata": {},
   "source": [
    "Broadcasting is not limited to operations between two arrays. NumPy allows broadcasting with multiple arrays as long as they satisfy the broadcasting rules.\n"
   ]
  },
  {
   "cell_type": "markdown",
   "metadata": {},
   "source": [
    "Consider an example where we have three arrays of different shapes:\n"
   ]
  },
  {
   "cell_type": "code",
   "execution_count": 12,
   "metadata": {},
   "outputs": [],
   "source": [
    "arr1 = np.array([[1, 2, 3],\n",
    "                 [4, 5, 6]])\n",
    "\n",
    "arr2 = np.array([[10],\n",
    "                 [20]])\n",
    "\n",
    "arr3 = np.array([100, 200, 300])\n",
    "\n",
    "# 2x3 + 2x1 + 1x3"
   ]
  },
  {
   "cell_type": "code",
   "execution_count": 13,
   "metadata": {},
   "outputs": [
    {
     "data": {
      "text/plain": [
       "array([[111, 212, 313],\n",
       "       [124, 225, 326]])"
      ]
     },
     "execution_count": 13,
     "metadata": {},
     "output_type": "execute_result"
    }
   ],
   "source": [
    "arr1 + arr2 + arr3"
   ]
  },
  {
   "cell_type": "markdown",
   "metadata": {},
   "source": [
    "In this case, `arr1` has a shape of `(2, 3)`, `arr2` has a shape of `(2, 1)`, and `arr3` has a shape of `(3,)`. NumPy will apply the broadcasting rules to make the shapes compatible for the addition operation.\n",
    "\n",
    "1. `arr2` will be stretched along the second dimension to match the shape of `arr1`, resulting in a shape of `(2, 3)`.\n",
    "2. `arr3` will be stretched along the first dimension to match the shape of `arr1`, resulting in a shape of `(2, 3)`.\n"
   ]
  },
  {
   "cell_type": "markdown",
   "metadata": {},
   "source": [
    "After broadcasting, the arrays will have the same shape `(2, 3)`, and the element-wise addition will be performed:\n"
   ]
  },
  {
   "cell_type": "markdown",
   "metadata": {},
   "source": [
    "```python\n",
    "result = [[111, 212, 313],\n",
    "          [124, 225, 326]]\n",
    "```\n"
   ]
  },
  {
   "cell_type": "markdown",
   "metadata": {},
   "source": [
    "Broadcasting with multiple arrays allows you to perform complex operations involving arrays of different shapes efficiently. It eliminates the need for manual reshaping and enables concise and readable code.\n"
   ]
  },
  {
   "cell_type": "markdown",
   "metadata": {},
   "source": [
    "By leveraging broadcasting, you can write concise and efficient code when working with arrays of different shapes, eliminating the need for explicit loops or manual reshaping."
   ]
  },
  {
   "cell_type": "markdown",
   "metadata": {},
   "source": [
    "## [Advantages of Broadcasting](#)"
   ]
  },
  {
   "cell_type": "markdown",
   "metadata": {},
   "source": [
    "Broadcasting in NumPy offers several advantages that make it a powerful and efficient technique for performing operations on arrays of different shapes. Let's explore two key advantages of broadcasting: memory efficiency and concise and readable code.\n"
   ]
  },
  {
   "cell_type": "markdown",
   "metadata": {},
   "source": [
    "### [Memory Efficiency](#)\n"
   ]
  },
  {
   "cell_type": "markdown",
   "metadata": {},
   "source": [
    "One of the primary advantages of broadcasting is its memory efficiency. When performing operations on arrays of different shapes, broadcasting eliminates the need to create intermediate arrays to store the results of the operations.\n"
   ]
  },
  {
   "cell_type": "markdown",
   "metadata": {},
   "source": [
    "Consider an example where we want to add a scalar value to each element of an array:\n"
   ]
  },
  {
   "cell_type": "code",
   "execution_count": 14,
   "metadata": {},
   "outputs": [],
   "source": [
    "arr = np.array([\n",
    "    [1, 2, 3],\n",
    "    [4, 5, 6],\n",
    "    [7, 8, 9]\n",
    "])"
   ]
  },
  {
   "cell_type": "code",
   "execution_count": 15,
   "metadata": {},
   "outputs": [],
   "source": [
    "scalar = 10"
   ]
  },
  {
   "cell_type": "code",
   "execution_count": 16,
   "metadata": {},
   "outputs": [
    {
     "data": {
      "text/plain": [
       "array([[11, 12, 13],\n",
       "       [14, 15, 16],\n",
       "       [17, 18, 19]])"
      ]
     },
     "execution_count": 16,
     "metadata": {},
     "output_type": "execute_result"
    }
   ],
   "source": [
    "arr + scalar"
   ]
  },
  {
   "cell_type": "markdown",
   "metadata": {},
   "source": [
    "Without broadcasting, we would need to create a new array with the same shape as `arr` and fill it with the scalar value before performing the addition. This would require additional memory to store the intermediate array.\n"
   ]
  },
  {
   "cell_type": "markdown",
   "metadata": {},
   "source": [
    "However, with broadcasting, NumPy performs the addition operation element-wise, without creating any intermediate arrays. The scalar value is broadcasted to match the shape of `arr`, and the addition is performed in-place.\n"
   ]
  },
  {
   "cell_type": "markdown",
   "metadata": {},
   "source": [
    "This memory efficiency becomes particularly important when working with large arrays or when performing multiple operations on arrays. By avoiding the creation of intermediate arrays, broadcasting reduces memory usage and improves the overall performance of the code.\n"
   ]
  },
  {
   "cell_type": "markdown",
   "metadata": {},
   "source": [
    "### [Concise and Readable Code](#)\n"
   ]
  },
  {
   "cell_type": "markdown",
   "metadata": {},
   "source": [
    "Another advantage of broadcasting is that it allows you to write concise and readable code. Broadcasting eliminates the need for explicit loops or manual reshaping of arrays, resulting in code that is easier to understand and maintain.\n"
   ]
  },
  {
   "cell_type": "markdown",
   "metadata": {},
   "source": [
    "Let's consider an example where we want to multiply each row of a 2-dimensional array by a 1-dimensional array:\n"
   ]
  },
  {
   "cell_type": "code",
   "execution_count": 17,
   "metadata": {},
   "outputs": [],
   "source": [
    "arr = np.array([\n",
    "    [1, 2, 3],\n",
    "    [4, 5, 6],\n",
    "    [7, 8, 9]\n",
    "])"
   ]
  },
  {
   "cell_type": "code",
   "execution_count": 18,
   "metadata": {},
   "outputs": [
    {
     "data": {
      "text/plain": [
       "array([10, 20, 30])"
      ]
     },
     "execution_count": 18,
     "metadata": {},
     "output_type": "execute_result"
    }
   ],
   "source": [
    "multiplier = np.array([10, 20, 30])\n",
    "multiplier"
   ]
  },
  {
   "cell_type": "code",
   "execution_count": 19,
   "metadata": {},
   "outputs": [
    {
     "data": {
      "text/plain": [
       "array([[ 10,  40,  90],\n",
       "       [ 40, 100, 180],\n",
       "       [ 70, 160, 270]])"
      ]
     },
     "execution_count": 19,
     "metadata": {},
     "output_type": "execute_result"
    }
   ],
   "source": [
    "arr * multiplier"
   ]
  },
  {
   "cell_type": "markdown",
   "metadata": {},
   "source": [
    "Without broadcasting, we would need to use explicit loops to multiply each element of `arr` by the corresponding element of `multiplier`:\n"
   ]
  },
  {
   "cell_type": "code",
   "execution_count": 20,
   "metadata": {},
   "outputs": [
    {
     "data": {
      "text/plain": [
       "array([[ 10,  40,  90],\n",
       "       [ 40, 100, 180],\n",
       "       [ 70, 160, 270]])"
      ]
     },
     "execution_count": 20,
     "metadata": {},
     "output_type": "execute_result"
    }
   ],
   "source": [
    "result = np.zeros_like(arr)\n",
    "for i in range(arr.shape[0]):\n",
    "    for j in range(arr.shape[1]):\n",
    "        result[i, j] = arr[i, j] * multiplier[j]\n",
    "\n",
    "result"
   ]
  },
  {
   "cell_type": "markdown",
   "metadata": {},
   "source": [
    "This code is more verbose and harder to read compared to the broadcasting approach. With broadcasting, we can achieve the same result in a single line of code:\n"
   ]
  },
  {
   "cell_type": "markdown",
   "metadata": {},
   "source": [
    "```python\n",
    "result = arr * multiplier\n",
    "```\n"
   ]
  },
  {
   "cell_type": "markdown",
   "metadata": {},
   "source": [
    "Broadcasting allows us to express the operation in a more intuitive and readable way, without the need for explicit loops.\n"
   ]
  },
  {
   "cell_type": "markdown",
   "metadata": {},
   "source": [
    "The concise and readable code provided by broadcasting makes it easier to understand the intent of the operation and reduces the chances of introducing errors. It also improves code maintainability, as the broadcasting approach is more expressive and self-explanatory.\n"
   ]
  },
  {
   "cell_type": "markdown",
   "metadata": {},
   "source": [
    "In summary, broadcasting offers memory efficiency and concise and readable code, making it a valuable technique in NumPy. By leveraging broadcasting, you can write efficient and expressive code when working with arrays of different shapes, leading to improved performance and code clarity."
   ]
  },
  {
   "cell_type": "markdown",
   "metadata": {},
   "source": [
    "## [Limitations and Pitfalls of Broadcasting](#)"
   ]
  },
  {
   "cell_type": "markdown",
   "metadata": {},
   "source": [
    "While broadcasting is a powerful and convenient feature in NumPy, it's important to be aware of its limitations and potential pitfalls. Let's discuss two common issues: incompatible array shapes and unintended consequences.\n"
   ]
  },
  {
   "cell_type": "markdown",
   "metadata": {},
   "source": [
    "### [Incompatible Array Shapes](#)\n"
   ]
  },
  {
   "cell_type": "markdown",
   "metadata": {},
   "source": [
    "One limitation of broadcasting is that it only works when the arrays have compatible shapes. NumPy follows specific rules to determine if broadcasting is possible between two arrays. If the shapes of the arrays do not satisfy these rules, NumPy will raise a `ValueError`.\n"
   ]
  },
  {
   "cell_type": "markdown",
   "metadata": {},
   "source": [
    "Consider an example where we have two arrays with incompatible shapes:\n"
   ]
  },
  {
   "cell_type": "code",
   "execution_count": 21,
   "metadata": {},
   "outputs": [],
   "source": [
    "arr1 = np.array([[1, 2, 3],\n",
    "                 [4, 5, 6]])\n",
    "\n",
    "arr2 = np.array([[10, 20],\n",
    "                 [30, 40]])"
   ]
  },
  {
   "cell_type": "code",
   "execution_count": 22,
   "metadata": {},
   "outputs": [
    {
     "ename": "ValueError",
     "evalue": "operands could not be broadcast together with shapes (2,3) (2,2) ",
     "output_type": "error",
     "traceback": [
      "\u001b[0;31m---------------------------------------------------------------------------\u001b[0m",
      "\u001b[0;31mValueError\u001b[0m                                Traceback (most recent call last)",
      "Cell \u001b[0;32mIn[22], line 1\u001b[0m\n\u001b[0;32m----> 1\u001b[0m result \u001b[38;5;241m=\u001b[39m \u001b[43marr1\u001b[49m\u001b[43m \u001b[49m\u001b[38;5;241;43m+\u001b[39;49m\u001b[43m \u001b[49m\u001b[43marr2\u001b[49m  \u001b[38;5;66;03m# Raises ValueError: operands could not be broadcast together with shapes (2,3) (2,2)\u001b[39;00m\n",
      "\u001b[0;31mValueError\u001b[0m: operands could not be broadcast together with shapes (2,3) (2,2) "
     ]
    }
   ],
   "source": [
    "result = arr1 + arr2  # Raises ValueError: operands could not be broadcast together with shapes (2,3) (2,2)\n"
   ]
  },
  {
   "cell_type": "markdown",
   "metadata": {},
   "source": [
    "In this case, `arr1` has a shape of `(2, 3)`, and `arr2` has a shape of `(2, 2)`. These shapes are incompatible for broadcasting because the second dimension of `arr1` (size 3) does not match the second dimension of `arr2` (size 2), and neither of them is 1.\n"
   ]
  },
  {
   "cell_type": "markdown",
   "metadata": {},
   "source": [
    "When you encounter a `ValueError` due to incompatible array shapes, it indicates that the arrays cannot be broadcasted together. To resolve this issue, you need to ensure that the shapes of the arrays satisfy the broadcasting rules. This may require reshaping one or both arrays using techniques like `reshape()`, `expand_dims()`, or `squeeze()`.\n"
   ]
  },
  {
   "cell_type": "markdown",
   "metadata": {},
   "source": [
    "### [Unintended Consequences](#)\n"
   ]
  },
  {
   "cell_type": "markdown",
   "metadata": {},
   "source": [
    "Another pitfall of broadcasting is the possibility of unintended consequences when performing operations on arrays with different shapes. Broadcasting can sometimes lead to unexpected results if not used carefully.\n"
   ]
  },
  {
   "cell_type": "markdown",
   "metadata": {},
   "source": [
    "Let's consider an example where we have a 2-dimensional array and a 1-dimensional array:\n"
   ]
  },
  {
   "cell_type": "code",
   "execution_count": null,
   "metadata": {},
   "outputs": [],
   "source": [
    "arr = np.array([[1, 2, 3],\n",
    "                [4, 5, 6]])"
   ]
  },
  {
   "cell_type": "code",
   "execution_count": null,
   "metadata": {},
   "outputs": [],
   "source": [
    "one_dim_arr = np.array([10, 20, 30])"
   ]
  },
  {
   "cell_type": "code",
   "execution_count": null,
   "metadata": {},
   "outputs": [
    {
     "data": {
      "text/plain": [
       "array([[11, 22, 33],\n",
       "       [14, 25, 36]])"
      ]
     },
     "execution_count": 25,
     "metadata": {},
     "output_type": "execute_result"
    }
   ],
   "source": [
    "arr + one_dim_arr"
   ]
  },
  {
   "cell_type": "markdown",
   "metadata": {},
   "source": [
    "In this case, `arr` has a shape of `(2, 3)`, and `one_dim_arr` has a shape of `(3,)`. According to the rules of broadcasting, NumPy will stretch `one_dim_arr` to match the shape of `arr` along the second dimension.\n"
   ]
  },
  {
   "cell_type": "markdown",
   "metadata": {},
   "source": [
    "The resulting array `result` will have the same shape as `arr`, and each element will be the sum of the corresponding elements in `arr` and `one_dim_arr`:\n",
    "\n",
    "```python\n",
    "result = [[11, 22, 33],\n",
    "          [14, 25, 36]]\n",
    "```\n"
   ]
  },
  {
   "cell_type": "markdown",
   "metadata": {},
   "source": [
    "While this result may be what you intended, it's important to be cautious when broadcasting arrays with different shapes. If the arrays have compatible shapes but the operation doesn't align with your expected outcome, it can lead to subtle bugs or incorrect results.\n"
   ]
  },
  {
   "cell_type": "markdown",
   "metadata": {},
   "source": [
    "To avoid unintended consequences, it's crucial to carefully consider the shapes of the arrays and ensure that the broadcasting behavior aligns with your intended operation. **It's also a good practice to add comments or assertions to clarify the expected shapes and the purpose of the broadcasting operation.**\n"
   ]
  },
  {
   "cell_type": "markdown",
   "metadata": {},
   "source": [
    "In summary, broadcasting has limitations when dealing with incompatible array shapes, and it can lead to unintended consequences if not used carefully. By understanding these limitations and being mindful of the potential pitfalls, you can effectively leverage broadcasting in your NumPy code while avoiding common issues."
   ]
  },
  {
   "cell_type": "markdown",
   "metadata": {},
   "source": [
    "## [Conclusion](#)"
   ]
  },
  {
   "cell_type": "markdown",
   "metadata": {},
   "source": [
    "In this lecture, we have explored the concept of broadcasting in NumPy, a powerful feature that allows arrays with different shapes to be used in arithmetic operations efficiently.\n"
   ]
  },
  {
   "cell_type": "markdown",
   "metadata": {},
   "source": [
    "Let's recap the key points we covered in this lecture:\n",
    "\n",
    "1. Broadcasting is a set of rules that NumPy follows to perform arithmetic operations on arrays with different shapes.\n",
    "2. The rules of broadcasting include:\n",
    "   - If the arrays have different numbers of dimensions, the shape of the array with fewer dimensions is padded with ones on its left side.\n",
    "   - If the size of any dimension is 1, that dimension can be stretched to match the size of the corresponding dimension in the other array.\n",
    "   - If the arrays have the same number of dimensions and the size of any dimension is not equal, that dimension must be 1 in one of the arrays.\n",
    "3. Broadcasting enables efficient memory usage by avoiding the creation of intermediate arrays and allows for concise and readable code.\n",
    "4. Examples of broadcasting include scalar and array broadcasting, one-dimensional array broadcasting, and multi-dimensional array broadcasting.\n",
    "5. Broadcasting offers advantages such as memory efficiency and concise code, but it also has limitations when dealing with incompatible array shapes and can lead to unintended consequences if not used carefully.\n",
    "6. Advanced broadcasting techniques, such as broadcasting with multiple arrays and broadcasting in user-defined functions, provide further flexibility and reusability in NumPy code.\n"
   ]
  },
  {
   "cell_type": "markdown",
   "metadata": {},
   "source": [
    "Broadcasting is a fundamental concept in NumPy that plays a crucial role in efficient and concise array operations. Its importance lies in several aspects:\n",
    "\n",
    "1. **Efficiency**: Broadcasting eliminates the need for explicit loops and enables element-wise operations on arrays of different shapes. This leads to faster execution and improved performance, especially when working with large arrays.\n",
    "\n",
    "2. **Memory Conservation**: By avoiding the creation of intermediate arrays, broadcasting reduces memory usage and overhead. This is particularly beneficial when dealing with large datasets or when memory resources are limited.\n",
    "\n",
    "3. **Concise and Readable Code**: Broadcasting allows you to express array operations in a more concise and intuitive manner. It eliminates the need for manual reshaping or explicit loops, resulting in cleaner and more readable code.\n",
    "\n",
    "4. **Flexibility**: Broadcasting enables you to perform operations on arrays with different shapes seamlessly. It provides a flexible and powerful way to combine and manipulate arrays, making it easier to work with complex data structures.\n",
    "\n",
    "5. **Reusability**: By leveraging broadcasting in user-defined functions, you can create more versatile and reusable code. Functions designed with broadcasting in mind can handle inputs of different shapes, making them more generic and applicable to a wider range of scenarios.\n"
   ]
  },
  {
   "cell_type": "markdown",
   "metadata": {},
   "source": [
    "Understanding and effectively utilizing broadcasting is essential for any NumPy user. It empowers you to write efficient, concise, and flexible code, making your data manipulation and numerical computations more streamlined and productive.\n"
   ]
  },
  {
   "cell_type": "markdown",
   "metadata": {},
   "source": [
    "As you continue to work with NumPy and explore its vast ecosystem, keep the concept of broadcasting in mind. Embrace its power, but also be aware of its limitations and potential pitfalls. With practice and experience, broadcasting will become a natural and indispensable tool in your NumPy toolkit.\n"
   ]
  },
  {
   "cell_type": "markdown",
   "metadata": {},
   "source": [
    "So, go forth and harness the power of broadcasting in your NumPy projects, and enjoy the benefits of efficient and expressive array operations!"
   ]
  },
  {
   "cell_type": "code",
   "execution_count": null,
   "metadata": {},
   "outputs": [],
   "source": []
  }
 ],
 "metadata": {
  "kernelspec": {
   "display_name": "py310",
   "language": "python",
   "name": "python3"
  },
  "language_info": {
   "codemirror_mode": {
    "name": "ipython",
    "version": 3
   },
   "file_extension": ".py",
   "mimetype": "text/x-python",
   "name": "python",
   "nbconvert_exporter": "python",
   "pygments_lexer": "ipython3",
   "version": "3.10.12"
  }
 },
 "nbformat": 4,
 "nbformat_minor": 2
}
