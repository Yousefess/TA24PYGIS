{
 "cells": [
  {
   "cell_type": "markdown",
   "metadata": {},
   "source": [
    "# [Sorting and Searching in NumPy](#)"
   ]
  },
  {
   "cell_type": "markdown",
   "metadata": {},
   "source": [
    "Sorting and searching are fundamental operations in data processing and analysis. They play a crucial role in various domains, including:\n",
    "\n",
    "- **Data Analysis**: Sorting helps in organizing and summarizing data, making it easier to identify patterns, trends, and outliers. Searching enables quick retrieval of specific information from large datasets.\n",
    "\n",
    "- **Algorithms and Data Structures**: Many algorithms and data structures rely on efficient sorting and searching techniques to achieve optimal performance. Examples include binary search, quicksort, and hash tables.\n",
    "\n",
    "- **Data Visualization**: Sorting is often a prerequisite for creating meaningful visualizations, such as line plots, bar charts, and heatmaps. It allows for a logical and ordered representation of data.\n"
   ]
  },
  {
   "cell_type": "markdown",
   "metadata": {},
   "source": [
    "Efficient sorting and searching algorithms can significantly reduce computation time and resource usage, especially when dealing with large datasets. NumPy, being a powerful library for numerical computing in Python, provides a set of optimized functions for sorting and searching arrays.\n"
   ]
  },
  {
   "cell_type": "markdown",
   "metadata": {},
   "source": [
    "NumPy offers a range of efficient functions for sorting and searching arrays. These functions are implemented in optimized C code, making them much faster than their pure Python counterparts. Some of the key functions include:\n",
    "\n",
    "- `np.sort()`: Sorts an array in ascending order along a specified axis. It returns a new sorted array, leaving the original array unchanged.\n",
    "\n",
    "- `np.argsort()`: Returns the indices that would sort an array in ascending order. It is useful for obtaining the sorted order without actually sorting the array.\n",
    "\n",
    "- `np.where()`: Returns the indices of elements in an array that satisfy a given condition. It is a versatile function for searching and filtering arrays based on specific criteria.\n",
    "\n",
    "- `np.argmax()` and `np.argmin()`: Return the indices of the maximum and minimum elements in an array, respectively. They are useful for finding the positions of extreme values.\n"
   ]
  },
  {
   "cell_type": "markdown",
   "metadata": {},
   "source": [
    "These functions, along with others available in NumPy, provide a powerful toolkit for efficient sorting and searching operations on arrays. They offer flexibility in terms of specifying the axis of operation, handling missing values, and performing complex data manipulations.\n"
   ]
  },
  {
   "cell_type": "markdown",
   "metadata": {},
   "source": [
    "## [Sorting Arrays](#)"
   ]
  },
  {
   "cell_type": "markdown",
   "metadata": {},
   "source": [
    "Sorting is a fundamental operation in data processing and analysis. NumPy provides several functions for sorting arrays efficiently. In this section, we will explore the `np.sort()` function and its variations for sorting arrays in ascending order, along specific axes, and in-place. We will also discuss `np.argsort()` for obtaining the indices of sorted elements and sorting in descending order.\n"
   ]
  },
  {
   "cell_type": "markdown",
   "metadata": {},
   "source": [
    "<img src=\"../images/sorting-array.png\" width=\"800\">"
   ]
  },
  {
   "cell_type": "markdown",
   "metadata": {},
   "source": [
    "### [`np.sort()`: Sorting Arrays in Ascending Order](#)\n"
   ]
  },
  {
   "cell_type": "markdown",
   "metadata": {},
   "source": [
    "The `np.sort()` function is used to sort an array in ascending order. It returns a new sorted array, leaving the original array unchanged. Here's an example:\n"
   ]
  },
  {
   "cell_type": "code",
   "execution_count": 1,
   "metadata": {},
   "outputs": [],
   "source": [
    "import numpy as np"
   ]
  },
  {
   "cell_type": "code",
   "execution_count": 2,
   "metadata": {},
   "outputs": [
    {
     "data": {
      "text/plain": [
       "array([3, 1, 4, 2, 5])"
      ]
     },
     "execution_count": 2,
     "metadata": {},
     "output_type": "execute_result"
    }
   ],
   "source": [
    "arr = np.array([3, 1, 4, 2, 5])\n",
    "arr"
   ]
  },
  {
   "cell_type": "code",
   "execution_count": 3,
   "metadata": {},
   "outputs": [
    {
     "data": {
      "text/plain": [
       "array([1, 2, 3, 4, 5])"
      ]
     },
     "execution_count": 3,
     "metadata": {},
     "output_type": "execute_result"
    }
   ],
   "source": [
    "sorted_arr = np.sort(arr)\n",
    "sorted_arr"
   ]
  },
  {
   "cell_type": "code",
   "execution_count": 4,
   "metadata": {},
   "outputs": [
    {
     "data": {
      "text/plain": [
       "array([3, 1, 4, 2, 5])"
      ]
     },
     "execution_count": 4,
     "metadata": {},
     "output_type": "execute_result"
    }
   ],
   "source": [
    "arr"
   ]
  },
  {
   "cell_type": "markdown",
   "metadata": {},
   "source": [
    "The `np.sort()` function can also be used to sort multi-dimensional arrays. By default, it sorts the array along the last axis (row-wise for 2D arrays).\n"
   ]
  },
  {
   "cell_type": "markdown",
   "metadata": {},
   "source": [
    "### [`np.sort()` with `axis` Parameter: Sorting Along Specific Axes](#)\n"
   ]
  },
  {
   "cell_type": "markdown",
   "metadata": {},
   "source": [
    "The `np.sort()` function accepts an optional `axis` parameter that specifies the axis along which the sorting should be performed. By default, `axis=-1`, which sorts along the last axis.\n"
   ]
  },
  {
   "cell_type": "code",
   "execution_count": 5,
   "metadata": {},
   "outputs": [
    {
     "data": {
      "text/plain": [
       "array([[3, 1, 4],\n",
       "       [2, 5, 6]])"
      ]
     },
     "execution_count": 5,
     "metadata": {},
     "output_type": "execute_result"
    }
   ],
   "source": [
    "arr = np.array([[3, 1, 4], [2, 5, 6]])\n",
    "arr"
   ]
  },
  {
   "cell_type": "code",
   "execution_count": 6,
   "metadata": {},
   "outputs": [
    {
     "data": {
      "text/plain": [
       "array([[2, 1, 4],\n",
       "       [3, 5, 6]])"
      ]
     },
     "execution_count": 6,
     "metadata": {},
     "output_type": "execute_result"
    }
   ],
   "source": [
    "sorted_arr = np.sort(arr, axis=0)\n",
    "sorted_arr"
   ]
  },
  {
   "cell_type": "code",
   "execution_count": 7,
   "metadata": {},
   "outputs": [
    {
     "data": {
      "text/plain": [
       "array([[1, 3, 4],\n",
       "       [2, 5, 6]])"
      ]
     },
     "execution_count": 7,
     "metadata": {},
     "output_type": "execute_result"
    }
   ],
   "source": [
    "sorted_arr = np.sort(arr, axis=1)\n",
    "sorted_arr"
   ]
  },
  {
   "cell_type": "markdown",
   "metadata": {},
   "source": [
    "In this example, `axis=0` specifies sorting along the first axis (column-wise for 2D arrays).\n"
   ]
  },
  {
   "cell_type": "markdown",
   "metadata": {},
   "source": [
    "### [In-place Sorting with `arr.sort()`](#)"
   ]
  },
  {
   "cell_type": "markdown",
   "metadata": {},
   "source": [
    "To sort an array in-place, modifying the original array, you can use the `sort()` method of the array itself. The `sort()` method does not return a new array but modifies the original array directly.\n"
   ]
  },
  {
   "cell_type": "code",
   "execution_count": 8,
   "metadata": {},
   "outputs": [
    {
     "data": {
      "text/plain": [
       "array([3, 1, 4, 2, 5])"
      ]
     },
     "execution_count": 8,
     "metadata": {},
     "output_type": "execute_result"
    }
   ],
   "source": [
    "arr = np.array([3, 1, 4, 2, 5])\n",
    "arr"
   ]
  },
  {
   "cell_type": "code",
   "execution_count": 9,
   "metadata": {},
   "outputs": [],
   "source": [
    "arr.sort()"
   ]
  },
  {
   "cell_type": "code",
   "execution_count": 10,
   "metadata": {},
   "outputs": [
    {
     "data": {
      "text/plain": [
       "array([1, 2, 3, 4, 5])"
      ]
     },
     "execution_count": 10,
     "metadata": {},
     "output_type": "execute_result"
    }
   ],
   "source": [
    "arr"
   ]
  },
  {
   "cell_type": "markdown",
   "metadata": {},
   "source": [
    "The `sort()` method also accepts an optional `axis` parameter to specify the axis along which the sorting should be performed. By default, `axis=-1`, which sorts along the last axis.\n"
   ]
  },
  {
   "cell_type": "code",
   "execution_count": 11,
   "metadata": {},
   "outputs": [
    {
     "data": {
      "text/plain": [
       "array([[3, 1, 4],\n",
       "       [2, 5, 6]])"
      ]
     },
     "execution_count": 11,
     "metadata": {},
     "output_type": "execute_result"
    }
   ],
   "source": [
    "arr = np.array([[3, 1, 4], [2, 5, 6]])\n",
    "arr"
   ]
  },
  {
   "cell_type": "code",
   "execution_count": 12,
   "metadata": {},
   "outputs": [],
   "source": [
    "arr.sort(axis=0)"
   ]
  },
  {
   "cell_type": "code",
   "execution_count": 13,
   "metadata": {},
   "outputs": [
    {
     "data": {
      "text/plain": [
       "array([[2, 1, 4],\n",
       "       [3, 5, 6]])"
      ]
     },
     "execution_count": 13,
     "metadata": {},
     "output_type": "execute_result"
    }
   ],
   "source": [
    "arr"
   ]
  },
  {
   "cell_type": "code",
   "execution_count": 14,
   "metadata": {},
   "outputs": [
    {
     "data": {
      "text/plain": [
       "array([[3, 1, 4],\n",
       "       [2, 5, 6]])"
      ]
     },
     "execution_count": 14,
     "metadata": {},
     "output_type": "execute_result"
    }
   ],
   "source": [
    "arr = np.array([[3, 1, 4], [2, 5, 6]])\n",
    "arr"
   ]
  },
  {
   "cell_type": "code",
   "execution_count": 15,
   "metadata": {},
   "outputs": [],
   "source": [
    "arr.sort(axis=1)"
   ]
  },
  {
   "cell_type": "code",
   "execution_count": 16,
   "metadata": {},
   "outputs": [
    {
     "data": {
      "text/plain": [
       "array([[1, 3, 4],\n",
       "       [2, 5, 6]])"
      ]
     },
     "execution_count": 16,
     "metadata": {},
     "output_type": "execute_result"
    }
   ],
   "source": [
    "arr"
   ]
  },
  {
   "cell_type": "markdown",
   "metadata": {},
   "source": [
    "In this example, `axis=0` specifies sorting along the first axis (column-wise for 2D arrays).\n"
   ]
  },
  {
   "cell_type": "markdown",
   "metadata": {},
   "source": [
    "When a is an array with fields defined, this argument specifies which fields to compare first, second, etc. A single field can be specified as a string, and not all fields need be specified, but unspecified fields will still be used, in the order in which they come up in the dtype, to break ties."
   ]
  },
  {
   "cell_type": "code",
   "execution_count": 17,
   "metadata": {},
   "outputs": [],
   "source": [
    "dtype = [('name', 'S10'), ('height', float), ('age', int)]\n"
   ]
  },
  {
   "cell_type": "code",
   "execution_count": 55,
   "metadata": {},
   "outputs": [],
   "source": [
    "values = [('Arthur', 1.8, 41), ('Lancelot', 1.9, 38), ('Galahad', 1.7, 38)]\n",
    "a = np.array(values, dtype=dtype) # create a structured array"
   ]
  },
  {
   "cell_type": "code",
   "execution_count": 56,
   "metadata": {},
   "outputs": [
    {
     "data": {
      "text/plain": [
       "array([(b'Galahad', 1.7, 38), (b'Arthur', 1.8, 41),\n",
       "       (b'Lancelot', 1.9, 38)],\n",
       "      dtype=[('name', 'S10'), ('height', '<f8'), ('age', '<i8')])"
      ]
     },
     "execution_count": 56,
     "metadata": {},
     "output_type": "execute_result"
    }
   ],
   "source": [
    "np.sort(a, order='height')"
   ]
  },
  {
   "cell_type": "code",
   "execution_count": 59,
   "metadata": {},
   "outputs": [
    {
     "data": {
      "text/plain": [
       "array([(b'Galahad', 1.7, 38), (b'Lancelot', 1.9, 38),\n",
       "       (b'Arthur', 1.8, 41)],\n",
       "      dtype=[('name', 'S10'), ('height', '<f8'), ('age', '<i8')])"
      ]
     },
     "execution_count": 59,
     "metadata": {},
     "output_type": "execute_result"
    }
   ],
   "source": [
    "np.sort(a, order='age')"
   ]
  },
  {
   "cell_type": "markdown",
   "metadata": {},
   "source": [
    "Thank you for pointing out the correction. I hope this clarifies the difference between `np.sort()` and `arr.sort()` for in-place sorting."
   ]
  },
  {
   "cell_type": "markdown",
   "metadata": {},
   "source": [
    "### [`np.argsort()`: Obtaining the Indices of Sorted Elements](#)\n"
   ]
  },
  {
   "cell_type": "markdown",
   "metadata": {},
   "source": [
    "The `np.argsort()` function returns the indices that would sort an array in ascending order. It is useful when you need to obtain the sorted order without actually sorting the array.\n"
   ]
  },
  {
   "cell_type": "code",
   "execution_count": 19,
   "metadata": {},
   "outputs": [
    {
     "data": {
      "text/plain": [
       "array([3, 1, 4, 2, 5])"
      ]
     },
     "execution_count": 19,
     "metadata": {},
     "output_type": "execute_result"
    }
   ],
   "source": [
    "arr = np.array([3, 1, 4, 2, 5])\n",
    "arr"
   ]
  },
  {
   "cell_type": "code",
   "execution_count": 20,
   "metadata": {},
   "outputs": [
    {
     "data": {
      "text/plain": [
       "array([1, 3, 0, 2, 4])"
      ]
     },
     "execution_count": 20,
     "metadata": {},
     "output_type": "execute_result"
    }
   ],
   "source": [
    "sorted_indices = np.argsort(arr)\n",
    "sorted_indices"
   ]
  },
  {
   "cell_type": "markdown",
   "metadata": {},
   "source": [
    "The resulting `sorted_indices` array contains the indices that would sort the original array in ascending order.\n"
   ]
  },
  {
   "cell_type": "markdown",
   "metadata": {},
   "source": [
    "### [Sorting in Descending Order](#)\n"
   ]
  },
  {
   "cell_type": "markdown",
   "metadata": {},
   "source": [
    "To sort an array in descending order, you can use the `np.sort()` function and then reverse the order of elements. Alternatively, you can use the `np.argsort()` function to obtain the indices of sorted elements in ascending order and then reverse the order of indices.\n"
   ]
  },
  {
   "cell_type": "code",
   "execution_count": 21,
   "metadata": {},
   "outputs": [
    {
     "data": {
      "text/plain": [
       "array([3, 1, 4, 2, 5])"
      ]
     },
     "execution_count": 21,
     "metadata": {},
     "output_type": "execute_result"
    }
   ],
   "source": [
    "arr = np.array([3, 1, 4, 2, 5])\n",
    "arr"
   ]
  },
  {
   "cell_type": "code",
   "execution_count": 22,
   "metadata": {},
   "outputs": [
    {
     "data": {
      "text/plain": [
       "array([5, 4, 3, 2, 1])"
      ]
     },
     "execution_count": 22,
     "metadata": {},
     "output_type": "execute_result"
    }
   ],
   "source": [
    "sorted_arr = np.sort(arr)[::-1]\n",
    "sorted_arr"
   ]
  },
  {
   "cell_type": "markdown",
   "metadata": {},
   "source": [
    "Alternatively, you can use `np.argsort()` to obtain the indices that would sort the array in descending order and then use those indices to rearrange the array.\n"
   ]
  },
  {
   "cell_type": "code",
   "execution_count": 23,
   "metadata": {},
   "outputs": [
    {
     "data": {
      "text/plain": [
       "array([3, 1, 4, 2, 5])"
      ]
     },
     "execution_count": 23,
     "metadata": {},
     "output_type": "execute_result"
    }
   ],
   "source": [
    "arr = np.array([3, 1, 4, 2, 5])\n",
    "arr"
   ]
  },
  {
   "cell_type": "code",
   "execution_count": 24,
   "metadata": {},
   "outputs": [
    {
     "data": {
      "text/plain": [
       "array([4, 2, 0, 3, 1])"
      ]
     },
     "execution_count": 24,
     "metadata": {},
     "output_type": "execute_result"
    }
   ],
   "source": [
    "sorted_indices = np.argsort(arr)[::-1]\n",
    "sorted_indices"
   ]
  },
  {
   "cell_type": "code",
   "execution_count": 25,
   "metadata": {},
   "outputs": [
    {
     "data": {
      "text/plain": [
       "array([5, 4, 3, 2, 1])"
      ]
     },
     "execution_count": 25,
     "metadata": {},
     "output_type": "execute_result"
    }
   ],
   "source": [
    "sorted_arr = arr[sorted_indices]\n",
    "sorted_arr"
   ]
  },
  {
   "cell_type": "markdown",
   "metadata": {},
   "source": [
    "These examples demonstrate the flexibility and efficiency of NumPy's sorting functions. Whether you need to sort arrays in ascending or descending order, along specific axes, or obtain the indices of sorted elements, NumPy provides the necessary tools to accomplish these tasks with ease."
   ]
  },
  {
   "cell_type": "markdown",
   "metadata": {},
   "source": [
    "## [Searching and Filtering Techniques](#)"
   ]
  },
  {
   "cell_type": "markdown",
   "metadata": {},
   "source": [
    "In addition to the searching functions discussed earlier, NumPy provides powerful techniques for searching and filtering arrays based on conditions, finding unique elements, and performing set operations. In this section, we will explore boolean indexing for filtering arrays based on conditions, `np.unique()` for searching unique elements, and set operations like intersection, union, and difference of arrays.\n"
   ]
  },
  {
   "cell_type": "markdown",
   "metadata": {},
   "source": [
    "### [Boolean Indexing: Filtering Arrays Based on Conditions](#)\n"
   ]
  },
  {
   "cell_type": "markdown",
   "metadata": {},
   "source": [
    "Boolean indexing is a technique that allows you to filter arrays based on conditions. It uses a boolean mask, which is an array of boolean values (True or False), to select elements from an array that satisfy a given condition.\n"
   ]
  },
  {
   "cell_type": "code",
   "execution_count": 26,
   "metadata": {},
   "outputs": [
    {
     "data": {
      "text/plain": [
       "array([1, 2, 3, 4, 5])"
      ]
     },
     "execution_count": 26,
     "metadata": {},
     "output_type": "execute_result"
    }
   ],
   "source": [
    "arr = np.array([1, 2, 3, 4, 5])\n",
    "arr"
   ]
  },
  {
   "cell_type": "code",
   "execution_count": 27,
   "metadata": {},
   "outputs": [
    {
     "data": {
      "text/plain": [
       "array([False, False, False,  True,  True])"
      ]
     },
     "execution_count": 27,
     "metadata": {},
     "output_type": "execute_result"
    }
   ],
   "source": [
    "mask = arr > 3\n",
    "mask"
   ]
  },
  {
   "cell_type": "code",
   "execution_count": 28,
   "metadata": {},
   "outputs": [
    {
     "data": {
      "text/plain": [
       "array([4, 5])"
      ]
     },
     "execution_count": 28,
     "metadata": {},
     "output_type": "execute_result"
    }
   ],
   "source": [
    "filtered_arr = arr[mask]\n",
    "filtered_arr"
   ]
  },
  {
   "cell_type": "markdown",
   "metadata": {},
   "source": [
    "In this example, `arr > 3` creates a boolean mask where elements greater than 3 are True and the rest are False. Using this mask as an index, `arr[mask]` selects only the elements that correspond to True values in the mask.\n"
   ]
  },
  {
   "cell_type": "markdown",
   "metadata": {},
   "source": [
    "You can also combine multiple conditions using logical operators like `&` (and), `|` (or), and `~` (not):\n"
   ]
  },
  {
   "cell_type": "code",
   "execution_count": 29,
   "metadata": {},
   "outputs": [
    {
     "data": {
      "text/plain": [
       "array([1, 2, 3, 4, 5])"
      ]
     },
     "execution_count": 29,
     "metadata": {},
     "output_type": "execute_result"
    }
   ],
   "source": [
    "arr = np.array([1, 2, 3, 4, 5])\n",
    "arr"
   ]
  },
  {
   "cell_type": "code",
   "execution_count": 30,
   "metadata": {},
   "outputs": [
    {
     "data": {
      "text/plain": [
       "array([False, False,  True,  True, False])"
      ]
     },
     "execution_count": 30,
     "metadata": {},
     "output_type": "execute_result"
    }
   ],
   "source": [
    "mask = (arr > 2) & (arr < 5)\n",
    "mask"
   ]
  },
  {
   "cell_type": "code",
   "execution_count": 31,
   "metadata": {},
   "outputs": [
    {
     "data": {
      "text/plain": [
       "array([3, 4])"
      ]
     },
     "execution_count": 31,
     "metadata": {},
     "output_type": "execute_result"
    }
   ],
   "source": [
    "filtered_arr = arr[mask]\n",
    "filtered_arr"
   ]
  },
  {
   "cell_type": "markdown",
   "metadata": {},
   "source": [
    "In this case, `(arr > 2) & (arr < 5)` creates a boolean mask where elements that are both greater than 2 and less than 5 are True.\n"
   ]
  },
  {
   "cell_type": "markdown",
   "metadata": {},
   "source": [
    "### [Finding Indices of Elements Satisfying Conditions](#)"
   ]
  },
  {
   "cell_type": "markdown",
   "metadata": {},
   "source": [
    "The `np.where()` function is a versatile tool for searching and filtering arrays based on specified conditions. It returns the indices of elements that satisfy the given condition(s).\n"
   ]
  },
  {
   "cell_type": "markdown",
   "metadata": {},
   "source": [
    "The basic syntax of `np.where()` is as follows:\n",
    "```python\n",
    "indices = np.where(condition)\n",
    "```"
   ]
  },
  {
   "cell_type": "markdown",
   "metadata": {},
   "source": [
    "Here, `condition` is a boolean array or a boolean expression that determines which elements to select. The function returns a tuple of arrays, one for each dimension, containing the indices of the elements that satisfy the condition.\n"
   ]
  },
  {
   "cell_type": "markdown",
   "metadata": {},
   "source": [
    "Let's look at an example:"
   ]
  },
  {
   "cell_type": "code",
   "execution_count": 32,
   "metadata": {},
   "outputs": [
    {
     "data": {
      "text/plain": [
       "(array([1, 3, 5, 7]),)"
      ]
     },
     "execution_count": 32,
     "metadata": {},
     "output_type": "execute_result"
    }
   ],
   "source": [
    "arr = np.array([1, 2, 3, 4, 5, 6, 7, 8, 9])\n",
    "indices = np.where(arr % 2 == 0)\n",
    "indices"
   ]
  },
  {
   "cell_type": "code",
   "execution_count": 33,
   "metadata": {},
   "outputs": [
    {
     "data": {
      "text/plain": [
       "array([2, 4, 6, 8])"
      ]
     },
     "execution_count": 33,
     "metadata": {},
     "output_type": "execute_result"
    }
   ],
   "source": [
    "arr[indices]"
   ]
  },
  {
   "cell_type": "markdown",
   "metadata": {},
   "source": [
    "In this example, `np.where(arr % 2 == 0)` returns the indices of the even elements in the array `arr`. The output is a tuple containing a single array with the indices `[1, 3, 5, 7]`.\n"
   ]
  },
  {
   "cell_type": "markdown",
   "metadata": {},
   "source": [
    "You can also use `np.where()` with multiple conditions using logical operators such as `&` (and), `|` (or), and `~` (not). For example:"
   ]
  },
  {
   "cell_type": "code",
   "execution_count": 34,
   "metadata": {},
   "outputs": [
    {
     "data": {
      "text/plain": [
       "(array([3, 4, 5, 6]),)"
      ]
     },
     "execution_count": 34,
     "metadata": {},
     "output_type": "execute_result"
    }
   ],
   "source": [
    "arr = np.array([1, 2, 3, 4, 5, 6, 7, 8, 9])\n",
    "indices = np.where((arr > 3) & (arr < 8))\n",
    "indices"
   ]
  },
  {
   "cell_type": "code",
   "execution_count": 35,
   "metadata": {},
   "outputs": [
    {
     "data": {
      "text/plain": [
       "array([4, 5, 6, 7])"
      ]
     },
     "execution_count": 35,
     "metadata": {},
     "output_type": "execute_result"
    }
   ],
   "source": [
    "arr[indices]"
   ]
  },
  {
   "cell_type": "markdown",
   "metadata": {},
   "source": [
    "Here, `np.where((arr > 3) & (arr < 8))` returns the indices of elements that are greater than 3 and less than 8.\n"
   ]
  },
  {
   "cell_type": "markdown",
   "metadata": {},
   "source": [
    "Another useful feature of `np.where()` is its ability to provide different values based on the condition. The syntax for this is as follows:"
   ]
  },
  {
   "cell_type": "markdown",
   "metadata": {},
   "source": [
    "```python\n",
    "result = np.where(condition, x, y)\n",
    "```\n"
   ]
  },
  {
   "cell_type": "markdown",
   "metadata": {},
   "source": [
    "In this case, `result` will be an array of the same shape as the input arrays, where elements corresponding to `True` in the `condition` array will be taken from `x`, and elements corresponding to `False` will be taken from `y`.\n"
   ]
  },
  {
   "cell_type": "markdown",
   "metadata": {},
   "source": [
    "Example:"
   ]
  },
  {
   "cell_type": "code",
   "execution_count": 36,
   "metadata": {},
   "outputs": [
    {
     "data": {
      "text/plain": [
       "array([0, 0, 3, 4, 5])"
      ]
     },
     "execution_count": 36,
     "metadata": {},
     "output_type": "execute_result"
    }
   ],
   "source": [
    "arr = np.array([1, 2, 3, 4, 5])\n",
    "result = np.where(arr < 3, 0, arr)\n",
    "result"
   ]
  },
  {
   "cell_type": "markdown",
   "metadata": {},
   "source": [
    "In this example, elements of `arr` that are less than 3 are replaced with 0, while the remaining elements retain their original values.\n"
   ]
  },
  {
   "cell_type": "markdown",
   "metadata": {},
   "source": [
    "The `np.where()` function is a powerful tool for searching and filtering arrays based on specific conditions, making it easier to extract desired elements or indices from an array."
   ]
  },
  {
   "cell_type": "markdown",
   "metadata": {},
   "source": [
    "### [Searching for Unique Elements with `np.unique()`](#)\n"
   ]
  },
  {
   "cell_type": "markdown",
   "metadata": {},
   "source": [
    "The `np.unique()` function is used to find the unique elements in an array. It returns a sorted array of unique elements, eliminating any duplicates.\n"
   ]
  },
  {
   "cell_type": "code",
   "execution_count": 37,
   "metadata": {},
   "outputs": [
    {
     "data": {
      "text/plain": [
       "array([1, 2, 2, 3, 4, 4, 5])"
      ]
     },
     "execution_count": 37,
     "metadata": {},
     "output_type": "execute_result"
    }
   ],
   "source": [
    "arr = np.array([1, 2, 2, 3, 4, 4, 5])\n",
    "arr"
   ]
  },
  {
   "cell_type": "code",
   "execution_count": 38,
   "metadata": {},
   "outputs": [
    {
     "data": {
      "text/plain": [
       "array([1, 2, 3, 4, 5])"
      ]
     },
     "execution_count": 38,
     "metadata": {},
     "output_type": "execute_result"
    }
   ],
   "source": [
    "unique_arr = np.unique(arr)\n",
    "unique_arr"
   ]
  },
  {
   "cell_type": "markdown",
   "metadata": {},
   "source": [
    "In this example, `np.unique(arr)` returns a sorted array of unique elements from `arr`, removing any duplicates.\n"
   ]
  },
  {
   "cell_type": "markdown",
   "metadata": {},
   "source": [
    "You can also use the `return_counts` parameter to get the count of each unique element:\n"
   ]
  },
  {
   "cell_type": "code",
   "execution_count": 39,
   "metadata": {},
   "outputs": [
    {
     "data": {
      "text/plain": [
       "array([1, 2, 2, 3, 4, 4, 5])"
      ]
     },
     "execution_count": 39,
     "metadata": {},
     "output_type": "execute_result"
    }
   ],
   "source": [
    "arr = np.array([1, 2, 2, 3, 4, 4, 5])\n",
    "arr"
   ]
  },
  {
   "cell_type": "code",
   "execution_count": 40,
   "metadata": {},
   "outputs": [
    {
     "data": {
      "text/plain": [
       "array([1, 2, 3, 4, 5])"
      ]
     },
     "execution_count": 40,
     "metadata": {},
     "output_type": "execute_result"
    }
   ],
   "source": [
    "unique_arr, counts = np.unique(arr, return_counts=True)\n",
    "unique_arr"
   ]
  },
  {
   "cell_type": "code",
   "execution_count": 41,
   "metadata": {},
   "outputs": [
    {
     "data": {
      "text/plain": [
       "array([1, 2, 1, 2, 1])"
      ]
     },
     "execution_count": 41,
     "metadata": {},
     "output_type": "execute_result"
    }
   ],
   "source": [
    "counts"
   ]
  },
  {
   "cell_type": "markdown",
   "metadata": {},
   "source": [
    "In this case, `np.unique(arr, return_counts=True)` returns both the unique elements and their corresponding counts.\n"
   ]
  },
  {
   "cell_type": "markdown",
   "metadata": {},
   "source": [
    "### [Set Operations: Intersection, Union, and Difference of Arrays](#)\n"
   ]
  },
  {
   "cell_type": "markdown",
   "metadata": {},
   "source": [
    "<img src=\"../images/set-operations.png\" width=\"800\">"
   ]
  },
  {
   "cell_type": "markdown",
   "metadata": {},
   "source": [
    "NumPy provides functions for performing set operations on arrays, such as finding the intersection, union, and difference of arrays.\n",
    "\n",
    "- `np.intersect1d(arr1, arr2)`: Returns the sorted, unique elements that are common to both `arr1` and `arr2`.\n",
    "- `np.union1d(arr1, arr2)`: Returns the sorted, unique elements from both `arr1` and `arr2`.\n",
    "- `np.setdiff1d(arr1, arr2)`: Returns the sorted, unique elements in `arr1` that are not in `arr2`.\n"
   ]
  },
  {
   "cell_type": "code",
   "execution_count": 42,
   "metadata": {},
   "outputs": [],
   "source": [
    "arr1 = np.array([1, 2, 3, 4, 5])\n",
    "arr2 = np.array([3, 4, 5, 6, 7])"
   ]
  },
  {
   "cell_type": "code",
   "execution_count": 43,
   "metadata": {},
   "outputs": [
    {
     "data": {
      "text/plain": [
       "array([3, 4, 5])"
      ]
     },
     "execution_count": 43,
     "metadata": {},
     "output_type": "execute_result"
    }
   ],
   "source": [
    "np.intersect1d(arr1, arr2)"
   ]
  },
  {
   "cell_type": "code",
   "execution_count": 44,
   "metadata": {},
   "outputs": [
    {
     "data": {
      "text/plain": [
       "array([1, 2, 3, 4, 5, 6, 7])"
      ]
     },
     "execution_count": 44,
     "metadata": {},
     "output_type": "execute_result"
    }
   ],
   "source": [
    "np.union1d(arr1, arr2)"
   ]
  },
  {
   "cell_type": "code",
   "execution_count": 45,
   "metadata": {},
   "outputs": [
    {
     "data": {
      "text/plain": [
       "array([1, 2])"
      ]
     },
     "execution_count": 45,
     "metadata": {},
     "output_type": "execute_result"
    }
   ],
   "source": [
    "np.setdiff1d(arr1, arr2)"
   ]
  },
  {
   "cell_type": "markdown",
   "metadata": {},
   "source": [
    "In this example:\n",
    "- `np.intersect1d(arr1, arr2)` returns the elements that are common to both `arr1` and `arr2`.\n",
    "- `np.union1d(arr1, arr2)` returns the unique elements from both `arr1` and `arr2`.\n",
    "- `np.setdiff1d(arr1, arr2)` returns the elements in `arr1` that are not in `arr2`.\n"
   ]
  },
  {
   "cell_type": "markdown",
   "metadata": {},
   "source": [
    "These searching and filtering techniques in NumPy provide powerful ways to extract specific elements, filter arrays based on conditions, find unique elements, and perform set operations. They are essential tools for data analysis and manipulation tasks, allowing you to efficiently process and analyze large datasets."
   ]
  },
  {
   "cell_type": "markdown",
   "metadata": {},
   "source": [
    "## [(Optional) Sorting and Searching Performance](#)"
   ]
  },
  {
   "cell_type": "markdown",
   "metadata": {},
   "source": [
    "When working with large datasets, the performance of sorting and searching operations becomes crucial. In this section, we will discuss the time complexity of sorting and searching operations in NumPy, techniques for optimizing their performance, and a comparison with Python's built-in sorting and searching functions.\n"
   ]
  },
  {
   "cell_type": "markdown",
   "metadata": {},
   "source": [
    "### [Time Complexity of Sorting and Searching Operations](#)\n"
   ]
  },
  {
   "cell_type": "markdown",
   "metadata": {},
   "source": [
    "Understanding the time complexity of sorting and searching operations is important for making informed decisions about which algorithm to use based on the size of the dataset.\n",
    "\n",
    "- **Sorting Complexity**: The time complexity of sorting algorithms depends on the specific algorithm used. NumPy's `sort()` function uses a quicksort algorithm, which has an average time complexity of O(n log n) for arrays of size n. However, in the worst case, quicksort can have a time complexity of O(n^2) when the array is already sorted or nearly sorted.\n",
    "\n",
    "- **Searching Complexity**: The time complexity of searching operations depends on the search algorithm and the size of the dataset. NumPy's `searchsorted()` function uses a binary search algorithm, which has a time complexity of O(log n) for arrays of size n. This makes it efficient for searching in large, sorted arrays.\n"
   ]
  },
  {
   "cell_type": "markdown",
   "metadata": {},
   "source": [
    "It's important to note that the actual performance of sorting and searching operations may vary depending on factors such as the size of the array, the data type, and the specific implementation details.\n"
   ]
  },
  {
   "cell_type": "markdown",
   "metadata": {},
   "source": [
    "### [Optimizing Sorting and Searching Performance](#)\n"
   ]
  },
  {
   "cell_type": "markdown",
   "metadata": {},
   "source": [
    "To optimize the performance of sorting and searching operations in NumPy, consider the following techniques:\n",
    "\n",
    "1. **Use appropriate data types**: Choose the appropriate data type for your arrays based on the nature of your data. Using smaller data types, such as `int32` instead of `int64`, can reduce memory usage and improve performance.\n",
    "\n",
    "2. **Avoid unnecessary sorting**: If your data is already sorted or partially sorted, you can use specialized sorting algorithms like `np.sort(arr, kind='mergesort')` or `np.sort(arr, kind='heapsort')` that have better performance in such cases.\n",
    "\n",
    "3. **Utilize sorting order**: If you need to perform multiple sorting operations on the same array, consider sorting it once and then using the sorted order for subsequent operations. This can save computation time.\n",
    "\n",
    "4. **Use views instead of copies**: When possible, use array views instead of creating new copies of arrays. Views allow you to manipulate arrays without the overhead of copying data, which can improve performance.\n",
    "\n",
    "5. **Leverage NumPy's optimized functions**: NumPy provides optimized functions for various operations, including sorting and searching. Using these functions instead of writing custom loops can significantly improve performance.\n",
    "\n",
    "6. **Vectorize operations**: NumPy's vectorized operations are highly optimized and can perform computations much faster than explicit loops in Python. Whenever possible, use vectorized operations instead of iterating over arrays element by element.\n"
   ]
  },
  {
   "cell_type": "markdown",
   "metadata": {},
   "source": [
    "### [Comparison with Python's Built-in Sorting and Searching Functions](#)\n"
   ]
  },
  {
   "cell_type": "markdown",
   "metadata": {},
   "source": [
    "Python provides built-in sorting and searching functions, such as `sorted()` and `list.sort()` for sorting, and `in` operator for searching. However, NumPy's sorting and searching functions offer several advantages:\n",
    "\n",
    "1. **Performance**: NumPy's functions are implemented in optimized C code, which makes them significantly faster than Python's built-in functions, especially for large arrays.\n",
    "\n",
    "2. **Functionality**: NumPy's functions provide additional features and flexibility, such as sorting along specific axes, searching for insertion indices, and performing set operations on arrays.\n",
    "\n",
    "3. **Memory efficiency**: NumPy's functions operate directly on arrays, avoiding the overhead of creating new lists or copying data, which can be more memory-efficient compared to Python's built-in functions.\n"
   ]
  },
  {
   "cell_type": "markdown",
   "metadata": {},
   "source": [
    "However, it's worth noting that for small arrays or simple sorting and searching tasks, Python's built-in functions can be sufficient and may have comparable performance to NumPy's functions.\n"
   ]
  },
  {
   "cell_type": "markdown",
   "metadata": {},
   "source": [
    "When deciding between using NumPy's functions or Python's built-in functions, consider factors such as the size of your data, the specific requirements of your task, and the need for additional functionality provided by NumPy.\n"
   ]
  },
  {
   "cell_type": "markdown",
   "metadata": {},
   "source": [
    "In summary, understanding the time complexity of sorting and searching operations, utilizing optimization techniques, and leveraging NumPy's optimized functions can significantly improve the performance of your code when working with large datasets. NumPy's sorting and searching functions offer superior performance and functionality compared to Python's built-in functions, making them valuable tools for efficient data processing and analysis."
   ]
  },
  {
   "cell_type": "markdown",
   "metadata": {},
   "source": [
    "## [Summary and Conclusion](#)"
   ]
  },
  {
   "cell_type": "markdown",
   "metadata": {},
   "source": [
    "In this lecture, we explored the sorting and searching capabilities of NumPy, a powerful library for numerical computing in Python. We delved into various functions and techniques for efficiently sorting arrays, searching for elements based on conditions, finding unique elements, and performing set operations.\n"
   ]
  },
  {
   "cell_type": "markdown",
   "metadata": {},
   "source": [
    "Let's recap the key points covered in this lecture:\n",
    "\n",
    "1. **Sorting Arrays**:\n",
    "   - NumPy provides the `np.sort()` function for sorting arrays in ascending order, with options to sort along specific axes and perform in-place sorting.\n",
    "   - The `np.argsort()` function returns the indices that would sort an array, allowing for indirect sorting and advanced indexing.\n",
    "   - Sorting in descending order can be achieved by reversing the sorted array or using the indices returned by `np.argsort()`.\n",
    "\n",
    "2. **Searching Arrays**:\n",
    "   - The `np.where()` function is used to search for elements in an array based on conditions, returning the indices of elements that satisfy the given condition.\n",
    "   - `np.argmax()` and `np.argmin()` functions find the indices of the maximum and minimum elements in an array, respectively.\n",
    "   - `np.nonzero()` returns the indices of non-zero elements in an array.\n",
    "   - `np.searchsorted()` finds the insertion indices for new elements in a sorted array, maintaining the sorted order.\n",
    "\n",
    "3. **Searching and Filtering Techniques**:\n",
    "   - Boolean indexing allows filtering arrays based on conditions using a boolean mask.\n",
    "   - `np.unique()` function finds the unique elements in an array, with options to return counts of each unique element.\n",
    "   - NumPy provides functions for set operations, such as `np.intersect1d()`, `np.union1d()`, and `np.setdiff1d()`, for finding the intersection, union, and difference of arrays.\n",
    "\n",
    "4. **Sorting and Searching Performance**:\n",
    "   - The time complexity of sorting algorithms, such as quicksort used by NumPy's `sort()` function, is O(n log n) on average, but can be O(n^2) in the worst case.\n",
    "   - Searching algorithms, such as binary search used by NumPy's `searchsorted()` function, have a time complexity of O(log n) for sorted arrays.\n",
    "   - Techniques for optimizing sorting and searching performance include using appropriate data types, avoiding unnecessary sorting, utilizing sorting order, using views instead of copies, leveraging NumPy's optimized functions, and vectorizing operations.\n",
    "   - NumPy's sorting and searching functions offer superior performance and functionality compared to Python's built-in functions, especially for large arrays.\n"
   ]
  },
  {
   "cell_type": "markdown",
   "metadata": {},
   "source": [
    "Remember, practice is key to mastering NumPy's sorting and searching functions. Experiment with different datasets, try out various techniques, and don't hesitate to refer to the documentation and community resources when you encounter challenges.\n"
   ]
  }
 ],
 "metadata": {
  "kernelspec": {
   "display_name": "py310",
   "language": "python",
   "name": "python3"
  },
  "language_info": {
   "codemirror_mode": {
    "name": "ipython",
    "version": 3
   },
   "file_extension": ".py",
   "mimetype": "text/x-python",
   "name": "python",
   "nbconvert_exporter": "python",
   "pygments_lexer": "ipython3",
   "version": "3.10.12"
  }
 },
 "nbformat": 4,
 "nbformat_minor": 2
}
