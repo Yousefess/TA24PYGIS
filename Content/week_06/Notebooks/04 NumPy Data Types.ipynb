{
 "cells": [
  {
   "cell_type": "markdown",
   "metadata": {},
   "source": [
    "# [NumPy Data Types](#)"
   ]
  },
  {
   "cell_type": "markdown",
   "metadata": {},
   "source": [
    "In this section, we will explore the concept of data types in NumPy and understand their importance in numerical computing.\n"
   ]
  },
  {
   "cell_type": "markdown",
   "metadata": {},
   "source": [
    "NumPy data types are the building blocks of NumPy arrays. They define the type of data stored in an array and determine the size and layout of the array in memory. NumPy provides a rich set of data types, including:\n",
    "\n",
    "- **Numeric types:** integers, floating-point numbers, and complex numbers.\n",
    "- **Boolean type:** represents either True or False.\n",
    "- **String type:** fixed-length strings.\n",
    "- **Structured types:** allows for creating compound data types similar to C structures.\n"
   ]
  },
  {
   "cell_type": "markdown",
   "metadata": {},
   "source": [
    "<img src=\"../images/np-dtypes.webp\" width=\"800\">"
   ]
  },
  {
   "cell_type": "markdown",
   "metadata": {},
   "source": [
    "For example, to create an array of 32-bit integers, you can use the following code:\n"
   ]
  },
  {
   "cell_type": "code",
   "execution_count": 1,
   "metadata": {},
   "outputs": [
    {
     "data": {
      "text/plain": [
       "array([1, 2, 3], dtype=int32)"
      ]
     },
     "execution_count": 1,
     "metadata": {},
     "output_type": "execute_result"
    }
   ],
   "source": [
    "import numpy as np\n",
    "\n",
    "arr = np.array([1, 2, 3], dtype='i4')\n",
    "arr"
   ]
  },
  {
   "cell_type": "markdown",
   "metadata": {},
   "source": [
    "Each NumPy data type is represented by a unique character code, such as `'i'` for integers, `'f'` for floating-point numbers, and `'S'` for strings. These character codes are used to specify the desired data type when creating NumPy arrays.\n",
    "\n",
    "Below is a list of all data types in NumPy and the characters used to represent them.\n",
    "\n",
    "- `i` - `integer`\n",
    "- `b` - `boolean`\n",
    "- `u` - `unsigned integer`\n",
    "- `f` - `float`\n",
    "- `c` - `complex float`\n",
    "- `m` - `timedelta`\n",
    "- `M` - `datetime`\n",
    "- `O` - `object`\n",
    "- `S` - `string`\n",
    "- `U` - `unicode string`\n",
    "- `V` - fixed chunk of memory for other type (`void`)"
   ]
  },
  {
   "cell_type": "markdown",
   "metadata": {},
   "source": [
    "Here, `'i4'` represents a 32-bit integer data type.\n"
   ]
  },
  {
   "cell_type": "markdown",
   "metadata": {},
   "source": [
    "NumPy data types are crucial for several reasons:\n",
    "\n",
    "1. **Memory efficiency:** NumPy data types allow you to specify the size and layout of arrays in memory. By choosing the appropriate data type, you can optimize memory usage and ensure efficient storage of large datasets.\n",
    "\n",
    "2. **Performance:** NumPy data types enable fast computations on arrays. NumPy is designed to perform operations efficiently on arrays of specific data types, leveraging the benefits of contiguous memory layout and hardware-level optimizations.\n",
    "\n",
    "3. **Precision and accuracy:** Different data types offer varying levels of precision and accuracy. By selecting the appropriate data type, you can ensure that your computations are performed with the required level of precision, avoiding unnecessary roundoff errors or numerical instabilities.\n",
    "\n",
    "4. **Interoperability:** NumPy data types are compatible with many other libraries and tools in the scientific Python ecosystem. By using standard NumPy data types, you can seamlessly integrate NumPy with other libraries, such as Pandas, Matplotlib, and SciPy.\n",
    "\n",
    "5. **Memory bandwidth:** NumPy data types affect memory bandwidth, which is the rate at which data can be read from or written to memory. Using smaller data types, such as 32-bit integers or single-precision floating-point numbers, can lead to faster memory access compared to larger data types like 64-bit integers or double-precision floating-point numbers.\n"
   ]
  },
  {
   "cell_type": "markdown",
   "metadata": {},
   "source": [
    "When working with NumPy, it's important to choose the appropriate data type based on the nature of your data and the requirements of your computations. NumPy provides a wide range of data types to cater to different needs, and selecting the right data type can greatly impact the performance, memory usage, and accuracy of your code.\n"
   ]
  },
  {
   "cell_type": "markdown",
   "metadata": {},
   "source": [
    "## [Numeric Data Types](#)"
   ]
  },
  {
   "cell_type": "markdown",
   "metadata": {},
   "source": [
    "NumPy provides a variety of numeric data types to represent integers, floating-point numbers, and complex numbers. Let's explore each of these types in detail.\n"
   ]
  },
  {
   "cell_type": "markdown",
   "metadata": {},
   "source": [
    "### [Integer Types](#)\n"
   ]
  },
  {
   "cell_type": "markdown",
   "metadata": {},
   "source": [
    "NumPy offers several integer data types with different sizes and ranges. The most commonly used integer types are:\n",
    "\n",
    "- `int8`: 8-bit signed integer (-128 to 127)\n",
    "- `int16`: 16-bit signed integer (-32,768 to 32,767)\n",
    "- `int32`: 32-bit signed integer (-2,147,483,648 to 2,147,483,647)\n",
    "- `int64`: 64-bit signed integer (-9,223,372,036,854,775,808 to 9,223,372,036,854,775,807)\n"
   ]
  },
  {
   "cell_type": "markdown",
   "metadata": {},
   "source": [
    "NumPy also provides unsigned integer types, which have the same sizes as their signed counterparts but can only represent non-negative values:\n",
    "\n",
    "- `uint8`: 8-bit unsigned integer (0 to 255)\n",
    "- `uint16`: 16-bit unsigned integer (0 to 65,535)\n",
    "- `uint32`: 32-bit unsigned integer (0 to 4,294,967,295)\n",
    "- `uint64`: 64-bit unsigned integer (0 to 18,446,744,073,709,551,615)\n"
   ]
  },
  {
   "cell_type": "markdown",
   "metadata": {},
   "source": [
    "<img src=\"../images/np-int-range.png\" width=\"800\">"
   ]
  },
  {
   "cell_type": "markdown",
   "metadata": {},
   "source": [
    "To create an array with a specific integer type, you can use the `dtype` parameter:\n"
   ]
  },
  {
   "cell_type": "code",
   "execution_count": 2,
   "metadata": {},
   "outputs": [
    {
     "data": {
      "text/plain": [
       "array([1, 2, 3], dtype=int32)"
      ]
     },
     "execution_count": 2,
     "metadata": {},
     "output_type": "execute_result"
    }
   ],
   "source": [
    "arr_int32 = np.array([1, 2, 3], dtype=np.int32)  # 'i4' and 'int32' are equivalent\n",
    "arr_int32"
   ]
  },
  {
   "cell_type": "code",
   "execution_count": 3,
   "metadata": {},
   "outputs": [
    {
     "data": {
      "text/plain": [
       "array([1, 2, 3], dtype=uint8)"
      ]
     },
     "execution_count": 3,
     "metadata": {},
     "output_type": "execute_result"
    }
   ],
   "source": [
    "arr_uint8 = np.array([1, 2, 3], dtype=np.uint8)  # 'u1' and 'uint8' are equivalent\n",
    "arr_uint8"
   ]
  },
  {
   "cell_type": "markdown",
   "metadata": {},
   "source": [
    "Choosing the appropriate integer type depends on the range of values you need to represent and the memory constraints of your application.\n"
   ]
  },
  {
   "cell_type": "markdown",
   "metadata": {},
   "source": [
    "### [Floating-Point Types](#)\n"
   ]
  },
  {
   "cell_type": "markdown",
   "metadata": {},
   "source": [
    "Floating-point types are used to represent real numbers with decimal points. NumPy provides two main floating-point types:\n",
    "\n",
    "- `float32`: 32-bit single-precision floating-point number\n",
    "- `float64`: 64-bit double-precision floating-point number (default)\n"
   ]
  },
  {
   "cell_type": "markdown",
   "metadata": {},
   "source": [
    "The `float32` type has a precision of about 7 decimal digits, while `float64` has a precision of about 15 decimal digits. The choice between `float32` and `float64` depends on the required precision and the memory constraints of your application.\n"
   ]
  },
  {
   "cell_type": "markdown",
   "metadata": {},
   "source": [
    "To create an array with a specific floating-point type, you can use the `dtype` parameter:\n"
   ]
  },
  {
   "cell_type": "code",
   "execution_count": 4,
   "metadata": {},
   "outputs": [
    {
     "data": {
      "text/plain": [
       "array([1., 2., 3.], dtype=float32)"
      ]
     },
     "execution_count": 4,
     "metadata": {},
     "output_type": "execute_result"
    }
   ],
   "source": [
    "arr_float32 = np.array([1.0, 2.0, 3.0], dtype=np.float32)\n",
    "arr_float32"
   ]
  },
  {
   "cell_type": "code",
   "execution_count": 5,
   "metadata": {},
   "outputs": [
    {
     "data": {
      "text/plain": [
       "array([1., 2., 3.])"
      ]
     },
     "execution_count": 5,
     "metadata": {},
     "output_type": "execute_result"
    }
   ],
   "source": [
    "arr_float64 = np.array([1.0, 2.0, 3.0], dtype=np.float64)\n",
    "arr_float64"
   ]
  },
  {
   "cell_type": "markdown",
   "metadata": {},
   "source": [
    "It's important to note that floating-point arithmetic can introduce small errors due to the finite precision of the representation. These errors can accumulate over multiple operations, leading to numerical instabilities or inaccuracies in some cases.\n"
   ]
  },
  {
   "cell_type": "markdown",
   "metadata": {},
   "source": [
    "### [Complex Types](#)\n"
   ]
  },
  {
   "cell_type": "markdown",
   "metadata": {},
   "source": [
    "NumPy provides two complex number types:\n",
    "\n",
    "- `complex64`: 64-bit complex number, consisting of two 32-bit floating-point numbers (real and imaginary parts)\n",
    "- `complex128`: 128-bit complex number, consisting of two 64-bit floating-point numbers (real and imaginary parts)\n"
   ]
  },
  {
   "cell_type": "markdown",
   "metadata": {},
   "source": [
    "Complex numbers are useful in various scientific and engineering applications, such as signal processing, quantum mechanics, and Fourier analysis.\n"
   ]
  },
  {
   "cell_type": "markdown",
   "metadata": {},
   "source": [
    "To create an array with a specific complex type, you can use the `dtype` parameter:\n"
   ]
  },
  {
   "cell_type": "code",
   "execution_count": 6,
   "metadata": {},
   "outputs": [
    {
     "data": {
      "text/plain": [
       "array([1.+2.j, 3.+4.j], dtype=complex64)"
      ]
     },
     "execution_count": 6,
     "metadata": {},
     "output_type": "execute_result"
    }
   ],
   "source": [
    "arr_complex64 = np.array([1+2j, 3+4j], dtype=np.complex64)\n",
    "arr_complex64"
   ]
  },
  {
   "cell_type": "code",
   "execution_count": 7,
   "metadata": {},
   "outputs": [
    {
     "data": {
      "text/plain": [
       "array([1.+2.j, 3.+4.j])"
      ]
     },
     "execution_count": 7,
     "metadata": {},
     "output_type": "execute_result"
    }
   ],
   "source": [
    "arr_complex128 = np.array([1+2j, 3+4j], dtype=np.complex128)\n",
    "arr_complex128"
   ]
  },
  {
   "cell_type": "markdown",
   "metadata": {},
   "source": [
    "NumPy provides a wide range of functions and operations that work seamlessly with complex arrays, allowing you to perform mathematical computations involving complex numbers.\n"
   ]
  },
  {
   "cell_type": "markdown",
   "metadata": {},
   "source": [
    "When working with numeric data types in NumPy, it's important to consider the trade-offs between precision, memory usage, and performance. Choosing the appropriate data type can help optimize your code and ensure accurate results.\n"
   ]
  },
  {
   "cell_type": "markdown",
   "metadata": {},
   "source": [
    "## [Boolean Data Type](#)"
   ]
  },
  {
   "cell_type": "markdown",
   "metadata": {},
   "source": [
    "NumPy provides a boolean data type that represents logical values of either True or False. Boolean arrays are commonly used for conditional operations, filtering, and masking in NumPy.\n"
   ]
  },
  {
   "cell_type": "markdown",
   "metadata": {},
   "source": [
    "### [Boolean Arrays](#)\n"
   ]
  },
  {
   "cell_type": "markdown",
   "metadata": {},
   "source": [
    "Boolean arrays in NumPy are arrays that contain only boolean values (True or False). They are typically the result of comparison operations or logical operations on numeric arrays.\n"
   ]
  },
  {
   "cell_type": "markdown",
   "metadata": {},
   "source": [
    "To create a boolean array, you can use comparison operators such as `==`, `!=`, `<`, `>`, `<=`, `>=`, or logical operators such as `&` (and), `|` (or), and `~` (not).\n"
   ]
  },
  {
   "cell_type": "markdown",
   "metadata": {},
   "source": [
    "Here are a few examples of creating boolean arrays:\n"
   ]
  },
  {
   "cell_type": "code",
   "execution_count": 8,
   "metadata": {},
   "outputs": [
    {
     "data": {
      "text/plain": [
       "array([ True, False,  True,  True])"
      ]
     },
     "execution_count": 8,
     "metadata": {},
     "output_type": "execute_result"
    }
   ],
   "source": [
    "np.array([True, False, True, True])"
   ]
  },
  {
   "cell_type": "code",
   "execution_count": 9,
   "metadata": {},
   "outputs": [
    {
     "data": {
      "text/plain": [
       "array([ True,  True,  True, False,  True])"
      ]
     },
     "execution_count": 9,
     "metadata": {},
     "output_type": "execute_result"
    }
   ],
   "source": [
    "np.array([1, 2, 3, 0, -1], dtype=np.bool_)"
   ]
  },
  {
   "cell_type": "code",
   "execution_count": 10,
   "metadata": {},
   "outputs": [],
   "source": [
    "arr = np.array([1, 2, 3, 4, 5])"
   ]
  },
  {
   "cell_type": "code",
   "execution_count": 11,
   "metadata": {},
   "outputs": [
    {
     "data": {
      "text/plain": [
       "array([False, False, False,  True,  True])"
      ]
     },
     "execution_count": 11,
     "metadata": {},
     "output_type": "execute_result"
    }
   ],
   "source": [
    "arr > 3"
   ]
  },
  {
   "cell_type": "code",
   "execution_count": 12,
   "metadata": {},
   "outputs": [
    {
     "data": {
      "text/plain": [
       "array([False,  True, False, False, False])"
      ]
     },
     "execution_count": 12,
     "metadata": {},
     "output_type": "execute_result"
    }
   ],
   "source": [
    "arr == 2"
   ]
  },
  {
   "cell_type": "code",
   "execution_count": 13,
   "metadata": {},
   "outputs": [
    {
     "data": {
      "text/plain": [
       "array([False,  True,  True,  True, False])"
      ]
     },
     "execution_count": 13,
     "metadata": {},
     "output_type": "execute_result"
    }
   ],
   "source": [
    "(arr > 1) & (arr < 5)"
   ]
  },
  {
   "cell_type": "markdown",
   "metadata": {},
   "source": [
    "Boolean arrays have the same shape as the original array and can be used for various purposes, such as filtering elements, selecting subsets of an array, or performing conditional operations.\n"
   ]
  },
  {
   "cell_type": "markdown",
   "metadata": {},
   "source": [
    "### [Boolean Indexing and Masking](#)\n"
   ]
  },
  {
   "cell_type": "markdown",
   "metadata": {},
   "source": [
    "Boolean indexing and masking are powerful techniques in NumPy that allow you to select elements from an array based on boolean conditions. This is particularly useful when you want to filter or extract specific elements that satisfy a certain criteria.\n"
   ]
  },
  {
   "cell_type": "markdown",
   "metadata": {},
   "source": [
    "To perform boolean indexing, you can use a boolean array as an index to select elements from the original array. The resulting array will contain only the elements corresponding to the True values in the boolean array.\n"
   ]
  },
  {
   "cell_type": "markdown",
   "metadata": {},
   "source": [
    "Here's an example of boolean indexing:\n"
   ]
  },
  {
   "cell_type": "code",
   "execution_count": 14,
   "metadata": {},
   "outputs": [],
   "source": [
    "arr = np.array([1, 2, 3, 4, 5])"
   ]
  },
  {
   "cell_type": "code",
   "execution_count": 15,
   "metadata": {},
   "outputs": [
    {
     "data": {
      "text/plain": [
       "array([False, False, False,  True,  True])"
      ]
     },
     "execution_count": 15,
     "metadata": {},
     "output_type": "execute_result"
    }
   ],
   "source": [
    "bool_arr = arr > 3\n",
    "bool_arr"
   ]
  },
  {
   "cell_type": "code",
   "execution_count": 16,
   "metadata": {},
   "outputs": [
    {
     "data": {
      "text/plain": [
       "array([4, 5])"
      ]
     },
     "execution_count": 16,
     "metadata": {},
     "output_type": "execute_result"
    }
   ],
   "source": [
    "arr[bool_arr]"
   ]
  },
  {
   "cell_type": "markdown",
   "metadata": {},
   "source": [
    "In this example, `bool_arr` is a boolean array that contains True for elements greater than 3. By using `bool_arr` as an index, we select only the elements that satisfy the condition, resulting in `filtered_arr`.\n"
   ]
  },
  {
   "cell_type": "markdown",
   "metadata": {},
   "source": [
    "Boolean masking is similar to boolean indexing but is used to assign values to specific elements of an array based on a boolean condition.\n"
   ]
  },
  {
   "cell_type": "markdown",
   "metadata": {},
   "source": [
    "Here's an example of boolean masking:\n"
   ]
  },
  {
   "cell_type": "code",
   "execution_count": 17,
   "metadata": {},
   "outputs": [
    {
     "data": {
      "text/plain": [
       "array([ True,  True,  True, False, False])"
      ]
     },
     "execution_count": 17,
     "metadata": {},
     "output_type": "execute_result"
    }
   ],
   "source": [
    "arr = np.array([1, 2, 3, 4, 5])\n",
    "bool_mask = arr < 4\n",
    "bool_mask"
   ]
  },
  {
   "cell_type": "code",
   "execution_count": 18,
   "metadata": {},
   "outputs": [],
   "source": [
    "arr[bool_mask] = 0"
   ]
  },
  {
   "cell_type": "code",
   "execution_count": 19,
   "metadata": {},
   "outputs": [
    {
     "data": {
      "text/plain": [
       "array([0, 0, 0, 4, 5])"
      ]
     },
     "execution_count": 19,
     "metadata": {},
     "output_type": "execute_result"
    }
   ],
   "source": [
    "arr"
   ]
  },
  {
   "cell_type": "markdown",
   "metadata": {},
   "source": [
    "In this example, `bool_mask` is a boolean array that contains True for elements less than 4. By using `bool_mask` as a mask, we assign the value 0 to the elements that satisfy the condition, modifying the original array.\n"
   ]
  },
  {
   "cell_type": "markdown",
   "metadata": {},
   "source": [
    "Boolean indexing and masking are incredibly useful for data manipulation and analysis tasks, such as filtering outliers, selecting specific subsets of data, or applying conditional transformations to arrays.\n"
   ]
  },
  {
   "cell_type": "markdown",
   "metadata": {},
   "source": [
    "It's important to note that boolean arrays used for indexing or masking must have the same shape as the original array. NumPy automatically broadcasts the boolean array to match the shape of the original array if possible.\n"
   ]
  },
  {
   "cell_type": "markdown",
   "metadata": {},
   "source": [
    "Boolean indexing and masking provide a concise and efficient way to work with conditional selections in NumPy arrays, making it easier to manipulate and analyze data based on specific criteria.\n"
   ]
  },
  {
   "cell_type": "markdown",
   "metadata": {},
   "source": [
    "## [String Data Type](#)"
   ]
  },
  {
   "cell_type": "markdown",
   "metadata": {},
   "source": [
    "NumPy provides a string data type to represent fixed-length strings in arrays. Although NumPy is primarily used for numerical computations, string arrays can be useful in certain scenarios, such as data preprocessing or working with categorical data.\n"
   ]
  },
  {
   "cell_type": "markdown",
   "metadata": {},
   "source": [
    "### [Creating String Arrays](#)\n"
   ]
  },
  {
   "cell_type": "markdown",
   "metadata": {},
   "source": [
    "To create a string array in NumPy, you can use the `dtype` parameter and specify the string data type along with the maximum length of the strings.\n"
   ]
  },
  {
   "cell_type": "markdown",
   "metadata": {},
   "source": [
    "In NumPy, there are two string data types: 'S' and 'U'. While both are used to represent string data, they have some important differences."
   ]
  },
  {
   "cell_type": "markdown",
   "metadata": {},
   "source": [
    "1. **'S' Data Type (Byte Strings)**:\n",
    "   - The 'S' data type represents fixed-length byte strings.\n",
    "   - It is specified as 'S<n>', where '<n>' is the number of bytes per string element.\n",
    "   - Byte strings are stored as raw bytes and do not have a specific encoding.\n",
    "   - They can contain arbitrary binary data, including non-printable characters.\n",
    "   - Byte strings are more memory-efficient compared to Unicode strings."
   ]
  },
  {
   "cell_type": "code",
   "execution_count": 20,
   "metadata": {},
   "outputs": [
    {
     "data": {
      "text/plain": [
       "array([b'Hello', b'World'], dtype='|S10')"
      ]
     },
     "execution_count": 20,
     "metadata": {},
     "output_type": "execute_result"
    }
   ],
   "source": [
    "arr = np.array(['Hello', 'World'], dtype='S10')\n",
    "arr"
   ]
  },
  {
   "cell_type": "markdown",
   "metadata": {},
   "source": [
    "2. **'U' Data Type (Unicode Strings)**:\n",
    "   - The 'U' data type represents fixed-length Unicode strings.\n",
    "   - It is specified as 'U<n>', where '<n>' is the number of characters (not bytes) per string element.\n",
    "   - Unicode strings are stored using a specific character encoding (default is UTF-32).\n",
    "   - They can represent a wide range of characters from various scripts and languages.\n",
    "   - Unicode strings require more memory compared to byte strings."
   ]
  },
  {
   "cell_type": "code",
   "execution_count": 21,
   "metadata": {},
   "outputs": [
    {
     "data": {
      "text/plain": [
       "array(['Hello', 'World'], dtype='<U10')"
      ]
     },
     "execution_count": 21,
     "metadata": {},
     "output_type": "execute_result"
    }
   ],
   "source": [
    "arr = np.array(['Hello', 'World'], dtype='U10')\n",
    "arr"
   ]
  },
  {
   "cell_type": "markdown",
   "metadata": {},
   "source": [
    "The main differences between 'S' and 'U' data types are:\n",
    "- 'S' represents byte strings, while 'U' represents Unicode strings.\n",
    "- 'S' is specified in terms of bytes, while 'U' is specified in terms of characters.\n",
    "- 'S' can contain arbitrary binary data, while 'U' is designed to store text data.\n",
    "- 'S' is more memory-efficient, while 'U' can handle a wider range of characters.\n"
   ]
  },
  {
   "cell_type": "markdown",
   "metadata": {},
   "source": [
    "When choosing between 'S' and 'U', consider the following:\n",
    "- If you are working with ASCII text or raw binary data, use the 'S' data type.\n",
    "- If you need to handle non-ASCII characters or multilingual text, use the 'U' data type.\n",
    "- Be aware of the memory implications, as Unicode strings require more memory than byte strings.\n"
   ]
  },
  {
   "cell_type": "markdown",
   "metadata": {},
   "source": [
    "It's important to note that NumPy's string data types have fixed lengths. If you need variable-length strings, you can use Python's built-in string objects or other libraries like pandas, which provide more flexible string handling capabilities."
   ]
  },
  {
   "cell_type": "markdown",
   "metadata": {},
   "source": [
    "Here's an example of creating a string array:\n"
   ]
  },
  {
   "cell_type": "code",
   "execution_count": 22,
   "metadata": {},
   "outputs": [
    {
     "data": {
      "text/plain": [
       "array([b'apple', b'banana', b'cherry'], dtype='|S10')"
      ]
     },
     "execution_count": 22,
     "metadata": {},
     "output_type": "execute_result"
    }
   ],
   "source": [
    "arr = np.array(['apple', 'banana', 'cherry'], dtype='S10')\n",
    "arr"
   ]
  },
  {
   "cell_type": "markdown",
   "metadata": {},
   "source": [
    "In this example, we create a string array `arr` with a maximum string length of 10 characters. The `dtype='S10'` specifies that the array should contain strings with a maximum length of 10 characters.\n"
   ]
  },
  {
   "cell_type": "markdown",
   "metadata": {},
   "source": [
    "It's important to note that the maximum string length specified in the `dtype` parameter determines the memory allocated for each string element in the array. If you assign a string longer than the specified length, it will be truncated to fit within the allocated memory.\n"
   ]
  },
  {
   "cell_type": "markdown",
   "metadata": {},
   "source": [
    "### [String Operations](#)\n"
   ]
  },
  {
   "cell_type": "markdown",
   "metadata": {},
   "source": [
    "NumPy provides several functions and methods to perform operations on string arrays. Here are a few commonly used string operations:\n"
   ]
  },
  {
   "cell_type": "markdown",
   "metadata": {},
   "source": [
    "1. **Comparison operations:**\n",
    "   You can use comparison operators such as `==`, `!=`, `<`, `>`, `<=`, `>=` to compare string arrays element-wise.\n"
   ]
  },
  {
   "cell_type": "code",
   "execution_count": 23,
   "metadata": {},
   "outputs": [],
   "source": [
    "arr = np.array(['apple', 'banana', 'cherry'])"
   ]
  },
  {
   "cell_type": "code",
   "execution_count": 24,
   "metadata": {},
   "outputs": [
    {
     "data": {
      "text/plain": [
       "array([False,  True, False])"
      ]
     },
     "execution_count": 24,
     "metadata": {},
     "output_type": "execute_result"
    }
   ],
   "source": [
    "arr == 'banana'"
   ]
  },
  {
   "cell_type": "code",
   "execution_count": 25,
   "metadata": {},
   "outputs": [
    {
     "data": {
      "text/plain": [
       "array([ True,  True, False])"
      ]
     },
     "execution_count": 25,
     "metadata": {},
     "output_type": "execute_result"
    }
   ],
   "source": [
    "arr < 'cherry'"
   ]
  },
  {
   "cell_type": "markdown",
   "metadata": {},
   "source": [
    "2. **Concatenation:**\n",
    "   You can concatenate string arrays using the `np.char.add()` function.\n"
   ]
  },
  {
   "cell_type": "code",
   "execution_count": 26,
   "metadata": {},
   "outputs": [],
   "source": [
    "arr1 = np.array(['apple', 'banana'])\n",
    "arr2 = np.array(['pie', 'split'])"
   ]
  },
  {
   "cell_type": "code",
   "execution_count": 27,
   "metadata": {},
   "outputs": [
    {
     "data": {
      "text/plain": [
       "array(['applepie', 'bananasplit'], dtype='<U11')"
      ]
     },
     "execution_count": 27,
     "metadata": {},
     "output_type": "execute_result"
    }
   ],
   "source": [
    "np.char.add(arr1, arr2)"
   ]
  },
  {
   "cell_type": "markdown",
   "metadata": {},
   "source": [
    "3. **Substring search:**\n",
    "   You can check if a substring exists in each element of a string array using the `np.char.find()` function.\n"
   ]
  },
  {
   "cell_type": "code",
   "execution_count": 28,
   "metadata": {},
   "outputs": [
    {
     "data": {
      "text/plain": [
       "array([ 0,  1, -1])"
      ]
     },
     "execution_count": 28,
     "metadata": {},
     "output_type": "execute_result"
    }
   ],
   "source": [
    "arr = np.array(['apple', 'banana', 'cherry'])\n",
    "\n",
    "np.char.find(arr, 'a')"
   ]
  },
  {
   "cell_type": "markdown",
   "metadata": {},
   "source": [
    "   The `np.char.find()` function returns the index of the first occurrence of the substring in each element. If the substring is not found, it returns -1.\n"
   ]
  },
  {
   "cell_type": "markdown",
   "metadata": {},
   "source": [
    "4. **String manipulation:**\n",
    "   NumPy provides various functions for string manipulation, such as `np.char.upper()`, `np.char.lower()`, `np.char.title()`, `np.char.strip()`, etc.\n"
   ]
  },
  {
   "cell_type": "code",
   "execution_count": 29,
   "metadata": {},
   "outputs": [
    {
     "data": {
      "text/plain": [
       "array(['APPLE', 'BANANA', 'CHERRY'], dtype='<U6')"
      ]
     },
     "execution_count": 29,
     "metadata": {},
     "output_type": "execute_result"
    }
   ],
   "source": [
    "arr = np.array(['apple', 'BANANA', 'Cherry'])\n",
    "\n",
    "np.char.upper(arr)"
   ]
  },
  {
   "cell_type": "code",
   "execution_count": 30,
   "metadata": {},
   "outputs": [
    {
     "data": {
      "text/plain": [
       "array(['Apple', 'Banana', 'Cherry'], dtype='<U6')"
      ]
     },
     "execution_count": 30,
     "metadata": {},
     "output_type": "execute_result"
    }
   ],
   "source": [
    "np.char.title(arr)"
   ]
  },
  {
   "cell_type": "markdown",
   "metadata": {},
   "source": [
    "These are just a few examples of string operations available in NumPy. NumPy provides a wide range of functions in the `np.char` module for string manipulation, searching, and comparison.\n"
   ]
  },
  {
   "cell_type": "markdown",
   "metadata": {},
   "source": [
    "It's worth noting that string operations in NumPy are generally less efficient compared to numerical operations. If you need to perform extensive string processing, it might be more suitable to use other libraries such as pandas or Python's built-in string methods.\n"
   ]
  },
  {
   "cell_type": "markdown",
   "metadata": {},
   "source": [
    "## [Object Data Type](#)"
   ]
  },
  {
   "cell_type": "markdown",
   "metadata": {},
   "source": [
    "In NumPy, `np.object` (or `numpy.object_`) is a data type that allows arrays to hold objects of arbitrary Python types. This is particularly useful when dealing with heterogeneous data, where the elements of the array are not of the same type or when the elements are themselves Python objects.\n"
   ]
  },
  {
   "cell_type": "markdown",
   "metadata": {},
   "source": [
    "Key Points:\n",
    "\n",
    "1. **Flexibility**:\n",
    "   - `np.object` arrays can store any type of Python object, including lists, tuples, dictionaries, custom objects, etc.\n",
    "   - This is in contrast to other NumPy data types (like `np.int32`, `np.float64`, etc.) which are designed to hold elements of a specific type for efficient numerical computation.\n",
    "\n",
    "2. **Performance**:\n",
    "   - While `np.object` provides flexibility, it comes at the cost of performance. Operations on `np.object` arrays are generally slower compared to arrays of numerical types because the elements are Python objects and not raw numbers.\n",
    "\n",
    "3. **Memory Usage**:\n",
    "   - `np.object` arrays may use more memory since each element is a reference to a Python object, which includes additional overhead.\n",
    "\n",
    "4. **Usage**:\n",
    "   - `np.object` is often used when you need to store a mix of data types or when you need to include complex objects within a NumPy array.\n"
   ]
  },
  {
   "cell_type": "markdown",
   "metadata": {},
   "source": [
    "Here is a simple example of creating and using a `np.object` array:\n"
   ]
  },
  {
   "cell_type": "code",
   "execution_count": 31,
   "metadata": {},
   "outputs": [
    {
     "data": {
      "text/plain": [
       "array([1, 'apple', list([3, 4, 5]), {'key': 'value'}], dtype=object)"
      ]
     },
     "execution_count": 31,
     "metadata": {},
     "output_type": "execute_result"
    }
   ],
   "source": [
    "# Creating an array with np.object type\n",
    "obj_array = np.array([1, \"apple\", [3, 4, 5], {\"key\": \"value\"}], dtype=np.object_)\n",
    "obj_array"
   ]
  },
  {
   "cell_type": "code",
   "execution_count": 32,
   "metadata": {},
   "outputs": [
    {
     "data": {
      "text/plain": [
       "'apple'"
      ]
     },
     "execution_count": 32,
     "metadata": {},
     "output_type": "execute_result"
    }
   ],
   "source": [
    "# Accessing elements\n",
    "obj_array[1]\n"
   ]
  },
  {
   "cell_type": "code",
   "execution_count": 33,
   "metadata": {},
   "outputs": [
    {
     "data": {
      "text/plain": [
       "[3, 4, 5]"
      ]
     },
     "execution_count": 33,
     "metadata": {},
     "output_type": "execute_result"
    }
   ],
   "source": [
    "obj_array[2]"
   ]
  },
  {
   "cell_type": "markdown",
   "metadata": {},
   "source": [
    "**When to Use:**\n",
    "\n",
    "- Use `np.object` when you need to store non-uniform data.\n",
    "- It's useful for quick prototyping or when dealing with data that inherently contains mixed types.\n",
    "- For numerical computations, prefer using fixed-type arrays for better performance and efficiency."
   ]
  },
  {
   "cell_type": "markdown",
   "metadata": {},
   "source": [
    "**Transition to NumPy 1.20 and Beyond:**\n",
    "\n",
    "- Note that starting with NumPy 1.20, the use of `np.object` is deprecated and `np.object_` should be used instead.\n",
    "- This change is part of a broader effort to deprecate old aliases and promote the use of explicit data types.\n"
   ]
  },
  {
   "cell_type": "markdown",
   "metadata": {},
   "source": [
    "In summary, `np.object` (or `np.object_`) is a versatile data type in NumPy for handling arrays with heterogeneous types, though it should be used with caution due to performance considerations."
   ]
  },
  {
   "cell_type": "markdown",
   "metadata": {},
   "source": [
    "## [Structured Data Types](#)"
   ]
  },
  {
   "cell_type": "markdown",
   "metadata": {},
   "source": [
    "NumPy allows you to create structured arrays, which are arrays with multiple fields of different data types. Structured arrays are similar to C structures or SQL database tables, where each element of the array can contain multiple named fields with different data types.\n"
   ]
  },
  {
   "cell_type": "markdown",
   "metadata": {},
   "source": [
    "### [Creating Structured Arrays](#)\n"
   ]
  },
  {
   "cell_type": "markdown",
   "metadata": {},
   "source": [
    "To create a structured array in NumPy, you need to define a data type that specifies the names and data types of the fields. You can define the data type using a list of tuples, where each tuple contains the field name and its corresponding data type.\n"
   ]
  },
  {
   "cell_type": "markdown",
   "metadata": {},
   "source": [
    "Structured arrays are useful for organizing and manipulating complex data sets in NumPy. They provide a way to store and access data in a tabular format, similar to a database table or a spreadsheet. For example, consider titanic dataset where each row represents a passenger and columns represent different attributes like age, sex, fare, etc. In such cases, structured arrays can be used to represent the data in a structured format."
   ]
  },
  {
   "cell_type": "markdown",
   "metadata": {},
   "source": [
    "<img src=\"../images/titanic.png\" width=\"800\">"
   ]
  },
  {
   "cell_type": "markdown",
   "metadata": {},
   "source": [
    "Here's an example of creating a structured array:\n"
   ]
  },
  {
   "cell_type": "code",
   "execution_count": 34,
   "metadata": {},
   "outputs": [
    {
     "data": {
      "text/plain": [
       "array([(b'John', 25, 1.8), (b'Alice', 30, 1.6), (b'Bob', 20, 1.7)],\n",
       "      dtype=[('name', 'S10'), ('age', '<i4'), ('height', '<f8')])"
      ]
     },
     "execution_count": 34,
     "metadata": {},
     "output_type": "execute_result"
    }
   ],
   "source": [
    "data_type = [('name', 'S10'), ('age', 'i4'), ('height', 'f8')]\n",
    "arr = np.array([('John', 25, 1.8), ('Alice', 30, 1.6), ('Bob', 20, 1.7)], dtype=data_type)\n",
    "arr"
   ]
  },
  {
   "cell_type": "markdown",
   "metadata": {},
   "source": [
    "In this example, we define a data type `data_type` that consists of three fields: 'name' (a string of maximum length 10), 'age' (a 32-bit integer), and 'height' (a 64-bit floating-point number).\n"
   ]
  },
  {
   "cell_type": "markdown",
   "metadata": {},
   "source": [
    "We then create a structured array `arr` using `np.array()` and specify the `dtype` parameter as `data_type`. The array is initialized with three elements, each containing the values for the respective fields.\n"
   ]
  },
  {
   "cell_type": "markdown",
   "metadata": {},
   "source": [
    "You can also create a structured array using a dictionary-like syntax:\n"
   ]
  },
  {
   "cell_type": "code",
   "execution_count": 35,
   "metadata": {},
   "outputs": [
    {
     "data": {
      "text/plain": [
       "array([(1, 2.5, b'hello'), (2, 3.7, b'world')],\n",
       "      dtype=[('id', '<i4'), ('value', '<f4'), ('label', 'S10')])"
      ]
     },
     "execution_count": 35,
     "metadata": {},
     "output_type": "execute_result"
    }
   ],
   "source": [
    "np.array([(1, 2.5, 'hello'), (2, 3.7, 'world')], dtype=[('id', 'i4'), ('value', 'f4'), ('label', 'S10')])\n"
   ]
  },
  {
   "cell_type": "markdown",
   "metadata": {},
   "source": [
    "In this example, we create a structured array `arr` by directly specifying the field names and their corresponding data types using a list of tuples.\n"
   ]
  },
  {
   "cell_type": "markdown",
   "metadata": {},
   "source": [
    "### [Accessing Fields in Structured Arrays](#)\n"
   ]
  },
  {
   "cell_type": "markdown",
   "metadata": {},
   "source": [
    "Once you have created a structured array, you can access individual fields of the array using either the field names or field indices.\n"
   ]
  },
  {
   "cell_type": "markdown",
   "metadata": {},
   "source": [
    "To access a field by its name, you can use the dot notation:\n"
   ]
  },
  {
   "cell_type": "code",
   "execution_count": 36,
   "metadata": {},
   "outputs": [],
   "source": [
    "data_type = [('name', 'S10'), ('age', 'i4'), ('height', 'f8')]\n",
    "arr = np.array([('John', 25, 1.8), ('Alice', 30, 1.6), ('Bob', 20, 1.7)], dtype=data_type)"
   ]
  },
  {
   "cell_type": "code",
   "execution_count": 37,
   "metadata": {},
   "outputs": [
    {
     "data": {
      "text/plain": [
       "array([b'John', b'Alice', b'Bob'], dtype='|S10')"
      ]
     },
     "execution_count": 37,
     "metadata": {},
     "output_type": "execute_result"
    }
   ],
   "source": [
    "arr['name']"
   ]
  },
  {
   "cell_type": "code",
   "execution_count": 38,
   "metadata": {},
   "outputs": [
    {
     "data": {
      "text/plain": [
       "array([25, 30, 20], dtype=int32)"
      ]
     },
     "execution_count": 38,
     "metadata": {},
     "output_type": "execute_result"
    }
   ],
   "source": [
    "arr['age']"
   ]
  },
  {
   "cell_type": "code",
   "execution_count": 39,
   "metadata": {},
   "outputs": [
    {
     "data": {
      "text/plain": [
       "array([1.8, 1.6, 1.7])"
      ]
     },
     "execution_count": 39,
     "metadata": {},
     "output_type": "execute_result"
    }
   ],
   "source": [
    "arr['height']"
   ]
  },
  {
   "cell_type": "markdown",
   "metadata": {},
   "source": [
    "In this example, we access the 'name', 'age', and 'height' fields of the structured array `arr` using the dot notation. The resulting arrays `names`, `ages`, and `heights` contain the values of the respective fields for each element.\n"
   ]
  },
  {
   "cell_type": "markdown",
   "metadata": {},
   "source": [
    "You can also access fields using field indices:\n"
   ]
  },
  {
   "cell_type": "code",
   "execution_count": 40,
   "metadata": {},
   "outputs": [],
   "source": [
    "data_type = [('name', 'S10'), ('age', 'i4'), ('height', 'f8')]\n",
    "arr = np.array([('John', 25, 1.8), ('Alice', 30, 1.6), ('Bob', 20, 1.7)], dtype=data_type)"
   ]
  },
  {
   "cell_type": "code",
   "execution_count": 41,
   "metadata": {},
   "outputs": [
    {
     "data": {
      "text/plain": [
       "(b'John', 25, 1.8)"
      ]
     },
     "execution_count": 41,
     "metadata": {},
     "output_type": "execute_result"
    }
   ],
   "source": [
    "arr[0]"
   ]
  },
  {
   "cell_type": "code",
   "execution_count": 42,
   "metadata": {},
   "outputs": [
    {
     "data": {
      "text/plain": [
       "(b'Alice', 30, 1.6)"
      ]
     },
     "execution_count": 42,
     "metadata": {},
     "output_type": "execute_result"
    }
   ],
   "source": [
    "arr[1]"
   ]
  },
  {
   "cell_type": "markdown",
   "metadata": {},
   "source": [
    "In this example, we access the fields of the structured array `arr` using field indices. `arr[0]` returns the first field ('name') of each element, and `arr[1]` returns the second field ('age') of each element.\n"
   ]
  },
  {
   "cell_type": "markdown",
   "metadata": {},
   "source": [
    "Structured arrays provide a convenient way to store and manipulate heterogeneous data in a single array. They allow you to organize and access data based on named fields, making it easier to work with complex data structures.\n"
   ]
  },
  {
   "cell_type": "markdown",
   "metadata": {},
   "source": [
    "Structured arrays are particularly useful when you need to store and process data that consists of multiple attributes or fields, such as database records or tabular data.\n"
   ]
  },
  {
   "cell_type": "markdown",
   "metadata": {},
   "source": [
    "## [Casting Data Types](#)"
   ]
  },
  {
   "cell_type": "markdown",
   "metadata": {},
   "source": [
    "In NumPy, you can cast arrays from one data type to another. Casting data types is useful when you need to convert an array to a different data type to perform certain operations or to save memory.\n"
   ]
  },
  {
   "cell_type": "markdown",
   "metadata": {},
   "source": [
    "NumPy provides two main ways to cast data types: implicit type casting and explicit type casting.\n"
   ]
  },
  {
   "cell_type": "markdown",
   "metadata": {},
   "source": [
    "### [Implicit Type Casting](#)\n"
   ]
  },
  {
   "cell_type": "markdown",
   "metadata": {},
   "source": [
    "Implicit type casting, also known as upcasting, occurs automatically when NumPy performs an operation between arrays with different data types. NumPy promotes the data type of the resulting array to a type that can accommodate all possible values without losing precision.\n"
   ]
  },
  {
   "cell_type": "markdown",
   "metadata": {},
   "source": [
    "Here are the rules for implicit type casting in NumPy:\n",
    "\n",
    "1. When an operation involves arrays of the same data type, the resulting array maintains the same data type.\n",
    "2. When an operation involves arrays of different data types, NumPy promotes the data type to a higher precision or a more general type that can represent all values.\n"
   ]
  },
  {
   "cell_type": "markdown",
   "metadata": {},
   "source": [
    "The type promotion hierarchy in NumPy is as follows:\n"
   ]
  },
  {
   "cell_type": "markdown",
   "metadata": {},
   "source": [
    "```\n",
    "bool -> int -> float -> complex -> str\n",
    "```\n"
   ]
  },
  {
   "cell_type": "markdown",
   "metadata": {},
   "source": [
    "For example, when you perform an operation between an integer array and a floating-point array, the resulting array will be of the floating-point data type.\n"
   ]
  },
  {
   "cell_type": "code",
   "execution_count": 43,
   "metadata": {},
   "outputs": [],
   "source": [
    "arr_int = np.array([1, 2, 3])\n",
    "arr_float = np.array([1.5, 2.5, 3.5])"
   ]
  },
  {
   "cell_type": "code",
   "execution_count": 44,
   "metadata": {},
   "outputs": [
    {
     "data": {
      "text/plain": [
       "array([2.5, 4.5, 6.5])"
      ]
     },
     "execution_count": 44,
     "metadata": {},
     "output_type": "execute_result"
    }
   ],
   "source": [
    "arr_int + arr_float"
   ]
  },
  {
   "cell_type": "markdown",
   "metadata": {},
   "source": [
    "In this example, `arr_int` is an integer array, and `arr_float` is a floating-point array. When the addition operation is performed, NumPy implicitly casts the integer array to a floating-point array, and the resulting array `result` is of the floating-point data type.\n"
   ]
  },
  {
   "cell_type": "markdown",
   "metadata": {},
   "source": [
    "### [Explicit Type Casting](#)\n"
   ]
  },
  {
   "cell_type": "markdown",
   "metadata": {},
   "source": [
    "Explicit type casting, also known as type conversion or downcasting, allows you to explicitly convert an array from one data type to another using the `astype()` method or by specifying the desired data type during array creation.\n"
   ]
  },
  {
   "cell_type": "markdown",
   "metadata": {},
   "source": [
    "To cast an array to a different data type using the `astype()` method, you can pass the desired data type as an argument:\n"
   ]
  },
  {
   "cell_type": "code",
   "execution_count": 45,
   "metadata": {},
   "outputs": [],
   "source": [
    "arr_float = np.array([1.5, 2.5, 3.5])"
   ]
  },
  {
   "cell_type": "code",
   "execution_count": 46,
   "metadata": {},
   "outputs": [
    {
     "data": {
      "text/plain": [
       "array([1, 2, 3])"
      ]
     },
     "execution_count": 46,
     "metadata": {},
     "output_type": "execute_result"
    }
   ],
   "source": [
    "arr_float.astype(int)"
   ]
  },
  {
   "cell_type": "code",
   "execution_count": 47,
   "metadata": {},
   "outputs": [
    {
     "data": {
      "text/plain": [
       "array(['1.5', '2.5', '3.5'], dtype='<U32')"
      ]
     },
     "execution_count": 47,
     "metadata": {},
     "output_type": "execute_result"
    }
   ],
   "source": [
    "arr_float.astype(str)"
   ]
  },
  {
   "cell_type": "markdown",
   "metadata": {},
   "source": [
    "In this example, `arr_float` is a floating-point array. We use the `astype()` method to explicitly cast `arr_float` to an integer array `arr_int` and a string array `arr_str`.\n"
   ]
  },
  {
   "cell_type": "markdown",
   "metadata": {},
   "source": [
    "You can also specify the desired data type during array creation using the `dtype` parameter:\n"
   ]
  },
  {
   "cell_type": "code",
   "execution_count": 48,
   "metadata": {},
   "outputs": [
    {
     "data": {
      "text/plain": [
       "array([1, 2, 3])"
      ]
     },
     "execution_count": 48,
     "metadata": {},
     "output_type": "execute_result"
    }
   ],
   "source": [
    "np.array([1.5, 2.5, 3.5], dtype=int)"
   ]
  },
  {
   "cell_type": "code",
   "execution_count": 49,
   "metadata": {},
   "outputs": [
    {
     "data": {
      "text/plain": [
       "array(['1.5', '2.5', '3.5'], dtype='<U3')"
      ]
     },
     "execution_count": 49,
     "metadata": {},
     "output_type": "execute_result"
    }
   ],
   "source": [
    "np.array([1.5, 2.5, 3.5], dtype=str)"
   ]
  },
  {
   "cell_type": "markdown",
   "metadata": {},
   "source": [
    "In this example, we create arrays `arr_int` and `arr_str` by specifying the desired data types (`int` and `str`) using the `dtype` parameter.\n"
   ]
  },
  {
   "cell_type": "markdown",
   "metadata": {},
   "source": [
    "It's important to note that explicit type casting can lead to loss of precision or information if the target data type cannot represent the original values accurately. For example, casting a floating-point array to an integer array will truncate the decimal parts of the numbers.\n"
   ]
  },
  {
   "cell_type": "markdown",
   "metadata": {},
   "source": [
    "When casting data types, you should consider the range and precision of the target data type to ensure that the conversion is appropriate for your specific use case.\n"
   ]
  },
  {
   "cell_type": "markdown",
   "metadata": {},
   "source": [
    "Casting data types allows you to convert arrays to different data types based on your requirements, whether it's to perform specific operations, save memory, or ensure compatibility with other libraries or functions.\n"
   ]
  },
  {
   "cell_type": "markdown",
   "metadata": {},
   "source": [
    "## [Memory Considerations](#)"
   ]
  },
  {
   "cell_type": "markdown",
   "metadata": {},
   "source": [
    "When working with large datasets in NumPy, memory usage becomes an important consideration. Different data types consume different amounts of memory, and choosing the appropriate data type can significantly impact the memory footprint of your arrays.\n"
   ]
  },
  {
   "cell_type": "markdown",
   "metadata": {},
   "source": [
    "### [Memory Usage of Different Data Types](#)\n"
   ]
  },
  {
   "cell_type": "markdown",
   "metadata": {},
   "source": [
    "Each data type in NumPy has a specific size in bytes. The memory usage of an array depends on the number of elements in the array and the size of each element's data type.\n"
   ]
  },
  {
   "cell_type": "markdown",
   "metadata": {},
   "source": [
    "Here are the sizes of some common NumPy data types:\n",
    "\n",
    "- `bool`: 1 byte\n",
    "- `int8`, `uint8`: 1 byte\n",
    "- `int16`, `uint16`: 2 bytes\n",
    "- `int32`, `uint32`, `float32`: 4 bytes\n",
    "- `int64`, `uint64`, `float64` (default): 8 bytes\n",
    "- `complex64`: 8 bytes (4 bytes for real part, 4 bytes for imaginary part)\n",
    "- `complex128`: 16 bytes (8 bytes for real part, 8 bytes for imaginary part)\n"
   ]
  },
  {
   "cell_type": "markdown",
   "metadata": {},
   "source": [
    "To calculate the memory usage of an array, you can multiply the number of elements in the array by the size of the data type. For example, an array of 1 million `float64` elements would consume approximately 8 MB of memory (1,000,000 * 8 bytes).\n"
   ]
  },
  {
   "cell_type": "markdown",
   "metadata": {},
   "source": [
    "You can check the memory usage of an array using the `nbytes` attribute:"
   ]
  },
  {
   "cell_type": "code",
   "execution_count": 50,
   "metadata": {},
   "outputs": [
    {
     "data": {
      "text/plain": [
       "8000000"
      ]
     },
     "execution_count": 50,
     "metadata": {},
     "output_type": "execute_result"
    }
   ],
   "source": [
    "arr = np.zeros((1000, 1000), dtype=np.float64)  # 8000000 (8 MB)\n",
    "arr.nbytes"
   ]
  },
  {
   "cell_type": "markdown",
   "metadata": {},
   "source": [
    "In this example, `arr` is a 2D array with 1 million elements of type `float64`. The `nbytes` attribute returns the total number of bytes consumed by the array, which is 8,000,000 bytes (8 MB).\n"
   ]
  },
  {
   "cell_type": "markdown",
   "metadata": {},
   "source": [
    "### [Choosing the Right Data Type](#)\n"
   ]
  },
  {
   "cell_type": "markdown",
   "metadata": {},
   "source": [
    "Choosing the appropriate data type is crucial for optimizing memory usage and performance in NumPy. Here are some guidelines to help you choose the right data type:\n",
    "\n",
    "1. **Precision**: Consider the required precision for your data. If you don't need high precision, you can use smaller data types like `float32` instead of `float64`, or `int16` instead of `int32`. Smaller data types consume less memory.\n",
    "\n",
    "2. **Range**: Ensure that the data type you choose can accommodate the range of values in your data. For example, if your data contains integer values between -128 and 127, you can use `int8` instead of `int32` to save memory.\n",
    "\n",
    "3. **Memory constraints**: If you are working with large datasets and have limited memory resources, consider using smaller data types or even boolean arrays when applicable. For example, if you have a large array of integer values that can be represented as 0 or 1, using a boolean array (`bool`) instead of an integer array can significantly reduce memory usage.\n",
    "\n",
    "4. **Compatibility**: Consider the data types required by the libraries or functions you are using. Some libraries may expect specific data types, and using incompatible data types can lead to errors or unexpected behavior.\n",
    "\n",
    "5. **Performance**: In some cases, using larger data types can lead to better performance due to hardware optimization. For example, using `float64` instead of `float32` may be faster on certain architectures. However, this depends on the specific hardware and the nature of the computations being performed.\n"
   ]
  },
  {
   "cell_type": "markdown",
   "metadata": {},
   "source": [
    "Here's an example that demonstrates the impact of data type choice on memory usage:\n"
   ]
  },
  {
   "cell_type": "code",
   "execution_count": 51,
   "metadata": {},
   "outputs": [],
   "source": [
    "arr_float64 = np.zeros((1000, 1000), dtype=np.float64)\n",
    "arr_float32 = np.zeros((1000, 1000), dtype=np.float32)"
   ]
  },
  {
   "cell_type": "code",
   "execution_count": 52,
   "metadata": {},
   "outputs": [
    {
     "data": {
      "text/plain": [
       "8000000"
      ]
     },
     "execution_count": 52,
     "metadata": {},
     "output_type": "execute_result"
    }
   ],
   "source": [
    "arr_float64.nbytes  # 8000000 (8 MB)"
   ]
  },
  {
   "cell_type": "code",
   "execution_count": 53,
   "metadata": {},
   "outputs": [
    {
     "data": {
      "text/plain": [
       "4000000"
      ]
     },
     "execution_count": 53,
     "metadata": {},
     "output_type": "execute_result"
    }
   ],
   "source": [
    "arr_float32.nbytes  # 4000000 (4 MB)"
   ]
  },
  {
   "cell_type": "markdown",
   "metadata": {},
   "source": [
    "In this example, `arr_float64` uses `float64` data type and consumes 8 MB of memory, while `arr_float32` uses `float32` data type and consumes 4 MB of memory. By choosing the `float32` data type, we can reduce the memory usage by half without losing much precision in most cases.\n"
   ]
  },
  {
   "cell_type": "markdown",
   "metadata": {},
   "source": [
    "It's important to strike a balance between memory usage and the required precision and range for your specific application. Choosing the appropriate data type can help you optimize memory usage and make efficient use of system resources.\n"
   ]
  },
  {
   "cell_type": "markdown",
   "metadata": {},
   "source": [
    "## [Best Practices and Tips](#)"
   ]
  },
  {
   "cell_type": "markdown",
   "metadata": {},
   "source": [
    "When working with NumPy data types, following best practices and tips can help you write more efficient and maintainable code. In this section, we'll discuss two important best practices: specifying data types explicitly and avoiding unnecessary type casting.\n"
   ]
  },
  {
   "cell_type": "markdown",
   "metadata": {},
   "source": [
    "### [Specifying Data Types Explicitly](#)\n"
   ]
  },
  {
   "cell_type": "markdown",
   "metadata": {},
   "source": [
    "One of the best practices when creating NumPy arrays is to specify the data type explicitly using the `dtype` parameter. By explicitly specifying the data type, you can ensure that your arrays have the desired type from the beginning, avoiding potential issues and unexpected behavior.\n"
   ]
  },
  {
   "cell_type": "markdown",
   "metadata": {},
   "source": [
    "Here are a few reasons why specifying data types explicitly is beneficial:\n",
    "\n",
    "1. **Memory usage**: By specifying the data type explicitly, you have control over the memory usage of your arrays. You can choose the appropriate data type that fits your data and memory constraints, avoiding unnecessary memory consumption.\n",
    "\n",
    "2. **Performance**: Specifying the data type explicitly can lead to better performance in certain cases. NumPy can optimize computations based on the known data type, leading to faster execution times.\n",
    "\n",
    "3. **Consistency**: When you specify the data type explicitly, you ensure that your arrays have a consistent data type throughout your codebase. This can prevent subtle bugs and make your code more maintainable.\n"
   ]
  },
  {
   "cell_type": "markdown",
   "metadata": {},
   "source": [
    "Here's an example that demonstrates specifying data types explicitly:\n"
   ]
  },
  {
   "cell_type": "code",
   "execution_count": 54,
   "metadata": {},
   "outputs": [],
   "source": [
    "# Specifying data type explicitly\n",
    "arr1 = np.array([1, 2, 3], dtype=np.int32)\n",
    "arr2 = np.array([1.5, 2.5, 3.5], dtype=np.float64)"
   ]
  },
  {
   "cell_type": "code",
   "execution_count": 55,
   "metadata": {},
   "outputs": [],
   "source": [
    "# Creating arrays without specifying data type\n",
    "arr3 = np.array([1, 2, 3])\n",
    "arr4 = np.array([1.5, 2.5, 3.5])"
   ]
  },
  {
   "cell_type": "markdown",
   "metadata": {},
   "source": [
    "In this example, `arr1` and `arr2` are created with explicit data types (`int32` and `float64` respectively), while `arr3` and `arr4` are created without specifying the data type. By specifying the data type explicitly, you have control over the type of the arrays from the beginning.\n"
   ]
  },
  {
   "cell_type": "markdown",
   "metadata": {},
   "source": [
    "### [Avoiding Unnecessary Type Casting](#)\n"
   ]
  },
  {
   "cell_type": "markdown",
   "metadata": {},
   "source": [
    "Another best practice is to avoid unnecessary type casting whenever possible. Type casting, especially explicit type casting, can introduce overhead and impact performance if done frequently or on large arrays.\n"
   ]
  },
  {
   "cell_type": "markdown",
   "metadata": {},
   "source": [
    "Here are a few tips to avoid unnecessary type casting:\n",
    "\n",
    "1. **Choose the appropriate data type upfront**: When creating arrays, choose the appropriate data type that suits your data and requirements from the beginning. This can help avoid the need for type casting later on.\n",
    "\n",
    "2. **Perform operations with compatible data types**: When performing operations between arrays, ensure that the arrays have compatible data types. NumPy's implicit type casting will handle the necessary conversions automatically, avoiding the need for explicit type casting.\n",
    "\n",
    "3. **Use the appropriate functions and methods**: NumPy provides functions and methods that can handle different data types automatically. For example, instead of explicitly casting arrays to perform mathematical operations, you can use NumPy functions like `np.sum()`, `np.mean()`, etc., which can handle different data types internally.\n"
   ]
  },
  {
   "cell_type": "markdown",
   "metadata": {},
   "source": [
    "Here's an example that demonstrates avoiding unnecessary type casting:\n"
   ]
  },
  {
   "cell_type": "code",
   "execution_count": 56,
   "metadata": {},
   "outputs": [
    {
     "data": {
      "text/plain": [
       "6"
      ]
     },
     "execution_count": 56,
     "metadata": {},
     "output_type": "execute_result"
    }
   ],
   "source": [
    "# Unnecessary type casting\n",
    "arr1 = np.array([1.5, 2.5, 3.5])\n",
    "arr2 = arr1.astype(np.int32)\n",
    "np.sum(arr2)"
   ]
  },
  {
   "cell_type": "code",
   "execution_count": 57,
   "metadata": {},
   "outputs": [
    {
     "data": {
      "text/plain": [
       "7.5"
      ]
     },
     "execution_count": 57,
     "metadata": {},
     "output_type": "execute_result"
    }
   ],
   "source": [
    "# Avoiding unnecessary type casting\n",
    "arr3 = np.array([1.5, 2.5, 3.5])\n",
    "np.sum(arr3)"
   ]
  },
  {
   "cell_type": "markdown",
   "metadata": {},
   "source": [
    "In the first example, `arr1` is explicitly cast to `int32` before computing the sum, which is unnecessary. In the second example, we directly compute the sum of `arr3` without any explicit type casting, letting NumPy handle the appropriate type internally.\n"
   ]
  },
  {
   "cell_type": "markdown",
   "metadata": {},
   "source": [
    "By avoiding unnecessary type casting, you can improve the performance and readability of your code. However, there may be cases where explicit type casting is necessary, such as when integrating with other libraries or when you need to ensure a specific data type for certain operations.\n"
   ]
  },
  {
   "cell_type": "markdown",
   "metadata": {},
   "source": [
    "It's important to profile and benchmark your code to identify performance bottlenecks and make informed decisions about when to use explicit type casting.\n"
   ]
  }
 ],
 "metadata": {
  "kernelspec": {
   "display_name": "py310",
   "language": "python",
   "name": "python3"
  },
  "language_info": {
   "codemirror_mode": {
    "name": "ipython",
    "version": 3
   },
   "file_extension": ".py",
   "mimetype": "text/x-python",
   "name": "python",
   "nbconvert_exporter": "python",
   "pygments_lexer": "ipython3",
   "version": "3.10.12"
  }
 },
 "nbformat": 4,
 "nbformat_minor": 2
}
