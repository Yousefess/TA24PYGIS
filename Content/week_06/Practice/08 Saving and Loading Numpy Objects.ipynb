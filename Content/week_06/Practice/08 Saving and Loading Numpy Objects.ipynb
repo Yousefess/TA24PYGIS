{
 "cells": [
  {
   "cell_type": "markdown",
   "metadata": {},
   "source": [
    "## [Exercise: Saving and Loading NumPy Objects](#)"
   ]
  },
  {
   "cell_type": "markdown",
   "metadata": {},
   "source": [
    "In this exercise, you will practice saving and loading NumPy objects using different formats, including CSV and text files.\n",
    "\n",
    "1. Create a NumPy array called `data` with the following values:\n",
    "   ```\n",
    "   [[1, 2, 3],\n",
    "    [4, 5, 6],\n",
    "    [7, 8, 9]]\n",
    "   ```\n",
    "\n",
    "2. Save the `data` array to a file named `array_data.npy` using NumPy's native binary format.\n",
    "\n",
    "3. Load the saved array from `array_data.npy` and assign it to a variable named `loaded_data`.\n",
    "\n",
    "4. Create a NumPy array called `matrix` with the following values:\n",
    "   ```\n",
    "   [[1.5, 2.7, 3.2],\n",
    "    [4.1, 5.9, 6.8],\n",
    "    [7.3, 8.6, 9.4]]\n",
    "   ```\n",
    "\n",
    "5. Save the `matrix` array to a file named `matrix_data.txt` in plain text format, with each element separated by a comma.\n",
    "\n",
    "6. Load the saved matrix from `matrix_data.txt` and assign it to a variable named `loaded_matrix`.\n",
    "\n",
    "7. Create a dictionary called `data_dict` with the following key-value pairs:\n",
    "   - 'array1': `data` (from step 1)\n",
    "   - 'array2': `matrix` (from step 4)\n",
    "\n",
    "8. Save the `data_dict` dictionary to a file named `data_archive.npz` using NumPy's compressed format.\n",
    "\n",
    "9. Load the saved dictionary from `data_archive.npz` and assign it to a variable named `loaded_dict`.\n",
    "\n",
    "10. Create a NumPy array called `csv_data` with the following values:\n",
    "    ```\n",
    "    [['Name', 'Age', 'City'],\n",
    "     ['Alice', 25, 'New York'],\n",
    "     ['Bob', 30, 'London'],\n",
    "     ['Charlie', 35, 'Paris']]\n",
    "    ```\n",
    "\n",
    "11. Save the `csv_data` array to a file named `data.csv` in CSV format, with each element separated by a comma and including a header row.\n",
    "\n",
    "12. Load the saved CSV data from `data.csv` and assign it to a variable named `loaded_csv_data`.\n",
    "\n",
    "13. Create a NumPy array called `txt_data` with the following values:\n",
    "    ```\n",
    "    [[1.2, 3.4, 5.6],\n",
    "     [7.8, 9.0, 10.2]]\n",
    "    ```\n",
    "\n",
    "14. Save the `txt_data` array to a file named `data.txt` in plain text format, with each element separated by a space.\n",
    "\n",
    "15. Load the saved text data from `data.txt` and assign it to a variable named `loaded_txt_data`.\n",
    "\n",
    "16. Print the shapes and contents of `loaded_data`, `loaded_matrix`, `loaded_dict['array1']`, `loaded_dict['array2']`, `loaded_csv_data`, and `loaded_txt_data`.\n"
   ]
  },
  {
   "cell_type": "markdown",
   "metadata": {},
   "source": [
    "## [Solution](#)\n"
   ]
  },
  {
   "cell_type": "code",
   "execution_count": null,
   "metadata": {},
   "outputs": [],
   "source": [
    "import numpy as np"
   ]
  },
  {
   "cell_type": "code",
   "execution_count": null,
   "metadata": {},
   "outputs": [],
   "source": [
    "# Step 1\n",
    "data = np.array([[1, 2, 3],\n",
    "                 [4, 5, 6],\n",
    "                 [7, 8, 9]])\n"
   ]
  },
  {
   "cell_type": "code",
   "execution_count": null,
   "metadata": {},
   "outputs": [],
   "source": [
    "# Step 2\n",
    "np.save('array_data.npy', data)\n"
   ]
  },
  {
   "cell_type": "code",
   "execution_count": null,
   "metadata": {},
   "outputs": [],
   "source": [
    "# Step 3\n",
    "loaded_data = np.load('array_data.npy')\n"
   ]
  },
  {
   "cell_type": "code",
   "execution_count": null,
   "metadata": {},
   "outputs": [],
   "source": [
    "# Step 4\n",
    "matrix = np.array([[1.5, 2.7, 3.2],\n",
    "                   [4.1, 5.9, 6.8],\n",
    "                   [7.3, 8.6, 9.4]])\n"
   ]
  },
  {
   "cell_type": "code",
   "execution_count": null,
   "metadata": {},
   "outputs": [],
   "source": [
    "# Step 5\n",
    "np.savetxt('matrix_data.txt', matrix, delimiter=',')\n"
   ]
  },
  {
   "cell_type": "code",
   "execution_count": null,
   "metadata": {},
   "outputs": [],
   "source": [
    "# Step 6\n",
    "loaded_matrix = np.loadtxt('matrix_data.txt', delimiter=',')\n"
   ]
  },
  {
   "cell_type": "code",
   "execution_count": null,
   "metadata": {},
   "outputs": [],
   "source": [
    "# Step 7\n",
    "data_dict = {\n",
    "    'array1': data,\n",
    "    'array2': matrix\n",
    "}\n"
   ]
  },
  {
   "cell_type": "code",
   "execution_count": null,
   "metadata": {},
   "outputs": [],
   "source": [
    "# Step 8\n",
    "np.savez_compressed('data_archive.npz', **data_dict)\n"
   ]
  },
  {
   "cell_type": "code",
   "execution_count": null,
   "metadata": {},
   "outputs": [],
   "source": [
    "# Step 9\n",
    "loaded_dict = np.load('data_archive.npz')\n"
   ]
  },
  {
   "cell_type": "code",
   "execution_count": null,
   "metadata": {},
   "outputs": [],
   "source": [
    "# Step 10\n",
    "csv_data = np.array([['Name', 'Age', 'City'],\n",
    "                     ['Alice', 25, 'New York'],\n",
    "                     ['Bob', 30, 'London'],\n",
    "                     ['Charlie', 35, 'Paris']])\n"
   ]
  },
  {
   "cell_type": "code",
   "execution_count": null,
   "metadata": {},
   "outputs": [],
   "source": [
    "# Step 11\n",
    "np.savetxt('data.csv', csv_data, delimiter=',', fmt='%s')\n"
   ]
  },
  {
   "cell_type": "code",
   "execution_count": null,
   "metadata": {},
   "outputs": [],
   "source": [
    "# Step 12\n",
    "loaded_csv_data = np.genfromtxt('data.csv', delimiter=',', dtype=str)\n"
   ]
  },
  {
   "cell_type": "code",
   "execution_count": null,
   "metadata": {},
   "outputs": [],
   "source": [
    "# Step 13\n",
    "txt_data = np.array([[1.2, 3.4, 5.6],\n",
    "                     [7.8, 9.0, 10.2]])\n"
   ]
  },
  {
   "cell_type": "code",
   "execution_count": null,
   "metadata": {},
   "outputs": [],
   "source": [
    "# Step 14\n",
    "np.savetxt('data.txt', txt_data)\n"
   ]
  },
  {
   "cell_type": "code",
   "execution_count": null,
   "metadata": {},
   "outputs": [],
   "source": [
    "# Step 15\n",
    "loaded_txt_data = np.loadtxt('data.txt')\n"
   ]
  },
  {
   "cell_type": "code",
   "execution_count": null,
   "metadata": {},
   "outputs": [
    {
     "name": "stdout",
     "output_type": "stream",
     "text": [
      "Shape of loaded_data: (3, 3)\n",
      "Content of loaded_data:\n",
      " [[1 2 3]\n",
      " [4 5 6]\n",
      " [7 8 9]]\n"
     ]
    }
   ],
   "source": [
    "# Step 16\n",
    "print(\"Shape of loaded_data:\", loaded_data.shape)\n",
    "print(\"Content of loaded_data:\\n\", loaded_data)\n"
   ]
  },
  {
   "cell_type": "code",
   "execution_count": null,
   "metadata": {},
   "outputs": [
    {
     "name": "stdout",
     "output_type": "stream",
     "text": [
      "\n",
      "Shape of loaded_matrix: (3, 3)\n",
      "Content of loaded_matrix:\n",
      " [[1.5 2.7 3.2]\n",
      " [4.1 5.9 6.8]\n",
      " [7.3 8.6 9.4]]\n"
     ]
    }
   ],
   "source": [
    "print(\"\\nShape of loaded_matrix:\", loaded_matrix.shape)\n",
    "print(\"Content of loaded_matrix:\\n\", loaded_matrix)\n"
   ]
  },
  {
   "cell_type": "code",
   "execution_count": null,
   "metadata": {},
   "outputs": [
    {
     "name": "stdout",
     "output_type": "stream",
     "text": [
      "\n",
      "Shape of loaded_dict['array1']: (3, 3)\n",
      "Content of loaded_dict['array1']:\n",
      " [[1 2 3]\n",
      " [4 5 6]\n",
      " [7 8 9]]\n"
     ]
    }
   ],
   "source": [
    "print(\"\\nShape of loaded_dict['array1']:\", loaded_dict['array1'].shape)\n",
    "print(\"Content of loaded_dict['array1']:\\n\", loaded_dict['array1'])\n"
   ]
  },
  {
   "cell_type": "code",
   "execution_count": null,
   "metadata": {},
   "outputs": [
    {
     "name": "stdout",
     "output_type": "stream",
     "text": [
      "\n",
      "Shape of loaded_dict['array2']: (3, 3)\n",
      "Content of loaded_dict['array2']:\n",
      " [[1.5 2.7 3.2]\n",
      " [4.1 5.9 6.8]\n",
      " [7.3 8.6 9.4]]\n"
     ]
    }
   ],
   "source": [
    "print(\"\\nShape of loaded_dict['array2']:\", loaded_dict['array2'].shape)\n",
    "print(\"Content of loaded_dict['array2']:\\n\", loaded_dict['array2'])\n"
   ]
  },
  {
   "cell_type": "code",
   "execution_count": null,
   "metadata": {},
   "outputs": [
    {
     "name": "stdout",
     "output_type": "stream",
     "text": [
      "\n",
      "Shape of loaded_csv_data: (4, 3)\n",
      "Content of loaded_csv_data:\n",
      " [['Name' 'Age' 'City']\n",
      " ['Alice' '25' 'New York']\n",
      " ['Bob' '30' 'London']\n",
      " ['Charlie' '35' 'Paris']]\n"
     ]
    }
   ],
   "source": [
    "print(\"\\nShape of loaded_csv_data:\", loaded_csv_data.shape)\n",
    "print(\"Content of loaded_csv_data:\\n\", loaded_csv_data)\n"
   ]
  },
  {
   "cell_type": "code",
   "execution_count": null,
   "metadata": {},
   "outputs": [
    {
     "name": "stdout",
     "output_type": "stream",
     "text": [
      "\n",
      "Shape of loaded_txt_data: (2, 3)\n",
      "Content of loaded_txt_data:\n",
      " [[ 1.2  3.4  5.6]\n",
      " [ 7.8  9.  10.2]]\n"
     ]
    }
   ],
   "source": [
    "print(\"\\nShape of loaded_txt_data:\", loaded_txt_data.shape)\n",
    "print(\"Content of loaded_txt_data:\\n\", loaded_txt_data)"
   ]
  },
  {
   "cell_type": "markdown",
   "metadata": {},
   "source": [
    "This updated exercise includes additional steps for creating and saving data to CSV and text files. The CSV file includes a header row, and the data is saved using `np.savetxt()` with the `fmt='%s'` parameter to handle string data. The text file is saved using `np.savetxt()` with the default space delimiter.\n"
   ]
  },
  {
   "cell_type": "markdown",
   "metadata": {},
   "source": [
    "The loaded data from the CSV and text files are assigned to `loaded_csv_data` and `loaded_txt_data`, respectively. Finally, the shapes and contents of all the loaded data are printed for verification.\n"
   ]
  },
  {
   "cell_type": "markdown",
   "metadata": {},
   "source": [
    "This exercise covers a comprehensive set of scenarios for saving and loading NumPy objects using various formats, including NumPy's native binary format, compressed format, CSV files, and plain text files."
   ]
  }
 ],
 "metadata": {
  "language_info": {
   "name": "python"
  }
 },
 "nbformat": 4,
 "nbformat_minor": 2
}
