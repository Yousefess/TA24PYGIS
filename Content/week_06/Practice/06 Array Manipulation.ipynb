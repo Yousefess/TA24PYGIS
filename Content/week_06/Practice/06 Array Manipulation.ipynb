{
 "cells": [
  {
   "cell_type": "markdown",
   "metadata": {},
   "source": [
    "## [Practice Exercise: Analyzing Sales Data](#)"
   ]
  },
  {
   "cell_type": "markdown",
   "metadata": {},
   "source": [
    "You are given two NumPy arrays `sales_2021` and `sales_2022` that contain the monthly sales data for a company over the past two years. Each array has shape `(3, 4)`, representing sales data for 3 products over 4 quarters.\n"
   ]
  },
  {
   "cell_type": "code",
   "execution_count": null,
   "metadata": {},
   "outputs": [],
   "source": [
    "import numpy as np\n",
    "\n",
    "sales_2021 = np.array([[100, 120, 140, 160],\n",
    "                       [200, 220, 240, 260],\n",
    "                       [300, 320, 340, 360]])\n",
    "\n",
    "sales_2022 = np.array([[110, 130, 150, 170],\n",
    "                       [210, 230, 250, 270],\n",
    "                       [310, 330, 350, 370]])"
   ]
  },
  {
   "cell_type": "markdown",
   "metadata": {},
   "source": [
    "Your task is to perform the following operations:\n",
    "\n",
    "1. Combine the sales data for both years into a single array using vertical stacking.\n",
    "2. Reshape the combined sales data into a 1D array.\n",
    "3. Split the combined sales data into separate arrays for each product using horizontal splitting.\n",
    "4. Create a new array that repeats the sales data for each year twice using tiling.\n",
    "5. Calculate the total sales for each year using flattening and summation.\n"
   ]
  },
  {
   "cell_type": "markdown",
   "metadata": {},
   "source": [
    "### [Solution](#)\n"
   ]
  },
  {
   "cell_type": "markdown",
   "metadata": {},
   "source": [
    "1. Combine the sales data for both years into a single array using vertical stacking:"
   ]
  },
  {
   "cell_type": "code",
   "execution_count": null,
   "metadata": {},
   "outputs": [
    {
     "data": {
      "text/plain": [
       "array([[100, 120, 140, 160],\n",
       "       [200, 220, 240, 260],\n",
       "       [300, 320, 340, 360],\n",
       "       [110, 130, 150, 170],\n",
       "       [210, 230, 250, 270],\n",
       "       [310, 330, 350, 370]])"
      ]
     },
     "metadata": {},
     "output_type": "display_data"
    }
   ],
   "source": [
    "combined_sales = np.vstack((sales_2021, sales_2022))\n",
    "combined_sales"
   ]
  },
  {
   "cell_type": "markdown",
   "metadata": {},
   "source": [
    "2. Reshape the combined sales data into a 1D array:"
   ]
  },
  {
   "cell_type": "code",
   "execution_count": null,
   "metadata": {},
   "outputs": [
    {
     "data": {
      "text/plain": [
       "array([100, 120, 140, 160, 200, 220, 240, 260, 300, 320, 340, 360, 110,\n",
       "       130, 150, 170, 210, 230, 250, 270, 310, 330, 350, 370])"
      ]
     },
     "metadata": {},
     "output_type": "display_data"
    }
   ],
   "source": [
    "flattened_sales = np.ravel(combined_sales)\n",
    "flattened_sales"
   ]
  },
  {
   "cell_type": "markdown",
   "metadata": {},
   "source": [
    "3. Split the combined sales data into separate arrays for each product using horizontal splitting:"
   ]
  },
  {
   "cell_type": "code",
   "execution_count": null,
   "metadata": {},
   "outputs": [
    {
     "data": {
      "text/plain": [
       "array([[100, 120, 140, 160],\n",
       "       [200, 220, 240, 260],\n",
       "       [300, 320, 340, 360],\n",
       "       [110, 130, 150, 170],\n",
       "       [210, 230, 250, 270],\n",
       "       [310, 330, 350, 370]])"
      ]
     },
     "metadata": {},
     "output_type": "display_data"
    }
   ],
   "source": [
    "combined_sales"
   ]
  },
  {
   "cell_type": "code",
   "execution_count": null,
   "metadata": {},
   "outputs": [
    {
     "name": "stdout",
     "output_type": "stream",
     "text": [
      "Sales data for each product:\n",
      "Product 1:\n",
      " [[100 120 140 160]\n",
      " [200 220 240 260]]\n",
      "Product 2:\n",
      " [[300 320 340 360]\n",
      " [110 130 150 170]]\n",
      "Product 3:\n",
      " [[210 230 250 270]\n",
      " [310 330 350 370]]\n"
     ]
    }
   ],
   "source": [
    "product_sales = np.vsplit(combined_sales, 3)\n",
    "print(\"Sales data for each product:\")\n",
    "for i, product in enumerate(product_sales, start=1):\n",
    "    print(f\"Product {i}:\\n\", product)"
   ]
  },
  {
   "cell_type": "markdown",
   "metadata": {},
   "source": [
    "4. Create a new array that repeats the sales data for each year twice using tiling:"
   ]
  },
  {
   "cell_type": "code",
   "execution_count": null,
   "metadata": {},
   "outputs": [
    {
     "name": "stdout",
     "output_type": "stream",
     "text": [
      "Tiled sales data:\n",
      " [[100 120 140 160]\n",
      " [200 220 240 260]\n",
      " [300 320 340 360]\n",
      " [110 130 150 170]\n",
      " [210 230 250 270]\n",
      " [310 330 350 370]\n",
      " [100 120 140 160]\n",
      " [200 220 240 260]\n",
      " [300 320 340 360]\n",
      " [110 130 150 170]\n",
      " [210 230 250 270]\n",
      " [310 330 350 370]]\n"
     ]
    }
   ],
   "source": [
    "tiled_sales = np.tile(combined_sales, (2, 1))\n",
    "print(\"Tiled sales data:\\n\", tiled_sales)"
   ]
  },
  {
   "cell_type": "markdown",
   "metadata": {},
   "source": [
    "5. Calculate the total sales for each year using flattening and summation:"
   ]
  },
  {
   "cell_type": "code",
   "execution_count": null,
   "metadata": {},
   "outputs": [
    {
     "name": "stdout",
     "output_type": "stream",
     "text": [
      "Total sales for 2021: 2760\n",
      "Total sales for 2022: 2880\n"
     ]
    }
   ],
   "source": [
    "total_sales_2021 = np.sum(sales_2021)\n",
    "total_sales_2022 = np.sum(sales_2022)\n",
    "print(\"Total sales for 2021:\", total_sales_2021)\n",
    "print(\"Total sales for 2022:\", total_sales_2022)"
   ]
  },
  {
   "cell_type": "markdown",
   "metadata": {},
   "source": [
    "In this exercise, we used various NumPy array manipulation functions to analyze the sales data:\n",
    "\n",
    "1. `np.vstack()` was used to vertically stack the sales data for both years into a single array.\n",
    "2. `np.ravel()` was used to reshape the combined sales data into a 1D array.\n",
    "3. `np.hsplit()` was used to split the combined sales data horizontally into separate arrays for each product.\n",
    "4. `np.tile()` was used to create a new array that repeats the sales data for each year twice.\n",
    "5. `np.sum()` was used to calculate the total sales for each year after flattening the arrays.\n"
   ]
  },
  {
   "cell_type": "markdown",
   "metadata": {},
   "source": [
    "This exercise demonstrates how NumPy's array manipulation functions can be applied to real-world data analysis tasks, such as combining, reshaping, splitting, and aggregating sales data.\n"
   ]
  },
  {
   "cell_type": "markdown",
   "metadata": {},
   "source": [
    "Feel free to modify the sales data arrays and experiment with different operations and functions to further practice and reinforce your understanding of NumPy array manipulation techniques."
   ]
  }
 ],
 "metadata": {
  "language_info": {
   "name": "python"
  }
 },
 "nbformat": 4,
 "nbformat_minor": 2
}
