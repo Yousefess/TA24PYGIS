{
 "cells": [
  {
   "cell_type": "markdown",
   "metadata": {},
   "source": [
    "## [Practice Exercise: Analyzing Student Grades](#)"
   ]
  },
  {
   "cell_type": "markdown",
   "metadata": {},
   "source": [
    "You are given a NumPy array `grades` that contains the grades of a group of students in a course. Your task is to perform the following operations:\n",
    "\n",
    "1. Sort the grades in ascending order.\n",
    "2. Find the top 5 grades using array slicing.\n",
    "3. Determine the number of students who passed the course (grade >= 60).\n",
    "4. Identify the students who scored below the mean grade.\n",
    "5. Find the unique grades in the array.\n"
   ]
  },
  {
   "cell_type": "code",
   "execution_count": null,
   "metadata": {},
   "outputs": [],
   "source": [
    "import numpy as np\n",
    "\n",
    "grades = np.array([85, 72, 90, 68, 77, 82, 92, 60, 55, 75, 88, 80, 95, 78, 65])"
   ]
  },
  {
   "cell_type": "markdown",
   "metadata": {},
   "source": [
    "### [Solution](#)\n"
   ]
  },
  {
   "cell_type": "markdown",
   "metadata": {},
   "source": [
    "1. Sort the grades in ascending order:"
   ]
  },
  {
   "cell_type": "code",
   "execution_count": null,
   "metadata": {},
   "outputs": [
    {
     "data": {
      "text/plain": [
       "array([55, 60, 65, 68, 72, 75, 77, 78, 80, 82, 85, 88, 90, 92, 95])"
      ]
     },
     "metadata": {},
     "output_type": "display_data"
    }
   ],
   "source": [
    "sorted_grades = np.sort(grades)\n",
    "sorted_grades"
   ]
  },
  {
   "cell_type": "markdown",
   "metadata": {},
   "source": [
    "2. Find the top 5 grades using array slicing:"
   ]
  },
  {
   "cell_type": "code",
   "execution_count": null,
   "metadata": {},
   "outputs": [
    {
     "data": {
      "text/plain": [
       "array([85, 88, 90, 92, 95])"
      ]
     },
     "metadata": {},
     "output_type": "display_data"
    }
   ],
   "source": [
    "top_5_grades = sorted_grades[-5:]\n",
    "top_5_grades"
   ]
  },
  {
   "cell_type": "markdown",
   "metadata": {},
   "source": [
    "3. Determine the number of students who passed the course (grade >= 60):"
   ]
  },
  {
   "cell_type": "code",
   "execution_count": null,
   "metadata": {},
   "outputs": [
    {
     "data": {
      "text/plain": [
       "14"
      ]
     },
     "metadata": {},
     "output_type": "display_data"
    }
   ],
   "source": [
    "passed_students = np.sum(grades >= 60)\n",
    "passed_students"
   ]
  },
  {
   "cell_type": "markdown",
   "metadata": {},
   "source": [
    "4. Identify the students who scored below the mean grade:"
   ]
  },
  {
   "cell_type": "code",
   "execution_count": null,
   "metadata": {},
   "outputs": [
    {
     "data": {
      "text/plain": [
       "77.46666666666667"
      ]
     },
     "metadata": {},
     "output_type": "display_data"
    }
   ],
   "source": [
    "mean_grade = np.mean(grades)\n",
    "mean_grade"
   ]
  },
  {
   "cell_type": "code",
   "execution_count": null,
   "metadata": {},
   "outputs": [
    {
     "data": {
      "text/plain": [
       "array([False,  True, False,  True,  True, False, False,  True,  True,\n",
       "        True, False, False, False, False,  True])"
      ]
     },
     "metadata": {},
     "output_type": "display_data"
    }
   ],
   "source": [
    "below_mean_mask = grades < mean_grade\n",
    "below_mean_mask"
   ]
  },
  {
   "cell_type": "code",
   "execution_count": null,
   "metadata": {},
   "outputs": [
    {
     "data": {
      "text/plain": [
       "array([72, 68, 77, 60, 55, 75, 65])"
      ]
     },
     "metadata": {},
     "output_type": "display_data"
    }
   ],
   "source": [
    "below_mean_grades = grades[below_mean_mask]\n",
    "below_mean_grades"
   ]
  },
  {
   "cell_type": "markdown",
   "metadata": {},
   "source": [
    "5. Find the unique grades in the array:"
   ]
  },
  {
   "cell_type": "code",
   "execution_count": null,
   "metadata": {},
   "outputs": [
    {
     "data": {
      "text/plain": [
       "array([55, 60, 65, 68, 72, 75, 77, 78, 80, 82, 85, 88, 90, 92, 95])"
      ]
     },
     "metadata": {},
     "output_type": "display_data"
    }
   ],
   "source": [
    "unique_grades = np.unique(grades)\n",
    "unique_grades"
   ]
  },
  {
   "cell_type": "markdown",
   "metadata": {},
   "source": [
    "In this exercise, we used various NumPy sorting and searching functions to analyze the student grades:\n",
    "\n",
    "1. `np.sort()` was used to sort the grades in ascending order.\n",
    "2. Array slicing `sorted_grades[-5:]` was used to extract the top 5 grades.\n",
    "3. `np.sum(grades >= 60)` counted the number of students who passed the course by summing the boolean mask.\n",
    "4. Boolean indexing `grades[below_mean_mask]` was used to identify the grades below the mean grade.\n",
    "5. `np.unique()` was used to find the unique grades in the array.\n"
   ]
  },
  {
   "cell_type": "markdown",
   "metadata": {},
   "source": [
    "This exercise demonstrates how NumPy's sorting and searching functions can be applied to real-world data analysis tasks, such as analyzing student grades and deriving meaningful insights from the data.\n"
   ]
  },
  {
   "cell_type": "markdown",
   "metadata": {},
   "source": [
    "Feel free to modify the `grades` array and experiment with different operations and functions to further practice and reinforce your understanding of NumPy sorting and searching techniques."
   ]
  }
 ],
 "metadata": {
  "language_info": {
   "name": "python"
  }
 },
 "nbformat": 4,
 "nbformat_minor": 2
}
