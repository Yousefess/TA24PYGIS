{
 "cells": [
  {
   "cell_type": "markdown",
   "metadata": {},
   "source": [
    "## [Practice Exercise: Analyzing Customer Data](#)"
   ]
  },
  {
   "cell_type": "markdown",
   "metadata": {},
   "source": [
    "You are working with customer data for an e-commerce company. The data includes customer IDs, ages, and purchase amounts. Your task is to create NumPy arrays to store and analyze this data.\n",
    "\n",
    "1. Create a 1-dimensional NumPy array called `customer_ids` that contains the following customer IDs: 1001, 1002, 1003, 1004, 1005.\n",
    "\n",
    "2. Create a 1-dimensional NumPy array called `ages` that contains the ages of the customers: 25, 30, 35, 40, 45. Use the `np.arange()` function to create this array.\n",
    "\n",
    "3. Create a 2-dimensional NumPy array called `purchase_amounts` that contains the purchase amounts for each customer over three months:\n",
    "   - Month 1: 100, 200, 300, 400, 500\n",
    "   - Month 2: 150, 250, 350, 450, 550\n",
    "   - Month 3: 200, 300, 400, 500, 600\n",
    "\n",
    "4. Create a 3-dimensional NumPy array called `sales_data` that combines the customer IDs, ages, and purchase amounts. The shape of the array should be (5, 3, 2), where:\n",
    "   - The first dimension represents the customers\n",
    "   - The second dimension represents the months\n",
    "   - The third dimension represents the customer ID and age for each customer\n",
    "\n",
    "5. Create a NumPy array called `large_purchases` that contains the purchase amounts greater than 300. Use boolean indexing to create this array.\n",
    "\n",
    "6. Create a random integer array called `random_purchases` with shape (3, 5) that represents random purchase amounts between 100 and 1000.\n"
   ]
  },
  {
   "cell_type": "markdown",
   "metadata": {},
   "source": [
    "### [Solution](#)\n"
   ]
  },
  {
   "cell_type": "markdown",
   "metadata": {},
   "source": [
    "1. Creating the `customer_ids` array:"
   ]
  },
  {
   "cell_type": "code",
   "execution_count": null,
   "metadata": {},
   "outputs": [],
   "source": [
    "import numpy as np\n",
    "\n",
    "customer_ids = np.array([1001, 1002, 1003, 1004, 1005])"
   ]
  },
  {
   "cell_type": "markdown",
   "metadata": {},
   "source": [
    "2. Creating the `ages` array using `np.arange()`:"
   ]
  },
  {
   "cell_type": "code",
   "execution_count": null,
   "metadata": {},
   "outputs": [
    {
     "data": {
      "text/plain": [
       "array([25, 30, 35, 40, 45])"
      ]
     },
     "metadata": {},
     "output_type": "display_data"
    }
   ],
   "source": [
    "ages = np.arange(25, 50, 5)\n",
    "ages"
   ]
  },
  {
   "cell_type": "markdown",
   "metadata": {},
   "source": [
    "3. Creating the `purchase_amounts` array:"
   ]
  },
  {
   "cell_type": "code",
   "execution_count": null,
   "metadata": {},
   "outputs": [],
   "source": [
    "purchase_amounts = np.array([[100, 200, 300, 400, 500],\n",
    "                             [150, 250, 350, 450, 550],\n",
    "                             [200, 300, 400, 500, 600]])"
   ]
  },
  {
   "cell_type": "markdown",
   "metadata": {},
   "source": [
    "4. Creating the `sales_data` array:"
   ]
  },
  {
   "cell_type": "code",
   "execution_count": null,
   "metadata": {},
   "outputs": [
    {
     "data": {
      "text/plain": [
       "array([[[1001,   25],\n",
       "        [1002,   30],\n",
       "        [1003,   35],\n",
       "        [1004,   40],\n",
       "        [1005,   45]],\n",
       "\n",
       "       [[1001,  100],\n",
       "        [1002,  200],\n",
       "        [1003,  300],\n",
       "        [1004,  400],\n",
       "        [1005,  500]],\n",
       "\n",
       "       [[1001,  150],\n",
       "        [1002,  250],\n",
       "        [1003,  350],\n",
       "        [1004,  450],\n",
       "        [1005,  550]],\n",
       "\n",
       "       [[1001,  200],\n",
       "        [1002,  300],\n",
       "        [1003,  400],\n",
       "        [1004,  500],\n",
       "        [1005,  600]]])"
      ]
     },
     "metadata": {},
     "output_type": "display_data"
    }
   ],
   "source": [
    "sales_data = np.array([\n",
    "    [[customer_ids[i], ages[i]] for i in range(5)],\n",
    "    [[customer_ids[i], purchase_amounts[0][i]] for i in range(5)],\n",
    "    [[customer_ids[i], purchase_amounts[1][i]] for i in range(5)],\n",
    "    [[customer_ids[i], purchase_amounts[2][i]] for i in range(5)]\n",
    "])\n",
    "sales_data"
   ]
  },
  {
   "cell_type": "markdown",
   "metadata": {},
   "source": [
    "5. Creating the `large_purchases` array using boolean indexing:"
   ]
  },
  {
   "cell_type": "code",
   "execution_count": null,
   "metadata": {},
   "outputs": [
    {
     "data": {
      "text/plain": [
       "array([400, 500, 350, 450, 550, 400, 500, 600])"
      ]
     },
     "metadata": {},
     "output_type": "display_data"
    }
   ],
   "source": [
    "large_purchases = purchase_amounts[purchase_amounts > 300]\n",
    "large_purchases"
   ]
  },
  {
   "cell_type": "markdown",
   "metadata": {},
   "source": [
    "6. Creating the `random_purchases` array with random integers:"
   ]
  },
  {
   "cell_type": "code",
   "execution_count": null,
   "metadata": {},
   "outputs": [
    {
     "data": {
      "text/plain": [
       "array([[231, 544, 936, 643, 317],\n",
       "       [926, 176, 976, 711, 589],\n",
       "       [306, 446, 953, 734, 107]])"
      ]
     },
     "metadata": {},
     "output_type": "display_data"
    }
   ],
   "source": [
    "random_purchases = np.random.randint(100, 1000, size=(3, 5))\n",
    "random_purchases"
   ]
  },
  {
   "cell_type": "markdown",
   "metadata": {},
   "source": [
    "In this exercise, we used various NumPy array creation functions and techniques to analyze customer data:\n",
    "\n",
    "1. `np.array()` was used to create the `customer_ids` array from a list of customer IDs.\n",
    "2. `np.arange()` was used to create the `ages` array with a specified start, stop, and step value.\n",
    "3. `np.array()` with nested lists was used to create the `purchase_amounts` array representing purchase amounts for each customer over three months.\n",
    "4. A combination of indexing and list comprehension was used to create the `sales_data` array, which combines customer IDs, ages, and purchase amounts in a 3-dimensional structure.\n",
    "5. Boolean indexing was used to create the `large_purchases` array, selecting purchase amounts greater than 300.\n",
    "6. `np.random.randint()` was used to create the `random_purchases` array with random integer values between 100 and 1000.\n"
   ]
  }
 ],
 "metadata": {
  "language_info": {
   "name": "python"
  }
 },
 "nbformat": 4,
 "nbformat_minor": 2
}
