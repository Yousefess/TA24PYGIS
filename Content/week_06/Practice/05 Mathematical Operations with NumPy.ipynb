{
 "cells": [
  {
   "cell_type": "markdown",
   "metadata": {},
   "source": [
    "## [Practice Exercise: Analyzing Weather Data](#)"
   ]
  },
  {
   "cell_type": "markdown",
   "metadata": {},
   "source": [
    "You are given a NumPy array `temperatures` that contains the daily temperature recordings (in Celsius) for a city over a period of one week. Another array `precipitation` contains the corresponding daily precipitation measurements (in millimeters) for the same period.\n"
   ]
  },
  {
   "cell_type": "code",
   "execution_count": null,
   "metadata": {},
   "outputs": [],
   "source": [
    "import numpy as np\n",
    "\n",
    "temperatures = np.array([25.5, 28.2, 26.8, 29.1, 27.6, 24.9, 26.3])\n",
    "precipitation = np.array([0.0, 2.5, 0.0, 0.0, 10.2, 5.8, 1.2])"
   ]
  },
  {
   "cell_type": "markdown",
   "metadata": {},
   "source": [
    "Your task is to perform the following operations:\n",
    "\n",
    "1. Convert the temperatures from Celsius to Fahrenheit using the formula: Fahrenheit = (Celsius * 9/5) + 32.\n",
    "2. Calculate the average temperature and precipitation for the week.\n",
    "3. Find the day with the highest temperature and the day with the lowest precipitation.\n",
    "4. Determine the number of rainy days (precipitation > 0) using comparison and logical operations.\n",
    "5. Create a new array that contains the temperature values in Kelvin (Kelvin = Celsius + 273.15) for days with precipitation greater than 5 millimeters.\n"
   ]
  },
  {
   "cell_type": "markdown",
   "metadata": {},
   "source": [
    "### [Solution](#)\n"
   ]
  },
  {
   "cell_type": "markdown",
   "metadata": {},
   "source": [
    "1. Convert the temperatures from Celsius to Fahrenheit:"
   ]
  },
  {
   "cell_type": "code",
   "execution_count": null,
   "metadata": {},
   "outputs": [
    {
     "name": "stdout",
     "output_type": "stream",
     "text": [
      "Temperatures in Fahrenheit:\n",
      " [77.9  82.76 80.24 84.38 81.68 76.82 79.34]\n"
     ]
    }
   ],
   "source": [
    "fahrenheit_temperatures = (temperatures * 9/5) + 32\n",
    "print(\"Temperatures in Fahrenheit:\\n\", fahrenheit_temperatures)"
   ]
  },
  {
   "cell_type": "markdown",
   "metadata": {},
   "source": [
    "2. Calculate the average temperature and precipitation for the week:"
   ]
  },
  {
   "cell_type": "code",
   "execution_count": null,
   "metadata": {},
   "outputs": [
    {
     "name": "stdout",
     "output_type": "stream",
     "text": [
      "Average temperature (Celsius): 26.914285714285715\n",
      "Average precipitation (millimeters): 2.814285714285714\n"
     ]
    }
   ],
   "source": [
    "avg_temperature = np.mean(temperatures)\n",
    "avg_precipitation = np.mean(precipitation)\n",
    "print(\"Average temperature (Celsius):\", avg_temperature)\n",
    "print(\"Average precipitation (millimeters):\", avg_precipitation)"
   ]
  },
  {
   "cell_type": "markdown",
   "metadata": {},
   "source": [
    "3. Find the day with the highest temperature and the day with the lowest precipitation:"
   ]
  },
  {
   "cell_type": "code",
   "execution_count": null,
   "metadata": {},
   "outputs": [
    {
     "name": "stdout",
     "output_type": "stream",
     "text": [
      "Day with the highest temperature: 4\n",
      "Day with the lowest precipitation: 1\n"
     ]
    }
   ],
   "source": [
    "hottest_day = np.argmax(temperatures)\n",
    "driest_day = np.argmin(precipitation)\n",
    "print(\"Day with the highest temperature:\", hottest_day + 1)\n",
    "print(\"Day with the lowest precipitation:\", driest_day + 1)"
   ]
  },
  {
   "cell_type": "markdown",
   "metadata": {},
   "source": [
    "4. Determine the number of rainy days using comparison and logical operations:"
   ]
  },
  {
   "cell_type": "code",
   "execution_count": null,
   "metadata": {},
   "outputs": [
    {
     "name": "stdout",
     "output_type": "stream",
     "text": [
      "Number of rainy days: 4\n"
     ]
    }
   ],
   "source": [
    "rainy_days = np.sum(precipitation > 0)\n",
    "print(\"Number of rainy days:\", rainy_days)"
   ]
  },
  {
   "cell_type": "markdown",
   "metadata": {},
   "source": [
    "5. Create a new array with temperature values in Kelvin for days with precipitation greater than 5 millimeters:"
   ]
  },
  {
   "cell_type": "code",
   "execution_count": null,
   "metadata": {},
   "outputs": [
    {
     "name": "stdout",
     "output_type": "stream",
     "text": [
      "Temperatures in Kelvin for days with precipitation > 5mm:\n",
      " [   nan    nan    nan    nan 300.75 298.05    nan]\n"
     ]
    }
   ],
   "source": [
    "kelvin_temperatures = np.where(precipitation > 5, temperatures + 273.15, np.nan)\n",
    "print(\"Temperatures in Kelvin for days with precipitation > 5mm:\\n\", kelvin_temperatures)"
   ]
  },
  {
   "cell_type": "markdown",
   "metadata": {},
   "source": [
    "In this exercise, we used various NumPy mathematical operations to analyze the weather data:\n",
    "\n",
    "1. Element-wise arithmetic operations were used to convert temperatures from Celsius to Fahrenheit.\n",
    "2. Aggregation functions `np.mean()` were used to calculate the average temperature and precipitation.\n",
    "3. `np.argmax()` and `np.argmin()` were used to find the day with the highest temperature and lowest precipitation, respectively.\n",
    "4. Comparison and logical operations `precipitation > 0` along with `np.sum()` were used to determine the number of rainy days.\n",
    "5. `np.where()` was used to create a new array with temperature values in Kelvin for days with precipitation greater than 5 millimeters.\n"
   ]
  },
  {
   "cell_type": "markdown",
   "metadata": {},
   "source": [
    "This exercise demonstrates how NumPy's mathematical operations can be applied to real-world data analysis tasks, such as converting units, calculating averages, finding extremes, and performing conditional computations on weather data.\n"
   ]
  },
  {
   "cell_type": "markdown",
   "metadata": {},
   "source": [
    "Feel free to modify the temperature and precipitation arrays and experiment with different operations and functions to further practice and reinforce your understanding of NumPy's mathematical operations."
   ]
  }
 ],
 "metadata": {
  "language_info": {
   "name": "python"
  }
 },
 "nbformat": 4,
 "nbformat_minor": 2
}
