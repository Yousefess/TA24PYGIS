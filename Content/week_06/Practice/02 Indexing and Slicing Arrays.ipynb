{
 "cells": [
  {
   "cell_type": "markdown",
   "metadata": {},
   "source": [
    "## [Practice Exercise: Analyzing Temperature Data](#)"
   ]
  },
  {
   "cell_type": "markdown",
   "metadata": {},
   "source": [
    "You are given a NumPy array `temperatures` that contains the daily temperature readings for a city over a period of one week. The array has shape `(7, 24)`, representing 7 days and 24 hourly temperature readings per day.\n"
   ]
  },
  {
   "cell_type": "code",
   "execution_count": null,
   "metadata": {},
   "outputs": [],
   "source": [
    "import numpy as np\n",
    "\n",
    "temperatures = np.array([[12, 14, 15, 16, 17, 18, 19, 20, 21, 22, 23, 24,\n",
    "                          23, 22, 21, 20, 19, 18, 17, 16, 15, 14, 13, 12],\n",
    "                         [13, 15, 16, 17, 18, 19, 20, 21, 22, 23, 24, 25,\n",
    "                          24, 23, 22, 21, 20, 19, 18, 17, 16, 15, 14, 13],\n",
    "                         [14, 16, 17, 18, 19, 20, 21, 22, 23, 24, 25, 26,\n",
    "                          25, 24, 23, 22, 21, 20, 19, 18, 17, 16, 15, 14],\n",
    "                         [15, 17, 18, 19, 20, 21, 22, 23, 24, 25, 26, 27,\n",
    "                          26, 25, 24, 23, 22, 21, 20, 19, 18, 17, 16, 15],\n",
    "                         [16, 18, 19, 20, 21, 22, 23, 24, 25, 26, 27, 28,\n",
    "                          27, 26, 25, 24, 23, 22, 21, 20, 19, 18, 17, 16],\n",
    "                         [17, 19, 20, 21, 22, 23, 24, 25, 26, 27, 28, 29,\n",
    "                          28, 27, 26, 25, 24, 23, 22, 21, 20, 19, 18, 17],\n",
    "                         [18, 20, 21, 22, 23, 24, 25, 26, 27, 28, 29, 30,\n",
    "                          29, 28, 27, 26, 25, 24, 23, 22, 21, 20, 19, 18]])"
   ]
  },
  {
   "cell_type": "markdown",
   "metadata": {},
   "source": [
    "Your task is to perform the following operations using indexing and slicing:\n",
    "\n",
    "1. Extract the temperature readings for the first day.\n",
    "2. Extract the temperature readings for the last day.\n",
    "3. Extract the temperature readings for the first 12 hours of each day.\n",
    "4. Extract the temperature readings for the last 6 hours of each day.\n",
    "5. Extract the temperature readings for every other hour of the fourth day.\n",
    "6. Modify the temperature readings for the first 3 hours of the fifth day to be 10 degrees higher.\n",
    "7. Create a boolean mask to find all temperature readings above 25 degrees.\n"
   ]
  },
  {
   "cell_type": "markdown",
   "metadata": {},
   "source": [
    "### [Solution](#)\n"
   ]
  },
  {
   "cell_type": "markdown",
   "metadata": {},
   "source": [
    "1. Extract the temperature readings for the first day:"
   ]
  },
  {
   "cell_type": "code",
   "execution_count": null,
   "metadata": {},
   "outputs": [
    {
     "name": "stdout",
     "output_type": "stream",
     "text": [
      "Temperature readings for the first day:\n",
      " [12 14 15 16 17 18 19 20 21 22 23 24 23 22 21 20 19 18 17 16 15 14 13 12]\n"
     ]
    }
   ],
   "source": [
    "first_day = temperatures[0, :]\n",
    "print(\"Temperature readings for the first day:\\n\", first_day)"
   ]
  },
  {
   "cell_type": "markdown",
   "metadata": {},
   "source": [
    "2. Extract the temperature readings for the last day:"
   ]
  },
  {
   "cell_type": "code",
   "execution_count": null,
   "metadata": {},
   "outputs": [
    {
     "name": "stdout",
     "output_type": "stream",
     "text": [
      "Temperature readings for the last day:\n",
      " [18 20 21 22 23 24 25 26 27 28 29 30 29 28 27 26 25 24 23 22 21 20 19 18]\n"
     ]
    }
   ],
   "source": [
    "last_day = temperatures[-1, :]\n",
    "print(\"Temperature readings for the last day:\\n\", last_day)"
   ]
  },
  {
   "cell_type": "markdown",
   "metadata": {},
   "source": [
    "3. Extract the temperature readings for the first 12 hours of each day:"
   ]
  },
  {
   "cell_type": "code",
   "execution_count": null,
   "metadata": {},
   "outputs": [
    {
     "name": "stdout",
     "output_type": "stream",
     "text": [
      "Temperature readings for the first 12 hours of each day:\n",
      " [[12 14 15 16 17 18 19 20 21 22 23 24]\n",
      " [13 15 16 17 18 19 20 21 22 23 24 25]\n",
      " [14 16 17 18 19 20 21 22 23 24 25 26]\n",
      " [15 17 18 19 20 21 22 23 24 25 26 27]\n",
      " [16 18 19 20 21 22 23 24 25 26 27 28]\n",
      " [17 19 20 21 22 23 24 25 26 27 28 29]\n",
      " [18 20 21 22 23 24 25 26 27 28 29 30]]\n"
     ]
    }
   ],
   "source": [
    "first_12_hours = temperatures[:, :12]\n",
    "print(\"Temperature readings for the first 12 hours of each day:\\n\", first_12_hours)"
   ]
  },
  {
   "cell_type": "markdown",
   "metadata": {},
   "source": [
    "4. Extract the temperature readings for the last 6 hours of each day:"
   ]
  },
  {
   "cell_type": "code",
   "execution_count": null,
   "metadata": {},
   "outputs": [
    {
     "name": "stdout",
     "output_type": "stream",
     "text": [
      "Temperature readings for the last 6 hours of each day:\n",
      " [[17 16 15 14 13 12]\n",
      " [18 17 16 15 14 13]\n",
      " [19 18 17 16 15 14]\n",
      " [20 19 18 17 16 15]\n",
      " [21 20 19 18 17 16]\n",
      " [22 21 20 19 18 17]\n",
      " [23 22 21 20 19 18]]\n"
     ]
    }
   ],
   "source": [
    "last_6_hours = temperatures[:, -6:]\n",
    "print(\"Temperature readings for the last 6 hours of each day:\\n\", last_6_hours)"
   ]
  },
  {
   "cell_type": "markdown",
   "metadata": {},
   "source": [
    "5. Extract the temperature readings for every other hour of the fourth day:"
   ]
  },
  {
   "cell_type": "code",
   "execution_count": null,
   "metadata": {},
   "outputs": [
    {
     "name": "stdout",
     "output_type": "stream",
     "text": [
      "Temperature readings for every other hour of the fourth day:\n",
      " [15 18 20 22 24 26 26 24 22 20 18 16]\n"
     ]
    }
   ],
   "source": [
    "fourth_day_every_other_hour = temperatures[3, ::2]\n",
    "print(\"Temperature readings for every other hour of the fourth day:\\n\", fourth_day_every_other_hour)"
   ]
  },
  {
   "cell_type": "markdown",
   "metadata": {},
   "source": [
    "6. Modify the temperature readings for the first 3 hours of the fifth day to be 10 degrees higher:"
   ]
  },
  {
   "cell_type": "code",
   "execution_count": null,
   "metadata": {},
   "outputs": [
    {
     "name": "stdout",
     "output_type": "stream",
     "text": [
      "Modified temperature readings for the first 3 hours of the fifth day:\n",
      " [26 28 29 20 21 22 23 24 25 26 27 28 27 26 25 24 23 22 21 20 19 18 17 16]\n"
     ]
    }
   ],
   "source": [
    "temperatures[4, :3] += 10\n",
    "print(\"Modified temperature readings for the first 3 hours of the fifth day:\\n\", temperatures[4, :])"
   ]
  },
  {
   "cell_type": "markdown",
   "metadata": {},
   "source": [
    "7. Create a boolean mask to find all temperature readings above 25 degrees:"
   ]
  },
  {
   "cell_type": "code",
   "execution_count": null,
   "metadata": {},
   "outputs": [
    {
     "name": "stdout",
     "output_type": "stream",
     "text": [
      "Boolean mask for temperature readings above 25 degrees:\n",
      " [[False False False False False False False False False False False False\n",
      "  False False False False False False False False False False False False]\n",
      " [False False False False False False False False False False False False\n",
      "  False False False False False False False False False False False False]\n",
      " [False False False False False False False False False False False  True\n",
      "  False False False False False False False False False False False False]\n",
      " [False False False False False False False False False False  True  True\n",
      "   True False False False False False False False False False False False]\n",
      " [ True  True  True False False False False False False  True  True  True\n",
      "   True  True False False False False False False False False False False]\n",
      " [False False False False False False False False  True  True  True  True\n",
      "   True  True  True False False False False False False False False False]\n",
      " [False False False False False False False  True  True  True  True  True\n",
      "   True  True  True  True False False False False False False False False]]\n"
     ]
    }
   ],
   "source": [
    "above_25_mask = temperatures > 25\n",
    "print(\"Boolean mask for temperature readings above 25 degrees:\\n\", above_25_mask)"
   ]
  },
  {
   "cell_type": "code",
   "execution_count": null,
   "metadata": {},
   "outputs": [
    {
     "name": "stdout",
     "output_type": "stream",
     "text": [
      "Temperature readings above 25 degrees:\n",
      " [26 26 27 26 26 28 29 26 27 28 27 26 26 27 28 29 28 27 26 26 27 28 29 30\n",
      " 29 28 27 26]\n"
     ]
    }
   ],
   "source": [
    "above_25_temperatures = temperatures[above_25_mask]\n",
    "print(\"Temperature readings above 25 degrees:\\n\", above_25_temperatures)"
   ]
  }
 ],
 "metadata": {
  "language_info": {
   "name": "python"
  }
 },
 "nbformat": 4,
 "nbformat_minor": 2
}
