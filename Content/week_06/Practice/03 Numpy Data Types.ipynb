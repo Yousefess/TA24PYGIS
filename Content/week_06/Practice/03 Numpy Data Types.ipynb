{
 "cells": [
  {
   "cell_type": "markdown",
   "metadata": {},
   "source": [
    "## [Practice Exercise: NumPy Data Types](#)"
   ]
  },
  {
   "cell_type": "markdown",
   "metadata": {},
   "source": [
    "1. Create a NumPy array called `arr1` with the following values: [1, 2, 3, 4, 5]. Specify the data type as `int32`.\n",
    "\n",
    "2. Create another NumPy array called `arr2` with the following values: [1.5, 2.5, 3.5, 4.5, 5.5]. Let NumPy infer the data type automatically.\n",
    "\n",
    "3. Perform element-wise addition between `arr1` and `arr2` and store the result in a new array called `result`. Print the data type of `result`.\n",
    "\n",
    "4. Create a structured array called `student` with the following fields: \"name\" (string of length 10), \"age\" (integer), and \"grade\" (float). Initialize the array with the following values:\n",
    "   - (\"John\", 18, 85.5)\n",
    "   - (\"Alice\", 20, 92.0)\n",
    "   - (\"Bob\", 19, 88.7)\n",
    "\n",
    "5. Access and print the \"name\" field of the `student` array.\n",
    "\n",
    "6. Convert the `grade` field of the `student` array to an integer data type using explicit type casting.\n",
    "\n",
    "7. Create a boolean array called `mask` that checks whether each element in `arr1` is greater than 3.\n",
    "\n",
    "8. Use boolean indexing to extract the elements from `arr1` that correspond to the True values in `mask`.\n",
    "\n",
    "9. Calculate the memory consumed by `arr1` and `arr2` in bytes.\n",
    "\n",
    "10. Create a new array called `arr3` with the same shape as `arr1` but with a `float32` data type. Initialize it with zeros.\n"
   ]
  },
  {
   "cell_type": "markdown",
   "metadata": {},
   "source": [
    "### [Solution](#)\n"
   ]
  },
  {
   "cell_type": "code",
   "execution_count": null,
   "metadata": {},
   "outputs": [],
   "source": [
    "import numpy as np"
   ]
  },
  {
   "cell_type": "code",
   "execution_count": null,
   "metadata": {},
   "outputs": [
    {
     "data": {
      "text/plain": [
       "array([1, 2, 3, 4, 5], dtype=int32)"
      ]
     },
     "metadata": {},
     "output_type": "display_data"
    }
   ],
   "source": [
    "# 1. Create arr1 with int32 data type\n",
    "arr1 = np.array([1, 2, 3, 4, 5], dtype=np.int32)\n",
    "arr1"
   ]
  },
  {
   "cell_type": "code",
   "execution_count": null,
   "metadata": {},
   "outputs": [
    {
     "data": {
      "text/plain": [
       "array([1.5, 2.5, 3.5, 4.5, 5.5])"
      ]
     },
     "metadata": {},
     "output_type": "display_data"
    }
   ],
   "source": [
    "# 2. Create arr2 and let NumPy infer the data type\n",
    "arr2 = np.array([1.5, 2.5, 3.5, 4.5, 5.5])\n",
    "arr2"
   ]
  },
  {
   "cell_type": "code",
   "execution_count": null,
   "metadata": {},
   "outputs": [
    {
     "name": "stdout",
     "output_type": "stream",
     "text": [
      "Data type of result: float64\n"
     ]
    }
   ],
   "source": [
    "# 3. Perform element-wise addition and print the data type of the result\n",
    "result = arr1 + arr2\n",
    "print(\"Data type of result:\", result.dtype)"
   ]
  },
  {
   "cell_type": "code",
   "execution_count": null,
   "metadata": {},
   "outputs": [
    {
     "data": {
      "text/plain": [
       "array([(b'John', 18, 85.5), (b'Alice', 20, 92. ), (b'Bob', 19, 88.7)],\n",
       "      dtype=[('name', 'S10'), ('age', '<i4'), ('grade', '<f4')])"
      ]
     },
     "metadata": {},
     "output_type": "display_data"
    }
   ],
   "source": [
    "# 4. Create a structured array 'student'\n",
    "student = np.array([(\"John\", 18, 85.5), (\"Alice\", 20, 92.0), (\"Bob\", 19, 88.7)],\n",
    "                   dtype=[(\"name\", \"S10\"), (\"age\", \"i4\"), (\"grade\", \"f4\")])\n",
    "student"
   ]
  },
  {
   "cell_type": "code",
   "execution_count": null,
   "metadata": {},
   "outputs": [
    {
     "name": "stdout",
     "output_type": "stream",
     "text": [
      "Names: [b'John' b'Alice' b'Bob']\n"
     ]
    }
   ],
   "source": [
    "# 5. Access and print the \"name\" field of the 'student' array\n",
    "print(\"Names:\", student[\"name\"])"
   ]
  },
  {
   "cell_type": "code",
   "execution_count": null,
   "metadata": {},
   "outputs": [],
   "source": [
    "# 6. Convert the \"grade\" field to an integer data type\n",
    "student[\"grade\"] = student[\"grade\"].astype(int)"
   ]
  },
  {
   "cell_type": "code",
   "execution_count": null,
   "metadata": {},
   "outputs": [
    {
     "data": {
      "text/plain": [
       "array([False, False, False,  True,  True])"
      ]
     },
     "metadata": {},
     "output_type": "display_data"
    }
   ],
   "source": [
    "# 7. Create a boolean array 'mask' based on a condition\n",
    "mask = arr1 > 3\n",
    "mask"
   ]
  },
  {
   "cell_type": "code",
   "execution_count": null,
   "metadata": {},
   "outputs": [
    {
     "name": "stdout",
     "output_type": "stream",
     "text": [
      "Filtered arr1: [4 5]\n"
     ]
    },
    {
     "data": {
      "text/plain": [
       "array([4, 5], dtype=int32)"
      ]
     },
     "metadata": {},
     "output_type": "display_data"
    }
   ],
   "source": [
    "# 8. Use boolean indexing to extract elements from arr1\n",
    "filtered_arr1 = arr1[mask]\n",
    "print(\"Filtered arr1:\", filtered_arr1)\n",
    "filtered_arr1"
   ]
  },
  {
   "cell_type": "code",
   "execution_count": null,
   "metadata": {},
   "outputs": [
    {
     "name": "stdout",
     "output_type": "stream",
     "text": [
      "Memory consumed by arr1: 20 bytes\n",
      "Memory consumed by arr2: 40 bytes\n"
     ]
    }
   ],
   "source": [
    "# 9. Calculate memory consumed by arr1 and arr2\n",
    "print(\"Memory consumed by arr1:\", arr1.nbytes, \"bytes\")\n",
    "print(\"Memory consumed by arr2:\", arr2.nbytes, \"bytes\")"
   ]
  },
  {
   "cell_type": "code",
   "execution_count": null,
   "metadata": {},
   "outputs": [
    {
     "data": {
      "text/plain": [
       "array([0., 0., 0., 0., 0.], dtype=float32)"
      ]
     },
     "metadata": {},
     "output_type": "display_data"
    }
   ],
   "source": [
    "# 10. Create arr3 with the same shape as arr1 but with float32 data type\n",
    "arr3 = np.zeros_like(arr1, dtype=np.float32)\n",
    "arr3"
   ]
  }
 ],
 "metadata": {
  "language_info": {
   "name": "python"
  }
 },
 "nbformat": 4,
 "nbformat_minor": 2
}
