{
 "cells": [
  {
   "cell_type": "markdown",
   "metadata": {},
   "source": [
    "## [Practice Exercise: Broadcasting in NumPy](#)"
   ]
  },
  {
   "cell_type": "markdown",
   "metadata": {},
   "source": [
    "In this exercise, you will apply your knowledge of broadcasting to perform various array operations using NumPy.\n",
    "\n",
    "1. Create a 2D NumPy array `arr1` with shape `(3, 4)` filled with random integers between 1 and 10 (inclusive).\n",
    "\n",
    "2. Create a 1D NumPy array `arr2` with shape `(4,)` filled with the values `[2, 4, 6, 8]`.\n",
    "\n",
    "3. Perform element-wise addition between `arr1` and `arr2` using broadcasting and store the result in a new array `result1`.\n",
    "\n",
    "4. Create a 2D NumPy array `arr3` with shape `(3, 1)` filled with the values `[10, 20, 30]`.\n",
    "\n",
    "5. Perform element-wise multiplication between `arr1` and `arr3` using broadcasting and store the result in a new array `result2`.\n",
    "\n",
    "6. Create a scalar value `scalar` with the value 5.\n",
    "\n",
    "7. Subtract `scalar` from each element of `result1` using broadcasting and store the result in a new array `result3`.\n",
    "\n",
    "8. Print the arrays `result1`, `result2`, and `result3`.\n"
   ]
  },
  {
   "cell_type": "markdown",
   "metadata": {},
   "source": [
    "### [Solution](#)\n"
   ]
  },
  {
   "cell_type": "markdown",
   "metadata": {},
   "source": [
    "Here's the solution to the practice exercise:\n"
   ]
  },
  {
   "cell_type": "code",
   "execution_count": null,
   "metadata": {},
   "outputs": [],
   "source": [
    "import numpy as np"
   ]
  },
  {
   "cell_type": "code",
   "execution_count": null,
   "metadata": {},
   "outputs": [
    {
     "name": "stdout",
     "output_type": "stream",
     "text": [
      "arr1:\n",
      "[[6 9 9 1]\n",
      " [9 8 5 4]\n",
      " [9 5 9 3]]\n"
     ]
    }
   ],
   "source": [
    "# 1. Create arr1 with shape (3, 4) filled with random integers between 1 and 10\n",
    "arr1 = np.random.randint(1, 11, size=(3, 4))\n",
    "print(\"arr1:\")\n",
    "print(arr1)"
   ]
  },
  {
   "cell_type": "code",
   "execution_count": null,
   "metadata": {},
   "outputs": [
    {
     "name": "stdout",
     "output_type": "stream",
     "text": [
      "\n",
      "arr2:\n",
      "[2 4 6 8]\n"
     ]
    }
   ],
   "source": [
    "# 2. Create arr2 with shape (4,) filled with the values [2, 4, 6, 8]\n",
    "arr2 = np.array([2, 4, 6, 8])\n",
    "print(\"\\narr2:\")\n",
    "print(arr2)"
   ]
  },
  {
   "cell_type": "code",
   "execution_count": null,
   "metadata": {},
   "outputs": [
    {
     "name": "stdout",
     "output_type": "stream",
     "text": [
      "\n",
      "result1:\n",
      "[[ 8 13 15  9]\n",
      " [11 12 11 12]\n",
      " [11  9 15 11]]\n"
     ]
    }
   ],
   "source": [
    "# 3. Perform element-wise addition between arr1 and arr2 using broadcasting\n",
    "result1 = arr1 + arr2\n",
    "print(\"\\nresult1:\")\n",
    "print(result1)"
   ]
  },
  {
   "cell_type": "code",
   "execution_count": null,
   "metadata": {},
   "outputs": [
    {
     "name": "stdout",
     "output_type": "stream",
     "text": [
      "\n",
      "arr3:\n",
      "[[10]\n",
      " [20]\n",
      " [30]]\n"
     ]
    }
   ],
   "source": [
    "# 4. Create arr3 with shape (3, 1) filled with the values [10, 20, 30]\n",
    "arr3 = np.array([[10], [20], [30]])\n",
    "print(\"\\narr3:\")\n",
    "print(arr3)"
   ]
  },
  {
   "cell_type": "code",
   "execution_count": null,
   "metadata": {},
   "outputs": [
    {
     "name": "stdout",
     "output_type": "stream",
     "text": [
      "\n",
      "result2:\n",
      "[[ 60  90  90  10]\n",
      " [180 160 100  80]\n",
      " [270 150 270  90]]\n"
     ]
    }
   ],
   "source": [
    "# 5. Perform element-wise multiplication between arr1 and arr3 using broadcasting\n",
    "result2 = arr1 * arr3\n",
    "print(\"\\nresult2:\")\n",
    "print(result2)"
   ]
  },
  {
   "cell_type": "code",
   "execution_count": null,
   "metadata": {},
   "outputs": [],
   "source": [
    "# 6. Create a scalar value scalar with the value 5\n",
    "scalar = 5"
   ]
  },
  {
   "cell_type": "code",
   "execution_count": null,
   "metadata": {},
   "outputs": [
    {
     "name": "stdout",
     "output_type": "stream",
     "text": [
      "\n",
      "result3:\n",
      "[[ 3  8 10  4]\n",
      " [ 6  7  6  7]\n",
      " [ 6  4 10  6]]\n"
     ]
    }
   ],
   "source": [
    "# 7. Subtract scalar from each element of result1 using broadcasting\n",
    "result3 = result1 - scalar\n",
    "print(\"\\nresult3:\")\n",
    "print(result3)"
   ]
  },
  {
   "cell_type": "markdown",
   "metadata": {},
   "source": [
    "In this solution, we create the arrays `arr1`, `arr2`, and `arr3` according to the instructions. We then perform the specified broadcasting operations to obtain `result1`, `result2`, and `result3`. Finally, we print the resulting arrays.\n"
   ]
  },
  {
   "cell_type": "markdown",
   "metadata": {},
   "source": [
    "This exercise helps you practice applying broadcasting rules to perform element-wise operations between arrays of different shapes and between arrays and scalars."
   ]
  }
 ],
 "metadata": {
  "language_info": {
   "name": "python"
  }
 },
 "nbformat": 4,
 "nbformat_minor": 2
}
